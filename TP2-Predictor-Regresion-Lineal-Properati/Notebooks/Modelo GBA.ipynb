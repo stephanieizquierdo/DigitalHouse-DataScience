{
 "cells": [
  {
   "cell_type": "code",
   "execution_count": 1,
   "metadata": {},
   "outputs": [],
   "source": [
    "import numpy as np\n",
    "import pandas as pd\n",
    "import seaborn as sns\n",
    "import matplotlib.pyplot as plt\n",
    "from sklearn import preprocessing\n",
    "from sklearn.model_selection import train_test_split, KFold, cross_val_score\n",
    "from sklearn import linear_model\n",
    "from sklearn.linear_model import LinearRegression, Lasso, LassoCV, Ridge, RidgeCV, ElasticNet, ElasticNetCV\n",
    "from sklearn.linear_model import ElasticNetCV\n",
    "from sklearn.preprocessing import PolynomialFeatures, StandardScaler\n",
    "from sklearn.metrics import mean_squared_error, r2_score, accuracy_score, mean_absolute_error\n",
    "from sklearn.model_selection import train_test_split, KFold, cross_val_score\n",
    "\n",
    "from sklearn.preprocessing import PolynomialFeatures\n"
   ]
  },
  {
   "cell_type": "code",
   "execution_count": 2,
   "metadata": {},
   "outputs": [],
   "source": [
    "data_gba=pd.read_csv('../Data/data_todo_gba.csv',index_col=0)"
   ]
  },
  {
   "cell_type": "markdown",
   "metadata": {},
   "source": []
  },
  {
   "cell_type": "markdown",
   "metadata": {},
   "source": [
    "<h1><font color='red'>Modelo GBA \"Full Dummies\"</font></h1>\n"
   ]
  },
  {
   "cell_type": "markdown",
   "metadata": {},
   "source": [
    "En este modelo se incluirán las dummies por Localidades. Se dejarán de lado las correspondientes a zonas que han sido probadas en forma previa y resultaron no aportar a la performance del modelo"
   ]
  },
  {
   "cell_type": "code",
   "execution_count": 3,
   "metadata": {},
   "outputs": [
    {
     "data": {
      "text/html": [
       "<div>\n",
       "<style scoped>\n",
       "    .dataframe tbody tr th:only-of-type {\n",
       "        vertical-align: middle;\n",
       "    }\n",
       "\n",
       "    .dataframe tbody tr th {\n",
       "        vertical-align: top;\n",
       "    }\n",
       "\n",
       "    .dataframe thead th {\n",
       "        text-align: right;\n",
       "    }\n",
       "</style>\n",
       "<table border=\"1\" class=\"dataframe\">\n",
       "  <thead>\n",
       "    <tr style=\"text-align: right;\">\n",
       "      <th></th>\n",
       "      <th>tipo_propiedad</th>\n",
       "      <th>Provincia</th>\n",
       "      <th>Zona</th>\n",
       "      <th>Localidad</th>\n",
       "      <th>Barrio</th>\n",
       "      <th>place_name</th>\n",
       "      <th>cochera</th>\n",
       "      <th>gimnasio</th>\n",
       "      <th>piscina</th>\n",
       "      <th>SUM</th>\n",
       "      <th>...</th>\n",
       "      <th>balcon</th>\n",
       "      <th>patio</th>\n",
       "      <th>parrilla</th>\n",
       "      <th>floor</th>\n",
       "      <th>rooms</th>\n",
       "      <th>price_usd</th>\n",
       "      <th>sup_cub</th>\n",
       "      <th>sup_descub</th>\n",
       "      <th>sup_total</th>\n",
       "      <th>price_usd_per_m2</th>\n",
       "    </tr>\n",
       "  </thead>\n",
       "  <tbody>\n",
       "    <tr>\n",
       "      <th>0</th>\n",
       "      <td>PH</td>\n",
       "      <td>Bs.As. G.B.A. Zona Norte</td>\n",
       "      <td>GBA</td>\n",
       "      <td>Vicente López</td>\n",
       "      <td>Munro</td>\n",
       "      <td>Munro</td>\n",
       "      <td>0.0</td>\n",
       "      <td>0.0</td>\n",
       "      <td>0.0</td>\n",
       "      <td>0.0</td>\n",
       "      <td>...</td>\n",
       "      <td>0.0</td>\n",
       "      <td>1.0</td>\n",
       "      <td>0.0</td>\n",
       "      <td>0.0</td>\n",
       "      <td>3.0</td>\n",
       "      <td>130000.0</td>\n",
       "      <td>78.00</td>\n",
       "      <td>28.00</td>\n",
       "      <td>106.0</td>\n",
       "      <td>1226.415094</td>\n",
       "    </tr>\n",
       "    <tr>\n",
       "      <th>1</th>\n",
       "      <td>apartment</td>\n",
       "      <td>Bs.As. G.B.A. Zona Norte</td>\n",
       "      <td>GBA</td>\n",
       "      <td>San Isidro</td>\n",
       "      <td>Martínez</td>\n",
       "      <td>Martínez</td>\n",
       "      <td>0.0</td>\n",
       "      <td>0.0</td>\n",
       "      <td>0.0</td>\n",
       "      <td>0.0</td>\n",
       "      <td>...</td>\n",
       "      <td>1.0</td>\n",
       "      <td>0.0</td>\n",
       "      <td>0.0</td>\n",
       "      <td>NaN</td>\n",
       "      <td>2.0</td>\n",
       "      <td>115000.0</td>\n",
       "      <td>36.00</td>\n",
       "      <td>3.00</td>\n",
       "      <td>39.0</td>\n",
       "      <td>2948.717949</td>\n",
       "    </tr>\n",
       "    <tr>\n",
       "      <th>2</th>\n",
       "      <td>house</td>\n",
       "      <td>Bs.As. G.B.A. Zona Norte</td>\n",
       "      <td>GBA</td>\n",
       "      <td>San Miguel</td>\n",
       "      <td>Bella Vista</td>\n",
       "      <td>Bella vista</td>\n",
       "      <td>1.0</td>\n",
       "      <td>0.0</td>\n",
       "      <td>0.0</td>\n",
       "      <td>0.0</td>\n",
       "      <td>...</td>\n",
       "      <td>0.0</td>\n",
       "      <td>1.0</td>\n",
       "      <td>0.0</td>\n",
       "      <td>0.0</td>\n",
       "      <td>4.0</td>\n",
       "      <td>250000.0</td>\n",
       "      <td>115.23</td>\n",
       "      <td>48.77</td>\n",
       "      <td>164.0</td>\n",
       "      <td>1524.390244</td>\n",
       "    </tr>\n",
       "    <tr>\n",
       "      <th>3</th>\n",
       "      <td>house</td>\n",
       "      <td>Bs.As. G.B.A. Zona Norte</td>\n",
       "      <td>GBA</td>\n",
       "      <td>Tigre</td>\n",
       "      <td>NaN</td>\n",
       "      <td>Tigre</td>\n",
       "      <td>0.0</td>\n",
       "      <td>0.0</td>\n",
       "      <td>1.0</td>\n",
       "      <td>0.0</td>\n",
       "      <td>...</td>\n",
       "      <td>0.0</td>\n",
       "      <td>0.0</td>\n",
       "      <td>0.0</td>\n",
       "      <td>0.0</td>\n",
       "      <td>4.0</td>\n",
       "      <td>570000.0</td>\n",
       "      <td>270.00</td>\n",
       "      <td>0.00</td>\n",
       "      <td>270.0</td>\n",
       "      <td>2111.111111</td>\n",
       "    </tr>\n",
       "    <tr>\n",
       "      <th>4</th>\n",
       "      <td>house</td>\n",
       "      <td>Bs.As. G.B.A. Zona Oeste</td>\n",
       "      <td>GBA</td>\n",
       "      <td>General Rodríguez</td>\n",
       "      <td>NaN</td>\n",
       "      <td>General rodríguez</td>\n",
       "      <td>0.0</td>\n",
       "      <td>0.0</td>\n",
       "      <td>1.0</td>\n",
       "      <td>1.0</td>\n",
       "      <td>...</td>\n",
       "      <td>0.0</td>\n",
       "      <td>1.0</td>\n",
       "      <td>1.0</td>\n",
       "      <td>0.0</td>\n",
       "      <td>4.0</td>\n",
       "      <td>290000.0</td>\n",
       "      <td>200.00</td>\n",
       "      <td>0.00</td>\n",
       "      <td>200.0</td>\n",
       "      <td>1450.000000</td>\n",
       "    </tr>\n",
       "  </tbody>\n",
       "</table>\n",
       "<p>5 rows × 21 columns</p>\n",
       "</div>"
      ],
      "text/plain": [
       "  tipo_propiedad                 Provincia Zona          Localidad  \\\n",
       "0             PH  Bs.As. G.B.A. Zona Norte  GBA      Vicente López   \n",
       "1      apartment  Bs.As. G.B.A. Zona Norte  GBA         San Isidro   \n",
       "2          house  Bs.As. G.B.A. Zona Norte  GBA         San Miguel   \n",
       "3          house  Bs.As. G.B.A. Zona Norte  GBA              Tigre   \n",
       "4          house  Bs.As. G.B.A. Zona Oeste  GBA  General Rodríguez   \n",
       "\n",
       "        Barrio         place_name  cochera  gimnasio  piscina  SUM  ...  \\\n",
       "0        Munro              Munro      0.0       0.0      0.0  0.0  ...   \n",
       "1     Martínez           Martínez      0.0       0.0      0.0  0.0  ...   \n",
       "2  Bella Vista        Bella vista      1.0       0.0      0.0  0.0  ...   \n",
       "3          NaN              Tigre      0.0       0.0      1.0  0.0  ...   \n",
       "4          NaN  General rodríguez      0.0       0.0      1.0  1.0  ...   \n",
       "\n",
       "   balcon  patio  parrilla  floor  rooms  price_usd  sup_cub  sup_descub  \\\n",
       "0     0.0    1.0       0.0    0.0    3.0   130000.0    78.00       28.00   \n",
       "1     1.0    0.0       0.0    NaN    2.0   115000.0    36.00        3.00   \n",
       "2     0.0    1.0       0.0    0.0    4.0   250000.0   115.23       48.77   \n",
       "3     0.0    0.0       0.0    0.0    4.0   570000.0   270.00        0.00   \n",
       "4     0.0    1.0       1.0    0.0    4.0   290000.0   200.00        0.00   \n",
       "\n",
       "   sup_total  price_usd_per_m2  \n",
       "0      106.0       1226.415094  \n",
       "1       39.0       2948.717949  \n",
       "2      164.0       1524.390244  \n",
       "3      270.0       2111.111111  \n",
       "4      200.0       1450.000000  \n",
       "\n",
       "[5 rows x 21 columns]"
      ]
     },
     "execution_count": 3,
     "metadata": {},
     "output_type": "execute_result"
    }
   ],
   "source": [
    "data_gba.head()"
   ]
  },
  {
   "cell_type": "code",
   "execution_count": 4,
   "metadata": {},
   "outputs": [
    {
     "name": "stdout",
     "output_type": "stream",
     "text": [
      "<class 'pandas.core.frame.DataFrame'>\n",
      "Int64Index: 20424 entries, 0 to 20423\n",
      "Data columns (total 21 columns):\n",
      "tipo_propiedad      20424 non-null object\n",
      "Provincia           20424 non-null object\n",
      "Zona                20424 non-null object\n",
      "Localidad           20276 non-null object\n",
      "Barrio              14478 non-null object\n",
      "place_name          20424 non-null object\n",
      "cochera             20424 non-null float64\n",
      "gimnasio            20424 non-null float64\n",
      "piscina             20424 non-null float64\n",
      "SUM                 20424 non-null float64\n",
      "laundry             20424 non-null float64\n",
      "balcon              20424 non-null float64\n",
      "patio               20424 non-null float64\n",
      "parrilla            20424 non-null float64\n",
      "floor               15480 non-null float64\n",
      "rooms               20424 non-null float64\n",
      "price_usd           20424 non-null float64\n",
      "sup_cub             18003 non-null float64\n",
      "sup_descub          16314 non-null float64\n",
      "sup_total           18735 non-null float64\n",
      "price_usd_per_m2    20424 non-null float64\n",
      "dtypes: float64(15), object(6)\n",
      "memory usage: 3.4+ MB\n"
     ]
    }
   ],
   "source": [
    "data_gba.info()"
   ]
  },
  {
   "cell_type": "code",
   "execution_count": 5,
   "metadata": {},
   "outputs": [
    {
     "data": {
      "text/plain": [
       "Index(['tipo_propiedad', 'Provincia', 'Zona', 'Localidad', 'Barrio',\n",
       "       'place_name', 'cochera', 'gimnasio', 'piscina', 'SUM', 'laundry',\n",
       "       'balcon', 'patio', 'parrilla', 'floor', 'rooms', 'price_usd', 'sup_cub',\n",
       "       'sup_descub', 'sup_total', 'price_usd_per_m2'],\n",
       "      dtype='object')"
      ]
     },
     "execution_count": 5,
     "metadata": {},
     "output_type": "execute_result"
    }
   ],
   "source": [
    "data_gba.columns"
   ]
  },
  {
   "cell_type": "code",
   "execution_count": 6,
   "metadata": {},
   "outputs": [
    {
     "data": {
      "text/plain": [
       "Series([], Name: Localidad, dtype: int64)"
      ]
     },
     "execution_count": 6,
     "metadata": {},
     "output_type": "execute_result"
    }
   ],
   "source": [
    "data_gba.loc[data_gba[\"sup_cub\"]>data_gba[\"sup_total\"], \"Localidad\"].value_counts()"
   ]
  },
  {
   "cell_type": "code",
   "execution_count": 7,
   "metadata": {},
   "outputs": [
    {
     "name": "stdout",
     "output_type": "stream",
     "text": [
      "Se va a dropear 0 por error en superficies.\n"
     ]
    }
   ],
   "source": [
    "sup_invertidas_drop = data_gba.loc[(data_gba['sup_cub'])>(data_gba['sup_total'])].index\n",
    "print(\"Se va a dropear {} por error en superficies.\".format(sup_invertidas_drop.size))\n",
    "#data_gba.drop(index=sup_invertidas_drop,inplace=True)"
   ]
  },
  {
   "cell_type": "code",
   "execution_count": 8,
   "metadata": {},
   "outputs": [],
   "source": [
    "data_gba.drop(index=sup_invertidas_drop,inplace=True)"
   ]
  },
  {
   "cell_type": "markdown",
   "metadata": {},
   "source": [
    "Distribución de los Datos"
   ]
  },
  {
   "cell_type": "code",
   "execution_count": 9,
   "metadata": {},
   "outputs": [
    {
     "data": {
      "image/png": "[encoded data removed]",
      "text/plain": [
       "<Figure size 1440x1440 with 6 Axes>"
      ]
     },
     "metadata": {
      "needs_background": "light"
     },
     "output_type": "display_data"
    }
   ],
   "source": [
    "data_gba.loc[data_gba[\"tipo_propiedad\"].notna(), ['sup_cub','tipo_propiedad','sup_total','price_usd_per_m2', 'rooms', 'floor']].hist(bins=70, figsize=(20,20))\n",
    "plt.show()"
   ]
  },
  {
   "cell_type": "markdown",
   "metadata": {},
   "source": [
    "ploteamos los atributos numéricos del modelo (exceptuando por lógica las variables dummies) . Queda claro que las variables tienen cada una su propia escala, por ello en un par de pasos mas adelante avanzaremos con la normalización de datos"
   ]
  },
  {
   "cell_type": "code",
   "execution_count": 10,
   "metadata": {},
   "outputs": [
    {
     "data": {
      "text/plain": [
       "(20424, 21)"
      ]
     },
     "execution_count": 10,
     "metadata": {},
     "output_type": "execute_result"
    }
   ],
   "source": [
    "data_gba.shape"
   ]
  },
  {
   "cell_type": "code",
   "execution_count": 11,
   "metadata": {},
   "outputs": [
    {
     "data": {
      "text/plain": [
       "tipo_propiedad         0\n",
       "Provincia              0\n",
       "Zona                   0\n",
       "Localidad            148\n",
       "Barrio              5946\n",
       "place_name             0\n",
       "cochera                0\n",
       "gimnasio               0\n",
       "piscina                0\n",
       "SUM                    0\n",
       "laundry                0\n",
       "balcon                 0\n",
       "patio                  0\n",
       "parrilla               0\n",
       "floor               4944\n",
       "rooms                  0\n",
       "price_usd              0\n",
       "sup_cub             2421\n",
       "sup_descub          4110\n",
       "sup_total           1689\n",
       "price_usd_per_m2       0\n",
       "dtype: int64"
      ]
     },
     "execution_count": 11,
     "metadata": {},
     "output_type": "execute_result"
    }
   ],
   "source": [
    "data_gba.isna().sum()"
   ]
  },
  {
   "cell_type": "markdown",
   "metadata": {},
   "source": [
    "Para GBA vamos a trabajar a nivel Localidad. Revisamos si se pueden recuperar los datos faltantes de localidad acudiendo al Barrio"
   ]
  },
  {
   "cell_type": "code",
   "execution_count": 12,
   "metadata": {},
   "outputs": [
    {
     "data": {
      "text/html": [
       "<div>\n",
       "<style scoped>\n",
       "    .dataframe tbody tr th:only-of-type {\n",
       "        vertical-align: middle;\n",
       "    }\n",
       "\n",
       "    .dataframe tbody tr th {\n",
       "        vertical-align: top;\n",
       "    }\n",
       "\n",
       "    .dataframe thead th {\n",
       "        text-align: right;\n",
       "    }\n",
       "</style>\n",
       "<table border=\"1\" class=\"dataframe\">\n",
       "  <thead>\n",
       "    <tr style=\"text-align: right;\">\n",
       "      <th></th>\n",
       "      <th>tipo_propiedad</th>\n",
       "      <th>Provincia</th>\n",
       "      <th>Zona</th>\n",
       "      <th>Localidad</th>\n",
       "      <th>Barrio</th>\n",
       "      <th>place_name</th>\n",
       "      <th>cochera</th>\n",
       "      <th>gimnasio</th>\n",
       "      <th>piscina</th>\n",
       "      <th>SUM</th>\n",
       "      <th>...</th>\n",
       "      <th>balcon</th>\n",
       "      <th>patio</th>\n",
       "      <th>parrilla</th>\n",
       "      <th>floor</th>\n",
       "      <th>rooms</th>\n",
       "      <th>price_usd</th>\n",
       "      <th>sup_cub</th>\n",
       "      <th>sup_descub</th>\n",
       "      <th>sup_total</th>\n",
       "      <th>price_usd_per_m2</th>\n",
       "    </tr>\n",
       "  </thead>\n",
       "  <tbody>\n",
       "  </tbody>\n",
       "</table>\n",
       "<p>0 rows × 21 columns</p>\n",
       "</div>"
      ],
      "text/plain": [
       "Empty DataFrame\n",
       "Columns: [tipo_propiedad, Provincia, Zona, Localidad, Barrio, place_name, cochera, gimnasio, piscina, SUM, laundry, balcon, patio, parrilla, floor, rooms, price_usd, sup_cub, sup_descub, sup_total, price_usd_per_m2]\n",
       "Index: []\n",
       "\n",
       "[0 rows x 21 columns]"
      ]
     },
     "execution_count": 12,
     "metadata": {},
     "output_type": "execute_result"
    }
   ],
   "source": [
    "data_gba.loc[(data_gba['Localidad'].isna())&(data_gba[\"Barrio\"].notnull())]"
   ]
  },
  {
   "cell_type": "code",
   "execution_count": 13,
   "metadata": {},
   "outputs": [],
   "source": [
    "cols_drop = ['Zona','place_name','price_usd','Barrio']\n",
    "data_gba.drop(columns=cols_drop,inplace=True)"
   ]
  },
  {
   "cell_type": "code",
   "execution_count": 14,
   "metadata": {},
   "outputs": [
    {
     "data": {
      "text/plain": [
       "tipo_propiedad         0\n",
       "Provincia              0\n",
       "Localidad              0\n",
       "cochera                0\n",
       "gimnasio               0\n",
       "piscina                0\n",
       "SUM                    0\n",
       "laundry                0\n",
       "balcon                 0\n",
       "patio                  0\n",
       "parrilla               0\n",
       "floor               4944\n",
       "rooms                  0\n",
       "sup_cub             2413\n",
       "sup_descub          4089\n",
       "sup_total           1676\n",
       "price_usd_per_m2       0\n",
       "dtype: int64"
      ]
     },
     "execution_count": 14,
     "metadata": {},
     "output_type": "execute_result"
    }
   ],
   "source": [
    "localidad_drop = data_gba.loc[data_gba['Localidad'].isna()].index\n",
    "data_gba.drop(index=localidad_drop,inplace=True)\n",
    "data_gba.isna().sum()"
   ]
  },
  {
   "cell_type": "code",
   "execution_count": 15,
   "metadata": {},
   "outputs": [
    {
     "data": {
      "text/plain": [
       "tipo_propiedad      20276\n",
       "Provincia           20276\n",
       "Localidad           20276\n",
       "cochera             20276\n",
       "gimnasio            20276\n",
       "piscina             20276\n",
       "SUM                 20276\n",
       "laundry             20276\n",
       "balcon              20276\n",
       "patio               20276\n",
       "parrilla            20276\n",
       "floor               15332\n",
       "rooms               20276\n",
       "sup_cub             17863\n",
       "sup_descub          16187\n",
       "sup_total           18600\n",
       "price_usd_per_m2    20276\n",
       "dtype: int64"
      ]
     },
     "execution_count": 15,
     "metadata": {},
     "output_type": "execute_result"
    }
   ],
   "source": [
    "data_gba.notnull().sum()"
   ]
  },
  {
   "cell_type": "markdown",
   "metadata": {},
   "source": [
    "# Creación de Variables Dummies"
   ]
  },
  {
   "cell_type": "markdown",
   "metadata": {},
   "source": [
    "De las features Tipo de Propiedad y Localidad se generarán las variables dummies. Ya aclaramos que no utilizaremos las correspondientes a provincia (para identificar la zona) debido a que no aportaban al modelo"
   ]
  },
  {
   "cell_type": "code",
   "execution_count": 16,
   "metadata": {
    "scrolled": true
   },
   "outputs": [],
   "source": [
    "def add_dummy_vars(df,cat_vars):\n",
    "    df_dummy = pd.get_dummies(df[cat_vars],drop_first=True,dtype=np.float64)\n",
    "    df = pd.concat([df,df_dummy],axis=1)\n",
    "    return df"
   ]
  },
  {
   "cell_type": "code",
   "execution_count": 17,
   "metadata": {},
   "outputs": [
    {
     "data": {
      "text/html": [
       "<div>\n",
       "<style scoped>\n",
       "    .dataframe tbody tr th:only-of-type {\n",
       "        vertical-align: middle;\n",
       "    }\n",
       "\n",
       "    .dataframe tbody tr th {\n",
       "        vertical-align: top;\n",
       "    }\n",
       "\n",
       "    .dataframe thead th {\n",
       "        text-align: right;\n",
       "    }\n",
       "</style>\n",
       "<table border=\"1\" class=\"dataframe\">\n",
       "  <thead>\n",
       "    <tr style=\"text-align: right;\">\n",
       "      <th></th>\n",
       "      <th>tipo_propiedad</th>\n",
       "      <th>Provincia</th>\n",
       "      <th>Localidad</th>\n",
       "      <th>cochera</th>\n",
       "      <th>gimnasio</th>\n",
       "      <th>piscina</th>\n",
       "      <th>SUM</th>\n",
       "      <th>laundry</th>\n",
       "      <th>balcon</th>\n",
       "      <th>patio</th>\n",
       "      <th>...</th>\n",
       "      <th>Localidad_Pilar</th>\n",
       "      <th>Localidad_Presidente Perón</th>\n",
       "      <th>Localidad_Quilmes</th>\n",
       "      <th>Localidad_San Fernando</th>\n",
       "      <th>Localidad_San Isidro</th>\n",
       "      <th>Localidad_San Miguel</th>\n",
       "      <th>Localidad_San Vicente</th>\n",
       "      <th>Localidad_Tigre</th>\n",
       "      <th>Localidad_Tres de Febrero</th>\n",
       "      <th>Localidad_Vicente López</th>\n",
       "    </tr>\n",
       "  </thead>\n",
       "  <tbody>\n",
       "    <tr>\n",
       "      <th>0</th>\n",
       "      <td>PH</td>\n",
       "      <td>Bs.As. G.B.A. Zona Norte</td>\n",
       "      <td>Vicente López</td>\n",
       "      <td>0.0</td>\n",
       "      <td>0.0</td>\n",
       "      <td>0.0</td>\n",
       "      <td>0.0</td>\n",
       "      <td>1.0</td>\n",
       "      <td>0.0</td>\n",
       "      <td>1.0</td>\n",
       "      <td>...</td>\n",
       "      <td>0.0</td>\n",
       "      <td>0.0</td>\n",
       "      <td>0.0</td>\n",
       "      <td>0.0</td>\n",
       "      <td>0.0</td>\n",
       "      <td>0.0</td>\n",
       "      <td>0.0</td>\n",
       "      <td>0.0</td>\n",
       "      <td>0.0</td>\n",
       "      <td>1.0</td>\n",
       "    </tr>\n",
       "    <tr>\n",
       "      <th>1</th>\n",
       "      <td>apartment</td>\n",
       "      <td>Bs.As. G.B.A. Zona Norte</td>\n",
       "      <td>San Isidro</td>\n",
       "      <td>0.0</td>\n",
       "      <td>0.0</td>\n",
       "      <td>0.0</td>\n",
       "      <td>0.0</td>\n",
       "      <td>0.0</td>\n",
       "      <td>1.0</td>\n",
       "      <td>0.0</td>\n",
       "      <td>...</td>\n",
       "      <td>0.0</td>\n",
       "      <td>0.0</td>\n",
       "      <td>0.0</td>\n",
       "      <td>0.0</td>\n",
       "      <td>1.0</td>\n",
       "      <td>0.0</td>\n",
       "      <td>0.0</td>\n",
       "      <td>0.0</td>\n",
       "      <td>0.0</td>\n",
       "      <td>0.0</td>\n",
       "    </tr>\n",
       "    <tr>\n",
       "      <th>2</th>\n",
       "      <td>house</td>\n",
       "      <td>Bs.As. G.B.A. Zona Norte</td>\n",
       "      <td>San Miguel</td>\n",
       "      <td>1.0</td>\n",
       "      <td>0.0</td>\n",
       "      <td>0.0</td>\n",
       "      <td>0.0</td>\n",
       "      <td>0.0</td>\n",
       "      <td>0.0</td>\n",
       "      <td>1.0</td>\n",
       "      <td>...</td>\n",
       "      <td>0.0</td>\n",
       "      <td>0.0</td>\n",
       "      <td>0.0</td>\n",
       "      <td>0.0</td>\n",
       "      <td>0.0</td>\n",
       "      <td>1.0</td>\n",
       "      <td>0.0</td>\n",
       "      <td>0.0</td>\n",
       "      <td>0.0</td>\n",
       "      <td>0.0</td>\n",
       "    </tr>\n",
       "    <tr>\n",
       "      <th>3</th>\n",
       "      <td>house</td>\n",
       "      <td>Bs.As. G.B.A. Zona Norte</td>\n",
       "      <td>Tigre</td>\n",
       "      <td>0.0</td>\n",
       "      <td>0.0</td>\n",
       "      <td>1.0</td>\n",
       "      <td>0.0</td>\n",
       "      <td>1.0</td>\n",
       "      <td>0.0</td>\n",
       "      <td>0.0</td>\n",
       "      <td>...</td>\n",
       "      <td>0.0</td>\n",
       "      <td>0.0</td>\n",
       "      <td>0.0</td>\n",
       "      <td>0.0</td>\n",
       "      <td>0.0</td>\n",
       "      <td>0.0</td>\n",
       "      <td>0.0</td>\n",
       "      <td>1.0</td>\n",
       "      <td>0.0</td>\n",
       "      <td>0.0</td>\n",
       "    </tr>\n",
       "    <tr>\n",
       "      <th>4</th>\n",
       "      <td>house</td>\n",
       "      <td>Bs.As. G.B.A. Zona Oeste</td>\n",
       "      <td>General Rodríguez</td>\n",
       "      <td>0.0</td>\n",
       "      <td>0.0</td>\n",
       "      <td>1.0</td>\n",
       "      <td>1.0</td>\n",
       "      <td>1.0</td>\n",
       "      <td>0.0</td>\n",
       "      <td>1.0</td>\n",
       "      <td>...</td>\n",
       "      <td>0.0</td>\n",
       "      <td>0.0</td>\n",
       "      <td>0.0</td>\n",
       "      <td>0.0</td>\n",
       "      <td>0.0</td>\n",
       "      <td>0.0</td>\n",
       "      <td>0.0</td>\n",
       "      <td>0.0</td>\n",
       "      <td>0.0</td>\n",
       "      <td>0.0</td>\n",
       "    </tr>\n",
       "  </tbody>\n",
       "</table>\n",
       "<p>5 rows × 51 columns</p>\n",
       "</div>"
      ],
      "text/plain": [
       "  tipo_propiedad                 Provincia          Localidad  cochera  \\\n",
       "0             PH  Bs.As. G.B.A. Zona Norte      Vicente López      0.0   \n",
       "1      apartment  Bs.As. G.B.A. Zona Norte         San Isidro      0.0   \n",
       "2          house  Bs.As. G.B.A. Zona Norte         San Miguel      1.0   \n",
       "3          house  Bs.As. G.B.A. Zona Norte              Tigre      0.0   \n",
       "4          house  Bs.As. G.B.A. Zona Oeste  General Rodríguez      0.0   \n",
       "\n",
       "   gimnasio  piscina  SUM  laundry  balcon  patio  ...  Localidad_Pilar  \\\n",
       "0       0.0      0.0  0.0      1.0     0.0    1.0  ...              0.0   \n",
       "1       0.0      0.0  0.0      0.0     1.0    0.0  ...              0.0   \n",
       "2       0.0      0.0  0.0      0.0     0.0    1.0  ...              0.0   \n",
       "3       0.0      1.0  0.0      1.0     0.0    0.0  ...              0.0   \n",
       "4       0.0      1.0  1.0      1.0     0.0    1.0  ...              0.0   \n",
       "\n",
       "   Localidad_Presidente Perón  Localidad_Quilmes  Localidad_San Fernando  \\\n",
       "0                         0.0                0.0                     0.0   \n",
       "1                         0.0                0.0                     0.0   \n",
       "2                         0.0                0.0                     0.0   \n",
       "3                         0.0                0.0                     0.0   \n",
       "4                         0.0                0.0                     0.0   \n",
       "\n",
       "   Localidad_San Isidro  Localidad_San Miguel  Localidad_San Vicente  \\\n",
       "0                   0.0                   0.0                    0.0   \n",
       "1                   1.0                   0.0                    0.0   \n",
       "2                   0.0                   1.0                    0.0   \n",
       "3                   0.0                   0.0                    0.0   \n",
       "4                   0.0                   0.0                    0.0   \n",
       "\n",
       "   Localidad_Tigre  Localidad_Tres de Febrero  Localidad_Vicente López  \n",
       "0              0.0                        0.0                      1.0  \n",
       "1              0.0                        0.0                      0.0  \n",
       "2              0.0                        0.0                      0.0  \n",
       "3              1.0                        0.0                      0.0  \n",
       "4              0.0                        0.0                      0.0  \n",
       "\n",
       "[5 rows x 51 columns]"
      ]
     },
     "execution_count": 17,
     "metadata": {},
     "output_type": "execute_result"
    }
   ],
   "source": [
    "cat_vars = ['tipo_propiedad',\"Localidad\"]\n",
    "data_gba = add_dummy_vars(data_gba,cat_vars)\n",
    "data_gba.head(5)"
   ]
  },
  {
   "cell_type": "code",
   "execution_count": 18,
   "metadata": {},
   "outputs": [
    {
     "data": {
      "text/plain": [
       "Index(['tipo_propiedad', 'Provincia', 'Localidad', 'cochera', 'gimnasio',\n",
       "       'piscina', 'SUM', 'laundry', 'balcon', 'patio', 'parrilla', 'floor',\n",
       "       'rooms', 'sup_cub', 'sup_descub', 'sup_total', 'price_usd_per_m2',\n",
       "       'tipo_propiedad_apartment', 'tipo_propiedad_house',\n",
       "       'tipo_propiedad_store', 'Localidad_Avellaneda', 'Localidad_Berazategui',\n",
       "       'Localidad_Cañuelas', 'Localidad_Escobar',\n",
       "       'Localidad_Esteban Echeverría', 'Localidad_Ezeiza',\n",
       "       'Localidad_Florencio Varela', 'Localidad_General Rodríguez',\n",
       "       'Localidad_General San Martín', 'Localidad_Hurlingham',\n",
       "       'Localidad_Ituzaingó', 'Localidad_José C Paz', 'Localidad_La Matanza',\n",
       "       'Localidad_La Plata', 'Localidad_Lanús', 'Localidad_Lomas de Zamora',\n",
       "       'Localidad_Malvinas Argentinas', 'Localidad_Marcos Paz',\n",
       "       'Localidad_Merlo', 'Localidad_Moreno', 'Localidad_Morón',\n",
       "       'Localidad_Pilar', 'Localidad_Presidente Perón', 'Localidad_Quilmes',\n",
       "       'Localidad_San Fernando', 'Localidad_San Isidro',\n",
       "       'Localidad_San Miguel', 'Localidad_San Vicente', 'Localidad_Tigre',\n",
       "       'Localidad_Tres de Febrero', 'Localidad_Vicente López'],\n",
       "      dtype='object')"
      ]
     },
     "execution_count": 18,
     "metadata": {},
     "output_type": "execute_result"
    }
   ],
   "source": [
    "data_gba.columns"
   ]
  },
  {
   "cell_type": "markdown",
   "metadata": {},
   "source": [
    "# División del dataset en Entrenamiento y Testeo"
   ]
  },
  {
   "cell_type": "markdown",
   "metadata": {},
   "source": [
    "Vamos a utilizar un 25% del dataset para testeo."
   ]
  },
  {
   "cell_type": "code",
   "execution_count": 155,
   "metadata": {},
   "outputs": [
    {
     "name": "stdout",
     "output_type": "stream",
     "text": [
      "data GBA train shape: (15207, 52)\n",
      "data GBA test shape: (5069, 52)\n"
     ]
    }
   ],
   "source": [
    "data_gba_train, data_gba_test = train_test_split(data_gba,test_size=0.25,shuffle=True,random_state=10)#,stratify=data_gba['Localidad'])\n",
    "data_gba_train = data_gba_train.copy()\n",
    "data_gba_test = data_gba_test.copy() \n",
    "print(\"data GBA train shape: {}\".format(data_gba_train.shape))\n",
    "print(\"data GBA test shape: {}\".format(data_gba_test.shape))"
   ]
  },
  {
   "cell_type": "markdown",
   "metadata": {},
   "source": [
    "# Imputaciones en set de Entrenamiento\n",
    "\n",
    "Se imputarán los valores faltantes del set de entrenamiento mediante alguna estrategia por tendencia central. Esos valores se guardarán para completar con el mismo criterio en el set de testeo (con los valores obtenidos del set de entrenamiento).\n",
    "\n",
    "- Columna 'floor': se completa por la mediana por lugar.\n",
    "- Columnas de Superficie Cubierta y Total: Se calcula un índice de construcción:\n",
    "\n",
    "$Construction\\:Index = \\frac{Superficie\\:Cubierta}{Superficie\\:Total}$\n",
    "\n",
    "Luego se calcula la media de este índice de construcción por barrio, y se imputa mediante esta media de construcción."
   ]
  },
  {
   "cell_type": "markdown",
   "metadata": {},
   "source": [
    "## Imputación del número de piso ('floor')"
   ]
  },
  {
   "cell_type": "code",
   "execution_count": 20,
   "metadata": {},
   "outputs": [
    {
     "data": {
      "text/plain": [
       "3713"
      ]
     },
     "execution_count": 20,
     "metadata": {},
     "output_type": "execute_result"
    }
   ],
   "source": [
    "data_gba_train['floor'].isna().sum()"
   ]
  },
  {
   "cell_type": "code",
   "execution_count": 21,
   "metadata": {
    "scrolled": false
   },
   "outputs": [
    {
     "data": {
      "text/html": [
       "<div>\n",
       "<style scoped>\n",
       "    .dataframe tbody tr th:only-of-type {\n",
       "        vertical-align: middle;\n",
       "    }\n",
       "\n",
       "    .dataframe tbody tr th {\n",
       "        vertical-align: top;\n",
       "    }\n",
       "\n",
       "    .dataframe thead th {\n",
       "        text-align: right;\n",
       "    }\n",
       "</style>\n",
       "<table border=\"1\" class=\"dataframe\">\n",
       "  <thead>\n",
       "    <tr style=\"text-align: right;\">\n",
       "      <th></th>\n",
       "      <th>floor</th>\n",
       "    </tr>\n",
       "    <tr>\n",
       "      <th>Localidad</th>\n",
       "      <th></th>\n",
       "    </tr>\n",
       "  </thead>\n",
       "  <tbody>\n",
       "    <tr>\n",
       "      <th>Almirante Brown</th>\n",
       "      <td>0.0</td>\n",
       "    </tr>\n",
       "    <tr>\n",
       "      <th>Avellaneda</th>\n",
       "      <td>3.0</td>\n",
       "    </tr>\n",
       "    <tr>\n",
       "      <th>Escobar</th>\n",
       "      <td>1.0</td>\n",
       "    </tr>\n",
       "    <tr>\n",
       "      <th>Esteban Echeverría</th>\n",
       "      <td>0.0</td>\n",
       "    </tr>\n",
       "    <tr>\n",
       "      <th>Ezeiza</th>\n",
       "      <td>0.0</td>\n",
       "    </tr>\n",
       "    <tr>\n",
       "      <th>Florencio Varela</th>\n",
       "      <td>3.0</td>\n",
       "    </tr>\n",
       "    <tr>\n",
       "      <th>General Rodríguez</th>\n",
       "      <td>2.0</td>\n",
       "    </tr>\n",
       "    <tr>\n",
       "      <th>General San Martín</th>\n",
       "      <td>2.0</td>\n",
       "    </tr>\n",
       "    <tr>\n",
       "      <th>Ituzaingó</th>\n",
       "      <td>1.0</td>\n",
       "    </tr>\n",
       "    <tr>\n",
       "      <th>La Matanza</th>\n",
       "      <td>2.0</td>\n",
       "    </tr>\n",
       "    <tr>\n",
       "      <th>La Plata</th>\n",
       "      <td>2.5</td>\n",
       "    </tr>\n",
       "    <tr>\n",
       "      <th>Lanús</th>\n",
       "      <td>0.0</td>\n",
       "    </tr>\n",
       "    <tr>\n",
       "      <th>Lomas de Zamora</th>\n",
       "      <td>0.0</td>\n",
       "    </tr>\n",
       "    <tr>\n",
       "      <th>Malvinas Argentinas</th>\n",
       "      <td>1.5</td>\n",
       "    </tr>\n",
       "    <tr>\n",
       "      <th>Merlo</th>\n",
       "      <td>0.0</td>\n",
       "    </tr>\n",
       "    <tr>\n",
       "      <th>Moreno</th>\n",
       "      <td>4.0</td>\n",
       "    </tr>\n",
       "    <tr>\n",
       "      <th>Morón</th>\n",
       "      <td>3.0</td>\n",
       "    </tr>\n",
       "    <tr>\n",
       "      <th>Pilar</th>\n",
       "      <td>1.5</td>\n",
       "    </tr>\n",
       "    <tr>\n",
       "      <th>Quilmes</th>\n",
       "      <td>4.0</td>\n",
       "    </tr>\n",
       "    <tr>\n",
       "      <th>San Fernando</th>\n",
       "      <td>2.0</td>\n",
       "    </tr>\n",
       "    <tr>\n",
       "      <th>San Isidro</th>\n",
       "      <td>2.0</td>\n",
       "    </tr>\n",
       "    <tr>\n",
       "      <th>San Miguel</th>\n",
       "      <td>2.0</td>\n",
       "    </tr>\n",
       "    <tr>\n",
       "      <th>Tigre</th>\n",
       "      <td>3.0</td>\n",
       "    </tr>\n",
       "    <tr>\n",
       "      <th>Tres de Febrero</th>\n",
       "      <td>3.0</td>\n",
       "    </tr>\n",
       "    <tr>\n",
       "      <th>Vicente López</th>\n",
       "      <td>3.0</td>\n",
       "    </tr>\n",
       "  </tbody>\n",
       "</table>\n",
       "</div>"
      ],
      "text/plain": [
       "                     floor\n",
       "Localidad                 \n",
       "Almirante Brown        0.0\n",
       "Avellaneda             3.0\n",
       "Escobar                1.0\n",
       "Esteban Echeverría     0.0\n",
       "Ezeiza                 0.0\n",
       "Florencio Varela       3.0\n",
       "General Rodríguez      2.0\n",
       "General San Martín     2.0\n",
       "Ituzaingó              1.0\n",
       "La Matanza             2.0\n",
       "La Plata               2.5\n",
       "Lanús                  0.0\n",
       "Lomas de Zamora        0.0\n",
       "Malvinas Argentinas    1.5\n",
       "Merlo                  0.0\n",
       "Moreno                 4.0\n",
       "Morón                  3.0\n",
       "Pilar                  1.5\n",
       "Quilmes                4.0\n",
       "San Fernando           2.0\n",
       "San Isidro             2.0\n",
       "San Miguel             2.0\n",
       "Tigre                  3.0\n",
       "Tres de Febrero        3.0\n",
       "Vicente López          3.0"
      ]
     },
     "execution_count": 21,
     "metadata": {},
     "output_type": "execute_result"
    }
   ],
   "source": [
    "floor_median_localidad = data_gba_train.loc[(data_gba_train['tipo_propiedad']=='apartment')|(data_gba_train['tipo_propiedad']=='store'),['floor','Localidad']].groupby('Localidad').agg(np.median)\n",
    "floor_median_localidad['floor'].fillna(value=floor_median_localidad['floor'].mean(),inplace=True)\n",
    "floor_median_localidad"
   ]
  },
  {
   "cell_type": "code",
   "execution_count": 22,
   "metadata": {},
   "outputs": [
    {
     "data": {
      "text/html": [
       "<div>\n",
       "<style scoped>\n",
       "    .dataframe tbody tr th:only-of-type {\n",
       "        vertical-align: middle;\n",
       "    }\n",
       "\n",
       "    .dataframe tbody tr th {\n",
       "        vertical-align: top;\n",
       "    }\n",
       "\n",
       "    .dataframe thead th {\n",
       "        text-align: right;\n",
       "    }\n",
       "</style>\n",
       "<table border=\"1\" class=\"dataframe\">\n",
       "  <thead>\n",
       "    <tr style=\"text-align: right;\">\n",
       "      <th></th>\n",
       "      <th>floor</th>\n",
       "    </tr>\n",
       "    <tr>\n",
       "      <th>Provincia</th>\n",
       "      <th></th>\n",
       "    </tr>\n",
       "  </thead>\n",
       "  <tbody>\n",
       "    <tr>\n",
       "      <th>Bs.As. G.B.A. Zona Norte</th>\n",
       "      <td>2.0</td>\n",
       "    </tr>\n",
       "    <tr>\n",
       "      <th>Bs.As. G.B.A. Zona Oeste</th>\n",
       "      <td>3.0</td>\n",
       "    </tr>\n",
       "    <tr>\n",
       "      <th>Bs.As. G.B.A. Zona Sur</th>\n",
       "      <td>0.0</td>\n",
       "    </tr>\n",
       "  </tbody>\n",
       "</table>\n",
       "</div>"
      ],
      "text/plain": [
       "                          floor\n",
       "Provincia                      \n",
       "Bs.As. G.B.A. Zona Norte    2.0\n",
       "Bs.As. G.B.A. Zona Oeste    3.0\n",
       "Bs.As. G.B.A. Zona Sur      0.0"
      ]
     },
     "execution_count": 22,
     "metadata": {},
     "output_type": "execute_result"
    }
   ],
   "source": [
    "floor_median_prov = data_gba_train.loc[(data_gba_train['tipo_propiedad']=='apartment')|(data_gba_train['tipo_propiedad']=='store'),['floor','Provincia']].groupby('Provincia').agg(np.median)\n",
    "floor_median_prov['floor'].fillna(value=floor_median_prov['floor'].mean(),inplace=True)\n",
    "floor_median_prov"
   ]
  },
  {
   "cell_type": "code",
   "execution_count": 23,
   "metadata": {},
   "outputs": [
    {
     "name": "stdout",
     "output_type": "stream",
     "text": [
      "Datos faltantes de floor en train set: 3713\n",
      "Datos faltantes de floor en test set: 1231\n"
     ]
    }
   ],
   "source": [
    "print(\"Datos faltantes de floor en train set: {}\".format(data_gba_train['floor'].isna().sum()))\n",
    "print(\"Datos faltantes de floor en test set: {}\".format(data_gba_test['floor'].isna().sum()))"
   ]
  },
  {
   "cell_type": "code",
   "execution_count": 24,
   "metadata": {},
   "outputs": [],
   "source": [
    "for localidad,floor_med in floor_median_localidad['floor'].to_dict().items():\n",
    "    #imputo en el train set con los valores calculados\n",
    "    data_gba_train.loc[((data_gba_train['tipo_propiedad']=='apartment')|(data_gba_train['tipo_propiedad']=='store')&(data_gba_train['floor'].isna())&(data_gba_train['Localidad']==localidad)),'floor']=floor_med\n",
    "    #tambien imputo en el test set con los valores del train set.\n",
    "    data_gba_test.loc[((data_gba_test['tipo_propiedad']=='apartment')|(data_gba_test['tipo_propiedad']=='store')&(data_gba_test['floor'].isna())&(data_gba_test['Localidad']==localidad)),'floor']=floor_med"
   ]
  },
  {
   "cell_type": "code",
   "execution_count": 25,
   "metadata": {},
   "outputs": [
    {
     "name": "stdout",
     "output_type": "stream",
     "text": [
      "Datos faltantes de floor en train set: 0\n",
      "Datos faltantes de floor en test set: 0\n"
     ]
    }
   ],
   "source": [
    "print(\"Datos faltantes de floor en train set: {}\".format(data_gba_train['floor'].isna().sum()))\n",
    "print(\"Datos faltantes de floor en test set: {}\".format(data_gba_test['floor'].isna().sum()))"
   ]
  },
  {
   "cell_type": "markdown",
   "metadata": {},
   "source": [
    "Vamos a correr igualmente la imputación del índice por provincia para evitar que el código pinche con otra distribución en los sets de entenamiento / Testeo"
   ]
  },
  {
   "cell_type": "code",
   "execution_count": 26,
   "metadata": {},
   "outputs": [],
   "source": [
    "for prov,floor_med in floor_median_prov['floor'].to_dict().items():\n",
    "    #imputo en el train set con los valores calculados\n",
    "    data_gba_train.loc[((data_gba_train['tipo_propiedad']=='apartment')|(data_gba_train['tipo_propiedad']=='store')&(data_gba_train['floor'].isna())&(data_gba_train['Provincia']==prov)),'floor']=floor_med\n",
    "    #tambien imputo en el test set con los valores del train set.\n",
    "    data_gba_test.loc[((data_gba_test['tipo_propiedad']=='apartment')|(data_gba_test['tipo_propiedad']=='store')&(data_gba_test['floor'].isna())&(data_gba_test['Provincia']==prov)),'floor']=floor_med"
   ]
  },
  {
   "cell_type": "code",
   "execution_count": 27,
   "metadata": {},
   "outputs": [
    {
     "name": "stdout",
     "output_type": "stream",
     "text": [
      "Datos faltantes de floor en train set: 0\n",
      "Datos faltantes de floor en test set: 0\n"
     ]
    }
   ],
   "source": [
    "print(\"Datos faltantes de floor en train set: {}\".format(data_gba_train['floor'].isna().sum()))\n",
    "print(\"Datos faltantes de floor en test set: {}\".format(data_gba_test['floor'].isna().sum()))"
   ]
  },
  {
   "cell_type": "markdown",
   "metadata": {},
   "source": [
    "## Imputación de Superficies\n",
    "\n",
    "Columna temporal de const_index."
   ]
  },
  {
   "cell_type": "code",
   "execution_count": 28,
   "metadata": {},
   "outputs": [
    {
     "data": {
      "text/html": [
       "<div>\n",
       "<style scoped>\n",
       "    .dataframe tbody tr th:only-of-type {\n",
       "        vertical-align: middle;\n",
       "    }\n",
       "\n",
       "    .dataframe tbody tr th {\n",
       "        vertical-align: top;\n",
       "    }\n",
       "\n",
       "    .dataframe thead th {\n",
       "        text-align: right;\n",
       "    }\n",
       "</style>\n",
       "<table border=\"1\" class=\"dataframe\">\n",
       "  <thead>\n",
       "    <tr style=\"text-align: right;\">\n",
       "      <th></th>\n",
       "      <th>tipo_propiedad</th>\n",
       "      <th>Provincia</th>\n",
       "      <th>Localidad</th>\n",
       "      <th>cochera</th>\n",
       "      <th>gimnasio</th>\n",
       "      <th>piscina</th>\n",
       "      <th>SUM</th>\n",
       "      <th>laundry</th>\n",
       "      <th>balcon</th>\n",
       "      <th>patio</th>\n",
       "      <th>...</th>\n",
       "      <th>Localidad_Presidente Perón</th>\n",
       "      <th>Localidad_Quilmes</th>\n",
       "      <th>Localidad_San Fernando</th>\n",
       "      <th>Localidad_San Isidro</th>\n",
       "      <th>Localidad_San Miguel</th>\n",
       "      <th>Localidad_San Vicente</th>\n",
       "      <th>Localidad_Tigre</th>\n",
       "      <th>Localidad_Tres de Febrero</th>\n",
       "      <th>Localidad_Vicente López</th>\n",
       "      <th>const_index</th>\n",
       "    </tr>\n",
       "  </thead>\n",
       "  <tbody>\n",
       "    <tr>\n",
       "      <th>7386</th>\n",
       "      <td>house</td>\n",
       "      <td>Bs.As. G.B.A. Zona Oeste</td>\n",
       "      <td>Marcos Paz</td>\n",
       "      <td>1.0</td>\n",
       "      <td>0.0</td>\n",
       "      <td>0.0</td>\n",
       "      <td>0.0</td>\n",
       "      <td>1.0</td>\n",
       "      <td>0.0</td>\n",
       "      <td>0.0</td>\n",
       "      <td>...</td>\n",
       "      <td>0.0</td>\n",
       "      <td>0.0</td>\n",
       "      <td>0.0</td>\n",
       "      <td>0.0</td>\n",
       "      <td>0.0</td>\n",
       "      <td>0.0</td>\n",
       "      <td>0.0</td>\n",
       "      <td>0.0</td>\n",
       "      <td>0.0</td>\n",
       "      <td>1.000000</td>\n",
       "    </tr>\n",
       "    <tr>\n",
       "      <th>17756</th>\n",
       "      <td>house</td>\n",
       "      <td>Bs.As. G.B.A. Zona Oeste</td>\n",
       "      <td>Morón</td>\n",
       "      <td>0.0</td>\n",
       "      <td>0.0</td>\n",
       "      <td>0.0</td>\n",
       "      <td>0.0</td>\n",
       "      <td>0.0</td>\n",
       "      <td>0.0</td>\n",
       "      <td>0.0</td>\n",
       "      <td>...</td>\n",
       "      <td>0.0</td>\n",
       "      <td>0.0</td>\n",
       "      <td>0.0</td>\n",
       "      <td>0.0</td>\n",
       "      <td>0.0</td>\n",
       "      <td>0.0</td>\n",
       "      <td>0.0</td>\n",
       "      <td>0.0</td>\n",
       "      <td>0.0</td>\n",
       "      <td>0.498615</td>\n",
       "    </tr>\n",
       "    <tr>\n",
       "      <th>11465</th>\n",
       "      <td>house</td>\n",
       "      <td>Bs.As. G.B.A. Zona Norte</td>\n",
       "      <td>Tigre</td>\n",
       "      <td>0.0</td>\n",
       "      <td>0.0</td>\n",
       "      <td>1.0</td>\n",
       "      <td>0.0</td>\n",
       "      <td>1.0</td>\n",
       "      <td>0.0</td>\n",
       "      <td>1.0</td>\n",
       "      <td>...</td>\n",
       "      <td>0.0</td>\n",
       "      <td>0.0</td>\n",
       "      <td>0.0</td>\n",
       "      <td>0.0</td>\n",
       "      <td>0.0</td>\n",
       "      <td>0.0</td>\n",
       "      <td>1.0</td>\n",
       "      <td>0.0</td>\n",
       "      <td>0.0</td>\n",
       "      <td>1.000000</td>\n",
       "    </tr>\n",
       "    <tr>\n",
       "      <th>6131</th>\n",
       "      <td>apartment</td>\n",
       "      <td>Bs.As. G.B.A. Zona Sur</td>\n",
       "      <td>Quilmes</td>\n",
       "      <td>1.0</td>\n",
       "      <td>0.0</td>\n",
       "      <td>1.0</td>\n",
       "      <td>0.0</td>\n",
       "      <td>0.0</td>\n",
       "      <td>0.0</td>\n",
       "      <td>0.0</td>\n",
       "      <td>...</td>\n",
       "      <td>0.0</td>\n",
       "      <td>1.0</td>\n",
       "      <td>0.0</td>\n",
       "      <td>0.0</td>\n",
       "      <td>0.0</td>\n",
       "      <td>0.0</td>\n",
       "      <td>0.0</td>\n",
       "      <td>0.0</td>\n",
       "      <td>0.0</td>\n",
       "      <td>NaN</td>\n",
       "    </tr>\n",
       "    <tr>\n",
       "      <th>19133</th>\n",
       "      <td>house</td>\n",
       "      <td>Bs.As. G.B.A. Zona Sur</td>\n",
       "      <td>Lomas de Zamora</td>\n",
       "      <td>1.0</td>\n",
       "      <td>0.0</td>\n",
       "      <td>0.0</td>\n",
       "      <td>0.0</td>\n",
       "      <td>1.0</td>\n",
       "      <td>0.0</td>\n",
       "      <td>1.0</td>\n",
       "      <td>...</td>\n",
       "      <td>0.0</td>\n",
       "      <td>0.0</td>\n",
       "      <td>0.0</td>\n",
       "      <td>0.0</td>\n",
       "      <td>0.0</td>\n",
       "      <td>0.0</td>\n",
       "      <td>0.0</td>\n",
       "      <td>0.0</td>\n",
       "      <td>0.0</td>\n",
       "      <td>0.459644</td>\n",
       "    </tr>\n",
       "  </tbody>\n",
       "</table>\n",
       "<p>5 rows × 52 columns</p>\n",
       "</div>"
      ],
      "text/plain": [
       "      tipo_propiedad                 Provincia        Localidad  cochera  \\\n",
       "7386           house  Bs.As. G.B.A. Zona Oeste       Marcos Paz      1.0   \n",
       "17756          house  Bs.As. G.B.A. Zona Oeste            Morón      0.0   \n",
       "11465          house  Bs.As. G.B.A. Zona Norte            Tigre      0.0   \n",
       "6131       apartment    Bs.As. G.B.A. Zona Sur          Quilmes      1.0   \n",
       "19133          house    Bs.As. G.B.A. Zona Sur  Lomas de Zamora      1.0   \n",
       "\n",
       "       gimnasio  piscina  SUM  laundry  balcon  patio  ...  \\\n",
       "7386        0.0      0.0  0.0      1.0     0.0    0.0  ...   \n",
       "17756       0.0      0.0  0.0      0.0     0.0    0.0  ...   \n",
       "11465       0.0      1.0  0.0      1.0     0.0    1.0  ...   \n",
       "6131        0.0      1.0  0.0      0.0     0.0    0.0  ...   \n",
       "19133       0.0      0.0  0.0      1.0     0.0    1.0  ...   \n",
       "\n",
       "       Localidad_Presidente Perón  Localidad_Quilmes  Localidad_San Fernando  \\\n",
       "7386                          0.0                0.0                     0.0   \n",
       "17756                         0.0                0.0                     0.0   \n",
       "11465                         0.0                0.0                     0.0   \n",
       "6131                          0.0                1.0                     0.0   \n",
       "19133                         0.0                0.0                     0.0   \n",
       "\n",
       "       Localidad_San Isidro  Localidad_San Miguel  Localidad_San Vicente  \\\n",
       "7386                    0.0                   0.0                    0.0   \n",
       "17756                   0.0                   0.0                    0.0   \n",
       "11465                   0.0                   0.0                    0.0   \n",
       "6131                    0.0                   0.0                    0.0   \n",
       "19133                   0.0                   0.0                    0.0   \n",
       "\n",
       "       Localidad_Tigre  Localidad_Tres de Febrero  Localidad_Vicente López  \\\n",
       "7386               0.0                        0.0                      0.0   \n",
       "17756              0.0                        0.0                      0.0   \n",
       "11465              1.0                        0.0                      0.0   \n",
       "6131               0.0                        0.0                      0.0   \n",
       "19133              0.0                        0.0                      0.0   \n",
       "\n",
       "       const_index  \n",
       "7386      1.000000  \n",
       "17756     0.498615  \n",
       "11465     1.000000  \n",
       "6131           NaN  \n",
       "19133     0.459644  \n",
       "\n",
       "[5 rows x 52 columns]"
      ]
     },
     "execution_count": 28,
     "metadata": {},
     "output_type": "execute_result"
    }
   ],
   "source": [
    "data_gba_train['const_index']=data_gba_train['sup_cub']/data_gba_train['sup_total']\n",
    "data_gba_train.head(5)"
   ]
  },
  {
   "cell_type": "code",
   "execution_count": 29,
   "metadata": {},
   "outputs": [
    {
     "data": {
      "text/plain": [
       "count    12124.000000\n",
       "mean         0.795501\n",
       "std          0.245342\n",
       "min          0.025000\n",
       "25%          0.681381\n",
       "50%          0.888889\n",
       "75%          1.000000\n",
       "max          1.000000\n",
       "Name: const_index, dtype: float64"
      ]
     },
     "execution_count": 29,
     "metadata": {},
     "output_type": "execute_result"
    }
   ],
   "source": [
    "data_gba_train['const_index'].describe()"
   ]
  },
  {
   "cell_type": "code",
   "execution_count": 30,
   "metadata": {},
   "outputs": [
    {
     "data": {
      "text/html": [
       "<div>\n",
       "<style scoped>\n",
       "    .dataframe tbody tr th:only-of-type {\n",
       "        vertical-align: middle;\n",
       "    }\n",
       "\n",
       "    .dataframe tbody tr th {\n",
       "        vertical-align: top;\n",
       "    }\n",
       "\n",
       "    .dataframe thead th {\n",
       "        text-align: right;\n",
       "    }\n",
       "</style>\n",
       "<table border=\"1\" class=\"dataframe\">\n",
       "  <thead>\n",
       "    <tr style=\"text-align: right;\">\n",
       "      <th></th>\n",
       "      <th>sup_cub</th>\n",
       "      <th>sup_descub</th>\n",
       "      <th>sup_total</th>\n",
       "      <th>price_usd_per_m2</th>\n",
       "      <th>tipo_propiedad_apartment</th>\n",
       "      <th>tipo_propiedad_house</th>\n",
       "      <th>tipo_propiedad_store</th>\n",
       "      <th>Localidad_Avellaneda</th>\n",
       "      <th>Localidad_Berazategui</th>\n",
       "      <th>Localidad_Cañuelas</th>\n",
       "      <th>...</th>\n",
       "      <th>Localidad_Presidente Perón</th>\n",
       "      <th>Localidad_Quilmes</th>\n",
       "      <th>Localidad_San Fernando</th>\n",
       "      <th>Localidad_San Isidro</th>\n",
       "      <th>Localidad_San Miguel</th>\n",
       "      <th>Localidad_San Vicente</th>\n",
       "      <th>Localidad_Tigre</th>\n",
       "      <th>Localidad_Tres de Febrero</th>\n",
       "      <th>Localidad_Vicente López</th>\n",
       "      <th>const_index</th>\n",
       "    </tr>\n",
       "  </thead>\n",
       "  <tbody>\n",
       "    <tr>\n",
       "      <th>count</th>\n",
       "      <td>13398.000000</td>\n",
       "      <td>12124.000000</td>\n",
       "      <td>13933.000000</td>\n",
       "      <td>15207.000000</td>\n",
       "      <td>15207.000000</td>\n",
       "      <td>15207.000000</td>\n",
       "      <td>15207.000000</td>\n",
       "      <td>15207.000000</td>\n",
       "      <td>15207.000000</td>\n",
       "      <td>15207.000000</td>\n",
       "      <td>...</td>\n",
       "      <td>15207.000000</td>\n",
       "      <td>15207.000000</td>\n",
       "      <td>15207.000000</td>\n",
       "      <td>15207.000000</td>\n",
       "      <td>15207.000000</td>\n",
       "      <td>15207.000000</td>\n",
       "      <td>15207.000000</td>\n",
       "      <td>15207.000000</td>\n",
       "      <td>15207.000000</td>\n",
       "      <td>12124.000000</td>\n",
       "    </tr>\n",
       "    <tr>\n",
       "      <th>mean</th>\n",
       "      <td>144.396370</td>\n",
       "      <td>74.212369</td>\n",
       "      <td>218.877259</td>\n",
       "      <td>1387.861421</td>\n",
       "      <td>0.288683</td>\n",
       "      <td>0.659762</td>\n",
       "      <td>0.005063</td>\n",
       "      <td>0.016374</td>\n",
       "      <td>0.008417</td>\n",
       "      <td>0.000921</td>\n",
       "      <td>...</td>\n",
       "      <td>0.002367</td>\n",
       "      <td>0.011048</td>\n",
       "      <td>0.022950</td>\n",
       "      <td>0.052739</td>\n",
       "      <td>0.031696</td>\n",
       "      <td>0.002893</td>\n",
       "      <td>0.220228</td>\n",
       "      <td>0.031762</td>\n",
       "      <td>0.068850</td>\n",
       "      <td>0.795501</td>\n",
       "    </tr>\n",
       "    <tr>\n",
       "      <th>std</th>\n",
       "      <td>97.262087</td>\n",
       "      <td>137.096998</td>\n",
       "      <td>187.066557</td>\n",
       "      <td>737.800992</td>\n",
       "      <td>0.453165</td>\n",
       "      <td>0.473805</td>\n",
       "      <td>0.070980</td>\n",
       "      <td>0.126913</td>\n",
       "      <td>0.091361</td>\n",
       "      <td>0.030329</td>\n",
       "      <td>...</td>\n",
       "      <td>0.048599</td>\n",
       "      <td>0.104529</td>\n",
       "      <td>0.149749</td>\n",
       "      <td>0.223519</td>\n",
       "      <td>0.175195</td>\n",
       "      <td>0.053714</td>\n",
       "      <td>0.414414</td>\n",
       "      <td>0.175371</td>\n",
       "      <td>0.253207</td>\n",
       "      <td>0.245342</td>\n",
       "    </tr>\n",
       "    <tr>\n",
       "      <th>min</th>\n",
       "      <td>10.000000</td>\n",
       "      <td>0.000000</td>\n",
       "      <td>12.000000</td>\n",
       "      <td>4.166667</td>\n",
       "      <td>0.000000</td>\n",
       "      <td>0.000000</td>\n",
       "      <td>0.000000</td>\n",
       "      <td>0.000000</td>\n",
       "      <td>0.000000</td>\n",
       "      <td>0.000000</td>\n",
       "      <td>...</td>\n",
       "      <td>0.000000</td>\n",
       "      <td>0.000000</td>\n",
       "      <td>0.000000</td>\n",
       "      <td>0.000000</td>\n",
       "      <td>0.000000</td>\n",
       "      <td>0.000000</td>\n",
       "      <td>0.000000</td>\n",
       "      <td>0.000000</td>\n",
       "      <td>0.000000</td>\n",
       "      <td>0.025000</td>\n",
       "    </tr>\n",
       "    <tr>\n",
       "      <th>25%</th>\n",
       "      <td>50.000000</td>\n",
       "      <td>0.000000</td>\n",
       "      <td>57.000000</td>\n",
       "      <td>804.347826</td>\n",
       "      <td>0.000000</td>\n",
       "      <td>0.000000</td>\n",
       "      <td>0.000000</td>\n",
       "      <td>0.000000</td>\n",
       "      <td>0.000000</td>\n",
       "      <td>0.000000</td>\n",
       "      <td>...</td>\n",
       "      <td>0.000000</td>\n",
       "      <td>0.000000</td>\n",
       "      <td>0.000000</td>\n",
       "      <td>0.000000</td>\n",
       "      <td>0.000000</td>\n",
       "      <td>0.000000</td>\n",
       "      <td>0.000000</td>\n",
       "      <td>0.000000</td>\n",
       "      <td>0.000000</td>\n",
       "      <td>0.681381</td>\n",
       "    </tr>\n",
       "    <tr>\n",
       "      <th>50%</th>\n",
       "      <td>130.000000</td>\n",
       "      <td>9.000000</td>\n",
       "      <td>180.000000</td>\n",
       "      <td>1390.374332</td>\n",
       "      <td>0.000000</td>\n",
       "      <td>1.000000</td>\n",
       "      <td>0.000000</td>\n",
       "      <td>0.000000</td>\n",
       "      <td>0.000000</td>\n",
       "      <td>0.000000</td>\n",
       "      <td>...</td>\n",
       "      <td>0.000000</td>\n",
       "      <td>0.000000</td>\n",
       "      <td>0.000000</td>\n",
       "      <td>0.000000</td>\n",
       "      <td>0.000000</td>\n",
       "      <td>0.000000</td>\n",
       "      <td>0.000000</td>\n",
       "      <td>0.000000</td>\n",
       "      <td>0.000000</td>\n",
       "      <td>0.888889</td>\n",
       "    </tr>\n",
       "    <tr>\n",
       "      <th>75%</th>\n",
       "      <td>210.000000</td>\n",
       "      <td>71.000000</td>\n",
       "      <td>300.000000</td>\n",
       "      <td>1869.158879</td>\n",
       "      <td>1.000000</td>\n",
       "      <td>1.000000</td>\n",
       "      <td>0.000000</td>\n",
       "      <td>0.000000</td>\n",
       "      <td>0.000000</td>\n",
       "      <td>0.000000</td>\n",
       "      <td>...</td>\n",
       "      <td>0.000000</td>\n",
       "      <td>0.000000</td>\n",
       "      <td>0.000000</td>\n",
       "      <td>0.000000</td>\n",
       "      <td>0.000000</td>\n",
       "      <td>0.000000</td>\n",
       "      <td>0.000000</td>\n",
       "      <td>0.000000</td>\n",
       "      <td>0.000000</td>\n",
       "      <td>1.000000</td>\n",
       "    </tr>\n",
       "    <tr>\n",
       "      <th>max</th>\n",
       "      <td>400.000000</td>\n",
       "      <td>791.000000</td>\n",
       "      <td>827.000000</td>\n",
       "      <td>3728.813559</td>\n",
       "      <td>1.000000</td>\n",
       "      <td>1.000000</td>\n",
       "      <td>1.000000</td>\n",
       "      <td>1.000000</td>\n",
       "      <td>1.000000</td>\n",
       "      <td>1.000000</td>\n",
       "      <td>...</td>\n",
       "      <td>1.000000</td>\n",
       "      <td>1.000000</td>\n",
       "      <td>1.000000</td>\n",
       "      <td>1.000000</td>\n",
       "      <td>1.000000</td>\n",
       "      <td>1.000000</td>\n",
       "      <td>1.000000</td>\n",
       "      <td>1.000000</td>\n",
       "      <td>1.000000</td>\n",
       "      <td>1.000000</td>\n",
       "    </tr>\n",
       "  </tbody>\n",
       "</table>\n",
       "<p>8 rows × 39 columns</p>\n",
       "</div>"
      ],
      "text/plain": [
       "            sup_cub    sup_descub     sup_total  price_usd_per_m2  \\\n",
       "count  13398.000000  12124.000000  13933.000000      15207.000000   \n",
       "mean     144.396370     74.212369    218.877259       1387.861421   \n",
       "std       97.262087    137.096998    187.066557        737.800992   \n",
       "min       10.000000      0.000000     12.000000          4.166667   \n",
       "25%       50.000000      0.000000     57.000000        804.347826   \n",
       "50%      130.000000      9.000000    180.000000       1390.374332   \n",
       "75%      210.000000     71.000000    300.000000       1869.158879   \n",
       "max      400.000000    791.000000    827.000000       3728.813559   \n",
       "\n",
       "       tipo_propiedad_apartment  tipo_propiedad_house  tipo_propiedad_store  \\\n",
       "count              15207.000000          15207.000000          15207.000000   \n",
       "mean                   0.288683              0.659762              0.005063   \n",
       "std                    0.453165              0.473805              0.070980   \n",
       "min                    0.000000              0.000000              0.000000   \n",
       "25%                    0.000000              0.000000              0.000000   \n",
       "50%                    0.000000              1.000000              0.000000   \n",
       "75%                    1.000000              1.000000              0.000000   \n",
       "max                    1.000000              1.000000              1.000000   \n",
       "\n",
       "       Localidad_Avellaneda  Localidad_Berazategui  Localidad_Cañuelas  ...  \\\n",
       "count          15207.000000           15207.000000        15207.000000  ...   \n",
       "mean               0.016374               0.008417            0.000921  ...   \n",
       "std                0.126913               0.091361            0.030329  ...   \n",
       "min                0.000000               0.000000            0.000000  ...   \n",
       "25%                0.000000               0.000000            0.000000  ...   \n",
       "50%                0.000000               0.000000            0.000000  ...   \n",
       "75%                0.000000               0.000000            0.000000  ...   \n",
       "max                1.000000               1.000000            1.000000  ...   \n",
       "\n",
       "       Localidad_Presidente Perón  Localidad_Quilmes  Localidad_San Fernando  \\\n",
       "count                15207.000000       15207.000000            15207.000000   \n",
       "mean                     0.002367           0.011048                0.022950   \n",
       "std                      0.048599           0.104529                0.149749   \n",
       "min                      0.000000           0.000000                0.000000   \n",
       "25%                      0.000000           0.000000                0.000000   \n",
       "50%                      0.000000           0.000000                0.000000   \n",
       "75%                      0.000000           0.000000                0.000000   \n",
       "max                      1.000000           1.000000                1.000000   \n",
       "\n",
       "       Localidad_San Isidro  Localidad_San Miguel  Localidad_San Vicente  \\\n",
       "count          15207.000000          15207.000000           15207.000000   \n",
       "mean               0.052739              0.031696               0.002893   \n",
       "std                0.223519              0.175195               0.053714   \n",
       "min                0.000000              0.000000               0.000000   \n",
       "25%                0.000000              0.000000               0.000000   \n",
       "50%                0.000000              0.000000               0.000000   \n",
       "75%                0.000000              0.000000               0.000000   \n",
       "max                1.000000              1.000000               1.000000   \n",
       "\n",
       "       Localidad_Tigre  Localidad_Tres de Febrero  Localidad_Vicente López  \\\n",
       "count     15207.000000               15207.000000             15207.000000   \n",
       "mean          0.220228                   0.031762                 0.068850   \n",
       "std           0.414414                   0.175371                 0.253207   \n",
       "min           0.000000                   0.000000                 0.000000   \n",
       "25%           0.000000                   0.000000                 0.000000   \n",
       "50%           0.000000                   0.000000                 0.000000   \n",
       "75%           0.000000                   0.000000                 0.000000   \n",
       "max           1.000000                   1.000000                 1.000000   \n",
       "\n",
       "        const_index  \n",
       "count  12124.000000  \n",
       "mean       0.795501  \n",
       "std        0.245342  \n",
       "min        0.025000  \n",
       "25%        0.681381  \n",
       "50%        0.888889  \n",
       "75%        1.000000  \n",
       "max        1.000000  \n",
       "\n",
       "[8 rows x 39 columns]"
      ]
     },
     "execution_count": 30,
     "metadata": {},
     "output_type": "execute_result"
    }
   ],
   "source": [
    "data_gba_train.iloc[:,13:].describe()"
   ]
  },
  {
   "cell_type": "code",
   "execution_count": 31,
   "metadata": {},
   "outputs": [],
   "source": [
    "# data_gba_test.loc[(data_gba_test['sup_descub']==float('inf')),['sup_cub','sup_descub','sup_total']]\n",
    "# data_gba_train.loc[(data_gba_train['sup_descub']==float('inf')),['sup_cub','sup_descub','sup_total']]"
   ]
  },
  {
   "cell_type": "code",
   "execution_count": 32,
   "metadata": {},
   "outputs": [
    {
     "data": {
      "text/html": [
       "<div>\n",
       "<style scoped>\n",
       "    .dataframe tbody tr th:only-of-type {\n",
       "        vertical-align: middle;\n",
       "    }\n",
       "\n",
       "    .dataframe tbody tr th {\n",
       "        vertical-align: top;\n",
       "    }\n",
       "\n",
       "    .dataframe thead th {\n",
       "        text-align: right;\n",
       "    }\n",
       "</style>\n",
       "<table border=\"1\" class=\"dataframe\">\n",
       "  <thead>\n",
       "    <tr style=\"text-align: right;\">\n",
       "      <th></th>\n",
       "      <th>const_index</th>\n",
       "    </tr>\n",
       "    <tr>\n",
       "      <th>Localidad</th>\n",
       "      <th></th>\n",
       "    </tr>\n",
       "  </thead>\n",
       "  <tbody>\n",
       "    <tr>\n",
       "      <th>Almirante Brown</th>\n",
       "      <td>0.869495</td>\n",
       "    </tr>\n",
       "    <tr>\n",
       "      <th>Avellaneda</th>\n",
       "      <td>0.914286</td>\n",
       "    </tr>\n",
       "    <tr>\n",
       "      <th>Berazategui</th>\n",
       "      <td>0.891667</td>\n",
       "    </tr>\n",
       "    <tr>\n",
       "      <th>Cañuelas</th>\n",
       "      <td>0.775148</td>\n",
       "    </tr>\n",
       "    <tr>\n",
       "      <th>Escobar</th>\n",
       "      <td>0.882136</td>\n",
       "    </tr>\n",
       "    <tr>\n",
       "      <th>Esteban Echeverría</th>\n",
       "      <td>0.811266</td>\n",
       "    </tr>\n",
       "    <tr>\n",
       "      <th>Ezeiza</th>\n",
       "      <td>0.823529</td>\n",
       "    </tr>\n",
       "    <tr>\n",
       "      <th>Florencio Varela</th>\n",
       "      <td>0.852575</td>\n",
       "    </tr>\n",
       "    <tr>\n",
       "      <th>General Rodríguez</th>\n",
       "      <td>0.830121</td>\n",
       "    </tr>\n",
       "    <tr>\n",
       "      <th>General San Martín</th>\n",
       "      <td>0.870778</td>\n",
       "    </tr>\n",
       "    <tr>\n",
       "      <th>Hurlingham</th>\n",
       "      <td>0.559931</td>\n",
       "    </tr>\n",
       "    <tr>\n",
       "      <th>Ituzaingó</th>\n",
       "      <td>0.646538</td>\n",
       "    </tr>\n",
       "    <tr>\n",
       "      <th>José C Paz</th>\n",
       "      <td>0.441176</td>\n",
       "    </tr>\n",
       "    <tr>\n",
       "      <th>La Matanza</th>\n",
       "      <td>0.833333</td>\n",
       "    </tr>\n",
       "    <tr>\n",
       "      <th>La Plata</th>\n",
       "      <td>1.000000</td>\n",
       "    </tr>\n",
       "    <tr>\n",
       "      <th>Lanús</th>\n",
       "      <td>0.925463</td>\n",
       "    </tr>\n",
       "    <tr>\n",
       "      <th>Lomas de Zamora</th>\n",
       "      <td>1.000000</td>\n",
       "    </tr>\n",
       "    <tr>\n",
       "      <th>Malvinas Argentinas</th>\n",
       "      <td>1.000000</td>\n",
       "    </tr>\n",
       "    <tr>\n",
       "      <th>Marcos Paz</th>\n",
       "      <td>0.730337</td>\n",
       "    </tr>\n",
       "    <tr>\n",
       "      <th>Merlo</th>\n",
       "      <td>0.600000</td>\n",
       "    </tr>\n",
       "    <tr>\n",
       "      <th>Moreno</th>\n",
       "      <td>0.600000</td>\n",
       "    </tr>\n",
       "    <tr>\n",
       "      <th>Morón</th>\n",
       "      <td>0.906250</td>\n",
       "    </tr>\n",
       "    <tr>\n",
       "      <th>Pilar</th>\n",
       "      <td>0.952381</td>\n",
       "    </tr>\n",
       "    <tr>\n",
       "      <th>Presidente Perón</th>\n",
       "      <td>0.573913</td>\n",
       "    </tr>\n",
       "    <tr>\n",
       "      <th>Quilmes</th>\n",
       "      <td>0.881176</td>\n",
       "    </tr>\n",
       "    <tr>\n",
       "      <th>San Fernando</th>\n",
       "      <td>0.875000</td>\n",
       "    </tr>\n",
       "    <tr>\n",
       "      <th>San Isidro</th>\n",
       "      <td>0.888889</td>\n",
       "    </tr>\n",
       "    <tr>\n",
       "      <th>San Miguel</th>\n",
       "      <td>1.000000</td>\n",
       "    </tr>\n",
       "    <tr>\n",
       "      <th>San Vicente</th>\n",
       "      <td>0.862254</td>\n",
       "    </tr>\n",
       "    <tr>\n",
       "      <th>Tigre</th>\n",
       "      <td>0.857895</td>\n",
       "    </tr>\n",
       "    <tr>\n",
       "      <th>Tres de Febrero</th>\n",
       "      <td>0.909091</td>\n",
       "    </tr>\n",
       "    <tr>\n",
       "      <th>Vicente López</th>\n",
       "      <td>0.901639</td>\n",
       "    </tr>\n",
       "  </tbody>\n",
       "</table>\n",
       "</div>"
      ],
      "text/plain": [
       "                     const_index\n",
       "Localidad                       \n",
       "Almirante Brown         0.869495\n",
       "Avellaneda              0.914286\n",
       "Berazategui             0.891667\n",
       "Cañuelas                0.775148\n",
       "Escobar                 0.882136\n",
       "Esteban Echeverría      0.811266\n",
       "Ezeiza                  0.823529\n",
       "Florencio Varela        0.852575\n",
       "General Rodríguez       0.830121\n",
       "General San Martín      0.870778\n",
       "Hurlingham              0.559931\n",
       "Ituzaingó               0.646538\n",
       "José C Paz              0.441176\n",
       "La Matanza              0.833333\n",
       "La Plata                1.000000\n",
       "Lanús                   0.925463\n",
       "Lomas de Zamora         1.000000\n",
       "Malvinas Argentinas     1.000000\n",
       "Marcos Paz              0.730337\n",
       "Merlo                   0.600000\n",
       "Moreno                  0.600000\n",
       "Morón                   0.906250\n",
       "Pilar                   0.952381\n",
       "Presidente Perón        0.573913\n",
       "Quilmes                 0.881176\n",
       "San Fernando            0.875000\n",
       "San Isidro              0.888889\n",
       "San Miguel              1.000000\n",
       "San Vicente             0.862254\n",
       "Tigre                   0.857895\n",
       "Tres de Febrero         0.909091\n",
       "Vicente López           0.901639"
      ]
     },
     "execution_count": 32,
     "metadata": {},
     "output_type": "execute_result"
    }
   ],
   "source": [
    "const_median_localidad = data_gba_train[['const_index','Localidad']].groupby('Localidad').median()\n",
    "const_median_localidad['const_index'].fillna(value=const_median_localidad['const_index'].median(),inplace=True)\n",
    "const_median_localidad"
   ]
  },
  {
   "cell_type": "markdown",
   "metadata": {},
   "source": [
    "Imputación del índice de construcción:"
   ]
  },
  {
   "cell_type": "code",
   "execution_count": 33,
   "metadata": {
    "scrolled": true
   },
   "outputs": [
    {
     "data": {
      "text/plain": [
       "sup_cub        1809\n",
       "sup_total      1274\n",
       "sup_descub     3083\n",
       "const_index    3083\n",
       "dtype: int64"
      ]
     },
     "execution_count": 33,
     "metadata": {},
     "output_type": "execute_result"
    }
   ],
   "source": [
    "data_gba_train[['sup_cub','sup_total','sup_descub','const_index']].isna().sum()"
   ]
  },
  {
   "cell_type": "code",
   "execution_count": 34,
   "metadata": {},
   "outputs": [
    {
     "data": {
      "text/plain": [
       "sup_cub        604\n",
       "sup_total      402\n",
       "sup_descub    1006\n",
       "dtype: int64"
      ]
     },
     "execution_count": 34,
     "metadata": {},
     "output_type": "execute_result"
    }
   ],
   "source": [
    "data_gba_test[['sup_cub','sup_total','sup_descub']].isna().sum()"
   ]
  },
  {
   "cell_type": "code",
   "execution_count": 35,
   "metadata": {},
   "outputs": [],
   "source": [
    "for localidad,const_med in const_median_localidad['const_index'].to_dict().items():\n",
    "    data_gba_train.loc[(data_gba_train['const_index'].isna())&(data_gba_train['Localidad']==localidad),'const_index']=const_med\n",
    "    data_gba_test.loc[(data_gba_test['Localidad']==localidad),'const_index']=const_med"
   ]
  },
  {
   "cell_type": "markdown",
   "metadata": {},
   "source": [
    "Completar los datos faltantes de Superficie Cubierta y Superficie Total con el índice de construcción calculado, en el set de entrenamiento."
   ]
  },
  {
   "cell_type": "code",
   "execution_count": 36,
   "metadata": {},
   "outputs": [],
   "source": [
    "data_gba_train['sup_cub'].fillna(data_gba_train['const_index']*data_gba_train['sup_total'],inplace=True)\n",
    "data_gba_train['sup_total'].fillna(data_gba_train['sup_cub']/data_gba_train['const_index'],inplace=True)\n",
    "data_gba_train['sup_descub'].fillna((data_gba_train['sup_total']-data_gba_train['sup_cub']),inplace=True)"
   ]
  },
  {
   "cell_type": "code",
   "execution_count": 37,
   "metadata": {},
   "outputs": [
    {
     "data": {
      "text/plain": [
       "sup_cub        0\n",
       "sup_total      0\n",
       "sup_descub     0\n",
       "const_index    0\n",
       "dtype: int64"
      ]
     },
     "execution_count": 37,
     "metadata": {},
     "output_type": "execute_result"
    }
   ],
   "source": [
    "data_gba_train[['sup_cub','sup_total','sup_descub','const_index']].isna().sum()"
   ]
  },
  {
   "cell_type": "markdown",
   "metadata": {},
   "source": [
    "Completar los datos faltantes de Superficie Cubierta y Superficie Total con el índice de construcción calculado, en el set de testeo."
   ]
  },
  {
   "cell_type": "code",
   "execution_count": 38,
   "metadata": {},
   "outputs": [],
   "source": [
    "data_gba_test['sup_cub'].fillna(data_gba_test['const_index']*data_gba_test['sup_total'],inplace=True)\n",
    "data_gba_test['sup_total'].fillna(data_gba_test['sup_cub']/data_gba_test['const_index'],inplace=True)\n",
    "data_gba_test['sup_descub'].fillna((data_gba_test['sup_total']-data_gba_test['sup_cub']),inplace=True)\n"
   ]
  },
  {
   "cell_type": "code",
   "execution_count": 39,
   "metadata": {},
   "outputs": [
    {
     "data": {
      "text/plain": [
       "sup_cub        0\n",
       "sup_total      0\n",
       "sup_descub     0\n",
       "const_index    0\n",
       "dtype: int64"
      ]
     },
     "execution_count": 39,
     "metadata": {},
     "output_type": "execute_result"
    }
   ],
   "source": [
    "data_gba_test[['sup_cub','sup_total','sup_descub','const_index']].isna().sum()"
   ]
  },
  {
   "cell_type": "markdown",
   "metadata": {},
   "source": [
    "Dependiendo de como hace el split, podrían quedar índices sin valor (en el caso de que una localidad haya quedado entera en el set de testeo) para evitar posibles errores, corremos el índice a nivel provincia"
   ]
  },
  {
   "cell_type": "code",
   "execution_count": 40,
   "metadata": {},
   "outputs": [
    {
     "data": {
      "text/html": [
       "<div>\n",
       "<style scoped>\n",
       "    .dataframe tbody tr th:only-of-type {\n",
       "        vertical-align: middle;\n",
       "    }\n",
       "\n",
       "    .dataframe tbody tr th {\n",
       "        vertical-align: top;\n",
       "    }\n",
       "\n",
       "    .dataframe thead th {\n",
       "        text-align: right;\n",
       "    }\n",
       "</style>\n",
       "<table border=\"1\" class=\"dataframe\">\n",
       "  <thead>\n",
       "    <tr style=\"text-align: right;\">\n",
       "      <th></th>\n",
       "      <th>const_index</th>\n",
       "    </tr>\n",
       "    <tr>\n",
       "      <th>Provincia</th>\n",
       "      <th></th>\n",
       "    </tr>\n",
       "  </thead>\n",
       "  <tbody>\n",
       "    <tr>\n",
       "      <th>Bs.As. G.B.A. Zona Norte</th>\n",
       "      <td>0.880000</td>\n",
       "    </tr>\n",
       "    <tr>\n",
       "      <th>Bs.As. G.B.A. Zona Oeste</th>\n",
       "      <td>0.833333</td>\n",
       "    </tr>\n",
       "    <tr>\n",
       "      <th>Bs.As. G.B.A. Zona Sur</th>\n",
       "      <td>0.925463</td>\n",
       "    </tr>\n",
       "  </tbody>\n",
       "</table>\n",
       "</div>"
      ],
      "text/plain": [
       "                          const_index\n",
       "Provincia                            \n",
       "Bs.As. G.B.A. Zona Norte     0.880000\n",
       "Bs.As. G.B.A. Zona Oeste     0.833333\n",
       "Bs.As. G.B.A. Zona Sur       0.925463"
      ]
     },
     "execution_count": 40,
     "metadata": {},
     "output_type": "execute_result"
    }
   ],
   "source": [
    "const_median_prov = data_gba_train[['const_index','Provincia']].groupby('Provincia').median()\n",
    "const_median_prov['const_index'].fillna(value=const_median_prov['const_index'].median(),inplace=True)\n",
    "const_median_prov"
   ]
  },
  {
   "cell_type": "code",
   "execution_count": 41,
   "metadata": {},
   "outputs": [],
   "source": [
    "for prov,const_med in const_median_prov['const_index'].to_dict().items():\n",
    "    data_gba_train.loc[(data_gba_train['const_index'].isna())&(data_gba_train['Provincia']==localidad),'const_index']=const_med\n",
    "    data_gba_test.loc[(data_gba_test['Provincia']==localidad),'const_index']=const_med"
   ]
  },
  {
   "cell_type": "markdown",
   "metadata": {},
   "source": [
    "Completar los datos faltantes de Superficie Cubierta y Superficie Total con el índice de construcción calculado, en el set de entrenamiento."
   ]
  },
  {
   "cell_type": "code",
   "execution_count": 42,
   "metadata": {},
   "outputs": [],
   "source": [
    "data_gba_train['sup_cub'].fillna(data_gba_train['const_index']*data_gba_train['sup_total'],inplace=True)\n",
    "data_gba_train['sup_total'].fillna(data_gba_train['sup_cub']/data_gba_train['const_index'],inplace=True)\n",
    "data_gba_train['sup_descub'].fillna((data_gba_train['sup_total']-data_gba_train['sup_cub']),inplace=True)"
   ]
  },
  {
   "cell_type": "code",
   "execution_count": 43,
   "metadata": {},
   "outputs": [],
   "source": [
    "data_gba_test['sup_cub'].fillna(data_gba_test['const_index']*data_gba_test['sup_total'],inplace=True)\n",
    "data_gba_test['sup_total'].fillna(data_gba_test['sup_cub']/data_gba_test['const_index'],inplace=True)\n",
    "data_gba_test['sup_descub'].fillna((data_gba_test['sup_total']-data_gba_test['sup_cub']),inplace=True)"
   ]
  },
  {
   "cell_type": "code",
   "execution_count": 44,
   "metadata": {},
   "outputs": [
    {
     "name": "stdout",
     "output_type": "stream",
     "text": [
      "Para X_train en GBA queda: (15207, 52)\n",
      "Para X_test en GBA queda: (5069, 52)\n"
     ]
    }
   ],
   "source": [
    "print(\"Para X_train en GBA queda: {}\".format(data_gba_train.shape))\n",
    "print(\"Para X_test en GBA queda: {}\".format(data_gba_test.shape))"
   ]
  },
  {
   "cell_type": "code",
   "execution_count": 45,
   "metadata": {},
   "outputs": [
    {
     "data": {
      "text/plain": [
       "Index(['tipo_propiedad', 'Provincia', 'Localidad', 'cochera', 'gimnasio',\n",
       "       'piscina', 'SUM', 'laundry', 'balcon', 'patio', 'parrilla', 'floor',\n",
       "       'rooms', 'sup_cub', 'sup_descub', 'sup_total', 'price_usd_per_m2',\n",
       "       'tipo_propiedad_apartment', 'tipo_propiedad_house',\n",
       "       'tipo_propiedad_store', 'Localidad_Avellaneda', 'Localidad_Berazategui',\n",
       "       'Localidad_Cañuelas', 'Localidad_Escobar',\n",
       "       'Localidad_Esteban Echeverría', 'Localidad_Ezeiza',\n",
       "       'Localidad_Florencio Varela', 'Localidad_General Rodríguez',\n",
       "       'Localidad_General San Martín', 'Localidad_Hurlingham',\n",
       "       'Localidad_Ituzaingó', 'Localidad_José C Paz', 'Localidad_La Matanza',\n",
       "       'Localidad_La Plata', 'Localidad_Lanús', 'Localidad_Lomas de Zamora',\n",
       "       'Localidad_Malvinas Argentinas', 'Localidad_Marcos Paz',\n",
       "       'Localidad_Merlo', 'Localidad_Moreno', 'Localidad_Morón',\n",
       "       'Localidad_Pilar', 'Localidad_Presidente Perón', 'Localidad_Quilmes',\n",
       "       'Localidad_San Fernando', 'Localidad_San Isidro',\n",
       "       'Localidad_San Miguel', 'Localidad_San Vicente', 'Localidad_Tigre',\n",
       "       'Localidad_Tres de Febrero', 'Localidad_Vicente López'],\n",
       "      dtype='object')"
      ]
     },
     "execution_count": 45,
     "metadata": {},
     "output_type": "execute_result"
    }
   ],
   "source": [
    "data_gba.columns\n"
   ]
  },
  {
   "cell_type": "markdown",
   "metadata": {},
   "source": [
    "## Armando el Modelo de Regresión Lineal"
   ]
  },
  {
   "cell_type": "markdown",
   "metadata": {},
   "source": [
    "## Ploteamos Variables Cuantitativas "
   ]
  },
  {
   "cell_type": "code",
   "execution_count": 46,
   "metadata": {},
   "outputs": [
    {
     "data": {
      "image/png": "[encoded data removed]",
      "text/plain": [
       "<Figure size 720x720 with 2 Axes>"
      ]
     },
     "metadata": {
      "needs_background": "light"
     },
     "output_type": "display_data"
    }
   ],
   "source": [
    "fig, ax = plt.subplots(figsize=(10,10))\n",
    "ax.set_title('Correlaciones entre Precio m2 -USD- y Distintas Características de las Propiedades', )\n",
    "\n",
    "sns.heatmap(data_gba_train.loc[:,[\"floor\",'rooms', 'sup_total','sup_cub','sup_descub',\"price_usd_per_m2\"]].corr(), vmin=-1, vmax=1, center=0, cmap=\"YlGnBu\", annot=True);\n",
    "\n",
    "plt.savefig('GBA v1 Correlaciones1.png')"
   ]
  },
  {
   "cell_type": "markdown",
   "metadata": {},
   "source": [
    "De las correlaciones previas vemos que hay una relación negativa entre superficie y precio por m2. Esto se debe a que cuanto mas grandes son las propiedades, disminuye si valor por metro\n"
   ]
  },
  {
   "cell_type": "code",
   "execution_count": 47,
   "metadata": {},
   "outputs": [
    {
     "data": {
      "image/png": "[encoded data removed]",
      "text/plain": [
       "<Figure size 1080x1080 with 2 Axes>"
      ]
     },
     "metadata": {
      "needs_background": "light"
     },
     "output_type": "display_data"
    }
   ],
   "source": [
    "data_gba_localidades=data_gba.loc[:,['price_usd_per_m2','Localidad_Avellaneda',\n",
    "       'Localidad_Berazategui', 'Localidad_Cañuelas', 'Localidad_Escobar',\n",
    "       'Localidad_Esteban Echeverría', 'Localidad_Ezeiza',\n",
    "       'Localidad_Florencio Varela', 'Localidad_General Rodríguez',\n",
    "       'Localidad_General San Martín', 'Localidad_Hurlingham',\n",
    "       'Localidad_Ituzaingó', 'Localidad_José C Paz', 'Localidad_La Matanza',\n",
    "       'Localidad_La Plata', 'Localidad_Lanús', 'Localidad_Lomas de Zamora',\n",
    "       'Localidad_Malvinas Argentinas', 'Localidad_Marcos Paz',\n",
    "       'Localidad_Merlo', 'Localidad_Moreno', 'Localidad_Morón',\n",
    "       'Localidad_Pilar', 'Localidad_Presidente Perón', 'Localidad_Quilmes',\n",
    "       'Localidad_San Fernando', 'Localidad_San Isidro',\n",
    "       'Localidad_San Miguel', 'Localidad_San Vicente', 'Localidad_Tigre',\n",
    "       'Localidad_Tres de Febrero', 'Localidad_Vicente López']]\n",
    "\n",
    "fig, ax = plt.subplots(figsize=(15,15))\n",
    "ax.set_title('Correlaciones entre Precio m2 -USD- Tipo Propiedad y Región GBA', )\n",
    "sns.heatmap(data_gba_localidades.corr(), vmin=-1, vmax=1, center=0, cmap=\"YlGnBu\")#, annot=True);\n",
    "\n",
    "plt.savefig('GBA v1 Correlaciones 2.png')\n"
   ]
  },
  {
   "cell_type": "markdown",
   "metadata": {},
   "source": [
    "Las localidades mas correlacionadas con el precio m2 son las \"esperables\". Localidades mas caras: Vte Lopez, Tigre, San Fernando, San Isidro son las que evidencian una mayor correlación con el precio"
   ]
  },
  {
   "attachments": {
    "image.png": {
     "image/png": "[encoded data removed]"
    }
   },
   "cell_type": "markdown",
   "metadata": {},
   "source": [
    "## Definición de columnas a utilizar\n",
    "###  Fit\n",
    "Elegimos las columnas que son significativas para la predicción:<br>\n",
    "\n",
    "Dummies relacionadas con Amenities: cochera, gimnasio, piscina, SUM, laundry, balcon, patio, parrilla\n",
    "Dummies relacionadas con Características de la Propiedad: floor, rooms, sup_descub, sup_total\n",
    "Dummies relacionadas con el tipo de propiedad: tipo_propiedad_apartment, tipo_propiedad_house, tipo_propiedad_store, PH es la excluida???\n",
    "Dummies de Ubicación: Localidadades \n",
    "\n",
    "### Columna label\n",
    "Esta columna la vamos a utilizar para indicar el valor de cada registro\n",
    "*  price_usd_per_m2\n",
    "\n",
    "\n",
    "## Sentido del Flujo de Trabajo\n",
    "\n",
    "![image.png](attachment:image.png)"
   ]
  },
  {
   "cell_type": "markdown",
   "metadata": {},
   "source": [
    "## Definición de Variables adicionales"
   ]
  },
  {
   "cell_type": "code",
   "execution_count": 48,
   "metadata": {},
   "outputs": [],
   "source": [
    "#superficie por rooms, busca encontrar la valoración por ambientes de mayores dimensiones\n",
    "\n",
    "data_gba['sup_por_room']=data_gba['sup_cub']/data_gba['rooms']\n",
    "#data_gba['cub_desc']=data_gba['sup_cub']*data_gba['sup_descub']\n",
    "\n",
    "\n",
    "#Creamos esas nuevas medidas en las particiones de entrenamiento y testeo. Como son variables que se calculan por fila\n",
    "#no hay contaminación de sets\n",
    "data_gba_train['sup_por_room']=data_gba_train['sup_cub']/data_gba_train['rooms']\n",
    "#data_gba_train['cub_desc']=data_gba_train['sup_cub']*data_gba_train['sup_descub']\n",
    "\n",
    "data_gba_test['sup_por_room']=data_gba_test['sup_cub']/data_gba_test['rooms']\n",
    "#data_gba_test['cub_desc']=data_gba_test['sup_cub']*data_gba_test['sup_descub']\n",
    "\n"
   ]
  },
  {
   "cell_type": "code",
   "execution_count": 49,
   "metadata": {},
   "outputs": [],
   "source": [
    "#data_gba['sup_descub'].value_counts()"
   ]
  },
  {
   "cell_type": "code",
   "execution_count": 50,
   "metadata": {},
   "outputs": [
    {
     "data": {
      "image/png": "[encoded data removed]",
      "text/plain": [
       "<Figure size 720x720 with 2 Axes>"
      ]
     },
     "metadata": {
      "needs_background": "light"
     },
     "output_type": "display_data"
    }
   ],
   "source": [
    "plt.figure(figsize=(10, 10))#,dpi=120)\n",
    "#sns.set(font_scale=2) \n",
    "sns.heatmap(data_gba[['price_usd_per_m2','sup_por_room',\"sup_cub\",\"sup_descub\",'sup_total']].corr(), annot=True)\n",
    "\n",
    "plt.savefig('GBA v1 variables adicionales.png')"
   ]
  },
  {
   "cell_type": "markdown",
   "metadata": {},
   "source": [
    "  Vamos a desestimar la \"sup_total\"\n",
    "- Tenemos las otras dos variables LD \n",
    "- No participa de la creación de las nuevas features ya que nuestra nueva variable la calculamos a partir de la superficie cubierta"
   ]
  },
  {
   "cell_type": "code",
   "execution_count": 51,
   "metadata": {
    "scrolled": true
   },
   "outputs": [],
   "source": [
    "#data_gba_train.columns"
   ]
  },
  {
   "cell_type": "code",
   "execution_count": 52,
   "metadata": {},
   "outputs": [],
   "source": [
    "#data_gba_test.columns"
   ]
  },
  {
   "cell_type": "code",
   "execution_count": 53,
   "metadata": {},
   "outputs": [],
   "source": [
    "x_columns_drop = ['tipo_propiedad','Provincia','Localidad','const_index','price_usd_per_m2','sup_total']\n",
    "y_column = 'price_usd_per_m2'\n",
    "\n",
    "X_gba_train = data_gba_train.drop(columns=x_columns_drop)\n",
    "y_gba_train = data_gba_train[y_column]\n",
    "X_gba_test = data_gba_test.drop(columns=x_columns_drop)\n",
    "y_gba_test = data_gba_test[y_column]"
   ]
  },
  {
   "cell_type": "code",
   "execution_count": 54,
   "metadata": {},
   "outputs": [
    {
     "name": "stdout",
     "output_type": "stream",
     "text": [
      "Shape X train: (15207, 47)\n",
      "Shape y train: (15207,)\n",
      "Type X train : <class 'pandas.core.frame.DataFrame'>\n",
      "Type y train: <class 'pandas.core.series.Series'>\n",
      "Shape X test: (5069, 47)\n",
      "Shape y test: (5069,)\n",
      "Type X test: <class 'pandas.core.frame.DataFrame'>\n",
      "Type y test: <class 'pandas.core.series.Series'>\n"
     ]
    }
   ],
   "source": [
    "print(\"Shape X train:\", X_gba_train.shape)\n",
    "print(\"Shape y train:\", y_gba_train.shape)\n",
    "\n",
    "print(\"Type X train :\", type(X_gba_train))\n",
    "print(\"Type y train:\", type(y_gba_train))\n",
    "\n",
    "print(\"Shape X test:\", X_gba_test.shape)\n",
    "print(\"Shape y test:\", y_gba_test.shape)\n",
    "\n",
    "print(\"Type X test:\", type(X_gba_test))\n",
    "print(\"Type y test:\", type(y_gba_test))"
   ]
  },
  {
   "cell_type": "code",
   "execution_count": 55,
   "metadata": {},
   "outputs": [],
   "source": [
    "def print_metrics(y_gba_real,y_gba_pred):\n",
    "    print('MAE:', round(mean_absolute_error(y_gba_real,y_gba_pred),6))\n",
    "    print('MSE:', round(mean_squared_error(y_gba_real,y_gba_pred),6))\n",
    "    print('RMSE:', round(np.sqrt(mean_squared_error(y_gba_real,y_gba_pred)),6))\n",
    "    print('R2:', round(r2_score(y_gba_real,y_gba_pred),4))"
   ]
  },
  {
   "cell_type": "markdown",
   "metadata": {},
   "source": [
    "## Primero Corremos el Modelo de Regresión Lineal"
   ]
  },
  {
   "cell_type": "code",
   "execution_count": 56,
   "metadata": {},
   "outputs": [
    {
     "name": "stdout",
     "output_type": "stream",
     "text": [
      "Para el train set:\n",
      "MAE: 364.330148\n",
      "MSE: 239700.158342\n",
      "RMSE: 489.591828\n",
      "R2: 0.5596\n",
      "------------------------------\n",
      "Para el test set:\n",
      "MAE: 366.494852\n",
      "MSE: 245909.832459\n",
      "RMSE: 495.892965\n",
      "R2: 0.5447\n",
      "------------------------------\n"
     ]
    }
   ],
   "source": [
    "lm = LinearRegression()\n",
    "\n",
    "model_linreg = lm.fit(X_gba_train, y_gba_train)\n",
    "\n",
    "#Predicciones del modelo para el set de entrenamiento\n",
    "y_gba_pred_tr_lm = model_linreg.predict(X_gba_train)\n",
    "#Predicciones del modelo para el set de testeo\n",
    "y_gba_pred_ts_lm = model_linreg.predict(X_gba_test)\n",
    "\n",
    "#Métricas del modelo para el set de entrenamiento\n",
    "print(\"Para el train set:\")\n",
    "print_metrics(y_gba_train,y_gba_pred_tr_lm)\n",
    "print(\"------------------------------\")\n",
    "\n",
    "#Métricas del modelo para el set de testeo\n",
    "print(\"Para el test set:\")\n",
    "print_metrics(y_gba_test,y_gba_pred_ts_lm)\n",
    "print(\"------------------------------\")"
   ]
  },
  {
   "cell_type": "code",
   "execution_count": 57,
   "metadata": {},
   "outputs": [
    {
     "name": "stdout",
     "output_type": "stream",
     "text": [
      "[0.53828815 0.56645183 0.55649896 0.54511289 0.57422399]\n"
     ]
    }
   ],
   "source": [
    "print(cross_val_score(model_linreg, X_gba_train, y_gba_train, cv=5))  "
   ]
  },
  {
   "cell_type": "markdown",
   "metadata": {},
   "source": [
    "### Normalizamos los Datos Previo a Correr la Regularización"
   ]
  },
  {
   "cell_type": "markdown",
   "metadata": {},
   "source": [
    "Al principio del trabajo vimos que las variables cuantitativas están expresadas cada una en su propia escala de valores. Daremos uniformidad estandarizándolas."
   ]
  },
  {
   "cell_type": "code",
   "execution_count": 58,
   "metadata": {},
   "outputs": [],
   "source": [
    "stdscalerX = StandardScaler()\n",
    "\n",
    "x_columns_drop = ['tipo_propiedad','Provincia','Localidad','const_index','price_usd_per_m2','sup_total']\n",
    "y_column = 'price_usd_per_m2'\n",
    "\n",
    "X_gba_train = data_gba_train.drop(columns=x_columns_drop)\n",
    "y_gba_train = data_gba_train[y_column]\n",
    "X_gba_test = data_gba_test.drop(columns=x_columns_drop)\n",
    "y_gba_test = data_gba_test[y_column]\n",
    "\n",
    "\n",
    "Xs_gba_train = stdscalerX.fit_transform(X_gba_train)\n",
    "ys_gba_train = y_gba_train\n",
    "\n",
    "Xs_gba_test = stdscalerX.transform(X_gba_test)\n",
    "ys_gba_test = y_gba_test"
   ]
  },
  {
   "cell_type": "code",
   "execution_count": 59,
   "metadata": {},
   "outputs": [
    {
     "name": "stdout",
     "output_type": "stream",
     "text": [
      "Para el train set:\n",
      "MAE: 364.330148\n",
      "MSE: 239700.158342\n",
      "RMSE: 489.591828\n",
      "R2: 0.5596\n",
      "------------------------------\n",
      "Para el test set:\n",
      "MAE: 366.494852\n",
      "MSE: 245909.832459\n",
      "RMSE: 495.892965\n",
      "R2: 0.5447\n",
      "------------------------------\n"
     ]
    }
   ],
   "source": [
    "#lmreg = linear_model.LinearRegression()\n",
    "model_linreg_std = lm.fit(Xs_gba_train,ys_gba_train)\n",
    "\n",
    "#Predicciones del modelo para el set de entrenamiento\n",
    "ys_gba_pred_tr_lm = model_linreg_std.predict(Xs_gba_train)\n",
    "#Predicciones del modelo para el set de testeo\n",
    "ys_gba_pred_ts_lm = model_linreg_std.predict(Xs_gba_test)\n",
    "\n",
    "#Métricas del modelo para el set de entrenamiento\n",
    "print(\"Para el train set:\")\n",
    "print_metrics(ys_gba_train,ys_gba_pred_tr_lm)\n",
    "print(\"------------------------------\")\n",
    "\n",
    "#Métricas del modelo para el set de testeo\n",
    "print(\"Para el test set:\")\n",
    "print_metrics(ys_gba_test,ys_gba_pred_ts_lm)\n",
    "print(\"------------------------------\")"
   ]
  },
  {
   "cell_type": "markdown",
   "metadata": {},
   "source": [
    "No hay diferencias respecto al modelo lineal sin normalizar"
   ]
  },
  {
   "cell_type": "markdown",
   "metadata": {},
   "source": [
    "## Corremos la Normalización Min-Max"
   ]
  },
  {
   "cell_type": "code",
   "execution_count": 60,
   "metadata": {},
   "outputs": [],
   "source": [
    "from sklearn.preprocessing import MinMaxScaler\n",
    "\n",
    "minmaxscalerX = MinMaxScaler()\n",
    "\n",
    "x_columns_drop = ['tipo_propiedad','Provincia','Localidad','const_index','price_usd_per_m2','sup_total']\n",
    "y_column = 'price_usd_per_m2'\n",
    "\n",
    "X_gba_train = data_gba_train.drop(columns=x_columns_drop)\n",
    "y_gba_train = data_gba_train[y_column]\n",
    "X_gba_test = data_gba_test.drop(columns=x_columns_drop)\n",
    "y_gba_test = data_gba_test[y_column]\n",
    "\n",
    "Xn_gba_train = minmaxscalerX.fit_transform(X_gba_train)\n",
    "yn_gba_train = y_gba_train\n",
    "\n",
    "# Sobre el test set SOLO aplicamos transform !!!\n",
    "Xn_gba_test = minmaxscalerX.transform(X_gba_test)\n",
    "yn_gba_test = y_gba_test"
   ]
  },
  {
   "cell_type": "code",
   "execution_count": 61,
   "metadata": {},
   "outputs": [
    {
     "name": "stdout",
     "output_type": "stream",
     "text": [
      "Para el train set:\n",
      "MAE: 364.330148\n",
      "MSE: 239700.158342\n",
      "RMSE: 489.591828\n",
      "R2: 0.5596\n",
      "------------------------------\n",
      "Para el test set:\n",
      "MAE: 366.494852\n",
      "MSE: 245909.832459\n",
      "RMSE: 495.892965\n",
      "R2: 0.5447\n",
      "------------------------------\n"
     ]
    }
   ],
   "source": [
    "#lmreg = linear_model.LinearRegression()\n",
    "model_linreg_n = lm.fit(Xn_gba_train,yn_gba_train)\n",
    "\n",
    "#Predicciones del modelo para el set de entrenamiento\n",
    "yn_gba_pred_tr_lm = model_linreg_n.predict(Xn_gba_train)\n",
    "#Predicciones del modelo para el set de testeo\n",
    "yn_gba_pred_ts_lm = model_linreg_n.predict(Xn_gba_test)\n",
    "\n",
    "#Métricas del modelo para el set de entrenamiento\n",
    "print(\"Para el train set:\")\n",
    "print_metrics(yn_gba_train,yn_gba_pred_tr_lm)\n",
    "print(\"------------------------------\")\n",
    "\n",
    "#Métricas del modelo para el set de testeo\n",
    "print(\"Para el test set:\")\n",
    "print_metrics(yn_gba_test,yn_gba_pred_ts_lm)\n",
    "print(\"------------------------------\")"
   ]
  },
  {
   "cell_type": "markdown",
   "metadata": {},
   "source": [
    "Corriendo la normalización por máximos y mínimos tampoco se registran diferencias respecto al modelo sin normalizar"
   ]
  },
  {
   "cell_type": "markdown",
   "metadata": {},
   "source": [
    "## Función que crea polinomiales"
   ]
  },
  {
   "cell_type": "code",
   "execution_count": 62,
   "metadata": {},
   "outputs": [],
   "source": [
    "from sklearn.preprocessing import PolynomialFeatures\n",
    "\n",
    "def get_poly_X(poly_vars,y_var,df_train,df_test,degree=2):\n",
    "    X_gba_train = df_train[poly_vars]\n",
    "    y_gba_train = df_train[y_var]\n",
    "    X_gba_test = df_test[poly_vars]\n",
    "    y_gba_test = df_test[y_var]\n",
    "    \n",
    "    X_gba_train_pol = PolynomialFeatures(degree,include_bias=False,interaction_only=False).fit_transform(X_gba_train)\n",
    "    X_gba_test_pol = PolynomialFeatures(degree,include_bias=False,interaction_only=False).fit_transform(X_gba_test)\n",
    "    \n",
    "    X_gba_train_pol = np.concatenate((X_gba_train_pol,df_train.drop(columns=poly_vars+y_var).values),axis=1)\n",
    "    X_gba_test_pol = np.concatenate((X_gba_test_pol,df_test.drop(columns=poly_vars+y_var).values),axis=1)\n",
    "    \n",
    "    return X_gba_train_pol,X_gba_test_pol"
   ]
  },
  {
   "cell_type": "markdown",
   "metadata": {},
   "source": [
    "## Creación de features polinomiales grado 2"
   ]
  },
  {
   "cell_type": "code",
   "execution_count": 63,
   "metadata": {},
   "outputs": [
    {
     "data": {
      "text/plain": [
       "Index(['tipo_propiedad', 'Provincia', 'Localidad', 'cochera', 'gimnasio',\n",
       "       'piscina', 'SUM', 'laundry', 'balcon', 'patio', 'parrilla', 'floor',\n",
       "       'rooms', 'sup_cub', 'sup_descub', 'sup_total', 'price_usd_per_m2',\n",
       "       'tipo_propiedad_apartment', 'tipo_propiedad_house',\n",
       "       'tipo_propiedad_store', 'Localidad_Avellaneda', 'Localidad_Berazategui',\n",
       "       'Localidad_Cañuelas', 'Localidad_Escobar',\n",
       "       'Localidad_Esteban Echeverría', 'Localidad_Ezeiza',\n",
       "       'Localidad_Florencio Varela', 'Localidad_General Rodríguez',\n",
       "       'Localidad_General San Martín', 'Localidad_Hurlingham',\n",
       "       'Localidad_Ituzaingó', 'Localidad_José C Paz', 'Localidad_La Matanza',\n",
       "       'Localidad_La Plata', 'Localidad_Lanús', 'Localidad_Lomas de Zamora',\n",
       "       'Localidad_Malvinas Argentinas', 'Localidad_Marcos Paz',\n",
       "       'Localidad_Merlo', 'Localidad_Moreno', 'Localidad_Morón',\n",
       "       'Localidad_Pilar', 'Localidad_Presidente Perón', 'Localidad_Quilmes',\n",
       "       'Localidad_San Fernando', 'Localidad_San Isidro',\n",
       "       'Localidad_San Miguel', 'Localidad_San Vicente', 'Localidad_Tigre',\n",
       "       'Localidad_Tres de Febrero', 'Localidad_Vicente López', 'const_index',\n",
       "       'sup_por_room'],\n",
       "      dtype='object')"
      ]
     },
     "execution_count": 63,
     "metadata": {},
     "output_type": "execute_result"
    }
   ],
   "source": [
    "data_gba_train.columns"
   ]
  },
  {
   "cell_type": "code",
   "execution_count": 64,
   "metadata": {},
   "outputs": [],
   "source": [
    "poly_vars = ['floor','rooms','sup_cub','sup_descub','sup_por_room']\n",
    "y_column = ['price_usd_per_m2']\n",
    "poly_drop = ['tipo_propiedad', 'Provincia','Localidad','sup_total','const_index']\n",
    "data_train2 = data_gba_train.drop(columns=poly_drop).copy()\n",
    "data_test2 = data_gba_test.drop(columns=poly_drop).copy()\n",
    "\n",
    "X_gba_train_pol2,X_gba_test_pol2 = get_poly_X(poly_vars = poly_vars, y_var = y_column, df_train = data_train2, df_test = data_test2,degree=2)\n",
    "y_gba_train_pol2 = data_train2[y_column[0]]\n",
    "y_gba_test_pol2 = data_test2[y_column[0]]\n"
   ]
  },
  {
   "cell_type": "code",
   "execution_count": 65,
   "metadata": {},
   "outputs": [
    {
     "name": "stdout",
     "output_type": "stream",
     "text": [
      "Para el train set:\n",
      "MAE: 351.271857\n",
      "MSE: 228596.501865\n",
      "RMSE: 478.117665\n",
      "R2: 0.58\n",
      "------------------------------\n",
      "Para el test set:\n",
      "MAE: 353.728678\n",
      "MSE: 232386.67635\n",
      "RMSE: 482.065013\n",
      "R2: 0.5698\n",
      "------------------------------\n"
     ]
    }
   ],
   "source": [
    "#lmreg = linear_model.LinearRegression()\n",
    "model_linreg_pol = lm.fit(X_gba_train_pol2, y_gba_train_pol2)\n",
    "\n",
    "#Predicciones del modelo para el set de entrenamiento\n",
    "y_gba_pred_tr_lm_pol2 = model_linreg_pol.predict(X_gba_train_pol2)\n",
    "#Predicciones del modelo para el set de testeo\n",
    "y_gba_pred_ts_lm_pol2 = model_linreg_pol.predict(X_gba_test_pol2)\n",
    "\n",
    "#Métricas del modelo para el set de entrenamiento\n",
    "print(\"Para el train set:\")\n",
    "print_metrics(y_gba_train_pol2,y_gba_pred_tr_lm_pol2)\n",
    "print(\"------------------------------\")\n",
    "\n",
    "#Métricas del modelo para el set de testeo\n",
    "print(\"Para el test set:\")\n",
    "print_metrics(y_gba_test_pol2,y_gba_pred_ts_lm_pol2)\n",
    "print(\"------------------------------\")"
   ]
  },
  {
   "cell_type": "markdown",
   "metadata": {},
   "source": [
    "Incluir features polinómicas a nuestro modelo de regresión lineal aumenta el R2, esto es, el modelo ahora explica mayor parte de la variabilidad de los datos. \n",
    "Está disminuyendo el sesgo de los datos respecto al modelo de regresión. En el mismo sentido disminutó el RMSE (error cuadrático medio raiz, la función de pérdida que estamos buscando minimizar)"
   ]
  },
  {
   "cell_type": "markdown",
   "metadata": {},
   "source": [
    "## Creación de features polinomiales grado 3"
   ]
  },
  {
   "cell_type": "code",
   "execution_count": 66,
   "metadata": {},
   "outputs": [
    {
     "data": {
      "text/plain": [
       "Index(['tipo_propiedad', 'Provincia', 'Localidad', 'cochera', 'gimnasio',\n",
       "       'piscina', 'SUM', 'laundry', 'balcon', 'patio', 'parrilla', 'floor',\n",
       "       'rooms', 'sup_cub', 'sup_descub', 'sup_total', 'price_usd_per_m2',\n",
       "       'tipo_propiedad_apartment', 'tipo_propiedad_house',\n",
       "       'tipo_propiedad_store', 'Localidad_Avellaneda', 'Localidad_Berazategui',\n",
       "       'Localidad_Cañuelas', 'Localidad_Escobar',\n",
       "       'Localidad_Esteban Echeverría', 'Localidad_Ezeiza',\n",
       "       'Localidad_Florencio Varela', 'Localidad_General Rodríguez',\n",
       "       'Localidad_General San Martín', 'Localidad_Hurlingham',\n",
       "       'Localidad_Ituzaingó', 'Localidad_José C Paz', 'Localidad_La Matanza',\n",
       "       'Localidad_La Plata', 'Localidad_Lanús', 'Localidad_Lomas de Zamora',\n",
       "       'Localidad_Malvinas Argentinas', 'Localidad_Marcos Paz',\n",
       "       'Localidad_Merlo', 'Localidad_Moreno', 'Localidad_Morón',\n",
       "       'Localidad_Pilar', 'Localidad_Presidente Perón', 'Localidad_Quilmes',\n",
       "       'Localidad_San Fernando', 'Localidad_San Isidro',\n",
       "       'Localidad_San Miguel', 'Localidad_San Vicente', 'Localidad_Tigre',\n",
       "       'Localidad_Tres de Febrero', 'Localidad_Vicente López', 'const_index',\n",
       "       'sup_por_room'],\n",
       "      dtype='object')"
      ]
     },
     "execution_count": 66,
     "metadata": {},
     "output_type": "execute_result"
    }
   ],
   "source": [
    "data_gba_train.columns"
   ]
  },
  {
   "cell_type": "code",
   "execution_count": 67,
   "metadata": {},
   "outputs": [
    {
     "data": {
      "text/plain": [
       "Index(['tipo_propiedad', 'Provincia', 'Localidad', 'cochera', 'gimnasio',\n",
       "       'piscina', 'SUM', 'laundry', 'balcon', 'patio', 'parrilla', 'floor',\n",
       "       'rooms', 'sup_cub', 'sup_descub', 'sup_total', 'price_usd_per_m2',\n",
       "       'tipo_propiedad_apartment', 'tipo_propiedad_house',\n",
       "       'tipo_propiedad_store', 'Localidad_Avellaneda', 'Localidad_Berazategui',\n",
       "       'Localidad_Cañuelas', 'Localidad_Escobar',\n",
       "       'Localidad_Esteban Echeverría', 'Localidad_Ezeiza',\n",
       "       'Localidad_Florencio Varela', 'Localidad_General Rodríguez',\n",
       "       'Localidad_General San Martín', 'Localidad_Hurlingham',\n",
       "       'Localidad_Ituzaingó', 'Localidad_José C Paz', 'Localidad_La Matanza',\n",
       "       'Localidad_La Plata', 'Localidad_Lanús', 'Localidad_Lomas de Zamora',\n",
       "       'Localidad_Malvinas Argentinas', 'Localidad_Marcos Paz',\n",
       "       'Localidad_Merlo', 'Localidad_Moreno', 'Localidad_Morón',\n",
       "       'Localidad_Pilar', 'Localidad_Presidente Perón', 'Localidad_Quilmes',\n",
       "       'Localidad_San Fernando', 'Localidad_San Isidro',\n",
       "       'Localidad_San Miguel', 'Localidad_San Vicente', 'Localidad_Tigre',\n",
       "       'Localidad_Tres de Febrero', 'Localidad_Vicente López', 'const_index',\n",
       "       'sup_por_room'],\n",
       "      dtype='object')"
      ]
     },
     "execution_count": 67,
     "metadata": {},
     "output_type": "execute_result"
    }
   ],
   "source": [
    "data_gba_test.columns"
   ]
  },
  {
   "cell_type": "code",
   "execution_count": 68,
   "metadata": {},
   "outputs": [],
   "source": [
    "poly_vars = ['floor','rooms','sup_cub','sup_descub','sup_por_room']\n",
    "y_column = ['price_usd_per_m2']\n",
    "poly_drop = ['tipo_propiedad', 'Provincia','Localidad','sup_total','const_index']\n",
    "data_train3 = data_gba_train.drop(columns=poly_drop).copy()\n",
    "data_test3 = data_gba_test.drop(columns=poly_drop).copy()\n",
    "\n",
    "X_gba_train_pol3,X_gba_test_pol3 = get_poly_X(poly_vars = poly_vars, y_var = y_column, df_train = data_train3, df_test = data_test3,degree=3)\n",
    "y_gba_train_pol3 = data_train3[y_column[0]]\n",
    "y_gba_test_pol3 = data_test3[y_column[0]]"
   ]
  },
  {
   "cell_type": "code",
   "execution_count": 69,
   "metadata": {},
   "outputs": [
    {
     "name": "stdout",
     "output_type": "stream",
     "text": [
      "Para el train set:\n",
      "MAE: 346.210513\n",
      "MSE: 222677.719317\n",
      "RMSE: 471.887401\n",
      "R2: 0.5909\n",
      "------------------------------\n",
      "Para el test set:\n",
      "MAE: 355.07375\n",
      "MSE: 426317.597509\n",
      "RMSE: 652.93001\n",
      "R2: 0.2107\n",
      "------------------------------\n"
     ]
    }
   ],
   "source": [
    "#lmreg = linear_model.LinearRegression()\n",
    "model_linreg_pol = lm.fit(X_gba_train_pol3,y_gba_train)\n",
    "\n",
    "#Predicciones del modelo para el set de entrenamiento\n",
    "y_gba_pred_tr_lm_pol3 = model_linreg_pol.predict(X_gba_train_pol3)\n",
    "#Predicciones del modelo para el set de testeo\n",
    "y_gba_pred_ts_lm_pol3 = model_linreg_pol.predict(X_gba_test_pol3)\n",
    "\n",
    "#Métricas del modelo para el set de entrenamiento\n",
    "print(\"Para el train set:\")\n",
    "print_metrics(y_gba_train_pol3, y_gba_pred_tr_lm_pol3)\n",
    "print(\"------------------------------\")\n",
    "\n",
    "#Métricas del modelo para el set de testeo\n",
    "print(\"Para el test set:\")\n",
    "print_metrics(y_gba_test_pol3,y_gba_pred_ts_lm_pol3)\n",
    "print(\"------------------------------\")"
   ]
  },
  {
   "cell_type": "markdown",
   "metadata": {},
   "source": [
    "Al incluir en el modelo Features polinómicas de 3er grado, en el set de entrenamiento vemos que aumentó el R2, esto por ahora es positivo, pero , al validar el modelo con el set de testeo la caida abrupta del indicador evidencia que el aumento en la variabilidad de los datos se produjo a causa de un Overfiting en el set de entrenamiento. "
   ]
  },
  {
   "cell_type": "markdown",
   "metadata": {},
   "source": [
    "# Comparación de LR, Lasso y Ridge con features originales"
   ]
  },
  {
   "cell_type": "markdown",
   "metadata": {},
   "source": [
    "## Ahora vamos a Tunear los Hiperparámetros"
   ]
  },
  {
   "cell_type": "markdown",
   "metadata": {},
   "source": [
    "* regresión lineal sin regularizar(`LinearRegression()`)\n",
    "* regresión lineal regularizada Ridge (`Ridge()`, `RidgeCV()`)\n",
    "* regresión lineal regularizada LASSO (`Lasso()`, `LassoCV()`)\n"
   ]
  },
  {
   "cell_type": "code",
   "execution_count": 70,
   "metadata": {},
   "outputs": [],
   "source": [
    "#Generamos un grid de \"alphas\" para probar e instanciamos un particionador del Training Set \n",
    "#Estos alphas se encuentran ajustados a las distintas pruebas de hiperparámetros (inicialmente el alpha óptimo coincidia \n",
    "#con el límite inferior 0.01 por ello se hizo un ajuste del mismo para darle mas libertad al ajuste del hiperparámetro)\n",
    "#en K partes para realizar la validación cruzada\n",
    "\n",
    "al_gba_ridge = np.linspace(100, 200, 100)\n",
    "al_gba_lasso = np.linspace(0.1, 1, 100)\n",
    "\n",
    "kf_gba = KFold(n_splits=5, shuffle=True, random_state=15)\n",
    "\n",
    "# Instanciamos los modelos, como los datos ya están estandarizados. Corremos Ridge y Lasso y Elastic Net para Regularizar\n",
    "\n",
    "lm_gba = LinearRegression(fit_intercept=True)\n",
    "\n",
    "lm_gba_ridge_cv= RidgeCV(alphas=al_gba_ridge, cv=kf_gba, normalize=False)\n",
    "lm_gba_lasso_cv = LassoCV(alphas=al_gba_lasso, cv=kf_gba, normalize=False,max_iter=1000)\n"
   ]
  },
  {
   "cell_type": "code",
   "execution_count": 71,
   "metadata": {},
   "outputs": [],
   "source": [
    "stdscalerX = StandardScaler()\n",
    "\n",
    "x_columns_drop = ['tipo_propiedad','Provincia','Localidad','const_index','price_usd_per_m2','sup_total']\n",
    "y_column = 'price_usd_per_m2'\n",
    "\n",
    "X_gba_train = data_gba_train.drop(columns=x_columns_drop)\n",
    "y_gba_train = data_gba_train[y_column]\n",
    "X_gba_test = data_gba_test.drop(columns=x_columns_drop)\n",
    "y_gba_test = data_gba_test[y_column]\n",
    "\n",
    "Xs_gba_train = stdscalerX.fit_transform(X_gba_train)\n",
    "ys_gba_train = y_gba_train\n",
    "\n",
    "Xs_gba_test = stdscalerX.transform(X_gba_test)\n",
    "ys_gba_test = y_gba_test"
   ]
  },
  {
   "cell_type": "code",
   "execution_count": 72,
   "metadata": {},
   "outputs": [],
   "source": [
    "model_linreg = lm_gba.fit(Xs_gba_train, np.ravel(ys_gba_train))"
   ]
  },
  {
   "cell_type": "code",
   "execution_count": 73,
   "metadata": {},
   "outputs": [],
   "source": [
    "model_lin_ridge = lm_gba_ridge_cv.fit(Xs_gba_train, np.ravel(ys_gba_train))"
   ]
  },
  {
   "cell_type": "code",
   "execution_count": 74,
   "metadata": {},
   "outputs": [],
   "source": [
    "model_lin_lasso = lm_gba_lasso_cv.fit(Xs_gba_train, np.ravel(ys_gba_train))"
   ]
  },
  {
   "cell_type": "markdown",
   "metadata": {},
   "source": [
    "### Vemos cuales son los ALPHA calculados"
   ]
  },
  {
   "cell_type": "code",
   "execution_count": 76,
   "metadata": {},
   "outputs": [
    {
     "name": "stdout",
     "output_type": "stream",
     "text": [
      "Alpha Ridge para modelo GBA: 116.16161616161617 \n",
      "Alpha LASSO para modelo GBA: 0.2727272727272727 \n",
      "\n"
     ]
    }
   ],
   "source": [
    "print('Alpha Ridge para modelo GBA:',model_lin_ridge.alpha_,'\\n'\n",
    "      'Alpha LASSO para modelo GBA:',model_lin_lasso.alpha_,'\\n')\n"
   ]
  },
  {
   "cell_type": "markdown",
   "metadata": {},
   "source": [
    "en esta instancia ya se hicieron los ajustes y quedan expresados sólo los hiperparámetros optimizados "
   ]
  },
  {
   "cell_type": "markdown",
   "metadata": {},
   "source": [
    "## Ya seteamos los hiperparámetros, ahora vamos a correr el modelo en todo el training set"
   ]
  },
  {
   "cell_type": "code",
   "execution_count": 77,
   "metadata": {},
   "outputs": [
    {
     "name": "stdout",
     "output_type": "stream",
     "text": [
      "Score Train Lineal: 0.5596\n",
      " Score Train Ridge : 0.5596\n",
      " Score Train Lasso : 0.5596\n",
      "\n",
      "Train RMSE lineal   : 489.5918 \n",
      " Train RMSE Ridge    : 489.6120 \n",
      " Train RMSE Lasso    : 489.6065 \n",
      "\n"
     ]
    }
   ],
   "source": [
    "# Calculamos el R2\n",
    "\n",
    "print(\"Score Train Lineal: %.4f\\n\" % model_linreg.score(Xs_gba_train, np.ravel(ys_gba_train)),\n",
    "    \"Score Train Ridge : %.4f\\n\" % model_lin_ridge.score(Xs_gba_train, np.ravel(ys_gba_train)),\n",
    "    \"Score Train Lasso : %.4f\\n\" %  model_lin_lasso.score(Xs_gba_train, np.ravel(ys_gba_train)))\n",
    "      #\"Score Train ElasticNet : %.4f\\n\" %  model_lin_ElasticNet.score(Xs_gba_train, ys_gba_train))\n",
    "        \n",
    "# Calculamos el RMSE\n",
    "\n",
    "ys_gba_pred_tr_lm = model_linreg.predict(Xs_gba_train)\n",
    "ys_gba_pred_tr_ridge = model_lin_ridge.predict(Xs_gba_train)\n",
    "ys_gba_pred_tr_lasso = model_lin_lasso.predict(Xs_gba_train)\n",
    "#ys_pred_tr_elasticNet = model_lin_ElasticNet.predict(Xs_gba_train)\n",
    "\n",
    "rmse = lambda y, y_pred: np.sqrt(mean_squared_error(y, y_pred))\n",
    "\n",
    "print(\"Train RMSE lineal   : %.4f \\n\" % rmse(ys_gba_train, np.ravel(ys_gba_pred_tr_lm)),\n",
    "    \"Train RMSE Ridge    : %.4f \\n\" % rmse(ys_gba_train, np.ravel(ys_gba_pred_tr_ridge)),\n",
    "    \"Train RMSE Lasso    : %.4f \\n\" % rmse(ys_gba_train, np.ravel(ys_gba_pred_tr_lasso)))\n",
    "      #\"Train RMSE ElasticNet    : %.4f \\n\" % rmse(ys_gba_train,ys_gba_pred_tr_elasticNet))\n",
    "\n",
    "\n"
   ]
  },
  {
   "cell_type": "code",
   "execution_count": 78,
   "metadata": {},
   "outputs": [
    {
     "name": "stdout",
     "output_type": "stream",
     "text": [
      " Score Test Lineal: 0.5447\n",
      " Score Test Ridge : 0.5449\n",
      " Score Test Lasso : 0.5448\n",
      "\n",
      " Test RMSE lineal= 495.8930\n",
      " Test RMSE Ridge = 495.8184\n",
      " Test RMSE Lasso = 495.8398\n"
     ]
    }
   ],
   "source": [
    "# Hacemos las predicciones sobre la matriz de predictores del Test Set\n",
    "\n",
    "ys_gba_pred_lm = model_linreg.predict(Xs_gba_test)\n",
    "ys_gba_pred_ridge = model_lin_ridge.predict(Xs_gba_test)\n",
    "ys_gba_pred_lasso = model_lin_lasso.predict(Xs_gba_test)\n",
    "\n",
    "\n",
    "print(\" Score Test Lineal: %.4f\\n\" % model_linreg.score(Xs_gba_test, ys_gba_test),\n",
    "      \"Score Test Ridge : %.4f\\n\" % model_lin_ridge.score(Xs_gba_test, ys_gba_test),\n",
    "      \"Score Test Lasso : %.4f\\n\" %  model_lin_lasso.score(Xs_gba_test, ys_gba_test))\n",
    "\n",
    "# Testeo final del modelo sobre Test Set\n",
    "\n",
    "print(\" Test RMSE lineal= %.4f\\n\" % rmse(ys_gba_test, ys_gba_pred_lm),\n",
    "      \"Test RMSE Ridge = %.4f\\n\" %  rmse(ys_gba_test, ys_gba_pred_ridge),\n",
    "      \"Test RMSE Lasso = %.4f\" %  rmse(ys_gba_test, ys_gba_pred_lasso))"
   ]
  },
  {
   "cell_type": "markdown",
   "metadata": {},
   "source": [
    "Vemos que no hay diferencias significativas al regularizar los datos"
   ]
  },
  {
   "cell_type": "code",
   "execution_count": 79,
   "metadata": {},
   "outputs": [],
   "source": [
    "r2_train_lin_d1 = model_linreg.score(Xs_gba_train, ys_gba_train)\n",
    "r2_test_lin_d1 = model_linreg.score(Xs_gba_test, ys_gba_test)\n",
    "\n",
    "r2_train_ridge_d1 = model_lin_ridge.score(Xs_gba_train, ys_gba_train)\n",
    "r2_test_ridge_d1 = model_lin_ridge.score(Xs_gba_test, ys_gba_test)\n",
    "\n",
    "r2_train_lasso_d1 = model_lin_lasso.score(Xs_gba_train, ys_gba_train)\n",
    "r2_test_lasso_d1 = model_lin_lasso.score(Xs_gba_test, ys_gba_test)"
   ]
  },
  {
   "cell_type": "markdown",
   "metadata": {},
   "source": [
    "## Cuáles son los Parámetros del Modelo??"
   ]
  },
  {
   "cell_type": "code",
   "execution_count": 80,
   "metadata": {},
   "outputs": [
    {
     "name": "stdout",
     "output_type": "stream",
     "text": [
      "El intercepto y el vector de coeficientes del Modelo de Regresion Simple sin Regularizar son:\n"
     ]
    },
    {
     "data": {
      "text/plain": [
       "(1387.861421205904,\n",
       " array([  12.72,   13.68,   57.41,    2.6 ,   30.7 ,   23.24,    6.51,\n",
       "          11.75,   12.02,  -46.76,   29.88, -260.5 ,  238.13,  -60.6 ,\n",
       "           3.15,  -32.67,   35.92,   -6.81,  -25.06,    9.98,   -3.61,\n",
       "         -11.19,  -15.24,  -47.78,  -14.78,  -57.9 ,  -21.21,  -28.2 ,\n",
       "         -31.76,  -52.02,    2.06,  -29.74,  -21.24,  -35.08,  -47.06,\n",
       "         -46.94,  -28.02,  -13.38,   -6.36,   21.63,   76.04,  -56.37,\n",
       "          -6.78,  120.11,  -47.11,  123.65,  -43.77]))"
      ]
     },
     "execution_count": 80,
     "metadata": {},
     "output_type": "execute_result"
    }
   ],
   "source": [
    "np.set_printoptions(precision=2, suppress=True)\n",
    "print(\"El intercepto y el vector de coeficientes del Modelo de Regresion Simple sin Regularizar son:\")\n",
    "(model_linreg.intercept_ , model_linreg.coef_)\n"
   ]
  },
  {
   "cell_type": "code",
   "execution_count": 81,
   "metadata": {},
   "outputs": [
    {
     "name": "stdout",
     "output_type": "stream",
     "text": [
      "El intercepto y el vector de coeficientes del Modelo de Regresion Simple Regularizado con Ridge son:\n"
     ]
    },
    {
     "data": {
      "text/plain": [
       "(1387.861421205904,\n",
       " array([  13.12,   14.03,   57.05,    3.15,   30.19,   24.02,    5.68,\n",
       "          12.01,   11.26,  -45.52,   26.58, -258.57,  230.13,  -66.83,\n",
       "           2.18,  -32.12,   35.69,   -6.8 ,  -24.92,    9.87,   -3.62,\n",
       "         -11.06,  -15.08,  -47.65,  -14.7 ,  -57.6 ,  -21.16,  -27.96,\n",
       "         -31.22,  -51.55,    2.55,  -29.39,  -21.15,  -34.89,  -46.7 ,\n",
       "         -46.25,  -27.54,  -13.36,   -6.23,   21.68,   75.75,  -55.57,\n",
       "          -6.79,  119.9 ,  -46.51,  122.98,  -40.98]))"
      ]
     },
     "execution_count": 81,
     "metadata": {},
     "output_type": "execute_result"
    }
   ],
   "source": [
    "np.set_printoptions(precision=2, suppress=True)\n",
    "print(\"El intercepto y el vector de coeficientes del Modelo de Regresion Simple Regularizado con Ridge son:\")\n",
    "(model_lin_ridge.intercept_ , model_lin_ridge.coef_)"
   ]
  },
  {
   "cell_type": "code",
   "execution_count": 82,
   "metadata": {},
   "outputs": [
    {
     "name": "stdout",
     "output_type": "stream",
     "text": [
      "El intercepto y el vector de coeficientes del Modelo de Regresion Simple Regularizado con Lasso son:\n"
     ]
    },
    {
     "data": {
      "text/plain": [
       "(1387.861421205904,\n",
       " array([  12.73,   13.52,   57.39,    2.51,   30.51,   23.16,    6.08,\n",
       "          11.54,   11.72,  -43.91,   25.32, -260.56,  238.08,  -60.43,\n",
       "           2.88,  -29.79,   37.44,   -5.95,  -20.66,   11.8 ,   -1.58,\n",
       "         -10.25,  -13.82,  -44.06,  -13.32,  -53.89,  -19.95,  -23.71,\n",
       "         -27.83,  -48.18,    6.22,  -27.29,  -19.93,  -32.66,  -43.76,\n",
       "         -41.7 ,  -22.19,  -12.14,   -3.98,   24.43,   80.31,  -52.56,\n",
       "          -5.49,  128.42,  -43.26,  128.58,  -39.75]))"
      ]
     },
     "execution_count": 82,
     "metadata": {},
     "output_type": "execute_result"
    }
   ],
   "source": [
    "np.set_printoptions(precision=2, suppress=True)\n",
    "print(\"El intercepto y el vector de coeficientes del Modelo de Regresion Simple Regularizado con Lasso son:\")\n",
    "(model_lin_lasso.intercept_ , model_lin_lasso.coef_)\n"
   ]
  },
  {
   "cell_type": "markdown",
   "metadata": {},
   "source": [
    "si bien las regularizaciones evidencian mínimas penalizaciones en algunos de los coeficientes, lasso aún no ha anulado ninguno de los mismos. El modelo lineal y los dos modelos regularizados tienen la misma cantidad de features"
   ]
  },
  {
   "cell_type": "markdown",
   "metadata": {},
   "source": [
    "## Comparación LR, Lasso y Ridge con polinomiales grado 2"
   ]
  },
  {
   "cell_type": "code",
   "execution_count": 84,
   "metadata": {},
   "outputs": [],
   "source": [
    "poly_vars = ['floor','rooms','sup_cub','sup_descub','sup_por_room']\n",
    "y_column = ['price_usd_per_m2']\n",
    "poly_drop = ['tipo_propiedad', 'Provincia','Localidad','sup_total','const_index']\n",
    "data_train2 = data_gba_train.drop(columns=poly_drop).copy()\n",
    "data_test2 = data_gba_test.drop(columns=poly_drop).copy()\n",
    "\n",
    "X_gba_train_pol2,X_gba_test_pol2 = get_poly_X(poly_vars = poly_vars, y_var = y_column, df_train = data_train2, df_test = data_test2,degree=2)\n",
    "y_gba_train_pol2 = data_train2[y_column[0]]\n",
    "y_gba_test_pol2 = data_test2[y_column[0]]"
   ]
  },
  {
   "cell_type": "code",
   "execution_count": 85,
   "metadata": {},
   "outputs": [],
   "source": [
    "Xs_gba_train_pol2 = stdscalerX.fit_transform(X_gba_train_pol2)\n",
    "ys_gba_train_pol2 = y_gba_train_pol2\n",
    "\n",
    "Xs_gba_test_pol2 = stdscalerX.transform(X_gba_test_pol2)\n",
    "ys_gba_test_pol2 = y_gba_test_pol2"
   ]
  },
  {
   "cell_type": "code",
   "execution_count": 86,
   "metadata": {},
   "outputs": [],
   "source": [
    "# Generamos un grid de $\\alpha$ para probar e instanciamos un particionador del Training Set \n",
    "# en K partes para realizar la validación cruzada\n",
    "\n",
    "al_gba_ridge = np.linspace(15, 25, 100)\n",
    "al_gba_lasso = np.linspace(0.05, 0.25,100)\n",
    "\n",
    "kf_gba = KFold(n_splits=5, shuffle=True, random_state=15)\n",
    "\n",
    "\n",
    "# Instanciamos los modelos\n",
    "\n",
    "lm_gba = LinearRegression()\n",
    "lm_gba_ridge_cv2= RidgeCV(alphas=al_gba_ridge, cv=kf_gba, normalize=False)\n",
    "lm_gba_lasso_cv2 = LassoCV(alphas=al_gba_lasso, cv=kf_gba, normalize=False,max_iter=100000)"
   ]
  },
  {
   "cell_type": "code",
   "execution_count": 87,
   "metadata": {},
   "outputs": [],
   "source": [
    "model_linreg_pol2 = lm.fit(Xs_gba_train_pol2, ys_gba_train_pol2)"
   ]
  },
  {
   "cell_type": "code",
   "execution_count": 88,
   "metadata": {},
   "outputs": [],
   "source": [
    "model_lin_ridge_pol2 = lm_gba_ridge_cv2.fit(Xs_gba_train_pol2, np.ravel(ys_gba_train_pol2))"
   ]
  },
  {
   "cell_type": "code",
   "execution_count": 89,
   "metadata": {},
   "outputs": [],
   "source": [
    "model_lin_lasso_pol2 = lm_gba_lasso_cv2.fit(Xs_gba_train_pol2, np.ravel(ys_gba_train_pol2))"
   ]
  },
  {
   "cell_type": "code",
   "execution_count": 90,
   "metadata": {},
   "outputs": [
    {
     "name": "stdout",
     "output_type": "stream",
     "text": [
      "Alpha Ridge: 17.32323232323232 \n",
      "Alpha LASSO: 0.151010101010101 \n",
      "\n"
     ]
    }
   ],
   "source": [
    "print('Alpha Ridge:',model_lin_ridge_pol2.alpha_,'\\n'\n",
    "      'Alpha LASSO:',model_lin_lasso_pol2.alpha_,'\\n')"
   ]
  },
  {
   "cell_type": "code",
   "execution_count": 91,
   "metadata": {},
   "outputs": [
    {
     "name": "stdout",
     "output_type": "stream",
     "text": [
      " Score Train Lineal: 0.579654\n",
      " Score Train Ridge : 0.579896\n",
      " Score Train Lasso : 0.579942\n",
      "\n",
      " Train RMSE lineal   : 478.3306 \n",
      " Train RMSE Ridge    : 478.1931 \n",
      " Train RMSE Lasso    : 478.1670 \n",
      "\n"
     ]
    }
   ],
   "source": [
    "# Calculamos el R2\n",
    "\n",
    "print(\" Score Train Lineal: %.6f\\n\" % model_linreg_pol2.score(Xs_gba_train_pol2, ys_gba_train_pol2),\n",
    "      \"Score Train Ridge : %.6f\\n\" % model_lin_ridge_pol2.score(Xs_gba_train_pol2, ys_gba_train_pol2),\n",
    "      \"Score Train Lasso : %.6f\\n\" %  model_lin_lasso_pol2.score(Xs_gba_train_pol2, ys_gba_train_pol2))\n",
    "\n",
    "# Calculamos el RMSE\n",
    "\n",
    "ys_gba_pred_tr_lm_pol2 = model_linreg_pol2.predict(Xs_gba_train_pol2)\n",
    "ys_gba_pred_tr_ridge_pol2 = model_lin_ridge_pol2.predict(Xs_gba_train_pol2)\n",
    "ys_gba_pred_tr_lasso_pol2 = model_lin_lasso_pol2.predict(Xs_gba_train_pol2)\n",
    "\n",
    "rmse = lambda y, y_pred: np.sqrt(mean_squared_error(y, y_pred))\n",
    "\n",
    "print(\" Train RMSE lineal   : %.4f \\n\" % rmse(ys_gba_train_pol2,ys_gba_pred_tr_lm_pol2),\n",
    "      \"Train RMSE Ridge    : %.4f \\n\" % rmse(ys_gba_train_pol2,ys_gba_pred_tr_ridge_pol2),\n",
    "      \"Train RMSE Lasso    : %.4f \\n\" % rmse(ys_gba_train_pol2,ys_gba_pred_tr_lasso_pol2))"
   ]
  },
  {
   "cell_type": "markdown",
   "metadata": {},
   "source": [
    "Los Scores de los tres modelos son similares"
   ]
  },
  {
   "cell_type": "code",
   "execution_count": 92,
   "metadata": {},
   "outputs": [
    {
     "name": "stdout",
     "output_type": "stream",
     "text": [
      " Score Test Lineal: 0.569265\n",
      " Score Test Ridge : 0.568971\n",
      " Score Test Lasso : 0.568805\n",
      "\n",
      " Test RMSE lineal= 482.35\n",
      " Test RMSE Ridge = 482.51\n",
      " Test RMSE Lasso = 482.60\n"
     ]
    }
   ],
   "source": [
    "# Hacemos las predicciones sobre la matriz de predictores del Test Set\n",
    "\n",
    "ys_gba_pred_lm_pol2 = model_linreg_pol2.predict(Xs_gba_test_pol2)\n",
    "ys_gba_pred_ridge_pol2 = model_lin_ridge_pol2.predict(Xs_gba_test_pol2)\n",
    "ys_gba_pred_lasso_pol2 = model_lin_lasso_pol2.predict(Xs_gba_test_pol2)\n",
    "\n",
    "\n",
    "print(\" Score Test Lineal: %.6f\\n\" % model_linreg_pol2.score(Xs_gba_test_pol2, ys_gba_test_pol2),\n",
    "      \"Score Test Ridge : %.6f\\n\" % model_lin_ridge_pol2.score(Xs_gba_test_pol2, ys_gba_test_pol2),\n",
    "      \"Score Test Lasso : %.6f\\n\" %  model_lin_lasso_pol2.score(Xs_gba_test_pol2, ys_gba_test_pol2))\n",
    "\n",
    "# Testeo final del modelo sobre Test Set\n",
    "\n",
    "print(\" Test RMSE lineal= %.2f\\n\" % rmse(ys_gba_test_pol2, ys_gba_pred_lm_pol2),\n",
    "      \"Test RMSE Ridge = %.2f\\n\" %  rmse(ys_gba_test_pol2, ys_gba_pred_ridge_pol2),\n",
    "      \"Test RMSE Lasso = %.2f\" %  rmse(ys_gba_test_pol2, ys_gba_pred_lasso_pol2))"
   ]
  },
  {
   "cell_type": "markdown",
   "metadata": {},
   "source": [
    "* ¿Cuáles son los parámetros de cada modelo?"
   ]
  },
  {
   "cell_type": "code",
   "execution_count": 93,
   "metadata": {},
   "outputs": [],
   "source": [
    "r2_train_lin_d2 = model_linreg_pol2.score(Xs_gba_train_pol2, ys_gba_train_pol2)\n",
    "r2_test_lin_d2 = model_linreg_pol2.score(Xs_gba_test_pol2, ys_gba_test_pol2)\n",
    "\n",
    "r2_train_ridge_d2 = model_lin_ridge_pol2.score(Xs_gba_train_pol2, ys_gba_train_pol2)\n",
    "r2_test_ridge_d2 = model_lin_ridge_pol2.score(Xs_gba_test_pol2, ys_gba_test_pol2)\n",
    "\n",
    "r2_train_lasso_d2 = model_lin_lasso_pol2.score(Xs_gba_train_pol2, ys_gba_train_pol2)\n",
    "r2_test_lasso_d2 = model_lin_lasso_pol2.score(Xs_gba_test_pol2, ys_gba_test_pol2)"
   ]
  },
  {
   "cell_type": "code",
   "execution_count": 94,
   "metadata": {},
   "outputs": [
    {
     "name": "stdout",
     "output_type": "stream",
     "text": [
      "El intercepto y el vector de coeficientes del Modelo de Regresion Simple sin Regularizar son:\n"
     ]
    },
    {
     "data": {
      "text/plain": [
       "(1387.8614212059058,\n",
       " array([ 5.16e+01, -6.37e+01,  2.20e+15, -7.26e+02, -5.08e+01,  3.47e+00,\n",
       "        -3.79e+01, -2.15e+01,  1.29e+01,  3.75e+00, -2.55e+01,  1.77e+02,\n",
       "         1.12e+02, -2.20e+15, -4.54e+01,  5.66e+01,  2.56e+02,  2.89e+02,\n",
       "         3.17e+01, -8.79e+01,  1.57e+01,  1.31e+01,  6.22e+01, -2.00e+00,\n",
       "         3.50e+01,  2.62e+01,  3.62e+00,  1.18e+01,  2.15e+02,  1.80e+01,\n",
       "         1.40e+01, -3.36e+01,  3.35e+01, -7.40e+00, -3.55e+01,  9.14e+00,\n",
       "        -4.31e+00, -1.07e+01, -1.50e+01, -4.87e+01, -9.78e+00, -5.08e+01,\n",
       "        -1.53e+01, -2.89e+01, -3.73e+01, -5.22e+01, -5.30e+00, -3.27e+01,\n",
       "        -1.66e+01, -2.83e+01, -4.23e+01, -4.80e+01, -3.82e+01, -1.49e+01,\n",
       "        -6.76e+00,  1.77e+01,  7.38e+01, -5.93e+01, -1.09e+01,  1.14e+02,\n",
       "        -5.11e+01,  1.21e+02]))"
      ]
     },
     "execution_count": 94,
     "metadata": {},
     "output_type": "execute_result"
    }
   ],
   "source": [
    "np.set_printoptions(precision=2, suppress=True)\n",
    "print(\"El intercepto y el vector de coeficientes del Modelo de Regresion Simple sin Regularizar son:\")\n",
    "\n",
    "(model_linreg_pol2.intercept_, model_linreg_pol2.coef_)"
   ]
  },
  {
   "cell_type": "code",
   "execution_count": 95,
   "metadata": {},
   "outputs": [
    {
     "name": "stdout",
     "output_type": "stream",
     "text": [
      "El intercepto y el vector de coeficientes del Modelo Regularizado con Ridge son:\n"
     ]
    },
    {
     "data": {
      "text/plain": [
       "(1387.8614212059053,\n",
       " array([  47.35,  -95.69,  -77.18, -681.35, -122.9 ,    1.21,  -33.42,\n",
       "         -16.44,    9.92,    3.45,    9.59,   87.72,   77.17,  -77.18,\n",
       "          13.82,   56.01,  144.83,  277.51,   31.58,   -9.79,   15.78,\n",
       "          12.65,   62.3 ,   -0.44,   31.13,   23.1 ,    6.42,   13.77,\n",
       "         214.17,   12.58,   12.49,  -34.4 ,   32.94,   -6.88,  -36.19,\n",
       "           8.61,   -4.96,  -10.72,  -15.71,  -47.29,  -10.89,  -51.91,\n",
       "         -16.85,  -28.92,  -36.12,  -51.79,   -4.96,  -32.99,  -18.32,\n",
       "         -29.85,  -41.52,  -47.91,  -36.37,  -15.17,   -6.39,   20.58,\n",
       "          75.14,  -59.08,  -10.34,  115.08,  -49.66,  119.17]))"
      ]
     },
     "execution_count": 95,
     "metadata": {},
     "output_type": "execute_result"
    }
   ],
   "source": [
    "np.set_printoptions(precision=2, suppress=True)\n",
    "print(\"El intercepto y el vector de coeficientes del Modelo Regularizado con Ridge son:\")\n",
    "(model_lin_ridge_pol2.intercept_,model_lin_ridge_pol2.coef_)"
   ]
  },
  {
   "cell_type": "code",
   "execution_count": 96,
   "metadata": {},
   "outputs": [
    {
     "name": "stdout",
     "output_type": "stream",
     "text": [
      "El intercepto y el vector de coeficientes del Modelo Regularizado con Lasso:\n"
     ]
    },
    {
     "data": {
      "text/plain": [
       "(1387.8614212059056,\n",
       " array([  42.2 ,  -91.57, -148.58, -710.21, -129.77,    0.  ,  -31.63,\n",
       "          -0.2 ,   -0.  ,   -0.  ,    0.  ,   92.35,   96.53,   -0.42,\n",
       "           7.93,   47.32,  147.26,  285.37,   43.59,   -7.93,   15.89,\n",
       "          12.61,   62.2 ,   -0.26,   30.83,   22.87,    6.3 ,   13.47,\n",
       "         213.56,   13.8 ,   12.46,  -32.63,   33.91,   -6.27,  -33.57,\n",
       "           9.85,   -3.59,  -10.12,  -14.76,  -44.87,   -9.76,  -48.87,\n",
       "         -15.89,  -25.95,  -33.61,  -49.33,   -2.22,  -31.53,  -17.28,\n",
       "         -28.01,  -38.97,  -44.56,  -32.86,  -14.38,   -4.9 ,   22.47,\n",
       "          78.06,  -56.65,   -9.63,  120.38,  -47.21,  122.57]))"
      ]
     },
     "execution_count": 96,
     "metadata": {},
     "output_type": "execute_result"
    }
   ],
   "source": [
    "np.set_printoptions(precision=2, suppress=True)\n",
    "print(\"El intercepto y el vector de coeficientes del Modelo Regularizado con Lasso:\")\n",
    "(model_lin_lasso_pol2.intercept_,model_lin_lasso_pol2.coef_)"
   ]
  },
  {
   "cell_type": "markdown",
   "metadata": {},
   "source": [
    "Para el modelo con features polinómicas de segundo grado, lasso ya comenzó a anular features (coeficientes =0) "
   ]
  },
  {
   "cell_type": "markdown",
   "metadata": {},
   "source": [
    "## Comparación LR, Lasso y Ridge con features polinomiales grado 3"
   ]
  },
  {
   "cell_type": "code",
   "execution_count": 97,
   "metadata": {},
   "outputs": [
    {
     "data": {
      "text/plain": [
       "((15207, 97), (5069, 97))"
      ]
     },
     "execution_count": 97,
     "metadata": {},
     "output_type": "execute_result"
    }
   ],
   "source": [
    "poly_vars = ['floor','rooms','sup_cub','sup_descub','sup_por_room']\n",
    "y_column = ['price_usd_per_m2']\n",
    "poly_drop = ['tipo_propiedad', 'Provincia','Localidad','sup_total','const_index']\n",
    "data_train3 = data_gba_train.drop(columns=poly_drop).copy()\n",
    "data_test3 = data_gba_test.drop(columns=poly_drop).copy()\n",
    "\n",
    "X_gba_train_pol3,X_gba_test_pol3 = get_poly_X(poly_vars = poly_vars, y_var = y_column, df_train = data_train3, df_test = data_test3,degree=3)\n",
    "X_gba_train_pol3.shape,X_gba_test_pol3.shape"
   ]
  },
  {
   "cell_type": "code",
   "execution_count": 98,
   "metadata": {},
   "outputs": [],
   "source": [
    "Xs_gba_train_pol3 = stdscalerX.fit_transform(X_gba_train_pol3)\n",
    "ys_gba_train_pol3 = y_gba_train_pol3\n",
    "\n",
    "Xs_gba_test_pol3 = stdscalerX.transform(X_gba_test_pol3)\n",
    "ys_gba_test_pol3 = y_gba_test_pol3"
   ]
  },
  {
   "cell_type": "code",
   "execution_count": 99,
   "metadata": {},
   "outputs": [],
   "source": [
    "# Generamos un grid de $\\alpha$ para probar e instanciamos un particionador del Training Set \n",
    "# en K partes para realizar la validación cruzada\n",
    "\n",
    "\n",
    "al_gba_ridge = np.linspace(0.4, 2, 50)\n",
    "al_gba_lasso = np.linspace(0.01, 0.2, 20)\n",
    "\n",
    "kf_gba = KFold(n_splits=5, shuffle=True, random_state=15)\n",
    "\n",
    "\n",
    "# Instanciamos los modelos\n",
    "\n",
    "lm_gba_pol3 = LinearRegression()\n",
    "lm_gba_ridge_cv_pol3= RidgeCV(alphas=al_gba_ridge, cv=kf_gba, normalize=False)\n",
    "lm_gba_lasso_cv_pol3 = LassoCV(alphas=al_gba_lasso, cv=kf_gba, normalize=False,max_iter=100000,selection='random')"
   ]
  },
  {
   "cell_type": "code",
   "execution_count": 100,
   "metadata": {},
   "outputs": [],
   "source": [
    "model_linreg_pol3 = lm.fit(Xs_gba_train_pol3, ys_gba_train_pol3)\n"
   ]
  },
  {
   "cell_type": "code",
   "execution_count": 101,
   "metadata": {},
   "outputs": [
    {
     "name": "stderr",
     "output_type": "stream",
     "text": [
      "C:\\Users\\Noe\\Anaconda3II\\lib\\site-packages\\sklearn\\linear_model\\coordinate_descent.py:492: ConvergenceWarning: Objective did not converge. You might want to increase the number of iterations. Fitting data with very small alpha may cause precision problems.\n",
      "  ConvergenceWarning)\n",
      "C:\\Users\\Noe\\Anaconda3II\\lib\\site-packages\\sklearn\\linear_model\\coordinate_descent.py:492: ConvergenceWarning: Objective did not converge. You might want to increase the number of iterations. Fitting data with very small alpha may cause precision problems.\n",
      "  ConvergenceWarning)\n"
     ]
    }
   ],
   "source": [
    "model_lin_ridge_pol3 = lm_gba_ridge_cv_pol3.fit(Xs_gba_train_pol3, np.ravel(ys_gba_train_pol3))\n",
    "model_lin_lasso_pol3 = lm_gba_lasso_cv_pol3.fit(Xs_gba_train_pol3, np.ravel(ys_gba_train_pol3))"
   ]
  },
  {
   "cell_type": "code",
   "execution_count": 102,
   "metadata": {},
   "outputs": [
    {
     "name": "stdout",
     "output_type": "stream",
     "text": [
      "Alpha Ridge: 0.5632653061224491 \n",
      "Alpha LASSO: 0.06999999999999999 \n",
      "\n"
     ]
    }
   ],
   "source": [
    "print('Alpha Ridge:',model_lin_ridge_pol3.alpha_,'\\n'\n",
    "      'Alpha LASSO:',model_lin_lasso_pol3.alpha_,'\\n')"
   ]
  },
  {
   "cell_type": "markdown",
   "metadata": {},
   "source": [
    "el alpha de lasso es tan bajo que el modelo ya presenta problemas de convergencia"
   ]
  },
  {
   "cell_type": "code",
   "execution_count": 103,
   "metadata": {},
   "outputs": [
    {
     "name": "stdout",
     "output_type": "stream",
     "text": [
      " Score Train Lineal: 0.5908\n",
      " Score Train Ridge : 0.5908\n",
      " Score Train Lasso : 0.5905\n",
      "\n",
      " Train RMSE lineal   : 471.97 \n",
      " Train RMSE Ridge    : 471.93 \n",
      " Train RMSE Lasso    : 472.12 \n",
      "\n"
     ]
    }
   ],
   "source": [
    "# Calculamos el R2\n",
    "\n",
    "print(\" Score Train Lineal: %.4f\\n\" % model_linreg_pol3.score(Xs_gba_train_pol3, ys_gba_train_pol3),\n",
    "      \"Score Train Ridge : %.4f\\n\" % model_lin_ridge_pol3.score(Xs_gba_train_pol3, ys_gba_train_pol3),\n",
    "      \"Score Train Lasso : %.4f\\n\" %  model_lin_lasso_pol3.score(Xs_gba_train_pol3, ys_gba_train_pol3))\n",
    "\n",
    "# Calculamos el RMSE\n",
    "\n",
    "ys_gba_pred_tr_lm_pol3 = model_linreg_pol3.predict(Xs_gba_train_pol3)\n",
    "ys_gba_pred_tr_ridge_pol3 = model_lin_ridge_pol3.predict(Xs_gba_train_pol3)\n",
    "ys_gba_pred_tr_lasso_pol3 = model_lin_lasso_pol3.predict(Xs_gba_train_pol3)\n",
    "\n",
    "rmse = lambda y, y_pred: np.sqrt(mean_squared_error(y, y_pred))\n",
    "\n",
    "print(\" Train RMSE lineal   : %.2f \\n\" % rmse(ys_gba_train_pol3,ys_gba_pred_tr_lm_pol3),\n",
    "      \"Train RMSE Ridge    : %.2f \\n\" % rmse(ys_gba_train_pol3,ys_gba_pred_tr_ridge_pol3),\n",
    "      \"Train RMSE Lasso    : %.2f \\n\" % rmse(ys_gba_train_pol3,ys_gba_pred_tr_lasso_pol3))"
   ]
  },
  {
   "cell_type": "markdown",
   "metadata": {},
   "source": [
    "Aumentó el score de los modelos respecto del anterior"
   ]
  },
  {
   "cell_type": "code",
   "execution_count": 104,
   "metadata": {},
   "outputs": [
    {
     "name": "stdout",
     "output_type": "stream",
     "text": [
      " Score Test Lineal: 0.155518\n",
      " Score Test Ridge : 0.577577\n",
      " Score Test Lasso : 0.583147\n",
      "\n",
      " Test RMSE lineal= 675.38\n",
      " Test RMSE Ridge = 477.67\n",
      " Test RMSE Lasso = 474.51\n"
     ]
    }
   ],
   "source": [
    "# Hacemos las predicciones sobre la matriz de predictores del Test Set\n",
    "\n",
    "ys_gba_pred_lm_pol3 = model_linreg_pol3.predict(Xs_gba_test_pol3)\n",
    "ys_gba_pred_ridge_pol3 = model_lin_ridge_pol3.predict(Xs_gba_test_pol3)\n",
    "ys_gba_pred_lasso_pol3 = model_lin_lasso_pol3.predict(Xs_gba_test_pol3)\n",
    "\n",
    "\n",
    "print(\" Score Test Lineal: %.6f\\n\" % model_linreg_pol3.score(Xs_gba_test_pol3, ys_gba_test_pol3),\n",
    "      \"Score Test Ridge : %.6f\\n\" % model_lin_ridge_pol3.score(Xs_gba_test_pol3, ys_gba_test_pol3),\n",
    "      \"Score Test Lasso : %.6f\\n\" %  model_lin_lasso_pol3.score(Xs_gba_test_pol3, ys_gba_test_pol3))\n",
    "\n",
    "# Testeo final del modelo sobre Test Set\n",
    "\n",
    "print(\" Test RMSE lineal= %.2f\\n\" % rmse(ys_gba_test_pol3, ys_gba_pred_lm_pol3),\n",
    "      \"Test RMSE Ridge = %.2f\\n\" %  rmse(ys_gba_test_pol3, ys_gba_pred_ridge_pol3),\n",
    "      \"Test RMSE Lasso = %.2f\" %  rmse(ys_gba_test_pol3, ys_gba_pred_lasso_pol3))"
   ]
  },
  {
   "cell_type": "markdown",
   "metadata": {},
   "source": [
    "El score del modelo lineal se comporta igual que antes, con las features polinómicas de 3er grado el modelo overfitea."
   ]
  },
  {
   "cell_type": "markdown",
   "metadata": {},
   "source": [
    "* ¿Cuáles son los parámetros de cada modelo?"
   ]
  },
  {
   "cell_type": "code",
   "execution_count": 105,
   "metadata": {},
   "outputs": [],
   "source": [
    "r2_train_lin_d3 = model_linreg_pol3.score(Xs_gba_train_pol3, ys_gba_train_pol3)\n",
    "r2_test_lin_d3 = model_linreg_pol3.score(Xs_gba_test_pol3, ys_gba_test_pol3)\n",
    "\n",
    "r2_train_ridge_d3 = model_lin_ridge_pol3.score(Xs_gba_train_pol3, ys_gba_train_pol3)\n",
    "r2_test_ridge_d3 = model_lin_ridge_pol3.score(Xs_gba_test_pol3, ys_gba_test_pol3)\n",
    "\n",
    "r2_train_lasso_d3 = model_lin_lasso_pol3.score(Xs_gba_train_pol3, ys_gba_train_pol3)\n",
    "r2_test_lasso_d3 = model_lin_lasso_pol3.score(Xs_gba_test_pol3, ys_gba_test_pol3)"
   ]
  },
  {
   "cell_type": "code",
   "execution_count": 106,
   "metadata": {},
   "outputs": [
    {
     "name": "stdout",
     "output_type": "stream",
     "text": [
      "El intercepto y el vector de coeficientes del Modelo de Regresion Simple sin Regularizar son:\n"
     ]
    },
    {
     "data": {
      "text/plain": [
       "(1387.8614517490703,\n",
       " array([-2.405e+02,  4.993e+01, -7.511e+12, -1.540e+03,  1.971e+01,\n",
       "         3.488e+02,  5.826e+02, -1.088e+15, -5.379e+02,  6.235e+02,\n",
       "        -3.083e+02,  3.566e+12,  3.680e+02,  7.511e+12, -8.323e+12,\n",
       "         3.482e+12, -1.040e+13,  1.594e+03,  2.945e+02, -3.364e+02,\n",
       "        -2.412e+01, -2.069e+02, -2.875e+02,  6.235e+02, -2.989e+02,\n",
       "        -3.767e+02,  1.580e+03,  4.889e+02,  1.088e+15, -2.678e+03,\n",
       "        -2.890e+03,  4.719e+03,  1.414e+02,  1.889e+03, -1.170e+03,\n",
       "         1.607e+02, -5.887e+02,  1.030e+01, -3.566e+12,  1.345e+02,\n",
       "        -5.181e+01,  8.323e+12, -2.361e+02, -3.482e+12,  1.040e+13,\n",
       "        -7.616e+01, -1.122e+01, -5.499e+02, -2.025e+02, -8.527e+01,\n",
       "         3.318e+02, -5.582e+02, -1.134e+02, -3.494e+01, -1.274e+02,\n",
       "         1.977e+01,  1.545e+01,  5.536e+01, -2.927e+00,  3.357e+01,\n",
       "         2.281e+01,  6.031e+00,  1.673e+01,  1.877e+02,  7.170e+01,\n",
       "         2.050e+01, -3.556e+01,  3.358e+01, -5.738e+00, -3.538e+01,\n",
       "         9.250e+00, -2.363e+00, -1.046e+01, -1.580e+01, -4.714e+01,\n",
       "        -9.469e+00, -5.134e+01, -1.633e+01, -3.022e+01, -4.007e+01,\n",
       "        -5.195e+01, -9.469e+00, -3.448e+01, -1.771e+01, -2.752e+01,\n",
       "        -3.878e+01, -5.011e+01, -3.945e+01, -1.481e+01, -6.773e+00,\n",
       "         1.952e+01,  7.447e+01, -6.114e+01, -9.951e+00,  1.197e+02,\n",
       "        -5.186e+01,  1.173e+02]))"
      ]
     },
     "execution_count": 106,
     "metadata": {},
     "output_type": "execute_result"
    }
   ],
   "source": [
    "np.set_printoptions(precision=3, suppress=True)\n",
    "print(\"El intercepto y el vector de coeficientes del Modelo de Regresion Simple sin Regularizar son:\")\n",
    "\n",
    "(model_linreg_pol3.intercept_, model_linreg_pol3.coef_)"
   ]
  },
  {
   "cell_type": "code",
   "execution_count": 107,
   "metadata": {},
   "outputs": [
    {
     "name": "stdout",
     "output_type": "stream",
     "text": [
      "El intercepto y el vector de coeficientes del Modelo de Regresion Regularizado con Ridge son:\n"
     ]
    },
    {
     "data": {
      "text/plain": [
       "(1387.8614212059094,\n",
       " array([  -72.036,  -110.839,  -450.184, -1450.437,  -135.145,   262.819,\n",
       "           40.491,    34.881,   -67.884,   -23.493,    43.384,   314.838,\n",
       "          267.422,  -450.184,   193.476,   162.213,   300.719,  1518.239,\n",
       "          235.41 ,   -75.326,   -43.713,  -156.544,  -212.965,    28.758,\n",
       "          -80.438,    12.473,   -19.124,    32.903,    34.881,    53.353,\n",
       "           57.992,    94.46 ,   -48.402,    58.382,    32.892,   -27.179,\n",
       "         -277.702,    39.692,   314.838,    72.234,   -57.3  ,   193.476,\n",
       "         -197.147,   162.213,   300.719,  -188.825,   -16.099,  -395.161,\n",
       "         -219.108,   -80.827,   303.525,  -538.269,   -83.627,   -27.925,\n",
       "         -174.071,    19.439,    15.243,    55.641,    -2.881,    33.459,\n",
       "           23.25 ,     5.987,    16.861,   189.324,    69.468,    20.16 ,\n",
       "          -34.554,    34.041,    -5.367,   -33.538,     9.807,    -2.16 ,\n",
       "          -10.204,   -15.497,   -45.737,    -9.147,   -49.87 ,   -16.359,\n",
       "          -28.759,   -38.267,   -50.43 ,    -7.539,   -33.732,   -18.24 ,\n",
       "          -26.853,   -37.893,   -47.717,   -37.309,   -14.621,    -5.822,\n",
       "           20.95 ,    76.665,   -60.031,    -9.891,   122.746,   -49.994,\n",
       "          119.181]))"
      ]
     },
     "execution_count": 107,
     "metadata": {},
     "output_type": "execute_result"
    }
   ],
   "source": [
    "print(\"El intercepto y el vector de coeficientes del Modelo de Regresion Regularizado con Ridge son:\")\n",
    "(model_lin_ridge_pol3.intercept_,model_lin_ridge_pol3.coef_)"
   ]
  },
  {
   "cell_type": "code",
   "execution_count": 108,
   "metadata": {},
   "outputs": [
    {
     "name": "stdout",
     "output_type": "stream",
     "text": [
      "El intercepto y el vector de coeficientes del Modelo de Regresion Regularizado con Lasso Son:\n"
     ]
    },
    {
     "data": {
      "text/plain": [
       "(1387.8614212059074,\n",
       " array([    5.578,  -155.147,  -370.501, -1370.794,  -195.248,    67.31 ,\n",
       "            0.   ,    -0.   ,    -0.   ,     0.   ,   170.239,    63.795,\n",
       "          226.414,  -193.776,   253.443,   131.945,   139.146,  1441.534,\n",
       "          179.153,    35.954,     0.   ,   -75.473,    -0.   ,     0.   ,\n",
       "           -0.   ,     9.448,    -0.937,     0.   ,    -0.   ,    -0.   ,\n",
       "            0.   ,     0.   ,     0.   ,     0.   ,     5.045,   -97.401,\n",
       "          -81.674,    17.64 ,    95.61 ,   102.866,    -0.   ,   255.116,\n",
       "         -145.559,   160.629,   193.674,  -359.808,   -48.373,   -37.386,\n",
       "         -245.105,   -26.408,     0.   ,  -526.613,   -41.428,   -36.103,\n",
       "          -51.098,    19.273,    15.029,    56.103,    -2.914,    33.031,\n",
       "           23.215,     5.839,    16.619,   191.964,    64.984,    19.428,\n",
       "          -33.472,    34.467,    -5.216,   -32.326,    10.378,    -1.748,\n",
       "           -9.937,   -15.121,   -44.496,    -8.745,   -48.629,   -15.937,\n",
       "          -27.14 ,   -36.861,   -49.36 ,    -5.889,   -33.088,   -17.977,\n",
       "          -26.257,   -36.868,   -45.793,   -35.651,   -14.31 ,    -5.078,\n",
       "           22.018,    78.15 ,   -58.631,    -9.548,   124.96 ,   -48.647,\n",
       "          120.802]))"
      ]
     },
     "execution_count": 108,
     "metadata": {},
     "output_type": "execute_result"
    }
   ],
   "source": [
    "print(\"El intercepto y el vector de coeficientes del Modelo de Regresion Regularizado con Lasso Son:\")\n",
    "\n",
    "(model_lin_lasso_pol3.intercept_,model_lin_lasso_pol3.coef_)"
   ]
  },
  {
   "cell_type": "markdown",
   "metadata": {},
   "source": [
    "la regularización lasso anula varios features polinómicos, pero no de forma significativa (menos del 30%)"
   ]
  },
  {
   "cell_type": "code",
   "execution_count": 109,
   "metadata": {
    "scrolled": false
   },
   "outputs": [
    {
     "data": {
      "text/html": [
       "<div>\n",
       "<style scoped>\n",
       "    .dataframe tbody tr th:only-of-type {\n",
       "        vertical-align: middle;\n",
       "    }\n",
       "\n",
       "    .dataframe tbody tr th {\n",
       "        vertical-align: top;\n",
       "    }\n",
       "\n",
       "    .dataframe thead th {\n",
       "        text-align: right;\n",
       "    }\n",
       "</style>\n",
       "<table border=\"1\" class=\"dataframe\">\n",
       "  <thead>\n",
       "    <tr style=\"text-align: right;\">\n",
       "      <th></th>\n",
       "      <th>degree</th>\n",
       "      <th>model</th>\n",
       "      <th>R2 Train</th>\n",
       "      <th>R2 Test</th>\n",
       "      <th>alpha</th>\n",
       "    </tr>\n",
       "  </thead>\n",
       "  <tbody>\n",
       "    <tr>\n",
       "      <th>0</th>\n",
       "      <td>1</td>\n",
       "      <td>lineal</td>\n",
       "      <td>56.0</td>\n",
       "      <td>54.5</td>\n",
       "      <td>0.000000</td>\n",
       "    </tr>\n",
       "    <tr>\n",
       "      <th>1</th>\n",
       "      <td>1</td>\n",
       "      <td>ridge</td>\n",
       "      <td>56.0</td>\n",
       "      <td>54.5</td>\n",
       "      <td>116.161616</td>\n",
       "    </tr>\n",
       "    <tr>\n",
       "      <th>2</th>\n",
       "      <td>1</td>\n",
       "      <td>lasso</td>\n",
       "      <td>56.0</td>\n",
       "      <td>54.5</td>\n",
       "      <td>0.272727</td>\n",
       "    </tr>\n",
       "    <tr>\n",
       "      <th>3</th>\n",
       "      <td>2</td>\n",
       "      <td>lineal</td>\n",
       "      <td>58.0</td>\n",
       "      <td>56.9</td>\n",
       "      <td>0.000000</td>\n",
       "    </tr>\n",
       "    <tr>\n",
       "      <th>4</th>\n",
       "      <td>2</td>\n",
       "      <td>ridge</td>\n",
       "      <td>58.0</td>\n",
       "      <td>56.9</td>\n",
       "      <td>17.323232</td>\n",
       "    </tr>\n",
       "    <tr>\n",
       "      <th>5</th>\n",
       "      <td>2</td>\n",
       "      <td>lasso</td>\n",
       "      <td>58.0</td>\n",
       "      <td>56.9</td>\n",
       "      <td>0.151010</td>\n",
       "    </tr>\n",
       "    <tr>\n",
       "      <th>6</th>\n",
       "      <td>3</td>\n",
       "      <td>lineal</td>\n",
       "      <td>59.1</td>\n",
       "      <td>15.6</td>\n",
       "      <td>0.000000</td>\n",
       "    </tr>\n",
       "    <tr>\n",
       "      <th>7</th>\n",
       "      <td>3</td>\n",
       "      <td>ridge</td>\n",
       "      <td>59.1</td>\n",
       "      <td>57.8</td>\n",
       "      <td>0.563265</td>\n",
       "    </tr>\n",
       "    <tr>\n",
       "      <th>8</th>\n",
       "      <td>3</td>\n",
       "      <td>lasso</td>\n",
       "      <td>59.1</td>\n",
       "      <td>58.3</td>\n",
       "      <td>0.070000</td>\n",
       "    </tr>\n",
       "  </tbody>\n",
       "</table>\n",
       "</div>"
      ],
      "text/plain": [
       "   degree   model  R2 Train  R2 Test       alpha\n",
       "0       1  lineal      56.0     54.5    0.000000\n",
       "1       1   ridge      56.0     54.5  116.161616\n",
       "2       1   lasso      56.0     54.5    0.272727\n",
       "3       2  lineal      58.0     56.9    0.000000\n",
       "4       2   ridge      58.0     56.9   17.323232\n",
       "5       2   lasso      58.0     56.9    0.151010\n",
       "6       3  lineal      59.1     15.6    0.000000\n",
       "7       3   ridge      59.1     57.8    0.563265\n",
       "8       3   lasso      59.1     58.3    0.070000"
      ]
     },
     "execution_count": 109,
     "metadata": {},
     "output_type": "execute_result"
    }
   ],
   "source": [
    "cols1 = ['degree','model','R2 Train','R2 Test','alpha']\n",
    "\n",
    "deg1_results1 = [[1,'lineal',r2_train_lin_d1,r2_test_lin_d1,0],\n",
    "                [1,'ridge',r2_train_ridge_d1,r2_test_ridge_d1,model_lin_ridge.alpha_],\n",
    "                [1,'lasso',r2_train_lasso_d1,r2_test_lasso_d1,model_lin_lasso.alpha_],\n",
    "                \n",
    "                [2,'lineal',r2_train_lin_d2,r2_test_lin_d2,0],\n",
    "                [2,'ridge',r2_train_ridge_d2,r2_test_ridge_d2,model_lin_ridge_pol2.alpha_],\n",
    "                [2,'lasso',r2_train_lasso_d2,r2_test_lasso_d2,model_lin_lasso_pol2.alpha_],\n",
    "                \n",
    "                [3,'lineal',r2_train_lin_d3,r2_test_lin_d3,0],\n",
    "                [3,'ridge',r2_train_ridge_d3,r2_test_ridge_d3,model_lin_ridge_pol3.alpha_],\n",
    "                [3,'lasso',r2_train_lasso_d3,r2_test_lasso_d3,model_lin_lasso_pol3.alpha_]\n",
    "               ]\n",
    "\n",
    "results_df = pd.DataFrame(data = deg1_results1,columns=cols1)\n",
    "results_df['R2 Train'] = results_df['R2 Train']*100\n",
    "results_df['R2 Train'] = round(results_df['R2 Train'],1)\n",
    "results_df['R2 Test'] = results_df['R2 Test']*100\n",
    "results_df['R2 Test'] = round(results_df['R2 Test'],1)\n",
    "results_df"
   ]
  },
  {
   "cell_type": "markdown",
   "metadata": {},
   "source": [
    "El Dataframe resumen indica un aumento del score a medida que se le incorporan fatures mas complejas (polinómicas de 2do y 3er grado). Registra el inconveniente del modelo lineal sin regularizar que overfitea con las features de 3er grado.\n"
   ]
  },
  {
   "cell_type": "code",
   "execution_count": 110,
   "metadata": {},
   "outputs": [
    {
     "data": {
      "image/png": "[encoded data removed]",
      "text/plain": [
       "<Figure size 1296x432 with 3 Axes>"
      ]
     },
     "metadata": {
      "needs_background": "light"
     },
     "output_type": "display_data"
    }
   ],
   "source": [
    "fig = plt.figure(figsize=(18,6))\n",
    "plt.suptitle(\"R2 Comparison between models\",fontsize=16)\n",
    "ax1 = fig.add_subplot(131)\n",
    "results_df.loc[results_df['degree']==1].plot(x='model',y=['R2 Train','R2 Test'],kind='bar',rot=0,title='Degree 1',ax=ax1)\n",
    "ax1.legend(loc='lower center')\n",
    "# plt.ylim([0.5,0.58])\n",
    "for p in ax1.patches:\n",
    "    ax1.annotate(str(round(p.get_height(),4)), (p.get_x() * 1.001, p.get_height() * 1.001))\n",
    "    \n",
    "ax2 = fig.add_subplot(132)\n",
    "results_df.loc[results_df['degree']==2].plot(x='model',y=['R2 Train','R2 Test'],kind='bar',rot=0,title='Degree 2',ax=ax2)\n",
    "ax2.legend(loc='lower center')\n",
    "for p in ax2.patches:\n",
    "    ax2.annotate(str(round(p.get_height(),4)), (p.get_x() * 1.01, p.get_height() * 1.01))\n",
    "\n",
    "ax3 = fig.add_subplot(133)\n",
    "results_df.loc[results_df['degree']==3].plot(x='model',y=['R2 Train','R2 Test'],kind='bar',rot=0,title='Degree 3',ax=ax3)\n",
    "ax3.legend(loc='lower center')\n",
    "for p in ax3.patches:\n",
    "    ax3.annotate(str(round(p.get_height(),4)), (p.get_x() * 1.01, p.get_height() * 1.01))\n",
    "\n",
    "#plt.savefig('Modelo GBA Scores v1.png')"
   ]
  },
  {
   "cell_type": "markdown",
   "metadata": {},
   "source": [
    "Si bien el mejor modelo es Regresión Lasso con polinomiales de orden 3, por los problemas de convergencia vistos vamos a seleccionar el modelo con regularizacion Ridge"
   ]
  },
  {
   "cell_type": "markdown",
   "metadata": {},
   "source": [
    "# 10. Elección del modelo\n",
    "\n",
    "Luego de lo anterior visto, se opta por un modelo de Regresión Ridge, con features polinomiales de orden 3. Si bien el de Lasso tiene un score un poco mejor, el de Ridge converge sin problemas."
   ]
  },
  {
   "cell_type": "code",
   "execution_count": 156,
   "metadata": {},
   "outputs": [],
   "source": [
    "# alpha_lasso_model = model_lin_lasso_pol3.alpha_\n",
    "# gba_model = Lasso(alpha=alpha_lasso_model)\n",
    "#instanciamos los hiperparámetros  \n",
    "\n",
    "alpha_ridge_model = model_lin_ridge_pol3.alpha_\n",
    "gba_model = Ridge(alpha=alpha_ridge_model)"
   ]
  },
  {
   "cell_type": "markdown",
   "metadata": {},
   "source": [
    "# 11 División del dataset en Train y Test para portfolio de 100 propiedades."
   ]
  },
  {
   "cell_type": "code",
   "execution_count": 112,
   "metadata": {},
   "outputs": [],
   "source": [
    "data_train, data_test = train_test_split(data_gba,test_size=100,shuffle=True)"
   ]
  },
  {
   "cell_type": "code",
   "execution_count": 113,
   "metadata": {},
   "outputs": [],
   "source": [
    "data_train_final = data_train.copy()\n",
    "data_test_final = data_test.copy()"
   ]
  },
  {
   "cell_type": "code",
   "execution_count": 114,
   "metadata": {},
   "outputs": [],
   "source": [
    "#data_train_final.drop(columns='cub_desc',inplace=True)"
   ]
  },
  {
   "cell_type": "code",
   "execution_count": 115,
   "metadata": {},
   "outputs": [
    {
     "data": {
      "text/plain": [
       "((20176, 52), (100, 52))"
      ]
     },
     "execution_count": 115,
     "metadata": {},
     "output_type": "execute_result"
    }
   ],
   "source": [
    "data_train_final.shape,data_test_final.shape"
   ]
  },
  {
   "cell_type": "code",
   "execution_count": 116,
   "metadata": {},
   "outputs": [
    {
     "data": {
      "text/plain": [
       "Index(['tipo_propiedad', 'Provincia', 'Localidad', 'cochera', 'gimnasio',\n",
       "       'piscina', 'SUM', 'laundry', 'balcon', 'patio', 'parrilla', 'floor',\n",
       "       'rooms', 'sup_cub', 'sup_descub', 'sup_total', 'price_usd_per_m2',\n",
       "       'tipo_propiedad_apartment', 'tipo_propiedad_house',\n",
       "       'tipo_propiedad_store', 'Localidad_Avellaneda', 'Localidad_Berazategui',\n",
       "       'Localidad_Cañuelas', 'Localidad_Escobar',\n",
       "       'Localidad_Esteban Echeverría', 'Localidad_Ezeiza',\n",
       "       'Localidad_Florencio Varela', 'Localidad_General Rodríguez',\n",
       "       'Localidad_General San Martín', 'Localidad_Hurlingham',\n",
       "       'Localidad_Ituzaingó', 'Localidad_José C Paz', 'Localidad_La Matanza',\n",
       "       'Localidad_La Plata', 'Localidad_Lanús', 'Localidad_Lomas de Zamora',\n",
       "       'Localidad_Malvinas Argentinas', 'Localidad_Marcos Paz',\n",
       "       'Localidad_Merlo', 'Localidad_Moreno', 'Localidad_Morón',\n",
       "       'Localidad_Pilar', 'Localidad_Presidente Perón', 'Localidad_Quilmes',\n",
       "       'Localidad_San Fernando', 'Localidad_San Isidro',\n",
       "       'Localidad_San Miguel', 'Localidad_San Vicente', 'Localidad_Tigre',\n",
       "       'Localidad_Tres de Febrero', 'Localidad_Vicente López', 'sup_por_room'],\n",
       "      dtype='object')"
      ]
     },
     "execution_count": 116,
     "metadata": {},
     "output_type": "execute_result"
    }
   ],
   "source": [
    "data_train_final.columns"
   ]
  },
  {
   "cell_type": "markdown",
   "metadata": {},
   "source": [
    "## 11.1 Imputación del número de piso ('floor')"
   ]
  },
  {
   "cell_type": "code",
   "execution_count": 117,
   "metadata": {},
   "outputs": [
    {
     "data": {
      "text/plain": [
       "4922"
      ]
     },
     "execution_count": 117,
     "metadata": {},
     "output_type": "execute_result"
    }
   ],
   "source": [
    "data_train_final['floor'].isna().sum()"
   ]
  },
  {
   "cell_type": "code",
   "execution_count": 118,
   "metadata": {
    "scrolled": true
   },
   "outputs": [
    {
     "data": {
      "text/plain": [
       "22"
      ]
     },
     "execution_count": 118,
     "metadata": {},
     "output_type": "execute_result"
    }
   ],
   "source": [
    "data_test_final['floor'].isna().sum()"
   ]
  },
  {
   "cell_type": "markdown",
   "metadata": {},
   "source": [
    "Solo se imputan datos en propiedades de tipo 'apartment'."
   ]
  },
  {
   "cell_type": "code",
   "execution_count": 119,
   "metadata": {
    "scrolled": false
   },
   "outputs": [
    {
     "data": {
      "text/html": [
       "<div>\n",
       "<style scoped>\n",
       "    .dataframe tbody tr th:only-of-type {\n",
       "        vertical-align: middle;\n",
       "    }\n",
       "\n",
       "    .dataframe tbody tr th {\n",
       "        vertical-align: top;\n",
       "    }\n",
       "\n",
       "    .dataframe thead th {\n",
       "        text-align: right;\n",
       "    }\n",
       "</style>\n",
       "<table border=\"1\" class=\"dataframe\">\n",
       "  <thead>\n",
       "    <tr style=\"text-align: right;\">\n",
       "      <th></th>\n",
       "      <th>floor</th>\n",
       "    </tr>\n",
       "    <tr>\n",
       "      <th>Localidad</th>\n",
       "      <th></th>\n",
       "    </tr>\n",
       "  </thead>\n",
       "  <tbody>\n",
       "    <tr>\n",
       "      <th>Almirante Brown</th>\n",
       "      <td>3.5</td>\n",
       "    </tr>\n",
       "    <tr>\n",
       "      <th>Avellaneda</th>\n",
       "      <td>5.0</td>\n",
       "    </tr>\n",
       "    <tr>\n",
       "      <th>Escobar</th>\n",
       "      <td>1.0</td>\n",
       "    </tr>\n",
       "    <tr>\n",
       "      <th>Florencio Varela</th>\n",
       "      <td>3.0</td>\n",
       "    </tr>\n",
       "    <tr>\n",
       "      <th>General Rodríguez</th>\n",
       "      <td>2.0</td>\n",
       "    </tr>\n",
       "    <tr>\n",
       "      <th>General San Martín</th>\n",
       "      <td>2.0</td>\n",
       "    </tr>\n",
       "    <tr>\n",
       "      <th>Ituzaingó</th>\n",
       "      <td>2.0</td>\n",
       "    </tr>\n",
       "    <tr>\n",
       "      <th>La Matanza</th>\n",
       "      <td>2.0</td>\n",
       "    </tr>\n",
       "    <tr>\n",
       "      <th>La Plata</th>\n",
       "      <td>4.0</td>\n",
       "    </tr>\n",
       "    <tr>\n",
       "      <th>Lanús</th>\n",
       "      <td>3.0</td>\n",
       "    </tr>\n",
       "  </tbody>\n",
       "</table>\n",
       "</div>"
      ],
      "text/plain": [
       "                    floor\n",
       "Localidad                \n",
       "Almirante Brown       3.5\n",
       "Avellaneda            5.0\n",
       "Escobar               1.0\n",
       "Florencio Varela      3.0\n",
       "General Rodríguez     2.0\n",
       "General San Martín    2.0\n",
       "Ituzaingó             2.0\n",
       "La Matanza            2.0\n",
       "La Plata              4.0\n",
       "Lanús                 3.0"
      ]
     },
     "execution_count": 119,
     "metadata": {},
     "output_type": "execute_result"
    }
   ],
   "source": [
    "floor_median_localidad = data_train_final.loc[data_train_final['tipo_propiedad']=='apartment',['floor','Localidad']].groupby('Localidad').agg(np.median)\n",
    "floor_median_localidad['floor'].fillna(value=floor_median_localidad['floor'].mean(),inplace=True)\n",
    "floor_median_localidad.head(10)"
   ]
  },
  {
   "cell_type": "code",
   "execution_count": 120,
   "metadata": {
    "scrolled": false
   },
   "outputs": [],
   "source": [
    "for localidad,floor_med in floor_median_localidad['floor'].to_dict().items():\n",
    "    #imputo en el train set con los valores calculados\n",
    "    data_train_final.loc[(data_train_final['floor'].isna())&(data_train_final['Localidad']==localidad),'floor']=floor_med\n",
    "    #tambien imputo en el test set con los valores del train set.\n",
    "    data_test_final.loc[(data_test_final['floor'].isna())&(data_test_final['Localidad']==localidad),'floor']=floor_med"
   ]
  },
  {
   "cell_type": "code",
   "execution_count": 121,
   "metadata": {},
   "outputs": [
    {
     "name": "stdout",
     "output_type": "stream",
     "text": [
      "Datos faltantes de floor en train set: 0\n",
      "Datos faltantes de floor en test set: 0\n"
     ]
    }
   ],
   "source": [
    "print(\"Datos faltantes de floor en train set: {}\".format(data_train_final['floor'].isna().sum()))\n",
    "print(\"Datos faltantes de floor en test set: {}\".format(data_test_final['floor'].isna().sum()))"
   ]
  },
  {
   "cell_type": "code",
   "execution_count": 122,
   "metadata": {},
   "outputs": [
    {
     "data": {
      "text/plain": [
       "Series([], Name: Localidad, dtype: int64)"
      ]
     },
     "execution_count": 122,
     "metadata": {},
     "output_type": "execute_result"
    }
   ],
   "source": [
    "data_train_final.loc[data_train_final['floor'].isna(),'Localidad'].value_counts()"
   ]
  },
  {
   "cell_type": "code",
   "execution_count": 123,
   "metadata": {
    "scrolled": true
   },
   "outputs": [
    {
     "data": {
      "text/html": [
       "<div>\n",
       "<style scoped>\n",
       "    .dataframe tbody tr th:only-of-type {\n",
       "        vertical-align: middle;\n",
       "    }\n",
       "\n",
       "    .dataframe tbody tr th {\n",
       "        vertical-align: top;\n",
       "    }\n",
       "\n",
       "    .dataframe thead th {\n",
       "        text-align: right;\n",
       "    }\n",
       "</style>\n",
       "<table border=\"1\" class=\"dataframe\">\n",
       "  <thead>\n",
       "    <tr style=\"text-align: right;\">\n",
       "      <th></th>\n",
       "      <th>Localidad</th>\n",
       "      <th>Provincia</th>\n",
       "      <th>floor</th>\n",
       "    </tr>\n",
       "  </thead>\n",
       "  <tbody>\n",
       "  </tbody>\n",
       "</table>\n",
       "</div>"
      ],
      "text/plain": [
       "Empty DataFrame\n",
       "Columns: [Localidad, Provincia, floor]\n",
       "Index: []"
      ]
     },
     "execution_count": 123,
     "metadata": {},
     "output_type": "execute_result"
    }
   ],
   "source": [
    "data_train_final.loc[data_train_final['floor'].isna(),['Localidad','Provincia','floor']]"
   ]
  },
  {
   "cell_type": "code",
   "execution_count": 124,
   "metadata": {},
   "outputs": [
    {
     "data": {
      "text/plain": [
       "Series([], Name: Localidad, dtype: int64)"
      ]
     },
     "execution_count": 124,
     "metadata": {},
     "output_type": "execute_result"
    }
   ],
   "source": [
    "data_test_final.loc[data_test_final['floor'].isna(),'Localidad'].value_counts()"
   ]
  },
  {
   "cell_type": "markdown",
   "metadata": {},
   "source": [
    "Los que quedan, se imputan por la media por provincia:"
   ]
  },
  {
   "cell_type": "code",
   "execution_count": 125,
   "metadata": {},
   "outputs": [
    {
     "data": {
      "text/html": [
       "<div>\n",
       "<style scoped>\n",
       "    .dataframe tbody tr th:only-of-type {\n",
       "        vertical-align: middle;\n",
       "    }\n",
       "\n",
       "    .dataframe tbody tr th {\n",
       "        vertical-align: top;\n",
       "    }\n",
       "\n",
       "    .dataframe thead th {\n",
       "        text-align: right;\n",
       "    }\n",
       "</style>\n",
       "<table border=\"1\" class=\"dataframe\">\n",
       "  <thead>\n",
       "    <tr style=\"text-align: right;\">\n",
       "      <th></th>\n",
       "      <th>floor</th>\n",
       "    </tr>\n",
       "    <tr>\n",
       "      <th>Provincia</th>\n",
       "      <th></th>\n",
       "    </tr>\n",
       "  </thead>\n",
       "  <tbody>\n",
       "    <tr>\n",
       "      <th>Bs.As. G.B.A. Zona Norte</th>\n",
       "      <td>3.0</td>\n",
       "    </tr>\n",
       "    <tr>\n",
       "      <th>Bs.As. G.B.A. Zona Oeste</th>\n",
       "      <td>3.0</td>\n",
       "    </tr>\n",
       "    <tr>\n",
       "      <th>Bs.As. G.B.A. Zona Sur</th>\n",
       "      <td>3.0</td>\n",
       "    </tr>\n",
       "  </tbody>\n",
       "</table>\n",
       "</div>"
      ],
      "text/plain": [
       "                          floor\n",
       "Provincia                      \n",
       "Bs.As. G.B.A. Zona Norte    3.0\n",
       "Bs.As. G.B.A. Zona Oeste    3.0\n",
       "Bs.As. G.B.A. Zona Sur      3.0"
      ]
     },
     "execution_count": 125,
     "metadata": {},
     "output_type": "execute_result"
    }
   ],
   "source": [
    "floor_median_prov = data_train_final.loc[data_train_final['tipo_propiedad']=='apartment',['floor','Provincia']].groupby('Provincia').agg(np.median)\n",
    "floor_median_prov['floor'].fillna(value=floor_median_prov['floor'].mean(),inplace=True)\n",
    "floor_median_prov.head(10)"
   ]
  },
  {
   "cell_type": "code",
   "execution_count": 126,
   "metadata": {},
   "outputs": [],
   "source": [
    "for prov,floor_med in floor_median_prov['floor'].to_dict().items():\n",
    "    #imputo en el train set con los valores calculados\n",
    "    data_train_final.loc[(((data_train_final['tipo_propiedad']=='apartment')|(data_train_final['tipo_propiedad']=='store'))&(data_train_final['floor'].isna())&(data_train_final['Provincia']==prov)),'floor']=floor_med\n",
    "    #tambien imputo en el test set con los valores del train set.\n",
    "    data_test_final.loc[(((data_test_final['tipo_propiedad']=='apartment')|(data_test_final['tipo_propiedad']=='store'))&(data_test_final['floor'].isna())&(data_test_final['Provincia']==prov)),'floor']=floor_med"
   ]
  },
  {
   "cell_type": "code",
   "execution_count": 127,
   "metadata": {},
   "outputs": [
    {
     "name": "stdout",
     "output_type": "stream",
     "text": [
      "Datos faltantes de floor en train set: 0\n",
      "Datos faltantes de floor en test set: 0\n"
     ]
    }
   ],
   "source": [
    "print(\"Datos faltantes de floor en train set: {}\".format(data_train_final['floor'].isna().sum()))\n",
    "print(\"Datos faltantes de floor en test set: {}\".format(data_test_final['floor'].isna().sum()))"
   ]
  },
  {
   "cell_type": "code",
   "execution_count": 128,
   "metadata": {},
   "outputs": [
    {
     "data": {
      "text/plain": [
       "Series([], Name: Localidad, dtype: int64)"
      ]
     },
     "execution_count": 128,
     "metadata": {},
     "output_type": "execute_result"
    }
   ],
   "source": [
    "data_train_final.loc[data_train_final['floor'].isna(),'Localidad'].value_counts()"
   ]
  },
  {
   "cell_type": "code",
   "execution_count": 129,
   "metadata": {},
   "outputs": [
    {
     "data": {
      "text/html": [
       "<div>\n",
       "<style scoped>\n",
       "    .dataframe tbody tr th:only-of-type {\n",
       "        vertical-align: middle;\n",
       "    }\n",
       "\n",
       "    .dataframe tbody tr th {\n",
       "        vertical-align: top;\n",
       "    }\n",
       "\n",
       "    .dataframe thead th {\n",
       "        text-align: right;\n",
       "    }\n",
       "</style>\n",
       "<table border=\"1\" class=\"dataframe\">\n",
       "  <thead>\n",
       "    <tr style=\"text-align: right;\">\n",
       "      <th></th>\n",
       "      <th>Provincia</th>\n",
       "      <th>Localidad</th>\n",
       "      <th>floor</th>\n",
       "    </tr>\n",
       "  </thead>\n",
       "  <tbody>\n",
       "  </tbody>\n",
       "</table>\n",
       "</div>"
      ],
      "text/plain": [
       "Empty DataFrame\n",
       "Columns: [Provincia, Localidad, floor]\n",
       "Index: []"
      ]
     },
     "execution_count": 129,
     "metadata": {},
     "output_type": "execute_result"
    }
   ],
   "source": [
    "data_train_final.loc[data_train_final['floor'].isna(),['Provincia','Localidad','floor']]"
   ]
  },
  {
   "cell_type": "code",
   "execution_count": 130,
   "metadata": {},
   "outputs": [
    {
     "data": {
      "text/plain": [
       "Series([], Name: Localidad, dtype: int64)"
      ]
     },
     "execution_count": 130,
     "metadata": {},
     "output_type": "execute_result"
    }
   ],
   "source": [
    "data_test_final.loc[data_test_final['floor'].isna(),'Localidad'].value_counts()"
   ]
  },
  {
   "cell_type": "code",
   "execution_count": null,
   "metadata": {},
   "outputs": [],
   "source": []
  },
  {
   "cell_type": "markdown",
   "metadata": {},
   "source": [
    "## 11.2 Imputación de Superficies\n",
    "\n",
    "Columna temporal de const_index."
   ]
  },
  {
   "cell_type": "code",
   "execution_count": 131,
   "metadata": {
    "scrolled": true
   },
   "outputs": [
    {
     "data": {
      "text/html": [
       "<div>\n",
       "<style scoped>\n",
       "    .dataframe tbody tr th:only-of-type {\n",
       "        vertical-align: middle;\n",
       "    }\n",
       "\n",
       "    .dataframe tbody tr th {\n",
       "        vertical-align: top;\n",
       "    }\n",
       "\n",
       "    .dataframe thead th {\n",
       "        text-align: right;\n",
       "    }\n",
       "</style>\n",
       "<table border=\"1\" class=\"dataframe\">\n",
       "  <thead>\n",
       "    <tr style=\"text-align: right;\">\n",
       "      <th></th>\n",
       "      <th>tipo_propiedad</th>\n",
       "      <th>Provincia</th>\n",
       "      <th>Localidad</th>\n",
       "      <th>cochera</th>\n",
       "      <th>gimnasio</th>\n",
       "      <th>piscina</th>\n",
       "      <th>SUM</th>\n",
       "      <th>laundry</th>\n",
       "      <th>balcon</th>\n",
       "      <th>patio</th>\n",
       "      <th>...</th>\n",
       "      <th>Localidad_Quilmes</th>\n",
       "      <th>Localidad_San Fernando</th>\n",
       "      <th>Localidad_San Isidro</th>\n",
       "      <th>Localidad_San Miguel</th>\n",
       "      <th>Localidad_San Vicente</th>\n",
       "      <th>Localidad_Tigre</th>\n",
       "      <th>Localidad_Tres de Febrero</th>\n",
       "      <th>Localidad_Vicente López</th>\n",
       "      <th>sup_por_room</th>\n",
       "      <th>const_index</th>\n",
       "    </tr>\n",
       "  </thead>\n",
       "  <tbody>\n",
       "    <tr>\n",
       "      <th>8435</th>\n",
       "      <td>house</td>\n",
       "      <td>Bs.As. G.B.A. Zona Norte</td>\n",
       "      <td>Tigre</td>\n",
       "      <td>0.0</td>\n",
       "      <td>0.0</td>\n",
       "      <td>0.0</td>\n",
       "      <td>0.0</td>\n",
       "      <td>0.0</td>\n",
       "      <td>0.0</td>\n",
       "      <td>1.0</td>\n",
       "      <td>...</td>\n",
       "      <td>0.0</td>\n",
       "      <td>0.0</td>\n",
       "      <td>0.0</td>\n",
       "      <td>0.0</td>\n",
       "      <td>0.0</td>\n",
       "      <td>1.0</td>\n",
       "      <td>0.0</td>\n",
       "      <td>0.0</td>\n",
       "      <td>25.25</td>\n",
       "      <td>0.909910</td>\n",
       "    </tr>\n",
       "    <tr>\n",
       "      <th>13390</th>\n",
       "      <td>house</td>\n",
       "      <td>Bs.As. G.B.A. Zona Sur</td>\n",
       "      <td>Ezeiza</td>\n",
       "      <td>1.0</td>\n",
       "      <td>1.0</td>\n",
       "      <td>1.0</td>\n",
       "      <td>0.0</td>\n",
       "      <td>0.0</td>\n",
       "      <td>0.0</td>\n",
       "      <td>1.0</td>\n",
       "      <td>...</td>\n",
       "      <td>0.0</td>\n",
       "      <td>0.0</td>\n",
       "      <td>0.0</td>\n",
       "      <td>0.0</td>\n",
       "      <td>0.0</td>\n",
       "      <td>0.0</td>\n",
       "      <td>0.0</td>\n",
       "      <td>0.0</td>\n",
       "      <td>30.00</td>\n",
       "      <td>0.342857</td>\n",
       "    </tr>\n",
       "    <tr>\n",
       "      <th>2746</th>\n",
       "      <td>apartment</td>\n",
       "      <td>Bs.As. G.B.A. Zona Oeste</td>\n",
       "      <td>Tres de Febrero</td>\n",
       "      <td>0.0</td>\n",
       "      <td>0.0</td>\n",
       "      <td>0.0</td>\n",
       "      <td>0.0</td>\n",
       "      <td>0.0</td>\n",
       "      <td>1.0</td>\n",
       "      <td>0.0</td>\n",
       "      <td>...</td>\n",
       "      <td>0.0</td>\n",
       "      <td>0.0</td>\n",
       "      <td>0.0</td>\n",
       "      <td>0.0</td>\n",
       "      <td>0.0</td>\n",
       "      <td>0.0</td>\n",
       "      <td>1.0</td>\n",
       "      <td>0.0</td>\n",
       "      <td>25.00</td>\n",
       "      <td>0.909091</td>\n",
       "    </tr>\n",
       "    <tr>\n",
       "      <th>18388</th>\n",
       "      <td>PH</td>\n",
       "      <td>Bs.As. G.B.A. Zona Norte</td>\n",
       "      <td>San Isidro</td>\n",
       "      <td>0.0</td>\n",
       "      <td>0.0</td>\n",
       "      <td>0.0</td>\n",
       "      <td>1.0</td>\n",
       "      <td>1.0</td>\n",
       "      <td>0.0</td>\n",
       "      <td>1.0</td>\n",
       "      <td>...</td>\n",
       "      <td>0.0</td>\n",
       "      <td>0.0</td>\n",
       "      <td>1.0</td>\n",
       "      <td>0.0</td>\n",
       "      <td>0.0</td>\n",
       "      <td>0.0</td>\n",
       "      <td>0.0</td>\n",
       "      <td>0.0</td>\n",
       "      <td>15.50</td>\n",
       "      <td>1.000000</td>\n",
       "    </tr>\n",
       "    <tr>\n",
       "      <th>9807</th>\n",
       "      <td>apartment</td>\n",
       "      <td>Bs.As. G.B.A. Zona Sur</td>\n",
       "      <td>Avellaneda</td>\n",
       "      <td>0.0</td>\n",
       "      <td>0.0</td>\n",
       "      <td>0.0</td>\n",
       "      <td>0.0</td>\n",
       "      <td>0.0</td>\n",
       "      <td>1.0</td>\n",
       "      <td>0.0</td>\n",
       "      <td>...</td>\n",
       "      <td>0.0</td>\n",
       "      <td>0.0</td>\n",
       "      <td>0.0</td>\n",
       "      <td>0.0</td>\n",
       "      <td>0.0</td>\n",
       "      <td>0.0</td>\n",
       "      <td>0.0</td>\n",
       "      <td>0.0</td>\n",
       "      <td>NaN</td>\n",
       "      <td>NaN</td>\n",
       "    </tr>\n",
       "  </tbody>\n",
       "</table>\n",
       "<p>5 rows × 53 columns</p>\n",
       "</div>"
      ],
      "text/plain": [
       "      tipo_propiedad                 Provincia        Localidad  cochera  \\\n",
       "8435           house  Bs.As. G.B.A. Zona Norte            Tigre      0.0   \n",
       "13390          house    Bs.As. G.B.A. Zona Sur           Ezeiza      1.0   \n",
       "2746       apartment  Bs.As. G.B.A. Zona Oeste  Tres de Febrero      0.0   \n",
       "18388             PH  Bs.As. G.B.A. Zona Norte       San Isidro      0.0   \n",
       "9807       apartment    Bs.As. G.B.A. Zona Sur       Avellaneda      0.0   \n",
       "\n",
       "       gimnasio  piscina  SUM  laundry  balcon  patio  ...  Localidad_Quilmes  \\\n",
       "8435        0.0      0.0  0.0      0.0     0.0    1.0  ...                0.0   \n",
       "13390       1.0      1.0  0.0      0.0     0.0    1.0  ...                0.0   \n",
       "2746        0.0      0.0  0.0      0.0     1.0    0.0  ...                0.0   \n",
       "18388       0.0      0.0  1.0      1.0     0.0    1.0  ...                0.0   \n",
       "9807        0.0      0.0  0.0      0.0     1.0    0.0  ...                0.0   \n",
       "\n",
       "       Localidad_San Fernando  Localidad_San Isidro  Localidad_San Miguel  \\\n",
       "8435                      0.0                   0.0                   0.0   \n",
       "13390                     0.0                   0.0                   0.0   \n",
       "2746                      0.0                   0.0                   0.0   \n",
       "18388                     0.0                   1.0                   0.0   \n",
       "9807                      0.0                   0.0                   0.0   \n",
       "\n",
       "       Localidad_San Vicente  Localidad_Tigre  Localidad_Tres de Febrero  \\\n",
       "8435                     0.0              1.0                        0.0   \n",
       "13390                    0.0              0.0                        0.0   \n",
       "2746                     0.0              0.0                        1.0   \n",
       "18388                    0.0              0.0                        0.0   \n",
       "9807                     0.0              0.0                        0.0   \n",
       "\n",
       "       Localidad_Vicente López  sup_por_room  const_index  \n",
       "8435                       0.0         25.25     0.909910  \n",
       "13390                      0.0         30.00     0.342857  \n",
       "2746                       0.0         25.00     0.909091  \n",
       "18388                      0.0         15.50     1.000000  \n",
       "9807                       0.0           NaN          NaN  \n",
       "\n",
       "[5 rows x 53 columns]"
      ]
     },
     "execution_count": 131,
     "metadata": {},
     "output_type": "execute_result"
    }
   ],
   "source": [
    "data_train_final['const_index']=data_train_final['sup_cub']/data_train_final['sup_total']\n",
    "#data_test['const_index']=0\n",
    "data_train_final.head(5)"
   ]
  },
  {
   "cell_type": "code",
   "execution_count": 132,
   "metadata": {},
   "outputs": [
    {
     "data": {
      "text/html": [
       "<div>\n",
       "<style scoped>\n",
       "    .dataframe tbody tr th:only-of-type {\n",
       "        vertical-align: middle;\n",
       "    }\n",
       "\n",
       "    .dataframe tbody tr th {\n",
       "        vertical-align: top;\n",
       "    }\n",
       "\n",
       "    .dataframe thead th {\n",
       "        text-align: right;\n",
       "    }\n",
       "</style>\n",
       "<table border=\"1\" class=\"dataframe\">\n",
       "  <thead>\n",
       "    <tr style=\"text-align: right;\">\n",
       "      <th></th>\n",
       "      <th>const_index</th>\n",
       "    </tr>\n",
       "    <tr>\n",
       "      <th>Localidad</th>\n",
       "      <th></th>\n",
       "    </tr>\n",
       "  </thead>\n",
       "  <tbody>\n",
       "    <tr>\n",
       "      <th>Almirante Brown</th>\n",
       "      <td>0.855112</td>\n",
       "    </tr>\n",
       "    <tr>\n",
       "      <th>Avellaneda</th>\n",
       "      <td>0.914286</td>\n",
       "    </tr>\n",
       "    <tr>\n",
       "      <th>Berazategui</th>\n",
       "      <td>0.885971</td>\n",
       "    </tr>\n",
       "    <tr>\n",
       "      <th>Cañuelas</th>\n",
       "      <td>0.775148</td>\n",
       "    </tr>\n",
       "    <tr>\n",
       "      <th>Escobar</th>\n",
       "      <td>0.883721</td>\n",
       "    </tr>\n",
       "    <tr>\n",
       "      <th>Esteban Echeverría</th>\n",
       "      <td>0.816667</td>\n",
       "    </tr>\n",
       "    <tr>\n",
       "      <th>Ezeiza</th>\n",
       "      <td>0.830000</td>\n",
       "    </tr>\n",
       "    <tr>\n",
       "      <th>Florencio Varela</th>\n",
       "      <td>0.883721</td>\n",
       "    </tr>\n",
       "    <tr>\n",
       "      <th>General Rodríguez</th>\n",
       "      <td>0.815518</td>\n",
       "    </tr>\n",
       "    <tr>\n",
       "      <th>General San Martín</th>\n",
       "      <td>0.872549</td>\n",
       "    </tr>\n",
       "  </tbody>\n",
       "</table>\n",
       "</div>"
      ],
      "text/plain": [
       "                    const_index\n",
       "Localidad                      \n",
       "Almirante Brown        0.855112\n",
       "Avellaneda             0.914286\n",
       "Berazategui            0.885971\n",
       "Cañuelas               0.775148\n",
       "Escobar                0.883721\n",
       "Esteban Echeverría     0.816667\n",
       "Ezeiza                 0.830000\n",
       "Florencio Varela       0.883721\n",
       "General Rodríguez      0.815518\n",
       "General San Martín     0.872549"
      ]
     },
     "execution_count": 132,
     "metadata": {},
     "output_type": "execute_result"
    }
   ],
   "source": [
    "const_median_loc = data_train_final[['const_index','Localidad']].groupby('Localidad').median()\n",
    "const_median_loc['const_index'].fillna(value=const_median_loc['const_index'].mean(),inplace=True)\n",
    "const_median_loc.head(10)"
   ]
  },
  {
   "cell_type": "markdown",
   "metadata": {},
   "source": [
    "Imputación del índice de construcción:"
   ]
  },
  {
   "cell_type": "code",
   "execution_count": 133,
   "metadata": {},
   "outputs": [
    {
     "data": {
      "text/plain": [
       "sup_cub       2405\n",
       "sup_total     1666\n",
       "sup_descub    4071\n",
       "dtype: int64"
      ]
     },
     "execution_count": 133,
     "metadata": {},
     "output_type": "execute_result"
    }
   ],
   "source": [
    "data_train_final[['sup_cub','sup_total','sup_descub']].isna().sum()"
   ]
  },
  {
   "cell_type": "code",
   "execution_count": 134,
   "metadata": {},
   "outputs": [],
   "source": [
    "for localidad,const_med in const_median_loc['const_index'].to_dict().items():\n",
    "    data_train_final.loc[(data_train_final['const_index'].isna())&(data_train_final['Localidad']==localidad),'const_index']=const_med\n",
    "    data_test_final.loc[(data_test_final['Localidad']==localidad),'const_index']=const_med"
   ]
  },
  {
   "cell_type": "markdown",
   "metadata": {},
   "source": [
    "Completar los datos faltantes de Superficie Cubierta y Superficie Total con el índice de construcción calculado, en el set de entrenamiento."
   ]
  },
  {
   "cell_type": "code",
   "execution_count": 135,
   "metadata": {},
   "outputs": [],
   "source": [
    "data_train_final['sup_cub'].fillna(data_train_final['const_index']*data_train_final['sup_total'],inplace=True)\n",
    "data_train_final['sup_total'].fillna(data_train_final['sup_cub']/data_train_final['const_index'],inplace=True)\n",
    "data_train_final['sup_descub'].fillna((data_train_final['sup_total']-data_train_final['sup_cub']),inplace=True)"
   ]
  },
  {
   "cell_type": "markdown",
   "metadata": {},
   "source": [
    "Completar los datos faltantes de Superficie Cubierta y Superficie Total con el índice de construcción calculado, en el set de testeo."
   ]
  },
  {
   "cell_type": "code",
   "execution_count": 136,
   "metadata": {},
   "outputs": [],
   "source": [
    "data_test_final['sup_cub'].fillna(data_test_final['const_index']*data_test_final['sup_total'],inplace=True)\n",
    "data_test_final['sup_total'].fillna(data_test_final['sup_cub']/data_test_final['const_index'],inplace=True)\n",
    "data_test_final['sup_descub'].fillna((data_test_final['sup_total']-data_test_final['sup_cub']),inplace=True)"
   ]
  },
  {
   "cell_type": "code",
   "execution_count": 137,
   "metadata": {},
   "outputs": [],
   "source": [
    "#data_train_final['cub_desc'].fillnadata_train_final['sup_cub']*data_train_final['sup_descub']\n",
    "data_train_final['sup_por_room'].fillna(data_train_final['sup_cub']/data_train_final['rooms'],inplace=True)"
   ]
  },
  {
   "cell_type": "code",
   "execution_count": 138,
   "metadata": {},
   "outputs": [],
   "source": [
    "data_test_final['sup_por_room'].fillna(data_test_final['sup_cub']/data_test_final['rooms'],inplace=True)"
   ]
  },
  {
   "cell_type": "code",
   "execution_count": 139,
   "metadata": {
    "scrolled": false
   },
   "outputs": [
    {
     "data": {
      "text/plain": [
       "sup_cub         0\n",
       "sup_total       0\n",
       "sup_descub      0\n",
       "sup_por_room    0\n",
       "dtype: int64"
      ]
     },
     "execution_count": 139,
     "metadata": {},
     "output_type": "execute_result"
    }
   ],
   "source": [
    "data_train_final[['sup_cub','sup_total','sup_descub','sup_por_room']].isna().sum()"
   ]
  },
  {
   "cell_type": "code",
   "execution_count": 140,
   "metadata": {},
   "outputs": [
    {
     "data": {
      "text/plain": [
       "sup_cub         0\n",
       "sup_total       0\n",
       "sup_descub      0\n",
       "sup_por_room    0\n",
       "dtype: int64"
      ]
     },
     "execution_count": 140,
     "metadata": {},
     "output_type": "execute_result"
    }
   ],
   "source": [
    "data_test_final[['sup_cub','sup_total','sup_descub','sup_por_room']].isna().sum()"
   ]
  },
  {
   "cell_type": "code",
   "execution_count": 141,
   "metadata": {
    "scrolled": true
   },
   "outputs": [
    {
     "data": {
      "text/plain": [
       "Index(['tipo_propiedad', 'Provincia', 'Localidad', 'cochera', 'gimnasio',\n",
       "       'piscina', 'SUM', 'laundry', 'balcon', 'patio', 'parrilla', 'floor',\n",
       "       'rooms', 'sup_cub', 'sup_descub', 'sup_total', 'price_usd_per_m2',\n",
       "       'tipo_propiedad_apartment', 'tipo_propiedad_house',\n",
       "       'tipo_propiedad_store', 'Localidad_Avellaneda', 'Localidad_Berazategui',\n",
       "       'Localidad_Cañuelas', 'Localidad_Escobar',\n",
       "       'Localidad_Esteban Echeverría', 'Localidad_Ezeiza',\n",
       "       'Localidad_Florencio Varela', 'Localidad_General Rodríguez',\n",
       "       'Localidad_General San Martín', 'Localidad_Hurlingham',\n",
       "       'Localidad_Ituzaingó', 'Localidad_José C Paz', 'Localidad_La Matanza',\n",
       "       'Localidad_La Plata', 'Localidad_Lanús', 'Localidad_Lomas de Zamora',\n",
       "       'Localidad_Malvinas Argentinas', 'Localidad_Marcos Paz',\n",
       "       'Localidad_Merlo', 'Localidad_Moreno', 'Localidad_Morón',\n",
       "       'Localidad_Pilar', 'Localidad_Presidente Perón', 'Localidad_Quilmes',\n",
       "       'Localidad_San Fernando', 'Localidad_San Isidro',\n",
       "       'Localidad_San Miguel', 'Localidad_San Vicente', 'Localidad_Tigre',\n",
       "       'Localidad_Tres de Febrero', 'Localidad_Vicente López', 'sup_por_room',\n",
       "       'const_index'],\n",
       "      dtype='object')"
      ]
     },
     "execution_count": 141,
     "metadata": {},
     "output_type": "execute_result"
    }
   ],
   "source": [
    "data_train_final.columns"
   ]
  },
  {
   "cell_type": "code",
   "execution_count": 142,
   "metadata": {},
   "outputs": [
    {
     "data": {
      "text/plain": [
       "Index(['tipo_propiedad', 'Provincia', 'Localidad', 'cochera', 'gimnasio',\n",
       "       'piscina', 'SUM', 'laundry', 'balcon', 'patio', 'parrilla', 'floor',\n",
       "       'rooms', 'sup_cub', 'sup_descub', 'sup_total', 'price_usd_per_m2',\n",
       "       'tipo_propiedad_apartment', 'tipo_propiedad_house',\n",
       "       'tipo_propiedad_store', 'Localidad_Avellaneda', 'Localidad_Berazategui',\n",
       "       'Localidad_Cañuelas', 'Localidad_Escobar',\n",
       "       'Localidad_Esteban Echeverría', 'Localidad_Ezeiza',\n",
       "       'Localidad_Florencio Varela', 'Localidad_General Rodríguez',\n",
       "       'Localidad_General San Martín', 'Localidad_Hurlingham',\n",
       "       'Localidad_Ituzaingó', 'Localidad_José C Paz', 'Localidad_La Matanza',\n",
       "       'Localidad_La Plata', 'Localidad_Lanús', 'Localidad_Lomas de Zamora',\n",
       "       'Localidad_Malvinas Argentinas', 'Localidad_Marcos Paz',\n",
       "       'Localidad_Merlo', 'Localidad_Moreno', 'Localidad_Morón',\n",
       "       'Localidad_Pilar', 'Localidad_Presidente Perón', 'Localidad_Quilmes',\n",
       "       'Localidad_San Fernando', 'Localidad_San Isidro',\n",
       "       'Localidad_San Miguel', 'Localidad_San Vicente', 'Localidad_Tigre',\n",
       "       'Localidad_Tres de Febrero', 'Localidad_Vicente López', 'sup_por_room',\n",
       "       'const_index'],\n",
       "      dtype='object')"
      ]
     },
     "execution_count": 142,
     "metadata": {},
     "output_type": "execute_result"
    }
   ],
   "source": [
    "data_test_final.columns"
   ]
  },
  {
   "cell_type": "code",
   "execution_count": 143,
   "metadata": {},
   "outputs": [
    {
     "name": "stdout",
     "output_type": "stream",
     "text": [
      "(20176, 97) (100, 97)\n"
     ]
    }
   ],
   "source": [
    "poly_vars = ['floor','rooms','sup_cub','sup_descub','sup_por_room']\n",
    "y_column = ['price_usd_per_m2']\n",
    "poly_drop = ['tipo_propiedad', 'Localidad','Provincia','sup_total','const_index']\n",
    "data_train3 = data_train_final.drop(columns=poly_drop).copy()\n",
    "y_train = data_train_final[y_column[0]]\n",
    "data_test3 = data_test_final.drop(columns=poly_drop).copy()\n",
    "y_test = data_test_final[y_column[0]]\n",
    "\n",
    "X_train_pol3,X_test_pol3 = get_poly_X(poly_vars = poly_vars, y_var = y_column, df_train = data_train3, df_test = data_test3,degree=3)\n",
    "print(X_train_pol3.shape,X_test_pol3.shape)\n",
    "\n",
    "Xs_train_pol3 = stdscalerX.fit_transform(X_train_pol3)\n",
    "ys_train_pol3 = y_train\n",
    "\n",
    "Xs_test_pol3 = stdscalerX.transform(X_test_pol3)\n",
    "ys_test_pol3 = y_test"
   ]
  },
  {
   "cell_type": "code",
   "execution_count": 144,
   "metadata": {},
   "outputs": [
    {
     "data": {
      "text/plain": [
       "(100, 48)"
      ]
     },
     "execution_count": 144,
     "metadata": {},
     "output_type": "execute_result"
    }
   ],
   "source": [
    "data_test3.shape"
   ]
  },
  {
   "cell_type": "code",
   "execution_count": 145,
   "metadata": {},
   "outputs": [],
   "source": [
    "#Ridge Regression Model\n",
    "# alpha_lasso_model = model_lin_lasso_pol3.alpha_\n",
    "# gba_model = Lasso(alpha=alpha_lasso_model,max_iter=100000,selection='random')\n",
    "alpha_ridge_model = model_lin_ridge_pol3.alpha_\n",
    "gba_model = Ridge(alpha=alpha_ridge_model)\n",
    "gba_model = gba_model.fit(Xs_train_pol3, ys_train_pol3)"
   ]
  },
  {
   "cell_type": "markdown",
   "metadata": {},
   "source": [
    "CrossValidation Score:"
   ]
  },
  {
   "cell_type": "code",
   "execution_count": 146,
   "metadata": {
    "scrolled": true
   },
   "outputs": [
    {
     "name": "stdout",
     "output_type": "stream",
     "text": [
      "[0.533 0.594 0.59  0.578 0.578]\n",
      "[0.093 0.56  0.598 0.584 0.602]\n",
      "[0.59  0.584 0.43  0.583 0.586]\n",
      "[ 0.587 -0.473  0.606  0.585  0.567]\n",
      "[0.338 0.594 0.568 0.603 0.577]\n",
      "[0.568 0.599 0.584 0.584 0.574]\n",
      "[0.57  0.56  0.594 0.589 0.592]\n",
      "[0.58  0.601 0.587 0.582 0.553]\n",
      "[0.599 0.588 0.575 0.589 0.579]\n",
      "[0.573 0.552 0.584 0.602 0.579]\n"
     ]
    }
   ],
   "source": [
    "for _ in range(10):\n",
    "    kf3 = KFold(n_splits=5, shuffle=True)\n",
    "    print(cross_val_score(gba_model, Xs_train_pol3, ys_train_pol3, cv=kf3))  "
   ]
  },
  {
   "cell_type": "code",
   "execution_count": 147,
   "metadata": {},
   "outputs": [
    {
     "name": "stdout",
     "output_type": "stream",
     "text": [
      "----------------------------\n",
      "Train set\n",
      "----------------------------\n",
      "MAE: 345.026065\n",
      "MSE: 221712.008907\n",
      "RMSE: 470.863047\n",
      "R2: 0.5921\n",
      "----------------------------\n",
      "Test set\n",
      "----------------------------\n",
      "MAE: 346.43935\n",
      "MSE: 227967.225036\n",
      "RMSE: 477.459134\n",
      "R2: 0.5284\n"
     ]
    }
   ],
   "source": [
    "y_pred_tr = gba_model.predict(Xs_train_pol3)\n",
    "y_pred_ts = gba_model.predict(Xs_test_pol3)\n",
    "\n",
    "print(\"----------------------------\")\n",
    "print(\"Train set\")\n",
    "print(\"----------------------------\")\n",
    "print_metrics(y_train,y_pred_tr)\n",
    "print(\"----------------------------\")\n",
    "print(\"Test set\")\n",
    "print(\"----------------------------\")\n",
    "print_metrics(y_test,y_pred_ts)\n"
   ]
  },
  {
   "cell_type": "code",
   "execution_count": 148,
   "metadata": {},
   "outputs": [
    {
     "data": {
      "text/html": [
       "<div>\n",
       "<style scoped>\n",
       "    .dataframe tbody tr th:only-of-type {\n",
       "        vertical-align: middle;\n",
       "    }\n",
       "\n",
       "    .dataframe tbody tr th {\n",
       "        vertical-align: top;\n",
       "    }\n",
       "\n",
       "    .dataframe thead th {\n",
       "        text-align: right;\n",
       "    }\n",
       "</style>\n",
       "<table border=\"1\" class=\"dataframe\">\n",
       "  <thead>\n",
       "    <tr style=\"text-align: right;\">\n",
       "      <th></th>\n",
       "      <th>Real_Price</th>\n",
       "      <th>Model_Prediction</th>\n",
       "      <th>diff</th>\n",
       "      <th>Sobre/Sub</th>\n",
       "      <th>abs_diff</th>\n",
       "    </tr>\n",
       "  </thead>\n",
       "  <tbody>\n",
       "    <tr>\n",
       "      <th>18807</th>\n",
       "      <td>1555.555556</td>\n",
       "      <td>1268.690768</td>\n",
       "      <td>-286.864787</td>\n",
       "      <td>Subvaluado</td>\n",
       "      <td>286.864787</td>\n",
       "    </tr>\n",
       "    <tr>\n",
       "      <th>11261</th>\n",
       "      <td>2578.947368</td>\n",
       "      <td>1844.650697</td>\n",
       "      <td>-734.296672</td>\n",
       "      <td>Subvaluado</td>\n",
       "      <td>734.296672</td>\n",
       "    </tr>\n",
       "    <tr>\n",
       "      <th>6044</th>\n",
       "      <td>1111.689423</td>\n",
       "      <td>1324.973923</td>\n",
       "      <td>213.284500</td>\n",
       "      <td>Sobrevaluado</td>\n",
       "      <td>213.284500</td>\n",
       "    </tr>\n",
       "    <tr>\n",
       "      <th>6798</th>\n",
       "      <td>1770.833333</td>\n",
       "      <td>1869.646972</td>\n",
       "      <td>98.813638</td>\n",
       "      <td>Sobrevaluado</td>\n",
       "      <td>98.813638</td>\n",
       "    </tr>\n",
       "    <tr>\n",
       "      <th>1921</th>\n",
       "      <td>2241.379310</td>\n",
       "      <td>1785.920067</td>\n",
       "      <td>-455.459243</td>\n",
       "      <td>Subvaluado</td>\n",
       "      <td>455.459243</td>\n",
       "    </tr>\n",
       "    <tr>\n",
       "      <th>5629</th>\n",
       "      <td>546.448087</td>\n",
       "      <td>1494.809046</td>\n",
       "      <td>948.360959</td>\n",
       "      <td>Sobrevaluado</td>\n",
       "      <td>948.360959</td>\n",
       "    </tr>\n",
       "    <tr>\n",
       "      <th>14411</th>\n",
       "      <td>1068.376068</td>\n",
       "      <td>954.087863</td>\n",
       "      <td>-114.288205</td>\n",
       "      <td>Subvaluado</td>\n",
       "      <td>114.288205</td>\n",
       "    </tr>\n",
       "    <tr>\n",
       "      <th>12103</th>\n",
       "      <td>707.299270</td>\n",
       "      <td>875.845802</td>\n",
       "      <td>168.546532</td>\n",
       "      <td>Sobrevaluado</td>\n",
       "      <td>168.546532</td>\n",
       "    </tr>\n",
       "    <tr>\n",
       "      <th>8519</th>\n",
       "      <td>909.090909</td>\n",
       "      <td>780.464587</td>\n",
       "      <td>-128.626322</td>\n",
       "      <td>Subvaluado</td>\n",
       "      <td>128.626322</td>\n",
       "    </tr>\n",
       "    <tr>\n",
       "      <th>17346</th>\n",
       "      <td>1038.461538</td>\n",
       "      <td>907.308063</td>\n",
       "      <td>-131.153476</td>\n",
       "      <td>Subvaluado</td>\n",
       "      <td>131.153476</td>\n",
       "    </tr>\n",
       "  </tbody>\n",
       "</table>\n",
       "</div>"
      ],
      "text/plain": [
       "        Real_Price  Model_Prediction        diff     Sobre/Sub    abs_diff\n",
       "18807  1555.555556       1268.690768 -286.864787    Subvaluado  286.864787\n",
       "11261  2578.947368       1844.650697 -734.296672    Subvaluado  734.296672\n",
       "6044   1111.689423       1324.973923  213.284500  Sobrevaluado  213.284500\n",
       "6798   1770.833333       1869.646972   98.813638  Sobrevaluado   98.813638\n",
       "1921   2241.379310       1785.920067 -455.459243    Subvaluado  455.459243\n",
       "5629    546.448087       1494.809046  948.360959  Sobrevaluado  948.360959\n",
       "14411  1068.376068        954.087863 -114.288205    Subvaluado  114.288205\n",
       "12103   707.299270        875.845802  168.546532  Sobrevaluado  168.546532\n",
       "8519    909.090909        780.464587 -128.626322    Subvaluado  128.626322\n",
       "17346  1038.461538        907.308063 -131.153476    Subvaluado  131.153476"
      ]
     },
     "execution_count": 148,
     "metadata": {},
     "output_type": "execute_result"
    }
   ],
   "source": [
    "portfolio = pd.DataFrame(y_test).rename(columns={'price_usd_per_m2':'Real_Price'})\n",
    "portfolio['Model_Prediction']=y_pred_ts\n",
    "portfolio['diff'] = portfolio['Model_Prediction']-portfolio['Real_Price']\n",
    "portfolio['Sobre/Sub'] = portfolio['diff'].apply(lambda x: 'Sobrevaluado' if x>0 else 'Subvaluado')\n",
    "portfolio['abs_diff']=portfolio['diff'].abs()\n",
    "portfolio.head(10)"
   ]
  },
  {
   "cell_type": "code",
   "execution_count": 149,
   "metadata": {},
   "outputs": [
    {
     "data": {
      "text/html": [
       "<div>\n",
       "<style scoped>\n",
       "    .dataframe tbody tr th:only-of-type {\n",
       "        vertical-align: middle;\n",
       "    }\n",
       "\n",
       "    .dataframe tbody tr th {\n",
       "        vertical-align: top;\n",
       "    }\n",
       "\n",
       "    .dataframe thead th {\n",
       "        text-align: right;\n",
       "    }\n",
       "</style>\n",
       "<table border=\"1\" class=\"dataframe\">\n",
       "  <thead>\n",
       "    <tr style=\"text-align: right;\">\n",
       "      <th></th>\n",
       "      <th>Real_Price</th>\n",
       "      <th>Model_Prediction</th>\n",
       "      <th>diff</th>\n",
       "      <th>abs_diff</th>\n",
       "    </tr>\n",
       "  </thead>\n",
       "  <tbody>\n",
       "    <tr>\n",
       "      <th>count</th>\n",
       "      <td>100.000000</td>\n",
       "      <td>100.000000</td>\n",
       "      <td>100.000000</td>\n",
       "      <td>100.000000</td>\n",
       "    </tr>\n",
       "    <tr>\n",
       "      <th>mean</th>\n",
       "      <td>1333.906553</td>\n",
       "      <td>1358.698919</td>\n",
       "      <td>24.792366</td>\n",
       "      <td>346.439350</td>\n",
       "    </tr>\n",
       "    <tr>\n",
       "      <th>std</th>\n",
       "      <td>698.795053</td>\n",
       "      <td>523.188881</td>\n",
       "      <td>479.217126</td>\n",
       "      <td>330.208079</td>\n",
       "    </tr>\n",
       "    <tr>\n",
       "      <th>min</th>\n",
       "      <td>141.666667</td>\n",
       "      <td>322.422586</td>\n",
       "      <td>-1473.013227</td>\n",
       "      <td>13.094031</td>\n",
       "    </tr>\n",
       "    <tr>\n",
       "      <th>25%</th>\n",
       "      <td>895.958519</td>\n",
       "      <td>1024.576888</td>\n",
       "      <td>-217.650676</td>\n",
       "      <td>134.631348</td>\n",
       "    </tr>\n",
       "    <tr>\n",
       "      <th>50%</th>\n",
       "      <td>1260.919540</td>\n",
       "      <td>1307.712854</td>\n",
       "      <td>73.053254</td>\n",
       "      <td>245.065730</td>\n",
       "    </tr>\n",
       "    <tr>\n",
       "      <th>75%</th>\n",
       "      <td>1733.103448</td>\n",
       "      <td>1751.973082</td>\n",
       "      <td>256.468362</td>\n",
       "      <td>441.979316</td>\n",
       "    </tr>\n",
       "    <tr>\n",
       "      <th>max</th>\n",
       "      <td>3705.882353</td>\n",
       "      <td>2542.241460</td>\n",
       "      <td>1955.420167</td>\n",
       "      <td>1955.420167</td>\n",
       "    </tr>\n",
       "  </tbody>\n",
       "</table>\n",
       "</div>"
      ],
      "text/plain": [
       "        Real_Price  Model_Prediction         diff     abs_diff\n",
       "count   100.000000        100.000000   100.000000   100.000000\n",
       "mean   1333.906553       1358.698919    24.792366   346.439350\n",
       "std     698.795053        523.188881   479.217126   330.208079\n",
       "min     141.666667        322.422586 -1473.013227    13.094031\n",
       "25%     895.958519       1024.576888  -217.650676   134.631348\n",
       "50%    1260.919540       1307.712854    73.053254   245.065730\n",
       "75%    1733.103448       1751.973082   256.468362   441.979316\n",
       "max    3705.882353       2542.241460  1955.420167  1955.420167"
      ]
     },
     "execution_count": 149,
     "metadata": {},
     "output_type": "execute_result"
    }
   ],
   "source": [
    "portfolio.describe()"
   ]
  },
  {
   "cell_type": "code",
   "execution_count": 150,
   "metadata": {},
   "outputs": [
    {
     "data": {
      "text/plain": [
       "(54, 46)"
      ]
     },
     "execution_count": 150,
     "metadata": {},
     "output_type": "execute_result"
    }
   ],
   "source": [
    "sobrevaluados = portfolio.loc[portfolio['Sobre/Sub']=='Sobrevaluado','Sobre/Sub'].count()\n",
    "subvaluados = portfolio.loc[portfolio['Sobre/Sub']=='Subvaluado','Sobre/Sub'].count()\n",
    "sobrevaluados,subvaluados"
   ]
  },
  {
   "cell_type": "code",
   "execution_count": 151,
   "metadata": {},
   "outputs": [],
   "source": [
    "#portfolio.plot(kind='scatter',x='Real_Price',y='Model_Prediction',figsize=(8,6))"
   ]
  },
  {
   "cell_type": "code",
   "execution_count": 152,
   "metadata": {},
   "outputs": [],
   "source": [
    "#plt.figure(figsize=(8,6))\n",
    "#sns.regplot(x=\"Real_Price\", y=\"Model_Prediction\", data=portfolio)"
   ]
  },
  {
   "cell_type": "code",
   "execution_count": 153,
   "metadata": {},
   "outputs": [],
   "source": [
    "#plt.figure(figsize=(8,6))\n",
    "#plt.scatter(x=ys_test_pol3, y =y_pred_ts)\n",
    "#plt.title('Valores predichos Vs. Valores Reales (Ridge)', fontsize=16)\n",
    "#plt.ylabel('Valores Predichos')\n",
    "#plt.xlabel('Valores Reales')"
   ]
  },
  {
   "cell_type": "code",
   "execution_count": 154,
   "metadata": {},
   "outputs": [
    {
     "data": {
      "text/plain": [
       "Text(0, 0.5, 'Real Value - Predicted Value')"
      ]
     },
     "execution_count": 154,
     "metadata": {},
     "output_type": "execute_result"
    },
    {
     "data": {
      "image/png": "[encoded data removed]",
      "text/plain": [
       "<Figure size 1008x720 with 1 Axes>"
      ]
     },
     "metadata": {
      "needs_background": "light"
     },
     "output_type": "display_data"
    }
   ],
   "source": [
    "port_df = portfolio.reset_index().drop(columns='index').reset_index()\n",
    "port_plot_df = port_df.sample(100)\n",
    "#display(port_plot_df)\n",
    "#port_plot_df.plot(kind='scatter',x='index',y='diff',figsize=(8,6))\n",
    "plt.figure(figsize=(14,10))\n",
    "sobreval = port_plot_df.loc[port_plot_df['Sobre/Sub']=='Sobrevaluado']\n",
    "subval = port_plot_df.loc[port_plot_df['Sobre/Sub']=='Subvaluado']\n",
    "#plt.stem(port_plot_df['index'],port_plot_df['diff'])\n",
    "plt.stem(subval['index'],subval['diff'],linefmt='red',markerfmt='or')\n",
    "plt.stem(sobreval['index'],sobreval['diff'],linefmt='green',markerfmt='og')\n",
    "plt.ylabel('Real Value - Predicted Value',fontsize=16)\n",
    "#plt.savefig('../Images/GBA Portfolio.png')"
   ]
  },
  {
   "cell_type": "code",
   "execution_count": null,
   "metadata": {},
   "outputs": [],
   "source": []
  }
 ],
 "metadata": {
  "kernelspec": {
   "display_name": "Python 3",
   "language": "python",
   "name": "python3"
  },
  "language_info": {
   "codemirror_mode": {
    "name": "ipython",
    "version": 3
   },
   "file_extension": ".py",
   "mimetype": "text/x-python",
   "name": "python",
   "nbconvert_exporter": "python",
   "pygments_lexer": "ipython3",
   "version": "3.7.1"
  }
 },
 "nbformat": 4,
 "nbformat_minor": 2
}
