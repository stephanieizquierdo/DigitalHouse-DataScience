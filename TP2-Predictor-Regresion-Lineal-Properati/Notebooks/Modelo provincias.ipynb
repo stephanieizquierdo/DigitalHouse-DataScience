{
 "cells": [
  {
   "cell_type": "markdown",
   "metadata": {},
   "source": [
    "# Modelo Provincias"
   ]
  },
  {
   "cell_type": "markdown",
   "metadata": {},
   "source": [
    "Santa Fe, Cordoba, Buenos aires interior y Costa de Buenos Aires"
   ]
  },
  {
   "cell_type": "markdown",
   "metadata": {},
   "source": [
    "### Importacion de bibliotecas"
   ]
  },
  {
   "cell_type": "code",
   "execution_count": 1,
   "metadata": {},
   "outputs": [],
   "source": [
    "import numpy as np\n",
    "import pandas as pd\n",
    "import seaborn as sns\n",
    "import matplotlib.pyplot as plt\n",
    "from sklearn import preprocessing\n",
    "from sklearn.model_selection import train_test_split, KFold, cross_val_score\n",
    "from sklearn import linear_model\n",
    "from sklearn.linear_model import LinearRegression, Lasso, LassoCV, Ridge, RidgeCV, ElasticNet, ElasticNetCV\n",
    "from sklearn.linear_model import ElasticNetCV\n",
    "from sklearn.preprocessing import PolynomialFeatures, StandardScaler\n",
    "from sklearn.metrics import mean_squared_error, r2_score, accuracy_score, mean_absolute_error\n",
    "from sklearn.model_selection import train_test_split, KFold, cross_val_score"
   ]
  },
  {
   "cell_type": "code",
   "execution_count": 2,
   "metadata": {},
   "outputs": [],
   "source": [
    "data = pd.read_csv('../Data/combo_provincias.csv',index_col=0)"
   ]
  },
  {
   "cell_type": "code",
   "execution_count": 3,
   "metadata": {
    "scrolled": false
   },
   "outputs": [
    {
     "data": {
      "text/html": [
       "<div>\n",
       "<style scoped>\n",
       "    .dataframe tbody tr th:only-of-type {\n",
       "        vertical-align: middle;\n",
       "    }\n",
       "\n",
       "    .dataframe tbody tr th {\n",
       "        vertical-align: top;\n",
       "    }\n",
       "\n",
       "    .dataframe thead th {\n",
       "        text-align: right;\n",
       "    }\n",
       "</style>\n",
       "<table border=\"1\" class=\"dataframe\">\n",
       "  <thead>\n",
       "    <tr style=\"text-align: right;\">\n",
       "      <th></th>\n",
       "      <th>tipo_propiedad</th>\n",
       "      <th>Provincia</th>\n",
       "      <th>Zona</th>\n",
       "      <th>Localidad</th>\n",
       "      <th>Barrio</th>\n",
       "      <th>place_name</th>\n",
       "      <th>cochera</th>\n",
       "      <th>gimnasio</th>\n",
       "      <th>piscina</th>\n",
       "      <th>SUM</th>\n",
       "      <th>...</th>\n",
       "      <th>balcon</th>\n",
       "      <th>patio</th>\n",
       "      <th>parrilla</th>\n",
       "      <th>floor</th>\n",
       "      <th>rooms</th>\n",
       "      <th>price_usd</th>\n",
       "      <th>sup_cub</th>\n",
       "      <th>sup_descub</th>\n",
       "      <th>sup_total</th>\n",
       "      <th>price_usd_per_m2</th>\n",
       "    </tr>\n",
       "  </thead>\n",
       "  <tbody>\n",
       "    <tr>\n",
       "      <th>3261</th>\n",
       "      <td>apartment</td>\n",
       "      <td>Buenos Aires Costa Atlántica</td>\n",
       "      <td>BsAs</td>\n",
       "      <td>Mar del Plata</td>\n",
       "      <td>NaN</td>\n",
       "      <td>Mar del plata</td>\n",
       "      <td>0.0</td>\n",
       "      <td>0.0</td>\n",
       "      <td>0.0</td>\n",
       "      <td>0.0</td>\n",
       "      <td>...</td>\n",
       "      <td>0.0</td>\n",
       "      <td>1.0</td>\n",
       "      <td>0.0</td>\n",
       "      <td>NaN</td>\n",
       "      <td>3.0</td>\n",
       "      <td>84900.000000</td>\n",
       "      <td>50.0</td>\n",
       "      <td>0.0</td>\n",
       "      <td>50.0</td>\n",
       "      <td>1698.000000</td>\n",
       "    </tr>\n",
       "    <tr>\n",
       "      <th>6045</th>\n",
       "      <td>apartment</td>\n",
       "      <td>Buenos Aires Costa Atlántica</td>\n",
       "      <td>BsAs</td>\n",
       "      <td>Mar del Plata</td>\n",
       "      <td>NaN</td>\n",
       "      <td>Mar del plata</td>\n",
       "      <td>0.0</td>\n",
       "      <td>0.0</td>\n",
       "      <td>0.0</td>\n",
       "      <td>0.0</td>\n",
       "      <td>...</td>\n",
       "      <td>1.0</td>\n",
       "      <td>0.0</td>\n",
       "      <td>0.0</td>\n",
       "      <td>NaN</td>\n",
       "      <td>2.0</td>\n",
       "      <td>75900.000000</td>\n",
       "      <td>38.0</td>\n",
       "      <td>2.0</td>\n",
       "      <td>40.0</td>\n",
       "      <td>1897.500000</td>\n",
       "    </tr>\n",
       "    <tr>\n",
       "      <th>296</th>\n",
       "      <td>house</td>\n",
       "      <td>Córdoba</td>\n",
       "      <td>Córdoba</td>\n",
       "      <td>Villa Santa Cruz del Lago</td>\n",
       "      <td>NaN</td>\n",
       "      <td>Villa santa cruz del lago</td>\n",
       "      <td>0.0</td>\n",
       "      <td>0.0</td>\n",
       "      <td>0.0</td>\n",
       "      <td>0.0</td>\n",
       "      <td>...</td>\n",
       "      <td>0.0</td>\n",
       "      <td>0.0</td>\n",
       "      <td>0.0</td>\n",
       "      <td>0.0</td>\n",
       "      <td>2.0</td>\n",
       "      <td>32360.279716</td>\n",
       "      <td>42.0</td>\n",
       "      <td>238.0</td>\n",
       "      <td>280.0</td>\n",
       "      <td>115.572428</td>\n",
       "    </tr>\n",
       "    <tr>\n",
       "      <th>4620</th>\n",
       "      <td>apartment</td>\n",
       "      <td>Córdoba</td>\n",
       "      <td>Córdoba</td>\n",
       "      <td>Córdoba</td>\n",
       "      <td>NaN</td>\n",
       "      <td>Córdoba</td>\n",
       "      <td>0.0</td>\n",
       "      <td>0.0</td>\n",
       "      <td>1.0</td>\n",
       "      <td>0.0</td>\n",
       "      <td>...</td>\n",
       "      <td>1.0</td>\n",
       "      <td>0.0</td>\n",
       "      <td>0.0</td>\n",
       "      <td>NaN</td>\n",
       "      <td>2.0</td>\n",
       "      <td>56083.670000</td>\n",
       "      <td>NaN</td>\n",
       "      <td>NaN</td>\n",
       "      <td>50.0</td>\n",
       "      <td>1121.673400</td>\n",
       "    </tr>\n",
       "    <tr>\n",
       "      <th>2299</th>\n",
       "      <td>apartment</td>\n",
       "      <td>Córdoba</td>\n",
       "      <td>Córdoba</td>\n",
       "      <td>Córdoba</td>\n",
       "      <td>NaN</td>\n",
       "      <td>Córdoba</td>\n",
       "      <td>0.0</td>\n",
       "      <td>0.0</td>\n",
       "      <td>0.0</td>\n",
       "      <td>0.0</td>\n",
       "      <td>...</td>\n",
       "      <td>0.0</td>\n",
       "      <td>0.0</td>\n",
       "      <td>0.0</td>\n",
       "      <td>NaN</td>\n",
       "      <td>2.0</td>\n",
       "      <td>69000.000000</td>\n",
       "      <td>40.0</td>\n",
       "      <td>0.0</td>\n",
       "      <td>40.0</td>\n",
       "      <td>1725.000000</td>\n",
       "    </tr>\n",
       "    <tr>\n",
       "      <th>5081</th>\n",
       "      <td>apartment</td>\n",
       "      <td>Buenos Aires Costa Atlántica</td>\n",
       "      <td>BsAs</td>\n",
       "      <td>San Bernardo</td>\n",
       "      <td>NaN</td>\n",
       "      <td>San bernardo</td>\n",
       "      <td>0.0</td>\n",
       "      <td>0.0</td>\n",
       "      <td>0.0</td>\n",
       "      <td>0.0</td>\n",
       "      <td>...</td>\n",
       "      <td>0.0</td>\n",
       "      <td>0.0</td>\n",
       "      <td>0.0</td>\n",
       "      <td>NaN</td>\n",
       "      <td>2.0</td>\n",
       "      <td>43000.000000</td>\n",
       "      <td>29.0</td>\n",
       "      <td>0.0</td>\n",
       "      <td>29.0</td>\n",
       "      <td>1482.758621</td>\n",
       "    </tr>\n",
       "    <tr>\n",
       "      <th>9805</th>\n",
       "      <td>house</td>\n",
       "      <td>Córdoba</td>\n",
       "      <td>Córdoba</td>\n",
       "      <td>Córdoba</td>\n",
       "      <td>NaN</td>\n",
       "      <td>Córdoba</td>\n",
       "      <td>1.0</td>\n",
       "      <td>0.0</td>\n",
       "      <td>0.0</td>\n",
       "      <td>0.0</td>\n",
       "      <td>...</td>\n",
       "      <td>0.0</td>\n",
       "      <td>1.0</td>\n",
       "      <td>0.0</td>\n",
       "      <td>0.0</td>\n",
       "      <td>2.0</td>\n",
       "      <td>220000.000000</td>\n",
       "      <td>196.0</td>\n",
       "      <td>134.0</td>\n",
       "      <td>330.0</td>\n",
       "      <td>666.666667</td>\n",
       "    </tr>\n",
       "    <tr>\n",
       "      <th>198</th>\n",
       "      <td>apartment</td>\n",
       "      <td>Córdoba</td>\n",
       "      <td>Córdoba</td>\n",
       "      <td>Córdoba</td>\n",
       "      <td>NaN</td>\n",
       "      <td>Córdoba</td>\n",
       "      <td>0.0</td>\n",
       "      <td>0.0</td>\n",
       "      <td>0.0</td>\n",
       "      <td>0.0</td>\n",
       "      <td>...</td>\n",
       "      <td>1.0</td>\n",
       "      <td>0.0</td>\n",
       "      <td>1.0</td>\n",
       "      <td>NaN</td>\n",
       "      <td>1.0</td>\n",
       "      <td>39000.000000</td>\n",
       "      <td>40.0</td>\n",
       "      <td>0.0</td>\n",
       "      <td>40.0</td>\n",
       "      <td>975.000000</td>\n",
       "    </tr>\n",
       "    <tr>\n",
       "      <th>3866</th>\n",
       "      <td>apartment</td>\n",
       "      <td>Buenos Aires Costa Atlántica</td>\n",
       "      <td>BsAs</td>\n",
       "      <td>Mar del Plata</td>\n",
       "      <td>NaN</td>\n",
       "      <td>Mar del plata</td>\n",
       "      <td>0.0</td>\n",
       "      <td>0.0</td>\n",
       "      <td>0.0</td>\n",
       "      <td>0.0</td>\n",
       "      <td>...</td>\n",
       "      <td>0.0</td>\n",
       "      <td>0.0</td>\n",
       "      <td>0.0</td>\n",
       "      <td>NaN</td>\n",
       "      <td>1.0</td>\n",
       "      <td>59800.000000</td>\n",
       "      <td>28.0</td>\n",
       "      <td>0.0</td>\n",
       "      <td>28.0</td>\n",
       "      <td>2135.714286</td>\n",
       "    </tr>\n",
       "    <tr>\n",
       "      <th>5942</th>\n",
       "      <td>apartment</td>\n",
       "      <td>Buenos Aires Costa Atlántica</td>\n",
       "      <td>BsAs</td>\n",
       "      <td>Mar del Plata</td>\n",
       "      <td>NaN</td>\n",
       "      <td>Mar del plata</td>\n",
       "      <td>0.0</td>\n",
       "      <td>0.0</td>\n",
       "      <td>0.0</td>\n",
       "      <td>0.0</td>\n",
       "      <td>...</td>\n",
       "      <td>0.0</td>\n",
       "      <td>0.0</td>\n",
       "      <td>0.0</td>\n",
       "      <td>NaN</td>\n",
       "      <td>3.0</td>\n",
       "      <td>82000.000000</td>\n",
       "      <td>NaN</td>\n",
       "      <td>NaN</td>\n",
       "      <td>60.0</td>\n",
       "      <td>1366.666667</td>\n",
       "    </tr>\n",
       "  </tbody>\n",
       "</table>\n",
       "<p>10 rows × 21 columns</p>\n",
       "</div>"
      ],
      "text/plain": [
       "     tipo_propiedad                     Provincia     Zona  \\\n",
       "3261      apartment  Buenos Aires Costa Atlántica     BsAs   \n",
       "6045      apartment  Buenos Aires Costa Atlántica     BsAs   \n",
       "296           house                       Córdoba  Córdoba   \n",
       "4620      apartment                       Córdoba  Córdoba   \n",
       "2299      apartment                       Córdoba  Córdoba   \n",
       "5081      apartment  Buenos Aires Costa Atlántica     BsAs   \n",
       "9805          house                       Córdoba  Córdoba   \n",
       "198       apartment                       Córdoba  Córdoba   \n",
       "3866      apartment  Buenos Aires Costa Atlántica     BsAs   \n",
       "5942      apartment  Buenos Aires Costa Atlántica     BsAs   \n",
       "\n",
       "                      Localidad Barrio                 place_name  cochera  \\\n",
       "3261              Mar del Plata    NaN              Mar del plata      0.0   \n",
       "6045              Mar del Plata    NaN              Mar del plata      0.0   \n",
       "296   Villa Santa Cruz del Lago    NaN  Villa santa cruz del lago      0.0   \n",
       "4620                    Córdoba    NaN                    Córdoba      0.0   \n",
       "2299                    Córdoba    NaN                    Córdoba      0.0   \n",
       "5081               San Bernardo    NaN               San bernardo      0.0   \n",
       "9805                    Córdoba    NaN                    Córdoba      1.0   \n",
       "198                     Córdoba    NaN                    Córdoba      0.0   \n",
       "3866              Mar del Plata    NaN              Mar del plata      0.0   \n",
       "5942              Mar del Plata    NaN              Mar del plata      0.0   \n",
       "\n",
       "      gimnasio  piscina  SUM        ...         balcon  patio  parrilla  \\\n",
       "3261       0.0      0.0  0.0        ...            0.0    1.0       0.0   \n",
       "6045       0.0      0.0  0.0        ...            1.0    0.0       0.0   \n",
       "296        0.0      0.0  0.0        ...            0.0    0.0       0.0   \n",
       "4620       0.0      1.0  0.0        ...            1.0    0.0       0.0   \n",
       "2299       0.0      0.0  0.0        ...            0.0    0.0       0.0   \n",
       "5081       0.0      0.0  0.0        ...            0.0    0.0       0.0   \n",
       "9805       0.0      0.0  0.0        ...            0.0    1.0       0.0   \n",
       "198        0.0      0.0  0.0        ...            1.0    0.0       1.0   \n",
       "3866       0.0      0.0  0.0        ...            0.0    0.0       0.0   \n",
       "5942       0.0      0.0  0.0        ...            0.0    0.0       0.0   \n",
       "\n",
       "      floor  rooms      price_usd  sup_cub  sup_descub  sup_total  \\\n",
       "3261    NaN    3.0   84900.000000     50.0         0.0       50.0   \n",
       "6045    NaN    2.0   75900.000000     38.0         2.0       40.0   \n",
       "296     0.0    2.0   32360.279716     42.0       238.0      280.0   \n",
       "4620    NaN    2.0   56083.670000      NaN         NaN       50.0   \n",
       "2299    NaN    2.0   69000.000000     40.0         0.0       40.0   \n",
       "5081    NaN    2.0   43000.000000     29.0         0.0       29.0   \n",
       "9805    0.0    2.0  220000.000000    196.0       134.0      330.0   \n",
       "198     NaN    1.0   39000.000000     40.0         0.0       40.0   \n",
       "3866    NaN    1.0   59800.000000     28.0         0.0       28.0   \n",
       "5942    NaN    3.0   82000.000000      NaN         NaN       60.0   \n",
       "\n",
       "      price_usd_per_m2  \n",
       "3261       1698.000000  \n",
       "6045       1897.500000  \n",
       "296         115.572428  \n",
       "4620       1121.673400  \n",
       "2299       1725.000000  \n",
       "5081       1482.758621  \n",
       "9805        666.666667  \n",
       "198         975.000000  \n",
       "3866       2135.714286  \n",
       "5942       1366.666667  \n",
       "\n",
       "[10 rows x 21 columns]"
      ]
     },
     "execution_count": 3,
     "metadata": {},
     "output_type": "execute_result"
    }
   ],
   "source": [
    "data.sample(10)"
   ]
  },
  {
   "cell_type": "markdown",
   "metadata": {},
   "source": [
    "## Análisis de los Datos"
   ]
  },
  {
   "cell_type": "code",
   "execution_count": 4,
   "metadata": {},
   "outputs": [
    {
     "name": "stdout",
     "output_type": "stream",
     "text": [
      "<class 'pandas.core.frame.DataFrame'>\n",
      "Int64Index: 10291 entries, 0 to 10290\n",
      "Data columns (total 21 columns):\n",
      "tipo_propiedad      10291 non-null object\n",
      "Provincia           10291 non-null object\n",
      "Zona                10291 non-null object\n",
      "Localidad           9489 non-null object\n",
      "Barrio              517 non-null object\n",
      "place_name          10291 non-null object\n",
      "cochera             10291 non-null float64\n",
      "gimnasio            10291 non-null float64\n",
      "piscina             10291 non-null float64\n",
      "SUM                 10291 non-null float64\n",
      "laundry             10291 non-null float64\n",
      "balcon              10291 non-null float64\n",
      "patio               10291 non-null float64\n",
      "parrilla            10291 non-null float64\n",
      "floor               4572 non-null float64\n",
      "rooms               10291 non-null float64\n",
      "price_usd           10291 non-null float64\n",
      "sup_cub             8434 non-null float64\n",
      "sup_descub          7790 non-null float64\n",
      "sup_total           9647 non-null float64\n",
      "price_usd_per_m2    10291 non-null float64\n",
      "dtypes: float64(15), object(6)\n",
      "memory usage: 1.7+ MB\n"
     ]
    }
   ],
   "source": [
    "data.info()"
   ]
  },
  {
   "cell_type": "markdown",
   "metadata": {},
   "source": [
    "Verificaciones de superficies:"
   ]
  },
  {
   "cell_type": "code",
   "execution_count": 5,
   "metadata": {},
   "outputs": [
    {
     "data": {
      "text/plain": [
       "Series([], Name: Localidad, dtype: int64)"
      ]
     },
     "execution_count": 5,
     "metadata": {},
     "output_type": "execute_result"
    }
   ],
   "source": [
    "data.loc[data[\"sup_cub\"]>data[\"sup_total\"], \"Localidad\"].value_counts()"
   ]
  },
  {
   "cell_type": "code",
   "execution_count": 6,
   "metadata": {},
   "outputs": [
    {
     "data": {
      "text/plain": [
       "Series([], Name: Localidad, dtype: int64)"
      ]
     },
     "execution_count": 6,
     "metadata": {},
     "output_type": "execute_result"
    }
   ],
   "source": [
    "data.loc[data[\"sup_total\"]==0, \"Localidad\"].value_counts()"
   ]
  },
  {
   "cell_type": "code",
   "execution_count": 7,
   "metadata": {},
   "outputs": [
    {
     "data": {
      "text/plain": [
       "Series([], Name: Localidad, dtype: int64)"
      ]
     },
     "execution_count": 7,
     "metadata": {},
     "output_type": "execute_result"
    }
   ],
   "source": [
    "data.loc[data[\"sup_cub\"]==0, \"Localidad\"].value_counts()"
   ]
  },
  {
   "cell_type": "code",
   "execution_count": 8,
   "metadata": {},
   "outputs": [
    {
     "name": "stdout",
     "output_type": "stream",
     "text": [
      "Se va a dropear 0 por error en superficies.\n"
     ]
    }
   ],
   "source": [
    "sup_invertidas_drop = data.loc[(data['sup_cub'])>(data['sup_total'])].index\n",
    "print(\"Se va a dropear {} por error en superficies.\".format(sup_invertidas_drop.size))"
   ]
  },
  {
   "cell_type": "code",
   "execution_count": 9,
   "metadata": {},
   "outputs": [
    {
     "data": {
      "text/html": [
       "<div>\n",
       "<style scoped>\n",
       "    .dataframe tbody tr th:only-of-type {\n",
       "        vertical-align: middle;\n",
       "    }\n",
       "\n",
       "    .dataframe tbody tr th {\n",
       "        vertical-align: top;\n",
       "    }\n",
       "\n",
       "    .dataframe thead th {\n",
       "        text-align: right;\n",
       "    }\n",
       "</style>\n",
       "<table border=\"1\" class=\"dataframe\">\n",
       "  <thead>\n",
       "    <tr style=\"text-align: right;\">\n",
       "      <th></th>\n",
       "      <th>tipo_propiedad</th>\n",
       "      <th>Provincia</th>\n",
       "      <th>Zona</th>\n",
       "      <th>Localidad</th>\n",
       "      <th>Barrio</th>\n",
       "      <th>place_name</th>\n",
       "      <th>cochera</th>\n",
       "      <th>gimnasio</th>\n",
       "      <th>piscina</th>\n",
       "      <th>SUM</th>\n",
       "      <th>...</th>\n",
       "      <th>balcon</th>\n",
       "      <th>patio</th>\n",
       "      <th>parrilla</th>\n",
       "      <th>floor</th>\n",
       "      <th>rooms</th>\n",
       "      <th>price_usd</th>\n",
       "      <th>sup_cub</th>\n",
       "      <th>sup_descub</th>\n",
       "      <th>sup_total</th>\n",
       "      <th>price_usd_per_m2</th>\n",
       "    </tr>\n",
       "  </thead>\n",
       "  <tbody>\n",
       "  </tbody>\n",
       "</table>\n",
       "<p>0 rows × 21 columns</p>\n",
       "</div>"
      ],
      "text/plain": [
       "Empty DataFrame\n",
       "Columns: [tipo_propiedad, Provincia, Zona, Localidad, Barrio, place_name, cochera, gimnasio, piscina, SUM, laundry, balcon, patio, parrilla, floor, rooms, price_usd, sup_cub, sup_descub, sup_total, price_usd_per_m2]\n",
       "Index: []\n",
       "\n",
       "[0 rows x 21 columns]"
      ]
     },
     "execution_count": 9,
     "metadata": {},
     "output_type": "execute_result"
    }
   ],
   "source": [
    "data.loc[(data['sup_cub'].isna())&(data[\"sup_total\"].isna())]"
   ]
  },
  {
   "cell_type": "code",
   "execution_count": 10,
   "metadata": {
    "scrolled": false
   },
   "outputs": [
    {
     "data": {
      "text/html": [
       "<div>\n",
       "<style scoped>\n",
       "    .dataframe tbody tr th:only-of-type {\n",
       "        vertical-align: middle;\n",
       "    }\n",
       "\n",
       "    .dataframe tbody tr th {\n",
       "        vertical-align: top;\n",
       "    }\n",
       "\n",
       "    .dataframe thead th {\n",
       "        text-align: right;\n",
       "    }\n",
       "</style>\n",
       "<table border=\"1\" class=\"dataframe\">\n",
       "  <thead>\n",
       "    <tr style=\"text-align: right;\">\n",
       "      <th></th>\n",
       "      <th>tipo_propiedad</th>\n",
       "      <th>Provincia</th>\n",
       "      <th>Zona</th>\n",
       "      <th>Localidad</th>\n",
       "      <th>Barrio</th>\n",
       "      <th>place_name</th>\n",
       "      <th>cochera</th>\n",
       "      <th>gimnasio</th>\n",
       "      <th>piscina</th>\n",
       "      <th>SUM</th>\n",
       "      <th>...</th>\n",
       "      <th>balcon</th>\n",
       "      <th>patio</th>\n",
       "      <th>parrilla</th>\n",
       "      <th>floor</th>\n",
       "      <th>rooms</th>\n",
       "      <th>price_usd</th>\n",
       "      <th>sup_cub</th>\n",
       "      <th>sup_descub</th>\n",
       "      <th>sup_total</th>\n",
       "      <th>price_usd_per_m2</th>\n",
       "    </tr>\n",
       "  </thead>\n",
       "  <tbody>\n",
       "  </tbody>\n",
       "</table>\n",
       "<p>0 rows × 21 columns</p>\n",
       "</div>"
      ],
      "text/plain": [
       "Empty DataFrame\n",
       "Columns: [tipo_propiedad, Provincia, Zona, Localidad, Barrio, place_name, cochera, gimnasio, piscina, SUM, laundry, balcon, patio, parrilla, floor, rooms, price_usd, sup_cub, sup_descub, sup_total, price_usd_per_m2]\n",
       "Index: []\n",
       "\n",
       "[0 rows x 21 columns]"
      ]
     },
     "execution_count": 10,
     "metadata": {},
     "output_type": "execute_result"
    }
   ],
   "source": [
    "data.loc[(data['sup_cub'].isna())&(data[\"sup_total\"].isna())&(data[\"sup_descub\"].isna())]"
   ]
  },
  {
   "cell_type": "markdown",
   "metadata": {},
   "source": [
    "Al parecer no tenemos superdicies cubiertas nulas, ni superficies totales nulas. Tampoco hay casos donde la superficie cubierta sea mayor a la total. Continuamos:"
   ]
  },
  {
   "cell_type": "code",
   "execution_count": 11,
   "metadata": {},
   "outputs": [
    {
     "data": {
      "text/plain": [
       "Index(['tipo_propiedad', 'Provincia', 'Zona', 'Localidad', 'Barrio',\n",
       "       'place_name', 'cochera', 'gimnasio', 'piscina', 'SUM', 'laundry',\n",
       "       'balcon', 'patio', 'parrilla', 'floor', 'rooms', 'price_usd', 'sup_cub',\n",
       "       'sup_descub', 'sup_total', 'price_usd_per_m2'],\n",
       "      dtype='object')"
      ]
     },
     "execution_count": 11,
     "metadata": {},
     "output_type": "execute_result"
    }
   ],
   "source": [
    "data.columns"
   ]
  },
  {
   "cell_type": "code",
   "execution_count": 12,
   "metadata": {},
   "outputs": [
    {
     "data": {
      "text/plain": [
       "(10291, 21)"
      ]
     },
     "execution_count": 12,
     "metadata": {},
     "output_type": "execute_result"
    }
   ],
   "source": [
    "data.shape"
   ]
  },
  {
   "cell_type": "code",
   "execution_count": 13,
   "metadata": {},
   "outputs": [
    {
     "data": {
      "text/plain": [
       "tipo_propiedad         0\n",
       "Provincia              0\n",
       "Zona                   0\n",
       "Localidad            802\n",
       "Barrio              9774\n",
       "place_name             0\n",
       "cochera                0\n",
       "gimnasio               0\n",
       "piscina                0\n",
       "SUM                    0\n",
       "laundry                0\n",
       "balcon                 0\n",
       "patio                  0\n",
       "parrilla               0\n",
       "floor               5719\n",
       "rooms                  0\n",
       "price_usd              0\n",
       "sup_cub             1857\n",
       "sup_descub          2501\n",
       "sup_total            644\n",
       "price_usd_per_m2       0\n",
       "dtype: int64"
      ]
     },
     "execution_count": 13,
     "metadata": {},
     "output_type": "execute_result"
    }
   ],
   "source": [
    "data.isna().sum()"
   ]
  },
  {
   "cell_type": "code",
   "execution_count": 14,
   "metadata": {},
   "outputs": [
    {
     "data": {
      "text/html": [
       "<div>\n",
       "<style scoped>\n",
       "    .dataframe tbody tr th:only-of-type {\n",
       "        vertical-align: middle;\n",
       "    }\n",
       "\n",
       "    .dataframe tbody tr th {\n",
       "        vertical-align: top;\n",
       "    }\n",
       "\n",
       "    .dataframe thead th {\n",
       "        text-align: right;\n",
       "    }\n",
       "</style>\n",
       "<table border=\"1\" class=\"dataframe\">\n",
       "  <thead>\n",
       "    <tr style=\"text-align: right;\">\n",
       "      <th></th>\n",
       "      <th>Provincia</th>\n",
       "    </tr>\n",
       "  </thead>\n",
       "  <tbody>\n",
       "    <tr>\n",
       "      <th>8105</th>\n",
       "      <td>Buenos Aires Costa Atlántica</td>\n",
       "    </tr>\n",
       "    <tr>\n",
       "      <th>9039</th>\n",
       "      <td>Buenos Aires Costa Atlántica</td>\n",
       "    </tr>\n",
       "    <tr>\n",
       "      <th>2602</th>\n",
       "      <td>Buenos Aires Interior</td>\n",
       "    </tr>\n",
       "    <tr>\n",
       "      <th>2322</th>\n",
       "      <td>Buenos Aires Interior</td>\n",
       "    </tr>\n",
       "    <tr>\n",
       "      <th>3231</th>\n",
       "      <td>Buenos Aires Interior</td>\n",
       "    </tr>\n",
       "    <tr>\n",
       "      <th>623</th>\n",
       "      <td>Buenos Aires Interior</td>\n",
       "    </tr>\n",
       "    <tr>\n",
       "      <th>3429</th>\n",
       "      <td>Buenos Aires Interior</td>\n",
       "    </tr>\n",
       "    <tr>\n",
       "      <th>3396</th>\n",
       "      <td>Buenos Aires Costa Atlántica</td>\n",
       "    </tr>\n",
       "    <tr>\n",
       "      <th>4981</th>\n",
       "      <td>Buenos Aires Costa Atlántica</td>\n",
       "    </tr>\n",
       "    <tr>\n",
       "      <th>2561</th>\n",
       "      <td>Buenos Aires Interior</td>\n",
       "    </tr>\n",
       "  </tbody>\n",
       "</table>\n",
       "</div>"
      ],
      "text/plain": [
       "                         Provincia\n",
       "8105  Buenos Aires Costa Atlántica\n",
       "9039  Buenos Aires Costa Atlántica\n",
       "2602         Buenos Aires Interior\n",
       "2322         Buenos Aires Interior\n",
       "3231         Buenos Aires Interior\n",
       "623          Buenos Aires Interior\n",
       "3429         Buenos Aires Interior\n",
       "3396  Buenos Aires Costa Atlántica\n",
       "4981  Buenos Aires Costa Atlántica\n",
       "2561         Buenos Aires Interior"
      ]
     },
     "execution_count": 14,
     "metadata": {},
     "output_type": "execute_result"
    }
   ],
   "source": [
    "data.loc[data['Barrio'].notnull(),['Provincia']].sample(10)"
   ]
  },
  {
   "cell_type": "code",
   "execution_count": 15,
   "metadata": {},
   "outputs": [
    {
     "data": {
      "text/plain": [
       "BsAs        5093\n",
       "Córdoba     2605\n",
       "Santa Fe    2593\n",
       "Name: Zona, dtype: int64"
      ]
     },
     "execution_count": 15,
     "metadata": {},
     "output_type": "execute_result"
    }
   ],
   "source": [
    "data['Zona'].value_counts(sort=True)"
   ]
  },
  {
   "cell_type": "code",
   "execution_count": 16,
   "metadata": {},
   "outputs": [
    {
     "data": {
      "text/plain": [
       "Buenos Aires Costa Atlántica    4450\n",
       "Córdoba                         2605\n",
       "Santa Fe                        2593\n",
       "Buenos Aires Interior            643\n",
       "Name: Provincia, dtype: int64"
      ]
     },
     "execution_count": 16,
     "metadata": {},
     "output_type": "execute_result"
    }
   ],
   "source": [
    "data['Provincia'].value_counts(sort=True)"
   ]
  },
  {
   "cell_type": "markdown",
   "metadata": {},
   "source": [
    "Los barrios no nulos corresponden solo a la provincia Buenos Aires."
   ]
  },
  {
   "cell_type": "markdown",
   "metadata": {},
   "source": [
    "Dado a que son tres provincias distintas, considero conveniente trabajar por Localidad(ciudad).\n",
    "Nota: hay 802 valores faltantes. veo si puedo recuperarlos:"
   ]
  },
  {
   "cell_type": "code",
   "execution_count": 17,
   "metadata": {},
   "outputs": [
    {
     "data": {
      "text/html": [
       "<div>\n",
       "<style scoped>\n",
       "    .dataframe tbody tr th:only-of-type {\n",
       "        vertical-align: middle;\n",
       "    }\n",
       "\n",
       "    .dataframe tbody tr th {\n",
       "        vertical-align: top;\n",
       "    }\n",
       "\n",
       "    .dataframe thead th {\n",
       "        text-align: right;\n",
       "    }\n",
       "</style>\n",
       "<table border=\"1\" class=\"dataframe\">\n",
       "  <thead>\n",
       "    <tr style=\"text-align: right;\">\n",
       "      <th></th>\n",
       "      <th>tipo_propiedad</th>\n",
       "      <th>Provincia</th>\n",
       "      <th>Zona</th>\n",
       "      <th>Localidad</th>\n",
       "      <th>Barrio</th>\n",
       "      <th>place_name</th>\n",
       "      <th>cochera</th>\n",
       "      <th>gimnasio</th>\n",
       "      <th>piscina</th>\n",
       "      <th>SUM</th>\n",
       "      <th>...</th>\n",
       "      <th>balcon</th>\n",
       "      <th>patio</th>\n",
       "      <th>parrilla</th>\n",
       "      <th>floor</th>\n",
       "      <th>rooms</th>\n",
       "      <th>price_usd</th>\n",
       "      <th>sup_cub</th>\n",
       "      <th>sup_descub</th>\n",
       "      <th>sup_total</th>\n",
       "      <th>price_usd_per_m2</th>\n",
       "    </tr>\n",
       "  </thead>\n",
       "  <tbody>\n",
       "  </tbody>\n",
       "</table>\n",
       "<p>0 rows × 21 columns</p>\n",
       "</div>"
      ],
      "text/plain": [
       "Empty DataFrame\n",
       "Columns: [tipo_propiedad, Provincia, Zona, Localidad, Barrio, place_name, cochera, gimnasio, piscina, SUM, laundry, balcon, patio, parrilla, floor, rooms, price_usd, sup_cub, sup_descub, sup_total, price_usd_per_m2]\n",
       "Index: []\n",
       "\n",
       "[0 rows x 21 columns]"
      ]
     },
     "execution_count": 17,
     "metadata": {},
     "output_type": "execute_result"
    }
   ],
   "source": [
    "data.loc[(data['Localidad'].isna())&(data[\"Barrio\"].notnull())]"
   ]
  },
  {
   "cell_type": "code",
   "execution_count": 18,
   "metadata": {},
   "outputs": [],
   "source": [
    "data.drop(columns=['Barrio'],inplace=True)"
   ]
  },
  {
   "cell_type": "code",
   "execution_count": 19,
   "metadata": {},
   "outputs": [
    {
     "data": {
      "text/html": [
       "<div>\n",
       "<style scoped>\n",
       "    .dataframe tbody tr th:only-of-type {\n",
       "        vertical-align: middle;\n",
       "    }\n",
       "\n",
       "    .dataframe tbody tr th {\n",
       "        vertical-align: top;\n",
       "    }\n",
       "\n",
       "    .dataframe thead th {\n",
       "        text-align: right;\n",
       "    }\n",
       "</style>\n",
       "<table border=\"1\" class=\"dataframe\">\n",
       "  <thead>\n",
       "    <tr style=\"text-align: right;\">\n",
       "      <th></th>\n",
       "      <th>tipo_propiedad</th>\n",
       "      <th>Provincia</th>\n",
       "      <th>Zona</th>\n",
       "      <th>Localidad</th>\n",
       "      <th>place_name</th>\n",
       "      <th>cochera</th>\n",
       "      <th>gimnasio</th>\n",
       "      <th>piscina</th>\n",
       "      <th>SUM</th>\n",
       "      <th>laundry</th>\n",
       "      <th>balcon</th>\n",
       "      <th>patio</th>\n",
       "      <th>parrilla</th>\n",
       "      <th>floor</th>\n",
       "      <th>rooms</th>\n",
       "      <th>price_usd</th>\n",
       "      <th>sup_cub</th>\n",
       "      <th>sup_descub</th>\n",
       "      <th>sup_total</th>\n",
       "      <th>price_usd_per_m2</th>\n",
       "    </tr>\n",
       "  </thead>\n",
       "  <tbody>\n",
       "    <tr>\n",
       "      <th>0</th>\n",
       "      <td>apartment</td>\n",
       "      <td>Buenos Aires Costa Atlántica</td>\n",
       "      <td>BsAs</td>\n",
       "      <td>Mar del Plata</td>\n",
       "      <td>Centro</td>\n",
       "      <td>0.0</td>\n",
       "      <td>0.0</td>\n",
       "      <td>0.0</td>\n",
       "      <td>0.0</td>\n",
       "      <td>0.0</td>\n",
       "      <td>0.0</td>\n",
       "      <td>0.0</td>\n",
       "      <td>0.0</td>\n",
       "      <td>NaN</td>\n",
       "      <td>2.0</td>\n",
       "      <td>64000.00</td>\n",
       "      <td>35.0</td>\n",
       "      <td>0.0</td>\n",
       "      <td>35.0</td>\n",
       "      <td>1828.571429</td>\n",
       "    </tr>\n",
       "    <tr>\n",
       "      <th>1</th>\n",
       "      <td>apartment</td>\n",
       "      <td>Córdoba</td>\n",
       "      <td>Córdoba</td>\n",
       "      <td>Córdoba</td>\n",
       "      <td>Córdoba</td>\n",
       "      <td>0.0</td>\n",
       "      <td>0.0</td>\n",
       "      <td>0.0</td>\n",
       "      <td>0.0</td>\n",
       "      <td>0.0</td>\n",
       "      <td>1.0</td>\n",
       "      <td>0.0</td>\n",
       "      <td>0.0</td>\n",
       "      <td>NaN</td>\n",
       "      <td>3.0</td>\n",
       "      <td>30846.02</td>\n",
       "      <td>50.0</td>\n",
       "      <td>0.0</td>\n",
       "      <td>50.0</td>\n",
       "      <td>616.920400</td>\n",
       "    </tr>\n",
       "    <tr>\n",
       "      <th>2</th>\n",
       "      <td>house</td>\n",
       "      <td>Córdoba</td>\n",
       "      <td>Córdoba</td>\n",
       "      <td>Malagueño</td>\n",
       "      <td>Malagueño</td>\n",
       "      <td>0.0</td>\n",
       "      <td>0.0</td>\n",
       "      <td>0.0</td>\n",
       "      <td>0.0</td>\n",
       "      <td>0.0</td>\n",
       "      <td>0.0</td>\n",
       "      <td>0.0</td>\n",
       "      <td>0.0</td>\n",
       "      <td>0.0</td>\n",
       "      <td>2.0</td>\n",
       "      <td>70104.59</td>\n",
       "      <td>75.0</td>\n",
       "      <td>0.0</td>\n",
       "      <td>75.0</td>\n",
       "      <td>934.727867</td>\n",
       "    </tr>\n",
       "    <tr>\n",
       "      <th>3</th>\n",
       "      <td>house</td>\n",
       "      <td>Santa Fe</td>\n",
       "      <td>Santa Fe</td>\n",
       "      <td>Rosario</td>\n",
       "      <td>Rosario</td>\n",
       "      <td>1.0</td>\n",
       "      <td>0.0</td>\n",
       "      <td>0.0</td>\n",
       "      <td>0.0</td>\n",
       "      <td>0.0</td>\n",
       "      <td>1.0</td>\n",
       "      <td>1.0</td>\n",
       "      <td>1.0</td>\n",
       "      <td>0.0</td>\n",
       "      <td>3.0</td>\n",
       "      <td>300000.00</td>\n",
       "      <td>260.0</td>\n",
       "      <td>NaN</td>\n",
       "      <td>NaN</td>\n",
       "      <td>276.497696</td>\n",
       "    </tr>\n",
       "    <tr>\n",
       "      <th>4</th>\n",
       "      <td>house</td>\n",
       "      <td>Buenos Aires Costa Atlántica</td>\n",
       "      <td>BsAs</td>\n",
       "      <td>Mar del Plata</td>\n",
       "      <td>Mar del plata</td>\n",
       "      <td>1.0</td>\n",
       "      <td>0.0</td>\n",
       "      <td>0.0</td>\n",
       "      <td>0.0</td>\n",
       "      <td>1.0</td>\n",
       "      <td>0.0</td>\n",
       "      <td>1.0</td>\n",
       "      <td>0.0</td>\n",
       "      <td>0.0</td>\n",
       "      <td>6.0</td>\n",
       "      <td>350000.00</td>\n",
       "      <td>207.0</td>\n",
       "      <td>125.0</td>\n",
       "      <td>332.0</td>\n",
       "      <td>1054.216867</td>\n",
       "    </tr>\n",
       "  </tbody>\n",
       "</table>\n",
       "</div>"
      ],
      "text/plain": [
       "  tipo_propiedad                     Provincia      Zona      Localidad  \\\n",
       "0      apartment  Buenos Aires Costa Atlántica      BsAs  Mar del Plata   \n",
       "1      apartment                       Córdoba   Córdoba        Córdoba   \n",
       "2          house                       Córdoba   Córdoba      Malagueño   \n",
       "3          house                      Santa Fe  Santa Fe        Rosario   \n",
       "4          house  Buenos Aires Costa Atlántica      BsAs  Mar del Plata   \n",
       "\n",
       "      place_name  cochera  gimnasio  piscina  SUM  laundry  balcon  patio  \\\n",
       "0         Centro      0.0       0.0      0.0  0.0      0.0     0.0    0.0   \n",
       "1        Córdoba      0.0       0.0      0.0  0.0      0.0     1.0    0.0   \n",
       "2      Malagueño      0.0       0.0      0.0  0.0      0.0     0.0    0.0   \n",
       "3        Rosario      1.0       0.0      0.0  0.0      0.0     1.0    1.0   \n",
       "4  Mar del plata      1.0       0.0      0.0  0.0      1.0     0.0    1.0   \n",
       "\n",
       "   parrilla  floor  rooms  price_usd  sup_cub  sup_descub  sup_total  \\\n",
       "0       0.0    NaN    2.0   64000.00     35.0         0.0       35.0   \n",
       "1       0.0    NaN    3.0   30846.02     50.0         0.0       50.0   \n",
       "2       0.0    0.0    2.0   70104.59     75.0         0.0       75.0   \n",
       "3       1.0    0.0    3.0  300000.00    260.0         NaN        NaN   \n",
       "4       0.0    0.0    6.0  350000.00    207.0       125.0      332.0   \n",
       "\n",
       "   price_usd_per_m2  \n",
       "0       1828.571429  \n",
       "1        616.920400  \n",
       "2        934.727867  \n",
       "3        276.497696  \n",
       "4       1054.216867  "
      ]
     },
     "execution_count": 19,
     "metadata": {},
     "output_type": "execute_result"
    }
   ],
   "source": [
    "localidad_drop = data.loc[data['Localidad'].isna()].index\n",
    "data.drop(index=localidad_drop,inplace=True)\n",
    "data.head()"
   ]
  },
  {
   "cell_type": "code",
   "execution_count": 20,
   "metadata": {},
   "outputs": [
    {
     "data": {
      "text/plain": [
       "tipo_propiedad         0\n",
       "Provincia              0\n",
       "Zona                   0\n",
       "Localidad              0\n",
       "place_name             0\n",
       "cochera                0\n",
       "gimnasio               0\n",
       "piscina                0\n",
       "SUM                    0\n",
       "laundry                0\n",
       "balcon                 0\n",
       "patio                  0\n",
       "parrilla               0\n",
       "floor               5129\n",
       "rooms                  0\n",
       "price_usd              0\n",
       "sup_cub             1697\n",
       "sup_descub          2301\n",
       "sup_total            604\n",
       "price_usd_per_m2       0\n",
       "dtype: int64"
      ]
     },
     "execution_count": 20,
     "metadata": {},
     "output_type": "execute_result"
    }
   ],
   "source": [
    "data.isna().sum()"
   ]
  },
  {
   "cell_type": "markdown",
   "metadata": {},
   "source": [
    "### Creacion de variables categoricas"
   ]
  },
  {
   "cell_type": "code",
   "execution_count": 21,
   "metadata": {},
   "outputs": [
    {
     "data": {
      "text/html": [
       "<div>\n",
       "<style scoped>\n",
       "    .dataframe tbody tr th:only-of-type {\n",
       "        vertical-align: middle;\n",
       "    }\n",
       "\n",
       "    .dataframe tbody tr th {\n",
       "        vertical-align: top;\n",
       "    }\n",
       "\n",
       "    .dataframe thead th {\n",
       "        text-align: right;\n",
       "    }\n",
       "</style>\n",
       "<table border=\"1\" class=\"dataframe\">\n",
       "  <thead>\n",
       "    <tr style=\"text-align: right;\">\n",
       "      <th></th>\n",
       "      <th>tipo_propiedad</th>\n",
       "      <th>Provincia</th>\n",
       "      <th>Zona</th>\n",
       "      <th>Localidad</th>\n",
       "      <th>place_name</th>\n",
       "      <th>cochera</th>\n",
       "      <th>gimnasio</th>\n",
       "      <th>piscina</th>\n",
       "      <th>SUM</th>\n",
       "      <th>laundry</th>\n",
       "      <th>...</th>\n",
       "      <th>sup_cub</th>\n",
       "      <th>sup_descub</th>\n",
       "      <th>sup_total</th>\n",
       "      <th>price_usd_per_m2</th>\n",
       "      <th>tipo_propiedad_apartment</th>\n",
       "      <th>tipo_propiedad_house</th>\n",
       "      <th>tipo_propiedad_store</th>\n",
       "      <th>Provincia_Buenos Aires Interior</th>\n",
       "      <th>Provincia_Córdoba</th>\n",
       "      <th>Provincia_Santa Fe</th>\n",
       "    </tr>\n",
       "  </thead>\n",
       "  <tbody>\n",
       "    <tr>\n",
       "      <th>0</th>\n",
       "      <td>apartment</td>\n",
       "      <td>Buenos Aires Costa Atlántica</td>\n",
       "      <td>BsAs</td>\n",
       "      <td>Mar del Plata</td>\n",
       "      <td>Centro</td>\n",
       "      <td>0.0</td>\n",
       "      <td>0.0</td>\n",
       "      <td>0.0</td>\n",
       "      <td>0.0</td>\n",
       "      <td>0.0</td>\n",
       "      <td>...</td>\n",
       "      <td>35.0</td>\n",
       "      <td>0.0</td>\n",
       "      <td>35.0</td>\n",
       "      <td>1828.571429</td>\n",
       "      <td>1.0</td>\n",
       "      <td>0.0</td>\n",
       "      <td>0.0</td>\n",
       "      <td>0.0</td>\n",
       "      <td>0.0</td>\n",
       "      <td>0.0</td>\n",
       "    </tr>\n",
       "    <tr>\n",
       "      <th>1</th>\n",
       "      <td>apartment</td>\n",
       "      <td>Córdoba</td>\n",
       "      <td>Córdoba</td>\n",
       "      <td>Córdoba</td>\n",
       "      <td>Córdoba</td>\n",
       "      <td>0.0</td>\n",
       "      <td>0.0</td>\n",
       "      <td>0.0</td>\n",
       "      <td>0.0</td>\n",
       "      <td>0.0</td>\n",
       "      <td>...</td>\n",
       "      <td>50.0</td>\n",
       "      <td>0.0</td>\n",
       "      <td>50.0</td>\n",
       "      <td>616.920400</td>\n",
       "      <td>1.0</td>\n",
       "      <td>0.0</td>\n",
       "      <td>0.0</td>\n",
       "      <td>0.0</td>\n",
       "      <td>1.0</td>\n",
       "      <td>0.0</td>\n",
       "    </tr>\n",
       "    <tr>\n",
       "      <th>2</th>\n",
       "      <td>house</td>\n",
       "      <td>Córdoba</td>\n",
       "      <td>Córdoba</td>\n",
       "      <td>Malagueño</td>\n",
       "      <td>Malagueño</td>\n",
       "      <td>0.0</td>\n",
       "      <td>0.0</td>\n",
       "      <td>0.0</td>\n",
       "      <td>0.0</td>\n",
       "      <td>0.0</td>\n",
       "      <td>...</td>\n",
       "      <td>75.0</td>\n",
       "      <td>0.0</td>\n",
       "      <td>75.0</td>\n",
       "      <td>934.727867</td>\n",
       "      <td>0.0</td>\n",
       "      <td>1.0</td>\n",
       "      <td>0.0</td>\n",
       "      <td>0.0</td>\n",
       "      <td>1.0</td>\n",
       "      <td>0.0</td>\n",
       "    </tr>\n",
       "    <tr>\n",
       "      <th>3</th>\n",
       "      <td>house</td>\n",
       "      <td>Santa Fe</td>\n",
       "      <td>Santa Fe</td>\n",
       "      <td>Rosario</td>\n",
       "      <td>Rosario</td>\n",
       "      <td>1.0</td>\n",
       "      <td>0.0</td>\n",
       "      <td>0.0</td>\n",
       "      <td>0.0</td>\n",
       "      <td>0.0</td>\n",
       "      <td>...</td>\n",
       "      <td>260.0</td>\n",
       "      <td>NaN</td>\n",
       "      <td>NaN</td>\n",
       "      <td>276.497696</td>\n",
       "      <td>0.0</td>\n",
       "      <td>1.0</td>\n",
       "      <td>0.0</td>\n",
       "      <td>0.0</td>\n",
       "      <td>0.0</td>\n",
       "      <td>1.0</td>\n",
       "    </tr>\n",
       "    <tr>\n",
       "      <th>4</th>\n",
       "      <td>house</td>\n",
       "      <td>Buenos Aires Costa Atlántica</td>\n",
       "      <td>BsAs</td>\n",
       "      <td>Mar del Plata</td>\n",
       "      <td>Mar del plata</td>\n",
       "      <td>1.0</td>\n",
       "      <td>0.0</td>\n",
       "      <td>0.0</td>\n",
       "      <td>0.0</td>\n",
       "      <td>1.0</td>\n",
       "      <td>...</td>\n",
       "      <td>207.0</td>\n",
       "      <td>125.0</td>\n",
       "      <td>332.0</td>\n",
       "      <td>1054.216867</td>\n",
       "      <td>0.0</td>\n",
       "      <td>1.0</td>\n",
       "      <td>0.0</td>\n",
       "      <td>0.0</td>\n",
       "      <td>0.0</td>\n",
       "      <td>0.0</td>\n",
       "    </tr>\n",
       "  </tbody>\n",
       "</table>\n",
       "<p>5 rows × 26 columns</p>\n",
       "</div>"
      ],
      "text/plain": [
       "  tipo_propiedad                     Provincia      Zona      Localidad  \\\n",
       "0      apartment  Buenos Aires Costa Atlántica      BsAs  Mar del Plata   \n",
       "1      apartment                       Córdoba   Córdoba        Córdoba   \n",
       "2          house                       Córdoba   Córdoba      Malagueño   \n",
       "3          house                      Santa Fe  Santa Fe        Rosario   \n",
       "4          house  Buenos Aires Costa Atlántica      BsAs  Mar del Plata   \n",
       "\n",
       "      place_name  cochera  gimnasio  piscina  SUM  laundry  \\\n",
       "0         Centro      0.0       0.0      0.0  0.0      0.0   \n",
       "1        Córdoba      0.0       0.0      0.0  0.0      0.0   \n",
       "2      Malagueño      0.0       0.0      0.0  0.0      0.0   \n",
       "3        Rosario      1.0       0.0      0.0  0.0      0.0   \n",
       "4  Mar del plata      1.0       0.0      0.0  0.0      1.0   \n",
       "\n",
       "          ...          sup_cub  sup_descub  sup_total  price_usd_per_m2  \\\n",
       "0         ...             35.0         0.0       35.0       1828.571429   \n",
       "1         ...             50.0         0.0       50.0        616.920400   \n",
       "2         ...             75.0         0.0       75.0        934.727867   \n",
       "3         ...            260.0         NaN        NaN        276.497696   \n",
       "4         ...            207.0       125.0      332.0       1054.216867   \n",
       "\n",
       "   tipo_propiedad_apartment  tipo_propiedad_house  tipo_propiedad_store  \\\n",
       "0                       1.0                   0.0                   0.0   \n",
       "1                       1.0                   0.0                   0.0   \n",
       "2                       0.0                   1.0                   0.0   \n",
       "3                       0.0                   1.0                   0.0   \n",
       "4                       0.0                   1.0                   0.0   \n",
       "\n",
       "   Provincia_Buenos Aires Interior  Provincia_Córdoba  Provincia_Santa Fe  \n",
       "0                              0.0                0.0                 0.0  \n",
       "1                              0.0                1.0                 0.0  \n",
       "2                              0.0                1.0                 0.0  \n",
       "3                              0.0                0.0                 1.0  \n",
       "4                              0.0                0.0                 0.0  \n",
       "\n",
       "[5 rows x 26 columns]"
      ]
     },
     "execution_count": 21,
     "metadata": {},
     "output_type": "execute_result"
    }
   ],
   "source": [
    "\n",
    "cat_vars = ['tipo_propiedad', 'Provincia']\n",
    "data = pd.concat([data,pd.get_dummies(data[cat_vars],drop_first=True, dtype=np.float64)],axis=1)\n",
    "\n",
    "data.head(5)"
   ]
  },
  {
   "cell_type": "code",
   "execution_count": 22,
   "metadata": {},
   "outputs": [
    {
     "data": {
      "text/plain": [
       "Index(['tipo_propiedad', 'Provincia', 'Zona', 'Localidad', 'place_name',\n",
       "       'cochera', 'gimnasio', 'piscina', 'SUM', 'laundry', 'balcon', 'patio',\n",
       "       'parrilla', 'floor', 'rooms', 'price_usd', 'sup_cub', 'sup_descub',\n",
       "       'sup_total', 'price_usd_per_m2', 'tipo_propiedad_apartment',\n",
       "       'tipo_propiedad_house', 'tipo_propiedad_store',\n",
       "       'Provincia_Buenos Aires Interior', 'Provincia_Córdoba',\n",
       "       'Provincia_Santa Fe'],\n",
       "      dtype='object')"
      ]
     },
     "execution_count": 22,
     "metadata": {},
     "output_type": "execute_result"
    }
   ],
   "source": [
    "data.columns"
   ]
  },
  {
   "cell_type": "markdown",
   "metadata": {},
   "source": [
    "## Division del Dataset"
   ]
  },
  {
   "cell_type": "code",
   "execution_count": 23,
   "metadata": {},
   "outputs": [
    {
     "name": "stdout",
     "output_type": "stream",
     "text": [
      "data train shape: (6642, 26)\n",
      "data test shape: (2847, 26)\n"
     ]
    }
   ],
   "source": [
    "data_train, data_test = train_test_split(data,test_size=0.30,shuffle=True,random_state=52)\n",
    "data_train = data_train.copy()\n",
    "data_test = data_test.copy() \n",
    "print(\"data train shape: {}\".format(data_train.shape))\n",
    "print(\"data test shape: {}\".format(data_test.shape))"
   ]
  },
  {
   "cell_type": "markdown",
   "metadata": {},
   "source": [
    "# Imputaciones en set de Entrenamiento\n",
    "\n",
    "Se imputarán los valores faltantes del set de entrenamiento mediante alguna estrategia por tendencia central. Esos valores se guardarán para completar con el mismo criterio en el set de testeo (con los valores obtenidos del set de entrenamiento).\n",
    "\n",
    "- Columna 'floor': se completa por la mediana por lugar.\n",
    "- Columnas de Superficie Cubierta y Total: Se calcula un índice de construcción:\n",
    "\n",
    "$Construction\\:Index = \\frac{Superficie\\:Cubierta}{Superficie\\:Total}$\n",
    "\n",
    "Luego se calcula la media de este índice de construcción por barrio, y se imputa mediante esta media de construcción."
   ]
  },
  {
   "cell_type": "markdown",
   "metadata": {},
   "source": [
    "Veamos con cuantos nulos comenzamos con floor."
   ]
  },
  {
   "cell_type": "code",
   "execution_count": 24,
   "metadata": {
    "scrolled": true
   },
   "outputs": [
    {
     "data": {
      "text/plain": [
       "3561"
      ]
     },
     "execution_count": 24,
     "metadata": {},
     "output_type": "execute_result"
    }
   ],
   "source": [
    "data_train['floor'].isna().sum()"
   ]
  },
  {
   "cell_type": "code",
   "execution_count": 25,
   "metadata": {
    "scrolled": true
   },
   "outputs": [
    {
     "data": {
      "text/plain": [
       "Mar del Plata      1506\n",
       "Rosario            1331\n",
       "Córdoba             531\n",
       "Pinamar             110\n",
       "Villa Gesell         38\n",
       "San Bernardo         18\n",
       "Mar de Ajó           12\n",
       "Valeria del Mar      10\n",
       "Necochea              4\n",
       "Trenque Lauquen       1\n",
       "Name: Localidad, dtype: int64"
      ]
     },
     "execution_count": 25,
     "metadata": {},
     "output_type": "execute_result"
    }
   ],
   "source": [
    "data_train.loc[(data_train['floor'].isna()),'Localidad'].value_counts()"
   ]
  },
  {
   "cell_type": "code",
   "execution_count": 26,
   "metadata": {},
   "outputs": [
    {
     "data": {
      "text/plain": [
       "Mar del Plata      629\n",
       "Rosario            611\n",
       "Córdoba            258\n",
       "Pinamar             41\n",
       "Villa Gesell        14\n",
       "Mar de Ajó           6\n",
       "Valeria del Mar      5\n",
       "San Bernardo         3\n",
       "Trenque Lauquen      1\n",
       "Name: Localidad, dtype: int64"
      ]
     },
     "execution_count": 26,
     "metadata": {},
     "output_type": "execute_result"
    }
   ],
   "source": [
    "data_test.loc[(data_test['floor'].isna()),'Localidad'].value_counts()"
   ]
  },
  {
   "cell_type": "code",
   "execution_count": 27,
   "metadata": {
    "scrolled": true
   },
   "outputs": [
    {
     "data": {
      "text/plain": [
       "Mar del Plata      2135\n",
       "Rosario            1942\n",
       "Córdoba             789\n",
       "Pinamar             151\n",
       "Villa Gesell         52\n",
       "San Bernardo         21\n",
       "Mar de Ajó           18\n",
       "Valeria del Mar      15\n",
       "Necochea              4\n",
       "Trenque Lauquen       2\n",
       "Name: Localidad, dtype: int64"
      ]
     },
     "execution_count": 27,
     "metadata": {},
     "output_type": "execute_result"
    }
   ],
   "source": [
    "data.loc[(data['floor'].isna()),'Localidad'].value_counts()"
   ]
  },
  {
   "cell_type": "code",
   "execution_count": 28,
   "metadata": {},
   "outputs": [
    {
     "data": {
      "text/html": [
       "<div>\n",
       "<style scoped>\n",
       "    .dataframe tbody tr th:only-of-type {\n",
       "        vertical-align: middle;\n",
       "    }\n",
       "\n",
       "    .dataframe tbody tr th {\n",
       "        vertical-align: top;\n",
       "    }\n",
       "\n",
       "    .dataframe thead th {\n",
       "        text-align: right;\n",
       "    }\n",
       "</style>\n",
       "<table border=\"1\" class=\"dataframe\">\n",
       "  <thead>\n",
       "    <tr style=\"text-align: right;\">\n",
       "      <th></th>\n",
       "      <th>floor</th>\n",
       "    </tr>\n",
       "    <tr>\n",
       "      <th>Localidad</th>\n",
       "      <th></th>\n",
       "    </tr>\n",
       "  </thead>\n",
       "  <tbody>\n",
       "    <tr>\n",
       "      <th>Córdoba</th>\n",
       "      <td>0.0</td>\n",
       "    </tr>\n",
       "    <tr>\n",
       "      <th>Luján</th>\n",
       "      <td>0.0</td>\n",
       "    </tr>\n",
       "    <tr>\n",
       "      <th>Mar de Ajó</th>\n",
       "      <td>2.0</td>\n",
       "    </tr>\n",
       "    <tr>\n",
       "      <th>Mar del Plata</th>\n",
       "      <td>3.5</td>\n",
       "    </tr>\n",
       "    <tr>\n",
       "      <th>Miramar</th>\n",
       "      <td>0.0</td>\n",
       "    </tr>\n",
       "    <tr>\n",
       "      <th>Necochea</th>\n",
       "      <td>5.0</td>\n",
       "    </tr>\n",
       "    <tr>\n",
       "      <th>Pinamar</th>\n",
       "      <td>1.0</td>\n",
       "    </tr>\n",
       "    <tr>\n",
       "      <th>Punilla</th>\n",
       "      <td>0.0</td>\n",
       "    </tr>\n",
       "    <tr>\n",
       "      <th>Rosario</th>\n",
       "      <td>3.0</td>\n",
       "    </tr>\n",
       "    <tr>\n",
       "      <th>Río Tercero</th>\n",
       "      <td>2.0</td>\n",
       "    </tr>\n",
       "    <tr>\n",
       "      <th>San Bernardo</th>\n",
       "      <td>2.0</td>\n",
       "    </tr>\n",
       "    <tr>\n",
       "      <th>Santa Fe</th>\n",
       "      <td>0.0</td>\n",
       "    </tr>\n",
       "    <tr>\n",
       "      <th>Trenque Lauquen</th>\n",
       "      <td>4.0</td>\n",
       "    </tr>\n",
       "    <tr>\n",
       "      <th>Valeria del Mar</th>\n",
       "      <td>1.5</td>\n",
       "    </tr>\n",
       "    <tr>\n",
       "      <th>Villa General Belgrano</th>\n",
       "      <td>0.0</td>\n",
       "    </tr>\n",
       "    <tr>\n",
       "      <th>Villa Gesell</th>\n",
       "      <td>3.0</td>\n",
       "    </tr>\n",
       "  </tbody>\n",
       "</table>\n",
       "</div>"
      ],
      "text/plain": [
       "                        floor\n",
       "Localidad                    \n",
       "Córdoba                   0.0\n",
       "Luján                     0.0\n",
       "Mar de Ajó                2.0\n",
       "Mar del Plata             3.5\n",
       "Miramar                   0.0\n",
       "Necochea                  5.0\n",
       "Pinamar                   1.0\n",
       "Punilla                   0.0\n",
       "Rosario                   3.0\n",
       "Río Tercero               2.0\n",
       "San Bernardo              2.0\n",
       "Santa Fe                  0.0\n",
       "Trenque Lauquen           4.0\n",
       "Valeria del Mar           1.5\n",
       "Villa General Belgrano    0.0\n",
       "Villa Gesell              3.0"
      ]
     },
     "execution_count": 28,
     "metadata": {},
     "output_type": "execute_result"
    }
   ],
   "source": [
    "floor_median_localidad = data_train.loc[(data_train['tipo_propiedad']=='apartment')|(data_train['tipo_propiedad']=='store'),['floor','Localidad']].groupby('Localidad').agg(np.median)\n",
    "floor_median_localidad['floor'].fillna(value=floor_median_localidad['floor'].mean(),inplace=True)\n",
    "floor_median_localidad"
   ]
  },
  {
   "cell_type": "code",
   "execution_count": 29,
   "metadata": {},
   "outputs": [],
   "source": [
    "for localidad,floor_med in floor_median_localidad['floor'].to_dict().items():\n",
    "    #imputo en el train set con los valores calculados\n",
    "    data_train.loc[((data_train['tipo_propiedad']=='apartment')|(data_train['tipo_propiedad']=='store')&(data_train['floor'].isna())&(data_train['Localidad']==localidad)),'floor']=floor_med\n",
    "    #tambien imputo en el test set con los valores del train set.\n",
    "    data_test.loc[((data_test['tipo_propiedad']=='apartment')|(data_test['tipo_propiedad']=='store')&(data_test['floor'].isna())&(data_test['Localidad']==localidad)),'floor']=floor_med"
   ]
  },
  {
   "cell_type": "code",
   "execution_count": 30,
   "metadata": {},
   "outputs": [
    {
     "name": "stdout",
     "output_type": "stream",
     "text": [
      "Datos faltantes de floor en train set: 0\n",
      "Datos faltantes de floor en test set: 0\n"
     ]
    }
   ],
   "source": [
    "print(\"Datos faltantes de floor en train set: {}\".format(data_train['floor'].isna().sum()))\n",
    "print(\"Datos faltantes de floor en test set: {}\".format(data_test['floor'].isna().sum()))"
   ]
  },
  {
   "cell_type": "code",
   "execution_count": 31,
   "metadata": {},
   "outputs": [
    {
     "data": {
      "text/html": [
       "<div>\n",
       "<style scoped>\n",
       "    .dataframe tbody tr th:only-of-type {\n",
       "        vertical-align: middle;\n",
       "    }\n",
       "\n",
       "    .dataframe tbody tr th {\n",
       "        vertical-align: top;\n",
       "    }\n",
       "\n",
       "    .dataframe thead th {\n",
       "        text-align: right;\n",
       "    }\n",
       "</style>\n",
       "<table border=\"1\" class=\"dataframe\">\n",
       "  <thead>\n",
       "    <tr style=\"text-align: right;\">\n",
       "      <th></th>\n",
       "      <th>parrilla</th>\n",
       "      <th>floor</th>\n",
       "      <th>rooms</th>\n",
       "      <th>price_usd</th>\n",
       "      <th>sup_cub</th>\n",
       "      <th>sup_descub</th>\n",
       "      <th>sup_total</th>\n",
       "      <th>price_usd_per_m2</th>\n",
       "      <th>tipo_propiedad_apartment</th>\n",
       "      <th>tipo_propiedad_house</th>\n",
       "      <th>tipo_propiedad_store</th>\n",
       "      <th>Provincia_Buenos Aires Interior</th>\n",
       "      <th>Provincia_Córdoba</th>\n",
       "      <th>Provincia_Santa Fe</th>\n",
       "    </tr>\n",
       "  </thead>\n",
       "  <tbody>\n",
       "    <tr>\n",
       "      <th>count</th>\n",
       "      <td>6642.000000</td>\n",
       "      <td>6642.000000</td>\n",
       "      <td>6642.000000</td>\n",
       "      <td>6.642000e+03</td>\n",
       "      <td>5424.000000</td>\n",
       "      <td>4982.000000</td>\n",
       "      <td>6200.000000</td>\n",
       "      <td>6642.000000</td>\n",
       "      <td>6642.000000</td>\n",
       "      <td>6642.000000</td>\n",
       "      <td>6642.000000</td>\n",
       "      <td>6642.000000</td>\n",
       "      <td>6642.000000</td>\n",
       "      <td>6642.000000</td>\n",
       "    </tr>\n",
       "    <tr>\n",
       "      <th>mean</th>\n",
       "      <td>0.159741</td>\n",
       "      <td>1.664559</td>\n",
       "      <td>2.603282</td>\n",
       "      <td>1.235075e+05</td>\n",
       "      <td>96.952249</td>\n",
       "      <td>72.648948</td>\n",
       "      <td>153.220660</td>\n",
       "      <td>1267.260159</td>\n",
       "      <td>0.551340</td>\n",
       "      <td>0.406805</td>\n",
       "      <td>0.004065</td>\n",
       "      <td>0.065793</td>\n",
       "      <td>0.192864</td>\n",
       "      <td>0.268293</td>\n",
       "    </tr>\n",
       "    <tr>\n",
       "      <th>std</th>\n",
       "      <td>0.366393</td>\n",
       "      <td>1.485798</td>\n",
       "      <td>1.357587</td>\n",
       "      <td>1.088732e+05</td>\n",
       "      <td>82.226134</td>\n",
       "      <td>144.548893</td>\n",
       "      <td>181.239061</td>\n",
       "      <td>691.935430</td>\n",
       "      <td>0.497395</td>\n",
       "      <td>0.491275</td>\n",
       "      <td>0.063633</td>\n",
       "      <td>0.247939</td>\n",
       "      <td>0.394577</td>\n",
       "      <td>0.443104</td>\n",
       "    </tr>\n",
       "    <tr>\n",
       "      <th>min</th>\n",
       "      <td>0.000000</td>\n",
       "      <td>0.000000</td>\n",
       "      <td>1.000000</td>\n",
       "      <td>4.666620e+03</td>\n",
       "      <td>17.000000</td>\n",
       "      <td>0.000000</td>\n",
       "      <td>10.000000</td>\n",
       "      <td>3.000000</td>\n",
       "      <td>0.000000</td>\n",
       "      <td>0.000000</td>\n",
       "      <td>0.000000</td>\n",
       "      <td>0.000000</td>\n",
       "      <td>0.000000</td>\n",
       "      <td>0.000000</td>\n",
       "    </tr>\n",
       "    <tr>\n",
       "      <th>25%</th>\n",
       "      <td>0.000000</td>\n",
       "      <td>0.000000</td>\n",
       "      <td>2.000000</td>\n",
       "      <td>6.300000e+04</td>\n",
       "      <td>40.000000</td>\n",
       "      <td>0.000000</td>\n",
       "      <td>40.000000</td>\n",
       "      <td>666.666667</td>\n",
       "      <td>0.000000</td>\n",
       "      <td>0.000000</td>\n",
       "      <td>0.000000</td>\n",
       "      <td>0.000000</td>\n",
       "      <td>0.000000</td>\n",
       "      <td>0.000000</td>\n",
       "    </tr>\n",
       "    <tr>\n",
       "      <th>50%</th>\n",
       "      <td>0.000000</td>\n",
       "      <td>3.000000</td>\n",
       "      <td>2.000000</td>\n",
       "      <td>8.542172e+04</td>\n",
       "      <td>52.000000</td>\n",
       "      <td>4.000000</td>\n",
       "      <td>55.000000</td>\n",
       "      <td>1348.255718</td>\n",
       "      <td>1.000000</td>\n",
       "      <td>0.000000</td>\n",
       "      <td>0.000000</td>\n",
       "      <td>0.000000</td>\n",
       "      <td>0.000000</td>\n",
       "      <td>0.000000</td>\n",
       "    </tr>\n",
       "    <tr>\n",
       "      <th>75%</th>\n",
       "      <td>0.000000</td>\n",
       "      <td>3.000000</td>\n",
       "      <td>3.000000</td>\n",
       "      <td>1.400000e+05</td>\n",
       "      <td>140.000000</td>\n",
       "      <td>53.000000</td>\n",
       "      <td>216.250000</td>\n",
       "      <td>1769.065934</td>\n",
       "      <td>1.000000</td>\n",
       "      <td>1.000000</td>\n",
       "      <td>0.000000</td>\n",
       "      <td>0.000000</td>\n",
       "      <td>0.000000</td>\n",
       "      <td>1.000000</td>\n",
       "    </tr>\n",
       "    <tr>\n",
       "      <th>max</th>\n",
       "      <td>1.000000</td>\n",
       "      <td>3.000000</td>\n",
       "      <td>7.000000</td>\n",
       "      <td>2.200000e+06</td>\n",
       "      <td>400.000000</td>\n",
       "      <td>777.000000</td>\n",
       "      <td>825.000000</td>\n",
       "      <td>3750.000000</td>\n",
       "      <td>1.000000</td>\n",
       "      <td>1.000000</td>\n",
       "      <td>1.000000</td>\n",
       "      <td>1.000000</td>\n",
       "      <td>1.000000</td>\n",
       "      <td>1.000000</td>\n",
       "    </tr>\n",
       "  </tbody>\n",
       "</table>\n",
       "</div>"
      ],
      "text/plain": [
       "          parrilla        floor        rooms     price_usd      sup_cub  \\\n",
       "count  6642.000000  6642.000000  6642.000000  6.642000e+03  5424.000000   \n",
       "mean      0.159741     1.664559     2.603282  1.235075e+05    96.952249   \n",
       "std       0.366393     1.485798     1.357587  1.088732e+05    82.226134   \n",
       "min       0.000000     0.000000     1.000000  4.666620e+03    17.000000   \n",
       "25%       0.000000     0.000000     2.000000  6.300000e+04    40.000000   \n",
       "50%       0.000000     3.000000     2.000000  8.542172e+04    52.000000   \n",
       "75%       0.000000     3.000000     3.000000  1.400000e+05   140.000000   \n",
       "max       1.000000     3.000000     7.000000  2.200000e+06   400.000000   \n",
       "\n",
       "        sup_descub    sup_total  price_usd_per_m2  tipo_propiedad_apartment  \\\n",
       "count  4982.000000  6200.000000       6642.000000               6642.000000   \n",
       "mean     72.648948   153.220660       1267.260159                  0.551340   \n",
       "std     144.548893   181.239061        691.935430                  0.497395   \n",
       "min       0.000000    10.000000          3.000000                  0.000000   \n",
       "25%       0.000000    40.000000        666.666667                  0.000000   \n",
       "50%       4.000000    55.000000       1348.255718                  1.000000   \n",
       "75%      53.000000   216.250000       1769.065934                  1.000000   \n",
       "max     777.000000   825.000000       3750.000000                  1.000000   \n",
       "\n",
       "       tipo_propiedad_house  tipo_propiedad_store  \\\n",
       "count           6642.000000           6642.000000   \n",
       "mean               0.406805              0.004065   \n",
       "std                0.491275              0.063633   \n",
       "min                0.000000              0.000000   \n",
       "25%                0.000000              0.000000   \n",
       "50%                0.000000              0.000000   \n",
       "75%                1.000000              0.000000   \n",
       "max                1.000000              1.000000   \n",
       "\n",
       "       Provincia_Buenos Aires Interior  Provincia_Córdoba  Provincia_Santa Fe  \n",
       "count                      6642.000000        6642.000000         6642.000000  \n",
       "mean                          0.065793           0.192864            0.268293  \n",
       "std                           0.247939           0.394577            0.443104  \n",
       "min                           0.000000           0.000000            0.000000  \n",
       "25%                           0.000000           0.000000            0.000000  \n",
       "50%                           0.000000           0.000000            0.000000  \n",
       "75%                           0.000000           0.000000            1.000000  \n",
       "max                           1.000000           1.000000            1.000000  "
      ]
     },
     "execution_count": 31,
     "metadata": {},
     "output_type": "execute_result"
    }
   ],
   "source": [
    "data_train.iloc[:,12:].describe()"
   ]
  },
  {
   "cell_type": "markdown",
   "metadata": {},
   "source": [
    "## Imputación de Superficies\n",
    "\n",
    "Columna temporal de const_index."
   ]
  },
  {
   "cell_type": "code",
   "execution_count": 32,
   "metadata": {},
   "outputs": [
    {
     "data": {
      "text/html": [
       "<div>\n",
       "<style scoped>\n",
       "    .dataframe tbody tr th:only-of-type {\n",
       "        vertical-align: middle;\n",
       "    }\n",
       "\n",
       "    .dataframe tbody tr th {\n",
       "        vertical-align: top;\n",
       "    }\n",
       "\n",
       "    .dataframe thead th {\n",
       "        text-align: right;\n",
       "    }\n",
       "</style>\n",
       "<table border=\"1\" class=\"dataframe\">\n",
       "  <thead>\n",
       "    <tr style=\"text-align: right;\">\n",
       "      <th></th>\n",
       "      <th>tipo_propiedad</th>\n",
       "      <th>Provincia</th>\n",
       "      <th>Zona</th>\n",
       "      <th>Localidad</th>\n",
       "      <th>place_name</th>\n",
       "      <th>cochera</th>\n",
       "      <th>gimnasio</th>\n",
       "      <th>piscina</th>\n",
       "      <th>SUM</th>\n",
       "      <th>laundry</th>\n",
       "      <th>...</th>\n",
       "      <th>sup_descub</th>\n",
       "      <th>sup_total</th>\n",
       "      <th>price_usd_per_m2</th>\n",
       "      <th>tipo_propiedad_apartment</th>\n",
       "      <th>tipo_propiedad_house</th>\n",
       "      <th>tipo_propiedad_store</th>\n",
       "      <th>Provincia_Buenos Aires Interior</th>\n",
       "      <th>Provincia_Córdoba</th>\n",
       "      <th>Provincia_Santa Fe</th>\n",
       "      <th>const_index</th>\n",
       "    </tr>\n",
       "  </thead>\n",
       "  <tbody>\n",
       "    <tr>\n",
       "      <th>2117</th>\n",
       "      <td>house</td>\n",
       "      <td>Córdoba</td>\n",
       "      <td>Córdoba</td>\n",
       "      <td>San Antonio de Arredondo</td>\n",
       "      <td>San antonio de arredondo</td>\n",
       "      <td>1.0</td>\n",
       "      <td>0.0</td>\n",
       "      <td>0.0</td>\n",
       "      <td>0.0</td>\n",
       "      <td>0.0</td>\n",
       "      <td>...</td>\n",
       "      <td>310.0</td>\n",
       "      <td>400.0</td>\n",
       "      <td>203.303325</td>\n",
       "      <td>0.0</td>\n",
       "      <td>1.0</td>\n",
       "      <td>0.0</td>\n",
       "      <td>0.0</td>\n",
       "      <td>1.0</td>\n",
       "      <td>0.0</td>\n",
       "      <td>0.225000</td>\n",
       "    </tr>\n",
       "    <tr>\n",
       "      <th>9030</th>\n",
       "      <td>apartment</td>\n",
       "      <td>Santa Fe</td>\n",
       "      <td>Santa Fe</td>\n",
       "      <td>Rosario</td>\n",
       "      <td>Rosario</td>\n",
       "      <td>0.0</td>\n",
       "      <td>0.0</td>\n",
       "      <td>0.0</td>\n",
       "      <td>0.0</td>\n",
       "      <td>0.0</td>\n",
       "      <td>...</td>\n",
       "      <td>4.0</td>\n",
       "      <td>49.0</td>\n",
       "      <td>1350.586327</td>\n",
       "      <td>1.0</td>\n",
       "      <td>0.0</td>\n",
       "      <td>0.0</td>\n",
       "      <td>0.0</td>\n",
       "      <td>0.0</td>\n",
       "      <td>1.0</td>\n",
       "      <td>0.918367</td>\n",
       "    </tr>\n",
       "    <tr>\n",
       "      <th>9786</th>\n",
       "      <td>house</td>\n",
       "      <td>Córdoba</td>\n",
       "      <td>Córdoba</td>\n",
       "      <td>Córdoba</td>\n",
       "      <td>Córdoba</td>\n",
       "      <td>0.0</td>\n",
       "      <td>0.0</td>\n",
       "      <td>0.0</td>\n",
       "      <td>0.0</td>\n",
       "      <td>0.0</td>\n",
       "      <td>...</td>\n",
       "      <td>NaN</td>\n",
       "      <td>25.0</td>\n",
       "      <td>1951.711600</td>\n",
       "      <td>0.0</td>\n",
       "      <td>1.0</td>\n",
       "      <td>0.0</td>\n",
       "      <td>0.0</td>\n",
       "      <td>1.0</td>\n",
       "      <td>0.0</td>\n",
       "      <td>NaN</td>\n",
       "    </tr>\n",
       "    <tr>\n",
       "      <th>119</th>\n",
       "      <td>apartment</td>\n",
       "      <td>Buenos Aires Costa Atlántica</td>\n",
       "      <td>BsAs</td>\n",
       "      <td>Mar del Plata</td>\n",
       "      <td>Mar del plata</td>\n",
       "      <td>1.0</td>\n",
       "      <td>0.0</td>\n",
       "      <td>0.0</td>\n",
       "      <td>0.0</td>\n",
       "      <td>0.0</td>\n",
       "      <td>...</td>\n",
       "      <td>16.0</td>\n",
       "      <td>60.0</td>\n",
       "      <td>2000.000000</td>\n",
       "      <td>1.0</td>\n",
       "      <td>0.0</td>\n",
       "      <td>0.0</td>\n",
       "      <td>0.0</td>\n",
       "      <td>0.0</td>\n",
       "      <td>0.0</td>\n",
       "      <td>0.733333</td>\n",
       "    </tr>\n",
       "    <tr>\n",
       "      <th>4776</th>\n",
       "      <td>apartment</td>\n",
       "      <td>Buenos Aires Costa Atlántica</td>\n",
       "      <td>BsAs</td>\n",
       "      <td>Mar del Plata</td>\n",
       "      <td>Mar del plata</td>\n",
       "      <td>0.0</td>\n",
       "      <td>0.0</td>\n",
       "      <td>0.0</td>\n",
       "      <td>0.0</td>\n",
       "      <td>0.0</td>\n",
       "      <td>...</td>\n",
       "      <td>NaN</td>\n",
       "      <td>30.0</td>\n",
       "      <td>1500.000000</td>\n",
       "      <td>1.0</td>\n",
       "      <td>0.0</td>\n",
       "      <td>0.0</td>\n",
       "      <td>0.0</td>\n",
       "      <td>0.0</td>\n",
       "      <td>0.0</td>\n",
       "      <td>NaN</td>\n",
       "    </tr>\n",
       "  </tbody>\n",
       "</table>\n",
       "<p>5 rows × 27 columns</p>\n",
       "</div>"
      ],
      "text/plain": [
       "     tipo_propiedad                     Provincia      Zona  \\\n",
       "2117          house                       Córdoba   Córdoba   \n",
       "9030      apartment                      Santa Fe  Santa Fe   \n",
       "9786          house                       Córdoba   Córdoba   \n",
       "119       apartment  Buenos Aires Costa Atlántica      BsAs   \n",
       "4776      apartment  Buenos Aires Costa Atlántica      BsAs   \n",
       "\n",
       "                     Localidad                place_name  cochera  gimnasio  \\\n",
       "2117  San Antonio de Arredondo  San antonio de arredondo      1.0       0.0   \n",
       "9030                   Rosario                   Rosario      0.0       0.0   \n",
       "9786                   Córdoba                   Córdoba      0.0       0.0   \n",
       "119              Mar del Plata             Mar del plata      1.0       0.0   \n",
       "4776             Mar del Plata             Mar del plata      0.0       0.0   \n",
       "\n",
       "      piscina  SUM  laundry     ...       sup_descub  sup_total  \\\n",
       "2117      0.0  0.0      0.0     ...            310.0      400.0   \n",
       "9030      0.0  0.0      0.0     ...              4.0       49.0   \n",
       "9786      0.0  0.0      0.0     ...              NaN       25.0   \n",
       "119       0.0  0.0      0.0     ...             16.0       60.0   \n",
       "4776      0.0  0.0      0.0     ...              NaN       30.0   \n",
       "\n",
       "      price_usd_per_m2  tipo_propiedad_apartment  tipo_propiedad_house  \\\n",
       "2117        203.303325                       0.0                   1.0   \n",
       "9030       1350.586327                       1.0                   0.0   \n",
       "9786       1951.711600                       0.0                   1.0   \n",
       "119        2000.000000                       1.0                   0.0   \n",
       "4776       1500.000000                       1.0                   0.0   \n",
       "\n",
       "      tipo_propiedad_store  Provincia_Buenos Aires Interior  \\\n",
       "2117                   0.0                              0.0   \n",
       "9030                   0.0                              0.0   \n",
       "9786                   0.0                              0.0   \n",
       "119                    0.0                              0.0   \n",
       "4776                   0.0                              0.0   \n",
       "\n",
       "      Provincia_Córdoba  Provincia_Santa Fe  const_index  \n",
       "2117                1.0                 0.0     0.225000  \n",
       "9030                0.0                 1.0     0.918367  \n",
       "9786                1.0                 0.0          NaN  \n",
       "119                 0.0                 0.0     0.733333  \n",
       "4776                0.0                 0.0          NaN  \n",
       "\n",
       "[5 rows x 27 columns]"
      ]
     },
     "execution_count": 32,
     "metadata": {},
     "output_type": "execute_result"
    }
   ],
   "source": [
    "data_train['const_index']=data_train['sup_cub']/data_train['sup_total']\n",
    "data_train.head(5)"
   ]
  },
  {
   "cell_type": "code",
   "execution_count": 33,
   "metadata": {},
   "outputs": [
    {
     "data": {
      "text/plain": [
       "count    4982.000000\n",
       "mean        0.796709\n",
       "std         0.264925\n",
       "min         0.025094\n",
       "25%         0.666667\n",
       "50%         0.914894\n",
       "75%         1.000000\n",
       "max         1.000000\n",
       "Name: const_index, dtype: float64"
      ]
     },
     "execution_count": 33,
     "metadata": {},
     "output_type": "execute_result"
    }
   ],
   "source": [
    "data_train['const_index'].describe()"
   ]
  },
  {
   "cell_type": "code",
   "execution_count": 34,
   "metadata": {},
   "outputs": [
    {
     "data": {
      "text/html": [
       "<div>\n",
       "<style scoped>\n",
       "    .dataframe tbody tr th:only-of-type {\n",
       "        vertical-align: middle;\n",
       "    }\n",
       "\n",
       "    .dataframe tbody tr th {\n",
       "        vertical-align: top;\n",
       "    }\n",
       "\n",
       "    .dataframe thead th {\n",
       "        text-align: right;\n",
       "    }\n",
       "</style>\n",
       "<table border=\"1\" class=\"dataframe\">\n",
       "  <thead>\n",
       "    <tr style=\"text-align: right;\">\n",
       "      <th></th>\n",
       "      <th>sup_cub</th>\n",
       "      <th>sup_descub</th>\n",
       "      <th>sup_total</th>\n",
       "    </tr>\n",
       "  </thead>\n",
       "  <tbody>\n",
       "  </tbody>\n",
       "</table>\n",
       "</div>"
      ],
      "text/plain": [
       "Empty DataFrame\n",
       "Columns: [sup_cub, sup_descub, sup_total]\n",
       "Index: []"
      ]
     },
     "execution_count": 34,
     "metadata": {},
     "output_type": "execute_result"
    }
   ],
   "source": [
    "data_test.loc[(data_test['sup_descub']==float('inf')),['sup_cub','sup_descub','sup_total']]\n",
    "data_train.loc[(data_train['sup_descub']==float('inf')),['sup_cub','sup_descub','sup_total']]"
   ]
  },
  {
   "cell_type": "code",
   "execution_count": 35,
   "metadata": {},
   "outputs": [
    {
     "data": {
      "text/html": [
       "<div>\n",
       "<style scoped>\n",
       "    .dataframe tbody tr th:only-of-type {\n",
       "        vertical-align: middle;\n",
       "    }\n",
       "\n",
       "    .dataframe tbody tr th {\n",
       "        vertical-align: top;\n",
       "    }\n",
       "\n",
       "    .dataframe thead th {\n",
       "        text-align: right;\n",
       "    }\n",
       "</style>\n",
       "<table border=\"1\" class=\"dataframe\">\n",
       "  <thead>\n",
       "    <tr style=\"text-align: right;\">\n",
       "      <th></th>\n",
       "      <th>const_index</th>\n",
       "    </tr>\n",
       "    <tr>\n",
       "      <th>Localidad</th>\n",
       "      <th></th>\n",
       "    </tr>\n",
       "  </thead>\n",
       "  <tbody>\n",
       "    <tr>\n",
       "      <th>Aguas Verdes</th>\n",
       "      <td>0.291667</td>\n",
       "    </tr>\n",
       "    <tr>\n",
       "      <th>Alta Gracia</th>\n",
       "      <td>0.641429</td>\n",
       "    </tr>\n",
       "    <tr>\n",
       "      <th>Alvear</th>\n",
       "      <td>0.600000</td>\n",
       "    </tr>\n",
       "    <tr>\n",
       "      <th>Anisacate</th>\n",
       "      <td>0.322222</td>\n",
       "    </tr>\n",
       "    <tr>\n",
       "      <th>Arroyo Seco</th>\n",
       "      <td>0.238095</td>\n",
       "    </tr>\n",
       "    <tr>\n",
       "      <th>Azul</th>\n",
       "      <td>0.500000</td>\n",
       "    </tr>\n",
       "    <tr>\n",
       "      <th>Bahía Blanca</th>\n",
       "      <td>0.500000</td>\n",
       "    </tr>\n",
       "    <tr>\n",
       "      <th>Balcarce</th>\n",
       "      <td>0.433333</td>\n",
       "    </tr>\n",
       "    <tr>\n",
       "      <th>Baradero</th>\n",
       "      <td>0.035398</td>\n",
       "    </tr>\n",
       "    <tr>\n",
       "      <th>Berisso</th>\n",
       "      <td>0.448011</td>\n",
       "    </tr>\n",
       "    <tr>\n",
       "      <th>Brandsen</th>\n",
       "      <td>0.897059</td>\n",
       "    </tr>\n",
       "    <tr>\n",
       "      <th>Camet</th>\n",
       "      <td>0.290557</td>\n",
       "    </tr>\n",
       "    <tr>\n",
       "      <th>Campana</th>\n",
       "      <td>0.312500</td>\n",
       "    </tr>\n",
       "    <tr>\n",
       "      <th>Capilla del Monte</th>\n",
       "      <td>0.561987</td>\n",
       "    </tr>\n",
       "    <tr>\n",
       "      <th>Capitán Bermúdez</th>\n",
       "      <td>0.659091</td>\n",
       "    </tr>\n",
       "    <tr>\n",
       "      <th>Capitán Sarmiento</th>\n",
       "      <td>0.296296</td>\n",
       "    </tr>\n",
       "    <tr>\n",
       "      <th>Cariló</th>\n",
       "      <td>1.000000</td>\n",
       "    </tr>\n",
       "    <tr>\n",
       "      <th>Castellanos</th>\n",
       "      <td>0.307571</td>\n",
       "    </tr>\n",
       "    <tr>\n",
       "      <th>Chascomús</th>\n",
       "      <td>0.863636</td>\n",
       "    </tr>\n",
       "    <tr>\n",
       "      <th>Chivilcoy</th>\n",
       "      <td>0.200000</td>\n",
       "    </tr>\n",
       "    <tr>\n",
       "      <th>Claromecó</th>\n",
       "      <td>0.216667</td>\n",
       "    </tr>\n",
       "    <tr>\n",
       "      <th>Colonia Caroya</th>\n",
       "      <td>1.000000</td>\n",
       "    </tr>\n",
       "    <tr>\n",
       "      <th>Colonia Tirolesa</th>\n",
       "      <td>0.953178</td>\n",
       "    </tr>\n",
       "    <tr>\n",
       "      <th>Coronda</th>\n",
       "      <td>0.106628</td>\n",
       "    </tr>\n",
       "    <tr>\n",
       "      <th>Coronel Dorrego</th>\n",
       "      <td>0.341667</td>\n",
       "    </tr>\n",
       "    <tr>\n",
       "      <th>Coronel Suárez</th>\n",
       "      <td>0.683037</td>\n",
       "    </tr>\n",
       "    <tr>\n",
       "      <th>Cosquín</th>\n",
       "      <td>0.326110</td>\n",
       "    </tr>\n",
       "    <tr>\n",
       "      <th>Costa Azul</th>\n",
       "      <td>0.794577</td>\n",
       "    </tr>\n",
       "    <tr>\n",
       "      <th>Costa Esmeralda</th>\n",
       "      <td>0.887086</td>\n",
       "    </tr>\n",
       "    <tr>\n",
       "      <th>Costa del Este</th>\n",
       "      <td>0.777778</td>\n",
       "    </tr>\n",
       "    <tr>\n",
       "      <th>...</th>\n",
       "      <td>...</td>\n",
       "    </tr>\n",
       "    <tr>\n",
       "      <th>San Pedro</th>\n",
       "      <td>0.866667</td>\n",
       "    </tr>\n",
       "    <tr>\n",
       "      <th>San Roque</th>\n",
       "      <td>0.561987</td>\n",
       "    </tr>\n",
       "    <tr>\n",
       "      <th>Santa Clara del Mar</th>\n",
       "      <td>1.000000</td>\n",
       "    </tr>\n",
       "    <tr>\n",
       "      <th>Santa Fe</th>\n",
       "      <td>1.000000</td>\n",
       "    </tr>\n",
       "    <tr>\n",
       "      <th>Santa María</th>\n",
       "      <td>0.885621</td>\n",
       "    </tr>\n",
       "    <tr>\n",
       "      <th>Santa Rosa de Calamuchita</th>\n",
       "      <td>0.250000</td>\n",
       "    </tr>\n",
       "    <tr>\n",
       "      <th>Santa Teresita</th>\n",
       "      <td>0.888889</td>\n",
       "    </tr>\n",
       "    <tr>\n",
       "      <th>Santo Tomé</th>\n",
       "      <td>0.416667</td>\n",
       "    </tr>\n",
       "    <tr>\n",
       "      <th>Tancacha</th>\n",
       "      <td>1.000000</td>\n",
       "    </tr>\n",
       "    <tr>\n",
       "      <th>Tandil</th>\n",
       "      <td>0.394503</td>\n",
       "    </tr>\n",
       "    <tr>\n",
       "      <th>Tanti</th>\n",
       "      <td>0.166911</td>\n",
       "    </tr>\n",
       "    <tr>\n",
       "      <th>Timbúes</th>\n",
       "      <td>0.073698</td>\n",
       "    </tr>\n",
       "    <tr>\n",
       "      <th>Trenque Lauquen</th>\n",
       "      <td>0.611111</td>\n",
       "    </tr>\n",
       "    <tr>\n",
       "      <th>Tres Arroyos</th>\n",
       "      <td>0.559688</td>\n",
       "    </tr>\n",
       "    <tr>\n",
       "      <th>Unquillo</th>\n",
       "      <td>1.000000</td>\n",
       "    </tr>\n",
       "    <tr>\n",
       "      <th>Valeria del Mar</th>\n",
       "      <td>0.862069</td>\n",
       "    </tr>\n",
       "    <tr>\n",
       "      <th>Villa Allende</th>\n",
       "      <td>1.000000</td>\n",
       "    </tr>\n",
       "    <tr>\n",
       "      <th>Villa Amancay</th>\n",
       "      <td>1.000000</td>\n",
       "    </tr>\n",
       "    <tr>\n",
       "      <th>Villa Carlos Paz</th>\n",
       "      <td>0.374167</td>\n",
       "    </tr>\n",
       "    <tr>\n",
       "      <th>Villa Constitución</th>\n",
       "      <td>0.639130</td>\n",
       "    </tr>\n",
       "    <tr>\n",
       "      <th>Villa Cura Brochero</th>\n",
       "      <td>0.662037</td>\n",
       "    </tr>\n",
       "    <tr>\n",
       "      <th>Villa General Belgrano</th>\n",
       "      <td>0.492308</td>\n",
       "    </tr>\n",
       "    <tr>\n",
       "      <th>Villa Gesell</th>\n",
       "      <td>0.779032</td>\n",
       "    </tr>\n",
       "    <tr>\n",
       "      <th>Villa Giardino</th>\n",
       "      <td>0.263345</td>\n",
       "    </tr>\n",
       "    <tr>\n",
       "      <th>Villa Icho Cruz</th>\n",
       "      <td>0.285714</td>\n",
       "    </tr>\n",
       "    <tr>\n",
       "      <th>Villa Rumipal</th>\n",
       "      <td>0.714286</td>\n",
       "    </tr>\n",
       "    <tr>\n",
       "      <th>Villa Santa Cruz del Lago</th>\n",
       "      <td>0.300000</td>\n",
       "    </tr>\n",
       "    <tr>\n",
       "      <th>Villa del Dique</th>\n",
       "      <td>0.269318</td>\n",
       "    </tr>\n",
       "    <tr>\n",
       "      <th>Villa del Totoral</th>\n",
       "      <td>0.284031</td>\n",
       "    </tr>\n",
       "    <tr>\n",
       "      <th>Zárate</th>\n",
       "      <td>0.561987</td>\n",
       "    </tr>\n",
       "  </tbody>\n",
       "</table>\n",
       "<p>140 rows × 1 columns</p>\n",
       "</div>"
      ],
      "text/plain": [
       "                           const_index\n",
       "Localidad                             \n",
       "Aguas Verdes                  0.291667\n",
       "Alta Gracia                   0.641429\n",
       "Alvear                        0.600000\n",
       "Anisacate                     0.322222\n",
       "Arroyo Seco                   0.238095\n",
       "Azul                          0.500000\n",
       "Bahía Blanca                  0.500000\n",
       "Balcarce                      0.433333\n",
       "Baradero                      0.035398\n",
       "Berisso                       0.448011\n",
       "Brandsen                      0.897059\n",
       "Camet                         0.290557\n",
       "Campana                       0.312500\n",
       "Capilla del Monte             0.561987\n",
       "Capitán Bermúdez              0.659091\n",
       "Capitán Sarmiento             0.296296\n",
       "Cariló                        1.000000\n",
       "Castellanos                   0.307571\n",
       "Chascomús                     0.863636\n",
       "Chivilcoy                     0.200000\n",
       "Claromecó                     0.216667\n",
       "Colonia Caroya                1.000000\n",
       "Colonia Tirolesa              0.953178\n",
       "Coronda                       0.106628\n",
       "Coronel Dorrego               0.341667\n",
       "Coronel Suárez                0.683037\n",
       "Cosquín                       0.326110\n",
       "Costa Azul                    0.794577\n",
       "Costa Esmeralda               0.887086\n",
       "Costa del Este                0.777778\n",
       "...                                ...\n",
       "San Pedro                     0.866667\n",
       "San Roque                     0.561987\n",
       "Santa Clara del Mar           1.000000\n",
       "Santa Fe                      1.000000\n",
       "Santa María                   0.885621\n",
       "Santa Rosa de Calamuchita     0.250000\n",
       "Santa Teresita                0.888889\n",
       "Santo Tomé                    0.416667\n",
       "Tancacha                      1.000000\n",
       "Tandil                        0.394503\n",
       "Tanti                         0.166911\n",
       "Timbúes                       0.073698\n",
       "Trenque Lauquen               0.611111\n",
       "Tres Arroyos                  0.559688\n",
       "Unquillo                      1.000000\n",
       "Valeria del Mar               0.862069\n",
       "Villa Allende                 1.000000\n",
       "Villa Amancay                 1.000000\n",
       "Villa Carlos Paz              0.374167\n",
       "Villa Constitución            0.639130\n",
       "Villa Cura Brochero           0.662037\n",
       "Villa General Belgrano        0.492308\n",
       "Villa Gesell                  0.779032\n",
       "Villa Giardino                0.263345\n",
       "Villa Icho Cruz               0.285714\n",
       "Villa Rumipal                 0.714286\n",
       "Villa Santa Cruz del Lago     0.300000\n",
       "Villa del Dique               0.269318\n",
       "Villa del Totoral             0.284031\n",
       "Zárate                        0.561987\n",
       "\n",
       "[140 rows x 1 columns]"
      ]
     },
     "execution_count": 35,
     "metadata": {},
     "output_type": "execute_result"
    }
   ],
   "source": [
    "const_median_localidad = data_train[['const_index','Localidad']].groupby('Localidad').median()\n",
    "const_median_localidad['const_index'].fillna(value=const_median_localidad['const_index'].median(),inplace=True)\n",
    "const_median_localidad"
   ]
  },
  {
   "cell_type": "code",
   "execution_count": 36,
   "metadata": {},
   "outputs": [
    {
     "data": {
      "text/plain": [
       "sup_cub       1218\n",
       "sup_total      442\n",
       "sup_descub    1660\n",
       "dtype: int64"
      ]
     },
     "execution_count": 36,
     "metadata": {},
     "output_type": "execute_result"
    }
   ],
   "source": [
    "data_train[['sup_cub','sup_total','sup_descub']].isna().sum()"
   ]
  },
  {
   "cell_type": "code",
   "execution_count": 37,
   "metadata": {},
   "outputs": [],
   "source": [
    "for localidad,const_med in const_median_localidad['const_index'].to_dict().items():\n",
    "    data_train.loc[(data_train['const_index'].isna())&(data_train['Localidad']==localidad),'const_index']=const_med\n",
    "    data_test.loc[(data_test['Localidad']==localidad),'const_index']=const_med"
   ]
  },
  {
   "cell_type": "markdown",
   "metadata": {},
   "source": [
    "Completar los datos faltantes de Superficie Cubierta y Superficie Total con el índice de construcción calculado, en el set de entrenamiento."
   ]
  },
  {
   "cell_type": "code",
   "execution_count": 38,
   "metadata": {},
   "outputs": [],
   "source": [
    "data_train['sup_cub'].fillna(data_train['const_index']*data_train['sup_total'],inplace=True)\n",
    "data_train['sup_total'].fillna(data_train['sup_cub']/data_train['const_index'],inplace=True)\n",
    "data_train['sup_descub'].fillna((data_train['sup_total']-data_train['sup_cub']),inplace=True)"
   ]
  },
  {
   "cell_type": "code",
   "execution_count": 39,
   "metadata": {},
   "outputs": [],
   "source": [
    "#data_train['sup_cub'].fillna((data_train['sup_total']-data_train['sup_descub']),inplace=True)"
   ]
  },
  {
   "cell_type": "code",
   "execution_count": 40,
   "metadata": {},
   "outputs": [
    {
     "data": {
      "text/html": [
       "<div>\n",
       "<style scoped>\n",
       "    .dataframe tbody tr th:only-of-type {\n",
       "        vertical-align: middle;\n",
       "    }\n",
       "\n",
       "    .dataframe tbody tr th {\n",
       "        vertical-align: top;\n",
       "    }\n",
       "\n",
       "    .dataframe thead th {\n",
       "        text-align: right;\n",
       "    }\n",
       "</style>\n",
       "<table border=\"1\" class=\"dataframe\">\n",
       "  <thead>\n",
       "    <tr style=\"text-align: right;\">\n",
       "      <th></th>\n",
       "      <th>sup_cub</th>\n",
       "      <th>sup_descub</th>\n",
       "      <th>sup_total</th>\n",
       "    </tr>\n",
       "  </thead>\n",
       "  <tbody>\n",
       "  </tbody>\n",
       "</table>\n",
       "</div>"
      ],
      "text/plain": [
       "Empty DataFrame\n",
       "Columns: [sup_cub, sup_descub, sup_total]\n",
       "Index: []"
      ]
     },
     "execution_count": 40,
     "metadata": {},
     "output_type": "execute_result"
    }
   ],
   "source": [
    "data_train.loc[(data_train['sup_descub']==np.inf),['sup_cub','sup_descub','sup_total']]"
   ]
  },
  {
   "cell_type": "code",
   "execution_count": 41,
   "metadata": {},
   "outputs": [
    {
     "data": {
      "text/plain": [
       "sup_cub       0\n",
       "sup_total     0\n",
       "sup_descub    0\n",
       "dtype: int64"
      ]
     },
     "execution_count": 41,
     "metadata": {},
     "output_type": "execute_result"
    }
   ],
   "source": [
    "data_train[['sup_cub','sup_total','sup_descub']].isna().sum()"
   ]
  },
  {
   "cell_type": "code",
   "execution_count": 42,
   "metadata": {},
   "outputs": [
    {
     "data": {
      "text/plain": [
       "count    6642.000000\n",
       "mean        0.819495\n",
       "std         0.250400\n",
       "min         0.025094\n",
       "25%         0.750000\n",
       "50%         0.916667\n",
       "75%         1.000000\n",
       "max         1.000000\n",
       "Name: const_index, dtype: float64"
      ]
     },
     "execution_count": 42,
     "metadata": {},
     "output_type": "execute_result"
    }
   ],
   "source": [
    "data_train['const_index'].describe()"
   ]
  },
  {
   "cell_type": "markdown",
   "metadata": {},
   "source": [
    "## Imputación de Superficies"
   ]
  },
  {
   "cell_type": "markdown",
   "metadata": {},
   "source": [
    "Imputación del índice de construcción:\n",
    "\n",
    "Completar los datos faltantes de Superficie Cubierta y Superficie Total con el índice de construcción calculado, en el set de testeo."
   ]
  },
  {
   "cell_type": "code",
   "execution_count": 43,
   "metadata": {},
   "outputs": [
    {
     "data": {
      "text/plain": [
       "count    2820.000000\n",
       "mean        0.883706\n",
       "std         0.177536\n",
       "min         0.035398\n",
       "25%         0.900000\n",
       "50%         0.916667\n",
       "75%         1.000000\n",
       "max         1.000000\n",
       "Name: const_index, dtype: float64"
      ]
     },
     "execution_count": 43,
     "metadata": {},
     "output_type": "execute_result"
    }
   ],
   "source": [
    "data_test['const_index'].describe()"
   ]
  },
  {
   "cell_type": "code",
   "execution_count": 44,
   "metadata": {},
   "outputs": [],
   "source": [
    "data_test['sup_cub'].fillna(data_test['const_index']*data_test['sup_total'],inplace=True)\n",
    "data_test['sup_total'].fillna(data_test['sup_cub']/data_test['const_index'],inplace=True)\n",
    "data_test['sup_descub'].fillna((data_test['sup_total']-data_test['sup_cub']),inplace=True)"
   ]
  },
  {
   "cell_type": "code",
   "execution_count": 45,
   "metadata": {},
   "outputs": [
    {
     "data": {
      "text/plain": [
       "sup_cub         3\n",
       "sup_total       4\n",
       "sup_descub      7\n",
       "const_index    27\n",
       "dtype: int64"
      ]
     },
     "execution_count": 45,
     "metadata": {},
     "output_type": "execute_result"
    }
   ],
   "source": [
    "data_test[['sup_cub','sup_total','sup_descub','const_index']].isna().sum()"
   ]
  },
  {
   "cell_type": "markdown",
   "metadata": {},
   "source": [
    "Los valores faltantes de superficie, se imputarán con el const_index por provincia:"
   ]
  },
  {
   "cell_type": "code",
   "execution_count": 46,
   "metadata": {},
   "outputs": [
    {
     "data": {
      "text/html": [
       "<div>\n",
       "<style scoped>\n",
       "    .dataframe tbody tr th:only-of-type {\n",
       "        vertical-align: middle;\n",
       "    }\n",
       "\n",
       "    .dataframe tbody tr th {\n",
       "        vertical-align: top;\n",
       "    }\n",
       "\n",
       "    .dataframe thead th {\n",
       "        text-align: right;\n",
       "    }\n",
       "</style>\n",
       "<table border=\"1\" class=\"dataframe\">\n",
       "  <thead>\n",
       "    <tr style=\"text-align: right;\">\n",
       "      <th></th>\n",
       "      <th>const_index</th>\n",
       "    </tr>\n",
       "    <tr>\n",
       "      <th>Provincia</th>\n",
       "      <th></th>\n",
       "    </tr>\n",
       "  </thead>\n",
       "  <tbody>\n",
       "    <tr>\n",
       "      <th>Buenos Aires Costa Atlántica</th>\n",
       "      <td>1.000000</td>\n",
       "    </tr>\n",
       "    <tr>\n",
       "      <th>Buenos Aires Interior</th>\n",
       "      <td>0.576344</td>\n",
       "    </tr>\n",
       "    <tr>\n",
       "      <th>Córdoba</th>\n",
       "      <td>0.900000</td>\n",
       "    </tr>\n",
       "    <tr>\n",
       "      <th>Santa Fe</th>\n",
       "      <td>0.916667</td>\n",
       "    </tr>\n",
       "  </tbody>\n",
       "</table>\n",
       "</div>"
      ],
      "text/plain": [
       "                              const_index\n",
       "Provincia                                \n",
       "Buenos Aires Costa Atlántica     1.000000\n",
       "Buenos Aires Interior            0.576344\n",
       "Córdoba                          0.900000\n",
       "Santa Fe                         0.916667"
      ]
     },
     "execution_count": 46,
     "metadata": {},
     "output_type": "execute_result"
    }
   ],
   "source": [
    "const_median_prov = data_train[['const_index','Provincia']].groupby('Provincia').median()\n",
    "const_median_prov['const_index'].fillna(value=const_median_prov['const_index'].median(),inplace=True)\n",
    "const_median_prov"
   ]
  },
  {
   "cell_type": "code",
   "execution_count": 47,
   "metadata": {},
   "outputs": [],
   "source": [
    "for prov,const_med in const_median_prov['const_index'].to_dict().items():\n",
    "    data_train.loc[(data_train['const_index'].isna())&(data_train['Provincia']==prov),'const_index']=const_med\n",
    "    data_test.loc[(data_test['Provincia']==prov),'const_index']=const_med"
   ]
  },
  {
   "cell_type": "code",
   "execution_count": 48,
   "metadata": {},
   "outputs": [],
   "source": [
    "data_train['sup_cub'].fillna(data_train['const_index']*data_train['sup_total'],inplace=True)\n",
    "data_train['sup_total'].fillna(data_train['sup_cub']/data_train['const_index'],inplace=True)\n",
    "data_train['sup_descub'].fillna((data_train['sup_total']-data_train['sup_cub']),inplace=True)"
   ]
  },
  {
   "cell_type": "code",
   "execution_count": 49,
   "metadata": {},
   "outputs": [],
   "source": [
    "data_test['sup_cub'].fillna(data_test['const_index']*data_test['sup_total'],inplace=True)\n",
    "data_test['sup_total'].fillna(data_test['sup_cub']/data_test['const_index'],inplace=True)\n",
    "data_test['sup_descub'].fillna((data_test['sup_total']-data_test['sup_cub']),inplace=True)"
   ]
  },
  {
   "cell_type": "code",
   "execution_count": 50,
   "metadata": {},
   "outputs": [
    {
     "data": {
      "text/plain": [
       "sup_cub        0\n",
       "sup_total      0\n",
       "sup_descub     0\n",
       "const_index    0\n",
       "dtype: int64"
      ]
     },
     "execution_count": 50,
     "metadata": {},
     "output_type": "execute_result"
    }
   ],
   "source": [
    "data_test[['sup_cub','sup_total','sup_descub','const_index']].isna().sum()"
   ]
  },
  {
   "cell_type": "code",
   "execution_count": null,
   "metadata": {},
   "outputs": [],
   "source": []
  },
  {
   "cell_type": "code",
   "execution_count": 51,
   "metadata": {},
   "outputs": [
    {
     "data": {
      "text/plain": [
       "sup_cub       0\n",
       "sup_total     0\n",
       "sup_descub    0\n",
       "dtype: int64"
      ]
     },
     "execution_count": 51,
     "metadata": {},
     "output_type": "execute_result"
    }
   ],
   "source": [
    "data_test[['sup_cub','sup_total','sup_descub']].isna().sum()"
   ]
  },
  {
   "cell_type": "markdown",
   "metadata": {},
   "source": [
    "## Definición de Variables adicionales"
   ]
  },
  {
   "cell_type": "code",
   "execution_count": 52,
   "metadata": {},
   "outputs": [],
   "source": [
    "data_train['cub_desc'] = data_train['sup_cub']*data_train['sup_descub']\n",
    "data_train['sup_por_room'] = data_train['sup_cub']/data_train['rooms']"
   ]
  },
  {
   "cell_type": "code",
   "execution_count": 53,
   "metadata": {},
   "outputs": [
    {
     "data": {
      "text/plain": [
       "sup_cub         0\n",
       "sup_total       0\n",
       "sup_descub      0\n",
       "cub_desc        0\n",
       "sup_por_room    0\n",
       "dtype: int64"
      ]
     },
     "execution_count": 53,
     "metadata": {},
     "output_type": "execute_result"
    }
   ],
   "source": [
    "data_train[['sup_cub','sup_total','sup_descub','cub_desc','sup_por_room']].isna().sum()"
   ]
  },
  {
   "cell_type": "code",
   "execution_count": 54,
   "metadata": {},
   "outputs": [],
   "source": [
    "data_test['cub_desc'] = data_test['sup_cub']*data_test['sup_descub']\n",
    "data_test['sup_por_room'] = data_test['sup_cub']/data_test['rooms']"
   ]
  },
  {
   "cell_type": "code",
   "execution_count": 55,
   "metadata": {},
   "outputs": [
    {
     "data": {
      "text/plain": [
       "sup_cub         0\n",
       "sup_total       0\n",
       "sup_descub      0\n",
       "cub_desc        0\n",
       "sup_por_room    0\n",
       "dtype: int64"
      ]
     },
     "execution_count": 55,
     "metadata": {},
     "output_type": "execute_result"
    }
   ],
   "source": [
    "data_test[['sup_cub','sup_total','sup_descub','cub_desc','sup_por_room']].isna().sum()"
   ]
  },
  {
   "cell_type": "markdown",
   "metadata": {},
   "source": [
    "## Modelo de Regresion Lineal"
   ]
  },
  {
   "cell_type": "code",
   "execution_count": 56,
   "metadata": {},
   "outputs": [
    {
     "name": "stdout",
     "output_type": "stream",
     "text": [
      "Columnas train: Index(['tipo_propiedad', 'Provincia', 'Zona', 'Localidad', 'place_name',\n",
      "       'cochera', 'gimnasio', 'piscina', 'SUM', 'laundry', 'balcon', 'patio',\n",
      "       'parrilla', 'floor', 'rooms', 'price_usd', 'sup_cub', 'sup_descub',\n",
      "       'sup_total', 'price_usd_per_m2', 'tipo_propiedad_apartment',\n",
      "       'tipo_propiedad_house', 'tipo_propiedad_store',\n",
      "       'Provincia_Buenos Aires Interior', 'Provincia_Córdoba',\n",
      "       'Provincia_Santa Fe', 'const_index', 'cub_desc', 'sup_por_room'],\n",
      "      dtype='object')\n"
     ]
    }
   ],
   "source": [
    "print(\"Columnas train: {}\".format(data_train.columns))"
   ]
  },
  {
   "cell_type": "code",
   "execution_count": 57,
   "metadata": {},
   "outputs": [],
   "source": [
    "x_columns_drop = ['tipo_propiedad','Provincia','Localidad','place_name','Zona','const_index','price_usd','price_usd_per_m2','sup_total']\n",
    "y_column = 'price_usd_per_m2'\n",
    "\n",
    "X_train = data_train.drop(columns=x_columns_drop)\n",
    "y_train = data_train[y_column]\n",
    "X_test = data_test.drop(columns=x_columns_drop)\n",
    "y_test = data_test[y_column]"
   ]
  },
  {
   "cell_type": "code",
   "execution_count": 58,
   "metadata": {},
   "outputs": [],
   "source": [
    "def print_metrics(y_real,y_pred):\n",
    "    print('MAE:', round(mean_absolute_error(y_real, y_pred),6))\n",
    "    print('MSE:', round(mean_squared_error(y_real, y_pred),6))\n",
    "    print('RMSE:', round(np.sqrt(mean_squared_error(y_real, y_pred)),6))\n",
    "    print('R2:', round(r2_score(y_real, y_pred),4))"
   ]
  },
  {
   "cell_type": "code",
   "execution_count": 59,
   "metadata": {},
   "outputs": [
    {
     "name": "stdout",
     "output_type": "stream",
     "text": [
      "Para el train set:\n",
      "MAE: 306.110178\n",
      "MSE: 168576.258341\n",
      "RMSE: 410.580392\n",
      "R2: 0.6478\n",
      "------------------------------\n",
      "Para el test set:\n",
      "MAE: 305.046135\n",
      "MSE: 162171.469423\n",
      "RMSE: 402.705189\n",
      "R2: 0.6506\n",
      "------------------------------\n"
     ]
    }
   ],
   "source": [
    "lm = LinearRegression()\n",
    "\n",
    "model_linreg = lm.fit(X_train, y_train)\n",
    "\n",
    "#Predicciones del modelo para el set de entrenamiento\n",
    "y_pred_tr_lm = model_linreg.predict(X_train)\n",
    "#Predicciones del modelo para el set de testeo\n",
    "y_pred_ts_lm = model_linreg.predict(X_test)\n",
    "\n",
    "#Métricas del modelo para el set de entrenamiento\n",
    "print(\"Para el train set:\")\n",
    "print_metrics(y_train,y_pred_tr_lm)\n",
    "print(\"------------------------------\")\n",
    "\n",
    "#Métricas del modelo para el set de testeo\n",
    "print(\"Para el test set:\")\n",
    "print_metrics(y_test,y_pred_ts_lm)\n",
    "print(\"------------------------------\")"
   ]
  },
  {
   "cell_type": "code",
   "execution_count": 60,
   "metadata": {},
   "outputs": [
    {
     "name": "stdout",
     "output_type": "stream",
     "text": [
      "[0.67430571 0.63819998 0.65831909 0.59618646 0.63706217]\n"
     ]
    }
   ],
   "source": [
    "print(cross_val_score(model_linreg, X_train, y_train, cv=5))  "
   ]
  },
  {
   "cell_type": "markdown",
   "metadata": {},
   "source": [
    "## Estandarizamos y corremos la misma regresion lineal"
   ]
  },
  {
   "cell_type": "code",
   "execution_count": 61,
   "metadata": {},
   "outputs": [],
   "source": [
    "stdscalerX = StandardScaler()\n",
    "\n",
    "X_train = data_train.drop(columns=x_columns_drop)\n",
    "y_train = data_train[y_column]\n",
    "X_test = data_test.drop(columns=x_columns_drop)\n",
    "y_test = data_test[y_column]\n",
    "\n",
    "Xs_train = stdscalerX.fit_transform(X_train)\n",
    "ys_train = y_train\n",
    "\n",
    "Xs_test = stdscalerX.transform(X_test)\n",
    "ys_test = y_test"
   ]
  },
  {
   "cell_type": "code",
   "execution_count": 62,
   "metadata": {},
   "outputs": [
    {
     "name": "stdout",
     "output_type": "stream",
     "text": [
      "Para el train set:\n",
      "MAE: 306.110178\n",
      "MSE: 168576.258341\n",
      "RMSE: 410.580392\n",
      "R2: 0.6478\n",
      "------------------------------\n",
      "Para el test set:\n",
      "MAE: 305.046135\n",
      "MSE: 162171.469423\n",
      "RMSE: 402.705189\n",
      "R2: 0.6506\n",
      "------------------------------\n"
     ]
    }
   ],
   "source": [
    "#lmreg = linear_model.LinearRegression()\n",
    "model_linreg_std = lm.fit(Xs_train,ys_train)\n",
    "\n",
    "#Predicciones del modelo para el set de entrenamiento\n",
    "y_pred_tr_lm = model_linreg_std.predict(Xs_train)\n",
    "#Predicciones del modelo para el set de testeo\n",
    "y_pred_ts_lm = model_linreg_std.predict(Xs_test)\n",
    "\n",
    "#Métricas del modelo para el set de entrenamiento\n",
    "print(\"Para el train set:\")\n",
    "print_metrics(ys_train,y_pred_tr_lm)\n",
    "print(\"------------------------------\")\n",
    "\n",
    "#Métricas del modelo para el set de testeo\n",
    "print(\"Para el test set:\")\n",
    "print_metrics(ys_test,y_pred_ts_lm)\n",
    "print(\"------------------------------\")"
   ]
  },
  {
   "cell_type": "markdown",
   "metadata": {},
   "source": [
    "##  Normalización Min-Max con misma Regresión Lineal"
   ]
  },
  {
   "cell_type": "code",
   "execution_count": 63,
   "metadata": {},
   "outputs": [],
   "source": [
    "from sklearn.preprocessing import MinMaxScaler\n",
    "\n",
    "minmaxscalerX = MinMaxScaler()\n",
    "X_train = data_train.drop(columns=x_columns_drop)\n",
    "y_train = data_train[y_column]\n",
    "X_test = data_test.drop(columns=x_columns_drop)\n",
    "y_test = data_test[y_column]\n",
    "\n",
    "Xn_train = minmaxscalerX.fit_transform(X_train)\n",
    "yn_train = y_train\n",
    "\n",
    "Xn_test = minmaxscalerX.transform(X_test)\n",
    "yn_test = y_test"
   ]
  },
  {
   "cell_type": "code",
   "execution_count": 64,
   "metadata": {},
   "outputs": [
    {
     "name": "stdout",
     "output_type": "stream",
     "text": [
      "Para el train set:\n",
      "MAE: 306.110178\n",
      "MSE: 168576.258341\n",
      "RMSE: 410.580392\n",
      "R2: 0.6478\n",
      "------------------------------\n",
      "Para el test set:\n",
      "MAE: 305.046135\n",
      "MSE: 162171.469423\n",
      "RMSE: 402.705189\n",
      "R2: 0.6506\n",
      "------------------------------\n"
     ]
    }
   ],
   "source": [
    "#lmreg = linear_model.LinearRegression()\n",
    "model_linreg_n = lm.fit(Xn_train,yn_train)\n",
    "\n",
    "#Predicciones del modelo para el set de entrenamiento\n",
    "y_pred_tr_lm = model_linreg_n.predict(Xn_train)\n",
    "#Predicciones del modelo para el set de testeo\n",
    "y_pred_ts_lm = model_linreg_n.predict(Xn_test)\n",
    "\n",
    "#Métricas del modelo para el set de entrenamiento\n",
    "print(\"Para el train set:\")\n",
    "print_metrics(yn_train,y_pred_tr_lm)\n",
    "print(\"------------------------------\")\n",
    "\n",
    "#Métricas del modelo para el set de testeo\n",
    "print(\"Para el test set:\")\n",
    "print_metrics(yn_test,y_pred_ts_lm)\n",
    "print(\"------------------------------\")"
   ]
  },
  {
   "cell_type": "markdown",
   "metadata": {},
   "source": [
    "Podemos observar que no hay diferencia al normalizar"
   ]
  },
  {
   "cell_type": "markdown",
   "metadata": {},
   "source": [
    "#  Modelo más complejo: Polinomios de orden superior"
   ]
  },
  {
   "cell_type": "code",
   "execution_count": 65,
   "metadata": {},
   "outputs": [],
   "source": [
    "from sklearn.preprocessing import PolynomialFeatures\n",
    "\n",
    "def get_poly_X(poly_vars,y_var,df_train,df_test,degree=2):\n",
    "    X_train = df_train[poly_vars]\n",
    "    y_train = df_train[y_var]\n",
    "    X_test = df_test[poly_vars]\n",
    "    y_test = df_test[y_var]\n",
    "    \n",
    "    X_train_pol = PolynomialFeatures(degree,include_bias=False,interaction_only=False).fit_transform(X_train)\n",
    "    X_test_pol = PolynomialFeatures(degree,include_bias=False,interaction_only=False).fit_transform(X_test)\n",
    "    \n",
    "    X_train_pol = np.concatenate((X_train_pol,df_train.drop(columns=poly_vars+y_var).values),axis=1)\n",
    "    X_test_pol = np.concatenate((X_test_pol,df_test.drop(columns=poly_vars+y_var).values),axis=1)\n",
    "    \n",
    "    return X_train_pol,X_test_pol"
   ]
  },
  {
   "cell_type": "markdown",
   "metadata": {},
   "source": [
    "## Creación de features polinomiales grado 2"
   ]
  },
  {
   "cell_type": "code",
   "execution_count": 66,
   "metadata": {},
   "outputs": [
    {
     "data": {
      "text/plain": [
       "Index(['tipo_propiedad', 'Provincia', 'Zona', 'Localidad', 'place_name',\n",
       "       'cochera', 'gimnasio', 'piscina', 'SUM', 'laundry', 'balcon', 'patio',\n",
       "       'parrilla', 'floor', 'rooms', 'price_usd', 'sup_cub', 'sup_descub',\n",
       "       'sup_total', 'price_usd_per_m2', 'tipo_propiedad_apartment',\n",
       "       'tipo_propiedad_house', 'tipo_propiedad_store',\n",
       "       'Provincia_Buenos Aires Interior', 'Provincia_Córdoba',\n",
       "       'Provincia_Santa Fe', 'const_index', 'cub_desc', 'sup_por_room'],\n",
       "      dtype='object')"
      ]
     },
     "execution_count": 66,
     "metadata": {},
     "output_type": "execute_result"
    }
   ],
   "source": [
    "data_train.columns"
   ]
  },
  {
   "cell_type": "code",
   "execution_count": 67,
   "metadata": {},
   "outputs": [],
   "source": [
    "poly_vars = ['floor','rooms','sup_cub','sup_descub','sup_por_room']\n",
    "y_column = ['price_usd_per_m2']\n",
    "poly_drop = ['tipo_propiedad', 'Provincia','Zona','Localidad','place_name','price_usd','sup_total','const_index','cub_desc']\n",
    "data_train2 = data_train.drop(columns=poly_drop).copy()\n",
    "data_test2 = data_test.drop(columns=poly_drop).copy()\n",
    "\n",
    "X_train_pol2,X_test_pol2 = get_poly_X(poly_vars = poly_vars, y_var = y_column, df_train = data_train2, df_test = data_test2,degree=2)\n",
    "y_train = data_train2[y_column[0]]\n",
    "y_test = data_test2[y_column[0]]"
   ]
  },
  {
   "cell_type": "code",
   "execution_count": 68,
   "metadata": {},
   "outputs": [
    {
     "name": "stdout",
     "output_type": "stream",
     "text": [
      "Para el train set:\n",
      "MAE: 298.758169\n",
      "MSE: 160226.645865\n",
      "RMSE: 400.283207\n",
      "R2: 0.6653\n",
      "------------------------------\n",
      "Para el test set:\n",
      "MAE: 298.106615\n",
      "MSE: 156259.696171\n",
      "RMSE: 395.296972\n",
      "R2: 0.6633\n",
      "------------------------------\n"
     ]
    }
   ],
   "source": [
    "#lmreg = linear_model.LinearRegression()\n",
    "model_linreg_pol = lm.fit(X_train_pol2,y_train)\n",
    "\n",
    "#Predicciones del modelo para el set de entrenamiento\n",
    "y_pred_tr_lm = model_linreg_pol.predict(X_train_pol2)\n",
    "#Predicciones del modelo para el set de testeo\n",
    "y_pred_ts_lm = model_linreg_pol.predict(X_test_pol2)\n",
    "\n",
    "#Métricas del modelo para el set de entrenamiento\n",
    "print(\"Para el train set:\")\n",
    "print_metrics(y_train,y_pred_tr_lm)\n",
    "print(\"------------------------------\")\n",
    "\n",
    "#Métricas del modelo para el set de testeo\n",
    "print(\"Para el test set:\")\n",
    "print_metrics(y_test,y_pred_ts_lm)\n",
    "print(\"------------------------------\")"
   ]
  },
  {
   "cell_type": "markdown",
   "metadata": {},
   "source": [
    "## Creación de features polinomiales grado 3"
   ]
  },
  {
   "cell_type": "code",
   "execution_count": 69,
   "metadata": {},
   "outputs": [],
   "source": [
    "poly_vars = ['floor','rooms','sup_cub','sup_descub','sup_por_room']\n",
    "y_column = ['price_usd_per_m2']\n",
    "poly_drop = ['tipo_propiedad', 'Provincia','Zona','Localidad','place_name','price_usd','sup_total','const_index','cub_desc']\n",
    "data_train3 = data_train.drop(columns=poly_drop).copy()\n",
    "data_test3 = data_test.drop(columns=poly_drop).copy()\n",
    "\n",
    "X_train_pol3,X_test_pol3 = get_poly_X(poly_vars = poly_vars, y_var = y_column, df_train = data_train3, df_test = data_test3,degree=3)\n",
    "y_train = data_train2[y_column[0]]\n",
    "y_test = data_test2[y_column[0]]"
   ]
  },
  {
   "cell_type": "code",
   "execution_count": 70,
   "metadata": {},
   "outputs": [
    {
     "name": "stdout",
     "output_type": "stream",
     "text": [
      "Para el train set:\n",
      "MAE: 284.33072\n",
      "MSE: 149599.42647\n",
      "RMSE: 386.780851\n",
      "R2: 0.6875\n",
      "------------------------------\n",
      "Para el test set:\n",
      "MAE: 283.865562\n",
      "MSE: 148418.126954\n",
      "RMSE: 385.250733\n",
      "R2: 0.6802\n",
      "------------------------------\n"
     ]
    }
   ],
   "source": [
    "#lmreg = linear_model.LinearRegression()\n",
    "model_linreg_pol = lm.fit(X_train_pol3,y_train)\n",
    "\n",
    "#Predicciones del modelo para el set de entrenamiento\n",
    "y_pred_tr_lm = model_linreg_pol.predict(X_train_pol3)\n",
    "#Predicciones del modelo para el set de testeo\n",
    "y_pred_ts_lm = model_linreg_pol.predict(X_test_pol3)\n",
    "\n",
    "#Métricas del modelo para el set de entrenamiento\n",
    "print(\"Para el train set:\")\n",
    "print_metrics(y_train,y_pred_tr_lm)\n",
    "print(\"------------------------------\")\n",
    "\n",
    "#Métricas del modelo para el set de testeo\n",
    "print(\"Para el test set:\")\n",
    "print_metrics(y_test,y_pred_ts_lm)\n",
    "print(\"------------------------------\")"
   ]
  },
  {
   "cell_type": "markdown",
   "metadata": {},
   "source": []
  },
  {
   "cell_type": "markdown",
   "metadata": {},
   "source": [
    "# Regularización"
   ]
  },
  {
   "cell_type": "code",
   "execution_count": 71,
   "metadata": {},
   "outputs": [],
   "source": [
    "# Generamos un grid de $\\alpha$ para probar e instanciamos un particionador del Training Set \n",
    "# en K partes para realizar la validación cruzada\n",
    "\n",
    "al_ridge = np.linspace(1, 50, 100)\n",
    "al_lasso = np.linspace(0.1, 5, 100)\n",
    "kf = KFold(n_splits=5, shuffle=True, random_state=12)\n",
    "\n",
    "#al_ridge = (0.01,0.1,1)\n",
    "#al_lasso = (1,10,100)\n",
    "\n",
    "# Instanciamos los modelos\n",
    "\n",
    "lm = LinearRegression()\n",
    "lm_ridge_cv= RidgeCV(alphas=al_ridge, cv=kf, normalize=False)\n",
    "lm_lasso_cv = LassoCV(alphas=al_lasso, cv=kf, normalize=False)"
   ]
  },
  {
   "cell_type": "markdown",
   "metadata": {},
   "source": [
    "## Comparación de LR, Lasso y Ridge con features originales"
   ]
  },
  {
   "cell_type": "code",
   "execution_count": 72,
   "metadata": {},
   "outputs": [],
   "source": [
    "X_train = data_train.drop(columns=x_columns_drop)\n",
    "y_train = data_train[y_column]\n",
    "X_test = data_test.drop(columns=x_columns_drop)\n",
    "y_test = data_test[y_column]\n",
    "\n",
    "Xs_train = stdscalerX.fit_transform(X_train)\n",
    "ys_train = y_train\n",
    "\n",
    "Xs_test = stdscalerX.transform(X_test)\n",
    "ys_test = y_test"
   ]
  },
  {
   "cell_type": "code",
   "execution_count": 73,
   "metadata": {},
   "outputs": [],
   "source": [
    "model_linreg = lm.fit(Xs_train, ys_train)"
   ]
  },
  {
   "cell_type": "code",
   "execution_count": 74,
   "metadata": {},
   "outputs": [],
   "source": [
    "model_lin_ridge = lm_ridge_cv.fit(Xs_train, np.ravel(ys_train))"
   ]
  },
  {
   "cell_type": "code",
   "execution_count": 75,
   "metadata": {},
   "outputs": [],
   "source": [
    "model_lin_lasso = lm_lasso_cv.fit(Xs_train, np.ravel(ys_train))"
   ]
  },
  {
   "cell_type": "code",
   "execution_count": 76,
   "metadata": {},
   "outputs": [
    {
     "name": "stdout",
     "output_type": "stream",
     "text": [
      "Alpha Ridge: 27.232323232323232 \n",
      "Alpha LASSO: 0.1 \n",
      "\n"
     ]
    }
   ],
   "source": [
    "print('Alpha Ridge:',model_lin_ridge.alpha_,'\\n'\n",
    "      'Alpha LASSO:',model_lin_lasso.alpha_,'\\n')"
   ]
  },
  {
   "cell_type": "code",
   "execution_count": 77,
   "metadata": {},
   "outputs": [
    {
     "name": "stdout",
     "output_type": "stream",
     "text": [
      " Score Train Lineal: 0.6478\n",
      " Score Train Ridge : 0.6478\n",
      " Score Train Lasso : 0.6478\n",
      "\n",
      " Train RMSE lineal   : 410.5804 \n",
      " Train RMSE Ridge    : 410.6114 \n",
      " Train RMSE Lasso    : 410.5811 \n",
      "\n"
     ]
    }
   ],
   "source": [
    "# Calculamos el R2\n",
    "\n",
    "print(\" Score Train Lineal: %.4f\\n\" % model_linreg.score(Xs_train, ys_train),\n",
    "      \"Score Train Ridge : %.4f\\n\" % model_lin_ridge.score(Xs_train, ys_train),\n",
    "      \"Score Train Lasso : %.4f\\n\" %  model_lin_lasso.score(Xs_train, ys_train))\n",
    "\n",
    "# Calculamos el RMSE\n",
    "\n",
    "ys_pred_tr_lm = model_linreg.predict(Xs_train)\n",
    "ys_pred_tr_ridge = model_lin_ridge.predict(Xs_train)\n",
    "ys_pred_tr_lasso = model_lin_lasso.predict(Xs_train)\n",
    "\n",
    "rmse = lambda y, y_pred: np.sqrt(mean_squared_error(y, y_pred))\n",
    "\n",
    "print(\" Train RMSE lineal   : %.4f \\n\" % rmse(ys_train,ys_pred_tr_lm),\n",
    "      \"Train RMSE Ridge    : %.4f \\n\" % rmse(ys_train,ys_pred_tr_ridge),\n",
    "      \"Train RMSE Lasso    : %.4f \\n\" % rmse(ys_train,ys_pred_tr_lasso))"
   ]
  },
  {
   "cell_type": "code",
   "execution_count": 78,
   "metadata": {},
   "outputs": [
    {
     "name": "stdout",
     "output_type": "stream",
     "text": [
      " Score Test Lineal: 0.6506\n",
      " Score Test Ridge : 0.6504\n",
      " Score Test Lasso : 0.6506\n",
      "\n",
      " Test RMSE lineal= 402.7052\n",
      " Test RMSE Ridge = 402.8202\n",
      " Test RMSE Lasso = 402.6956\n"
     ]
    }
   ],
   "source": [
    "# Hacemos las predicciones sobre la matriz de predictores del Test Set\n",
    "\n",
    "ys_pred_lm = model_linreg.predict(Xs_test)\n",
    "ys_pred_ridge = model_lin_ridge.predict(Xs_test)\n",
    "ys_pred_lasso = model_lin_lasso.predict(Xs_test)\n",
    "\n",
    "\n",
    "print(\" Score Test Lineal: %.4f\\n\" % model_linreg.score(Xs_test, ys_test),\n",
    "      \"Score Test Ridge : %.4f\\n\" % model_lin_ridge.score(Xs_test, ys_test),\n",
    "      \"Score Test Lasso : %.4f\\n\" %  model_lin_lasso.score(Xs_test, ys_test))\n",
    "\n",
    "# Testeo final del modelo sobre Test Set\n",
    "\n",
    "print(\" Test RMSE lineal= %.4f\\n\" % rmse(ys_test, ys_pred_lm),\n",
    "      \"Test RMSE Ridge = %.4f\\n\" %  rmse(ys_test, ys_pred_ridge),\n",
    "      \"Test RMSE Lasso = %.4f\" %  rmse(ys_test, ys_pred_lasso))"
   ]
  },
  {
   "cell_type": "code",
   "execution_count": 79,
   "metadata": {},
   "outputs": [],
   "source": [
    "r2_train_lin_d1 = model_linreg.score(Xs_train, ys_train)\n",
    "r2_test_lin_d1 = model_linreg.score(Xs_test, ys_test)\n",
    "\n",
    "r2_train_ridge_d1 = model_lin_ridge.score(Xs_train, ys_train)\n",
    "r2_test_ridge_d1 = model_lin_ridge.score(Xs_test, ys_test)\n",
    "\n",
    "r2_train_lasso_d1 = model_lin_lasso.score(Xs_train, ys_train)\n",
    "r2_test_lasso_d1 = model_lin_lasso.score(Xs_test, ys_test)"
   ]
  },
  {
   "cell_type": "code",
   "execution_count": 80,
   "metadata": {},
   "outputs": [
    {
     "data": {
      "text/plain": [
       "(array([1267.26]),\n",
       " array([[  31.228,   29.685,   65.423,    7.709,   12.027,   43.978,\n",
       "          -30.919,  -13.756,  105.09 ,  -84.849,  -23.128, -317.144,\n",
       "          121.062,  -66.497,   33.866,  -45.941, -157.265, -105.834,\n",
       "          155.134,  -64.389]]))"
      ]
     },
     "execution_count": 80,
     "metadata": {},
     "output_type": "execute_result"
    }
   ],
   "source": [
    "np.set_printoptions(precision=3, suppress=True)\n",
    "\n",
    "(model_linreg.intercept_, model_linreg.coef_)"
   ]
  },
  {
   "cell_type": "code",
   "execution_count": 81,
   "metadata": {},
   "outputs": [
    {
     "data": {
      "text/plain": [
       "(1267.2601585534849,\n",
       " array([  30.958,   29.591,   65.083,    7.616,   12.146,   43.959,\n",
       "         -30.763,  -13.382,  108.815,  -83.092,  -20.701, -304.037,\n",
       "         116.566,  -71.64 ,   33.311,  -45.565, -156.119, -104.567,\n",
       "         142.527,  -62.815]))"
      ]
     },
     "execution_count": 81,
     "metadata": {},
     "output_type": "execute_result"
    }
   ],
   "source": [
    "(model_lin_ridge.intercept_,model_lin_ridge.coef_)"
   ]
  },
  {
   "cell_type": "code",
   "execution_count": 82,
   "metadata": {},
   "outputs": [
    {
     "data": {
      "text/plain": [
       "(1267.2601585534849,\n",
       " array([  31.065,   29.627,   65.295,    7.611,   11.905,   43.883,\n",
       "         -30.819,  -13.514,  109.656,  -84.568,  -22.842, -315.841,\n",
       "         116.83 ,  -66.712,   33.755,  -45.78 , -157.009, -105.521,\n",
       "         153.777,  -64.125]))"
      ]
     },
     "execution_count": 82,
     "metadata": {},
     "output_type": "execute_result"
    }
   ],
   "source": [
    "(model_lin_lasso.intercept_,model_lin_lasso.coef_)"
   ]
  },
  {
   "cell_type": "code",
   "execution_count": null,
   "metadata": {},
   "outputs": [],
   "source": []
  },
  {
   "cell_type": "markdown",
   "metadata": {},
   "source": [
    "## Modelos de Regresión Lineal, Ridge y Lasso con features de orden 2"
   ]
  },
  {
   "cell_type": "code",
   "execution_count": null,
   "metadata": {},
   "outputs": [],
   "source": []
  },
  {
   "cell_type": "code",
   "execution_count": 83,
   "metadata": {},
   "outputs": [
    {
     "data": {
      "text/plain": [
       "(array([[  0. ,   1. ,  90. , ...,   0. ,   1. ,   0. ],\n",
       "        [  3. ,   1. ,  45. , ...,   0. ,   0. ,   1. ],\n",
       "        [  0. ,   2. ,  22.5, ...,   0. ,   1. ,   0. ],\n",
       "        ...,\n",
       "        [  0. ,   6. , 260. , ...,   0. ,   0. ,   0. ],\n",
       "        [  0. ,   5. , 330. , ...,   0. ,   1. ,   0. ],\n",
       "        [  0. ,   3. , 120. , ...,   1. ,   0. ,   0. ]]),\n",
       " array([[  0.,   5., 320., ...,   0.,   1.,   0.],\n",
       "        [  0.,   6., 174., ...,   1.,   0.,   0.],\n",
       "        [  0.,   5., 185., ...,   0.,   0.,   0.],\n",
       "        ...,\n",
       "        [  0.,   3.,  75., ...,   0.,   0.,   0.],\n",
       "        [  3.,   2.,  45., ...,   0.,   1.,   0.],\n",
       "        [  3.,   1.,  26., ...,   0.,   0.,   1.]]))"
      ]
     },
     "execution_count": 83,
     "metadata": {},
     "output_type": "execute_result"
    }
   ],
   "source": [
    "poly_vars = ['floor','rooms','sup_cub','sup_descub','sup_por_room']\n",
    "y_column = ['price_usd_per_m2']\n",
    "poly_drop = ['tipo_propiedad', 'Provincia','Zona','Localidad','place_name','price_usd','sup_total','const_index','cub_desc']\n",
    "data_train2 = data_train.drop(columns=poly_drop).copy()\n",
    "data_test2 = data_test.drop(columns=poly_drop).copy()\n",
    "\n",
    "get_poly_X(poly_vars = poly_vars, y_var = y_column, df_train = data_train2, df_test = data_test2,degree=2)"
   ]
  },
  {
   "cell_type": "code",
   "execution_count": 84,
   "metadata": {},
   "outputs": [],
   "source": [
    "poly_vars = ['floor','rooms','sup_cub','sup_descub','sup_por_room']\n",
    "y_column = ['price_usd_per_m2']\n",
    "poly_drop = ['tipo_propiedad', 'Provincia','Zona','Localidad','place_name','price_usd','sup_total','const_index','cub_desc']\n",
    "data_train2 = data_train.drop(columns=poly_drop).copy()\n",
    "data_test2 = data_test.drop(columns=poly_drop).copy()\n",
    "\n",
    "X_train_pol2,X_test_pol2 = get_poly_X(poly_vars = poly_vars, y_var = y_column, df_train = data_train2, df_test = data_test2,degree=2)"
   ]
  },
  {
   "cell_type": "code",
   "execution_count": 85,
   "metadata": {},
   "outputs": [],
   "source": [
    "Xs_train_pol2 = stdscalerX.fit_transform(X_train_pol2)\n",
    "ys_train_pol2 = y_train\n",
    "\n",
    "Xs_test_pol2 = stdscalerX.transform(X_test_pol2)\n",
    "ys_test_pol2 = y_test\n"
   ]
  },
  {
   "cell_type": "code",
   "execution_count": 86,
   "metadata": {},
   "outputs": [],
   "source": [
    "# Generamos un grid de $\\alpha$ para probar e instanciamos un particionador del Training Set \n",
    "# en K partes para realizar la validación cruzada\n",
    "\n",
    "al_ridge = np.linspace(200, 250, 100)\n",
    "#print(al_ridge)\n",
    "#al_ridge = (1,10,100)\n",
    "al_lasso = np.linspace(1, 10, 100)\n",
    "#al_lasso = (0.1,1,10)\n",
    "kf = KFold(n_splits=5, shuffle=True, random_state=12)\n",
    "\n",
    "# Instanciamos los modelos\n",
    "\n",
    "lm = LinearRegression()\n",
    "lm_ridge_cv2= RidgeCV(alphas=al_ridge, cv=kf, normalize=False)\n",
    "lm_lasso_cv2 = LassoCV(alphas=al_lasso, cv=kf, normalize=False,max_iter=10000)"
   ]
  },
  {
   "cell_type": "code",
   "execution_count": 87,
   "metadata": {},
   "outputs": [],
   "source": [
    "model_linreg2 = lm.fit(Xs_train_pol2, ys_train_pol2)"
   ]
  },
  {
   "cell_type": "code",
   "execution_count": 88,
   "metadata": {},
   "outputs": [],
   "source": [
    "model_lin_ridge2 = lm_ridge_cv2.fit(Xs_train_pol2, np.ravel(ys_train_pol2))"
   ]
  },
  {
   "cell_type": "code",
   "execution_count": 89,
   "metadata": {},
   "outputs": [],
   "source": [
    "model_lin_lasso2 = lm_lasso_cv2.fit(Xs_train_pol2, np.ravel(ys_train_pol2))"
   ]
  },
  {
   "cell_type": "code",
   "execution_count": 90,
   "metadata": {},
   "outputs": [
    {
     "name": "stdout",
     "output_type": "stream",
     "text": [
      "Alpha Ridge: 224.24242424242425 \n",
      "Alpha LASSO: 5.7272727272727275 \n",
      "\n"
     ]
    }
   ],
   "source": [
    "print('Alpha Ridge:',model_lin_ridge2.alpha_,'\\n'\n",
    "      'Alpha LASSO:',model_lin_lasso2.alpha_,'\\n')"
   ]
  },
  {
   "cell_type": "code",
   "execution_count": 91,
   "metadata": {},
   "outputs": [
    {
     "name": "stdout",
     "output_type": "stream",
     "text": [
      " Score Train Lineal: 0.665290\n",
      " Score Train Ridge : 0.659684\n",
      " Score Train Lasso : 0.657630\n",
      "\n",
      " Train RMSE lineal   : 400.2832 \n",
      " Train RMSE Ridge    : 403.6215 \n",
      " Train RMSE Lasso    : 404.8375 \n",
      "\n"
     ]
    }
   ],
   "source": [
    "# Calculamos el R2\n",
    "\n",
    "print(\" Score Train Lineal: %.6f\\n\" % model_linreg2.score(Xs_train_pol2, ys_train_pol2),\n",
    "      \"Score Train Ridge : %.6f\\n\" % model_lin_ridge2.score(Xs_train_pol2, ys_train_pol2),\n",
    "      \"Score Train Lasso : %.6f\\n\" %  model_lin_lasso2.score(Xs_train_pol2, ys_train_pol2))\n",
    "\n",
    "# Calculamos el RMSE\n",
    "\n",
    "ys_pred_tr_lm = model_linreg2.predict(Xs_train_pol2)\n",
    "ys_pred_tr_ridge = model_lin_ridge2.predict(Xs_train_pol2)\n",
    "ys_pred_tr_lasso = model_lin_lasso2.predict(Xs_train_pol2)\n",
    "\n",
    "rmse = lambda y, y_pred: np.sqrt(mean_squared_error(y, y_pred))\n",
    "\n",
    "print(\" Train RMSE lineal   : %.4f \\n\" % rmse(ys_train_pol2,ys_pred_tr_lm),\n",
    "      \"Train RMSE Ridge    : %.4f \\n\" % rmse(ys_train_pol2,ys_pred_tr_ridge),\n",
    "      \"Train RMSE Lasso    : %.4f \\n\" % rmse(ys_train_pol2,ys_pred_tr_lasso))"
   ]
  },
  {
   "cell_type": "code",
   "execution_count": 92,
   "metadata": {},
   "outputs": [
    {
     "name": "stdout",
     "output_type": "stream",
     "text": [
      " Score Test Lineal: 0.663330\n",
      " Score Test Ridge : 0.657364\n",
      " Score Test Lasso : 0.656167\n",
      "\n",
      " Test RMSE lineal= 395.30\n",
      " Test RMSE Ridge = 398.78\n",
      " Test RMSE Lasso = 399.48\n"
     ]
    }
   ],
   "source": [
    "# Hacemos las predicciones sobre la matriz de predictores del Test Set\n",
    "\n",
    "ys_pred_lm = model_linreg2.predict(Xs_test_pol2)\n",
    "ys_pred_ridge = model_lin_ridge2.predict(Xs_test_pol2)\n",
    "ys_pred_lasso = model_lin_lasso2.predict(Xs_test_pol2)\n",
    "\n",
    "\n",
    "print(\" Score Test Lineal: %.6f\\n\" % model_linreg2.score(Xs_test_pol2, ys_test_pol2),\n",
    "      \"Score Test Ridge : %.6f\\n\" % model_lin_ridge2.score(Xs_test_pol2, ys_test_pol2),\n",
    "      \"Score Test Lasso : %.6f\\n\" %  model_lin_lasso2.score(Xs_test_pol2, ys_test_pol2))\n",
    "\n",
    "# Testeo final del modelo sobre Test Set\n",
    "\n",
    "print(\" Test RMSE lineal= %.2f\\n\" % rmse(ys_test_pol2, ys_pred_lm),\n",
    "      \"Test RMSE Ridge = %.2f\\n\" %  rmse(ys_test_pol2, ys_pred_ridge),\n",
    "      \"Test RMSE Lasso = %.2f\" %  rmse(ys_test_pol2, ys_pred_lasso))"
   ]
  },
  {
   "cell_type": "markdown",
   "metadata": {},
   "source": [
    "* ¿Cuáles son los parámetros de cada modelo?"
   ]
  },
  {
   "cell_type": "code",
   "execution_count": 93,
   "metadata": {},
   "outputs": [],
   "source": [
    "r2_train_lin_d2 = model_linreg2.score(Xs_train_pol2, ys_train_pol2)\n",
    "r2_test_lin_d2 = model_linreg2.score(Xs_test_pol2, ys_test_pol2)\n",
    "\n",
    "r2_train_ridge_d2 = model_lin_ridge2.score(Xs_train_pol2, ys_train_pol2)\n",
    "r2_test_ridge_d2 = model_lin_ridge2.score(Xs_test_pol2, ys_test_pol2)\n",
    "\n",
    "r2_train_lasso_d2 = model_lin_lasso2.score(Xs_train_pol2, ys_train_pol2)\n",
    "r2_test_lasso_d2 = model_lin_lasso2.score(Xs_test_pol2, ys_test_pol2)"
   ]
  },
  {
   "cell_type": "code",
   "execution_count": 94,
   "metadata": {},
   "outputs": [
    {
     "data": {
      "text/plain": [
       "(array([1267.26]),\n",
       " array([[  31.228,   29.685,   65.423,    7.709,   12.027,   43.978,\n",
       "          -30.919,  -13.756,  105.09 ,  -84.849,  -23.128, -317.144,\n",
       "          121.062,  -66.497,   33.866,  -45.941, -157.265, -105.834,\n",
       "          155.134,  -64.389]]))"
      ]
     },
     "execution_count": 94,
     "metadata": {},
     "output_type": "execute_result"
    }
   ],
   "source": [
    "np.set_printoptions(precision=3, suppress=True)\n",
    "\n",
    "(model_linreg.intercept_, model_linreg.coef_)"
   ]
  },
  {
   "cell_type": "code",
   "execution_count": 95,
   "metadata": {},
   "outputs": [
    {
     "data": {
      "text/plain": [
       "(1267.2601585534849,\n",
       " array([  31.065,   29.627,   65.295,    7.611,   11.905,   43.883,\n",
       "         -30.819,  -13.514,  109.656,  -84.568,  -22.842, -315.841,\n",
       "         116.83 ,  -66.712,   33.755,  -45.78 , -157.009, -105.521,\n",
       "         153.777,  -64.125]))"
      ]
     },
     "execution_count": 95,
     "metadata": {},
     "output_type": "execute_result"
    }
   ],
   "source": [
    "(model_lin_lasso.intercept_,model_lin_lasso.coef_)"
   ]
  },
  {
   "cell_type": "markdown",
   "metadata": {},
   "source": [
    "## Modelos de Regresión Lineal, Ridge y Lasso con features de orden 3"
   ]
  },
  {
   "cell_type": "code",
   "execution_count": 96,
   "metadata": {},
   "outputs": [
    {
     "data": {
      "text/plain": [
       "((6642, 69), (2847, 69))"
      ]
     },
     "execution_count": 96,
     "metadata": {},
     "output_type": "execute_result"
    }
   ],
   "source": [
    "poly_vars = ['floor','rooms','sup_cub','sup_descub','sup_por_room']\n",
    "y_column = ['price_usd_per_m2']\n",
    "poly_drop = ['tipo_propiedad', 'Provincia','Zona','Localidad','place_name','price_usd','sup_total','const_index','cub_desc']\n",
    "data_train3 = data_train.drop(columns=poly_drop).copy()\n",
    "data_test3 = data_test.drop(columns=poly_drop).copy()\n",
    "\n",
    "X_train_pol3,X_test_pol3 = get_poly_X(poly_vars = poly_vars, y_var = y_column, df_train = data_train3, df_test = data_test3,degree=3)\n",
    "X_train_pol3.shape,X_test_pol3.shape"
   ]
  },
  {
   "cell_type": "code",
   "execution_count": 97,
   "metadata": {},
   "outputs": [],
   "source": [
    "Xs_train_pol3 = stdscalerX.fit_transform(X_train_pol3)\n",
    "ys_train_pol3 = y_train\n",
    "\n",
    "Xs_test_pol3 = stdscalerX.transform(X_test_pol3)\n",
    "ys_test_pol3 = y_test"
   ]
  },
  {
   "cell_type": "code",
   "execution_count": 98,
   "metadata": {},
   "outputs": [],
   "source": [
    "# Generamos un grid de $\\alpha$ para probar e instanciamos un particionador del Training Set \n",
    "# en K partes para realizar la validación cruzada\n",
    "\n",
    "al_ridge = np.linspace(900, 1000, 100)\n",
    "#al_ridge = (0.1,1,10)\n",
    "al_lasso = np.linspace(0.1, 1, 100)\n",
    "#al_lasso = (0.1,1,10)\n",
    "kf = KFold(n_splits=5, shuffle=True, random_state=12)\n",
    "\n",
    "# Instanciamos los modelos\n",
    "\n",
    "lm = LinearRegression()\n",
    "lm_ridge_cv3= RidgeCV(alphas=al_ridge, cv=kf, normalize=False)\n",
    "lm_lasso_cv3 = LassoCV(alphas=al_lasso, cv=kf, normalize=False,max_iter=1000000)"
   ]
  },
  {
   "cell_type": "code",
   "execution_count": 99,
   "metadata": {},
   "outputs": [],
   "source": [
    "model_linreg3 = lm.fit(Xs_train_pol3, ys_train_pol3)"
   ]
  },
  {
   "cell_type": "code",
   "execution_count": 100,
   "metadata": {},
   "outputs": [
    {
     "name": "stdout",
     "output_type": "stream",
     "text": [
      "Alpha Ridge:  900.0\n"
     ]
    }
   ],
   "source": [
    "model_lin_ridge3 = lm_ridge_cv3.fit(Xs_train_pol3, np.ravel(ys_train_pol3))\n",
    "print('Alpha Ridge: ',model_lin_ridge3.alpha_)"
   ]
  },
  {
   "cell_type": "code",
   "execution_count": 101,
   "metadata": {},
   "outputs": [
    {
     "name": "stdout",
     "output_type": "stream",
     "text": [
      "Alpha Lasso:  0.34545454545454546\n"
     ]
    }
   ],
   "source": [
    "model_lin_lasso3 = lm_lasso_cv3.fit(Xs_train_pol3, np.ravel(ys_train_pol3))\n",
    "print('Alpha Lasso: ',model_lin_lasso3.alpha_)"
   ]
  },
  {
   "cell_type": "code",
   "execution_count": 102,
   "metadata": {},
   "outputs": [
    {
     "name": "stdout",
     "output_type": "stream",
     "text": [
      "Alpha Ridge: 900.0 \n",
      "Alpha LASSO: 0.34545454545454546 \n",
      "\n"
     ]
    }
   ],
   "source": [
    "print('Alpha Ridge:',model_lin_ridge3.alpha_,'\\n'\n",
    "      'Alpha LASSO:',model_lin_lasso3.alpha_,'\\n')"
   ]
  },
  {
   "cell_type": "code",
   "execution_count": 103,
   "metadata": {},
   "outputs": [
    {
     "name": "stdout",
     "output_type": "stream",
     "text": [
      " Score Train Lineal: 0.6875\n",
      " Score Train Ridge : 0.6631\n",
      " Score Train Lasso : 0.6831\n",
      "\n",
      " Train RMSE lineal   : 386.78 \n",
      " Train RMSE Ridge    : 401.56 \n",
      " Train RMSE Lasso    : 389.47 \n",
      "\n"
     ]
    }
   ],
   "source": [
    "# Calculamos el R2\n",
    "\n",
    "print(\" Score Train Lineal: %.4f\\n\" % model_linreg3.score(Xs_train_pol3, ys_train_pol3),\n",
    "      \"Score Train Ridge : %.4f\\n\" % model_lin_ridge3.score(Xs_train_pol3, ys_train_pol3),\n",
    "      \"Score Train Lasso : %.4f\\n\" %  model_lin_lasso3.score(Xs_train_pol3, ys_train_pol3))\n",
    "\n",
    "# Calculamos el RMSE\n",
    "\n",
    "ys_pred_tr_lm = model_linreg3.predict(Xs_train_pol3)\n",
    "ys_pred_tr_ridge = model_lin_ridge3.predict(Xs_train_pol3)\n",
    "ys_pred_tr_lasso = model_lin_lasso3.predict(Xs_train_pol3)\n",
    "\n",
    "rmse = lambda y, y_pred: np.sqrt(mean_squared_error(y, y_pred))\n",
    "\n",
    "print(\" Train RMSE lineal   : %.2f \\n\" % rmse(ys_train_pol3,ys_pred_tr_lm),\n",
    "      \"Train RMSE Ridge    : %.2f \\n\" % rmse(ys_train_pol3,ys_pred_tr_ridge),\n",
    "      \"Train RMSE Lasso    : %.2f \\n\" % rmse(ys_train_pol3,ys_pred_tr_lasso))"
   ]
  },
  {
   "cell_type": "code",
   "execution_count": 104,
   "metadata": {},
   "outputs": [
    {
     "name": "stdout",
     "output_type": "stream",
     "text": [
      " Score Test Lineal: 0.680225\n",
      " Score Test Ridge : 0.658820\n",
      " Score Test Lasso : 0.673742\n",
      "\n",
      " Test RMSE lineal= 385.25\n",
      " Test RMSE Ridge = 397.94\n",
      " Test RMSE Lasso = 389.14\n"
     ]
    }
   ],
   "source": [
    "# Hacemos las predicciones sobre la matriz de predictores del Test Set\n",
    "\n",
    "ys_pred_lm = model_linreg3.predict(Xs_test_pol3)\n",
    "ys_pred_ridge = model_lin_ridge3.predict(Xs_test_pol3)\n",
    "ys_pred_lasso = model_lin_lasso3.predict(Xs_test_pol3)\n",
    "\n",
    "\n",
    "print(\" Score Test Lineal: %.6f\\n\" % model_linreg3.score(Xs_test_pol3, ys_test_pol3),\n",
    "      \"Score Test Ridge : %.6f\\n\" % model_lin_ridge3.score(Xs_test_pol3, ys_test_pol3),\n",
    "      \"Score Test Lasso : %.6f\\n\" %  model_lin_lasso3.score(Xs_test_pol3, ys_test_pol3))\n",
    "\n",
    "# Testeo final del modelo sobre Test Set\n",
    "\n",
    "print(\" Test RMSE lineal= %.2f\\n\" % rmse(ys_test_pol3, ys_pred_lm),\n",
    "      \"Test RMSE Ridge = %.2f\\n\" %  rmse(ys_test_pol3, ys_pred_ridge),\n",
    "      \"Test RMSE Lasso = %.2f\" %  rmse(ys_test_pol3, ys_pred_lasso))"
   ]
  },
  {
   "cell_type": "code",
   "execution_count": null,
   "metadata": {},
   "outputs": [],
   "source": []
  },
  {
   "cell_type": "markdown",
   "metadata": {},
   "source": [
    "* ¿Cuáles son los parámetros de cada modelo?"
   ]
  },
  {
   "cell_type": "code",
   "execution_count": 105,
   "metadata": {},
   "outputs": [],
   "source": [
    "r2_train_lin_d3 = model_linreg3.score(Xs_train_pol3, ys_train_pol3)\n",
    "r2_test_lin_d3 = model_linreg3.score(Xs_test_pol3, ys_test_pol3)\n",
    "\n",
    "r2_train_ridge_d3 = model_lin_ridge3.score(Xs_train_pol3, ys_train_pol3)\n",
    "r2_test_ridge_d3 = model_lin_ridge3.score(Xs_test_pol3, ys_test_pol3)\n",
    "\n",
    "r2_train_lasso_d3 = model_lin_lasso3.score(Xs_train_pol3, ys_train_pol3)\n",
    "r2_test_lasso_d3 = model_lin_lasso3.score(Xs_test_pol3, ys_test_pol3)"
   ]
  },
  {
   "cell_type": "code",
   "execution_count": 106,
   "metadata": {},
   "outputs": [
    {
     "data": {
      "text/plain": [
       "(array([1267.26]),\n",
       " array([[  31.228,   29.685,   65.423,    7.709,   12.027,   43.978,\n",
       "          -30.919,  -13.756,  105.09 ,  -84.849,  -23.128, -317.144,\n",
       "          121.062,  -66.497,   33.866,  -45.941, -157.265, -105.834,\n",
       "          155.134,  -64.389]]))"
      ]
     },
     "execution_count": 106,
     "metadata": {},
     "output_type": "execute_result"
    }
   ],
   "source": [
    "np.set_printoptions(precision=3, suppress=True)\n",
    "\n",
    "(model_linreg3.intercept_, model_linreg.coef_)"
   ]
  },
  {
   "cell_type": "code",
   "execution_count": 107,
   "metadata": {},
   "outputs": [
    {
     "data": {
      "text/plain": [
       "(1267.260158553485,\n",
       " array([  30.958,   29.591,   65.083,    7.616,   12.146,   43.959,\n",
       "         -30.763,  -13.382,  108.815,  -83.092,  -20.701, -304.037,\n",
       "         116.566,  -71.64 ,   33.311,  -45.565, -156.119, -104.567,\n",
       "         142.527,  -62.815]))"
      ]
     },
     "execution_count": 107,
     "metadata": {},
     "output_type": "execute_result"
    }
   ],
   "source": [
    "(model_lin_ridge3.intercept_,model_lin_ridge.coef_)"
   ]
  },
  {
   "cell_type": "code",
   "execution_count": 108,
   "metadata": {},
   "outputs": [
    {
     "data": {
      "text/plain": [
       "(1267.2601585534853,\n",
       " array([  31.065,   29.627,   65.295,    7.611,   11.905,   43.883,\n",
       "         -30.819,  -13.514,  109.656,  -84.568,  -22.842, -315.841,\n",
       "         116.83 ,  -66.712,   33.755,  -45.78 , -157.009, -105.521,\n",
       "         153.777,  -64.125]))"
      ]
     },
     "execution_count": 108,
     "metadata": {},
     "output_type": "execute_result"
    }
   ],
   "source": [
    "(model_lin_lasso3.intercept_,model_lin_lasso.coef_)"
   ]
  },
  {
   "cell_type": "markdown",
   "metadata": {},
   "source": [
    "# Comparación de Modelos\n",
    "\n",
    "Se comparan los resultados y score de los distintos modelos."
   ]
  },
  {
   "cell_type": "code",
   "execution_count": 109,
   "metadata": {},
   "outputs": [
    {
     "data": {
      "text/html": [
       "<div>\n",
       "<style scoped>\n",
       "    .dataframe tbody tr th:only-of-type {\n",
       "        vertical-align: middle;\n",
       "    }\n",
       "\n",
       "    .dataframe tbody tr th {\n",
       "        vertical-align: top;\n",
       "    }\n",
       "\n",
       "    .dataframe thead th {\n",
       "        text-align: right;\n",
       "    }\n",
       "</style>\n",
       "<table border=\"1\" class=\"dataframe\">\n",
       "  <thead>\n",
       "    <tr style=\"text-align: right;\">\n",
       "      <th></th>\n",
       "      <th>degree</th>\n",
       "      <th>model</th>\n",
       "      <th>R2 Train</th>\n",
       "      <th>R2 Test</th>\n",
       "      <th>alpha</th>\n",
       "    </tr>\n",
       "  </thead>\n",
       "  <tbody>\n",
       "    <tr>\n",
       "      <th>0</th>\n",
       "      <td>1</td>\n",
       "      <td>lineal</td>\n",
       "      <td>64.8</td>\n",
       "      <td>65.1</td>\n",
       "      <td>0.000000</td>\n",
       "    </tr>\n",
       "    <tr>\n",
       "      <th>1</th>\n",
       "      <td>1</td>\n",
       "      <td>ridge</td>\n",
       "      <td>64.8</td>\n",
       "      <td>65.0</td>\n",
       "      <td>27.232323</td>\n",
       "    </tr>\n",
       "    <tr>\n",
       "      <th>2</th>\n",
       "      <td>1</td>\n",
       "      <td>lasso</td>\n",
       "      <td>64.8</td>\n",
       "      <td>65.1</td>\n",
       "      <td>0.100000</td>\n",
       "    </tr>\n",
       "    <tr>\n",
       "      <th>3</th>\n",
       "      <td>2</td>\n",
       "      <td>lineal</td>\n",
       "      <td>66.5</td>\n",
       "      <td>66.3</td>\n",
       "      <td>0.000000</td>\n",
       "    </tr>\n",
       "    <tr>\n",
       "      <th>4</th>\n",
       "      <td>2</td>\n",
       "      <td>ridge</td>\n",
       "      <td>66.0</td>\n",
       "      <td>65.7</td>\n",
       "      <td>224.242424</td>\n",
       "    </tr>\n",
       "    <tr>\n",
       "      <th>5</th>\n",
       "      <td>2</td>\n",
       "      <td>lasso</td>\n",
       "      <td>65.8</td>\n",
       "      <td>65.6</td>\n",
       "      <td>5.727273</td>\n",
       "    </tr>\n",
       "    <tr>\n",
       "      <th>6</th>\n",
       "      <td>3</td>\n",
       "      <td>lineal</td>\n",
       "      <td>68.7</td>\n",
       "      <td>68.0</td>\n",
       "      <td>0.000000</td>\n",
       "    </tr>\n",
       "    <tr>\n",
       "      <th>7</th>\n",
       "      <td>3</td>\n",
       "      <td>ridge</td>\n",
       "      <td>66.3</td>\n",
       "      <td>65.9</td>\n",
       "      <td>900.000000</td>\n",
       "    </tr>\n",
       "    <tr>\n",
       "      <th>8</th>\n",
       "      <td>3</td>\n",
       "      <td>lasso</td>\n",
       "      <td>68.3</td>\n",
       "      <td>67.4</td>\n",
       "      <td>0.345455</td>\n",
       "    </tr>\n",
       "  </tbody>\n",
       "</table>\n",
       "</div>"
      ],
      "text/plain": [
       "   degree   model  R2 Train  R2 Test       alpha\n",
       "0       1  lineal      64.8     65.1    0.000000\n",
       "1       1   ridge      64.8     65.0   27.232323\n",
       "2       1   lasso      64.8     65.1    0.100000\n",
       "3       2  lineal      66.5     66.3    0.000000\n",
       "4       2   ridge      66.0     65.7  224.242424\n",
       "5       2   lasso      65.8     65.6    5.727273\n",
       "6       3  lineal      68.7     68.0    0.000000\n",
       "7       3   ridge      66.3     65.9  900.000000\n",
       "8       3   lasso      68.3     67.4    0.345455"
      ]
     },
     "execution_count": 109,
     "metadata": {},
     "output_type": "execute_result"
    }
   ],
   "source": [
    "cols1 = ['degree','model','R2 Train','R2 Test','alpha']\n",
    "\n",
    "deg1_results1 = [[1,'lineal',r2_train_lin_d1,r2_test_lin_d1,0],\n",
    "                [1,'ridge',r2_train_ridge_d1,r2_test_ridge_d1,model_lin_ridge.alpha_],\n",
    "                [1,'lasso',r2_train_lasso_d1,r2_test_lasso_d1,model_lin_lasso.alpha_],\n",
    "                \n",
    "                [2,'lineal',r2_train_lin_d2,r2_test_lin_d2,0],\n",
    "                [2,'ridge',r2_train_ridge_d2,r2_test_ridge_d2,model_lin_ridge2.alpha_],\n",
    "                [2,'lasso',r2_train_lasso_d2,r2_test_lasso_d2,model_lin_lasso2.alpha_],\n",
    "                \n",
    "                [3,'lineal',r2_train_lin_d3,r2_test_lin_d3,0],\n",
    "                [3,'ridge',r2_train_ridge_d3,r2_test_ridge_d3,model_lin_ridge3.alpha_],\n",
    "                [3,'lasso',r2_train_lasso_d3,r2_test_lasso_d3,model_lin_lasso3.alpha_]\n",
    "               ]\n",
    "\n",
    "results_df = pd.DataFrame(data = deg1_results1,columns=cols1)\n",
    "results_df['R2 Train'] = results_df['R2 Train']*100\n",
    "results_df['R2 Train'] = round(results_df['R2 Train'],1)\n",
    "results_df['R2 Test'] = results_df['R2 Test']*100\n",
    "results_df['R2 Test'] = round(results_df['R2 Test'],1)\n",
    "results_df"
   ]
  },
  {
   "cell_type": "code",
   "execution_count": 110,
   "metadata": {},
   "outputs": [
    {
     "data": {
      "image/png": "[encoded data removed]",
      "text/plain": [
       "<Figure size 1296x432 with 3 Axes>"
      ]
     },
     "metadata": {
      "needs_background": "light"
     },
     "output_type": "display_data"
    }
   ],
   "source": [
    "fig = plt.figure(figsize=(18,6))\n",
    "plt.suptitle(\"R2 Comparison between models\",fontsize=16)\n",
    "ax1 = fig.add_subplot(131)\n",
    "results_df.loc[results_df['degree']==1].plot(x='model',y=['R2 Train','R2 Test'],kind='bar',rot=0,title='Degree 1',ax=ax1)\n",
    "ax1.legend(loc='lower center')\n",
    "# plt.ylim([0.5,0.58])\n",
    "for p in ax1.patches:\n",
    "    ax1.annotate(str(round(p.get_height(),4)), (p.get_x() * 1.001, p.get_height() * 1.001))\n",
    "    \n",
    "ax2 = fig.add_subplot(132)\n",
    "results_df.loc[results_df['degree']==2].plot(x='model',y=['R2 Train','R2 Test'],kind='bar',rot=0,title='Degree 2',ax=ax2)\n",
    "ax2.legend(loc='lower center')\n",
    "for p in ax2.patches:\n",
    "    ax2.annotate(str(round(p.get_height(),4)), (p.get_x() * 1.01, p.get_height() * 1.01))\n",
    "\n",
    "ax3 = fig.add_subplot(133)\n",
    "results_df.loc[results_df['degree']==3].plot(x='model',y=['R2 Train','R2 Test'],kind='bar',rot=0,title='Degree 3',ax=ax3)\n",
    "ax3.legend(loc='lower center')\n",
    "for p in ax3.patches:\n",
    "    ax3.annotate(str(round(p.get_height(),4)), (p.get_x() * 1.01, p.get_height() * 1.01))\n",
    "\n",
    "\n",
    "\n",
    "\n",
    "plt.savefig('../Images/Provincias/Scores Modelo Provincias.png')"
   ]
  },
  {
   "cell_type": "markdown",
   "metadata": {},
   "source": [
    "# Elección del modelo\n",
    "\n",
    "Podemos observar que los mejores R2 para testeo y training son los correspondientes al modelo de regresion lineal sin normalizaciones, con features polinomiales de orden 3"
   ]
  },
  {
   "cell_type": "markdown",
   "metadata": {},
   "source": [
    "## División del dataset en Train y Test para portfolio de 100 propiedades."
   ]
  },
  {
   "cell_type": "code",
   "execution_count": 111,
   "metadata": {},
   "outputs": [],
   "source": [
    "data_train, data_test = train_test_split(data,test_size=100,shuffle=True,random_state=10)"
   ]
  },
  {
   "cell_type": "code",
   "execution_count": 112,
   "metadata": {},
   "outputs": [],
   "source": [
    "data_train_final = data_train.copy()\n",
    "data_test_final = data_test.copy()"
   ]
  },
  {
   "cell_type": "code",
   "execution_count": 113,
   "metadata": {},
   "outputs": [
    {
     "data": {
      "text/plain": [
       "((9389, 26), (100, 26))"
      ]
     },
     "execution_count": 113,
     "metadata": {},
     "output_type": "execute_result"
    }
   ],
   "source": [
    "data_train_final.shape,data_test_final.shape"
   ]
  },
  {
   "cell_type": "code",
   "execution_count": 114,
   "metadata": {},
   "outputs": [
    {
     "data": {
      "text/plain": [
       "Index(['tipo_propiedad', 'Provincia', 'Zona', 'Localidad', 'place_name',\n",
       "       'cochera', 'gimnasio', 'piscina', 'SUM', 'laundry', 'balcon', 'patio',\n",
       "       'parrilla', 'floor', 'rooms', 'price_usd', 'sup_cub', 'sup_descub',\n",
       "       'sup_total', 'price_usd_per_m2', 'tipo_propiedad_apartment',\n",
       "       'tipo_propiedad_house', 'tipo_propiedad_store',\n",
       "       'Provincia_Buenos Aires Interior', 'Provincia_Córdoba',\n",
       "       'Provincia_Santa Fe'],\n",
       "      dtype='object')"
      ]
     },
     "execution_count": 114,
     "metadata": {},
     "output_type": "execute_result"
    }
   ],
   "source": [
    "data_train_final.columns"
   ]
  },
  {
   "cell_type": "markdown",
   "metadata": {},
   "source": [
    "## Imputación del número de piso ('floor')"
   ]
  },
  {
   "cell_type": "code",
   "execution_count": 115,
   "metadata": {},
   "outputs": [
    {
     "data": {
      "text/plain": [
       "5079"
      ]
     },
     "execution_count": 115,
     "metadata": {},
     "output_type": "execute_result"
    }
   ],
   "source": [
    "data_train_final['floor'].isna().sum()"
   ]
  },
  {
   "cell_type": "code",
   "execution_count": 116,
   "metadata": {},
   "outputs": [
    {
     "data": {
      "text/plain": [
       "50"
      ]
     },
     "execution_count": 116,
     "metadata": {},
     "output_type": "execute_result"
    }
   ],
   "source": [
    "data_test_final['floor'].isna().sum()"
   ]
  },
  {
   "cell_type": "code",
   "execution_count": 117,
   "metadata": {},
   "outputs": [
    {
     "data": {
      "text/html": [
       "<div>\n",
       "<style scoped>\n",
       "    .dataframe tbody tr th:only-of-type {\n",
       "        vertical-align: middle;\n",
       "    }\n",
       "\n",
       "    .dataframe tbody tr th {\n",
       "        vertical-align: top;\n",
       "    }\n",
       "\n",
       "    .dataframe thead th {\n",
       "        text-align: right;\n",
       "    }\n",
       "</style>\n",
       "<table border=\"1\" class=\"dataframe\">\n",
       "  <thead>\n",
       "    <tr style=\"text-align: right;\">\n",
       "      <th></th>\n",
       "      <th>floor</th>\n",
       "    </tr>\n",
       "    <tr>\n",
       "      <th>Localidad</th>\n",
       "      <th></th>\n",
       "    </tr>\n",
       "  </thead>\n",
       "  <tbody>\n",
       "    <tr>\n",
       "      <th>Aguas Verdes</th>\n",
       "      <td>8.0</td>\n",
       "    </tr>\n",
       "    <tr>\n",
       "      <th>Córdoba</th>\n",
       "      <td>0.0</td>\n",
       "    </tr>\n",
       "    <tr>\n",
       "      <th>Lobos</th>\n",
       "      <td>0.0</td>\n",
       "    </tr>\n",
       "    <tr>\n",
       "      <th>Luján</th>\n",
       "      <td>0.0</td>\n",
       "    </tr>\n",
       "    <tr>\n",
       "      <th>Mar de Ajó</th>\n",
       "      <td>1.0</td>\n",
       "    </tr>\n",
       "    <tr>\n",
       "      <th>Mar del Plata</th>\n",
       "      <td>3.0</td>\n",
       "    </tr>\n",
       "    <tr>\n",
       "      <th>Miramar</th>\n",
       "      <td>0.0</td>\n",
       "    </tr>\n",
       "    <tr>\n",
       "      <th>Necochea</th>\n",
       "      <td>5.0</td>\n",
       "    </tr>\n",
       "    <tr>\n",
       "      <th>Pinamar</th>\n",
       "      <td>1.0</td>\n",
       "    </tr>\n",
       "    <tr>\n",
       "      <th>Punilla</th>\n",
       "      <td>0.0</td>\n",
       "    </tr>\n",
       "    <tr>\n",
       "      <th>Rosario</th>\n",
       "      <td>3.0</td>\n",
       "    </tr>\n",
       "    <tr>\n",
       "      <th>Río Tercero</th>\n",
       "      <td>2.0</td>\n",
       "    </tr>\n",
       "    <tr>\n",
       "      <th>San Bernardo</th>\n",
       "      <td>3.0</td>\n",
       "    </tr>\n",
       "    <tr>\n",
       "      <th>Santa Fe</th>\n",
       "      <td>0.0</td>\n",
       "    </tr>\n",
       "    <tr>\n",
       "      <th>Trenque Lauquen</th>\n",
       "      <td>4.0</td>\n",
       "    </tr>\n",
       "    <tr>\n",
       "      <th>Valeria del Mar</th>\n",
       "      <td>1.5</td>\n",
       "    </tr>\n",
       "    <tr>\n",
       "      <th>Villa General Belgrano</th>\n",
       "      <td>0.0</td>\n",
       "    </tr>\n",
       "    <tr>\n",
       "      <th>Villa Gesell</th>\n",
       "      <td>3.0</td>\n",
       "    </tr>\n",
       "  </tbody>\n",
       "</table>\n",
       "</div>"
      ],
      "text/plain": [
       "                        floor\n",
       "Localidad                    \n",
       "Aguas Verdes              8.0\n",
       "Córdoba                   0.0\n",
       "Lobos                     0.0\n",
       "Luján                     0.0\n",
       "Mar de Ajó                1.0\n",
       "Mar del Plata             3.0\n",
       "Miramar                   0.0\n",
       "Necochea                  5.0\n",
       "Pinamar                   1.0\n",
       "Punilla                   0.0\n",
       "Rosario                   3.0\n",
       "Río Tercero               2.0\n",
       "San Bernardo              3.0\n",
       "Santa Fe                  0.0\n",
       "Trenque Lauquen           4.0\n",
       "Valeria del Mar           1.5\n",
       "Villa General Belgrano    0.0\n",
       "Villa Gesell              3.0"
      ]
     },
     "execution_count": 117,
     "metadata": {},
     "output_type": "execute_result"
    }
   ],
   "source": [
    "floor_median_localidad = data_train_final.loc[(data_train_final['tipo_propiedad']=='apartment')|(data_train['tipo_propiedad']=='store'),['floor','Localidad']].groupby('Localidad').agg(np.median)\n",
    "floor_median_localidad['floor'].fillna(value=floor_median_localidad['floor'].mean(),inplace=True)\n",
    "floor_median_localidad"
   ]
  },
  {
   "cell_type": "code",
   "execution_count": 118,
   "metadata": {},
   "outputs": [],
   "source": [
    "for localidad,floor_med in floor_median_localidad['floor'].to_dict().items():\n",
    "    #imputo en el train set con los valores calculados\n",
    "    data_train_final.loc[((data_train_final['tipo_propiedad']=='apartment')|(data_train_final['tipo_propiedad']=='store')&(data_train_final['floor'].isna())&(data_train_final['Localidad']==localidad)),'floor']=floor_med\n",
    "    #tambien imputo en el test set con los valores del train set.\n",
    "    data_test_final.loc[((data_test_final['tipo_propiedad']=='apartment')|(data_test_final['tipo_propiedad']=='store')&(data_test_final['floor'].isna())&(data_test_final['Localidad']==localidad)),'floor']=floor_med"
   ]
  },
  {
   "cell_type": "code",
   "execution_count": 119,
   "metadata": {},
   "outputs": [
    {
     "name": "stdout",
     "output_type": "stream",
     "text": [
      "Datos faltantes de floor en train set: 0\n",
      "Datos faltantes de floor en test set: 0\n"
     ]
    }
   ],
   "source": [
    "print(\"Datos faltantes de floor en train set: {}\".format(data_train_final['floor'].isna().sum()))\n",
    "print(\"Datos faltantes de floor en test set: {}\".format(data_test_final['floor'].isna().sum()))"
   ]
  },
  {
   "cell_type": "code",
   "execution_count": 120,
   "metadata": {},
   "outputs": [
    {
     "data": {
      "text/plain": [
       "Series([], Name: Localidad, dtype: int64)"
      ]
     },
     "execution_count": 120,
     "metadata": {},
     "output_type": "execute_result"
    }
   ],
   "source": [
    "data_train_final.loc[data_train_final['floor'].isna(),'Localidad'].value_counts()"
   ]
  },
  {
   "cell_type": "code",
   "execution_count": 121,
   "metadata": {},
   "outputs": [
    {
     "data": {
      "text/plain": [
       "Series([], Name: Localidad, dtype: int64)"
      ]
     },
     "execution_count": 121,
     "metadata": {},
     "output_type": "execute_result"
    }
   ],
   "source": [
    "data_test_final.loc[data_test_final['floor'].isna(),'Localidad'].value_counts()"
   ]
  },
  {
   "cell_type": "markdown",
   "metadata": {},
   "source": [
    "## Imputación de Superficies"
   ]
  },
  {
   "cell_type": "code",
   "execution_count": 122,
   "metadata": {},
   "outputs": [
    {
     "data": {
      "text/html": [
       "<div>\n",
       "<style scoped>\n",
       "    .dataframe tbody tr th:only-of-type {\n",
       "        vertical-align: middle;\n",
       "    }\n",
       "\n",
       "    .dataframe tbody tr th {\n",
       "        vertical-align: top;\n",
       "    }\n",
       "\n",
       "    .dataframe thead th {\n",
       "        text-align: right;\n",
       "    }\n",
       "</style>\n",
       "<table border=\"1\" class=\"dataframe\">\n",
       "  <thead>\n",
       "    <tr style=\"text-align: right;\">\n",
       "      <th></th>\n",
       "      <th>tipo_propiedad</th>\n",
       "      <th>Provincia</th>\n",
       "      <th>Zona</th>\n",
       "      <th>Localidad</th>\n",
       "      <th>place_name</th>\n",
       "      <th>cochera</th>\n",
       "      <th>gimnasio</th>\n",
       "      <th>piscina</th>\n",
       "      <th>SUM</th>\n",
       "      <th>laundry</th>\n",
       "      <th>...</th>\n",
       "      <th>sup_descub</th>\n",
       "      <th>sup_total</th>\n",
       "      <th>price_usd_per_m2</th>\n",
       "      <th>tipo_propiedad_apartment</th>\n",
       "      <th>tipo_propiedad_house</th>\n",
       "      <th>tipo_propiedad_store</th>\n",
       "      <th>Provincia_Buenos Aires Interior</th>\n",
       "      <th>Provincia_Córdoba</th>\n",
       "      <th>Provincia_Santa Fe</th>\n",
       "      <th>const_index</th>\n",
       "    </tr>\n",
       "  </thead>\n",
       "  <tbody>\n",
       "    <tr>\n",
       "      <th>4738</th>\n",
       "      <td>house</td>\n",
       "      <td>Córdoba</td>\n",
       "      <td>Córdoba</td>\n",
       "      <td>Villa Carlos Paz</td>\n",
       "      <td>Villa carlos paz</td>\n",
       "      <td>1.0</td>\n",
       "      <td>0.0</td>\n",
       "      <td>1.0</td>\n",
       "      <td>0.0</td>\n",
       "      <td>1.0</td>\n",
       "      <td>...</td>\n",
       "      <td>0.0</td>\n",
       "      <td>300.0</td>\n",
       "      <td>1000.000000</td>\n",
       "      <td>0.0</td>\n",
       "      <td>1.0</td>\n",
       "      <td>0.0</td>\n",
       "      <td>0.0</td>\n",
       "      <td>1.0</td>\n",
       "      <td>0.0</td>\n",
       "      <td>1.000000</td>\n",
       "    </tr>\n",
       "    <tr>\n",
       "      <th>3275</th>\n",
       "      <td>apartment</td>\n",
       "      <td>Buenos Aires Costa Atlántica</td>\n",
       "      <td>BsAs</td>\n",
       "      <td>Mar del Plata</td>\n",
       "      <td>Mar del plata</td>\n",
       "      <td>0.0</td>\n",
       "      <td>0.0</td>\n",
       "      <td>0.0</td>\n",
       "      <td>0.0</td>\n",
       "      <td>0.0</td>\n",
       "      <td>...</td>\n",
       "      <td>NaN</td>\n",
       "      <td>30.0</td>\n",
       "      <td>2000.000000</td>\n",
       "      <td>1.0</td>\n",
       "      <td>0.0</td>\n",
       "      <td>0.0</td>\n",
       "      <td>0.0</td>\n",
       "      <td>0.0</td>\n",
       "      <td>0.0</td>\n",
       "      <td>NaN</td>\n",
       "    </tr>\n",
       "    <tr>\n",
       "      <th>6140</th>\n",
       "      <td>apartment</td>\n",
       "      <td>Buenos Aires Costa Atlántica</td>\n",
       "      <td>BsAs</td>\n",
       "      <td>Villa Gesell</td>\n",
       "      <td>Villa gesell</td>\n",
       "      <td>0.0</td>\n",
       "      <td>0.0</td>\n",
       "      <td>0.0</td>\n",
       "      <td>0.0</td>\n",
       "      <td>0.0</td>\n",
       "      <td>...</td>\n",
       "      <td>0.0</td>\n",
       "      <td>45.0</td>\n",
       "      <td>2222.222222</td>\n",
       "      <td>1.0</td>\n",
       "      <td>0.0</td>\n",
       "      <td>0.0</td>\n",
       "      <td>0.0</td>\n",
       "      <td>0.0</td>\n",
       "      <td>0.0</td>\n",
       "      <td>1.000000</td>\n",
       "    </tr>\n",
       "    <tr>\n",
       "      <th>8233</th>\n",
       "      <td>apartment</td>\n",
       "      <td>Santa Fe</td>\n",
       "      <td>Santa Fe</td>\n",
       "      <td>Rosario</td>\n",
       "      <td>Rosario</td>\n",
       "      <td>1.0</td>\n",
       "      <td>0.0</td>\n",
       "      <td>0.0</td>\n",
       "      <td>0.0</td>\n",
       "      <td>0.0</td>\n",
       "      <td>...</td>\n",
       "      <td>13.0</td>\n",
       "      <td>38.0</td>\n",
       "      <td>1136.432368</td>\n",
       "      <td>1.0</td>\n",
       "      <td>0.0</td>\n",
       "      <td>0.0</td>\n",
       "      <td>0.0</td>\n",
       "      <td>0.0</td>\n",
       "      <td>1.0</td>\n",
       "      <td>0.657895</td>\n",
       "    </tr>\n",
       "    <tr>\n",
       "      <th>10037</th>\n",
       "      <td>house</td>\n",
       "      <td>Córdoba</td>\n",
       "      <td>Córdoba</td>\n",
       "      <td>Punilla</td>\n",
       "      <td>Punilla</td>\n",
       "      <td>1.0</td>\n",
       "      <td>0.0</td>\n",
       "      <td>1.0</td>\n",
       "      <td>1.0</td>\n",
       "      <td>1.0</td>\n",
       "      <td>...</td>\n",
       "      <td>0.0</td>\n",
       "      <td>190.0</td>\n",
       "      <td>894.736842</td>\n",
       "      <td>0.0</td>\n",
       "      <td>1.0</td>\n",
       "      <td>0.0</td>\n",
       "      <td>0.0</td>\n",
       "      <td>1.0</td>\n",
       "      <td>0.0</td>\n",
       "      <td>1.000000</td>\n",
       "    </tr>\n",
       "  </tbody>\n",
       "</table>\n",
       "<p>5 rows × 27 columns</p>\n",
       "</div>"
      ],
      "text/plain": [
       "      tipo_propiedad                     Provincia      Zona  \\\n",
       "4738           house                       Córdoba   Córdoba   \n",
       "3275       apartment  Buenos Aires Costa Atlántica      BsAs   \n",
       "6140       apartment  Buenos Aires Costa Atlántica      BsAs   \n",
       "8233       apartment                      Santa Fe  Santa Fe   \n",
       "10037          house                       Córdoba   Córdoba   \n",
       "\n",
       "              Localidad        place_name  cochera  gimnasio  piscina  SUM  \\\n",
       "4738   Villa Carlos Paz  Villa carlos paz      1.0       0.0      1.0  0.0   \n",
       "3275      Mar del Plata     Mar del plata      0.0       0.0      0.0  0.0   \n",
       "6140       Villa Gesell      Villa gesell      0.0       0.0      0.0  0.0   \n",
       "8233            Rosario           Rosario      1.0       0.0      0.0  0.0   \n",
       "10037           Punilla           Punilla      1.0       0.0      1.0  1.0   \n",
       "\n",
       "       laundry     ...       sup_descub  sup_total  price_usd_per_m2  \\\n",
       "4738       1.0     ...              0.0      300.0       1000.000000   \n",
       "3275       0.0     ...              NaN       30.0       2000.000000   \n",
       "6140       0.0     ...              0.0       45.0       2222.222222   \n",
       "8233       0.0     ...             13.0       38.0       1136.432368   \n",
       "10037      1.0     ...              0.0      190.0        894.736842   \n",
       "\n",
       "       tipo_propiedad_apartment  tipo_propiedad_house  tipo_propiedad_store  \\\n",
       "4738                        0.0                   1.0                   0.0   \n",
       "3275                        1.0                   0.0                   0.0   \n",
       "6140                        1.0                   0.0                   0.0   \n",
       "8233                        1.0                   0.0                   0.0   \n",
       "10037                       0.0                   1.0                   0.0   \n",
       "\n",
       "       Provincia_Buenos Aires Interior  Provincia_Córdoba  Provincia_Santa Fe  \\\n",
       "4738                               0.0                1.0                 0.0   \n",
       "3275                               0.0                0.0                 0.0   \n",
       "6140                               0.0                0.0                 0.0   \n",
       "8233                               0.0                0.0                 1.0   \n",
       "10037                              0.0                1.0                 0.0   \n",
       "\n",
       "       const_index  \n",
       "4738      1.000000  \n",
       "3275           NaN  \n",
       "6140      1.000000  \n",
       "8233      0.657895  \n",
       "10037     1.000000  \n",
       "\n",
       "[5 rows x 27 columns]"
      ]
     },
     "execution_count": 122,
     "metadata": {},
     "output_type": "execute_result"
    }
   ],
   "source": [
    "data_train_final['const_index']=data_train_final['sup_cub']/data_train_final['sup_total']\n",
    "\n",
    "data_train_final.head(5)"
   ]
  },
  {
   "cell_type": "code",
   "execution_count": null,
   "metadata": {},
   "outputs": [],
   "source": []
  },
  {
   "cell_type": "code",
   "execution_count": 123,
   "metadata": {},
   "outputs": [
    {
     "data": {
      "text/html": [
       "<div>\n",
       "<style scoped>\n",
       "    .dataframe tbody tr th:only-of-type {\n",
       "        vertical-align: middle;\n",
       "    }\n",
       "\n",
       "    .dataframe tbody tr th {\n",
       "        vertical-align: top;\n",
       "    }\n",
       "\n",
       "    .dataframe thead th {\n",
       "        text-align: right;\n",
       "    }\n",
       "</style>\n",
       "<table border=\"1\" class=\"dataframe\">\n",
       "  <thead>\n",
       "    <tr style=\"text-align: right;\">\n",
       "      <th></th>\n",
       "      <th>const_index</th>\n",
       "    </tr>\n",
       "    <tr>\n",
       "      <th>Localidad</th>\n",
       "      <th></th>\n",
       "    </tr>\n",
       "  </thead>\n",
       "  <tbody>\n",
       "    <tr>\n",
       "      <th>Achiras</th>\n",
       "      <td>1.000000</td>\n",
       "    </tr>\n",
       "    <tr>\n",
       "      <th>Aguas Verdes</th>\n",
       "      <td>0.291667</td>\n",
       "    </tr>\n",
       "    <tr>\n",
       "      <th>Alta Gracia</th>\n",
       "      <td>0.641429</td>\n",
       "    </tr>\n",
       "    <tr>\n",
       "      <th>Alvear</th>\n",
       "      <td>0.600000</td>\n",
       "    </tr>\n",
       "    <tr>\n",
       "      <th>Anisacate</th>\n",
       "      <td>0.322222</td>\n",
       "    </tr>\n",
       "    <tr>\n",
       "      <th>Arroyo Seco</th>\n",
       "      <td>0.238095</td>\n",
       "    </tr>\n",
       "    <tr>\n",
       "      <th>Azul</th>\n",
       "      <td>0.446078</td>\n",
       "    </tr>\n",
       "    <tr>\n",
       "      <th>Bahía Blanca</th>\n",
       "      <td>0.532624</td>\n",
       "    </tr>\n",
       "    <tr>\n",
       "      <th>Balcarce</th>\n",
       "      <td>0.450000</td>\n",
       "    </tr>\n",
       "    <tr>\n",
       "      <th>Baradero</th>\n",
       "      <td>0.036356</td>\n",
       "    </tr>\n",
       "  </tbody>\n",
       "</table>\n",
       "</div>"
      ],
      "text/plain": [
       "              const_index\n",
       "Localidad                \n",
       "Achiras          1.000000\n",
       "Aguas Verdes     0.291667\n",
       "Alta Gracia      0.641429\n",
       "Alvear           0.600000\n",
       "Anisacate        0.322222\n",
       "Arroyo Seco      0.238095\n",
       "Azul             0.446078\n",
       "Bahía Blanca     0.532624\n",
       "Balcarce         0.450000\n",
       "Baradero         0.036356"
      ]
     },
     "execution_count": 123,
     "metadata": {},
     "output_type": "execute_result"
    }
   ],
   "source": [
    "const_median_localidad = data_train_final[['const_index','Localidad']].groupby('Localidad').median()\n",
    "const_median_localidad['const_index'].fillna(value=const_median_localidad['const_index'].median(),inplace=True)\n",
    "const_median_localidad.head(10)"
   ]
  },
  {
   "cell_type": "code",
   "execution_count": 124,
   "metadata": {},
   "outputs": [
    {
     "data": {
      "text/plain": [
       "sup_cub       1680\n",
       "sup_total      593\n",
       "sup_descub    2273\n",
       "dtype: int64"
      ]
     },
     "execution_count": 124,
     "metadata": {},
     "output_type": "execute_result"
    }
   ],
   "source": [
    "data_train_final[['sup_cub','sup_total','sup_descub']].isna().sum()"
   ]
  },
  {
   "cell_type": "code",
   "execution_count": 125,
   "metadata": {},
   "outputs": [],
   "source": [
    "for localidad,const_med in const_median_localidad['const_index'].to_dict().items():\n",
    "    data_train_final.loc[(data_train_final['const_index'].isna())&(data_train_final['Localidad']==localidad),'const_index']=const_med\n",
    "    data_test_final.loc[(data_test_final['Localidad']==localidad),'const_index']=const_med\n",
    "    \n",
    "   "
   ]
  },
  {
   "cell_type": "markdown",
   "metadata": {},
   "source": [
    "Completar los datos faltantes de Superficie Cubierta y Superficie Total con el índice de construcción calculado, en el set de entrenamiento."
   ]
  },
  {
   "cell_type": "code",
   "execution_count": 126,
   "metadata": {},
   "outputs": [],
   "source": [
    "data_train_final['sup_cub'].fillna(data_train_final['const_index']*data_train_final['sup_total'],inplace=True)\n",
    "data_train_final['sup_total'].fillna(data_train_final['sup_cub']/data_train_final['const_index'],inplace=True)\n",
    "data_train_final['sup_descub'].fillna((data_train_final['sup_total']-data_train_final['sup_cub']),inplace=True)"
   ]
  },
  {
   "cell_type": "markdown",
   "metadata": {},
   "source": [
    "Completar los datos faltantes de Superficie Cubierta y Superficie Total con el índice de construcción calculado, en el set de testeo."
   ]
  },
  {
   "cell_type": "code",
   "execution_count": 127,
   "metadata": {},
   "outputs": [],
   "source": [
    "data_test_final['sup_cub'].fillna(data_test_final['const_index']*data_test_final['sup_total'],inplace=True)\n",
    "#data_test['sup_cub']/data_test['const_index']\n",
    "data_test_final['sup_total'].fillna(data_test_final['sup_cub']/data_test_final['const_index'],inplace=True)\n",
    "data_test_final['sup_descub'].fillna((data_test_final['sup_total']-data_test_final['sup_cub']),inplace=True)"
   ]
  },
  {
   "cell_type": "code",
   "execution_count": 128,
   "metadata": {},
   "outputs": [],
   "source": [
    "data_train_final['cub_desc'] = data_train_final['sup_cub']*data_train_final['sup_descub']\n",
    "data_train_final['sup_por_room'] = data_train_final['sup_cub']/data_train_final['rooms']"
   ]
  },
  {
   "cell_type": "code",
   "execution_count": 129,
   "metadata": {},
   "outputs": [
    {
     "data": {
      "text/plain": [
       "sup_cub         0\n",
       "sup_total       0\n",
       "sup_descub      0\n",
       "cub_desc        0\n",
       "sup_por_room    0\n",
       "dtype: int64"
      ]
     },
     "execution_count": 129,
     "metadata": {},
     "output_type": "execute_result"
    }
   ],
   "source": [
    "data_train_final[['sup_cub','sup_total','sup_descub','cub_desc','sup_por_room']].isna().sum()"
   ]
  },
  {
   "cell_type": "code",
   "execution_count": 130,
   "metadata": {},
   "outputs": [],
   "source": [
    "data_test_final['cub_desc'] = data_test_final['sup_cub']*data_test_final['sup_descub']\n",
    "data_test_final['sup_por_room'] = data_test_final['sup_cub']/data_test_final['rooms']"
   ]
  },
  {
   "cell_type": "code",
   "execution_count": 131,
   "metadata": {},
   "outputs": [
    {
     "data": {
      "text/plain": [
       "sup_cub         0\n",
       "sup_total       0\n",
       "sup_descub      0\n",
       "cub_desc        0\n",
       "sup_por_room    0\n",
       "dtype: int64"
      ]
     },
     "execution_count": 131,
     "metadata": {},
     "output_type": "execute_result"
    }
   ],
   "source": [
    "data_test_final[['sup_cub','sup_total','sup_descub','cub_desc','sup_por_room']].isna().sum()"
   ]
  },
  {
   "cell_type": "code",
   "execution_count": 132,
   "metadata": {},
   "outputs": [],
   "source": [
    "poly_vars = ['floor','rooms','sup_cub','sup_descub','sup_por_room']\n",
    "y_column = ['price_usd_per_m2']\n",
    "poly_drop = ['tipo_propiedad', 'Provincia','Zona','Localidad','place_name','price_usd','sup_total','const_index','cub_desc']\n",
    "data_train3 = data_train_final.drop(columns=poly_drop).copy()\n",
    "y_train = data_train_final[y_column[0]]\n",
    "data_test3 = data_test_final.drop(columns=poly_drop).copy()\n",
    "y_test = data_test_final[y_column[0]]\n",
    "\n",
    "X_train_pol3,X_test_pol3 = get_poly_X(poly_vars = poly_vars, y_var = y_column, df_train = data_train3, df_test = data_test3,degree=3)\n",
    "\n",
    "Xs_train_pol3 = stdscalerX.fit_transform(X_train_pol3)\n",
    "ys_train_pol3 = y_train\n",
    "\n",
    "Xs_test_pol3 = stdscalerX.transform(X_test_pol3)\n",
    "ys_test_pol3 = y_test"
   ]
  },
  {
   "cell_type": "code",
   "execution_count": 133,
   "metadata": {},
   "outputs": [
    {
     "data": {
      "text/plain": [
       "(100, 20)"
      ]
     },
     "execution_count": 133,
     "metadata": {},
     "output_type": "execute_result"
    }
   ],
   "source": [
    "data_test3.shape"
   ]
  },
  {
   "cell_type": "code",
   "execution_count": 134,
   "metadata": {},
   "outputs": [],
   "source": [
    "#Linear Model\n",
    "lm = LinearRegression()\n",
    "model_linreg3 = lm.fit(Xs_train_pol3, ys_train_pol3)"
   ]
  },
  {
   "cell_type": "code",
   "execution_count": 135,
   "metadata": {},
   "outputs": [
    {
     "name": "stdout",
     "output_type": "stream",
     "text": [
      "[   0.678    0.666 -103.26     0.592    0.673]\n",
      "[   0.658    0.511    0.687 -104.323    0.694]\n",
      "[-115.308    0.688    0.495    0.673    0.582]\n",
      "[ 5.785e-01  6.705e-01  6.871e-01 -1.136e+02 -2.284e+18]\n",
      "[   0.506 -104.563    0.584    0.673    0.694]\n",
      "[   0.685    0.674    0.612    0.664 -121.318]\n",
      "[-102.201    0.573    0.673    0.587    0.679]\n",
      "[   0.661    0.576    0.545    0.675 -106.524]\n",
      "[   0.627    0.668 -111.098    0.655    0.588]\n",
      "[   0.671    0.538    0.589 -127.601    0.699]\n"
     ]
    }
   ],
   "source": [
    "for _ in range(10):\n",
    "    kf3 = KFold(n_splits=5, shuffle=True)\n",
    "    print(cross_val_score(model_linreg3, Xs_train_pol3, ys_train_pol3, cv=kf3))  "
   ]
  },
  {
   "cell_type": "code",
   "execution_count": 136,
   "metadata": {},
   "outputs": [
    {
     "name": "stdout",
     "output_type": "stream",
     "text": [
      "Train set\n",
      "----------------------------\n",
      "MAE: 282.237966\n",
      "MSE: 146982.231138\n",
      "RMSE: 383.382617\n",
      "R2: 0.6888\n",
      "Test set\n",
      "----------------------------\n",
      "MAE: 325.238639\n",
      "MSE: 212739.688337\n",
      "RMSE: 461.237128\n",
      "R2: 0.6815\n"
     ]
    }
   ],
   "source": [
    "y_pred_tr = model_linreg3.predict(Xs_train_pol3)\n",
    "y_pred_ts = model_linreg3.predict(Xs_test_pol3)\n",
    "\n",
    "print(\"Train set\")\n",
    "print(\"----------------------------\")\n",
    "print_metrics(y_train,y_pred_tr)\n",
    "print(\"Test set\")\n",
    "print(\"----------------------------\")\n",
    "print_metrics(y_test,y_pred_ts)\n"
   ]
  },
  {
   "cell_type": "code",
   "execution_count": 137,
   "metadata": {},
   "outputs": [
    {
     "data": {
      "text/html": [
       "<div>\n",
       "<style scoped>\n",
       "    .dataframe tbody tr th:only-of-type {\n",
       "        vertical-align: middle;\n",
       "    }\n",
       "\n",
       "    .dataframe tbody tr th {\n",
       "        vertical-align: top;\n",
       "    }\n",
       "\n",
       "    .dataframe thead th {\n",
       "        text-align: right;\n",
       "    }\n",
       "</style>\n",
       "<table border=\"1\" class=\"dataframe\">\n",
       "  <thead>\n",
       "    <tr style=\"text-align: right;\">\n",
       "      <th></th>\n",
       "      <th>Real_Price</th>\n",
       "      <th>Model_Prediction</th>\n",
       "      <th>diff</th>\n",
       "      <th>Sobre/Sub</th>\n",
       "      <th>abs_diff</th>\n",
       "    </tr>\n",
       "  </thead>\n",
       "  <tbody>\n",
       "    <tr>\n",
       "      <th>5530</th>\n",
       "      <td>1250.000000</td>\n",
       "      <td>1758.486104</td>\n",
       "      <td>508.486104</td>\n",
       "      <td>Sobrevaluado</td>\n",
       "      <td>508.486104</td>\n",
       "    </tr>\n",
       "    <tr>\n",
       "      <th>527</th>\n",
       "      <td>558.139535</td>\n",
       "      <td>317.986104</td>\n",
       "      <td>-240.153431</td>\n",
       "      <td>Subvaluado</td>\n",
       "      <td>240.153431</td>\n",
       "    </tr>\n",
       "    <tr>\n",
       "      <th>4521</th>\n",
       "      <td>187.500000</td>\n",
       "      <td>371.423604</td>\n",
       "      <td>183.923604</td>\n",
       "      <td>Sobrevaluado</td>\n",
       "      <td>183.923604</td>\n",
       "    </tr>\n",
       "    <tr>\n",
       "      <th>1387</th>\n",
       "      <td>1612.244898</td>\n",
       "      <td>1847.986104</td>\n",
       "      <td>235.741206</td>\n",
       "      <td>Sobrevaluado</td>\n",
       "      <td>235.741206</td>\n",
       "    </tr>\n",
       "    <tr>\n",
       "      <th>1585</th>\n",
       "      <td>257.575758</td>\n",
       "      <td>934.548604</td>\n",
       "      <td>676.972846</td>\n",
       "      <td>Sobrevaluado</td>\n",
       "      <td>676.972846</td>\n",
       "    </tr>\n",
       "    <tr>\n",
       "      <th>6308</th>\n",
       "      <td>1956.521739</td>\n",
       "      <td>1978.388448</td>\n",
       "      <td>21.866708</td>\n",
       "      <td>Sobrevaluado</td>\n",
       "      <td>21.866708</td>\n",
       "    </tr>\n",
       "    <tr>\n",
       "      <th>3728</th>\n",
       "      <td>840.000000</td>\n",
       "      <td>1265.611104</td>\n",
       "      <td>425.611104</td>\n",
       "      <td>Sobrevaluado</td>\n",
       "      <td>425.611104</td>\n",
       "    </tr>\n",
       "    <tr>\n",
       "      <th>2903</th>\n",
       "      <td>1121.673519</td>\n",
       "      <td>987.486104</td>\n",
       "      <td>-134.187415</td>\n",
       "      <td>Subvaluado</td>\n",
       "      <td>134.187415</td>\n",
       "    </tr>\n",
       "    <tr>\n",
       "      <th>9711</th>\n",
       "      <td>687.500000</td>\n",
       "      <td>1051.361104</td>\n",
       "      <td>363.861104</td>\n",
       "      <td>Sobrevaluado</td>\n",
       "      <td>363.861104</td>\n",
       "    </tr>\n",
       "    <tr>\n",
       "      <th>3059</th>\n",
       "      <td>166.666667</td>\n",
       "      <td>855.986104</td>\n",
       "      <td>689.319437</td>\n",
       "      <td>Sobrevaluado</td>\n",
       "      <td>689.319437</td>\n",
       "    </tr>\n",
       "  </tbody>\n",
       "</table>\n",
       "</div>"
      ],
      "text/plain": [
       "       Real_Price  Model_Prediction        diff     Sobre/Sub    abs_diff\n",
       "5530  1250.000000       1758.486104  508.486104  Sobrevaluado  508.486104\n",
       "527    558.139535        317.986104 -240.153431    Subvaluado  240.153431\n",
       "4521   187.500000        371.423604  183.923604  Sobrevaluado  183.923604\n",
       "1387  1612.244898       1847.986104  235.741206  Sobrevaluado  235.741206\n",
       "1585   257.575758        934.548604  676.972846  Sobrevaluado  676.972846\n",
       "6308  1956.521739       1978.388448   21.866708  Sobrevaluado   21.866708\n",
       "3728   840.000000       1265.611104  425.611104  Sobrevaluado  425.611104\n",
       "2903  1121.673519        987.486104 -134.187415    Subvaluado  134.187415\n",
       "9711   687.500000       1051.361104  363.861104  Sobrevaluado  363.861104\n",
       "3059   166.666667        855.986104  689.319437  Sobrevaluado  689.319437"
      ]
     },
     "execution_count": 137,
     "metadata": {},
     "output_type": "execute_result"
    }
   ],
   "source": [
    "portfolio = pd.DataFrame(y_test).rename(columns={'price_usd_per_m2':'Real_Price'})\n",
    "portfolio['Model_Prediction']=y_pred_ts\n",
    "portfolio['diff'] = portfolio['Model_Prediction']-portfolio['Real_Price']\n",
    "portfolio['Sobre/Sub'] = portfolio['diff'].apply(lambda x: 'Sobrevaluado' if x>0 else 'Subvaluado')\n",
    "portfolio['abs_diff']=portfolio['diff'].abs()\n",
    "portfolio.head(10)"
   ]
  },
  {
   "cell_type": "code",
   "execution_count": 138,
   "metadata": {},
   "outputs": [
    {
     "data": {
      "text/plain": [
       "(55, 45)"
      ]
     },
     "execution_count": 138,
     "metadata": {},
     "output_type": "execute_result"
    }
   ],
   "source": [
    "sobrevaluados = portfolio.loc[portfolio['Sobre/Sub']=='Sobrevaluado','Sobre/Sub'].count()\n",
    "subvaluados = portfolio.loc[portfolio['Sobre/Sub']=='Subvaluado','Sobre/Sub'].count()\n",
    "sobrevaluados,subvaluados"
   ]
  },
  {
   "cell_type": "code",
   "execution_count": 139,
   "metadata": {},
   "outputs": [
    {
     "data": {
      "text/html": [
       "<div>\n",
       "<style scoped>\n",
       "    .dataframe tbody tr th:only-of-type {\n",
       "        vertical-align: middle;\n",
       "    }\n",
       "\n",
       "    .dataframe tbody tr th {\n",
       "        vertical-align: top;\n",
       "    }\n",
       "\n",
       "    .dataframe thead th {\n",
       "        text-align: right;\n",
       "    }\n",
       "</style>\n",
       "<table border=\"1\" class=\"dataframe\">\n",
       "  <thead>\n",
       "    <tr style=\"text-align: right;\">\n",
       "      <th></th>\n",
       "      <th>Real_Price</th>\n",
       "      <th>Model_Prediction</th>\n",
       "      <th>diff</th>\n",
       "      <th>abs_diff</th>\n",
       "    </tr>\n",
       "  </thead>\n",
       "  <tbody>\n",
       "    <tr>\n",
       "      <th>count</th>\n",
       "      <td>100.000000</td>\n",
       "      <td>100.000000</td>\n",
       "      <td>100.000000</td>\n",
       "      <td>100.000000</td>\n",
       "    </tr>\n",
       "    <tr>\n",
       "      <th>mean</th>\n",
       "      <td>1253.019177</td>\n",
       "      <td>1207.110830</td>\n",
       "      <td>-45.908346</td>\n",
       "      <td>325.238639</td>\n",
       "    </tr>\n",
       "    <tr>\n",
       "      <th>std</th>\n",
       "      <td>821.340701</td>\n",
       "      <td>595.335666</td>\n",
       "      <td>461.258831</td>\n",
       "      <td>328.694258</td>\n",
       "    </tr>\n",
       "    <tr>\n",
       "      <th>min</th>\n",
       "      <td>14.045455</td>\n",
       "      <td>-11.638896</td>\n",
       "      <td>-1461.159730</td>\n",
       "      <td>4.679286</td>\n",
       "    </tr>\n",
       "    <tr>\n",
       "      <th>25%</th>\n",
       "      <td>475.362319</td>\n",
       "      <td>673.970479</td>\n",
       "      <td>-240.297148</td>\n",
       "      <td>80.638515</td>\n",
       "    </tr>\n",
       "    <tr>\n",
       "      <th>50%</th>\n",
       "      <td>1291.259786</td>\n",
       "      <td>1254.454854</td>\n",
       "      <td>21.073425</td>\n",
       "      <td>231.469058</td>\n",
       "    </tr>\n",
       "    <tr>\n",
       "      <th>75%</th>\n",
       "      <td>1769.615882</td>\n",
       "      <td>1787.548604</td>\n",
       "      <td>224.801015</td>\n",
       "      <td>414.681713</td>\n",
       "    </tr>\n",
       "    <tr>\n",
       "      <th>max</th>\n",
       "      <td>3333.333333</td>\n",
       "      <td>2101.361104</td>\n",
       "      <td>1412.142354</td>\n",
       "      <td>1461.159730</td>\n",
       "    </tr>\n",
       "  </tbody>\n",
       "</table>\n",
       "</div>"
      ],
      "text/plain": [
       "        Real_Price  Model_Prediction         diff     abs_diff\n",
       "count   100.000000        100.000000   100.000000   100.000000\n",
       "mean   1253.019177       1207.110830   -45.908346   325.238639\n",
       "std     821.340701        595.335666   461.258831   328.694258\n",
       "min      14.045455        -11.638896 -1461.159730     4.679286\n",
       "25%     475.362319        673.970479  -240.297148    80.638515\n",
       "50%    1291.259786       1254.454854    21.073425   231.469058\n",
       "75%    1769.615882       1787.548604   224.801015   414.681713\n",
       "max    3333.333333       2101.361104  1412.142354  1461.159730"
      ]
     },
     "execution_count": 139,
     "metadata": {},
     "output_type": "execute_result"
    }
   ],
   "source": [
    "portfolio.describe()"
   ]
  },
  {
   "cell_type": "code",
   "execution_count": 140,
   "metadata": {},
   "outputs": [
    {
     "data": {
      "text/plain": [
       "(55, 45)"
      ]
     },
     "execution_count": 140,
     "metadata": {},
     "output_type": "execute_result"
    }
   ],
   "source": [
    "sobrevaluados = portfolio.loc[portfolio['Sobre/Sub']=='Sobrevaluado','Sobre/Sub'].count()\n",
    "subvaluados = portfolio.loc[portfolio['Sobre/Sub']=='Subvaluado','Sobre/Sub'].count()\n",
    "sobrevaluados,subvaluados"
   ]
  },
  {
   "cell_type": "code",
   "execution_count": 141,
   "metadata": {},
   "outputs": [
    {
     "data": {
      "image/png": "[encoded data removed]",
      "text/plain": [
       "<Figure size 1008x720 with 1 Axes>"
      ]
     },
     "metadata": {
      "needs_background": "light"
     },
     "output_type": "display_data"
    }
   ],
   "source": [
    "port_df = portfolio.reset_index().drop(columns='index').reset_index()\n",
    "port_plot_df = port_df.sample(100)\n",
    "#display(port_plot_df)\n",
    "#port_plot_df.plot(kind='scatter',x='index',y='diff',figsize=(8,6))\n",
    "plt.figure(figsize=(14,10))\n",
    "sobreval = port_plot_df.loc[port_plot_df['Sobre/Sub']=='Sobrevaluado']\n",
    "subval = port_plot_df.loc[port_plot_df['Sobre/Sub']=='Subvaluado']\n",
    "#plt.stem(port_plot_df['index'],port_plot_df['diff'])\n",
    "plt.stem(subval['index'],subval['diff'],linefmt='red',markerfmt='or',label='Subvaluado: '+str(subvaluados))\n",
    "plt.stem(sobreval['index'],sobreval['diff'],linefmt='green',markerfmt='og',label='Sobrevaluados: '+str(sobrevaluados))\n",
    "plt.legend(fontsize=16)\n",
    "plt.ylabel('Real Value - Predicted Value',fontsize=16)\n",
    "plt.savefig('../Images/Provincias/Portfolio Provincias.png')"
   ]
  },
  {
   "cell_type": "code",
   "execution_count": null,
   "metadata": {},
   "outputs": [],
   "source": []
  }
 ],
 "metadata": {
  "kernelspec": {
   "display_name": "Python 3",
   "language": "python",
   "name": "python3"
  },
  "language_info": {
   "codemirror_mode": {
    "name": "ipython",
    "version": 3
   },
   "file_extension": ".py",
   "mimetype": "text/x-python",
   "name": "python",
   "nbconvert_exporter": "python",
   "pygments_lexer": "ipython3",
   "version": "3.7.1"
  }
 },
 "nbformat": 4,
 "nbformat_minor": 2
}
