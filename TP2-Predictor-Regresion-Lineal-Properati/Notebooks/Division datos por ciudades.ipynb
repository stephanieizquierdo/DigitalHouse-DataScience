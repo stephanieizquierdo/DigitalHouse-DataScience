{
 "cells": [
  {
   "cell_type": "code",
   "execution_count": 26,
   "metadata": {},
   "outputs": [],
   "source": [
    "import numpy as np\n",
    "import pandas as pd\n",
    "import re\n",
    "import matplotlib.pyplot as plt\n",
    "import seaborn as sns"
   ]
  },
  {
   "cell_type": "code",
   "execution_count": 27,
   "metadata": {},
   "outputs": [],
   "source": [
    "data = pd.read_csv('../Data/datos_previos_clean.csv',index_col=0)"
   ]
  },
  {
   "cell_type": "code",
   "execution_count": 28,
   "metadata": {},
   "outputs": [
    {
     "data": {
      "text/html": [
       "<div>\n",
       "<style scoped>\n",
       "    .dataframe tbody tr th:only-of-type {\n",
       "        vertical-align: middle;\n",
       "    }\n",
       "\n",
       "    .dataframe tbody tr th {\n",
       "        vertical-align: top;\n",
       "    }\n",
       "\n",
       "    .dataframe thead th {\n",
       "        text-align: right;\n",
       "    }\n",
       "</style>\n",
       "<table border=\"1\" class=\"dataframe\">\n",
       "  <thead>\n",
       "    <tr style=\"text-align: right;\">\n",
       "      <th></th>\n",
       "      <th>tipo_propiedad</th>\n",
       "      <th>Provincia</th>\n",
       "      <th>Zona</th>\n",
       "      <th>Localidad</th>\n",
       "      <th>Barrio</th>\n",
       "      <th>place_name</th>\n",
       "      <th>cochera</th>\n",
       "      <th>gimnasio</th>\n",
       "      <th>piscina</th>\n",
       "      <th>SUM</th>\n",
       "      <th>...</th>\n",
       "      <th>balcon</th>\n",
       "      <th>patio</th>\n",
       "      <th>parrilla</th>\n",
       "      <th>floor</th>\n",
       "      <th>rooms</th>\n",
       "      <th>price_usd</th>\n",
       "      <th>sup_cub</th>\n",
       "      <th>sup_descub</th>\n",
       "      <th>sup_total</th>\n",
       "      <th>price_usd_per_m2</th>\n",
       "    </tr>\n",
       "  </thead>\n",
       "  <tbody>\n",
       "    <tr>\n",
       "      <th>0</th>\n",
       "      <td>PH</td>\n",
       "      <td>Capital Federal</td>\n",
       "      <td>CABA</td>\n",
       "      <td>Capital Federal</td>\n",
       "      <td>Mataderos</td>\n",
       "      <td>Mataderos</td>\n",
       "      <td>0.0</td>\n",
       "      <td>0.0</td>\n",
       "      <td>0.0</td>\n",
       "      <td>0.0</td>\n",
       "      <td>...</td>\n",
       "      <td>0.0</td>\n",
       "      <td>1.0</td>\n",
       "      <td>0.0</td>\n",
       "      <td>0.0</td>\n",
       "      <td>2.0</td>\n",
       "      <td>62000.0</td>\n",
       "      <td>40.0</td>\n",
       "      <td>15.0</td>\n",
       "      <td>55.0</td>\n",
       "      <td>1127.272727</td>\n",
       "    </tr>\n",
       "    <tr>\n",
       "      <th>1</th>\n",
       "      <td>apartment</td>\n",
       "      <td>Buenos Aires Costa Atlántica</td>\n",
       "      <td>BsAs</td>\n",
       "      <td>Mar del Plata</td>\n",
       "      <td>Centro</td>\n",
       "      <td>Centro</td>\n",
       "      <td>0.0</td>\n",
       "      <td>0.0</td>\n",
       "      <td>0.0</td>\n",
       "      <td>0.0</td>\n",
       "      <td>...</td>\n",
       "      <td>0.0</td>\n",
       "      <td>0.0</td>\n",
       "      <td>0.0</td>\n",
       "      <td>NaN</td>\n",
       "      <td>2.0</td>\n",
       "      <td>64000.0</td>\n",
       "      <td>35.0</td>\n",
       "      <td>0.0</td>\n",
       "      <td>35.0</td>\n",
       "      <td>1828.571429</td>\n",
       "    </tr>\n",
       "    <tr>\n",
       "      <th>2</th>\n",
       "      <td>PH</td>\n",
       "      <td>Bs.As. G.B.A. Zona Norte</td>\n",
       "      <td>GBA</td>\n",
       "      <td>Vicente López</td>\n",
       "      <td>Munro</td>\n",
       "      <td>Munro</td>\n",
       "      <td>0.0</td>\n",
       "      <td>0.0</td>\n",
       "      <td>0.0</td>\n",
       "      <td>0.0</td>\n",
       "      <td>...</td>\n",
       "      <td>0.0</td>\n",
       "      <td>1.0</td>\n",
       "      <td>0.0</td>\n",
       "      <td>0.0</td>\n",
       "      <td>3.0</td>\n",
       "      <td>130000.0</td>\n",
       "      <td>78.0</td>\n",
       "      <td>28.0</td>\n",
       "      <td>106.0</td>\n",
       "      <td>1226.415094</td>\n",
       "    </tr>\n",
       "    <tr>\n",
       "      <th>3</th>\n",
       "      <td>apartment</td>\n",
       "      <td>Capital Federal</td>\n",
       "      <td>CABA</td>\n",
       "      <td>Capital Federal</td>\n",
       "      <td>Belgrano</td>\n",
       "      <td>Belgrano</td>\n",
       "      <td>0.0</td>\n",
       "      <td>0.0</td>\n",
       "      <td>1.0</td>\n",
       "      <td>0.0</td>\n",
       "      <td>...</td>\n",
       "      <td>0.0</td>\n",
       "      <td>0.0</td>\n",
       "      <td>0.0</td>\n",
       "      <td>NaN</td>\n",
       "      <td>1.0</td>\n",
       "      <td>138000.0</td>\n",
       "      <td>40.0</td>\n",
       "      <td>5.0</td>\n",
       "      <td>45.0</td>\n",
       "      <td>3066.666667</td>\n",
       "    </tr>\n",
       "    <tr>\n",
       "      <th>4</th>\n",
       "      <td>apartment</td>\n",
       "      <td>Bs.As. G.B.A. Zona Norte</td>\n",
       "      <td>GBA</td>\n",
       "      <td>San Isidro</td>\n",
       "      <td>Martínez</td>\n",
       "      <td>Martínez</td>\n",
       "      <td>0.0</td>\n",
       "      <td>0.0</td>\n",
       "      <td>0.0</td>\n",
       "      <td>0.0</td>\n",
       "      <td>...</td>\n",
       "      <td>1.0</td>\n",
       "      <td>0.0</td>\n",
       "      <td>0.0</td>\n",
       "      <td>NaN</td>\n",
       "      <td>2.0</td>\n",
       "      <td>115000.0</td>\n",
       "      <td>36.0</td>\n",
       "      <td>3.0</td>\n",
       "      <td>39.0</td>\n",
       "      <td>2948.717949</td>\n",
       "    </tr>\n",
       "  </tbody>\n",
       "</table>\n",
       "<p>5 rows × 21 columns</p>\n",
       "</div>"
      ],
      "text/plain": [
       "  tipo_propiedad                     Provincia  Zona        Localidad  \\\n",
       "0             PH               Capital Federal  CABA  Capital Federal   \n",
       "1      apartment  Buenos Aires Costa Atlántica  BsAs    Mar del Plata   \n",
       "2             PH      Bs.As. G.B.A. Zona Norte   GBA    Vicente López   \n",
       "3      apartment               Capital Federal  CABA  Capital Federal   \n",
       "4      apartment      Bs.As. G.B.A. Zona Norte   GBA       San Isidro   \n",
       "\n",
       "      Barrio place_name  cochera  gimnasio  piscina  SUM  ...  balcon  patio  \\\n",
       "0  Mataderos  Mataderos      0.0       0.0      0.0  0.0  ...     0.0    1.0   \n",
       "1     Centro     Centro      0.0       0.0      0.0  0.0  ...     0.0    0.0   \n",
       "2      Munro      Munro      0.0       0.0      0.0  0.0  ...     0.0    1.0   \n",
       "3   Belgrano   Belgrano      0.0       0.0      1.0  0.0  ...     0.0    0.0   \n",
       "4   Martínez   Martínez      0.0       0.0      0.0  0.0  ...     1.0    0.0   \n",
       "\n",
       "   parrilla  floor  rooms  price_usd  sup_cub  sup_descub  sup_total  \\\n",
       "0       0.0    0.0    2.0    62000.0     40.0        15.0       55.0   \n",
       "1       0.0    NaN    2.0    64000.0     35.0         0.0       35.0   \n",
       "2       0.0    0.0    3.0   130000.0     78.0        28.0      106.0   \n",
       "3       0.0    NaN    1.0   138000.0     40.0         5.0       45.0   \n",
       "4       0.0    NaN    2.0   115000.0     36.0         3.0       39.0   \n",
       "\n",
       "   price_usd_per_m2  \n",
       "0       1127.272727  \n",
       "1       1828.571429  \n",
       "2       1226.415094  \n",
       "3       3066.666667  \n",
       "4       2948.717949  \n",
       "\n",
       "[5 rows x 21 columns]"
      ]
     },
     "execution_count": 28,
     "metadata": {},
     "output_type": "execute_result"
    }
   ],
   "source": [
    "data.head()"
   ]
  },
  {
   "cell_type": "code",
   "execution_count": 29,
   "metadata": {},
   "outputs": [
    {
     "data": {
      "text/plain": [
       "Index(['tipo_propiedad', 'Provincia', 'Zona', 'Localidad', 'Barrio',\n",
       "       'place_name', 'cochera', 'gimnasio', 'piscina', 'SUM', 'laundry',\n",
       "       'balcon', 'patio', 'parrilla', 'floor', 'rooms', 'price_usd', 'sup_cub',\n",
       "       'sup_descub', 'sup_total', 'price_usd_per_m2'],\n",
       "      dtype='object')"
      ]
     },
     "execution_count": 29,
     "metadata": {},
     "output_type": "execute_result"
    }
   ],
   "source": [
    "data.columns"
   ]
  },
  {
   "cell_type": "code",
   "execution_count": 30,
   "metadata": {},
   "outputs": [
    {
     "data": {
      "text/plain": [
       "array(['Capital Federal', 'Buenos Aires Costa Atlántica',\n",
       "       'Bs.As. G.B.A. Zona Norte', 'Bs.As. G.B.A. Zona Oeste', 'Córdoba',\n",
       "       'Bs.As. G.B.A. Zona Sur', 'Santa Fe', 'Misiones', 'Entre Ríos',\n",
       "       'Buenos Aires Interior', 'Río Negro', 'Mendoza', 'Corrientes',\n",
       "       'Tucumán', 'Salta', 'Neuquén', 'Chubut', 'Chaco', 'San Luis',\n",
       "       'Tierra Del Fuego', 'Santa Cruz', 'La Pampa', 'Catamarca', 'Jujuy',\n",
       "       'San Juan', 'La Rioja', 'Santiago Del Estero'], dtype=object)"
      ]
     },
     "execution_count": 30,
     "metadata": {},
     "output_type": "execute_result"
    }
   ],
   "source": [
    "data['Provincia'].unique()"
   ]
  },
  {
   "cell_type": "code",
   "execution_count": 31,
   "metadata": {},
   "outputs": [
    {
     "data": {
      "text/plain": [
       "array(['CABA', 'BsAs', 'GBA', 'Córdoba', 'Santa Fe', 'Resto País'],\n",
       "      dtype=object)"
      ]
     },
     "execution_count": 31,
     "metadata": {},
     "output_type": "execute_result"
    }
   ],
   "source": [
    "data['Zona'].unique()"
   ]
  },
  {
   "cell_type": "code",
   "execution_count": 32,
   "metadata": {
    "scrolled": true
   },
   "outputs": [
    {
     "name": "stdout",
     "output_type": "stream",
     "text": [
      "['Capital Federal' 'Bs.As. G.B.A. Zona Norte' 'Bs.As. G.B.A. Zona Oeste'\n",
      " 'Buenos Aires Costa Atlántica' 'Bs.As. G.B.A. Zona Sur' 'Córdoba'\n",
      " 'Santa Fe' 'Buenos Aires Interior']\n",
      "\n",
      "Capital Federal                 12142\n",
      "Bs.As. G.B.A. Zona Norte        11684\n",
      "Bs.As. G.B.A. Zona Oeste         4650\n",
      "Buenos Aires Costa Atlántica     4450\n",
      "Bs.As. G.B.A. Zona Sur           4090\n",
      "Córdoba                          2605\n",
      "Santa Fe                         2593\n",
      "Buenos Aires Interior             643\n",
      "Corrientes                        218\n",
      "Neuquén                           152\n",
      "Río Negro                         137\n",
      "Mendoza                           125\n",
      "Misiones                          118\n",
      "San Luis                           95\n",
      "Chubut                             78\n",
      "Entre Ríos                         39\n",
      "Salta                              39\n",
      "Tucumán                            35\n",
      "Tierra Del Fuego                   16\n",
      "Santa Cruz                         10\n",
      "Chaco                               9\n",
      "La Pampa                            4\n",
      "Jujuy                               3\n",
      "Catamarca                           2\n",
      "La Rioja                            2\n",
      "Santiago Del Estero                 1\n",
      "San Juan                            1\n",
      "Name: Provincia, dtype: int64\n"
     ]
    }
   ],
   "source": [
    "print(data['Provincia'].value_counts(sort=True)[0:8].reset_index()['index'].values)\n",
    "print()\n",
    "#print(data['Provincia'].value_counts(sort=True)[0:8])\n",
    "print(data['Provincia'].value_counts(sort=True))"
   ]
  },
  {
   "cell_type": "code",
   "execution_count": 97,
   "metadata": {},
   "outputs": [
    {
     "data": {
      "text/html": [
       "<div>\n",
       "<style scoped>\n",
       "    .dataframe tbody tr th:only-of-type {\n",
       "        vertical-align: middle;\n",
       "    }\n",
       "\n",
       "    .dataframe tbody tr th {\n",
       "        vertical-align: top;\n",
       "    }\n",
       "\n",
       "    .dataframe thead th {\n",
       "        text-align: right;\n",
       "    }\n",
       "</style>\n",
       "<table border=\"1\" class=\"dataframe\">\n",
       "  <thead>\n",
       "    <tr style=\"text-align: right;\">\n",
       "      <th></th>\n",
       "      <th>Provincia</th>\n",
       "      <th>Datos</th>\n",
       "    </tr>\n",
       "  </thead>\n",
       "  <tbody>\n",
       "    <tr>\n",
       "      <th>0</th>\n",
       "      <td>Buenos Aires Interior</td>\n",
       "      <td>643</td>\n",
       "    </tr>\n",
       "    <tr>\n",
       "      <th>1</th>\n",
       "      <td>Santa Fe</td>\n",
       "      <td>2593</td>\n",
       "    </tr>\n",
       "    <tr>\n",
       "      <th>2</th>\n",
       "      <td>Córdoba</td>\n",
       "      <td>2605</td>\n",
       "    </tr>\n",
       "    <tr>\n",
       "      <th>3</th>\n",
       "      <td>Bs.As. G.B.A. Zona Sur</td>\n",
       "      <td>4090</td>\n",
       "    </tr>\n",
       "    <tr>\n",
       "      <th>4</th>\n",
       "      <td>Buenos Aires Costa Atlántica</td>\n",
       "      <td>4450</td>\n",
       "    </tr>\n",
       "    <tr>\n",
       "      <th>5</th>\n",
       "      <td>Bs.As. G.B.A. Zona Oeste</td>\n",
       "      <td>4650</td>\n",
       "    </tr>\n",
       "    <tr>\n",
       "      <th>6</th>\n",
       "      <td>Bs.As. G.B.A. Zona Norte</td>\n",
       "      <td>11684</td>\n",
       "    </tr>\n",
       "    <tr>\n",
       "      <th>7</th>\n",
       "      <td>Capital Federal</td>\n",
       "      <td>12142</td>\n",
       "    </tr>\n",
       "  </tbody>\n",
       "</table>\n",
       "</div>"
      ],
      "text/plain": [
       "                      Provincia  Datos\n",
       "0         Buenos Aires Interior    643\n",
       "1                      Santa Fe   2593\n",
       "2                       Córdoba   2605\n",
       "3        Bs.As. G.B.A. Zona Sur   4090\n",
       "4  Buenos Aires Costa Atlántica   4450\n",
       "5      Bs.As. G.B.A. Zona Oeste   4650\n",
       "6      Bs.As. G.B.A. Zona Norte  11684\n",
       "7               Capital Federal  12142"
      ]
     },
     "execution_count": 97,
     "metadata": {},
     "output_type": "execute_result"
    }
   ],
   "source": [
    "a = pd.DataFrame(data['Provincia'].value_counts(sort=True)[0:8]).reset_index()\n",
    "datos_por_prov = a.copy()\n",
    "datos_por_prov['Prov'] = datos_por_prov['index']\n",
    "datos_por_prov['Datos'] = datos_por_prov['Provincia']\n",
    "datos_por_prov.drop(columns=['index','Provincia'],inplace=True)\n",
    "datos_por_prov.rename(columns={'Prov':'Provincia'},inplace=True)\n",
    "datos_por_prov.sort_values(by='Datos',ascending=True,inplace=True)\n",
    "datos_por_prov = datos_por_prov.reset_index().drop(columns=['index'])\n",
    "datos_por_prov"
   ]
  },
  {
   "cell_type": "code",
   "execution_count": 110,
   "metadata": {},
   "outputs": [
    {
     "data": {
      "image/png": "[encoded data removed]",
      "text/plain": [
       "<Figure size 720x576 with 1 Axes>"
      ]
     },
     "metadata": {
      "needs_background": "light"
     },
     "output_type": "display_data"
    }
   ],
   "source": [
    "plt.figure(figsize=(10,8))\n",
    "plt.barh(y=datos_por_prov['Provincia'],width=datos_por_prov['Datos'])\n",
    "for i,v in enumerate(datos_por_prov['Provincia']):\n",
    "    plt.text(datos_por_prov['Datos'][i],i,datos_por_prov['Datos'][i],fontsize=13)\n",
    "plt.xlim([0,13300])\n",
    "plt.title('Cantidad de Datos por Provincias',fontsize=16)\n",
    "plt.savefig('../Images/Cant. de Datos por Provincias.png')"
   ]
  },
  {
   "cell_type": "code",
   "execution_count": 40,
   "metadata": {},
   "outputs": [
    {
     "data": {
      "text/plain": [
       "<matplotlib.axes._subplots.AxesSubplot at 0x2fbf2b646d8>"
      ]
     },
     "execution_count": 40,
     "metadata": {},
     "output_type": "execute_result"
    },
    {
     "data": {
      "image/png": "[encoded data removed]",
      "text/plain": [
       "<Figure size 720x576 with 1 Axes>"
      ]
     },
     "metadata": {
      "needs_background": "light"
     },
     "output_type": "display_data"
    }
   ],
   "source": [
    "datos_por_prov.plot(kind='barh',y='Datos',x='Provincia',figsize=(10,8))"
   ]
  },
  {
   "cell_type": "code",
   "execution_count": 9,
   "metadata": {},
   "outputs": [
    {
     "data": {
      "text/plain": [
       "GBA           20424\n",
       "CABA          12142\n",
       "BsAs           5093\n",
       "Córdoba        2605\n",
       "Santa Fe       2593\n",
       "Resto País     1084\n",
       "Name: Zona, dtype: int64"
      ]
     },
     "execution_count": 9,
     "metadata": {},
     "output_type": "execute_result"
    }
   ],
   "source": [
    "data['Zona'].value_counts(sort=True)"
   ]
  },
  {
   "cell_type": "code",
   "execution_count": 9,
   "metadata": {},
   "outputs": [
    {
     "data": {
      "text/plain": [
       "array(['GBA', 'CABA', 'BsAs', 'Córdoba', 'Santa Fe', 'Resto País'],\n",
       "      dtype=object)"
      ]
     },
     "execution_count": 9,
     "metadata": {},
     "output_type": "execute_result"
    }
   ],
   "source": [
    "data['Zona'].value_counts(sort=True).reset_index()['index'].values"
   ]
  },
  {
   "cell_type": "code",
   "execution_count": 10,
   "metadata": {},
   "outputs": [],
   "source": [
    "capital_df=data.loc[data['Provincia']=='Capital Federal'].copy().reset_index().drop(columns='index')\n",
    "gbanorte_df=data.loc[data['Provincia']=='Bs.As. G.B.A. Zona Norte'].copy().reset_index().drop(columns='index')\n",
    "costa_df=data.loc[data['Provincia']=='Buenos Aires Costa Atlántica'].copy().reset_index().drop(columns='index')\n",
    "gbasur_df=data.loc[data['Provincia']=='Bs.As. G.B.A. Zona Sur'].copy().reset_index().drop(columns='index')\n",
    "gbaoeste_df=data.loc[data['Provincia']=='Bs.As. G.B.A. Zona Oeste'].copy().reset_index().drop(columns='index')\n",
    "cordoba_df=data.loc[data['Provincia']=='Córdoba'].copy().reset_index().drop(columns='index')\n",
    "santafe_df=data.loc[data['Provincia']=='Santa Fe'].copy().reset_index().drop(columns='index')\n",
    "bsasint_df=data.loc[data['Provincia']=='Buenos Aires Interior'].copy().reset_index().drop(columns='index')"
   ]
  },
  {
   "cell_type": "code",
   "execution_count": 11,
   "metadata": {},
   "outputs": [],
   "source": [
    "capital_df.to_csv('../Data/data_capital.csv')\n",
    "#gbanorte_df.to_csv('../Data/data_gbanorte.csv')\n",
    "#gbaoeste_df.to_csv('../Data/data_gbaoeste.csv')\n",
    "#gbasur_df.to_csv('../Data/data_gbasur.csv')\n",
    "#costa_df.to_csv('../Data/data_costa.csv')\n",
    "#cordoba_df.to_csv('../Data/data_cordoba.csv')\n",
    "#santafe_df.to_csv('../Data/data_santafe.csv')\n",
    "#bsasint_df.to_csv('../Data/data_bsasint.csv')"
   ]
  },
  {
   "cell_type": "code",
   "execution_count": 12,
   "metadata": {},
   "outputs": [],
   "source": [
    "gba_df = data.loc[data['Zona']=='GBA'].copy().reset_index().drop(columns='index')\n",
    "bsas_df = data.loc[data['Zona']=='BsAs'].copy().reset_index().drop(columns='index')\n",
    "resto_df = data.loc[data['Zona']=='Resto País'].copy().reset_index().drop(columns='index')\n",
    "\n",
    "gba_df.to_csv('../Data/data_todo_gba.csv')\n",
    "#bsas_df.to_csv('../Data/data_resto_bsas.csv')\n",
    "#resto_df.to_csv('../Data/data_resto_pais.csv')\n"
   ]
  },
  {
   "cell_type": "code",
   "execution_count": 14,
   "metadata": {},
   "outputs": [],
   "source": [
    "combo_provs_df = data.loc[(data['Provincia']=='Buenos Aires Costa Atlántica')|(data['Provincia']=='Córdoba')|(data['Provincia']=='Santa Fe')|(data['Provincia']=='Buenos Aires Interior')].copy().reset_index().drop(columns='index')\n",
    "combo_provs_df.to_csv('../Data/combo_provincias.csv')"
   ]
  }
 ],
 "metadata": {
  "kernelspec": {
   "display_name": "Python 3",
   "language": "python",
   "name": "python3"
  },
  "language_info": {
   "codemirror_mode": {
    "name": "ipython",
    "version": 3
   },
   "file_extension": ".py",
   "mimetype": "text/x-python",
   "name": "python",
   "nbconvert_exporter": "python",
   "pygments_lexer": "ipython3",
   "version": "3.7.1"
  }
 },
 "nbformat": 4,
 "nbformat_minor": 2
}
