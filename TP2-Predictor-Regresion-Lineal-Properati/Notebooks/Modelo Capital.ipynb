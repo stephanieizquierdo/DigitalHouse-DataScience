{
 "cells": [
  {
   "cell_type": "markdown",
   "metadata": {},
   "source": [
    "# 1. Importación de Librerías"
   ]
  },
  {
   "cell_type": "code",
   "execution_count": 2,
   "metadata": {},
   "outputs": [],
   "source": [
    "import numpy as np\n",
    "import pandas as pd\n",
    "import re\n",
    "import matplotlib.pyplot as plt\n",
    "import seaborn as sns"
   ]
  },
  {
   "cell_type": "code",
   "execution_count": 3,
   "metadata": {},
   "outputs": [],
   "source": [
    "data = pd.read_csv('../Data/data_capital.csv',index_col=0)"
   ]
  },
  {
   "cell_type": "code",
   "execution_count": 4,
   "metadata": {},
   "outputs": [
    {
     "data": {
      "text/html": [
       "<div>\n",
       "<style scoped>\n",
       "    .dataframe tbody tr th:only-of-type {\n",
       "        vertical-align: middle;\n",
       "    }\n",
       "\n",
       "    .dataframe tbody tr th {\n",
       "        vertical-align: top;\n",
       "    }\n",
       "\n",
       "    .dataframe thead th {\n",
       "        text-align: right;\n",
       "    }\n",
       "</style>\n",
       "<table border=\"1\" class=\"dataframe\">\n",
       "  <thead>\n",
       "    <tr style=\"text-align: right;\">\n",
       "      <th></th>\n",
       "      <th>tipo_propiedad</th>\n",
       "      <th>Provincia</th>\n",
       "      <th>Zona</th>\n",
       "      <th>Localidad</th>\n",
       "      <th>Barrio</th>\n",
       "      <th>place_name</th>\n",
       "      <th>cochera</th>\n",
       "      <th>gimnasio</th>\n",
       "      <th>piscina</th>\n",
       "      <th>SUM</th>\n",
       "      <th>...</th>\n",
       "      <th>balcon</th>\n",
       "      <th>patio</th>\n",
       "      <th>parrilla</th>\n",
       "      <th>floor</th>\n",
       "      <th>rooms</th>\n",
       "      <th>price_usd</th>\n",
       "      <th>sup_cub</th>\n",
       "      <th>sup_descub</th>\n",
       "      <th>sup_total</th>\n",
       "      <th>price_usd_per_m2</th>\n",
       "    </tr>\n",
       "  </thead>\n",
       "  <tbody>\n",
       "    <tr>\n",
       "      <th>0</th>\n",
       "      <td>PH</td>\n",
       "      <td>Capital Federal</td>\n",
       "      <td>CABA</td>\n",
       "      <td>Capital Federal</td>\n",
       "      <td>Mataderos</td>\n",
       "      <td>Mataderos</td>\n",
       "      <td>0.0</td>\n",
       "      <td>0.0</td>\n",
       "      <td>0.0</td>\n",
       "      <td>0.0</td>\n",
       "      <td>...</td>\n",
       "      <td>0.0</td>\n",
       "      <td>1.0</td>\n",
       "      <td>0.0</td>\n",
       "      <td>0.0</td>\n",
       "      <td>2.0</td>\n",
       "      <td>62000.0</td>\n",
       "      <td>40.0</td>\n",
       "      <td>15.0</td>\n",
       "      <td>55.0</td>\n",
       "      <td>1127.272727</td>\n",
       "    </tr>\n",
       "    <tr>\n",
       "      <th>1</th>\n",
       "      <td>apartment</td>\n",
       "      <td>Capital Federal</td>\n",
       "      <td>CABA</td>\n",
       "      <td>Capital Federal</td>\n",
       "      <td>Belgrano</td>\n",
       "      <td>Belgrano</td>\n",
       "      <td>0.0</td>\n",
       "      <td>0.0</td>\n",
       "      <td>1.0</td>\n",
       "      <td>0.0</td>\n",
       "      <td>...</td>\n",
       "      <td>0.0</td>\n",
       "      <td>0.0</td>\n",
       "      <td>0.0</td>\n",
       "      <td>NaN</td>\n",
       "      <td>1.0</td>\n",
       "      <td>138000.0</td>\n",
       "      <td>40.0</td>\n",
       "      <td>5.0</td>\n",
       "      <td>45.0</td>\n",
       "      <td>3066.666667</td>\n",
       "    </tr>\n",
       "    <tr>\n",
       "      <th>2</th>\n",
       "      <td>apartment</td>\n",
       "      <td>Capital Federal</td>\n",
       "      <td>CABA</td>\n",
       "      <td>Capital Federal</td>\n",
       "      <td>Palermo</td>\n",
       "      <td>Palermo soho</td>\n",
       "      <td>0.0</td>\n",
       "      <td>1.0</td>\n",
       "      <td>1.0</td>\n",
       "      <td>1.0</td>\n",
       "      <td>...</td>\n",
       "      <td>1.0</td>\n",
       "      <td>0.0</td>\n",
       "      <td>0.0</td>\n",
       "      <td>NaN</td>\n",
       "      <td>1.0</td>\n",
       "      <td>111700.0</td>\n",
       "      <td>30.0</td>\n",
       "      <td>20.0</td>\n",
       "      <td>50.0</td>\n",
       "      <td>2234.000000</td>\n",
       "    </tr>\n",
       "    <tr>\n",
       "      <th>3</th>\n",
       "      <td>apartment</td>\n",
       "      <td>Capital Federal</td>\n",
       "      <td>CABA</td>\n",
       "      <td>Capital Federal</td>\n",
       "      <td>Palermo</td>\n",
       "      <td>Palermo soho</td>\n",
       "      <td>0.0</td>\n",
       "      <td>1.0</td>\n",
       "      <td>1.0</td>\n",
       "      <td>1.0</td>\n",
       "      <td>...</td>\n",
       "      <td>1.0</td>\n",
       "      <td>0.0</td>\n",
       "      <td>0.0</td>\n",
       "      <td>NaN</td>\n",
       "      <td>1.0</td>\n",
       "      <td>147900.0</td>\n",
       "      <td>31.0</td>\n",
       "      <td>11.0</td>\n",
       "      <td>42.0</td>\n",
       "      <td>3521.428571</td>\n",
       "    </tr>\n",
       "    <tr>\n",
       "      <th>4</th>\n",
       "      <td>apartment</td>\n",
       "      <td>Capital Federal</td>\n",
       "      <td>CABA</td>\n",
       "      <td>Capital Federal</td>\n",
       "      <td>Flores</td>\n",
       "      <td>Flores</td>\n",
       "      <td>0.0</td>\n",
       "      <td>0.0</td>\n",
       "      <td>0.0</td>\n",
       "      <td>0.0</td>\n",
       "      <td>...</td>\n",
       "      <td>1.0</td>\n",
       "      <td>0.0</td>\n",
       "      <td>0.0</td>\n",
       "      <td>NaN</td>\n",
       "      <td>2.0</td>\n",
       "      <td>75000.0</td>\n",
       "      <td>43.0</td>\n",
       "      <td>0.0</td>\n",
       "      <td>43.0</td>\n",
       "      <td>1744.186047</td>\n",
       "    </tr>\n",
       "  </tbody>\n",
       "</table>\n",
       "<p>5 rows × 21 columns</p>\n",
       "</div>"
      ],
      "text/plain": [
       "  tipo_propiedad        Provincia  Zona        Localidad     Barrio  \\\n",
       "0             PH  Capital Federal  CABA  Capital Federal  Mataderos   \n",
       "1      apartment  Capital Federal  CABA  Capital Federal   Belgrano   \n",
       "2      apartment  Capital Federal  CABA  Capital Federal    Palermo   \n",
       "3      apartment  Capital Federal  CABA  Capital Federal    Palermo   \n",
       "4      apartment  Capital Federal  CABA  Capital Federal     Flores   \n",
       "\n",
       "     place_name  cochera  gimnasio  piscina  SUM  ...  balcon  patio  \\\n",
       "0     Mataderos      0.0       0.0      0.0  0.0  ...     0.0    1.0   \n",
       "1      Belgrano      0.0       0.0      1.0  0.0  ...     0.0    0.0   \n",
       "2  Palermo soho      0.0       1.0      1.0  1.0  ...     1.0    0.0   \n",
       "3  Palermo soho      0.0       1.0      1.0  1.0  ...     1.0    0.0   \n",
       "4        Flores      0.0       0.0      0.0  0.0  ...     1.0    0.0   \n",
       "\n",
       "   parrilla  floor  rooms  price_usd  sup_cub  sup_descub  sup_total  \\\n",
       "0       0.0    0.0    2.0    62000.0     40.0        15.0       55.0   \n",
       "1       0.0    NaN    1.0   138000.0     40.0         5.0       45.0   \n",
       "2       0.0    NaN    1.0   111700.0     30.0        20.0       50.0   \n",
       "3       0.0    NaN    1.0   147900.0     31.0        11.0       42.0   \n",
       "4       0.0    NaN    2.0    75000.0     43.0         0.0       43.0   \n",
       "\n",
       "   price_usd_per_m2  \n",
       "0       1127.272727  \n",
       "1       3066.666667  \n",
       "2       2234.000000  \n",
       "3       3521.428571  \n",
       "4       1744.186047  \n",
       "\n",
       "[5 rows x 21 columns]"
      ]
     },
     "execution_count": 4,
     "metadata": {},
     "output_type": "execute_result"
    }
   ],
   "source": [
    "data.head()"
   ]
  },
  {
   "cell_type": "code",
   "execution_count": 5,
   "metadata": {},
   "outputs": [
    {
     "data": {
      "text/plain": [
       "Index(['tipo_propiedad', 'Provincia', 'Zona', 'Localidad', 'Barrio',\n",
       "       'place_name', 'cochera', 'gimnasio', 'piscina', 'SUM', 'laundry',\n",
       "       'balcon', 'patio', 'parrilla', 'floor', 'rooms', 'price_usd', 'sup_cub',\n",
       "       'sup_descub', 'sup_total', 'price_usd_per_m2'],\n",
       "      dtype='object')"
      ]
     },
     "execution_count": 5,
     "metadata": {},
     "output_type": "execute_result"
    }
   ],
   "source": [
    "data.columns"
   ]
  },
  {
   "cell_type": "code",
   "execution_count": 6,
   "metadata": {},
   "outputs": [
    {
     "data": {
      "text/plain": [
       "(12142, 21)"
      ]
     },
     "execution_count": 6,
     "metadata": {},
     "output_type": "execute_result"
    }
   ],
   "source": [
    "data.shape"
   ]
  },
  {
   "cell_type": "code",
   "execution_count": 7,
   "metadata": {},
   "outputs": [
    {
     "data": {
      "text/plain": [
       "tipo_propiedad         0\n",
       "Provincia              0\n",
       "Zona                   0\n",
       "Localidad              0\n",
       "Barrio               472\n",
       "place_name             0\n",
       "cochera                0\n",
       "gimnasio               0\n",
       "piscina                0\n",
       "SUM                    0\n",
       "laundry                0\n",
       "balcon                 0\n",
       "patio                  0\n",
       "parrilla               0\n",
       "floor               9260\n",
       "rooms                  0\n",
       "price_usd              0\n",
       "sup_cub             1314\n",
       "sup_descub          1987\n",
       "sup_total            673\n",
       "price_usd_per_m2       0\n",
       "dtype: int64"
      ]
     },
     "execution_count": 7,
     "metadata": {},
     "output_type": "execute_result"
    }
   ],
   "source": [
    "data.isna().sum()"
   ]
  },
  {
   "cell_type": "markdown",
   "metadata": {},
   "source": [
    "# 2. Análisis de los Datos"
   ]
  },
  {
   "cell_type": "code",
   "execution_count": 8,
   "metadata": {},
   "outputs": [
    {
     "data": {
      "text/html": [
       "<div>\n",
       "<style scoped>\n",
       "    .dataframe tbody tr th:only-of-type {\n",
       "        vertical-align: middle;\n",
       "    }\n",
       "\n",
       "    .dataframe tbody tr th {\n",
       "        vertical-align: top;\n",
       "    }\n",
       "\n",
       "    .dataframe thead th {\n",
       "        text-align: right;\n",
       "    }\n",
       "</style>\n",
       "<table border=\"1\" class=\"dataframe\">\n",
       "  <thead>\n",
       "    <tr style=\"text-align: right;\">\n",
       "      <th></th>\n",
       "      <th>cochera</th>\n",
       "      <th>gimnasio</th>\n",
       "      <th>piscina</th>\n",
       "      <th>SUM</th>\n",
       "      <th>laundry</th>\n",
       "      <th>balcon</th>\n",
       "      <th>patio</th>\n",
       "      <th>parrilla</th>\n",
       "      <th>floor</th>\n",
       "      <th>rooms</th>\n",
       "      <th>price_usd</th>\n",
       "      <th>sup_cub</th>\n",
       "      <th>sup_descub</th>\n",
       "      <th>sup_total</th>\n",
       "      <th>price_usd_per_m2</th>\n",
       "    </tr>\n",
       "  </thead>\n",
       "  <tbody>\n",
       "    <tr>\n",
       "      <th>count</th>\n",
       "      <td>12142.000000</td>\n",
       "      <td>12142.000000</td>\n",
       "      <td>12142.000000</td>\n",
       "      <td>12142.000000</td>\n",
       "      <td>12142.000000</td>\n",
       "      <td>12142.000000</td>\n",
       "      <td>12142.000000</td>\n",
       "      <td>12142.000000</td>\n",
       "      <td>2882.000000</td>\n",
       "      <td>12142.000000</td>\n",
       "      <td>1.214200e+04</td>\n",
       "      <td>10828.000000</td>\n",
       "      <td>10155.000000</td>\n",
       "      <td>11469.000000</td>\n",
       "      <td>12142.000000</td>\n",
       "    </tr>\n",
       "    <tr>\n",
       "      <th>mean</th>\n",
       "      <td>0.340059</td>\n",
       "      <td>0.108631</td>\n",
       "      <td>0.261818</td>\n",
       "      <td>0.261077</td>\n",
       "      <td>0.365920</td>\n",
       "      <td>0.487317</td>\n",
       "      <td>0.205156</td>\n",
       "      <td>0.303986</td>\n",
       "      <td>1.634629</td>\n",
       "      <td>2.064899</td>\n",
       "      <td>1.489550e+05</td>\n",
       "      <td>55.850753</td>\n",
       "      <td>13.386370</td>\n",
       "      <td>69.777067</td>\n",
       "      <td>2367.199874</td>\n",
       "    </tr>\n",
       "    <tr>\n",
       "      <th>std</th>\n",
       "      <td>0.473748</td>\n",
       "      <td>0.311189</td>\n",
       "      <td>0.439642</td>\n",
       "      <td>0.439240</td>\n",
       "      <td>0.481707</td>\n",
       "      <td>0.499860</td>\n",
       "      <td>0.403832</td>\n",
       "      <td>0.459996</td>\n",
       "      <td>3.082363</td>\n",
       "      <td>1.118940</td>\n",
       "      <td>1.448320e+05</td>\n",
       "      <td>56.445464</td>\n",
       "      <td>49.596652</td>\n",
       "      <td>94.833156</td>\n",
       "      <td>777.702164</td>\n",
       "    </tr>\n",
       "    <tr>\n",
       "      <th>min</th>\n",
       "      <td>0.000000</td>\n",
       "      <td>0.000000</td>\n",
       "      <td>0.000000</td>\n",
       "      <td>0.000000</td>\n",
       "      <td>0.000000</td>\n",
       "      <td>0.000000</td>\n",
       "      <td>0.000000</td>\n",
       "      <td>0.000000</td>\n",
       "      <td>0.000000</td>\n",
       "      <td>1.000000</td>\n",
       "      <td>1.861978e+03</td>\n",
       "      <td>10.000000</td>\n",
       "      <td>0.000000</td>\n",
       "      <td>10.000000</td>\n",
       "      <td>62.065932</td>\n",
       "    </tr>\n",
       "    <tr>\n",
       "      <th>25%</th>\n",
       "      <td>0.000000</td>\n",
       "      <td>0.000000</td>\n",
       "      <td>0.000000</td>\n",
       "      <td>0.000000</td>\n",
       "      <td>0.000000</td>\n",
       "      <td>0.000000</td>\n",
       "      <td>0.000000</td>\n",
       "      <td>0.000000</td>\n",
       "      <td>0.000000</td>\n",
       "      <td>1.000000</td>\n",
       "      <td>8.700000e+04</td>\n",
       "      <td>33.000000</td>\n",
       "      <td>0.000000</td>\n",
       "      <td>37.000000</td>\n",
       "      <td>1914.893617</td>\n",
       "    </tr>\n",
       "    <tr>\n",
       "      <th>50%</th>\n",
       "      <td>0.000000</td>\n",
       "      <td>0.000000</td>\n",
       "      <td>0.000000</td>\n",
       "      <td>0.000000</td>\n",
       "      <td>0.000000</td>\n",
       "      <td>0.000000</td>\n",
       "      <td>0.000000</td>\n",
       "      <td>0.000000</td>\n",
       "      <td>0.000000</td>\n",
       "      <td>2.000000</td>\n",
       "      <td>1.150000e+05</td>\n",
       "      <td>41.000000</td>\n",
       "      <td>4.000000</td>\n",
       "      <td>46.000000</td>\n",
       "      <td>2351.351351</td>\n",
       "    </tr>\n",
       "    <tr>\n",
       "      <th>75%</th>\n",
       "      <td>1.000000</td>\n",
       "      <td>0.000000</td>\n",
       "      <td>1.000000</td>\n",
       "      <td>1.000000</td>\n",
       "      <td>1.000000</td>\n",
       "      <td>1.000000</td>\n",
       "      <td>0.000000</td>\n",
       "      <td>1.000000</td>\n",
       "      <td>2.000000</td>\n",
       "      <td>3.000000</td>\n",
       "      <td>1.520000e+05</td>\n",
       "      <td>49.000000</td>\n",
       "      <td>7.000000</td>\n",
       "      <td>56.000000</td>\n",
       "      <td>2812.500000</td>\n",
       "    </tr>\n",
       "    <tr>\n",
       "      <th>max</th>\n",
       "      <td>1.000000</td>\n",
       "      <td>1.000000</td>\n",
       "      <td>1.000000</td>\n",
       "      <td>1.000000</td>\n",
       "      <td>1.000000</td>\n",
       "      <td>1.000000</td>\n",
       "      <td>1.000000</td>\n",
       "      <td>1.000000</td>\n",
       "      <td>20.000000</td>\n",
       "      <td>7.000000</td>\n",
       "      <td>3.000000e+06</td>\n",
       "      <td>400.000000</td>\n",
       "      <td>797.000000</td>\n",
       "      <td>822.000000</td>\n",
       "      <td>7256.304348</td>\n",
       "    </tr>\n",
       "  </tbody>\n",
       "</table>\n",
       "</div>"
      ],
      "text/plain": [
       "            cochera      gimnasio       piscina           SUM       laundry  \\\n",
       "count  12142.000000  12142.000000  12142.000000  12142.000000  12142.000000   \n",
       "mean       0.340059      0.108631      0.261818      0.261077      0.365920   \n",
       "std        0.473748      0.311189      0.439642      0.439240      0.481707   \n",
       "min        0.000000      0.000000      0.000000      0.000000      0.000000   \n",
       "25%        0.000000      0.000000      0.000000      0.000000      0.000000   \n",
       "50%        0.000000      0.000000      0.000000      0.000000      0.000000   \n",
       "75%        1.000000      0.000000      1.000000      1.000000      1.000000   \n",
       "max        1.000000      1.000000      1.000000      1.000000      1.000000   \n",
       "\n",
       "             balcon         patio      parrilla        floor         rooms  \\\n",
       "count  12142.000000  12142.000000  12142.000000  2882.000000  12142.000000   \n",
       "mean       0.487317      0.205156      0.303986     1.634629      2.064899   \n",
       "std        0.499860      0.403832      0.459996     3.082363      1.118940   \n",
       "min        0.000000      0.000000      0.000000     0.000000      1.000000   \n",
       "25%        0.000000      0.000000      0.000000     0.000000      1.000000   \n",
       "50%        0.000000      0.000000      0.000000     0.000000      2.000000   \n",
       "75%        1.000000      0.000000      1.000000     2.000000      3.000000   \n",
       "max        1.000000      1.000000      1.000000    20.000000      7.000000   \n",
       "\n",
       "          price_usd       sup_cub    sup_descub     sup_total  \\\n",
       "count  1.214200e+04  10828.000000  10155.000000  11469.000000   \n",
       "mean   1.489550e+05     55.850753     13.386370     69.777067   \n",
       "std    1.448320e+05     56.445464     49.596652     94.833156   \n",
       "min    1.861978e+03     10.000000      0.000000     10.000000   \n",
       "25%    8.700000e+04     33.000000      0.000000     37.000000   \n",
       "50%    1.150000e+05     41.000000      4.000000     46.000000   \n",
       "75%    1.520000e+05     49.000000      7.000000     56.000000   \n",
       "max    3.000000e+06    400.000000    797.000000    822.000000   \n",
       "\n",
       "       price_usd_per_m2  \n",
       "count      12142.000000  \n",
       "mean        2367.199874  \n",
       "std          777.702164  \n",
       "min           62.065932  \n",
       "25%         1914.893617  \n",
       "50%         2351.351351  \n",
       "75%         2812.500000  \n",
       "max         7256.304348  "
      ]
     },
     "execution_count": 8,
     "metadata": {},
     "output_type": "execute_result"
    }
   ],
   "source": [
    "data.describe()"
   ]
  },
  {
   "cell_type": "markdown",
   "metadata": {},
   "source": [
    "Se puede ver que falta el Barrio en algunas de las observaciones del dataset."
   ]
  },
  {
   "cell_type": "code",
   "execution_count": 9,
   "metadata": {},
   "outputs": [
    {
     "data": {
      "text/html": [
       "<div>\n",
       "<style scoped>\n",
       "    .dataframe tbody tr th:only-of-type {\n",
       "        vertical-align: middle;\n",
       "    }\n",
       "\n",
       "    .dataframe tbody tr th {\n",
       "        vertical-align: top;\n",
       "    }\n",
       "\n",
       "    .dataframe thead th {\n",
       "        text-align: right;\n",
       "    }\n",
       "</style>\n",
       "<table border=\"1\" class=\"dataframe\">\n",
       "  <thead>\n",
       "    <tr style=\"text-align: right;\">\n",
       "      <th></th>\n",
       "      <th>Barrio</th>\n",
       "      <th>place_name</th>\n",
       "    </tr>\n",
       "  </thead>\n",
       "  <tbody>\n",
       "    <tr>\n",
       "      <th>11</th>\n",
       "      <td>NaN</td>\n",
       "      <td>Capital federal</td>\n",
       "    </tr>\n",
       "    <tr>\n",
       "      <th>12</th>\n",
       "      <td>NaN</td>\n",
       "      <td>Capital federal</td>\n",
       "    </tr>\n",
       "    <tr>\n",
       "      <th>13</th>\n",
       "      <td>NaN</td>\n",
       "      <td>Capital federal</td>\n",
       "    </tr>\n",
       "    <tr>\n",
       "      <th>14</th>\n",
       "      <td>NaN</td>\n",
       "      <td>Capital federal</td>\n",
       "    </tr>\n",
       "    <tr>\n",
       "      <th>15</th>\n",
       "      <td>NaN</td>\n",
       "      <td>Capital federal</td>\n",
       "    </tr>\n",
       "  </tbody>\n",
       "</table>\n",
       "</div>"
      ],
      "text/plain": [
       "   Barrio       place_name\n",
       "11    NaN  Capital federal\n",
       "12    NaN  Capital federal\n",
       "13    NaN  Capital federal\n",
       "14    NaN  Capital federal\n",
       "15    NaN  Capital federal"
      ]
     },
     "execution_count": 9,
     "metadata": {},
     "output_type": "execute_result"
    }
   ],
   "source": [
    "data.loc[data['Barrio'].isna(),['Barrio','place_name']].head()"
   ]
  },
  {
   "cell_type": "markdown",
   "metadata": {},
   "source": [
    "Estas filas las dropeamos, por falta de información."
   ]
  },
  {
   "cell_type": "code",
   "execution_count": 10,
   "metadata": {},
   "outputs": [
    {
     "data": {
      "text/plain": [
       "tipo_propiedad         0\n",
       "Provincia              0\n",
       "Zona                   0\n",
       "Localidad              0\n",
       "Barrio                 0\n",
       "place_name             0\n",
       "cochera                0\n",
       "gimnasio               0\n",
       "piscina                0\n",
       "SUM                    0\n",
       "laundry                0\n",
       "balcon                 0\n",
       "patio                  0\n",
       "parrilla               0\n",
       "floor               9090\n",
       "rooms                  0\n",
       "price_usd              0\n",
       "sup_cub             1265\n",
       "sup_descub          1836\n",
       "sup_total            571\n",
       "price_usd_per_m2       0\n",
       "dtype: int64"
      ]
     },
     "execution_count": 10,
     "metadata": {},
     "output_type": "execute_result"
    }
   ],
   "source": [
    "barrio_drop = data.loc[data['Barrio'].isna()].index\n",
    "data.drop(index=barrio_drop,inplace=True)\n",
    "data.isna().sum()"
   ]
  },
  {
   "cell_type": "code",
   "execution_count": 11,
   "metadata": {},
   "outputs": [
    {
     "data": {
      "text/plain": [
       "tipo_propiedad      11670\n",
       "Provincia           11670\n",
       "Zona                11670\n",
       "Localidad           11670\n",
       "Barrio              11670\n",
       "place_name          11670\n",
       "cochera             11670\n",
       "gimnasio            11670\n",
       "piscina             11670\n",
       "SUM                 11670\n",
       "laundry             11670\n",
       "balcon              11670\n",
       "patio               11670\n",
       "parrilla            11670\n",
       "floor                2580\n",
       "rooms               11670\n",
       "price_usd           11670\n",
       "sup_cub             10405\n",
       "sup_descub           9834\n",
       "sup_total           11099\n",
       "price_usd_per_m2    11670\n",
       "dtype: int64"
      ]
     },
     "execution_count": 11,
     "metadata": {},
     "output_type": "execute_result"
    }
   ],
   "source": [
    "data.notnull().sum()"
   ]
  },
  {
   "cell_type": "markdown",
   "metadata": {},
   "source": [
    "Para el modelo de capital, no sirven las columnas que tienen un unico valor que corresponde a CABA/Capital Federal. Lo mismo ocurre con 'place_name' que en capital será el barrio, o en caso que corresponda, el Sub-Barrio (para los datos disponibles, es solo Palermo Soho)."
   ]
  },
  {
   "cell_type": "code",
   "execution_count": 12,
   "metadata": {},
   "outputs": [],
   "source": [
    "data.drop(columns=['Provincia','Zona','Localidad','place_name'],inplace=True)"
   ]
  },
  {
   "cell_type": "code",
   "execution_count": 13,
   "metadata": {
    "scrolled": true
   },
   "outputs": [
    {
     "data": {
      "text/html": [
       "<div>\n",
       "<style scoped>\n",
       "    .dataframe tbody tr th:only-of-type {\n",
       "        vertical-align: middle;\n",
       "    }\n",
       "\n",
       "    .dataframe tbody tr th {\n",
       "        vertical-align: top;\n",
       "    }\n",
       "\n",
       "    .dataframe thead th {\n",
       "        text-align: right;\n",
       "    }\n",
       "</style>\n",
       "<table border=\"1\" class=\"dataframe\">\n",
       "  <thead>\n",
       "    <tr style=\"text-align: right;\">\n",
       "      <th></th>\n",
       "      <th>tipo_propiedad</th>\n",
       "      <th>Barrio</th>\n",
       "      <th>cochera</th>\n",
       "      <th>gimnasio</th>\n",
       "      <th>piscina</th>\n",
       "      <th>SUM</th>\n",
       "      <th>laundry</th>\n",
       "      <th>balcon</th>\n",
       "      <th>patio</th>\n",
       "      <th>parrilla</th>\n",
       "      <th>floor</th>\n",
       "      <th>rooms</th>\n",
       "      <th>price_usd</th>\n",
       "      <th>sup_cub</th>\n",
       "      <th>sup_descub</th>\n",
       "      <th>sup_total</th>\n",
       "      <th>price_usd_per_m2</th>\n",
       "    </tr>\n",
       "  </thead>\n",
       "  <tbody>\n",
       "    <tr>\n",
       "      <th>0</th>\n",
       "      <td>PH</td>\n",
       "      <td>Mataderos</td>\n",
       "      <td>0.0</td>\n",
       "      <td>0.0</td>\n",
       "      <td>0.0</td>\n",
       "      <td>0.0</td>\n",
       "      <td>1.0</td>\n",
       "      <td>0.0</td>\n",
       "      <td>1.0</td>\n",
       "      <td>0.0</td>\n",
       "      <td>0.0</td>\n",
       "      <td>2.0</td>\n",
       "      <td>62000.0</td>\n",
       "      <td>40.0</td>\n",
       "      <td>15.0</td>\n",
       "      <td>55.0</td>\n",
       "      <td>1127.272727</td>\n",
       "    </tr>\n",
       "    <tr>\n",
       "      <th>1</th>\n",
       "      <td>apartment</td>\n",
       "      <td>Belgrano</td>\n",
       "      <td>0.0</td>\n",
       "      <td>0.0</td>\n",
       "      <td>1.0</td>\n",
       "      <td>0.0</td>\n",
       "      <td>1.0</td>\n",
       "      <td>0.0</td>\n",
       "      <td>0.0</td>\n",
       "      <td>0.0</td>\n",
       "      <td>NaN</td>\n",
       "      <td>1.0</td>\n",
       "      <td>138000.0</td>\n",
       "      <td>40.0</td>\n",
       "      <td>5.0</td>\n",
       "      <td>45.0</td>\n",
       "      <td>3066.666667</td>\n",
       "    </tr>\n",
       "    <tr>\n",
       "      <th>2</th>\n",
       "      <td>apartment</td>\n",
       "      <td>Palermo</td>\n",
       "      <td>0.0</td>\n",
       "      <td>1.0</td>\n",
       "      <td>1.0</td>\n",
       "      <td>1.0</td>\n",
       "      <td>0.0</td>\n",
       "      <td>1.0</td>\n",
       "      <td>0.0</td>\n",
       "      <td>0.0</td>\n",
       "      <td>NaN</td>\n",
       "      <td>1.0</td>\n",
       "      <td>111700.0</td>\n",
       "      <td>30.0</td>\n",
       "      <td>20.0</td>\n",
       "      <td>50.0</td>\n",
       "      <td>2234.000000</td>\n",
       "    </tr>\n",
       "    <tr>\n",
       "      <th>3</th>\n",
       "      <td>apartment</td>\n",
       "      <td>Palermo</td>\n",
       "      <td>0.0</td>\n",
       "      <td>1.0</td>\n",
       "      <td>1.0</td>\n",
       "      <td>1.0</td>\n",
       "      <td>0.0</td>\n",
       "      <td>1.0</td>\n",
       "      <td>0.0</td>\n",
       "      <td>0.0</td>\n",
       "      <td>NaN</td>\n",
       "      <td>1.0</td>\n",
       "      <td>147900.0</td>\n",
       "      <td>31.0</td>\n",
       "      <td>11.0</td>\n",
       "      <td>42.0</td>\n",
       "      <td>3521.428571</td>\n",
       "    </tr>\n",
       "    <tr>\n",
       "      <th>4</th>\n",
       "      <td>apartment</td>\n",
       "      <td>Flores</td>\n",
       "      <td>0.0</td>\n",
       "      <td>0.0</td>\n",
       "      <td>0.0</td>\n",
       "      <td>0.0</td>\n",
       "      <td>0.0</td>\n",
       "      <td>1.0</td>\n",
       "      <td>0.0</td>\n",
       "      <td>0.0</td>\n",
       "      <td>NaN</td>\n",
       "      <td>2.0</td>\n",
       "      <td>75000.0</td>\n",
       "      <td>43.0</td>\n",
       "      <td>0.0</td>\n",
       "      <td>43.0</td>\n",
       "      <td>1744.186047</td>\n",
       "    </tr>\n",
       "  </tbody>\n",
       "</table>\n",
       "</div>"
      ],
      "text/plain": [
       "  tipo_propiedad     Barrio  cochera  gimnasio  piscina  SUM  laundry  balcon  \\\n",
       "0             PH  Mataderos      0.0       0.0      0.0  0.0      1.0     0.0   \n",
       "1      apartment   Belgrano      0.0       0.0      1.0  0.0      1.0     0.0   \n",
       "2      apartment    Palermo      0.0       1.0      1.0  1.0      0.0     1.0   \n",
       "3      apartment    Palermo      0.0       1.0      1.0  1.0      0.0     1.0   \n",
       "4      apartment     Flores      0.0       0.0      0.0  0.0      0.0     1.0   \n",
       "\n",
       "   patio  parrilla  floor  rooms  price_usd  sup_cub  sup_descub  sup_total  \\\n",
       "0    1.0       0.0    0.0    2.0    62000.0     40.0        15.0       55.0   \n",
       "1    0.0       0.0    NaN    1.0   138000.0     40.0         5.0       45.0   \n",
       "2    0.0       0.0    NaN    1.0   111700.0     30.0        20.0       50.0   \n",
       "3    0.0       0.0    NaN    1.0   147900.0     31.0        11.0       42.0   \n",
       "4    0.0       0.0    NaN    2.0    75000.0     43.0         0.0       43.0   \n",
       "\n",
       "   price_usd_per_m2  \n",
       "0       1127.272727  \n",
       "1       3066.666667  \n",
       "2       2234.000000  \n",
       "3       3521.428571  \n",
       "4       1744.186047  "
      ]
     },
     "execution_count": 13,
     "metadata": {},
     "output_type": "execute_result"
    }
   ],
   "source": [
    "data.head()"
   ]
  },
  {
   "cell_type": "markdown",
   "metadata": {},
   "source": [
    "## Ploteo de Variables Cuantitativas "
   ]
  },
  {
   "cell_type": "code",
   "execution_count": 14,
   "metadata": {},
   "outputs": [
    {
     "data": {
      "image/png": "[encoded data removed]",
      "text/plain": [
       "<Figure size 1080x1080 with 2 Axes>"
      ]
     },
     "metadata": {
      "needs_background": "light"
     },
     "output_type": "display_data"
    }
   ],
   "source": [
    "data_amenities=data.loc[:,\"cochera\":\"price_usd_per_m2\"]\n",
    "\n",
    "fig, ax = plt.subplots(figsize=(15,15))\n",
    "ax.set_title('Correlaciones entre Precio m2 -USD- y Distintas Características de las Propiedades', )\n",
    "\n",
    "sns.heatmap(data_amenities.corr(), vmin=-1, vmax=1, center=0, cmap=\"YlGnBu\", annot=True);"
   ]
  },
  {
   "cell_type": "code",
   "execution_count": 15,
   "metadata": {},
   "outputs": [],
   "source": [
    "def add_dummy_vars(df,cat_vars):\n",
    "    df_dummy = pd.get_dummies(df[cat_vars],drop_first=True,dtype=np.float64)\n",
    "    df = pd.concat([df,df_dummy],axis=1)\n",
    "    return df"
   ]
  },
  {
   "cell_type": "code",
   "execution_count": 16,
   "metadata": {},
   "outputs": [
    {
     "data": {
      "image/png": "[encoded data removed]",
      "text/plain": [
       "<Figure size 1080x1080 with 2 Axes>"
      ]
     },
     "metadata": {
      "needs_background": "light"
     },
     "output_type": "display_data"
    }
   ],
   "source": [
    "data_localidades = add_dummy_vars(data,['Barrio'])\n",
    "data_localidades = data_localidades.loc[:,\"price_usd_per_m2\":'Barrio_Villa Urquiza']\n",
    "\n",
    "fig, ax = plt.subplots(figsize=(15,15))\n",
    "ax.set_title('Correlaciones entre Precio m2 -USD- y Barrios', )\n",
    "sns.heatmap(data_localidades.corr(), vmin=-1, vmax=1, center=0, cmap=\"YlGnBu\");#, annot=True);"
   ]
  },
  {
   "cell_type": "markdown",
   "metadata": {},
   "source": [
    "## Definición de Variables adicionales"
   ]
  },
  {
   "cell_type": "code",
   "execution_count": 17,
   "metadata": {},
   "outputs": [],
   "source": [
    "#superficie por rooms, busca encontrar la valoración por ambientes altos\n",
    "data['sup_por_room']=data['sup_cub']/data['rooms']\n",
    "data['cub_desc']=data['sup_cub']*data['sup_descub']"
   ]
  },
  {
   "cell_type": "code",
   "execution_count": 18,
   "metadata": {},
   "outputs": [
    {
     "data": {
      "image/png": "[encoded data removed]",
      "text/plain": [
       "<Figure size 720x576 with 2 Axes>"
      ]
     },
     "metadata": {
      "needs_background": "light"
     },
     "output_type": "display_data"
    }
   ],
   "source": [
    "plt.figure(figsize=(10,8))\n",
    "sns.heatmap(data[['floor','rooms','sup_por_room',\"sup_cub\",\"sup_descub\",'sup_total','price_usd_per_m2']].corr(),\\\n",
    "            vmin=-1,vmax=1, annot=True,cmap='YlGnBu')\n",
    "plt.savefig('../Images/CABA/Correlaciones Variables Cuantitativas CABA.png')"
   ]
  },
  {
   "cell_type": "markdown",
   "metadata": {},
   "source": [
    "# 3. Creación de Variables Dummies"
   ]
  },
  {
   "cell_type": "markdown",
   "metadata": {},
   "source": [
    "Las dos primeras features (tipo_propiedad y Barrio) son categóricas. Por lo cual se generarán variables dummies para las mismas."
   ]
  },
  {
   "cell_type": "code",
   "execution_count": 18,
   "metadata": {},
   "outputs": [],
   "source": [
    "def add_dummy_vars(df,cat_vars):\n",
    "    df_dummy = pd.get_dummies(df[cat_vars],drop_first=True,dtype=np.float64)\n",
    "    df = pd.concat([df,df_dummy],axis=1)\n",
    "    return df"
   ]
  },
  {
   "cell_type": "code",
   "execution_count": 19,
   "metadata": {
    "scrolled": true
   },
   "outputs": [
    {
     "data": {
      "text/html": [
       "<div>\n",
       "<style scoped>\n",
       "    .dataframe tbody tr th:only-of-type {\n",
       "        vertical-align: middle;\n",
       "    }\n",
       "\n",
       "    .dataframe tbody tr th {\n",
       "        vertical-align: top;\n",
       "    }\n",
       "\n",
       "    .dataframe thead th {\n",
       "        text-align: right;\n",
       "    }\n",
       "</style>\n",
       "<table border=\"1\" class=\"dataframe\">\n",
       "  <thead>\n",
       "    <tr style=\"text-align: right;\">\n",
       "      <th></th>\n",
       "      <th>tipo_propiedad</th>\n",
       "      <th>Barrio</th>\n",
       "      <th>cochera</th>\n",
       "      <th>gimnasio</th>\n",
       "      <th>piscina</th>\n",
       "      <th>SUM</th>\n",
       "      <th>laundry</th>\n",
       "      <th>balcon</th>\n",
       "      <th>patio</th>\n",
       "      <th>parrilla</th>\n",
       "      <th>...</th>\n",
       "      <th>Barrio_Villa Gral. Mitre</th>\n",
       "      <th>Barrio_Villa Lugano</th>\n",
       "      <th>Barrio_Villa Luro</th>\n",
       "      <th>Barrio_Villa Ortuzar</th>\n",
       "      <th>Barrio_Villa Pueyrredon</th>\n",
       "      <th>Barrio_Villa Real</th>\n",
       "      <th>Barrio_Villa Riachuelo</th>\n",
       "      <th>Barrio_Villa Santa Rita</th>\n",
       "      <th>Barrio_Villa Soldati</th>\n",
       "      <th>Barrio_Villa Urquiza</th>\n",
       "    </tr>\n",
       "  </thead>\n",
       "  <tbody>\n",
       "    <tr>\n",
       "      <th>0</th>\n",
       "      <td>PH</td>\n",
       "      <td>Mataderos</td>\n",
       "      <td>0.0</td>\n",
       "      <td>0.0</td>\n",
       "      <td>0.0</td>\n",
       "      <td>0.0</td>\n",
       "      <td>1.0</td>\n",
       "      <td>0.0</td>\n",
       "      <td>1.0</td>\n",
       "      <td>0.0</td>\n",
       "      <td>...</td>\n",
       "      <td>0.0</td>\n",
       "      <td>0.0</td>\n",
       "      <td>0.0</td>\n",
       "      <td>0.0</td>\n",
       "      <td>0.0</td>\n",
       "      <td>0.0</td>\n",
       "      <td>0.0</td>\n",
       "      <td>0.0</td>\n",
       "      <td>0.0</td>\n",
       "      <td>0.0</td>\n",
       "    </tr>\n",
       "    <tr>\n",
       "      <th>1</th>\n",
       "      <td>apartment</td>\n",
       "      <td>Belgrano</td>\n",
       "      <td>0.0</td>\n",
       "      <td>0.0</td>\n",
       "      <td>1.0</td>\n",
       "      <td>0.0</td>\n",
       "      <td>1.0</td>\n",
       "      <td>0.0</td>\n",
       "      <td>0.0</td>\n",
       "      <td>0.0</td>\n",
       "      <td>...</td>\n",
       "      <td>0.0</td>\n",
       "      <td>0.0</td>\n",
       "      <td>0.0</td>\n",
       "      <td>0.0</td>\n",
       "      <td>0.0</td>\n",
       "      <td>0.0</td>\n",
       "      <td>0.0</td>\n",
       "      <td>0.0</td>\n",
       "      <td>0.0</td>\n",
       "      <td>0.0</td>\n",
       "    </tr>\n",
       "    <tr>\n",
       "      <th>2</th>\n",
       "      <td>apartment</td>\n",
       "      <td>Palermo</td>\n",
       "      <td>0.0</td>\n",
       "      <td>1.0</td>\n",
       "      <td>1.0</td>\n",
       "      <td>1.0</td>\n",
       "      <td>0.0</td>\n",
       "      <td>1.0</td>\n",
       "      <td>0.0</td>\n",
       "      <td>0.0</td>\n",
       "      <td>...</td>\n",
       "      <td>0.0</td>\n",
       "      <td>0.0</td>\n",
       "      <td>0.0</td>\n",
       "      <td>0.0</td>\n",
       "      <td>0.0</td>\n",
       "      <td>0.0</td>\n",
       "      <td>0.0</td>\n",
       "      <td>0.0</td>\n",
       "      <td>0.0</td>\n",
       "      <td>0.0</td>\n",
       "    </tr>\n",
       "    <tr>\n",
       "      <th>3</th>\n",
       "      <td>apartment</td>\n",
       "      <td>Palermo</td>\n",
       "      <td>0.0</td>\n",
       "      <td>1.0</td>\n",
       "      <td>1.0</td>\n",
       "      <td>1.0</td>\n",
       "      <td>0.0</td>\n",
       "      <td>1.0</td>\n",
       "      <td>0.0</td>\n",
       "      <td>0.0</td>\n",
       "      <td>...</td>\n",
       "      <td>0.0</td>\n",
       "      <td>0.0</td>\n",
       "      <td>0.0</td>\n",
       "      <td>0.0</td>\n",
       "      <td>0.0</td>\n",
       "      <td>0.0</td>\n",
       "      <td>0.0</td>\n",
       "      <td>0.0</td>\n",
       "      <td>0.0</td>\n",
       "      <td>0.0</td>\n",
       "    </tr>\n",
       "    <tr>\n",
       "      <th>4</th>\n",
       "      <td>apartment</td>\n",
       "      <td>Flores</td>\n",
       "      <td>0.0</td>\n",
       "      <td>0.0</td>\n",
       "      <td>0.0</td>\n",
       "      <td>0.0</td>\n",
       "      <td>0.0</td>\n",
       "      <td>1.0</td>\n",
       "      <td>0.0</td>\n",
       "      <td>0.0</td>\n",
       "      <td>...</td>\n",
       "      <td>0.0</td>\n",
       "      <td>0.0</td>\n",
       "      <td>0.0</td>\n",
       "      <td>0.0</td>\n",
       "      <td>0.0</td>\n",
       "      <td>0.0</td>\n",
       "      <td>0.0</td>\n",
       "      <td>0.0</td>\n",
       "      <td>0.0</td>\n",
       "      <td>0.0</td>\n",
       "    </tr>\n",
       "  </tbody>\n",
       "</table>\n",
       "<p>5 rows × 69 columns</p>\n",
       "</div>"
      ],
      "text/plain": [
       "  tipo_propiedad     Barrio  cochera  gimnasio  piscina  SUM  laundry  balcon  \\\n",
       "0             PH  Mataderos      0.0       0.0      0.0  0.0      1.0     0.0   \n",
       "1      apartment   Belgrano      0.0       0.0      1.0  0.0      1.0     0.0   \n",
       "2      apartment    Palermo      0.0       1.0      1.0  1.0      0.0     1.0   \n",
       "3      apartment    Palermo      0.0       1.0      1.0  1.0      0.0     1.0   \n",
       "4      apartment     Flores      0.0       0.0      0.0  0.0      0.0     1.0   \n",
       "\n",
       "   patio  parrilla  ...  Barrio_Villa Gral. Mitre  Barrio_Villa Lugano  \\\n",
       "0    1.0       0.0  ...                       0.0                  0.0   \n",
       "1    0.0       0.0  ...                       0.0                  0.0   \n",
       "2    0.0       0.0  ...                       0.0                  0.0   \n",
       "3    0.0       0.0  ...                       0.0                  0.0   \n",
       "4    0.0       0.0  ...                       0.0                  0.0   \n",
       "\n",
       "   Barrio_Villa Luro  Barrio_Villa Ortuzar  Barrio_Villa Pueyrredon  \\\n",
       "0                0.0                   0.0                      0.0   \n",
       "1                0.0                   0.0                      0.0   \n",
       "2                0.0                   0.0                      0.0   \n",
       "3                0.0                   0.0                      0.0   \n",
       "4                0.0                   0.0                      0.0   \n",
       "\n",
       "   Barrio_Villa Real  Barrio_Villa Riachuelo  Barrio_Villa Santa Rita  \\\n",
       "0                0.0                     0.0                      0.0   \n",
       "1                0.0                     0.0                      0.0   \n",
       "2                0.0                     0.0                      0.0   \n",
       "3                0.0                     0.0                      0.0   \n",
       "4                0.0                     0.0                      0.0   \n",
       "\n",
       "   Barrio_Villa Soldati  Barrio_Villa Urquiza  \n",
       "0                   0.0                   0.0  \n",
       "1                   0.0                   0.0  \n",
       "2                   0.0                   0.0  \n",
       "3                   0.0                   0.0  \n",
       "4                   0.0                   0.0  \n",
       "\n",
       "[5 rows x 69 columns]"
      ]
     },
     "execution_count": 19,
     "metadata": {},
     "output_type": "execute_result"
    }
   ],
   "source": [
    "cat_vars = ['tipo_propiedad','Barrio']\n",
    "data = add_dummy_vars(data,cat_vars)\n",
    "data.head(5)"
   ]
  },
  {
   "cell_type": "code",
   "execution_count": 20,
   "metadata": {},
   "outputs": [
    {
     "data": {
      "text/plain": [
       "Index(['tipo_propiedad', 'Barrio', 'cochera', 'gimnasio', 'piscina', 'SUM',\n",
       "       'laundry', 'balcon', 'patio', 'parrilla', 'floor', 'rooms', 'price_usd',\n",
       "       'sup_cub', 'sup_descub', 'sup_total', 'price_usd_per_m2',\n",
       "       'sup_por_room', 'cub_desc', 'tipo_propiedad_apartment',\n",
       "       'tipo_propiedad_house', 'tipo_propiedad_store', 'Barrio_Almagro',\n",
       "       'Barrio_Balvanera', 'Barrio_Barracas', 'Barrio_Belgrano', 'Barrio_Boca',\n",
       "       'Barrio_Boedo', 'Barrio_Caballito', 'Barrio_Chacarita',\n",
       "       'Barrio_Coghlan', 'Barrio_Colegiales', 'Barrio_Constitucion',\n",
       "       'Barrio_Flores', 'Barrio_Floresta', 'Barrio_Liniers',\n",
       "       'Barrio_Mataderos', 'Barrio_Monserrat', 'Barrio_Monte Castro',\n",
       "       'Barrio_Nueva Pompeya', 'Barrio_Nuñez', 'Barrio_Palermo',\n",
       "       'Barrio_Parque Avellaneda', 'Barrio_Parque Chacabuco',\n",
       "       'Barrio_Parque Chas', 'Barrio_Parque Patricios', 'Barrio_Paternal',\n",
       "       'Barrio_Puerto Madero', 'Barrio_Recoleta', 'Barrio_Retiro',\n",
       "       'Barrio_Saavedra', 'Barrio_San Cristobal', 'Barrio_San Nicolas',\n",
       "       'Barrio_San Telmo', 'Barrio_Velez Sarsfield', 'Barrio_Versalles',\n",
       "       'Barrio_Villa Crespo', 'Barrio_Villa Del Parque', 'Barrio_Villa Devoto',\n",
       "       'Barrio_Villa Gral. Mitre', 'Barrio_Villa Lugano', 'Barrio_Villa Luro',\n",
       "       'Barrio_Villa Ortuzar', 'Barrio_Villa Pueyrredon', 'Barrio_Villa Real',\n",
       "       'Barrio_Villa Riachuelo', 'Barrio_Villa Santa Rita',\n",
       "       'Barrio_Villa Soldati', 'Barrio_Villa Urquiza'],\n",
       "      dtype='object')"
      ]
     },
     "execution_count": 20,
     "metadata": {},
     "output_type": "execute_result"
    }
   ],
   "source": [
    "data.columns"
   ]
  },
  {
   "cell_type": "markdown",
   "metadata": {},
   "source": [
    "# 4. División del dataset en Entrenamiento y Testeo"
   ]
  },
  {
   "cell_type": "code",
   "execution_count": null,
   "metadata": {},
   "outputs": [],
   "source": []
  },
  {
   "cell_type": "code",
   "execution_count": 21,
   "metadata": {},
   "outputs": [
    {
     "name": "stdout",
     "output_type": "stream",
     "text": [
      "data train shape: (8169, 69)\n",
      "data test shape: (3501, 69)\n"
     ]
    }
   ],
   "source": [
    "from sklearn.model_selection import train_test_split\n",
    "\n",
    "#data_train, data_test = train_test_split(data,test_size=0.25,shuffle=True,random_state=10,stratify=data['Barrio'])\n",
    "data_train, data_test = train_test_split(data,test_size=0.30,shuffle=True,random_state=8)\n",
    "data_train = data_train.copy()\n",
    "data_test = data_test.copy() \n",
    "print(\"data train shape: {}\".format(data_train.shape))\n",
    "print(\"data test shape: {}\".format(data_test.shape))"
   ]
  },
  {
   "cell_type": "markdown",
   "metadata": {},
   "source": [
    "# 5. Imputaciones en set de Entrenamiento\n",
    "\n",
    "Se imputarán los valores faltantes del set de entrenamiento mediante alguna estrategia por tendencia central. Esos valores se guardarán para completar con el mismo criterio en el set de testeo (con los valores obtenidos del set de entrenamiento).\n",
    "\n",
    "- Columna 'floor': se completa por la mediana por lugar.\n",
    "- Columnas de Superficie Cubierta y Total: Se calcula un índice de construcción:\n",
    "\n",
    "$Construction\\:Index = \\frac{Superficie\\:Cubierta}{Superficie\\:Total}$\n",
    "\n",
    "Luego se calcula la media de este índice de construcción por barrio, y se imputa mediante esta media de construcción."
   ]
  },
  {
   "cell_type": "markdown",
   "metadata": {},
   "source": [
    "## 5.1 Imputación del número de piso ('floor')"
   ]
  },
  {
   "cell_type": "code",
   "execution_count": 22,
   "metadata": {},
   "outputs": [
    {
     "data": {
      "text/plain": [
       "6376"
      ]
     },
     "execution_count": 22,
     "metadata": {},
     "output_type": "execute_result"
    }
   ],
   "source": [
    "data_train['floor'].isna().sum()"
   ]
  },
  {
   "cell_type": "code",
   "execution_count": 23,
   "metadata": {
    "scrolled": true
   },
   "outputs": [
    {
     "data": {
      "text/plain": [
       "2714"
      ]
     },
     "execution_count": 23,
     "metadata": {},
     "output_type": "execute_result"
    }
   ],
   "source": [
    "data_test['floor'].isna().sum()"
   ]
  },
  {
   "cell_type": "markdown",
   "metadata": {},
   "source": [
    "Solo se imputan datos en propiedades de tipo 'apartment'."
   ]
  },
  {
   "cell_type": "code",
   "execution_count": 24,
   "metadata": {
    "scrolled": false
   },
   "outputs": [
    {
     "data": {
      "text/html": [
       "<div>\n",
       "<style scoped>\n",
       "    .dataframe tbody tr th:only-of-type {\n",
       "        vertical-align: middle;\n",
       "    }\n",
       "\n",
       "    .dataframe tbody tr th {\n",
       "        vertical-align: top;\n",
       "    }\n",
       "\n",
       "    .dataframe thead th {\n",
       "        text-align: right;\n",
       "    }\n",
       "</style>\n",
       "<table border=\"1\" class=\"dataframe\">\n",
       "  <thead>\n",
       "    <tr style=\"text-align: right;\">\n",
       "      <th></th>\n",
       "      <th>floor</th>\n",
       "    </tr>\n",
       "    <tr>\n",
       "      <th>Barrio</th>\n",
       "      <th></th>\n",
       "    </tr>\n",
       "  </thead>\n",
       "  <tbody>\n",
       "    <tr>\n",
       "      <th>Almagro</th>\n",
       "      <td>3.500000</td>\n",
       "    </tr>\n",
       "    <tr>\n",
       "      <th>Balvanera</th>\n",
       "      <td>5.000000</td>\n",
       "    </tr>\n",
       "    <tr>\n",
       "      <th>Barracas</th>\n",
       "      <td>5.000000</td>\n",
       "    </tr>\n",
       "    <tr>\n",
       "      <th>Belgrano</th>\n",
       "      <td>4.000000</td>\n",
       "    </tr>\n",
       "    <tr>\n",
       "      <th>Boca</th>\n",
       "      <td>13.500000</td>\n",
       "    </tr>\n",
       "    <tr>\n",
       "      <th>Boedo</th>\n",
       "      <td>1.000000</td>\n",
       "    </tr>\n",
       "    <tr>\n",
       "      <th>Caballito</th>\n",
       "      <td>5.000000</td>\n",
       "    </tr>\n",
       "    <tr>\n",
       "      <th>Chacarita</th>\n",
       "      <td>6.000000</td>\n",
       "    </tr>\n",
       "    <tr>\n",
       "      <th>Coghlan</th>\n",
       "      <td>3.000000</td>\n",
       "    </tr>\n",
       "    <tr>\n",
       "      <th>Colegiales</th>\n",
       "      <td>2.500000</td>\n",
       "    </tr>\n",
       "    <tr>\n",
       "      <th>Constitucion</th>\n",
       "      <td>7.000000</td>\n",
       "    </tr>\n",
       "    <tr>\n",
       "      <th>Flores</th>\n",
       "      <td>4.000000</td>\n",
       "    </tr>\n",
       "    <tr>\n",
       "      <th>Floresta</th>\n",
       "      <td>2.000000</td>\n",
       "    </tr>\n",
       "    <tr>\n",
       "      <th>Liniers</th>\n",
       "      <td>5.000000</td>\n",
       "    </tr>\n",
       "    <tr>\n",
       "      <th>Monserrat</th>\n",
       "      <td>5.000000</td>\n",
       "    </tr>\n",
       "    <tr>\n",
       "      <th>Monte Castro</th>\n",
       "      <td>7.000000</td>\n",
       "    </tr>\n",
       "    <tr>\n",
       "      <th>Nuñez</th>\n",
       "      <td>4.000000</td>\n",
       "    </tr>\n",
       "    <tr>\n",
       "      <th>Palermo</th>\n",
       "      <td>2.000000</td>\n",
       "    </tr>\n",
       "    <tr>\n",
       "      <th>Parque Avellaneda</th>\n",
       "      <td>4.397436</td>\n",
       "    </tr>\n",
       "    <tr>\n",
       "      <th>Parque Chacabuco</th>\n",
       "      <td>2.500000</td>\n",
       "    </tr>\n",
       "    <tr>\n",
       "      <th>Parque Chas</th>\n",
       "      <td>4.397436</td>\n",
       "    </tr>\n",
       "    <tr>\n",
       "      <th>Parque Patricios</th>\n",
       "      <td>3.000000</td>\n",
       "    </tr>\n",
       "    <tr>\n",
       "      <th>Paternal</th>\n",
       "      <td>8.000000</td>\n",
       "    </tr>\n",
       "    <tr>\n",
       "      <th>Puerto Madero</th>\n",
       "      <td>8.000000</td>\n",
       "    </tr>\n",
       "    <tr>\n",
       "      <th>Recoleta</th>\n",
       "      <td>4.000000</td>\n",
       "    </tr>\n",
       "    <tr>\n",
       "      <th>Retiro</th>\n",
       "      <td>5.000000</td>\n",
       "    </tr>\n",
       "    <tr>\n",
       "      <th>Saavedra</th>\n",
       "      <td>1.000000</td>\n",
       "    </tr>\n",
       "    <tr>\n",
       "      <th>San Cristobal</th>\n",
       "      <td>3.000000</td>\n",
       "    </tr>\n",
       "    <tr>\n",
       "      <th>San Nicolas</th>\n",
       "      <td>8.000000</td>\n",
       "    </tr>\n",
       "    <tr>\n",
       "      <th>San Telmo</th>\n",
       "      <td>7.500000</td>\n",
       "    </tr>\n",
       "    <tr>\n",
       "      <th>Velez Sarsfield</th>\n",
       "      <td>1.000000</td>\n",
       "    </tr>\n",
       "    <tr>\n",
       "      <th>Versalles</th>\n",
       "      <td>2.000000</td>\n",
       "    </tr>\n",
       "    <tr>\n",
       "      <th>Villa Crespo</th>\n",
       "      <td>5.000000</td>\n",
       "    </tr>\n",
       "    <tr>\n",
       "      <th>Villa Del Parque</th>\n",
       "      <td>4.000000</td>\n",
       "    </tr>\n",
       "    <tr>\n",
       "      <th>Villa Devoto</th>\n",
       "      <td>3.000000</td>\n",
       "    </tr>\n",
       "    <tr>\n",
       "      <th>Villa Gral. Mitre</th>\n",
       "      <td>2.000000</td>\n",
       "    </tr>\n",
       "    <tr>\n",
       "      <th>Villa Lugano</th>\n",
       "      <td>4.397436</td>\n",
       "    </tr>\n",
       "    <tr>\n",
       "      <th>Villa Luro</th>\n",
       "      <td>2.500000</td>\n",
       "    </tr>\n",
       "    <tr>\n",
       "      <th>Villa Ortuzar</th>\n",
       "      <td>4.000000</td>\n",
       "    </tr>\n",
       "    <tr>\n",
       "      <th>Villa Pueyrredon</th>\n",
       "      <td>6.000000</td>\n",
       "    </tr>\n",
       "    <tr>\n",
       "      <th>Villa Santa Rita</th>\n",
       "      <td>5.000000</td>\n",
       "    </tr>\n",
       "    <tr>\n",
       "      <th>Villa Urquiza</th>\n",
       "      <td>2.500000</td>\n",
       "    </tr>\n",
       "  </tbody>\n",
       "</table>\n",
       "</div>"
      ],
      "text/plain": [
       "                       floor\n",
       "Barrio                      \n",
       "Almagro             3.500000\n",
       "Balvanera           5.000000\n",
       "Barracas            5.000000\n",
       "Belgrano            4.000000\n",
       "Boca               13.500000\n",
       "Boedo               1.000000\n",
       "Caballito           5.000000\n",
       "Chacarita           6.000000\n",
       "Coghlan             3.000000\n",
       "Colegiales          2.500000\n",
       "Constitucion        7.000000\n",
       "Flores              4.000000\n",
       "Floresta            2.000000\n",
       "Liniers             5.000000\n",
       "Monserrat           5.000000\n",
       "Monte Castro        7.000000\n",
       "Nuñez               4.000000\n",
       "Palermo             2.000000\n",
       "Parque Avellaneda   4.397436\n",
       "Parque Chacabuco    2.500000\n",
       "Parque Chas         4.397436\n",
       "Parque Patricios    3.000000\n",
       "Paternal            8.000000\n",
       "Puerto Madero       8.000000\n",
       "Recoleta            4.000000\n",
       "Retiro              5.000000\n",
       "Saavedra            1.000000\n",
       "San Cristobal       3.000000\n",
       "San Nicolas         8.000000\n",
       "San Telmo           7.500000\n",
       "Velez Sarsfield     1.000000\n",
       "Versalles           2.000000\n",
       "Villa Crespo        5.000000\n",
       "Villa Del Parque    4.000000\n",
       "Villa Devoto        3.000000\n",
       "Villa Gral. Mitre   2.000000\n",
       "Villa Lugano        4.397436\n",
       "Villa Luro          2.500000\n",
       "Villa Ortuzar       4.000000\n",
       "Villa Pueyrredon    6.000000\n",
       "Villa Santa Rita    5.000000\n",
       "Villa Urquiza       2.500000"
      ]
     },
     "execution_count": 24,
     "metadata": {},
     "output_type": "execute_result"
    }
   ],
   "source": [
    "floor_median_barrio = data_train.loc[data_train['tipo_propiedad']=='apartment',['floor','Barrio']].groupby('Barrio').agg(np.median)\n",
    "floor_median_barrio['floor'].fillna(value=floor_median_barrio['floor'].mean(),inplace=True)\n",
    "floor_median_barrio"
   ]
  },
  {
   "cell_type": "code",
   "execution_count": 25,
   "metadata": {
    "scrolled": false
   },
   "outputs": [],
   "source": [
    "for barrio,floor_med in floor_median_barrio['floor'].to_dict().items():\n",
    "    #imputo en el train set con los valores calculados\n",
    "    data_train.loc[((data_train['tipo_propiedad']=='apartment')&(data_train['floor'].isna())&(data_train['Barrio']==barrio)),'floor']=floor_med\n",
    "    #tambien imputo en el test set con los valores del train set.\n",
    "    data_test.loc[((data_test['tipo_propiedad']=='apartment')&(data_test['floor'].isna())&(data_test['Barrio']==barrio)),'floor']=floor_med"
   ]
  },
  {
   "cell_type": "code",
   "execution_count": 26,
   "metadata": {},
   "outputs": [
    {
     "name": "stdout",
     "output_type": "stream",
     "text": [
      "Datos faltantes de floor en train set: 0\n",
      "Datos faltantes de floor en test set: 0\n"
     ]
    }
   ],
   "source": [
    "print(\"Datos faltantes de floor en train set: {}\".format(data_train['floor'].isna().sum()))\n",
    "print(\"Datos faltantes de floor en test set: {}\".format(data_test['floor'].isna().sum()))"
   ]
  },
  {
   "cell_type": "code",
   "execution_count": 27,
   "metadata": {},
   "outputs": [
    {
     "data": {
      "text/plain": [
       "Series([], Name: Barrio, dtype: int64)"
      ]
     },
     "execution_count": 27,
     "metadata": {},
     "output_type": "execute_result"
    }
   ],
   "source": [
    "data_train.loc[data_train['floor'].isna(),'Barrio'].value_counts()"
   ]
  },
  {
   "cell_type": "code",
   "execution_count": 28,
   "metadata": {},
   "outputs": [
    {
     "data": {
      "text/plain": [
       "Series([], Name: Barrio, dtype: int64)"
      ]
     },
     "execution_count": 28,
     "metadata": {},
     "output_type": "execute_result"
    }
   ],
   "source": [
    "data_test.loc[data_test['floor'].isna(),'Barrio'].value_counts()"
   ]
  },
  {
   "cell_type": "code",
   "execution_count": 29,
   "metadata": {
    "scrolled": true
   },
   "outputs": [
    {
     "data": {
      "text/html": [
       "<div>\n",
       "<style scoped>\n",
       "    .dataframe tbody tr th:only-of-type {\n",
       "        vertical-align: middle;\n",
       "    }\n",
       "\n",
       "    .dataframe tbody tr th {\n",
       "        vertical-align: top;\n",
       "    }\n",
       "\n",
       "    .dataframe thead th {\n",
       "        text-align: right;\n",
       "    }\n",
       "</style>\n",
       "<table border=\"1\" class=\"dataframe\">\n",
       "  <thead>\n",
       "    <tr style=\"text-align: right;\">\n",
       "      <th></th>\n",
       "      <th>patio</th>\n",
       "      <th>parrilla</th>\n",
       "      <th>floor</th>\n",
       "      <th>rooms</th>\n",
       "      <th>price_usd</th>\n",
       "      <th>sup_cub</th>\n",
       "      <th>sup_descub</th>\n",
       "      <th>sup_total</th>\n",
       "      <th>price_usd_per_m2</th>\n",
       "      <th>sup_por_room</th>\n",
       "      <th>...</th>\n",
       "      <th>Barrio_Villa Gral. Mitre</th>\n",
       "      <th>Barrio_Villa Lugano</th>\n",
       "      <th>Barrio_Villa Luro</th>\n",
       "      <th>Barrio_Villa Ortuzar</th>\n",
       "      <th>Barrio_Villa Pueyrredon</th>\n",
       "      <th>Barrio_Villa Real</th>\n",
       "      <th>Barrio_Villa Riachuelo</th>\n",
       "      <th>Barrio_Villa Santa Rita</th>\n",
       "      <th>Barrio_Villa Soldati</th>\n",
       "      <th>Barrio_Villa Urquiza</th>\n",
       "    </tr>\n",
       "  </thead>\n",
       "  <tbody>\n",
       "    <tr>\n",
       "      <th>count</th>\n",
       "      <td>8169.000000</td>\n",
       "      <td>8169.000000</td>\n",
       "      <td>8169.000000</td>\n",
       "      <td>8169.000000</td>\n",
       "      <td>8.169000e+03</td>\n",
       "      <td>7270.000000</td>\n",
       "      <td>6884.000000</td>\n",
       "      <td>7783.000000</td>\n",
       "      <td>8169.000000</td>\n",
       "      <td>7270.000000</td>\n",
       "      <td>...</td>\n",
       "      <td>8169.000000</td>\n",
       "      <td>8169.000000</td>\n",
       "      <td>8169.000000</td>\n",
       "      <td>8169.000000</td>\n",
       "      <td>8169.000000</td>\n",
       "      <td>8169.000000</td>\n",
       "      <td>8169.0</td>\n",
       "      <td>8169.000000</td>\n",
       "      <td>8169.000000</td>\n",
       "      <td>8169.000000</td>\n",
       "    </tr>\n",
       "    <tr>\n",
       "      <th>mean</th>\n",
       "      <td>0.204187</td>\n",
       "      <td>0.293426</td>\n",
       "      <td>3.589218</td>\n",
       "      <td>2.035990</td>\n",
       "      <td>1.416259e+05</td>\n",
       "      <td>51.152074</td>\n",
       "      <td>9.545054</td>\n",
       "      <td>64.111126</td>\n",
       "      <td>2406.496981</td>\n",
       "      <td>27.769045</td>\n",
       "      <td>...</td>\n",
       "      <td>0.002448</td>\n",
       "      <td>0.005998</td>\n",
       "      <td>0.018607</td>\n",
       "      <td>0.003917</td>\n",
       "      <td>0.008691</td>\n",
       "      <td>0.001102</td>\n",
       "      <td>0.0</td>\n",
       "      <td>0.002081</td>\n",
       "      <td>0.000245</td>\n",
       "      <td>0.060962</td>\n",
       "    </tr>\n",
       "    <tr>\n",
       "      <th>std</th>\n",
       "      <td>0.403131</td>\n",
       "      <td>0.455360</td>\n",
       "      <td>2.420237</td>\n",
       "      <td>1.107661</td>\n",
       "      <td>1.337158e+05</td>\n",
       "      <td>46.317796</td>\n",
       "      <td>30.758192</td>\n",
       "      <td>77.219134</td>\n",
       "      <td>753.004276</td>\n",
       "      <td>15.612218</td>\n",
       "      <td>...</td>\n",
       "      <td>0.049423</td>\n",
       "      <td>0.077221</td>\n",
       "      <td>0.135140</td>\n",
       "      <td>0.062469</td>\n",
       "      <td>0.092827</td>\n",
       "      <td>0.033176</td>\n",
       "      <td>0.0</td>\n",
       "      <td>0.045574</td>\n",
       "      <td>0.015646</td>\n",
       "      <td>0.239276</td>\n",
       "    </tr>\n",
       "    <tr>\n",
       "      <th>min</th>\n",
       "      <td>0.000000</td>\n",
       "      <td>0.000000</td>\n",
       "      <td>0.000000</td>\n",
       "      <td>1.000000</td>\n",
       "      <td>1.861978e+03</td>\n",
       "      <td>10.000000</td>\n",
       "      <td>0.000000</td>\n",
       "      <td>10.000000</td>\n",
       "      <td>62.065932</td>\n",
       "      <td>2.857143</td>\n",
       "      <td>...</td>\n",
       "      <td>0.000000</td>\n",
       "      <td>0.000000</td>\n",
       "      <td>0.000000</td>\n",
       "      <td>0.000000</td>\n",
       "      <td>0.000000</td>\n",
       "      <td>0.000000</td>\n",
       "      <td>0.0</td>\n",
       "      <td>0.000000</td>\n",
       "      <td>0.000000</td>\n",
       "      <td>0.000000</td>\n",
       "    </tr>\n",
       "    <tr>\n",
       "      <th>25%</th>\n",
       "      <td>0.000000</td>\n",
       "      <td>0.000000</td>\n",
       "      <td>2.000000</td>\n",
       "      <td>1.000000</td>\n",
       "      <td>8.600000e+04</td>\n",
       "      <td>33.000000</td>\n",
       "      <td>0.000000</td>\n",
       "      <td>37.000000</td>\n",
       "      <td>1953.125000</td>\n",
       "      <td>19.500000</td>\n",
       "      <td>...</td>\n",
       "      <td>0.000000</td>\n",
       "      <td>0.000000</td>\n",
       "      <td>0.000000</td>\n",
       "      <td>0.000000</td>\n",
       "      <td>0.000000</td>\n",
       "      <td>0.000000</td>\n",
       "      <td>0.0</td>\n",
       "      <td>0.000000</td>\n",
       "      <td>0.000000</td>\n",
       "      <td>0.000000</td>\n",
       "    </tr>\n",
       "    <tr>\n",
       "      <th>50%</th>\n",
       "      <td>0.000000</td>\n",
       "      <td>0.000000</td>\n",
       "      <td>4.000000</td>\n",
       "      <td>2.000000</td>\n",
       "      <td>1.140000e+05</td>\n",
       "      <td>40.000000</td>\n",
       "      <td>4.000000</td>\n",
       "      <td>45.000000</td>\n",
       "      <td>2375.000000</td>\n",
       "      <td>25.000000</td>\n",
       "      <td>...</td>\n",
       "      <td>0.000000</td>\n",
       "      <td>0.000000</td>\n",
       "      <td>0.000000</td>\n",
       "      <td>0.000000</td>\n",
       "      <td>0.000000</td>\n",
       "      <td>0.000000</td>\n",
       "      <td>0.0</td>\n",
       "      <td>0.000000</td>\n",
       "      <td>0.000000</td>\n",
       "      <td>0.000000</td>\n",
       "    </tr>\n",
       "    <tr>\n",
       "      <th>75%</th>\n",
       "      <td>0.000000</td>\n",
       "      <td>1.000000</td>\n",
       "      <td>5.000000</td>\n",
       "      <td>3.000000</td>\n",
       "      <td>1.490000e+05</td>\n",
       "      <td>49.000000</td>\n",
       "      <td>7.000000</td>\n",
       "      <td>56.000000</td>\n",
       "      <td>2823.529412</td>\n",
       "      <td>33.000000</td>\n",
       "      <td>...</td>\n",
       "      <td>0.000000</td>\n",
       "      <td>0.000000</td>\n",
       "      <td>0.000000</td>\n",
       "      <td>0.000000</td>\n",
       "      <td>0.000000</td>\n",
       "      <td>0.000000</td>\n",
       "      <td>0.0</td>\n",
       "      <td>0.000000</td>\n",
       "      <td>0.000000</td>\n",
       "      <td>0.000000</td>\n",
       "    </tr>\n",
       "    <tr>\n",
       "      <th>max</th>\n",
       "      <td>1.000000</td>\n",
       "      <td>1.000000</td>\n",
       "      <td>20.000000</td>\n",
       "      <td>7.000000</td>\n",
       "      <td>3.000000e+06</td>\n",
       "      <td>400.000000</td>\n",
       "      <td>797.000000</td>\n",
       "      <td>817.000000</td>\n",
       "      <td>7256.304348</td>\n",
       "      <td>330.000000</td>\n",
       "      <td>...</td>\n",
       "      <td>1.000000</td>\n",
       "      <td>1.000000</td>\n",
       "      <td>1.000000</td>\n",
       "      <td>1.000000</td>\n",
       "      <td>1.000000</td>\n",
       "      <td>1.000000</td>\n",
       "      <td>0.0</td>\n",
       "      <td>1.000000</td>\n",
       "      <td>1.000000</td>\n",
       "      <td>1.000000</td>\n",
       "    </tr>\n",
       "  </tbody>\n",
       "</table>\n",
       "<p>8 rows × 61 columns</p>\n",
       "</div>"
      ],
      "text/plain": [
       "             patio     parrilla        floor        rooms     price_usd  \\\n",
       "count  8169.000000  8169.000000  8169.000000  8169.000000  8.169000e+03   \n",
       "mean      0.204187     0.293426     3.589218     2.035990  1.416259e+05   \n",
       "std       0.403131     0.455360     2.420237     1.107661  1.337158e+05   \n",
       "min       0.000000     0.000000     0.000000     1.000000  1.861978e+03   \n",
       "25%       0.000000     0.000000     2.000000     1.000000  8.600000e+04   \n",
       "50%       0.000000     0.000000     4.000000     2.000000  1.140000e+05   \n",
       "75%       0.000000     1.000000     5.000000     3.000000  1.490000e+05   \n",
       "max       1.000000     1.000000    20.000000     7.000000  3.000000e+06   \n",
       "\n",
       "           sup_cub   sup_descub    sup_total  price_usd_per_m2  sup_por_room  \\\n",
       "count  7270.000000  6884.000000  7783.000000       8169.000000   7270.000000   \n",
       "mean     51.152074     9.545054    64.111126       2406.496981     27.769045   \n",
       "std      46.317796    30.758192    77.219134        753.004276     15.612218   \n",
       "min      10.000000     0.000000    10.000000         62.065932      2.857143   \n",
       "25%      33.000000     0.000000    37.000000       1953.125000     19.500000   \n",
       "50%      40.000000     4.000000    45.000000       2375.000000     25.000000   \n",
       "75%      49.000000     7.000000    56.000000       2823.529412     33.000000   \n",
       "max     400.000000   797.000000   817.000000       7256.304348    330.000000   \n",
       "\n",
       "       ...  Barrio_Villa Gral. Mitre  Barrio_Villa Lugano  Barrio_Villa Luro  \\\n",
       "count  ...               8169.000000          8169.000000        8169.000000   \n",
       "mean   ...                  0.002448             0.005998           0.018607   \n",
       "std    ...                  0.049423             0.077221           0.135140   \n",
       "min    ...                  0.000000             0.000000           0.000000   \n",
       "25%    ...                  0.000000             0.000000           0.000000   \n",
       "50%    ...                  0.000000             0.000000           0.000000   \n",
       "75%    ...                  0.000000             0.000000           0.000000   \n",
       "max    ...                  1.000000             1.000000           1.000000   \n",
       "\n",
       "       Barrio_Villa Ortuzar  Barrio_Villa Pueyrredon  Barrio_Villa Real  \\\n",
       "count           8169.000000              8169.000000        8169.000000   \n",
       "mean               0.003917                 0.008691           0.001102   \n",
       "std                0.062469                 0.092827           0.033176   \n",
       "min                0.000000                 0.000000           0.000000   \n",
       "25%                0.000000                 0.000000           0.000000   \n",
       "50%                0.000000                 0.000000           0.000000   \n",
       "75%                0.000000                 0.000000           0.000000   \n",
       "max                1.000000                 1.000000           1.000000   \n",
       "\n",
       "       Barrio_Villa Riachuelo  Barrio_Villa Santa Rita  Barrio_Villa Soldati  \\\n",
       "count                  8169.0              8169.000000           8169.000000   \n",
       "mean                      0.0                 0.002081              0.000245   \n",
       "std                       0.0                 0.045574              0.015646   \n",
       "min                       0.0                 0.000000              0.000000   \n",
       "25%                       0.0                 0.000000              0.000000   \n",
       "50%                       0.0                 0.000000              0.000000   \n",
       "75%                       0.0                 0.000000              0.000000   \n",
       "max                       0.0                 1.000000              1.000000   \n",
       "\n",
       "       Barrio_Villa Urquiza  \n",
       "count           8169.000000  \n",
       "mean               0.060962  \n",
       "std                0.239276  \n",
       "min                0.000000  \n",
       "25%                0.000000  \n",
       "50%                0.000000  \n",
       "75%                0.000000  \n",
       "max                1.000000  \n",
       "\n",
       "[8 rows x 61 columns]"
      ]
     },
     "execution_count": 29,
     "metadata": {},
     "output_type": "execute_result"
    }
   ],
   "source": [
    "data_train.iloc[:,8:].describe()"
   ]
  },
  {
   "cell_type": "code",
   "execution_count": 30,
   "metadata": {},
   "outputs": [
    {
     "data": {
      "text/html": [
       "<div>\n",
       "<style scoped>\n",
       "    .dataframe tbody tr th:only-of-type {\n",
       "        vertical-align: middle;\n",
       "    }\n",
       "\n",
       "    .dataframe tbody tr th {\n",
       "        vertical-align: top;\n",
       "    }\n",
       "\n",
       "    .dataframe thead th {\n",
       "        text-align: right;\n",
       "    }\n",
       "</style>\n",
       "<table border=\"1\" class=\"dataframe\">\n",
       "  <thead>\n",
       "    <tr style=\"text-align: right;\">\n",
       "      <th></th>\n",
       "      <th>sup_cub</th>\n",
       "      <th>sup_descub</th>\n",
       "      <th>sup_total</th>\n",
       "      <th>price_usd_per_m2</th>\n",
       "      <th>sup_por_room</th>\n",
       "      <th>cub_desc</th>\n",
       "      <th>tipo_propiedad_apartment</th>\n",
       "      <th>tipo_propiedad_house</th>\n",
       "      <th>tipo_propiedad_store</th>\n",
       "      <th>Barrio_Almagro</th>\n",
       "      <th>...</th>\n",
       "      <th>Barrio_Villa Gral. Mitre</th>\n",
       "      <th>Barrio_Villa Lugano</th>\n",
       "      <th>Barrio_Villa Luro</th>\n",
       "      <th>Barrio_Villa Ortuzar</th>\n",
       "      <th>Barrio_Villa Pueyrredon</th>\n",
       "      <th>Barrio_Villa Real</th>\n",
       "      <th>Barrio_Villa Riachuelo</th>\n",
       "      <th>Barrio_Villa Santa Rita</th>\n",
       "      <th>Barrio_Villa Soldati</th>\n",
       "      <th>Barrio_Villa Urquiza</th>\n",
       "    </tr>\n",
       "  </thead>\n",
       "  <tbody>\n",
       "    <tr>\n",
       "      <th>count</th>\n",
       "      <td>3135.000000</td>\n",
       "      <td>2950.000000</td>\n",
       "      <td>3316.000000</td>\n",
       "      <td>3501.000000</td>\n",
       "      <td>3135.000000</td>\n",
       "      <td>2950.000000</td>\n",
       "      <td>3501.000000</td>\n",
       "      <td>3501.000000</td>\n",
       "      <td>3501.000000</td>\n",
       "      <td>3501.000000</td>\n",
       "      <td>...</td>\n",
       "      <td>3501.000000</td>\n",
       "      <td>3501.000000</td>\n",
       "      <td>3501.000000</td>\n",
       "      <td>3501.000000</td>\n",
       "      <td>3501.000000</td>\n",
       "      <td>3501.000000</td>\n",
       "      <td>3501.000000</td>\n",
       "      <td>3501.000000</td>\n",
       "      <td>3501.0</td>\n",
       "      <td>3501.000000</td>\n",
       "    </tr>\n",
       "    <tr>\n",
       "      <th>mean</th>\n",
       "      <td>51.111123</td>\n",
       "      <td>9.153708</td>\n",
       "      <td>62.119807</td>\n",
       "      <td>2403.691028</td>\n",
       "      <td>28.063183</td>\n",
       "      <td>1107.799393</td>\n",
       "      <td>0.854042</td>\n",
       "      <td>0.068837</td>\n",
       "      <td>0.006284</td>\n",
       "      <td>0.039703</td>\n",
       "      <td>...</td>\n",
       "      <td>0.003713</td>\n",
       "      <td>0.005713</td>\n",
       "      <td>0.019709</td>\n",
       "      <td>0.005141</td>\n",
       "      <td>0.007998</td>\n",
       "      <td>0.001714</td>\n",
       "      <td>0.000571</td>\n",
       "      <td>0.001428</td>\n",
       "      <td>0.0</td>\n",
       "      <td>0.072265</td>\n",
       "    </tr>\n",
       "    <tr>\n",
       "      <th>std</th>\n",
       "      <td>44.369429</td>\n",
       "      <td>26.712904</td>\n",
       "      <td>69.426286</td>\n",
       "      <td>748.715552</td>\n",
       "      <td>15.451424</td>\n",
       "      <td>5506.428527</td>\n",
       "      <td>0.353115</td>\n",
       "      <td>0.253214</td>\n",
       "      <td>0.079033</td>\n",
       "      <td>0.195288</td>\n",
       "      <td>...</td>\n",
       "      <td>0.060832</td>\n",
       "      <td>0.075377</td>\n",
       "      <td>0.139017</td>\n",
       "      <td>0.071529</td>\n",
       "      <td>0.089084</td>\n",
       "      <td>0.041368</td>\n",
       "      <td>0.023898</td>\n",
       "      <td>0.037769</td>\n",
       "      <td>0.0</td>\n",
       "      <td>0.258963</td>\n",
       "    </tr>\n",
       "    <tr>\n",
       "      <th>min</th>\n",
       "      <td>10.000000</td>\n",
       "      <td>0.000000</td>\n",
       "      <td>10.000000</td>\n",
       "      <td>62.065932</td>\n",
       "      <td>3.333333</td>\n",
       "      <td>0.000000</td>\n",
       "      <td>0.000000</td>\n",
       "      <td>0.000000</td>\n",
       "      <td>0.000000</td>\n",
       "      <td>0.000000</td>\n",
       "      <td>...</td>\n",
       "      <td>0.000000</td>\n",
       "      <td>0.000000</td>\n",
       "      <td>0.000000</td>\n",
       "      <td>0.000000</td>\n",
       "      <td>0.000000</td>\n",
       "      <td>0.000000</td>\n",
       "      <td>0.000000</td>\n",
       "      <td>0.000000</td>\n",
       "      <td>0.0</td>\n",
       "      <td>0.000000</td>\n",
       "    </tr>\n",
       "    <tr>\n",
       "      <th>25%</th>\n",
       "      <td>33.000000</td>\n",
       "      <td>0.000000</td>\n",
       "      <td>37.000000</td>\n",
       "      <td>1953.125000</td>\n",
       "      <td>20.000000</td>\n",
       "      <td>0.000000</td>\n",
       "      <td>1.000000</td>\n",
       "      <td>0.000000</td>\n",
       "      <td>0.000000</td>\n",
       "      <td>0.000000</td>\n",
       "      <td>...</td>\n",
       "      <td>0.000000</td>\n",
       "      <td>0.000000</td>\n",
       "      <td>0.000000</td>\n",
       "      <td>0.000000</td>\n",
       "      <td>0.000000</td>\n",
       "      <td>0.000000</td>\n",
       "      <td>0.000000</td>\n",
       "      <td>0.000000</td>\n",
       "      <td>0.0</td>\n",
       "      <td>0.000000</td>\n",
       "    </tr>\n",
       "    <tr>\n",
       "      <th>50%</th>\n",
       "      <td>40.000000</td>\n",
       "      <td>4.000000</td>\n",
       "      <td>45.000000</td>\n",
       "      <td>2379.310345</td>\n",
       "      <td>25.000000</td>\n",
       "      <td>144.000000</td>\n",
       "      <td>1.000000</td>\n",
       "      <td>0.000000</td>\n",
       "      <td>0.000000</td>\n",
       "      <td>0.000000</td>\n",
       "      <td>...</td>\n",
       "      <td>0.000000</td>\n",
       "      <td>0.000000</td>\n",
       "      <td>0.000000</td>\n",
       "      <td>0.000000</td>\n",
       "      <td>0.000000</td>\n",
       "      <td>0.000000</td>\n",
       "      <td>0.000000</td>\n",
       "      <td>0.000000</td>\n",
       "      <td>0.0</td>\n",
       "      <td>0.000000</td>\n",
       "    </tr>\n",
       "    <tr>\n",
       "      <th>75%</th>\n",
       "      <td>49.000000</td>\n",
       "      <td>6.000000</td>\n",
       "      <td>56.000000</td>\n",
       "      <td>2836.784314</td>\n",
       "      <td>34.000000</td>\n",
       "      <td>275.000000</td>\n",
       "      <td>1.000000</td>\n",
       "      <td>0.000000</td>\n",
       "      <td>0.000000</td>\n",
       "      <td>0.000000</td>\n",
       "      <td>...</td>\n",
       "      <td>0.000000</td>\n",
       "      <td>0.000000</td>\n",
       "      <td>0.000000</td>\n",
       "      <td>0.000000</td>\n",
       "      <td>0.000000</td>\n",
       "      <td>0.000000</td>\n",
       "      <td>0.000000</td>\n",
       "      <td>0.000000</td>\n",
       "      <td>0.0</td>\n",
       "      <td>0.000000</td>\n",
       "    </tr>\n",
       "    <tr>\n",
       "      <th>max</th>\n",
       "      <td>400.000000</td>\n",
       "      <td>430.000000</td>\n",
       "      <td>750.000000</td>\n",
       "      <td>6666.666667</td>\n",
       "      <td>250.000000</td>\n",
       "      <td>90000.000000</td>\n",
       "      <td>1.000000</td>\n",
       "      <td>1.000000</td>\n",
       "      <td>1.000000</td>\n",
       "      <td>1.000000</td>\n",
       "      <td>...</td>\n",
       "      <td>1.000000</td>\n",
       "      <td>1.000000</td>\n",
       "      <td>1.000000</td>\n",
       "      <td>1.000000</td>\n",
       "      <td>1.000000</td>\n",
       "      <td>1.000000</td>\n",
       "      <td>1.000000</td>\n",
       "      <td>1.000000</td>\n",
       "      <td>0.0</td>\n",
       "      <td>1.000000</td>\n",
       "    </tr>\n",
       "  </tbody>\n",
       "</table>\n",
       "<p>8 rows × 56 columns</p>\n",
       "</div>"
      ],
      "text/plain": [
       "           sup_cub   sup_descub    sup_total  price_usd_per_m2  sup_por_room  \\\n",
       "count  3135.000000  2950.000000  3316.000000       3501.000000   3135.000000   \n",
       "mean     51.111123     9.153708    62.119807       2403.691028     28.063183   \n",
       "std      44.369429    26.712904    69.426286        748.715552     15.451424   \n",
       "min      10.000000     0.000000    10.000000         62.065932      3.333333   \n",
       "25%      33.000000     0.000000    37.000000       1953.125000     20.000000   \n",
       "50%      40.000000     4.000000    45.000000       2379.310345     25.000000   \n",
       "75%      49.000000     6.000000    56.000000       2836.784314     34.000000   \n",
       "max     400.000000   430.000000   750.000000       6666.666667    250.000000   \n",
       "\n",
       "           cub_desc  tipo_propiedad_apartment  tipo_propiedad_house  \\\n",
       "count   2950.000000               3501.000000           3501.000000   \n",
       "mean    1107.799393                  0.854042              0.068837   \n",
       "std     5506.428527                  0.353115              0.253214   \n",
       "min        0.000000                  0.000000              0.000000   \n",
       "25%        0.000000                  1.000000              0.000000   \n",
       "50%      144.000000                  1.000000              0.000000   \n",
       "75%      275.000000                  1.000000              0.000000   \n",
       "max    90000.000000                  1.000000              1.000000   \n",
       "\n",
       "       tipo_propiedad_store  Barrio_Almagro  ...  Barrio_Villa Gral. Mitre  \\\n",
       "count           3501.000000     3501.000000  ...               3501.000000   \n",
       "mean               0.006284        0.039703  ...                  0.003713   \n",
       "std                0.079033        0.195288  ...                  0.060832   \n",
       "min                0.000000        0.000000  ...                  0.000000   \n",
       "25%                0.000000        0.000000  ...                  0.000000   \n",
       "50%                0.000000        0.000000  ...                  0.000000   \n",
       "75%                0.000000        0.000000  ...                  0.000000   \n",
       "max                1.000000        1.000000  ...                  1.000000   \n",
       "\n",
       "       Barrio_Villa Lugano  Barrio_Villa Luro  Barrio_Villa Ortuzar  \\\n",
       "count          3501.000000        3501.000000           3501.000000   \n",
       "mean              0.005713           0.019709              0.005141   \n",
       "std               0.075377           0.139017              0.071529   \n",
       "min               0.000000           0.000000              0.000000   \n",
       "25%               0.000000           0.000000              0.000000   \n",
       "50%               0.000000           0.000000              0.000000   \n",
       "75%               0.000000           0.000000              0.000000   \n",
       "max               1.000000           1.000000              1.000000   \n",
       "\n",
       "       Barrio_Villa Pueyrredon  Barrio_Villa Real  Barrio_Villa Riachuelo  \\\n",
       "count              3501.000000        3501.000000             3501.000000   \n",
       "mean                  0.007998           0.001714                0.000571   \n",
       "std                   0.089084           0.041368                0.023898   \n",
       "min                   0.000000           0.000000                0.000000   \n",
       "25%                   0.000000           0.000000                0.000000   \n",
       "50%                   0.000000           0.000000                0.000000   \n",
       "75%                   0.000000           0.000000                0.000000   \n",
       "max                   1.000000           1.000000                1.000000   \n",
       "\n",
       "       Barrio_Villa Santa Rita  Barrio_Villa Soldati  Barrio_Villa Urquiza  \n",
       "count              3501.000000                3501.0           3501.000000  \n",
       "mean                  0.001428                   0.0              0.072265  \n",
       "std                   0.037769                   0.0              0.258963  \n",
       "min                   0.000000                   0.0              0.000000  \n",
       "25%                   0.000000                   0.0              0.000000  \n",
       "50%                   0.000000                   0.0              0.000000  \n",
       "75%                   0.000000                   0.0              0.000000  \n",
       "max                   1.000000                   0.0              1.000000  \n",
       "\n",
       "[8 rows x 56 columns]"
      ]
     },
     "execution_count": 30,
     "metadata": {},
     "output_type": "execute_result"
    }
   ],
   "source": [
    "data_test.iloc[:,13:].describe()"
   ]
  },
  {
   "cell_type": "code",
   "execution_count": 31,
   "metadata": {},
   "outputs": [
    {
     "data": {
      "text/html": [
       "<div>\n",
       "<style scoped>\n",
       "    .dataframe tbody tr th:only-of-type {\n",
       "        vertical-align: middle;\n",
       "    }\n",
       "\n",
       "    .dataframe tbody tr th {\n",
       "        vertical-align: top;\n",
       "    }\n",
       "\n",
       "    .dataframe thead th {\n",
       "        text-align: right;\n",
       "    }\n",
       "</style>\n",
       "<table border=\"1\" class=\"dataframe\">\n",
       "  <thead>\n",
       "    <tr style=\"text-align: right;\">\n",
       "      <th></th>\n",
       "      <th>sup_cub</th>\n",
       "      <th>sup_total</th>\n",
       "    </tr>\n",
       "  </thead>\n",
       "  <tbody>\n",
       "  </tbody>\n",
       "</table>\n",
       "</div>"
      ],
      "text/plain": [
       "Empty DataFrame\n",
       "Columns: [sup_cub, sup_total]\n",
       "Index: []"
      ]
     },
     "execution_count": 31,
     "metadata": {},
     "output_type": "execute_result"
    }
   ],
   "source": [
    "data_test.loc[data_test['sup_cub']==0,['sup_cub','sup_total']]"
   ]
  },
  {
   "cell_type": "markdown",
   "metadata": {},
   "source": [
    "## 5.2 Imputación de Superficies\n",
    "\n",
    "Columna temporal de const_index."
   ]
  },
  {
   "cell_type": "code",
   "execution_count": 32,
   "metadata": {
    "scrolled": true
   },
   "outputs": [
    {
     "data": {
      "text/html": [
       "<div>\n",
       "<style scoped>\n",
       "    .dataframe tbody tr th:only-of-type {\n",
       "        vertical-align: middle;\n",
       "    }\n",
       "\n",
       "    .dataframe tbody tr th {\n",
       "        vertical-align: top;\n",
       "    }\n",
       "\n",
       "    .dataframe thead th {\n",
       "        text-align: right;\n",
       "    }\n",
       "</style>\n",
       "<table border=\"1\" class=\"dataframe\">\n",
       "  <thead>\n",
       "    <tr style=\"text-align: right;\">\n",
       "      <th></th>\n",
       "      <th>tipo_propiedad</th>\n",
       "      <th>Barrio</th>\n",
       "      <th>cochera</th>\n",
       "      <th>gimnasio</th>\n",
       "      <th>piscina</th>\n",
       "      <th>SUM</th>\n",
       "      <th>laundry</th>\n",
       "      <th>balcon</th>\n",
       "      <th>patio</th>\n",
       "      <th>parrilla</th>\n",
       "      <th>...</th>\n",
       "      <th>Barrio_Villa Lugano</th>\n",
       "      <th>Barrio_Villa Luro</th>\n",
       "      <th>Barrio_Villa Ortuzar</th>\n",
       "      <th>Barrio_Villa Pueyrredon</th>\n",
       "      <th>Barrio_Villa Real</th>\n",
       "      <th>Barrio_Villa Riachuelo</th>\n",
       "      <th>Barrio_Villa Santa Rita</th>\n",
       "      <th>Barrio_Villa Soldati</th>\n",
       "      <th>Barrio_Villa Urquiza</th>\n",
       "      <th>const_index</th>\n",
       "    </tr>\n",
       "  </thead>\n",
       "  <tbody>\n",
       "    <tr>\n",
       "      <th>4261</th>\n",
       "      <td>apartment</td>\n",
       "      <td>Recoleta</td>\n",
       "      <td>0.0</td>\n",
       "      <td>0.0</td>\n",
       "      <td>0.0</td>\n",
       "      <td>0.0</td>\n",
       "      <td>0.0</td>\n",
       "      <td>0.0</td>\n",
       "      <td>1.0</td>\n",
       "      <td>0.0</td>\n",
       "      <td>...</td>\n",
       "      <td>0.0</td>\n",
       "      <td>0.0</td>\n",
       "      <td>0.0</td>\n",
       "      <td>0.0</td>\n",
       "      <td>0.0</td>\n",
       "      <td>0.0</td>\n",
       "      <td>0.0</td>\n",
       "      <td>0.0</td>\n",
       "      <td>0.0</td>\n",
       "      <td>0.904762</td>\n",
       "    </tr>\n",
       "    <tr>\n",
       "      <th>2246</th>\n",
       "      <td>apartment</td>\n",
       "      <td>Flores</td>\n",
       "      <td>0.0</td>\n",
       "      <td>0.0</td>\n",
       "      <td>0.0</td>\n",
       "      <td>0.0</td>\n",
       "      <td>0.0</td>\n",
       "      <td>0.0</td>\n",
       "      <td>0.0</td>\n",
       "      <td>0.0</td>\n",
       "      <td>...</td>\n",
       "      <td>0.0</td>\n",
       "      <td>0.0</td>\n",
       "      <td>0.0</td>\n",
       "      <td>0.0</td>\n",
       "      <td>0.0</td>\n",
       "      <td>0.0</td>\n",
       "      <td>0.0</td>\n",
       "      <td>0.0</td>\n",
       "      <td>0.0</td>\n",
       "      <td>1.000000</td>\n",
       "    </tr>\n",
       "    <tr>\n",
       "      <th>10490</th>\n",
       "      <td>apartment</td>\n",
       "      <td>Palermo</td>\n",
       "      <td>0.0</td>\n",
       "      <td>0.0</td>\n",
       "      <td>0.0</td>\n",
       "      <td>0.0</td>\n",
       "      <td>0.0</td>\n",
       "      <td>1.0</td>\n",
       "      <td>0.0</td>\n",
       "      <td>0.0</td>\n",
       "      <td>...</td>\n",
       "      <td>0.0</td>\n",
       "      <td>0.0</td>\n",
       "      <td>0.0</td>\n",
       "      <td>0.0</td>\n",
       "      <td>0.0</td>\n",
       "      <td>0.0</td>\n",
       "      <td>0.0</td>\n",
       "      <td>0.0</td>\n",
       "      <td>0.0</td>\n",
       "      <td>0.724138</td>\n",
       "    </tr>\n",
       "    <tr>\n",
       "      <th>9804</th>\n",
       "      <td>apartment</td>\n",
       "      <td>Palermo</td>\n",
       "      <td>0.0</td>\n",
       "      <td>0.0</td>\n",
       "      <td>0.0</td>\n",
       "      <td>0.0</td>\n",
       "      <td>0.0</td>\n",
       "      <td>1.0</td>\n",
       "      <td>0.0</td>\n",
       "      <td>0.0</td>\n",
       "      <td>...</td>\n",
       "      <td>0.0</td>\n",
       "      <td>0.0</td>\n",
       "      <td>0.0</td>\n",
       "      <td>0.0</td>\n",
       "      <td>0.0</td>\n",
       "      <td>0.0</td>\n",
       "      <td>0.0</td>\n",
       "      <td>0.0</td>\n",
       "      <td>0.0</td>\n",
       "      <td>NaN</td>\n",
       "    </tr>\n",
       "    <tr>\n",
       "      <th>5348</th>\n",
       "      <td>apartment</td>\n",
       "      <td>Belgrano</td>\n",
       "      <td>1.0</td>\n",
       "      <td>0.0</td>\n",
       "      <td>1.0</td>\n",
       "      <td>1.0</td>\n",
       "      <td>1.0</td>\n",
       "      <td>1.0</td>\n",
       "      <td>0.0</td>\n",
       "      <td>1.0</td>\n",
       "      <td>...</td>\n",
       "      <td>0.0</td>\n",
       "      <td>0.0</td>\n",
       "      <td>0.0</td>\n",
       "      <td>0.0</td>\n",
       "      <td>0.0</td>\n",
       "      <td>0.0</td>\n",
       "      <td>0.0</td>\n",
       "      <td>0.0</td>\n",
       "      <td>0.0</td>\n",
       "      <td>0.909091</td>\n",
       "    </tr>\n",
       "  </tbody>\n",
       "</table>\n",
       "<p>5 rows × 70 columns</p>\n",
       "</div>"
      ],
      "text/plain": [
       "      tipo_propiedad    Barrio  cochera  gimnasio  piscina  SUM  laundry  \\\n",
       "4261       apartment  Recoleta      0.0       0.0      0.0  0.0      0.0   \n",
       "2246       apartment    Flores      0.0       0.0      0.0  0.0      0.0   \n",
       "10490      apartment   Palermo      0.0       0.0      0.0  0.0      0.0   \n",
       "9804       apartment   Palermo      0.0       0.0      0.0  0.0      0.0   \n",
       "5348       apartment  Belgrano      1.0       0.0      1.0  1.0      1.0   \n",
       "\n",
       "       balcon  patio  parrilla  ...  Barrio_Villa Lugano  Barrio_Villa Luro  \\\n",
       "4261      0.0    1.0       0.0  ...                  0.0                0.0   \n",
       "2246      0.0    0.0       0.0  ...                  0.0                0.0   \n",
       "10490     1.0    0.0       0.0  ...                  0.0                0.0   \n",
       "9804      1.0    0.0       0.0  ...                  0.0                0.0   \n",
       "5348      1.0    0.0       1.0  ...                  0.0                0.0   \n",
       "\n",
       "       Barrio_Villa Ortuzar  Barrio_Villa Pueyrredon  Barrio_Villa Real  \\\n",
       "4261                    0.0                      0.0                0.0   \n",
       "2246                    0.0                      0.0                0.0   \n",
       "10490                   0.0                      0.0                0.0   \n",
       "9804                    0.0                      0.0                0.0   \n",
       "5348                    0.0                      0.0                0.0   \n",
       "\n",
       "       Barrio_Villa Riachuelo  Barrio_Villa Santa Rita  Barrio_Villa Soldati  \\\n",
       "4261                      0.0                      0.0                   0.0   \n",
       "2246                      0.0                      0.0                   0.0   \n",
       "10490                     0.0                      0.0                   0.0   \n",
       "9804                      0.0                      0.0                   0.0   \n",
       "5348                      0.0                      0.0                   0.0   \n",
       "\n",
       "       Barrio_Villa Urquiza  const_index  \n",
       "4261                    0.0     0.904762  \n",
       "2246                    0.0     1.000000  \n",
       "10490                   0.0     0.724138  \n",
       "9804                    0.0          NaN  \n",
       "5348                    0.0     0.909091  \n",
       "\n",
       "[5 rows x 70 columns]"
      ]
     },
     "execution_count": 32,
     "metadata": {},
     "output_type": "execute_result"
    }
   ],
   "source": [
    "data_train['const_index']=data_train['sup_cub']/data_train['sup_total']\n",
    "#data_test['const_index']=0\n",
    "data_train.head(5)"
   ]
  },
  {
   "cell_type": "code",
   "execution_count": 33,
   "metadata": {},
   "outputs": [
    {
     "data": {
      "text/html": [
       "<div>\n",
       "<style scoped>\n",
       "    .dataframe tbody tr th:only-of-type {\n",
       "        vertical-align: middle;\n",
       "    }\n",
       "\n",
       "    .dataframe tbody tr th {\n",
       "        vertical-align: top;\n",
       "    }\n",
       "\n",
       "    .dataframe thead th {\n",
       "        text-align: right;\n",
       "    }\n",
       "</style>\n",
       "<table border=\"1\" class=\"dataframe\">\n",
       "  <thead>\n",
       "    <tr style=\"text-align: right;\">\n",
       "      <th></th>\n",
       "      <th>const_index</th>\n",
       "    </tr>\n",
       "    <tr>\n",
       "      <th>Barrio</th>\n",
       "      <th></th>\n",
       "    </tr>\n",
       "  </thead>\n",
       "  <tbody>\n",
       "    <tr>\n",
       "      <th>Agronomia</th>\n",
       "      <td>0.739642</td>\n",
       "    </tr>\n",
       "    <tr>\n",
       "      <th>Almagro</th>\n",
       "      <td>0.930233</td>\n",
       "    </tr>\n",
       "    <tr>\n",
       "      <th>Balvanera</th>\n",
       "      <td>1.000000</td>\n",
       "    </tr>\n",
       "    <tr>\n",
       "      <th>Barracas</th>\n",
       "      <td>0.900000</td>\n",
       "    </tr>\n",
       "    <tr>\n",
       "      <th>Belgrano</th>\n",
       "      <td>0.904762</td>\n",
       "    </tr>\n",
       "    <tr>\n",
       "      <th>Boca</th>\n",
       "      <td>0.914216</td>\n",
       "    </tr>\n",
       "    <tr>\n",
       "      <th>Boedo</th>\n",
       "      <td>1.000000</td>\n",
       "    </tr>\n",
       "    <tr>\n",
       "      <th>Caballito</th>\n",
       "      <td>0.900000</td>\n",
       "    </tr>\n",
       "    <tr>\n",
       "      <th>Chacarita</th>\n",
       "      <td>0.903600</td>\n",
       "    </tr>\n",
       "    <tr>\n",
       "      <th>Coghlan</th>\n",
       "      <td>0.894737</td>\n",
       "    </tr>\n",
       "    <tr>\n",
       "      <th>Colegiales</th>\n",
       "      <td>0.909091</td>\n",
       "    </tr>\n",
       "    <tr>\n",
       "      <th>Constitucion</th>\n",
       "      <td>0.896368</td>\n",
       "    </tr>\n",
       "    <tr>\n",
       "      <th>Flores</th>\n",
       "      <td>0.907192</td>\n",
       "    </tr>\n",
       "    <tr>\n",
       "      <th>Floresta</th>\n",
       "      <td>0.880636</td>\n",
       "    </tr>\n",
       "    <tr>\n",
       "      <th>Liniers</th>\n",
       "      <td>0.862257</td>\n",
       "    </tr>\n",
       "    <tr>\n",
       "      <th>Mataderos</th>\n",
       "      <td>0.841427</td>\n",
       "    </tr>\n",
       "    <tr>\n",
       "      <th>Monserrat</th>\n",
       "      <td>0.939394</td>\n",
       "    </tr>\n",
       "    <tr>\n",
       "      <th>Monte Castro</th>\n",
       "      <td>0.890156</td>\n",
       "    </tr>\n",
       "    <tr>\n",
       "      <th>Nueva Pompeya</th>\n",
       "      <td>0.750000</td>\n",
       "    </tr>\n",
       "    <tr>\n",
       "      <th>Nuñez</th>\n",
       "      <td>0.902439</td>\n",
       "    </tr>\n",
       "    <tr>\n",
       "      <th>Palermo</th>\n",
       "      <td>0.904762</td>\n",
       "    </tr>\n",
       "    <tr>\n",
       "      <th>Parque Avellaneda</th>\n",
       "      <td>1.000000</td>\n",
       "    </tr>\n",
       "    <tr>\n",
       "      <th>Parque Chacabuco</th>\n",
       "      <td>0.918367</td>\n",
       "    </tr>\n",
       "    <tr>\n",
       "      <th>Parque Chas</th>\n",
       "      <td>0.828571</td>\n",
       "    </tr>\n",
       "    <tr>\n",
       "      <th>Parque Patricios</th>\n",
       "      <td>0.849057</td>\n",
       "    </tr>\n",
       "    <tr>\n",
       "      <th>Paternal</th>\n",
       "      <td>0.941176</td>\n",
       "    </tr>\n",
       "    <tr>\n",
       "      <th>Puerto Madero</th>\n",
       "      <td>1.000000</td>\n",
       "    </tr>\n",
       "    <tr>\n",
       "      <th>Recoleta</th>\n",
       "      <td>0.916667</td>\n",
       "    </tr>\n",
       "    <tr>\n",
       "      <th>Retiro</th>\n",
       "      <td>1.000000</td>\n",
       "    </tr>\n",
       "    <tr>\n",
       "      <th>Saavedra</th>\n",
       "      <td>0.886792</td>\n",
       "    </tr>\n",
       "    <tr>\n",
       "      <th>San Cristobal</th>\n",
       "      <td>0.926829</td>\n",
       "    </tr>\n",
       "    <tr>\n",
       "      <th>San Nicolas</th>\n",
       "      <td>1.000000</td>\n",
       "    </tr>\n",
       "    <tr>\n",
       "      <th>San Telmo</th>\n",
       "      <td>0.900980</td>\n",
       "    </tr>\n",
       "    <tr>\n",
       "      <th>Velez Sarsfield</th>\n",
       "      <td>0.931818</td>\n",
       "    </tr>\n",
       "    <tr>\n",
       "      <th>Versalles</th>\n",
       "      <td>0.716667</td>\n",
       "    </tr>\n",
       "    <tr>\n",
       "      <th>Villa Crespo</th>\n",
       "      <td>0.900000</td>\n",
       "    </tr>\n",
       "    <tr>\n",
       "      <th>Villa Del Parque</th>\n",
       "      <td>0.908034</td>\n",
       "    </tr>\n",
       "    <tr>\n",
       "      <th>Villa Devoto</th>\n",
       "      <td>0.885714</td>\n",
       "    </tr>\n",
       "    <tr>\n",
       "      <th>Villa Gral. Mitre</th>\n",
       "      <td>0.897165</td>\n",
       "    </tr>\n",
       "    <tr>\n",
       "      <th>Villa Lugano</th>\n",
       "      <td>0.930430</td>\n",
       "    </tr>\n",
       "    <tr>\n",
       "      <th>Villa Luro</th>\n",
       "      <td>0.925926</td>\n",
       "    </tr>\n",
       "    <tr>\n",
       "      <th>Villa Ortuzar</th>\n",
       "      <td>0.891253</td>\n",
       "    </tr>\n",
       "    <tr>\n",
       "      <th>Villa Pueyrredon</th>\n",
       "      <td>0.882353</td>\n",
       "    </tr>\n",
       "    <tr>\n",
       "      <th>Villa Real</th>\n",
       "      <td>0.693182</td>\n",
       "    </tr>\n",
       "    <tr>\n",
       "      <th>Villa Santa Rita</th>\n",
       "      <td>0.769231</td>\n",
       "    </tr>\n",
       "    <tr>\n",
       "      <th>Villa Soldati</th>\n",
       "      <td>1.000000</td>\n",
       "    </tr>\n",
       "    <tr>\n",
       "      <th>Villa Urquiza</th>\n",
       "      <td>0.883721</td>\n",
       "    </tr>\n",
       "  </tbody>\n",
       "</table>\n",
       "</div>"
      ],
      "text/plain": [
       "                   const_index\n",
       "Barrio                        \n",
       "Agronomia             0.739642\n",
       "Almagro               0.930233\n",
       "Balvanera             1.000000\n",
       "Barracas              0.900000\n",
       "Belgrano              0.904762\n",
       "Boca                  0.914216\n",
       "Boedo                 1.000000\n",
       "Caballito             0.900000\n",
       "Chacarita             0.903600\n",
       "Coghlan               0.894737\n",
       "Colegiales            0.909091\n",
       "Constitucion          0.896368\n",
       "Flores                0.907192\n",
       "Floresta              0.880636\n",
       "Liniers               0.862257\n",
       "Mataderos             0.841427\n",
       "Monserrat             0.939394\n",
       "Monte Castro          0.890156\n",
       "Nueva Pompeya         0.750000\n",
       "Nuñez                 0.902439\n",
       "Palermo               0.904762\n",
       "Parque Avellaneda     1.000000\n",
       "Parque Chacabuco      0.918367\n",
       "Parque Chas           0.828571\n",
       "Parque Patricios      0.849057\n",
       "Paternal              0.941176\n",
       "Puerto Madero         1.000000\n",
       "Recoleta              0.916667\n",
       "Retiro                1.000000\n",
       "Saavedra              0.886792\n",
       "San Cristobal         0.926829\n",
       "San Nicolas           1.000000\n",
       "San Telmo             0.900980\n",
       "Velez Sarsfield       0.931818\n",
       "Versalles             0.716667\n",
       "Villa Crespo          0.900000\n",
       "Villa Del Parque      0.908034\n",
       "Villa Devoto          0.885714\n",
       "Villa Gral. Mitre     0.897165\n",
       "Villa Lugano          0.930430\n",
       "Villa Luro            0.925926\n",
       "Villa Ortuzar         0.891253\n",
       "Villa Pueyrredon      0.882353\n",
       "Villa Real            0.693182\n",
       "Villa Santa Rita      0.769231\n",
       "Villa Soldati         1.000000\n",
       "Villa Urquiza         0.883721"
      ]
     },
     "execution_count": 33,
     "metadata": {},
     "output_type": "execute_result"
    }
   ],
   "source": [
    "const_median_barrio = data_train[['const_index','Barrio']].groupby('Barrio').median()\n",
    "const_median_barrio['const_index'].fillna(value=const_median_barrio['const_index'].mean(),inplace=True)\n",
    "const_median_barrio"
   ]
  },
  {
   "cell_type": "markdown",
   "metadata": {},
   "source": [
    "Imputación del índice de construcción:"
   ]
  },
  {
   "cell_type": "code",
   "execution_count": 34,
   "metadata": {},
   "outputs": [
    {
     "data": {
      "text/plain": [
       "sup_cub        899\n",
       "sup_total      386\n",
       "sup_descub    1285\n",
       "dtype: int64"
      ]
     },
     "execution_count": 34,
     "metadata": {},
     "output_type": "execute_result"
    }
   ],
   "source": [
    "data_train[['sup_cub','sup_total','sup_descub']].isna().sum()"
   ]
  },
  {
   "cell_type": "code",
   "execution_count": 35,
   "metadata": {},
   "outputs": [],
   "source": [
    "for barrio,const_med in const_median_barrio['const_index'].to_dict().items():\n",
    "    data_train.loc[(data_train['const_index'].isna())&(data_train['Barrio']==barrio),'const_index']=const_med\n",
    "    data_test.loc[(data_test['Barrio']==barrio),'const_index']=const_med"
   ]
  },
  {
   "cell_type": "markdown",
   "metadata": {},
   "source": [
    "Completar los datos faltantes de Superficie Cubierta y Superficie Total con el índice de construcción calculado, en el set de entrenamiento."
   ]
  },
  {
   "cell_type": "code",
   "execution_count": 36,
   "metadata": {},
   "outputs": [],
   "source": [
    "data_train['sup_cub'].fillna(data_train['const_index']*data_train['sup_total'],inplace=True)\n",
    "data_train['sup_total'].fillna(data_train['sup_cub']/data_train['const_index'],inplace=True)\n",
    "data_train['sup_descub'].fillna((data_train['sup_total']-data_train['sup_cub']),inplace=True)"
   ]
  },
  {
   "cell_type": "code",
   "execution_count": 37,
   "metadata": {},
   "outputs": [
    {
     "data": {
      "text/html": [
       "<div>\n",
       "<style scoped>\n",
       "    .dataframe tbody tr th:only-of-type {\n",
       "        vertical-align: middle;\n",
       "    }\n",
       "\n",
       "    .dataframe tbody tr th {\n",
       "        vertical-align: top;\n",
       "    }\n",
       "\n",
       "    .dataframe thead th {\n",
       "        text-align: right;\n",
       "    }\n",
       "</style>\n",
       "<table border=\"1\" class=\"dataframe\">\n",
       "  <thead>\n",
       "    <tr style=\"text-align: right;\">\n",
       "      <th></th>\n",
       "      <th>sup_cub</th>\n",
       "      <th>sup_descub</th>\n",
       "      <th>sup_total</th>\n",
       "      <th>price_usd_per_m2</th>\n",
       "      <th>sup_por_room</th>\n",
       "      <th>cub_desc</th>\n",
       "      <th>tipo_propiedad_apartment</th>\n",
       "      <th>tipo_propiedad_house</th>\n",
       "      <th>tipo_propiedad_store</th>\n",
       "      <th>Barrio_Almagro</th>\n",
       "      <th>...</th>\n",
       "      <th>Barrio_Villa Lugano</th>\n",
       "      <th>Barrio_Villa Luro</th>\n",
       "      <th>Barrio_Villa Ortuzar</th>\n",
       "      <th>Barrio_Villa Pueyrredon</th>\n",
       "      <th>Barrio_Villa Real</th>\n",
       "      <th>Barrio_Villa Riachuelo</th>\n",
       "      <th>Barrio_Villa Santa Rita</th>\n",
       "      <th>Barrio_Villa Soldati</th>\n",
       "      <th>Barrio_Villa Urquiza</th>\n",
       "      <th>const_index</th>\n",
       "    </tr>\n",
       "  </thead>\n",
       "  <tbody>\n",
       "    <tr>\n",
       "      <th>count</th>\n",
       "      <td>8169.000000</td>\n",
       "      <td>8169.000000</td>\n",
       "      <td>8169.000000</td>\n",
       "      <td>8169.000000</td>\n",
       "      <td>7270.000000</td>\n",
       "      <td>6884.000000</td>\n",
       "      <td>8169.000000</td>\n",
       "      <td>8169.000000</td>\n",
       "      <td>8169.000000</td>\n",
       "      <td>8169.000000</td>\n",
       "      <td>...</td>\n",
       "      <td>8169.000000</td>\n",
       "      <td>8169.000000</td>\n",
       "      <td>8169.000000</td>\n",
       "      <td>8169.000000</td>\n",
       "      <td>8169.000000</td>\n",
       "      <td>8169.0</td>\n",
       "      <td>8169.000000</td>\n",
       "      <td>8169.000000</td>\n",
       "      <td>8169.000000</td>\n",
       "      <td>8169.000000</td>\n",
       "    </tr>\n",
       "    <tr>\n",
       "      <th>mean</th>\n",
       "      <td>54.508736</td>\n",
       "      <td>9.253745</td>\n",
       "      <td>63.762481</td>\n",
       "      <td>2406.496981</td>\n",
       "      <td>27.769045</td>\n",
       "      <td>1198.709142</td>\n",
       "      <td>0.854939</td>\n",
       "      <td>0.074673</td>\n",
       "      <td>0.005141</td>\n",
       "      <td>0.044681</td>\n",
       "      <td>...</td>\n",
       "      <td>0.005998</td>\n",
       "      <td>0.018607</td>\n",
       "      <td>0.003917</td>\n",
       "      <td>0.008691</td>\n",
       "      <td>0.001102</td>\n",
       "      <td>0.0</td>\n",
       "      <td>0.002081</td>\n",
       "      <td>0.000245</td>\n",
       "      <td>0.060962</td>\n",
       "      <td>0.897788</td>\n",
       "    </tr>\n",
       "    <tr>\n",
       "      <th>std</th>\n",
       "      <td>58.039650</td>\n",
       "      <td>28.713993</td>\n",
       "      <td>75.486997</td>\n",
       "      <td>753.004276</td>\n",
       "      <td>15.612218</td>\n",
       "      <td>6529.640964</td>\n",
       "      <td>0.352183</td>\n",
       "      <td>0.262878</td>\n",
       "      <td>0.071523</td>\n",
       "      <td>0.206615</td>\n",
       "      <td>...</td>\n",
       "      <td>0.077221</td>\n",
       "      <td>0.135140</td>\n",
       "      <td>0.062469</td>\n",
       "      <td>0.092827</td>\n",
       "      <td>0.033176</td>\n",
       "      <td>0.0</td>\n",
       "      <td>0.045574</td>\n",
       "      <td>0.015646</td>\n",
       "      <td>0.239276</td>\n",
       "      <td>0.100356</td>\n",
       "    </tr>\n",
       "    <tr>\n",
       "      <th>min</th>\n",
       "      <td>9.047619</td>\n",
       "      <td>0.000000</td>\n",
       "      <td>10.000000</td>\n",
       "      <td>62.065932</td>\n",
       "      <td>2.857143</td>\n",
       "      <td>0.000000</td>\n",
       "      <td>0.000000</td>\n",
       "      <td>0.000000</td>\n",
       "      <td>0.000000</td>\n",
       "      <td>0.000000</td>\n",
       "      <td>...</td>\n",
       "      <td>0.000000</td>\n",
       "      <td>0.000000</td>\n",
       "      <td>0.000000</td>\n",
       "      <td>0.000000</td>\n",
       "      <td>0.000000</td>\n",
       "      <td>0.0</td>\n",
       "      <td>0.000000</td>\n",
       "      <td>0.000000</td>\n",
       "      <td>0.000000</td>\n",
       "      <td>0.024480</td>\n",
       "    </tr>\n",
       "    <tr>\n",
       "      <th>25%</th>\n",
       "      <td>33.000000</td>\n",
       "      <td>0.000000</td>\n",
       "      <td>37.000000</td>\n",
       "      <td>1953.125000</td>\n",
       "      <td>19.500000</td>\n",
       "      <td>0.000000</td>\n",
       "      <td>1.000000</td>\n",
       "      <td>0.000000</td>\n",
       "      <td>0.000000</td>\n",
       "      <td>0.000000</td>\n",
       "      <td>...</td>\n",
       "      <td>0.000000</td>\n",
       "      <td>0.000000</td>\n",
       "      <td>0.000000</td>\n",
       "      <td>0.000000</td>\n",
       "      <td>0.000000</td>\n",
       "      <td>0.0</td>\n",
       "      <td>0.000000</td>\n",
       "      <td>0.000000</td>\n",
       "      <td>0.000000</td>\n",
       "      <td>0.864865</td>\n",
       "    </tr>\n",
       "    <tr>\n",
       "      <th>50%</th>\n",
       "      <td>41.000000</td>\n",
       "      <td>4.000000</td>\n",
       "      <td>46.000000</td>\n",
       "      <td>2375.000000</td>\n",
       "      <td>25.000000</td>\n",
       "      <td>144.000000</td>\n",
       "      <td>1.000000</td>\n",
       "      <td>0.000000</td>\n",
       "      <td>0.000000</td>\n",
       "      <td>0.000000</td>\n",
       "      <td>...</td>\n",
       "      <td>0.000000</td>\n",
       "      <td>0.000000</td>\n",
       "      <td>0.000000</td>\n",
       "      <td>0.000000</td>\n",
       "      <td>0.000000</td>\n",
       "      <td>0.0</td>\n",
       "      <td>0.000000</td>\n",
       "      <td>0.000000</td>\n",
       "      <td>0.000000</td>\n",
       "      <td>0.904762</td>\n",
       "    </tr>\n",
       "    <tr>\n",
       "      <th>75%</th>\n",
       "      <td>50.000000</td>\n",
       "      <td>7.000000</td>\n",
       "      <td>56.000000</td>\n",
       "      <td>2823.529412</td>\n",
       "      <td>33.000000</td>\n",
       "      <td>280.000000</td>\n",
       "      <td>1.000000</td>\n",
       "      <td>0.000000</td>\n",
       "      <td>0.000000</td>\n",
       "      <td>0.000000</td>\n",
       "      <td>...</td>\n",
       "      <td>0.000000</td>\n",
       "      <td>0.000000</td>\n",
       "      <td>0.000000</td>\n",
       "      <td>0.000000</td>\n",
       "      <td>0.000000</td>\n",
       "      <td>0.0</td>\n",
       "      <td>0.000000</td>\n",
       "      <td>0.000000</td>\n",
       "      <td>0.000000</td>\n",
       "      <td>1.000000</td>\n",
       "    </tr>\n",
       "    <tr>\n",
       "      <th>max</th>\n",
       "      <td>686.575980</td>\n",
       "      <td>797.000000</td>\n",
       "      <td>817.000000</td>\n",
       "      <td>7256.304348</td>\n",
       "      <td>330.000000</td>\n",
       "      <td>160000.000000</td>\n",
       "      <td>1.000000</td>\n",
       "      <td>1.000000</td>\n",
       "      <td>1.000000</td>\n",
       "      <td>1.000000</td>\n",
       "      <td>...</td>\n",
       "      <td>1.000000</td>\n",
       "      <td>1.000000</td>\n",
       "      <td>1.000000</td>\n",
       "      <td>1.000000</td>\n",
       "      <td>1.000000</td>\n",
       "      <td>0.0</td>\n",
       "      <td>1.000000</td>\n",
       "      <td>1.000000</td>\n",
       "      <td>1.000000</td>\n",
       "      <td>1.000000</td>\n",
       "    </tr>\n",
       "  </tbody>\n",
       "</table>\n",
       "<p>8 rows × 57 columns</p>\n",
       "</div>"
      ],
      "text/plain": [
       "           sup_cub   sup_descub    sup_total  price_usd_per_m2  sup_por_room  \\\n",
       "count  8169.000000  8169.000000  8169.000000       8169.000000   7270.000000   \n",
       "mean     54.508736     9.253745    63.762481       2406.496981     27.769045   \n",
       "std      58.039650    28.713993    75.486997        753.004276     15.612218   \n",
       "min       9.047619     0.000000    10.000000         62.065932      2.857143   \n",
       "25%      33.000000     0.000000    37.000000       1953.125000     19.500000   \n",
       "50%      41.000000     4.000000    46.000000       2375.000000     25.000000   \n",
       "75%      50.000000     7.000000    56.000000       2823.529412     33.000000   \n",
       "max     686.575980   797.000000   817.000000       7256.304348    330.000000   \n",
       "\n",
       "            cub_desc  tipo_propiedad_apartment  tipo_propiedad_house  \\\n",
       "count    6884.000000               8169.000000           8169.000000   \n",
       "mean     1198.709142                  0.854939              0.074673   \n",
       "std      6529.640964                  0.352183              0.262878   \n",
       "min         0.000000                  0.000000              0.000000   \n",
       "25%         0.000000                  1.000000              0.000000   \n",
       "50%       144.000000                  1.000000              0.000000   \n",
       "75%       280.000000                  1.000000              0.000000   \n",
       "max    160000.000000                  1.000000              1.000000   \n",
       "\n",
       "       tipo_propiedad_store  Barrio_Almagro  ...  Barrio_Villa Lugano  \\\n",
       "count           8169.000000     8169.000000  ...          8169.000000   \n",
       "mean               0.005141        0.044681  ...             0.005998   \n",
       "std                0.071523        0.206615  ...             0.077221   \n",
       "min                0.000000        0.000000  ...             0.000000   \n",
       "25%                0.000000        0.000000  ...             0.000000   \n",
       "50%                0.000000        0.000000  ...             0.000000   \n",
       "75%                0.000000        0.000000  ...             0.000000   \n",
       "max                1.000000        1.000000  ...             1.000000   \n",
       "\n",
       "       Barrio_Villa Luro  Barrio_Villa Ortuzar  Barrio_Villa Pueyrredon  \\\n",
       "count        8169.000000           8169.000000              8169.000000   \n",
       "mean            0.018607              0.003917                 0.008691   \n",
       "std             0.135140              0.062469                 0.092827   \n",
       "min             0.000000              0.000000                 0.000000   \n",
       "25%             0.000000              0.000000                 0.000000   \n",
       "50%             0.000000              0.000000                 0.000000   \n",
       "75%             0.000000              0.000000                 0.000000   \n",
       "max             1.000000              1.000000                 1.000000   \n",
       "\n",
       "       Barrio_Villa Real  Barrio_Villa Riachuelo  Barrio_Villa Santa Rita  \\\n",
       "count        8169.000000                  8169.0              8169.000000   \n",
       "mean            0.001102                     0.0                 0.002081   \n",
       "std             0.033176                     0.0                 0.045574   \n",
       "min             0.000000                     0.0                 0.000000   \n",
       "25%             0.000000                     0.0                 0.000000   \n",
       "50%             0.000000                     0.0                 0.000000   \n",
       "75%             0.000000                     0.0                 0.000000   \n",
       "max             1.000000                     0.0                 1.000000   \n",
       "\n",
       "       Barrio_Villa Soldati  Barrio_Villa Urquiza  const_index  \n",
       "count           8169.000000           8169.000000  8169.000000  \n",
       "mean               0.000245              0.060962     0.897788  \n",
       "std                0.015646              0.239276     0.100356  \n",
       "min                0.000000              0.000000     0.024480  \n",
       "25%                0.000000              0.000000     0.864865  \n",
       "50%                0.000000              0.000000     0.904762  \n",
       "75%                0.000000              0.000000     1.000000  \n",
       "max                1.000000              1.000000     1.000000  \n",
       "\n",
       "[8 rows x 57 columns]"
      ]
     },
     "execution_count": 37,
     "metadata": {},
     "output_type": "execute_result"
    }
   ],
   "source": [
    "data_train.iloc[:,13:].describe()"
   ]
  },
  {
   "cell_type": "markdown",
   "metadata": {},
   "source": [
    "Completar los datos faltantes de Superficie Cubierta y Superficie Total con el índice de construcción calculado, en el set de testeo."
   ]
  },
  {
   "cell_type": "code",
   "execution_count": 38,
   "metadata": {},
   "outputs": [],
   "source": [
    "data_test['sup_cub'].fillna(data_test['const_index']*data_test['sup_total'],inplace=True)\n",
    "#data_test['sup_cub']/data_test['const_index']\n",
    "data_test['sup_total'].fillna(data_test['sup_cub']/data_test['const_index'],inplace=True)\n",
    "data_test['sup_descub'].fillna((data_test['sup_total']-data_test['sup_cub']),inplace=True)"
   ]
  },
  {
   "cell_type": "code",
   "execution_count": 39,
   "metadata": {},
   "outputs": [
    {
     "data": {
      "text/html": [
       "<div>\n",
       "<style scoped>\n",
       "    .dataframe tbody tr th:only-of-type {\n",
       "        vertical-align: middle;\n",
       "    }\n",
       "\n",
       "    .dataframe tbody tr th {\n",
       "        vertical-align: top;\n",
       "    }\n",
       "\n",
       "    .dataframe thead th {\n",
       "        text-align: right;\n",
       "    }\n",
       "</style>\n",
       "<table border=\"1\" class=\"dataframe\">\n",
       "  <thead>\n",
       "    <tr style=\"text-align: right;\">\n",
       "      <th></th>\n",
       "      <th>sup_cub</th>\n",
       "      <th>sup_descub</th>\n",
       "      <th>sup_total</th>\n",
       "      <th>price_usd_per_m2</th>\n",
       "      <th>sup_por_room</th>\n",
       "      <th>cub_desc</th>\n",
       "      <th>tipo_propiedad_apartment</th>\n",
       "      <th>tipo_propiedad_house</th>\n",
       "      <th>tipo_propiedad_store</th>\n",
       "      <th>Barrio_Almagro</th>\n",
       "      <th>...</th>\n",
       "      <th>Barrio_Villa Lugano</th>\n",
       "      <th>Barrio_Villa Luro</th>\n",
       "      <th>Barrio_Villa Ortuzar</th>\n",
       "      <th>Barrio_Villa Pueyrredon</th>\n",
       "      <th>Barrio_Villa Real</th>\n",
       "      <th>Barrio_Villa Riachuelo</th>\n",
       "      <th>Barrio_Villa Santa Rita</th>\n",
       "      <th>Barrio_Villa Soldati</th>\n",
       "      <th>Barrio_Villa Urquiza</th>\n",
       "      <th>const_index</th>\n",
       "    </tr>\n",
       "  </thead>\n",
       "  <tbody>\n",
       "    <tr>\n",
       "      <th>count</th>\n",
       "      <td>3501.000000</td>\n",
       "      <td>3501.000000</td>\n",
       "      <td>3501.000000</td>\n",
       "      <td>3501.000000</td>\n",
       "      <td>3135.000000</td>\n",
       "      <td>2950.000000</td>\n",
       "      <td>3501.000000</td>\n",
       "      <td>3501.000000</td>\n",
       "      <td>3501.000000</td>\n",
       "      <td>3501.000000</td>\n",
       "      <td>...</td>\n",
       "      <td>3501.000000</td>\n",
       "      <td>3501.000000</td>\n",
       "      <td>3501.000000</td>\n",
       "      <td>3501.000000</td>\n",
       "      <td>3501.000000</td>\n",
       "      <td>3501.000000</td>\n",
       "      <td>3501.000000</td>\n",
       "      <td>3501.0</td>\n",
       "      <td>3501.000000</td>\n",
       "      <td>3499.000000</td>\n",
       "    </tr>\n",
       "    <tr>\n",
       "      <th>mean</th>\n",
       "      <td>53.215268</td>\n",
       "      <td>8.806872</td>\n",
       "      <td>62.022140</td>\n",
       "      <td>2403.691028</td>\n",
       "      <td>28.063183</td>\n",
       "      <td>1107.799393</td>\n",
       "      <td>0.854042</td>\n",
       "      <td>0.068837</td>\n",
       "      <td>0.006284</td>\n",
       "      <td>0.039703</td>\n",
       "      <td>...</td>\n",
       "      <td>0.005713</td>\n",
       "      <td>0.019709</td>\n",
       "      <td>0.005141</td>\n",
       "      <td>0.007998</td>\n",
       "      <td>0.001714</td>\n",
       "      <td>0.000571</td>\n",
       "      <td>0.001428</td>\n",
       "      <td>0.0</td>\n",
       "      <td>0.072265</td>\n",
       "      <td>0.909303</td>\n",
       "    </tr>\n",
       "    <tr>\n",
       "      <th>std</th>\n",
       "      <td>52.020274</td>\n",
       "      <td>24.831071</td>\n",
       "      <td>67.924962</td>\n",
       "      <td>748.715552</td>\n",
       "      <td>15.451424</td>\n",
       "      <td>5506.428527</td>\n",
       "      <td>0.353115</td>\n",
       "      <td>0.253214</td>\n",
       "      <td>0.079033</td>\n",
       "      <td>0.195288</td>\n",
       "      <td>...</td>\n",
       "      <td>0.075377</td>\n",
       "      <td>0.139017</td>\n",
       "      <td>0.071529</td>\n",
       "      <td>0.089084</td>\n",
       "      <td>0.041368</td>\n",
       "      <td>0.023898</td>\n",
       "      <td>0.037769</td>\n",
       "      <td>0.0</td>\n",
       "      <td>0.258963</td>\n",
       "      <td>0.036441</td>\n",
       "    </tr>\n",
       "    <tr>\n",
       "      <th>min</th>\n",
       "      <td>9.000000</td>\n",
       "      <td>0.000000</td>\n",
       "      <td>10.000000</td>\n",
       "      <td>62.065932</td>\n",
       "      <td>3.333333</td>\n",
       "      <td>0.000000</td>\n",
       "      <td>0.000000</td>\n",
       "      <td>0.000000</td>\n",
       "      <td>0.000000</td>\n",
       "      <td>0.000000</td>\n",
       "      <td>...</td>\n",
       "      <td>0.000000</td>\n",
       "      <td>0.000000</td>\n",
       "      <td>0.000000</td>\n",
       "      <td>0.000000</td>\n",
       "      <td>0.000000</td>\n",
       "      <td>0.000000</td>\n",
       "      <td>0.000000</td>\n",
       "      <td>0.0</td>\n",
       "      <td>0.000000</td>\n",
       "      <td>0.693182</td>\n",
       "    </tr>\n",
       "    <tr>\n",
       "      <th>25%</th>\n",
       "      <td>34.000000</td>\n",
       "      <td>0.000000</td>\n",
       "      <td>37.000000</td>\n",
       "      <td>1953.125000</td>\n",
       "      <td>20.000000</td>\n",
       "      <td>0.000000</td>\n",
       "      <td>1.000000</td>\n",
       "      <td>0.000000</td>\n",
       "      <td>0.000000</td>\n",
       "      <td>0.000000</td>\n",
       "      <td>...</td>\n",
       "      <td>0.000000</td>\n",
       "      <td>0.000000</td>\n",
       "      <td>0.000000</td>\n",
       "      <td>0.000000</td>\n",
       "      <td>0.000000</td>\n",
       "      <td>0.000000</td>\n",
       "      <td>0.000000</td>\n",
       "      <td>0.0</td>\n",
       "      <td>0.000000</td>\n",
       "      <td>0.900000</td>\n",
       "    </tr>\n",
       "    <tr>\n",
       "      <th>50%</th>\n",
       "      <td>41.000000</td>\n",
       "      <td>4.000000</td>\n",
       "      <td>46.000000</td>\n",
       "      <td>2379.310345</td>\n",
       "      <td>25.000000</td>\n",
       "      <td>144.000000</td>\n",
       "      <td>1.000000</td>\n",
       "      <td>0.000000</td>\n",
       "      <td>0.000000</td>\n",
       "      <td>0.000000</td>\n",
       "      <td>...</td>\n",
       "      <td>0.000000</td>\n",
       "      <td>0.000000</td>\n",
       "      <td>0.000000</td>\n",
       "      <td>0.000000</td>\n",
       "      <td>0.000000</td>\n",
       "      <td>0.000000</td>\n",
       "      <td>0.000000</td>\n",
       "      <td>0.0</td>\n",
       "      <td>0.000000</td>\n",
       "      <td>0.904762</td>\n",
       "    </tr>\n",
       "    <tr>\n",
       "      <th>75%</th>\n",
       "      <td>50.000000</td>\n",
       "      <td>6.279070</td>\n",
       "      <td>56.000000</td>\n",
       "      <td>2836.784314</td>\n",
       "      <td>34.000000</td>\n",
       "      <td>275.000000</td>\n",
       "      <td>1.000000</td>\n",
       "      <td>0.000000</td>\n",
       "      <td>0.000000</td>\n",
       "      <td>0.000000</td>\n",
       "      <td>...</td>\n",
       "      <td>0.000000</td>\n",
       "      <td>0.000000</td>\n",
       "      <td>0.000000</td>\n",
       "      <td>0.000000</td>\n",
       "      <td>0.000000</td>\n",
       "      <td>0.000000</td>\n",
       "      <td>0.000000</td>\n",
       "      <td>0.0</td>\n",
       "      <td>0.000000</td>\n",
       "      <td>0.916667</td>\n",
       "    </tr>\n",
       "    <tr>\n",
       "      <th>max</th>\n",
       "      <td>678.571429</td>\n",
       "      <td>430.000000</td>\n",
       "      <td>750.000000</td>\n",
       "      <td>6666.666667</td>\n",
       "      <td>250.000000</td>\n",
       "      <td>90000.000000</td>\n",
       "      <td>1.000000</td>\n",
       "      <td>1.000000</td>\n",
       "      <td>1.000000</td>\n",
       "      <td>1.000000</td>\n",
       "      <td>...</td>\n",
       "      <td>1.000000</td>\n",
       "      <td>1.000000</td>\n",
       "      <td>1.000000</td>\n",
       "      <td>1.000000</td>\n",
       "      <td>1.000000</td>\n",
       "      <td>1.000000</td>\n",
       "      <td>1.000000</td>\n",
       "      <td>0.0</td>\n",
       "      <td>1.000000</td>\n",
       "      <td>1.000000</td>\n",
       "    </tr>\n",
       "  </tbody>\n",
       "</table>\n",
       "<p>8 rows × 57 columns</p>\n",
       "</div>"
      ],
      "text/plain": [
       "           sup_cub   sup_descub    sup_total  price_usd_per_m2  sup_por_room  \\\n",
       "count  3501.000000  3501.000000  3501.000000       3501.000000   3135.000000   \n",
       "mean     53.215268     8.806872    62.022140       2403.691028     28.063183   \n",
       "std      52.020274    24.831071    67.924962        748.715552     15.451424   \n",
       "min       9.000000     0.000000    10.000000         62.065932      3.333333   \n",
       "25%      34.000000     0.000000    37.000000       1953.125000     20.000000   \n",
       "50%      41.000000     4.000000    46.000000       2379.310345     25.000000   \n",
       "75%      50.000000     6.279070    56.000000       2836.784314     34.000000   \n",
       "max     678.571429   430.000000   750.000000       6666.666667    250.000000   \n",
       "\n",
       "           cub_desc  tipo_propiedad_apartment  tipo_propiedad_house  \\\n",
       "count   2950.000000               3501.000000           3501.000000   \n",
       "mean    1107.799393                  0.854042              0.068837   \n",
       "std     5506.428527                  0.353115              0.253214   \n",
       "min        0.000000                  0.000000              0.000000   \n",
       "25%        0.000000                  1.000000              0.000000   \n",
       "50%      144.000000                  1.000000              0.000000   \n",
       "75%      275.000000                  1.000000              0.000000   \n",
       "max    90000.000000                  1.000000              1.000000   \n",
       "\n",
       "       tipo_propiedad_store  Barrio_Almagro  ...  Barrio_Villa Lugano  \\\n",
       "count           3501.000000     3501.000000  ...          3501.000000   \n",
       "mean               0.006284        0.039703  ...             0.005713   \n",
       "std                0.079033        0.195288  ...             0.075377   \n",
       "min                0.000000        0.000000  ...             0.000000   \n",
       "25%                0.000000        0.000000  ...             0.000000   \n",
       "50%                0.000000        0.000000  ...             0.000000   \n",
       "75%                0.000000        0.000000  ...             0.000000   \n",
       "max                1.000000        1.000000  ...             1.000000   \n",
       "\n",
       "       Barrio_Villa Luro  Barrio_Villa Ortuzar  Barrio_Villa Pueyrredon  \\\n",
       "count        3501.000000           3501.000000              3501.000000   \n",
       "mean            0.019709              0.005141                 0.007998   \n",
       "std             0.139017              0.071529                 0.089084   \n",
       "min             0.000000              0.000000                 0.000000   \n",
       "25%             0.000000              0.000000                 0.000000   \n",
       "50%             0.000000              0.000000                 0.000000   \n",
       "75%             0.000000              0.000000                 0.000000   \n",
       "max             1.000000              1.000000                 1.000000   \n",
       "\n",
       "       Barrio_Villa Real  Barrio_Villa Riachuelo  Barrio_Villa Santa Rita  \\\n",
       "count        3501.000000             3501.000000              3501.000000   \n",
       "mean            0.001714                0.000571                 0.001428   \n",
       "std             0.041368                0.023898                 0.037769   \n",
       "min             0.000000                0.000000                 0.000000   \n",
       "25%             0.000000                0.000000                 0.000000   \n",
       "50%             0.000000                0.000000                 0.000000   \n",
       "75%             0.000000                0.000000                 0.000000   \n",
       "max             1.000000                1.000000                 1.000000   \n",
       "\n",
       "       Barrio_Villa Soldati  Barrio_Villa Urquiza  const_index  \n",
       "count                3501.0           3501.000000  3499.000000  \n",
       "mean                    0.0              0.072265     0.909303  \n",
       "std                     0.0              0.258963     0.036441  \n",
       "min                     0.0              0.000000     0.693182  \n",
       "25%                     0.0              0.000000     0.900000  \n",
       "50%                     0.0              0.000000     0.904762  \n",
       "75%                     0.0              0.000000     0.916667  \n",
       "max                     0.0              1.000000     1.000000  \n",
       "\n",
       "[8 rows x 57 columns]"
      ]
     },
     "execution_count": 39,
     "metadata": {},
     "output_type": "execute_result"
    }
   ],
   "source": [
    "data_test.iloc[:,13:].describe()"
   ]
  },
  {
   "cell_type": "code",
   "execution_count": 40,
   "metadata": {},
   "outputs": [],
   "source": [
    "data_train['cub_desc'] = data_train['sup_cub']*data_train['sup_descub']\n",
    "data_train['sup_por_room'] = data_train['sup_cub']/data_train['rooms']"
   ]
  },
  {
   "cell_type": "code",
   "execution_count": 41,
   "metadata": {
    "scrolled": true
   },
   "outputs": [
    {
     "data": {
      "text/plain": [
       "sup_cub         0\n",
       "sup_total       0\n",
       "sup_descub      0\n",
       "cub_desc        0\n",
       "sup_por_room    0\n",
       "dtype: int64"
      ]
     },
     "execution_count": 41,
     "metadata": {},
     "output_type": "execute_result"
    }
   ],
   "source": [
    "data_train[['sup_cub','sup_total','sup_descub','cub_desc','sup_por_room']].isna().sum()"
   ]
  },
  {
   "cell_type": "code",
   "execution_count": 42,
   "metadata": {},
   "outputs": [],
   "source": [
    "data_test['cub_desc'] = data_test['sup_cub']*data_test['sup_descub']\n",
    "data_test['sup_por_room'] = data_test['sup_cub']/data_test['rooms']"
   ]
  },
  {
   "cell_type": "code",
   "execution_count": 43,
   "metadata": {},
   "outputs": [
    {
     "data": {
      "text/plain": [
       "sup_cub         0\n",
       "sup_total       0\n",
       "sup_descub      0\n",
       "cub_desc        0\n",
       "sup_por_room    0\n",
       "dtype: int64"
      ]
     },
     "execution_count": 43,
     "metadata": {},
     "output_type": "execute_result"
    }
   ],
   "source": [
    "data_test[['sup_cub','sup_total','sup_descub','cub_desc','sup_por_room']].isna().sum()"
   ]
  },
  {
   "cell_type": "code",
   "execution_count": 44,
   "metadata": {
    "scrolled": true
   },
   "outputs": [
    {
     "name": "stdout",
     "output_type": "stream",
     "text": [
      "Para X_train queda: (8169, 70)\n",
      "Para X_test queda: (3501, 70)\n"
     ]
    }
   ],
   "source": [
    "print(\"Para X_train queda: {}\".format(data_train.shape))\n",
    "print(\"Para X_test queda: {}\".format(data_test.shape))"
   ]
  },
  {
   "cell_type": "code",
   "execution_count": 45,
   "metadata": {},
   "outputs": [
    {
     "name": "stdout",
     "output_type": "stream",
     "text": [
      "<class 'pandas.core.frame.DataFrame'>\n",
      "Int64Index: 8169 entries, 4261 to 4802\n",
      "Data columns (total 70 columns):\n",
      "tipo_propiedad              8169 non-null object\n",
      "Barrio                      8169 non-null object\n",
      "cochera                     8169 non-null float64\n",
      "gimnasio                    8169 non-null float64\n",
      "piscina                     8169 non-null float64\n",
      "SUM                         8169 non-null float64\n",
      "laundry                     8169 non-null float64\n",
      "balcon                      8169 non-null float64\n",
      "patio                       8169 non-null float64\n",
      "parrilla                    8169 non-null float64\n",
      "floor                       8169 non-null float64\n",
      "rooms                       8169 non-null float64\n",
      "price_usd                   8169 non-null float64\n",
      "sup_cub                     8169 non-null float64\n",
      "sup_descub                  8169 non-null float64\n",
      "sup_total                   8169 non-null float64\n",
      "price_usd_per_m2            8169 non-null float64\n",
      "sup_por_room                8169 non-null float64\n",
      "cub_desc                    8169 non-null float64\n",
      "tipo_propiedad_apartment    8169 non-null float64\n",
      "tipo_propiedad_house        8169 non-null float64\n",
      "tipo_propiedad_store        8169 non-null float64\n",
      "Barrio_Almagro              8169 non-null float64\n",
      "Barrio_Balvanera            8169 non-null float64\n",
      "Barrio_Barracas             8169 non-null float64\n",
      "Barrio_Belgrano             8169 non-null float64\n",
      "Barrio_Boca                 8169 non-null float64\n",
      "Barrio_Boedo                8169 non-null float64\n",
      "Barrio_Caballito            8169 non-null float64\n",
      "Barrio_Chacarita            8169 non-null float64\n",
      "Barrio_Coghlan              8169 non-null float64\n",
      "Barrio_Colegiales           8169 non-null float64\n",
      "Barrio_Constitucion         8169 non-null float64\n",
      "Barrio_Flores               8169 non-null float64\n",
      "Barrio_Floresta             8169 non-null float64\n",
      "Barrio_Liniers              8169 non-null float64\n",
      "Barrio_Mataderos            8169 non-null float64\n",
      "Barrio_Monserrat            8169 non-null float64\n",
      "Barrio_Monte Castro         8169 non-null float64\n",
      "Barrio_Nueva Pompeya        8169 non-null float64\n",
      "Barrio_Nuñez                8169 non-null float64\n",
      "Barrio_Palermo              8169 non-null float64\n",
      "Barrio_Parque Avellaneda    8169 non-null float64\n",
      "Barrio_Parque Chacabuco     8169 non-null float64\n",
      "Barrio_Parque Chas          8169 non-null float64\n",
      "Barrio_Parque Patricios     8169 non-null float64\n",
      "Barrio_Paternal             8169 non-null float64\n",
      "Barrio_Puerto Madero        8169 non-null float64\n",
      "Barrio_Recoleta             8169 non-null float64\n",
      "Barrio_Retiro               8169 non-null float64\n",
      "Barrio_Saavedra             8169 non-null float64\n",
      "Barrio_San Cristobal        8169 non-null float64\n",
      "Barrio_San Nicolas          8169 non-null float64\n",
      "Barrio_San Telmo            8169 non-null float64\n",
      "Barrio_Velez Sarsfield      8169 non-null float64\n",
      "Barrio_Versalles            8169 non-null float64\n",
      "Barrio_Villa Crespo         8169 non-null float64\n",
      "Barrio_Villa Del Parque     8169 non-null float64\n",
      "Barrio_Villa Devoto         8169 non-null float64\n",
      "Barrio_Villa Gral. Mitre    8169 non-null float64\n",
      "Barrio_Villa Lugano         8169 non-null float64\n",
      "Barrio_Villa Luro           8169 non-null float64\n",
      "Barrio_Villa Ortuzar        8169 non-null float64\n",
      "Barrio_Villa Pueyrredon     8169 non-null float64\n",
      "Barrio_Villa Real           8169 non-null float64\n",
      "Barrio_Villa Riachuelo      8169 non-null float64\n",
      "Barrio_Villa Santa Rita     8169 non-null float64\n",
      "Barrio_Villa Soldati        8169 non-null float64\n",
      "Barrio_Villa Urquiza        8169 non-null float64\n",
      "const_index                 8169 non-null float64\n",
      "dtypes: float64(68), object(2)\n",
      "memory usage: 4.4+ MB\n"
     ]
    }
   ],
   "source": [
    "data_train.info()"
   ]
  },
  {
   "cell_type": "code",
   "execution_count": 46,
   "metadata": {},
   "outputs": [
    {
     "data": {
      "text/plain": [
       "tipo_propiedad      0\n",
       "Barrio              0\n",
       "cochera             0\n",
       "gimnasio            0\n",
       "piscina             0\n",
       "SUM                 0\n",
       "laundry             0\n",
       "balcon              0\n",
       "patio               0\n",
       "parrilla            0\n",
       "floor               0\n",
       "rooms               0\n",
       "price_usd           0\n",
       "sup_cub             0\n",
       "sup_descub          0\n",
       "sup_total           0\n",
       "price_usd_per_m2    0\n",
       "dtype: int64"
      ]
     },
     "execution_count": 46,
     "metadata": {},
     "output_type": "execute_result"
    }
   ],
   "source": [
    "data_test[['tipo_propiedad','Barrio', 'cochera', 'gimnasio', 'piscina', 'SUM', 'laundry',\n",
    "       'balcon', 'patio', 'parrilla', 'floor', 'rooms','price_usd', 'sup_cub',\n",
    "       'sup_descub', 'sup_total', 'price_usd_per_m2']].isna().sum()"
   ]
  },
  {
   "cell_type": "markdown",
   "metadata": {},
   "source": [
    "# 6. Modelo de Regresión Lineal"
   ]
  },
  {
   "cell_type": "code",
   "execution_count": 47,
   "metadata": {},
   "outputs": [
    {
     "name": "stdout",
     "output_type": "stream",
     "text": [
      "Columnas train: Index(['tipo_propiedad', 'Barrio', 'cochera', 'gimnasio', 'piscina', 'SUM',\n",
      "       'laundry', 'balcon', 'patio', 'parrilla', 'floor', 'rooms', 'price_usd',\n",
      "       'sup_cub', 'sup_descub', 'sup_total', 'price_usd_per_m2',\n",
      "       'sup_por_room', 'cub_desc', 'tipo_propiedad_apartment',\n",
      "       'tipo_propiedad_house', 'tipo_propiedad_store', 'Barrio_Almagro',\n",
      "       'Barrio_Balvanera', 'Barrio_Barracas', 'Barrio_Belgrano', 'Barrio_Boca',\n",
      "       'Barrio_Boedo', 'Barrio_Caballito', 'Barrio_Chacarita',\n",
      "       'Barrio_Coghlan', 'Barrio_Colegiales', 'Barrio_Constitucion',\n",
      "       'Barrio_Flores', 'Barrio_Floresta', 'Barrio_Liniers',\n",
      "       'Barrio_Mataderos', 'Barrio_Monserrat', 'Barrio_Monte Castro',\n",
      "       'Barrio_Nueva Pompeya', 'Barrio_Nuñez', 'Barrio_Palermo',\n",
      "       'Barrio_Parque Avellaneda', 'Barrio_Parque Chacabuco',\n",
      "       'Barrio_Parque Chas', 'Barrio_Parque Patricios', 'Barrio_Paternal',\n",
      "       'Barrio_Puerto Madero', 'Barrio_Recoleta', 'Barrio_Retiro',\n",
      "       'Barrio_Saavedra', 'Barrio_San Cristobal', 'Barrio_San Nicolas',\n",
      "       'Barrio_San Telmo', 'Barrio_Velez Sarsfield', 'Barrio_Versalles',\n",
      "       'Barrio_Villa Crespo', 'Barrio_Villa Del Parque', 'Barrio_Villa Devoto',\n",
      "       'Barrio_Villa Gral. Mitre', 'Barrio_Villa Lugano', 'Barrio_Villa Luro',\n",
      "       'Barrio_Villa Ortuzar', 'Barrio_Villa Pueyrredon', 'Barrio_Villa Real',\n",
      "       'Barrio_Villa Riachuelo', 'Barrio_Villa Santa Rita',\n",
      "       'Barrio_Villa Soldati', 'Barrio_Villa Urquiza', 'const_index'],\n",
      "      dtype='object')\n"
     ]
    }
   ],
   "source": [
    "print(\"Columnas train: {}\".format(data_train.columns))"
   ]
  },
  {
   "cell_type": "markdown",
   "metadata": {},
   "source": [
    "## 6.1 Generación de X e y"
   ]
  },
  {
   "cell_type": "code",
   "execution_count": 48,
   "metadata": {},
   "outputs": [],
   "source": [
    "x_columns_drop = ['tipo_propiedad','Barrio','const_index','price_usd','price_usd_per_m2','sup_total']\n",
    "y_column = 'price_usd_per_m2'\n",
    "\n",
    "X_train = data_train.drop(columns=x_columns_drop)\n",
    "y_train = data_train[y_column]\n",
    "X_test = data_test.drop(columns=x_columns_drop)\n",
    "y_test = data_test[y_column]\n",
    "\n"
   ]
  },
  {
   "cell_type": "code",
   "execution_count": 49,
   "metadata": {},
   "outputs": [],
   "source": [
    "def print_metrics(y_real,y_pred):\n",
    "    print('MAE:', round(mean_absolute_error(y_real, y_pred),6))\n",
    "    print('MSE:', round(mean_squared_error(y_real, y_pred),6))\n",
    "    print('RMSE:', round(np.sqrt(mean_squared_error(y_real, y_pred)),6))\n",
    "    print('R2:', round(r2_score(y_real, y_pred),4))"
   ]
  },
  {
   "cell_type": "code",
   "execution_count": 50,
   "metadata": {
    "scrolled": true
   },
   "outputs": [
    {
     "name": "stdout",
     "output_type": "stream",
     "text": [
      "Para el train set:\n",
      "MAE: 374.494858\n",
      "MSE: 252288.180312\n",
      "RMSE: 502.282968\n",
      "R2: 0.555\n",
      "------------------------------\n",
      "Para el test set:\n",
      "MAE: 381.942859\n",
      "MSE: 259779.29094\n",
      "RMSE: 509.685482\n",
      "R2: 0.5365\n",
      "------------------------------\n"
     ]
    }
   ],
   "source": [
    "from sklearn.linear_model import LinearRegression, Lasso, LassoCV, Ridge, RidgeCV\n",
    "from sklearn.metrics import mean_squared_error, r2_score, mean_absolute_error\n",
    "from sklearn.model_selection import train_test_split, KFold, cross_val_score\n",
    "\n",
    "lm = LinearRegression()\n",
    "\n",
    "model_linreg = lm.fit(X_train, y_train)\n",
    "\n",
    "#Predicciones del modelo para el set de entrenamiento\n",
    "y_pred_tr_lm = model_linreg.predict(X_train)\n",
    "#Predicciones del modelo para el set de testeo\n",
    "y_pred_ts_lm = model_linreg.predict(X_test)\n",
    "\n",
    "#Métricas del modelo para el set de entrenamiento\n",
    "print(\"Para el train set:\")\n",
    "print_metrics(y_train,y_pred_tr_lm)\n",
    "print(\"------------------------------\")\n",
    "\n",
    "#Métricas del modelo para el set de testeo\n",
    "print(\"Para el test set:\")\n",
    "print_metrics(y_test,y_pred_ts_lm)\n",
    "print(\"------------------------------\")"
   ]
  },
  {
   "cell_type": "code",
   "execution_count": 51,
   "metadata": {},
   "outputs": [
    {
     "name": "stdout",
     "output_type": "stream",
     "text": [
      "[0.527062   0.53715648 0.552603   0.5831261  0.53569341]\n"
     ]
    }
   ],
   "source": [
    "print(cross_val_score(model_linreg, X_train, y_train, cv=5))  "
   ]
  },
  {
   "cell_type": "markdown",
   "metadata": {},
   "source": [
    "## 6.2 Misma regresión lineal con estandarización"
   ]
  },
  {
   "cell_type": "code",
   "execution_count": 52,
   "metadata": {},
   "outputs": [],
   "source": [
    "from sklearn.preprocessing import StandardScaler\n",
    "\n",
    "stdscalerX = StandardScaler()\n",
    "\n",
    "X_train = data_train.drop(columns=x_columns_drop)\n",
    "y_train = data_train[y_column]\n",
    "X_test = data_test.drop(columns=x_columns_drop)\n",
    "y_test = data_test[y_column]\n",
    "\n",
    "Xs_train = stdscalerX.fit_transform(X_train)\n",
    "ys_train = y_train\n",
    "\n",
    "Xs_test = stdscalerX.transform(X_test)\n",
    "ys_test = y_test"
   ]
  },
  {
   "cell_type": "code",
   "execution_count": 53,
   "metadata": {
    "scrolled": false
   },
   "outputs": [
    {
     "name": "stdout",
     "output_type": "stream",
     "text": [
      "Para el train set:\n",
      "MAE: 374.494858\n",
      "MSE: 252288.180312\n",
      "RMSE: 502.282968\n",
      "R2: 0.555\n",
      "------------------------------\n",
      "Para el test set:\n",
      "MAE: 381.942859\n",
      "MSE: 259779.29094\n",
      "RMSE: 509.685482\n",
      "R2: 0.5365\n",
      "------------------------------\n"
     ]
    }
   ],
   "source": [
    "#lmreg = linear_model.LinearRegression()\n",
    "model_linreg_std = lm.fit(Xs_train,ys_train)\n",
    "\n",
    "#Predicciones del modelo para el set de entrenamiento\n",
    "y_pred_tr_lm = model_linreg_std.predict(Xs_train)\n",
    "#Predicciones del modelo para el set de testeo\n",
    "y_pred_ts_lm = model_linreg_std.predict(Xs_test)\n",
    "\n",
    "#Métricas del modelo para el set de entrenamiento\n",
    "print(\"Para el train set:\")\n",
    "print_metrics(ys_train,y_pred_tr_lm)\n",
    "print(\"------------------------------\")\n",
    "\n",
    "#Métricas del modelo para el set de testeo\n",
    "print(\"Para el test set:\")\n",
    "print_metrics(ys_test,y_pred_ts_lm)\n",
    "print(\"------------------------------\")"
   ]
  },
  {
   "cell_type": "markdown",
   "metadata": {},
   "source": [
    "## 6.3 Misma Regresión Lineal con Normalización Min-Max"
   ]
  },
  {
   "cell_type": "code",
   "execution_count": 54,
   "metadata": {},
   "outputs": [],
   "source": [
    "from sklearn.preprocessing import MinMaxScaler\n",
    "\n",
    "minmaxscalerX = MinMaxScaler()\n",
    "X_train = data_train.drop(columns=x_columns_drop)\n",
    "y_train = data_train[y_column]\n",
    "X_test = data_test.drop(columns=x_columns_drop)\n",
    "y_test = data_test[y_column]\n",
    "\n",
    "Xn_train = minmaxscalerX.fit_transform(X_train)\n",
    "yn_train = y_train\n",
    "\n",
    "Xn_test = minmaxscalerX.transform(X_test)\n",
    "yn_test = y_test"
   ]
  },
  {
   "cell_type": "code",
   "execution_count": 55,
   "metadata": {},
   "outputs": [
    {
     "name": "stdout",
     "output_type": "stream",
     "text": [
      "Para el train set:\n",
      "MAE: 374.494858\n",
      "MSE: 252288.180312\n",
      "RMSE: 502.282968\n",
      "R2: 0.555\n",
      "------------------------------\n",
      "Para el test set:\n",
      "MAE: 381.942859\n",
      "MSE: 259779.29094\n",
      "RMSE: 509.685482\n",
      "R2: 0.5365\n",
      "------------------------------\n"
     ]
    }
   ],
   "source": [
    "#lmreg = linear_model.LinearRegression()\n",
    "model_linreg_n = lm.fit(Xn_train,yn_train)\n",
    "\n",
    "#Predicciones del modelo para el set de entrenamiento\n",
    "y_pred_tr_lm = model_linreg_n.predict(Xn_train)\n",
    "#Predicciones del modelo para el set de testeo\n",
    "y_pred_ts_lm = model_linreg_n.predict(Xn_test)\n",
    "\n",
    "#Métricas del modelo para el set de entrenamiento\n",
    "print(\"Para el train set:\")\n",
    "print_metrics(yn_train,y_pred_tr_lm)\n",
    "print(\"------------------------------\")\n",
    "\n",
    "#Métricas del modelo para el set de testeo\n",
    "print(\"Para el test set:\")\n",
    "print_metrics(yn_test,y_pred_ts_lm)\n",
    "print(\"------------------------------\")"
   ]
  },
  {
   "cell_type": "markdown",
   "metadata": {},
   "source": [
    "**Conclusión**: Con la Regresión Lineal Simple no hay diferencia apreciable al normalizar."
   ]
  },
  {
   "cell_type": "markdown",
   "metadata": {},
   "source": [
    "# 7. Modelo más complejo: Polinomios de orden superior"
   ]
  },
  {
   "cell_type": "markdown",
   "metadata": {},
   "source": [
    "## Función que crea polinomiales"
   ]
  },
  {
   "cell_type": "code",
   "execution_count": 56,
   "metadata": {},
   "outputs": [],
   "source": [
    "from sklearn.preprocessing import PolynomialFeatures\n",
    "\n",
    "def get_poly_X(poly_vars,y_var,df_train,df_test,degree=2):\n",
    "    X_train = df_train[poly_vars]\n",
    "    y_train = df_train[y_var]\n",
    "    X_test = df_test[poly_vars]\n",
    "    y_test = df_test[y_var]\n",
    "    \n",
    "    X_train_pol = PolynomialFeatures(degree,include_bias=False,interaction_only=False).fit_transform(X_train)\n",
    "    X_test_pol = PolynomialFeatures(degree,include_bias=False,interaction_only=False).fit_transform(X_test)\n",
    "    \n",
    "    X_train_pol = np.concatenate((X_train_pol,df_train.drop(columns=poly_vars+y_var).values),axis=1)\n",
    "    X_test_pol = np.concatenate((X_test_pol,df_test.drop(columns=poly_vars+y_var).values),axis=1)\n",
    "    \n",
    "    return X_train_pol,X_test_pol"
   ]
  },
  {
   "cell_type": "markdown",
   "metadata": {},
   "source": [
    "## 7.1 Creación de features polinomiales de grado 2"
   ]
  },
  {
   "cell_type": "code",
   "execution_count": 57,
   "metadata": {},
   "outputs": [
    {
     "data": {
      "text/plain": [
       "Index(['tipo_propiedad', 'Barrio', 'cochera', 'gimnasio', 'piscina', 'SUM',\n",
       "       'laundry', 'balcon', 'patio', 'parrilla', 'floor', 'rooms', 'price_usd',\n",
       "       'sup_cub', 'sup_descub', 'sup_total', 'price_usd_per_m2',\n",
       "       'sup_por_room', 'cub_desc', 'tipo_propiedad_apartment',\n",
       "       'tipo_propiedad_house', 'tipo_propiedad_store', 'Barrio_Almagro',\n",
       "       'Barrio_Balvanera', 'Barrio_Barracas', 'Barrio_Belgrano', 'Barrio_Boca',\n",
       "       'Barrio_Boedo', 'Barrio_Caballito', 'Barrio_Chacarita',\n",
       "       'Barrio_Coghlan', 'Barrio_Colegiales', 'Barrio_Constitucion',\n",
       "       'Barrio_Flores', 'Barrio_Floresta', 'Barrio_Liniers',\n",
       "       'Barrio_Mataderos', 'Barrio_Monserrat', 'Barrio_Monte Castro',\n",
       "       'Barrio_Nueva Pompeya', 'Barrio_Nuñez', 'Barrio_Palermo',\n",
       "       'Barrio_Parque Avellaneda', 'Barrio_Parque Chacabuco',\n",
       "       'Barrio_Parque Chas', 'Barrio_Parque Patricios', 'Barrio_Paternal',\n",
       "       'Barrio_Puerto Madero', 'Barrio_Recoleta', 'Barrio_Retiro',\n",
       "       'Barrio_Saavedra', 'Barrio_San Cristobal', 'Barrio_San Nicolas',\n",
       "       'Barrio_San Telmo', 'Barrio_Velez Sarsfield', 'Barrio_Versalles',\n",
       "       'Barrio_Villa Crespo', 'Barrio_Villa Del Parque', 'Barrio_Villa Devoto',\n",
       "       'Barrio_Villa Gral. Mitre', 'Barrio_Villa Lugano', 'Barrio_Villa Luro',\n",
       "       'Barrio_Villa Ortuzar', 'Barrio_Villa Pueyrredon', 'Barrio_Villa Real',\n",
       "       'Barrio_Villa Riachuelo', 'Barrio_Villa Santa Rita',\n",
       "       'Barrio_Villa Soldati', 'Barrio_Villa Urquiza', 'const_index'],\n",
       "      dtype='object')"
      ]
     },
     "execution_count": 57,
     "metadata": {},
     "output_type": "execute_result"
    }
   ],
   "source": [
    "data_train.columns"
   ]
  },
  {
   "cell_type": "code",
   "execution_count": 58,
   "metadata": {},
   "outputs": [],
   "source": [
    "poly_vars = ['floor','rooms','sup_cub','sup_descub','sup_por_room']\n",
    "y_column = ['price_usd_per_m2']\n",
    "poly_drop = ['tipo_propiedad', 'Barrio','price_usd','sup_total','const_index','cub_desc']\n",
    "data_train2 = data_train.drop(columns=poly_drop).copy()\n",
    "data_test2 = data_test.drop(columns=poly_drop).copy()\n",
    "\n",
    "X_train_pol2,X_test_pol2 = get_poly_X(poly_vars = poly_vars, y_var = y_column, df_train = data_train2, df_test = data_test2,degree=2)\n",
    "y_train = data_train2[y_column[0]]\n",
    "y_test = data_test2[y_column[0]]"
   ]
  },
  {
   "cell_type": "code",
   "execution_count": 59,
   "metadata": {},
   "outputs": [
    {
     "name": "stdout",
     "output_type": "stream",
     "text": [
      "Para el train set:\n",
      "MAE: 366.35111\n",
      "MSE: 244556.659474\n",
      "RMSE: 494.526702\n",
      "R2: 0.5686\n",
      "------------------------------\n",
      "Para el test set:\n",
      "MAE: 374.938814\n",
      "MSE: 254308.88129\n",
      "RMSE: 504.290473\n",
      "R2: 0.5462\n",
      "------------------------------\n"
     ]
    }
   ],
   "source": [
    "#lmreg = linear_model.LinearRegression()\n",
    "model_linreg_pol = lm.fit(X_train_pol2,y_train)\n",
    "\n",
    "#Predicciones del modelo para el set de entrenamiento\n",
    "y_pred_tr_lm = model_linreg_pol.predict(X_train_pol2)\n",
    "#Predicciones del modelo para el set de testeo\n",
    "y_pred_ts_lm = model_linreg_pol.predict(X_test_pol2)\n",
    "\n",
    "#Métricas del modelo para el set de entrenamiento\n",
    "print(\"Para el train set:\")\n",
    "print_metrics(y_train,y_pred_tr_lm)\n",
    "print(\"------------------------------\")\n",
    "\n",
    "#Métricas del modelo para el set de testeo\n",
    "print(\"Para el test set:\")\n",
    "print_metrics(y_test,y_pred_ts_lm)\n",
    "print(\"------------------------------\")"
   ]
  },
  {
   "cell_type": "markdown",
   "metadata": {},
   "source": [
    "## 7.2 Creación de features polinomiales grado 3"
   ]
  },
  {
   "cell_type": "code",
   "execution_count": 60,
   "metadata": {},
   "outputs": [],
   "source": [
    "poly_vars = ['floor','rooms','sup_cub','sup_descub','sup_por_room']\n",
    "y_column = ['price_usd_per_m2']\n",
    "poly_drop = ['tipo_propiedad', 'Barrio','price_usd','sup_total','const_index','cub_desc']\n",
    "data_train3 = data_train.drop(columns=poly_drop).copy()\n",
    "data_test3 = data_test.drop(columns=poly_drop).copy()\n",
    "\n",
    "X_train_pol3,X_test_pol3 = get_poly_X(poly_vars = poly_vars, y_var = y_column, df_train = data_train3, df_test = data_test3,degree=3)\n",
    "y_train = data_train2[y_column[0]]\n",
    "y_test = data_test2[y_column[0]]"
   ]
  },
  {
   "cell_type": "code",
   "execution_count": 61,
   "metadata": {},
   "outputs": [
    {
     "name": "stdout",
     "output_type": "stream",
     "text": [
      "Para el train set:\n",
      "MAE: 361.050535\n",
      "MSE: 239693.805481\n",
      "RMSE: 489.58534\n",
      "R2: 0.5772\n",
      "------------------------------\n",
      "Para el test set:\n",
      "MAE: 370.167454\n",
      "MSE: 250371.449869\n",
      "RMSE: 500.371312\n",
      "R2: 0.5532\n",
      "------------------------------\n"
     ]
    }
   ],
   "source": [
    "#lmreg = linear_model.LinearRegression()\n",
    "model_linreg_pol = lm.fit(X_train_pol3,y_train)\n",
    "\n",
    "#Predicciones del modelo para el set de entrenamiento\n",
    "y_pred_tr_lm = model_linreg_pol.predict(X_train_pol3)\n",
    "#Predicciones del modelo para el set de testeo\n",
    "y_pred_ts_lm = model_linreg_pol.predict(X_test_pol3)\n",
    "\n",
    "#Métricas del modelo para el set de entrenamiento\n",
    "print(\"Para el train set:\")\n",
    "print_metrics(y_train,y_pred_tr_lm)\n",
    "print(\"------------------------------\")\n",
    "\n",
    "#Métricas del modelo para el set de testeo\n",
    "print(\"Para el test set:\")\n",
    "print_metrics(y_test,y_pred_ts_lm)\n",
    "print(\"------------------------------\")"
   ]
  },
  {
   "cell_type": "markdown",
   "metadata": {},
   "source": [
    "# 8. Regularización\n",
    "\n",
    "Se agrega regularización al modelo de regresión lineal. Se utilizan los modelos de Regresión Lineal Ridge y Lasso. Se comparan los resultados."
   ]
  },
  {
   "cell_type": "code",
   "execution_count": 62,
   "metadata": {},
   "outputs": [],
   "source": [
    "# Generamos un grid de $\\alpha$ para probar e instanciamos un particionador del Training Set \n",
    "# en K partes para realizar la validación cruzada\n",
    "\n",
    "al_ridge = np.linspace(0.01, 0.3, 100)\n",
    "al_lasso = np.linspace(0.1, 5, 100)\n",
    "kf = KFold(n_splits=5, shuffle=True, random_state=12)\n",
    "\n",
    "#al_ridge = (0.01,0.1,1)\n",
    "#al_lasso = (1,10,100)\n",
    "\n",
    "# Instanciamos los modelos\n",
    "\n",
    "lm = LinearRegression()\n",
    "lm_ridge_cv= RidgeCV(alphas=al_ridge, cv=kf, normalize=False)\n",
    "lm_lasso_cv = LassoCV(alphas=al_lasso, cv=kf, normalize=False)"
   ]
  },
  {
   "cell_type": "markdown",
   "metadata": {},
   "source": [
    "## 8.1 Modelos de Regresión Lineal, Ridge y Lasso con features de orden 1"
   ]
  },
  {
   "cell_type": "code",
   "execution_count": 63,
   "metadata": {
    "scrolled": true
   },
   "outputs": [],
   "source": [
    "X_train = data_train.drop(columns=x_columns_drop)\n",
    "y_train = data_train[y_column]\n",
    "X_test = data_test.drop(columns=x_columns_drop)\n",
    "y_test = data_test[y_column]\n",
    "\n",
    "Xs_train = stdscalerX.fit_transform(X_train)\n",
    "ys_train = y_train\n",
    "\n",
    "Xs_test = stdscalerX.transform(X_test)\n",
    "ys_test = y_test"
   ]
  },
  {
   "cell_type": "code",
   "execution_count": 64,
   "metadata": {},
   "outputs": [],
   "source": [
    "model_linreg = lm.fit(Xs_train, ys_train)"
   ]
  },
  {
   "cell_type": "code",
   "execution_count": 65,
   "metadata": {},
   "outputs": [],
   "source": [
    "model_lin_ridge = lm_ridge_cv.fit(Xs_train, np.ravel(ys_train))"
   ]
  },
  {
   "cell_type": "code",
   "execution_count": 66,
   "metadata": {},
   "outputs": [],
   "source": [
    "model_lin_lasso = lm_lasso_cv.fit(Xs_train, np.ravel(ys_train))"
   ]
  },
  {
   "cell_type": "code",
   "execution_count": 67,
   "metadata": {
    "scrolled": true
   },
   "outputs": [
    {
     "name": "stdout",
     "output_type": "stream",
     "text": [
      "Alpha Ridge: 0.09787878787878787 \n",
      "Alpha LASSO: 0.9414141414141415 \n",
      "\n"
     ]
    }
   ],
   "source": [
    "print('Alpha Ridge:',model_lin_ridge.alpha_,'\\n'\n",
    "      'Alpha LASSO:',model_lin_lasso.alpha_,'\\n')"
   ]
  },
  {
   "cell_type": "code",
   "execution_count": 68,
   "metadata": {},
   "outputs": [
    {
     "name": "stdout",
     "output_type": "stream",
     "text": [
      " Score Train Lineal: 0.5550\n",
      " Score Train Ridge : 0.5550\n",
      " Score Train Lasso : 0.5548\n",
      "\n",
      " Train RMSE lineal   : 502.2830 \n",
      " Train RMSE Ridge    : 502.2830 \n",
      " Train RMSE Lasso    : 502.4105 \n",
      "\n"
     ]
    }
   ],
   "source": [
    "# Calculamos el R2\n",
    "\n",
    "print(\" Score Train Lineal: %.4f\\n\" % model_linreg.score(Xs_train, ys_train),\n",
    "      \"Score Train Ridge : %.4f\\n\" % model_lin_ridge.score(Xs_train, ys_train),\n",
    "      \"Score Train Lasso : %.4f\\n\" %  model_lin_lasso.score(Xs_train, ys_train))\n",
    "\n",
    "# Calculamos el RMSE\n",
    "\n",
    "ys_pred_tr_lm = model_linreg.predict(Xs_train)\n",
    "ys_pred_tr_ridge = model_lin_ridge.predict(Xs_train)\n",
    "ys_pred_tr_lasso = model_lin_lasso.predict(Xs_train)\n",
    "\n",
    "rmse = lambda y, y_pred: np.sqrt(mean_squared_error(y, y_pred))\n",
    "\n",
    "print(\" Train RMSE lineal   : %.4f \\n\" % rmse(ys_train,ys_pred_tr_lm),\n",
    "      \"Train RMSE Ridge    : %.4f \\n\" % rmse(ys_train,ys_pred_tr_ridge),\n",
    "      \"Train RMSE Lasso    : %.4f \\n\" % rmse(ys_train,ys_pred_tr_lasso))"
   ]
  },
  {
   "cell_type": "code",
   "execution_count": 69,
   "metadata": {},
   "outputs": [
    {
     "name": "stdout",
     "output_type": "stream",
     "text": [
      " Score Test Lineal: 0.5365\n",
      " Score Test Ridge : 0.5365\n",
      " Score Test Lasso : 0.5355\n",
      "\n",
      " Test RMSE lineal= 509.6855\n",
      " Test RMSE Ridge = 509.6860\n",
      " Test RMSE Lasso = 510.1978\n"
     ]
    }
   ],
   "source": [
    "# Hacemos las predicciones sobre la matriz de predictores del Test Set\n",
    "\n",
    "ys_pred_lm = model_linreg.predict(Xs_test)\n",
    "ys_pred_ridge = model_lin_ridge.predict(Xs_test)\n",
    "ys_pred_lasso = model_lin_lasso.predict(Xs_test)\n",
    "\n",
    "\n",
    "print(\" Score Test Lineal: %.4f\\n\" % model_linreg.score(Xs_test, ys_test),\n",
    "      \"Score Test Ridge : %.4f\\n\" % model_lin_ridge.score(Xs_test, ys_test),\n",
    "      \"Score Test Lasso : %.4f\\n\" %  model_lin_lasso.score(Xs_test, ys_test))\n",
    "\n",
    "# Testeo final del modelo sobre Test Set\n",
    "\n",
    "print(\" Test RMSE lineal= %.4f\\n\" % rmse(ys_test, ys_pred_lm),\n",
    "      \"Test RMSE Ridge = %.4f\\n\" %  rmse(ys_test, ys_pred_ridge),\n",
    "      \"Test RMSE Lasso = %.4f\" %  rmse(ys_test, ys_pred_lasso))"
   ]
  },
  {
   "cell_type": "code",
   "execution_count": 70,
   "metadata": {},
   "outputs": [],
   "source": [
    "r2_train_lin_d1 = model_linreg.score(Xs_train, ys_train)\n",
    "r2_test_lin_d1 = model_linreg.score(Xs_test, ys_test)\n",
    "\n",
    "r2_train_ridge_d1 = model_lin_ridge.score(Xs_train, ys_train)\n",
    "r2_test_ridge_d1 = model_lin_ridge.score(Xs_test, ys_test)\n",
    "\n",
    "r2_train_lasso_d1 = model_lin_lasso.score(Xs_train, ys_train)\n",
    "r2_test_lasso_d1 = model_lin_lasso.score(Xs_test, ys_test)"
   ]
  },
  {
   "cell_type": "markdown",
   "metadata": {
    "colab_type": "text",
    "id": "4qgm84CkjQT1"
   },
   "source": [
    "* ¿Cuáles son los parámetros de cada modelo?"
   ]
  },
  {
   "cell_type": "code",
   "execution_count": 71,
   "metadata": {},
   "outputs": [
    {
     "data": {
      "text/plain": [
       "(array([2406.497]),\n",
       " array([[  42.317,   52.034,  110.33 ,  -48.14 ,  -12.756,   43.985,\n",
       "          -24.459,   20.126,   32.269,   26.943, -111.053, -122.512,\n",
       "           -3.953,   45.346,   72.835,    4.77 ,   18.309,   79.432,\n",
       "           24.495,   -5.506,  250.393,  -26.774,  -16.301,  127.731,\n",
       "           26.979,   64.341,   78.363,  -10.162,   22.852,   -1.324,\n",
       "           10.528,  -11.602,   34.43 ,    9.315,   -6.184,  117.618,\n",
       "          318.003,  -13.131,    6.337,   11.69 ,   -5.01 ,   15.262,\n",
       "          262.56 ,  268.673,   42.975,   57.077,   -1.027,   48.283,\n",
       "           69.337,    4.555,    7.176,  131.967,   36.647,   43.071,\n",
       "           10.212,  -32.139,   28.026,   33.692,   25.281,    8.784,\n",
       "           -0.   ,   10.191,   -4.138,  104.447]]))"
      ]
     },
     "execution_count": 71,
     "metadata": {},
     "output_type": "execute_result"
    }
   ],
   "source": [
    "np.set_printoptions(precision=3, suppress=True)\n",
    "\n",
    "(model_linreg.intercept_, model_linreg.coef_)"
   ]
  },
  {
   "cell_type": "code",
   "execution_count": 72,
   "metadata": {
    "colab": {},
    "colab_type": "code",
    "id": "it4WyMaOjQT_",
    "outputId": "cd54197a-7550-4265-c8e6-658ca1387a7a"
   },
   "outputs": [
    {
     "data": {
      "text/plain": [
       "(2406.496980615513,\n",
       " array([  42.315,   52.035,  110.335,  -48.143,  -12.758,   43.981,\n",
       "         -24.46 ,   20.127,   32.272,   26.938, -111.052, -122.504,\n",
       "          -3.957,   45.321,   72.844,    4.775,   18.312,   76.424,\n",
       "          21.506,   -7.374,  246.507,  -27.931,  -18.594,  123.589,\n",
       "          25.627,   62.748,   76.662,  -11.731,   19.573,   -3.029,\n",
       "           8.7  ,  -13.175,   32.969,    8.512,   -6.665,  115.538,\n",
       "         313.334,  -13.733,    5.284,   11.181,   -6.578,   13.989,\n",
       "         261.355,  265.232,   42.037,   55.041,   -2.704,   46.295,\n",
       "          66.02 ,    3.912,    6.554,  128.578,   34.699,   41.329,\n",
       "           9.493,  -33.26 ,   26.059,   32.782,   23.93 ,    8.302,\n",
       "           0.   ,    9.529,   -4.366,  100.963]))"
      ]
     },
     "execution_count": 72,
     "metadata": {},
     "output_type": "execute_result"
    }
   ],
   "source": [
    "(model_lin_ridge.intercept_,model_lin_ridge.coef_)"
   ]
  },
  {
   "cell_type": "code",
   "execution_count": 73,
   "metadata": {
    "colab": {},
    "colab_type": "code",
    "id": "Pe26gXvljQUF",
    "outputId": "8826e595-15aa-4113-bbdb-68ba128115b0"
   },
   "outputs": [
    {
     "data": {
      "text/plain": [
       "(2406.496980615513,\n",
       " array([  41.632,   51.475,  108.982,  -45.294,  -11.659,   43.199,\n",
       "         -23.587,   18.13 ,   27.887,   20.736,  -98.684, -113.04 ,\n",
       "          -7.512,   33.971,   75.707,   -0.   ,   16.705,    9.013,\n",
       "         -43.291,  -47.517,  159.939,  -51.698,  -69.213,   31.845,\n",
       "          -3.03 ,   26.443,   38.026,  -44.965,  -51.808,  -39.919,\n",
       "         -30.609,  -46.772,    0.   ,   -8.212,  -16.232,   68.481,\n",
       "         208.349,  -26.015,  -17.078,   -0.   ,  -40.357,  -12.65 ,\n",
       "         234.548,  188.291,   20.434,    8.797,  -38.882,    2.386,\n",
       "          -4.68 ,   -9.377,   -6.64 ,   53.875,   -7.347,    1.932,\n",
       "          -5.435,  -56.973,  -16.852,   11.725,   -4.638,   -1.536,\n",
       "           0.   ,   -4.108,   -8.837,   22.799]))"
      ]
     },
     "execution_count": 73,
     "metadata": {},
     "output_type": "execute_result"
    }
   ],
   "source": [
    "(model_lin_lasso.intercept_,model_lin_lasso.coef_)"
   ]
  },
  {
   "cell_type": "markdown",
   "metadata": {},
   "source": [
    "## 8.2 Modelos de Regresión Lineal, Ridge y Lasso con features de orden 2"
   ]
  },
  {
   "cell_type": "code",
   "execution_count": 74,
   "metadata": {},
   "outputs": [
    {
     "data": {
      "text/plain": [
       "(array([[ 4.,  2., 38., ...,  0.,  0.,  0.],\n",
       "        [ 4.,  3., 46., ...,  0.,  0.,  0.],\n",
       "        [ 2.,  2., 42., ...,  0.,  0.,  0.],\n",
       "        ...,\n",
       "        [ 1.,  2., 42., ...,  0.,  0.,  0.],\n",
       "        [ 5.,  4., 36., ...,  0.,  0.,  0.],\n",
       "        [ 8.,  1., 27., ...,  0.,  0.,  0.]]),\n",
       " array([[ 0. ,  2. , 38. , ...,  0. ,  0. ,  0. ],\n",
       "        [ 3.5,  2. , 48. , ...,  0. ,  0. ,  0. ],\n",
       "        [ 4. ,  2. , 47. , ...,  0. ,  0. ,  0. ],\n",
       "        ...,\n",
       "        [ 2.5,  2. , 53. , ...,  0. ,  0. ,  1. ],\n",
       "        [ 3. ,  2. , 44. , ...,  0. ,  0. ,  0. ],\n",
       "        [ 4. ,  2. , 36. , ...,  0. ,  0. ,  0. ]]))"
      ]
     },
     "execution_count": 74,
     "metadata": {},
     "output_type": "execute_result"
    }
   ],
   "source": [
    "poly_vars = ['floor','rooms','sup_cub','sup_descub','sup_por_room']\n",
    "y_column = ['price_usd_per_m2']\n",
    "poly_drop = ['tipo_propiedad', 'Barrio','price_usd','sup_total','const_index','cub_desc']\n",
    "data_train2 = data_train.drop(columns=poly_drop).copy()\n",
    "data_test2 = data_test.drop(columns=poly_drop).copy()\n",
    "\n",
    "get_poly_X(poly_vars = poly_vars, y_var = y_column, df_train = data_train2, df_test = data_test2,degree=2)"
   ]
  },
  {
   "cell_type": "code",
   "execution_count": 75,
   "metadata": {},
   "outputs": [],
   "source": [
    "poly_vars = ['floor','rooms','sup_cub','sup_descub','sup_por_room']\n",
    "y_column = ['price_usd_per_m2']\n",
    "poly_drop = ['tipo_propiedad', 'Barrio','price_usd','sup_total','const_index','cub_desc']\n",
    "data_train2 = data_train.drop(columns=poly_drop).copy()\n",
    "data_test2 = data_test.drop(columns=poly_drop).copy()\n",
    "\n",
    "X_train_pol2,X_test_pol2 = get_poly_X(poly_vars = poly_vars, y_var = y_column, df_train = data_train2, df_test = data_test2,degree=2)"
   ]
  },
  {
   "cell_type": "code",
   "execution_count": 76,
   "metadata": {
    "scrolled": true
   },
   "outputs": [],
   "source": [
    "Xs_train_pol2 = stdscalerX.fit_transform(X_train_pol2)\n",
    "ys_train_pol2 = y_train\n",
    "\n",
    "Xs_test_pol2 = stdscalerX.transform(X_test_pol2)\n",
    "ys_test_pol2 = y_test"
   ]
  },
  {
   "cell_type": "code",
   "execution_count": 77,
   "metadata": {},
   "outputs": [],
   "source": [
    "# Generamos un grid de $\\alpha$ para probar e instanciamos un particionador del Training Set \n",
    "# en K partes para realizar la validación cruzada\n",
    "\n",
    "al_ridge = np.linspace(1, 50, 100)\n",
    "#print(al_ridge)\n",
    "#al_ridge = (1,10,100)\n",
    "al_lasso = np.linspace(0.1, 2, 100)\n",
    "#al_lasso = (0.1,1,10)\n",
    "kf = KFold(n_splits=5, shuffle=True, random_state=12)\n",
    "\n",
    "# Instanciamos los modelos\n",
    "\n",
    "lm = LinearRegression()\n",
    "lm_ridge_cv2= RidgeCV(alphas=al_ridge, cv=kf, normalize=False)\n",
    "lm_lasso_cv2 = LassoCV(alphas=al_lasso, cv=kf, normalize=False,max_iter=10000)"
   ]
  },
  {
   "cell_type": "code",
   "execution_count": 78,
   "metadata": {},
   "outputs": [],
   "source": [
    "model_linreg2 = lm.fit(Xs_train_pol2, ys_train_pol2)"
   ]
  },
  {
   "cell_type": "code",
   "execution_count": 79,
   "metadata": {},
   "outputs": [],
   "source": [
    "model_lin_ridge2 = lm_ridge_cv2.fit(Xs_train_pol2, np.ravel(ys_train_pol2))"
   ]
  },
  {
   "cell_type": "code",
   "execution_count": 80,
   "metadata": {},
   "outputs": [],
   "source": [
    "model_lin_lasso2 = lm_lasso_cv2.fit(Xs_train_pol2, np.ravel(ys_train_pol2))"
   ]
  },
  {
   "cell_type": "code",
   "execution_count": 81,
   "metadata": {},
   "outputs": [
    {
     "name": "stdout",
     "output_type": "stream",
     "text": [
      "Alpha Ridge: 47.525252525252526 \n",
      "Alpha LASSO: 0.6949494949494949 \n",
      "\n"
     ]
    }
   ],
   "source": [
    "print('Alpha Ridge:',model_lin_ridge2.alpha_,'\\n'\n",
    "      'Alpha LASSO:',model_lin_lasso2.alpha_,'\\n')"
   ]
  },
  {
   "cell_type": "code",
   "execution_count": 82,
   "metadata": {},
   "outputs": [
    {
     "name": "stdout",
     "output_type": "stream",
     "text": [
      " Score Train Lineal: 0.568642\n",
      " Score Train Ridge : 0.568172\n",
      " Score Train Lasso : 0.568158\n",
      "\n",
      " Train RMSE lineal   : 494.5267 \n",
      " Train RMSE Ridge    : 494.7960 \n",
      " Train RMSE Lasso    : 494.8043 \n",
      "\n"
     ]
    }
   ],
   "source": [
    "# Calculamos el R2\n",
    "\n",
    "print(\" Score Train Lineal: %.6f\\n\" % model_linreg2.score(Xs_train_pol2, ys_train_pol2),\n",
    "      \"Score Train Ridge : %.6f\\n\" % model_lin_ridge2.score(Xs_train_pol2, ys_train_pol2),\n",
    "      \"Score Train Lasso : %.6f\\n\" %  model_lin_lasso2.score(Xs_train_pol2, ys_train_pol2))\n",
    "\n",
    "# Calculamos el RMSE\n",
    "\n",
    "ys_pred_tr_lm = model_linreg2.predict(Xs_train_pol2)\n",
    "ys_pred_tr_ridge = model_lin_ridge2.predict(Xs_train_pol2)\n",
    "ys_pred_tr_lasso = model_lin_lasso2.predict(Xs_train_pol2)\n",
    "\n",
    "rmse = lambda y, y_pred: np.sqrt(mean_squared_error(y, y_pred))\n",
    "\n",
    "print(\" Train RMSE lineal   : %.4f \\n\" % rmse(ys_train_pol2,ys_pred_tr_lm),\n",
    "      \"Train RMSE Ridge    : %.4f \\n\" % rmse(ys_train_pol2,ys_pred_tr_ridge),\n",
    "      \"Train RMSE Lasso    : %.4f \\n\" % rmse(ys_train_pol2,ys_pred_tr_lasso))"
   ]
  },
  {
   "cell_type": "code",
   "execution_count": 83,
   "metadata": {},
   "outputs": [
    {
     "name": "stdout",
     "output_type": "stream",
     "text": [
      " Score Test Lineal: 0.546213\n",
      " Score Test Ridge : 0.545142\n",
      " Score Test Lasso : 0.545631\n",
      "\n",
      " Test RMSE lineal= 504.29\n",
      " Test RMSE Ridge = 504.89\n",
      " Test RMSE Lasso = 504.61\n"
     ]
    }
   ],
   "source": [
    "# Hacemos las predicciones sobre la matriz de predictores del Test Set\n",
    "\n",
    "ys_pred_lm = model_linreg2.predict(Xs_test_pol2)\n",
    "ys_pred_ridge = model_lin_ridge2.predict(Xs_test_pol2)\n",
    "ys_pred_lasso = model_lin_lasso2.predict(Xs_test_pol2)\n",
    "\n",
    "\n",
    "print(\" Score Test Lineal: %.6f\\n\" % model_linreg2.score(Xs_test_pol2, ys_test_pol2),\n",
    "      \"Score Test Ridge : %.6f\\n\" % model_lin_ridge2.score(Xs_test_pol2, ys_test_pol2),\n",
    "      \"Score Test Lasso : %.6f\\n\" %  model_lin_lasso2.score(Xs_test_pol2, ys_test_pol2))\n",
    "\n",
    "# Testeo final del modelo sobre Test Set\n",
    "\n",
    "print(\" Test RMSE lineal= %.2f\\n\" % rmse(ys_test_pol2, ys_pred_lm),\n",
    "      \"Test RMSE Ridge = %.2f\\n\" %  rmse(ys_test_pol2, ys_pred_ridge),\n",
    "      \"Test RMSE Lasso = %.2f\" %  rmse(ys_test_pol2, ys_pred_lasso))"
   ]
  },
  {
   "cell_type": "markdown",
   "metadata": {
    "colab_type": "text",
    "id": "4qgm84CkjQT1"
   },
   "source": [
    "* ¿Cuáles son los parámetros de cada modelo?"
   ]
  },
  {
   "cell_type": "code",
   "execution_count": 84,
   "metadata": {},
   "outputs": [],
   "source": [
    "r2_train_lin_d2 = model_linreg2.score(Xs_train_pol2, ys_train_pol2)\n",
    "r2_test_lin_d2 = model_linreg2.score(Xs_test_pol2, ys_test_pol2)\n",
    "\n",
    "r2_train_ridge_d2 = model_lin_ridge2.score(Xs_train_pol2, ys_train_pol2)\n",
    "r2_test_ridge_d2 = model_lin_ridge2.score(Xs_test_pol2, ys_test_pol2)\n",
    "\n",
    "r2_train_lasso_d2 = model_lin_lasso2.score(Xs_train_pol2, ys_train_pol2)\n",
    "r2_test_lasso_d2 = model_lin_lasso2.score(Xs_test_pol2, ys_test_pol2)"
   ]
  },
  {
   "cell_type": "code",
   "execution_count": 85,
   "metadata": {},
   "outputs": [
    {
     "data": {
      "text/plain": [
       "(array([2406.497]),\n",
       " array([[  42.317,   52.034,  110.33 ,  -48.14 ,  -12.756,   43.985,\n",
       "          -24.459,   20.126,   32.269,   26.943, -111.053, -122.512,\n",
       "           -3.953,   45.346,   72.835,    4.77 ,   18.309,   79.432,\n",
       "           24.495,   -5.506,  250.393,  -26.774,  -16.301,  127.731,\n",
       "           26.979,   64.341,   78.363,  -10.162,   22.852,   -1.324,\n",
       "           10.528,  -11.602,   34.43 ,    9.315,   -6.184,  117.618,\n",
       "          318.003,  -13.131,    6.337,   11.69 ,   -5.01 ,   15.262,\n",
       "          262.56 ,  268.673,   42.975,   57.077,   -1.027,   48.283,\n",
       "           69.337,    4.555,    7.176,  131.967,   36.647,   43.071,\n",
       "           10.212,  -32.139,   28.026,   33.692,   25.281,    8.784,\n",
       "           -0.   ,   10.191,   -4.138,  104.447]]))"
      ]
     },
     "execution_count": 85,
     "metadata": {},
     "output_type": "execute_result"
    }
   ],
   "source": [
    "np.set_printoptions(precision=3, suppress=True)\n",
    "\n",
    "(model_linreg.intercept_, model_linreg.coef_)"
   ]
  },
  {
   "cell_type": "code",
   "execution_count": 86,
   "metadata": {
    "colab": {},
    "colab_type": "code",
    "id": "it4WyMaOjQT_",
    "outputId": "cd54197a-7550-4265-c8e6-658ca1387a7a"
   },
   "outputs": [
    {
     "data": {
      "text/plain": [
       "(2406.496980615513,\n",
       " array([  42.315,   52.035,  110.335,  -48.143,  -12.758,   43.981,\n",
       "         -24.46 ,   20.127,   32.272,   26.938, -111.052, -122.504,\n",
       "          -3.957,   45.321,   72.844,    4.775,   18.312,   76.424,\n",
       "          21.506,   -7.374,  246.507,  -27.931,  -18.594,  123.589,\n",
       "          25.627,   62.748,   76.662,  -11.731,   19.573,   -3.029,\n",
       "           8.7  ,  -13.175,   32.969,    8.512,   -6.665,  115.538,\n",
       "         313.334,  -13.733,    5.284,   11.181,   -6.578,   13.989,\n",
       "         261.355,  265.232,   42.037,   55.041,   -2.704,   46.295,\n",
       "          66.02 ,    3.912,    6.554,  128.578,   34.699,   41.329,\n",
       "           9.493,  -33.26 ,   26.059,   32.782,   23.93 ,    8.302,\n",
       "           0.   ,    9.529,   -4.366,  100.963]))"
      ]
     },
     "execution_count": 86,
     "metadata": {},
     "output_type": "execute_result"
    }
   ],
   "source": [
    "(model_lin_ridge.intercept_,model_lin_ridge.coef_)"
   ]
  },
  {
   "cell_type": "code",
   "execution_count": 87,
   "metadata": {
    "colab": {},
    "colab_type": "code",
    "id": "Pe26gXvljQUF",
    "outputId": "8826e595-15aa-4113-bbdb-68ba128115b0"
   },
   "outputs": [
    {
     "data": {
      "text/plain": [
       "(2406.496980615513,\n",
       " array([  41.632,   51.475,  108.982,  -45.294,  -11.659,   43.199,\n",
       "         -23.587,   18.13 ,   27.887,   20.736,  -98.684, -113.04 ,\n",
       "          -7.512,   33.971,   75.707,   -0.   ,   16.705,    9.013,\n",
       "         -43.291,  -47.517,  159.939,  -51.698,  -69.213,   31.845,\n",
       "          -3.03 ,   26.443,   38.026,  -44.965,  -51.808,  -39.919,\n",
       "         -30.609,  -46.772,    0.   ,   -8.212,  -16.232,   68.481,\n",
       "         208.349,  -26.015,  -17.078,   -0.   ,  -40.357,  -12.65 ,\n",
       "         234.548,  188.291,   20.434,    8.797,  -38.882,    2.386,\n",
       "          -4.68 ,   -9.377,   -6.64 ,   53.875,   -7.347,    1.932,\n",
       "          -5.435,  -56.973,  -16.852,   11.725,   -4.638,   -1.536,\n",
       "           0.   ,   -4.108,   -8.837,   22.799]))"
      ]
     },
     "execution_count": 87,
     "metadata": {},
     "output_type": "execute_result"
    }
   ],
   "source": [
    "(model_lin_lasso.intercept_,model_lin_lasso.coef_)"
   ]
  },
  {
   "cell_type": "markdown",
   "metadata": {},
   "source": [
    "## 8.3 Modelos de Regresión Lineal, Ridge y Lasso con features de orden 3"
   ]
  },
  {
   "cell_type": "code",
   "execution_count": 88,
   "metadata": {},
   "outputs": [
    {
     "data": {
      "text/plain": [
       "((8169, 113), (3501, 113))"
      ]
     },
     "execution_count": 88,
     "metadata": {},
     "output_type": "execute_result"
    }
   ],
   "source": [
    "poly_vars = ['floor','rooms','sup_cub','sup_descub','sup_por_room']\n",
    "y_column = ['price_usd_per_m2']\n",
    "poly_drop = ['tipo_propiedad', 'Barrio','price_usd','sup_total','const_index','cub_desc']\n",
    "data_train3 = data_train.drop(columns=poly_drop).copy()\n",
    "data_test3 = data_test.drop(columns=poly_drop).copy()\n",
    "\n",
    "X_train_pol3,X_test_pol3 = get_poly_X(poly_vars = poly_vars, y_var = y_column, df_train = data_train3, df_test = data_test3,degree=3)\n",
    "X_train_pol3.shape,X_test_pol3.shape"
   ]
  },
  {
   "cell_type": "code",
   "execution_count": 89,
   "metadata": {},
   "outputs": [],
   "source": [
    "Xs_train_pol3 = stdscalerX.fit_transform(X_train_pol3)\n",
    "ys_train_pol3 = y_train\n",
    "\n",
    "Xs_test_pol3 = stdscalerX.transform(X_test_pol3)\n",
    "ys_test_pol3 = y_test"
   ]
  },
  {
   "cell_type": "code",
   "execution_count": 90,
   "metadata": {},
   "outputs": [],
   "source": [
    "# Generamos un grid de $\\alpha$ para probar e instanciamos un particionador del Training Set \n",
    "# en K partes para realizar la validación cruzada\n",
    "\n",
    "al_ridge = np.linspace(50, 150, 100)\n",
    "#al_ridge = (0.1,1,10)\n",
    "al_lasso = np.linspace(0.1, 1, 100)\n",
    "#al_lasso = (0.1,1,10)\n",
    "kf = KFold(n_splits=5, shuffle=True, random_state=12)\n",
    "\n",
    "# Instanciamos los modelos\n",
    "\n",
    "lm = LinearRegression()\n",
    "lm_ridge_cv3= RidgeCV(alphas=al_ridge, cv=kf, normalize=False)\n",
    "lm_lasso_cv3 = LassoCV(alphas=al_lasso, cv=kf, normalize=False,max_iter=1000000)"
   ]
  },
  {
   "cell_type": "code",
   "execution_count": 91,
   "metadata": {},
   "outputs": [],
   "source": [
    "model_linreg3 = lm.fit(Xs_train_pol3, ys_train_pol3)"
   ]
  },
  {
   "cell_type": "code",
   "execution_count": 92,
   "metadata": {},
   "outputs": [
    {
     "name": "stdout",
     "output_type": "stream",
     "text": [
      "Alpha Ridge:  128.7878787878788\n"
     ]
    }
   ],
   "source": [
    "model_lin_ridge3 = lm_ridge_cv3.fit(Xs_train_pol3, np.ravel(ys_train_pol3))\n",
    "print('Alpha Ridge: ',model_lin_ridge3.alpha_)"
   ]
  },
  {
   "cell_type": "code",
   "execution_count": 93,
   "metadata": {},
   "outputs": [
    {
     "name": "stdout",
     "output_type": "stream",
     "text": [
      "Alpha Lasso:  0.9909090909090909\n"
     ]
    }
   ],
   "source": [
    "model_lin_lasso3 = lm_lasso_cv3.fit(Xs_train_pol3, np.ravel(ys_train_pol3))\n",
    "print('Alpha Lasso: ',model_lin_lasso3.alpha_)"
   ]
  },
  {
   "cell_type": "code",
   "execution_count": 94,
   "metadata": {},
   "outputs": [
    {
     "name": "stdout",
     "output_type": "stream",
     "text": [
      "Alpha Ridge: 128.7878787878788 \n",
      "Alpha LASSO: 0.9909090909090909 \n",
      "\n"
     ]
    }
   ],
   "source": [
    "print('Alpha Ridge:',model_lin_ridge3.alpha_,'\\n'\n",
    "      'Alpha LASSO:',model_lin_lasso3.alpha_,'\\n')"
   ]
  },
  {
   "cell_type": "code",
   "execution_count": 95,
   "metadata": {},
   "outputs": [
    {
     "name": "stdout",
     "output_type": "stream",
     "text": [
      " Score Train Lineal: 0.5770\n",
      " Score Train Ridge : 0.5725\n",
      " Score Train Lasso : 0.5723\n",
      "\n",
      " Train RMSE lineal   : 489.72 \n",
      " Train RMSE Ridge    : 492.29 \n",
      " Train RMSE Lasso    : 492.45 \n",
      "\n"
     ]
    }
   ],
   "source": [
    "# Calculamos el R2\n",
    "\n",
    "print(\" Score Train Lineal: %.4f\\n\" % model_linreg3.score(Xs_train_pol3, ys_train_pol3),\n",
    "      \"Score Train Ridge : %.4f\\n\" % model_lin_ridge3.score(Xs_train_pol3, ys_train_pol3),\n",
    "      \"Score Train Lasso : %.4f\\n\" %  model_lin_lasso3.score(Xs_train_pol3, ys_train_pol3))\n",
    "\n",
    "# Calculamos el RMSE\n",
    "\n",
    "ys_pred_tr_lm = model_linreg3.predict(Xs_train_pol3)\n",
    "ys_pred_tr_ridge = model_lin_ridge3.predict(Xs_train_pol3)\n",
    "ys_pred_tr_lasso = model_lin_lasso3.predict(Xs_train_pol3)\n",
    "\n",
    "rmse = lambda y, y_pred: np.sqrt(mean_squared_error(y, y_pred))\n",
    "\n",
    "print(\" Train RMSE lineal   : %.2f \\n\" % rmse(ys_train_pol3,ys_pred_tr_lm),\n",
    "      \"Train RMSE Ridge    : %.2f \\n\" % rmse(ys_train_pol3,ys_pred_tr_ridge),\n",
    "      \"Train RMSE Lasso    : %.2f \\n\" % rmse(ys_train_pol3,ys_pred_tr_lasso))"
   ]
  },
  {
   "cell_type": "code",
   "execution_count": 96,
   "metadata": {},
   "outputs": [
    {
     "name": "stdout",
     "output_type": "stream",
     "text": [
      " Score Test Lineal: 0.552442\n",
      " Score Test Ridge : 0.549251\n",
      " Score Test Lasso : 0.548622\n",
      "\n",
      " Test RMSE lineal= 500.82\n",
      " Test RMSE Ridge = 502.60\n",
      " Test RMSE Lasso = 502.95\n"
     ]
    }
   ],
   "source": [
    "# Hacemos las predicciones sobre la matriz de predictores del Test Set\n",
    "\n",
    "ys_pred_lm = model_linreg3.predict(Xs_test_pol3)\n",
    "ys_pred_ridge = model_lin_ridge3.predict(Xs_test_pol3)\n",
    "ys_pred_lasso = model_lin_lasso3.predict(Xs_test_pol3)\n",
    "\n",
    "\n",
    "print(\" Score Test Lineal: %.6f\\n\" % model_linreg3.score(Xs_test_pol3, ys_test_pol3),\n",
    "      \"Score Test Ridge : %.6f\\n\" % model_lin_ridge3.score(Xs_test_pol3, ys_test_pol3),\n",
    "      \"Score Test Lasso : %.6f\\n\" %  model_lin_lasso3.score(Xs_test_pol3, ys_test_pol3))\n",
    "\n",
    "# Testeo final del modelo sobre Test Set\n",
    "\n",
    "print(\" Test RMSE lineal= %.2f\\n\" % rmse(ys_test_pol3, ys_pred_lm),\n",
    "      \"Test RMSE Ridge = %.2f\\n\" %  rmse(ys_test_pol3, ys_pred_ridge),\n",
    "      \"Test RMSE Lasso = %.2f\" %  rmse(ys_test_pol3, ys_pred_lasso))"
   ]
  },
  {
   "cell_type": "markdown",
   "metadata": {
    "colab_type": "text",
    "id": "4qgm84CkjQT1"
   },
   "source": [
    "* ¿Cuáles son los parámetros de cada modelo?"
   ]
  },
  {
   "cell_type": "code",
   "execution_count": 97,
   "metadata": {},
   "outputs": [],
   "source": [
    "r2_train_lin_d3 = model_linreg3.score(Xs_train_pol3, ys_train_pol3)\n",
    "r2_test_lin_d3 = model_linreg3.score(Xs_test_pol3, ys_test_pol3)\n",
    "\n",
    "r2_train_ridge_d3 = model_lin_ridge3.score(Xs_train_pol3, ys_train_pol3)\n",
    "r2_test_ridge_d3 = model_lin_ridge3.score(Xs_test_pol3, ys_test_pol3)\n",
    "\n",
    "r2_train_lasso_d3 = model_lin_lasso3.score(Xs_train_pol3, ys_train_pol3)\n",
    "r2_test_lasso_d3 = model_lin_lasso3.score(Xs_test_pol3, ys_test_pol3)"
   ]
  },
  {
   "cell_type": "code",
   "execution_count": 98,
   "metadata": {},
   "outputs": [
    {
     "data": {
      "text/plain": [
       "(array([2406.493]),\n",
       " array([[  42.317,   52.034,  110.33 ,  -48.14 ,  -12.756,   43.985,\n",
       "          -24.459,   20.126,   32.269,   26.943, -111.053, -122.512,\n",
       "           -3.953,   45.346,   72.835,    4.77 ,   18.309,   79.432,\n",
       "           24.495,   -5.506,  250.393,  -26.774,  -16.301,  127.731,\n",
       "           26.979,   64.341,   78.363,  -10.162,   22.852,   -1.324,\n",
       "           10.528,  -11.602,   34.43 ,    9.315,   -6.184,  117.618,\n",
       "          318.003,  -13.131,    6.337,   11.69 ,   -5.01 ,   15.262,\n",
       "          262.56 ,  268.673,   42.975,   57.077,   -1.027,   48.283,\n",
       "           69.337,    4.555,    7.176,  131.967,   36.647,   43.071,\n",
       "           10.212,  -32.139,   28.026,   33.692,   25.281,    8.784,\n",
       "           -0.   ,   10.191,   -4.138,  104.447]]))"
      ]
     },
     "execution_count": 98,
     "metadata": {},
     "output_type": "execute_result"
    }
   ],
   "source": [
    "np.set_printoptions(precision=3, suppress=True)\n",
    "\n",
    "(model_linreg3.intercept_, model_linreg.coef_)"
   ]
  },
  {
   "cell_type": "code",
   "execution_count": 99,
   "metadata": {
    "colab": {},
    "colab_type": "code",
    "id": "it4WyMaOjQT_",
    "outputId": "cd54197a-7550-4265-c8e6-658ca1387a7a"
   },
   "outputs": [
    {
     "data": {
      "text/plain": [
       "(2406.496980615513,\n",
       " array([  42.315,   52.035,  110.335,  -48.143,  -12.758,   43.981,\n",
       "         -24.46 ,   20.127,   32.272,   26.938, -111.052, -122.504,\n",
       "          -3.957,   45.321,   72.844,    4.775,   18.312,   76.424,\n",
       "          21.506,   -7.374,  246.507,  -27.931,  -18.594,  123.589,\n",
       "          25.627,   62.748,   76.662,  -11.731,   19.573,   -3.029,\n",
       "           8.7  ,  -13.175,   32.969,    8.512,   -6.665,  115.538,\n",
       "         313.334,  -13.733,    5.284,   11.181,   -6.578,   13.989,\n",
       "         261.355,  265.232,   42.037,   55.041,   -2.704,   46.295,\n",
       "          66.02 ,    3.912,    6.554,  128.578,   34.699,   41.329,\n",
       "           9.493,  -33.26 ,   26.059,   32.782,   23.93 ,    8.302,\n",
       "           0.   ,    9.529,   -4.366,  100.963]))"
      ]
     },
     "execution_count": 99,
     "metadata": {},
     "output_type": "execute_result"
    }
   ],
   "source": [
    "(model_lin_ridge3.intercept_,model_lin_ridge.coef_)"
   ]
  },
  {
   "cell_type": "code",
   "execution_count": 100,
   "metadata": {
    "colab": {},
    "colab_type": "code",
    "id": "Pe26gXvljQUF",
    "outputId": "8826e595-15aa-4113-bbdb-68ba128115b0"
   },
   "outputs": [
    {
     "data": {
      "text/plain": [
       "(2406.496980615513,\n",
       " array([  41.632,   51.475,  108.982,  -45.294,  -11.659,   43.199,\n",
       "         -23.587,   18.13 ,   27.887,   20.736,  -98.684, -113.04 ,\n",
       "          -7.512,   33.971,   75.707,   -0.   ,   16.705,    9.013,\n",
       "         -43.291,  -47.517,  159.939,  -51.698,  -69.213,   31.845,\n",
       "          -3.03 ,   26.443,   38.026,  -44.965,  -51.808,  -39.919,\n",
       "         -30.609,  -46.772,    0.   ,   -8.212,  -16.232,   68.481,\n",
       "         208.349,  -26.015,  -17.078,   -0.   ,  -40.357,  -12.65 ,\n",
       "         234.548,  188.291,   20.434,    8.797,  -38.882,    2.386,\n",
       "          -4.68 ,   -9.377,   -6.64 ,   53.875,   -7.347,    1.932,\n",
       "          -5.435,  -56.973,  -16.852,   11.725,   -4.638,   -1.536,\n",
       "           0.   ,   -4.108,   -8.837,   22.799]))"
      ]
     },
     "execution_count": 100,
     "metadata": {},
     "output_type": "execute_result"
    }
   ],
   "source": [
    "(model_lin_lasso3.intercept_,model_lin_lasso.coef_)"
   ]
  },
  {
   "cell_type": "markdown",
   "metadata": {},
   "source": [
    "# 9. Comparación de Modelos\n",
    "\n",
    "Se comparan los resultados y score de los distintos modelos."
   ]
  },
  {
   "cell_type": "code",
   "execution_count": 101,
   "metadata": {},
   "outputs": [
    {
     "data": {
      "text/html": [
       "<div>\n",
       "<style scoped>\n",
       "    .dataframe tbody tr th:only-of-type {\n",
       "        vertical-align: middle;\n",
       "    }\n",
       "\n",
       "    .dataframe tbody tr th {\n",
       "        vertical-align: top;\n",
       "    }\n",
       "\n",
       "    .dataframe thead th {\n",
       "        text-align: right;\n",
       "    }\n",
       "</style>\n",
       "<table border=\"1\" class=\"dataframe\">\n",
       "  <thead>\n",
       "    <tr style=\"text-align: right;\">\n",
       "      <th></th>\n",
       "      <th>degree</th>\n",
       "      <th>model</th>\n",
       "      <th>R2 Train</th>\n",
       "      <th>R2 Test</th>\n",
       "      <th>alpha</th>\n",
       "    </tr>\n",
       "  </thead>\n",
       "  <tbody>\n",
       "    <tr>\n",
       "      <th>0</th>\n",
       "      <td>1</td>\n",
       "      <td>lineal</td>\n",
       "      <td>55.5</td>\n",
       "      <td>53.6</td>\n",
       "      <td>0.000000</td>\n",
       "    </tr>\n",
       "    <tr>\n",
       "      <th>1</th>\n",
       "      <td>1</td>\n",
       "      <td>ridge</td>\n",
       "      <td>55.5</td>\n",
       "      <td>53.6</td>\n",
       "      <td>0.097879</td>\n",
       "    </tr>\n",
       "    <tr>\n",
       "      <th>2</th>\n",
       "      <td>1</td>\n",
       "      <td>lasso</td>\n",
       "      <td>55.5</td>\n",
       "      <td>53.6</td>\n",
       "      <td>0.941414</td>\n",
       "    </tr>\n",
       "    <tr>\n",
       "      <th>3</th>\n",
       "      <td>2</td>\n",
       "      <td>lineal</td>\n",
       "      <td>56.9</td>\n",
       "      <td>54.6</td>\n",
       "      <td>0.000000</td>\n",
       "    </tr>\n",
       "    <tr>\n",
       "      <th>4</th>\n",
       "      <td>2</td>\n",
       "      <td>ridge</td>\n",
       "      <td>56.8</td>\n",
       "      <td>54.5</td>\n",
       "      <td>47.525253</td>\n",
       "    </tr>\n",
       "    <tr>\n",
       "      <th>5</th>\n",
       "      <td>2</td>\n",
       "      <td>lasso</td>\n",
       "      <td>56.8</td>\n",
       "      <td>54.6</td>\n",
       "      <td>0.694949</td>\n",
       "    </tr>\n",
       "    <tr>\n",
       "      <th>6</th>\n",
       "      <td>3</td>\n",
       "      <td>lineal</td>\n",
       "      <td>57.7</td>\n",
       "      <td>55.2</td>\n",
       "      <td>0.000000</td>\n",
       "    </tr>\n",
       "    <tr>\n",
       "      <th>7</th>\n",
       "      <td>3</td>\n",
       "      <td>ridge</td>\n",
       "      <td>57.3</td>\n",
       "      <td>54.9</td>\n",
       "      <td>128.787879</td>\n",
       "    </tr>\n",
       "    <tr>\n",
       "      <th>8</th>\n",
       "      <td>3</td>\n",
       "      <td>lasso</td>\n",
       "      <td>57.2</td>\n",
       "      <td>54.9</td>\n",
       "      <td>0.990909</td>\n",
       "    </tr>\n",
       "  </tbody>\n",
       "</table>\n",
       "</div>"
      ],
      "text/plain": [
       "   degree   model  R2 Train  R2 Test       alpha\n",
       "0       1  lineal      55.5     53.6    0.000000\n",
       "1       1   ridge      55.5     53.6    0.097879\n",
       "2       1   lasso      55.5     53.6    0.941414\n",
       "3       2  lineal      56.9     54.6    0.000000\n",
       "4       2   ridge      56.8     54.5   47.525253\n",
       "5       2   lasso      56.8     54.6    0.694949\n",
       "6       3  lineal      57.7     55.2    0.000000\n",
       "7       3   ridge      57.3     54.9  128.787879\n",
       "8       3   lasso      57.2     54.9    0.990909"
      ]
     },
     "execution_count": 101,
     "metadata": {},
     "output_type": "execute_result"
    }
   ],
   "source": [
    "cols1 = ['degree','model','R2 Train','R2 Test','alpha']\n",
    "\n",
    "deg1_results1 = [[1,'lineal',r2_train_lin_d1,r2_test_lin_d1,0],\n",
    "                [1,'ridge',r2_train_ridge_d1,r2_test_ridge_d1,model_lin_ridge.alpha_],\n",
    "                [1,'lasso',r2_train_lasso_d1,r2_test_lasso_d1,model_lin_lasso.alpha_],\n",
    "                \n",
    "                [2,'lineal',r2_train_lin_d2,r2_test_lin_d2,0],\n",
    "                [2,'ridge',r2_train_ridge_d2,r2_test_ridge_d2,model_lin_ridge2.alpha_],\n",
    "                [2,'lasso',r2_train_lasso_d2,r2_test_lasso_d2,model_lin_lasso2.alpha_],\n",
    "                \n",
    "                [3,'lineal',r2_train_lin_d3,r2_test_lin_d3,0],\n",
    "                [3,'ridge',r2_train_ridge_d3,r2_test_ridge_d3,model_lin_ridge3.alpha_],\n",
    "                [3,'lasso',r2_train_lasso_d3,r2_test_lasso_d3,model_lin_lasso3.alpha_]\n",
    "               ]\n",
    "\n",
    "results_df = pd.DataFrame(data = deg1_results1,columns=cols1)\n",
    "results_df['R2 Train'] = results_df['R2 Train']*100\n",
    "results_df['R2 Train'] = round(results_df['R2 Train'],1)\n",
    "results_df['R2 Test'] = results_df['R2 Test']*100\n",
    "results_df['R2 Test'] = round(results_df['R2 Test'],1)\n",
    "results_df"
   ]
  },
  {
   "cell_type": "code",
   "execution_count": 102,
   "metadata": {},
   "outputs": [
    {
     "data": {
      "image/png": "[encoded data removed]",
      "text/plain": [
       "<Figure size 1296x432 with 3 Axes>"
      ]
     },
     "metadata": {
      "needs_background": "light"
     },
     "output_type": "display_data"
    }
   ],
   "source": [
    "fig = plt.figure(figsize=(18,6))\n",
    "plt.suptitle(\"R2 Comparison between models\",fontsize=16)\n",
    "ax1 = fig.add_subplot(131)\n",
    "results_df.loc[results_df['degree']==1].plot(x='model',y=['R2 Train','R2 Test'],kind='bar',rot=0,title='Degree 1',ax=ax1)\n",
    "ax1.legend(loc='lower center')\n",
    "# plt.ylim([0.5,0.58])\n",
    "for p in ax1.patches:\n",
    "    ax1.annotate(str(round(p.get_height(),4)), (p.get_x() * 1.001, p.get_height() * 1.001))\n",
    "    \n",
    "ax2 = fig.add_subplot(132)\n",
    "results_df.loc[results_df['degree']==2].plot(x='model',y=['R2 Train','R2 Test'],kind='bar',rot=0,title='Degree 2',ax=ax2)\n",
    "ax2.legend(loc='lower center')\n",
    "for p in ax2.patches:\n",
    "    ax2.annotate(str(round(p.get_height(),4)), (p.get_x() * 1.01, p.get_height() * 1.01))\n",
    "\n",
    "ax3 = fig.add_subplot(133)\n",
    "results_df.loc[results_df['degree']==3].plot(x='model',y=['R2 Train','R2 Test'],kind='bar',rot=0,title='Degree 3',ax=ax3)\n",
    "ax3.legend(loc='lower center')\n",
    "for p in ax3.patches:\n",
    "    ax3.annotate(str(round(p.get_height(),4)), (p.get_x() * 1.01, p.get_height() * 1.01))\n",
    "\n",
    "\n",
    "\n",
    "\n",
    "plt.savefig('../Images/CABA/Scores Modelo CABA.png')"
   ]
  },
  {
   "cell_type": "markdown",
   "metadata": {},
   "source": [
    "# 10. Elección del modelo\n",
    "\n",
    "Luego de lo anterior visto, se opta por un modelo de regresión lineal sin regularización, con features polinomiales de orden 3. Si bien el modelo no mejora tanto con el agregado de features polinomiales, ni tampoco con regularización, se optó por el modelo con mejores R2 en train y test."
   ]
  },
  {
   "cell_type": "markdown",
   "metadata": {},
   "source": [
    "# 11 División del dataset en Train y Test para portfolio de 100 propiedades."
   ]
  },
  {
   "cell_type": "code",
   "execution_count": 103,
   "metadata": {},
   "outputs": [],
   "source": [
    "data_train, data_test = train_test_split(data,test_size=100,shuffle=True,random_state=8)"
   ]
  },
  {
   "cell_type": "code",
   "execution_count": 104,
   "metadata": {},
   "outputs": [],
   "source": [
    "data_train_final = data_train.copy()\n",
    "data_test_final = data_test.copy()"
   ]
  },
  {
   "cell_type": "code",
   "execution_count": 105,
   "metadata": {},
   "outputs": [
    {
     "data": {
      "text/plain": [
       "((11570, 69), (100, 69))"
      ]
     },
     "execution_count": 105,
     "metadata": {},
     "output_type": "execute_result"
    }
   ],
   "source": [
    "data_train_final.shape,data_test_final.shape"
   ]
  },
  {
   "cell_type": "code",
   "execution_count": 106,
   "metadata": {},
   "outputs": [
    {
     "data": {
      "text/plain": [
       "Index(['tipo_propiedad', 'Barrio', 'cochera', 'gimnasio', 'piscina', 'SUM',\n",
       "       'laundry', 'balcon', 'patio', 'parrilla', 'floor', 'rooms', 'price_usd',\n",
       "       'sup_cub', 'sup_descub', 'sup_total', 'price_usd_per_m2',\n",
       "       'sup_por_room', 'cub_desc', 'tipo_propiedad_apartment',\n",
       "       'tipo_propiedad_house', 'tipo_propiedad_store', 'Barrio_Almagro',\n",
       "       'Barrio_Balvanera', 'Barrio_Barracas', 'Barrio_Belgrano', 'Barrio_Boca',\n",
       "       'Barrio_Boedo', 'Barrio_Caballito', 'Barrio_Chacarita',\n",
       "       'Barrio_Coghlan', 'Barrio_Colegiales', 'Barrio_Constitucion',\n",
       "       'Barrio_Flores', 'Barrio_Floresta', 'Barrio_Liniers',\n",
       "       'Barrio_Mataderos', 'Barrio_Monserrat', 'Barrio_Monte Castro',\n",
       "       'Barrio_Nueva Pompeya', 'Barrio_Nuñez', 'Barrio_Palermo',\n",
       "       'Barrio_Parque Avellaneda', 'Barrio_Parque Chacabuco',\n",
       "       'Barrio_Parque Chas', 'Barrio_Parque Patricios', 'Barrio_Paternal',\n",
       "       'Barrio_Puerto Madero', 'Barrio_Recoleta', 'Barrio_Retiro',\n",
       "       'Barrio_Saavedra', 'Barrio_San Cristobal', 'Barrio_San Nicolas',\n",
       "       'Barrio_San Telmo', 'Barrio_Velez Sarsfield', 'Barrio_Versalles',\n",
       "       'Barrio_Villa Crespo', 'Barrio_Villa Del Parque', 'Barrio_Villa Devoto',\n",
       "       'Barrio_Villa Gral. Mitre', 'Barrio_Villa Lugano', 'Barrio_Villa Luro',\n",
       "       'Barrio_Villa Ortuzar', 'Barrio_Villa Pueyrredon', 'Barrio_Villa Real',\n",
       "       'Barrio_Villa Riachuelo', 'Barrio_Villa Santa Rita',\n",
       "       'Barrio_Villa Soldati', 'Barrio_Villa Urquiza'],\n",
       "      dtype='object')"
      ]
     },
     "execution_count": 106,
     "metadata": {},
     "output_type": "execute_result"
    }
   ],
   "source": [
    "data_train_final.columns"
   ]
  },
  {
   "cell_type": "markdown",
   "metadata": {},
   "source": [
    "## 11.1 Imputación del número de piso ('floor')"
   ]
  },
  {
   "cell_type": "code",
   "execution_count": 107,
   "metadata": {},
   "outputs": [
    {
     "data": {
      "text/plain": [
       "9009"
      ]
     },
     "execution_count": 107,
     "metadata": {},
     "output_type": "execute_result"
    }
   ],
   "source": [
    "data_train_final['floor'].isna().sum()"
   ]
  },
  {
   "cell_type": "code",
   "execution_count": 108,
   "metadata": {
    "scrolled": true
   },
   "outputs": [
    {
     "data": {
      "text/plain": [
       "81"
      ]
     },
     "execution_count": 108,
     "metadata": {},
     "output_type": "execute_result"
    }
   ],
   "source": [
    "data_test_final['floor'].isna().sum()"
   ]
  },
  {
   "cell_type": "markdown",
   "metadata": {},
   "source": [
    "Solo se imputan datos en propiedades de tipo 'apartment'."
   ]
  },
  {
   "cell_type": "code",
   "execution_count": 109,
   "metadata": {
    "scrolled": false
   },
   "outputs": [
    {
     "data": {
      "text/html": [
       "<div>\n",
       "<style scoped>\n",
       "    .dataframe tbody tr th:only-of-type {\n",
       "        vertical-align: middle;\n",
       "    }\n",
       "\n",
       "    .dataframe tbody tr th {\n",
       "        vertical-align: top;\n",
       "    }\n",
       "\n",
       "    .dataframe thead th {\n",
       "        text-align: right;\n",
       "    }\n",
       "</style>\n",
       "<table border=\"1\" class=\"dataframe\">\n",
       "  <thead>\n",
       "    <tr style=\"text-align: right;\">\n",
       "      <th></th>\n",
       "      <th>floor</th>\n",
       "    </tr>\n",
       "    <tr>\n",
       "      <th>Barrio</th>\n",
       "      <th></th>\n",
       "    </tr>\n",
       "  </thead>\n",
       "  <tbody>\n",
       "    <tr>\n",
       "      <th>Almagro</th>\n",
       "      <td>4.0</td>\n",
       "    </tr>\n",
       "    <tr>\n",
       "      <th>Balvanera</th>\n",
       "      <td>5.0</td>\n",
       "    </tr>\n",
       "    <tr>\n",
       "      <th>Barracas</th>\n",
       "      <td>5.0</td>\n",
       "    </tr>\n",
       "    <tr>\n",
       "      <th>Belgrano</th>\n",
       "      <td>3.5</td>\n",
       "    </tr>\n",
       "    <tr>\n",
       "      <th>Boca</th>\n",
       "      <td>11.0</td>\n",
       "    </tr>\n",
       "    <tr>\n",
       "      <th>Boedo</th>\n",
       "      <td>2.0</td>\n",
       "    </tr>\n",
       "    <tr>\n",
       "      <th>Caballito</th>\n",
       "      <td>5.0</td>\n",
       "    </tr>\n",
       "    <tr>\n",
       "      <th>Chacarita</th>\n",
       "      <td>6.0</td>\n",
       "    </tr>\n",
       "    <tr>\n",
       "      <th>Coghlan</th>\n",
       "      <td>2.5</td>\n",
       "    </tr>\n",
       "    <tr>\n",
       "      <th>Colegiales</th>\n",
       "      <td>3.0</td>\n",
       "    </tr>\n",
       "  </tbody>\n",
       "</table>\n",
       "</div>"
      ],
      "text/plain": [
       "            floor\n",
       "Barrio           \n",
       "Almagro       4.0\n",
       "Balvanera     5.0\n",
       "Barracas      5.0\n",
       "Belgrano      3.5\n",
       "Boca         11.0\n",
       "Boedo         2.0\n",
       "Caballito     5.0\n",
       "Chacarita     6.0\n",
       "Coghlan       2.5\n",
       "Colegiales    3.0"
      ]
     },
     "execution_count": 109,
     "metadata": {},
     "output_type": "execute_result"
    }
   ],
   "source": [
    "floor_median_barrio = data_train_final.loc[data_train_final['tipo_propiedad']=='apartment',['floor','Barrio']].groupby('Barrio').agg(np.median)\n",
    "floor_median_barrio['floor'].fillna(value=floor_median_barrio['floor'].mean(),inplace=True)\n",
    "floor_median_barrio.head(10)"
   ]
  },
  {
   "cell_type": "code",
   "execution_count": 110,
   "metadata": {
    "scrolled": false
   },
   "outputs": [],
   "source": [
    "for barrio,floor_med in floor_median_barrio['floor'].to_dict().items():\n",
    "    #imputo en el train set con los valores calculados\n",
    "    data_train_final.loc[((data_train_final['tipo_propiedad']=='apartment')&(data_train_final['floor'].isna())&(data_train_final['Barrio']==barrio)),'floor']=floor_med\n",
    "    #tambien imputo en el test set con los valores del train set.\n",
    "    data_test_final.loc[((data_test_final['tipo_propiedad']=='apartment')&(data_test_final['floor'].isna())&(data_test_final['Barrio']==barrio)),'floor']=floor_med"
   ]
  },
  {
   "cell_type": "code",
   "execution_count": 111,
   "metadata": {},
   "outputs": [
    {
     "name": "stdout",
     "output_type": "stream",
     "text": [
      "Datos faltantes de floor en train set: 0\n",
      "Datos faltantes de floor en test set: 0\n"
     ]
    }
   ],
   "source": [
    "print(\"Datos faltantes de floor en train set: {}\".format(data_train_final['floor'].isna().sum()))\n",
    "print(\"Datos faltantes de floor en test set: {}\".format(data_test_final['floor'].isna().sum()))"
   ]
  },
  {
   "cell_type": "code",
   "execution_count": 112,
   "metadata": {},
   "outputs": [
    {
     "data": {
      "text/plain": [
       "Series([], Name: Barrio, dtype: int64)"
      ]
     },
     "execution_count": 112,
     "metadata": {},
     "output_type": "execute_result"
    }
   ],
   "source": [
    "data_train_final.loc[data_train_final['floor'].isna(),'Barrio'].value_counts()"
   ]
  },
  {
   "cell_type": "code",
   "execution_count": 113,
   "metadata": {},
   "outputs": [
    {
     "data": {
      "text/plain": [
       "Series([], Name: Barrio, dtype: int64)"
      ]
     },
     "execution_count": 113,
     "metadata": {},
     "output_type": "execute_result"
    }
   ],
   "source": [
    "data_test_final.loc[data_test_final['floor'].isna(),'Barrio'].value_counts()"
   ]
  },
  {
   "cell_type": "markdown",
   "metadata": {},
   "source": [
    "## 11.2 Imputación de Superficies\n",
    "\n",
    "Columna temporal de const_index."
   ]
  },
  {
   "cell_type": "code",
   "execution_count": 114,
   "metadata": {
    "scrolled": true
   },
   "outputs": [
    {
     "data": {
      "text/html": [
       "<div>\n",
       "<style scoped>\n",
       "    .dataframe tbody tr th:only-of-type {\n",
       "        vertical-align: middle;\n",
       "    }\n",
       "\n",
       "    .dataframe tbody tr th {\n",
       "        vertical-align: top;\n",
       "    }\n",
       "\n",
       "    .dataframe thead th {\n",
       "        text-align: right;\n",
       "    }\n",
       "</style>\n",
       "<table border=\"1\" class=\"dataframe\">\n",
       "  <thead>\n",
       "    <tr style=\"text-align: right;\">\n",
       "      <th></th>\n",
       "      <th>tipo_propiedad</th>\n",
       "      <th>Barrio</th>\n",
       "      <th>cochera</th>\n",
       "      <th>gimnasio</th>\n",
       "      <th>piscina</th>\n",
       "      <th>SUM</th>\n",
       "      <th>laundry</th>\n",
       "      <th>balcon</th>\n",
       "      <th>patio</th>\n",
       "      <th>parrilla</th>\n",
       "      <th>...</th>\n",
       "      <th>Barrio_Villa Lugano</th>\n",
       "      <th>Barrio_Villa Luro</th>\n",
       "      <th>Barrio_Villa Ortuzar</th>\n",
       "      <th>Barrio_Villa Pueyrredon</th>\n",
       "      <th>Barrio_Villa Real</th>\n",
       "      <th>Barrio_Villa Riachuelo</th>\n",
       "      <th>Barrio_Villa Santa Rita</th>\n",
       "      <th>Barrio_Villa Soldati</th>\n",
       "      <th>Barrio_Villa Urquiza</th>\n",
       "      <th>const_index</th>\n",
       "    </tr>\n",
       "  </thead>\n",
       "  <tbody>\n",
       "    <tr>\n",
       "      <th>935</th>\n",
       "      <td>apartment</td>\n",
       "      <td>Villa Ortuzar</td>\n",
       "      <td>1.0</td>\n",
       "      <td>0.0</td>\n",
       "      <td>0.0</td>\n",
       "      <td>1.0</td>\n",
       "      <td>0.0</td>\n",
       "      <td>0.0</td>\n",
       "      <td>0.0</td>\n",
       "      <td>1.0</td>\n",
       "      <td>...</td>\n",
       "      <td>0.0</td>\n",
       "      <td>0.0</td>\n",
       "      <td>1.0</td>\n",
       "      <td>0.0</td>\n",
       "      <td>0.0</td>\n",
       "      <td>0.0</td>\n",
       "      <td>0.0</td>\n",
       "      <td>0.0</td>\n",
       "      <td>0.0</td>\n",
       "      <td>0.913043</td>\n",
       "    </tr>\n",
       "    <tr>\n",
       "      <th>3614</th>\n",
       "      <td>apartment</td>\n",
       "      <td>Almagro</td>\n",
       "      <td>1.0</td>\n",
       "      <td>0.0</td>\n",
       "      <td>0.0</td>\n",
       "      <td>1.0</td>\n",
       "      <td>1.0</td>\n",
       "      <td>1.0</td>\n",
       "      <td>0.0</td>\n",
       "      <td>1.0</td>\n",
       "      <td>...</td>\n",
       "      <td>0.0</td>\n",
       "      <td>0.0</td>\n",
       "      <td>0.0</td>\n",
       "      <td>0.0</td>\n",
       "      <td>0.0</td>\n",
       "      <td>0.0</td>\n",
       "      <td>0.0</td>\n",
       "      <td>0.0</td>\n",
       "      <td>0.0</td>\n",
       "      <td>0.842105</td>\n",
       "    </tr>\n",
       "    <tr>\n",
       "      <th>8596</th>\n",
       "      <td>apartment</td>\n",
       "      <td>Belgrano</td>\n",
       "      <td>0.0</td>\n",
       "      <td>0.0</td>\n",
       "      <td>0.0</td>\n",
       "      <td>0.0</td>\n",
       "      <td>0.0</td>\n",
       "      <td>1.0</td>\n",
       "      <td>0.0</td>\n",
       "      <td>0.0</td>\n",
       "      <td>...</td>\n",
       "      <td>0.0</td>\n",
       "      <td>0.0</td>\n",
       "      <td>0.0</td>\n",
       "      <td>0.0</td>\n",
       "      <td>0.0</td>\n",
       "      <td>0.0</td>\n",
       "      <td>0.0</td>\n",
       "      <td>0.0</td>\n",
       "      <td>0.0</td>\n",
       "      <td>0.936170</td>\n",
       "    </tr>\n",
       "    <tr>\n",
       "      <th>1004</th>\n",
       "      <td>apartment</td>\n",
       "      <td>Puerto Madero</td>\n",
       "      <td>1.0</td>\n",
       "      <td>1.0</td>\n",
       "      <td>1.0</td>\n",
       "      <td>0.0</td>\n",
       "      <td>1.0</td>\n",
       "      <td>1.0</td>\n",
       "      <td>0.0</td>\n",
       "      <td>0.0</td>\n",
       "      <td>...</td>\n",
       "      <td>0.0</td>\n",
       "      <td>0.0</td>\n",
       "      <td>0.0</td>\n",
       "      <td>0.0</td>\n",
       "      <td>0.0</td>\n",
       "      <td>0.0</td>\n",
       "      <td>0.0</td>\n",
       "      <td>0.0</td>\n",
       "      <td>0.0</td>\n",
       "      <td>0.833333</td>\n",
       "    </tr>\n",
       "    <tr>\n",
       "      <th>9463</th>\n",
       "      <td>house</td>\n",
       "      <td>Caballito</td>\n",
       "      <td>1.0</td>\n",
       "      <td>0.0</td>\n",
       "      <td>1.0</td>\n",
       "      <td>0.0</td>\n",
       "      <td>0.0</td>\n",
       "      <td>0.0</td>\n",
       "      <td>1.0</td>\n",
       "      <td>1.0</td>\n",
       "      <td>...</td>\n",
       "      <td>0.0</td>\n",
       "      <td>0.0</td>\n",
       "      <td>0.0</td>\n",
       "      <td>0.0</td>\n",
       "      <td>0.0</td>\n",
       "      <td>0.0</td>\n",
       "      <td>0.0</td>\n",
       "      <td>0.0</td>\n",
       "      <td>0.0</td>\n",
       "      <td>0.832168</td>\n",
       "    </tr>\n",
       "  </tbody>\n",
       "</table>\n",
       "<p>5 rows × 70 columns</p>\n",
       "</div>"
      ],
      "text/plain": [
       "     tipo_propiedad         Barrio  cochera  gimnasio  piscina  SUM  laundry  \\\n",
       "935       apartment  Villa Ortuzar      1.0       0.0      0.0  1.0      0.0   \n",
       "3614      apartment        Almagro      1.0       0.0      0.0  1.0      1.0   \n",
       "8596      apartment       Belgrano      0.0       0.0      0.0  0.0      0.0   \n",
       "1004      apartment  Puerto Madero      1.0       1.0      1.0  0.0      1.0   \n",
       "9463          house      Caballito      1.0       0.0      1.0  0.0      0.0   \n",
       "\n",
       "      balcon  patio  parrilla  ...  Barrio_Villa Lugano  Barrio_Villa Luro  \\\n",
       "935      0.0    0.0       1.0  ...                  0.0                0.0   \n",
       "3614     1.0    0.0       1.0  ...                  0.0                0.0   \n",
       "8596     1.0    0.0       0.0  ...                  0.0                0.0   \n",
       "1004     1.0    0.0       0.0  ...                  0.0                0.0   \n",
       "9463     0.0    1.0       1.0  ...                  0.0                0.0   \n",
       "\n",
       "      Barrio_Villa Ortuzar  Barrio_Villa Pueyrredon  Barrio_Villa Real  \\\n",
       "935                    1.0                      0.0                0.0   \n",
       "3614                   0.0                      0.0                0.0   \n",
       "8596                   0.0                      0.0                0.0   \n",
       "1004                   0.0                      0.0                0.0   \n",
       "9463                   0.0                      0.0                0.0   \n",
       "\n",
       "      Barrio_Villa Riachuelo  Barrio_Villa Santa Rita  Barrio_Villa Soldati  \\\n",
       "935                      0.0                      0.0                   0.0   \n",
       "3614                     0.0                      0.0                   0.0   \n",
       "8596                     0.0                      0.0                   0.0   \n",
       "1004                     0.0                      0.0                   0.0   \n",
       "9463                     0.0                      0.0                   0.0   \n",
       "\n",
       "      Barrio_Villa Urquiza  const_index  \n",
       "935                    0.0     0.913043  \n",
       "3614                   0.0     0.842105  \n",
       "8596                   0.0     0.936170  \n",
       "1004                   0.0     0.833333  \n",
       "9463                   0.0     0.832168  \n",
       "\n",
       "[5 rows x 70 columns]"
      ]
     },
     "execution_count": 114,
     "metadata": {},
     "output_type": "execute_result"
    }
   ],
   "source": [
    "data_train_final['const_index']=data_train_final['sup_cub']/data_train_final['sup_total']\n",
    "#data_test['const_index']=0\n",
    "data_train_final.head(5)"
   ]
  },
  {
   "cell_type": "code",
   "execution_count": 115,
   "metadata": {},
   "outputs": [
    {
     "data": {
      "text/html": [
       "<div>\n",
       "<style scoped>\n",
       "    .dataframe tbody tr th:only-of-type {\n",
       "        vertical-align: middle;\n",
       "    }\n",
       "\n",
       "    .dataframe tbody tr th {\n",
       "        vertical-align: top;\n",
       "    }\n",
       "\n",
       "    .dataframe thead th {\n",
       "        text-align: right;\n",
       "    }\n",
       "</style>\n",
       "<table border=\"1\" class=\"dataframe\">\n",
       "  <thead>\n",
       "    <tr style=\"text-align: right;\">\n",
       "      <th></th>\n",
       "      <th>const_index</th>\n",
       "    </tr>\n",
       "    <tr>\n",
       "      <th>Barrio</th>\n",
       "      <th></th>\n",
       "    </tr>\n",
       "  </thead>\n",
       "  <tbody>\n",
       "    <tr>\n",
       "      <th>Agronomia</th>\n",
       "      <td>0.914286</td>\n",
       "    </tr>\n",
       "    <tr>\n",
       "      <th>Almagro</th>\n",
       "      <td>0.930233</td>\n",
       "    </tr>\n",
       "    <tr>\n",
       "      <th>Balvanera</th>\n",
       "      <td>1.000000</td>\n",
       "    </tr>\n",
       "    <tr>\n",
       "      <th>Barracas</th>\n",
       "      <td>0.900000</td>\n",
       "    </tr>\n",
       "    <tr>\n",
       "      <th>Belgrano</th>\n",
       "      <td>0.902439</td>\n",
       "    </tr>\n",
       "    <tr>\n",
       "      <th>Boca</th>\n",
       "      <td>0.927922</td>\n",
       "    </tr>\n",
       "    <tr>\n",
       "      <th>Boedo</th>\n",
       "      <td>1.000000</td>\n",
       "    </tr>\n",
       "    <tr>\n",
       "      <th>Caballito</th>\n",
       "      <td>0.900000</td>\n",
       "    </tr>\n",
       "    <tr>\n",
       "      <th>Chacarita</th>\n",
       "      <td>0.918919</td>\n",
       "    </tr>\n",
       "    <tr>\n",
       "      <th>Coghlan</th>\n",
       "      <td>0.893617</td>\n",
       "    </tr>\n",
       "  </tbody>\n",
       "</table>\n",
       "</div>"
      ],
      "text/plain": [
       "           const_index\n",
       "Barrio                \n",
       "Agronomia     0.914286\n",
       "Almagro       0.930233\n",
       "Balvanera     1.000000\n",
       "Barracas      0.900000\n",
       "Belgrano      0.902439\n",
       "Boca          0.927922\n",
       "Boedo         1.000000\n",
       "Caballito     0.900000\n",
       "Chacarita     0.918919\n",
       "Coghlan       0.893617"
      ]
     },
     "execution_count": 115,
     "metadata": {},
     "output_type": "execute_result"
    }
   ],
   "source": [
    "const_median_barrio = data_train_final[['const_index','Barrio']].groupby('Barrio').median()\n",
    "const_median_barrio['const_index'].fillna(value=const_median_barrio['const_index'].mean(),inplace=True)\n",
    "const_median_barrio.head(10)"
   ]
  },
  {
   "cell_type": "markdown",
   "metadata": {},
   "source": [
    "Imputación del índice de construcción:"
   ]
  },
  {
   "cell_type": "code",
   "execution_count": 116,
   "metadata": {},
   "outputs": [
    {
     "data": {
      "text/plain": [
       "sup_cub       1256\n",
       "sup_total      565\n",
       "sup_descub    1821\n",
       "dtype: int64"
      ]
     },
     "execution_count": 116,
     "metadata": {},
     "output_type": "execute_result"
    }
   ],
   "source": [
    "data_train_final[['sup_cub','sup_total','sup_descub']].isna().sum()"
   ]
  },
  {
   "cell_type": "code",
   "execution_count": 117,
   "metadata": {},
   "outputs": [],
   "source": [
    "for barrio,const_med in const_median_barrio['const_index'].to_dict().items():\n",
    "    data_train_final.loc[(data_train_final['const_index'].isna())&(data_train_final['Barrio']==barrio),'const_index']=const_med\n",
    "    data_test_final.loc[(data_test_final['Barrio']==barrio),'const_index']=const_med"
   ]
  },
  {
   "cell_type": "markdown",
   "metadata": {},
   "source": [
    "Completar los datos faltantes de Superficie Cubierta y Superficie Total con el índice de construcción calculado, en el set de entrenamiento."
   ]
  },
  {
   "cell_type": "code",
   "execution_count": 118,
   "metadata": {},
   "outputs": [],
   "source": [
    "data_train_final['sup_cub'].fillna(data_train_final['const_index']*data_train_final['sup_total'],inplace=True)\n",
    "data_train_final['sup_total'].fillna(data_train_final['sup_cub']/data_train_final['const_index'],inplace=True)\n",
    "data_train_final['sup_descub'].fillna((data_train_final['sup_total']-data_train_final['sup_cub']),inplace=True)"
   ]
  },
  {
   "cell_type": "markdown",
   "metadata": {},
   "source": [
    "Completar los datos faltantes de Superficie Cubierta y Superficie Total con el índice de construcción calculado, en el set de testeo."
   ]
  },
  {
   "cell_type": "code",
   "execution_count": 119,
   "metadata": {},
   "outputs": [],
   "source": [
    "data_test_final['sup_cub'].fillna(data_test_final['const_index']*data_test_final['sup_total'],inplace=True)\n",
    "#data_test['sup_cub']/data_test['const_index']\n",
    "data_test_final['sup_total'].fillna(data_test_final['sup_cub']/data_test_final['const_index'],inplace=True)\n",
    "data_test_final['sup_descub'].fillna((data_test_final['sup_total']-data_test_final['sup_cub']),inplace=True)"
   ]
  },
  {
   "cell_type": "code",
   "execution_count": 120,
   "metadata": {},
   "outputs": [],
   "source": [
    "data_train_final['cub_desc'] = data_train_final['sup_cub']*data_train_final['sup_descub']\n",
    "data_train_final['sup_por_room'] = data_train_final['sup_cub']/data_train_final['rooms']"
   ]
  },
  {
   "cell_type": "code",
   "execution_count": 121,
   "metadata": {
    "scrolled": true
   },
   "outputs": [
    {
     "data": {
      "text/plain": [
       "sup_cub         0\n",
       "sup_total       0\n",
       "sup_descub      0\n",
       "cub_desc        0\n",
       "sup_por_room    0\n",
       "dtype: int64"
      ]
     },
     "execution_count": 121,
     "metadata": {},
     "output_type": "execute_result"
    }
   ],
   "source": [
    "data_train_final[['sup_cub','sup_total','sup_descub','cub_desc','sup_por_room']].isna().sum()"
   ]
  },
  {
   "cell_type": "code",
   "execution_count": 122,
   "metadata": {},
   "outputs": [],
   "source": [
    "data_test_final['cub_desc'] = data_test_final['sup_cub']*data_test_final['sup_descub']\n",
    "data_test_final['sup_por_room'] = data_test_final['sup_cub']/data_test_final['rooms']"
   ]
  },
  {
   "cell_type": "code",
   "execution_count": 123,
   "metadata": {},
   "outputs": [
    {
     "data": {
      "text/plain": [
       "sup_cub         0\n",
       "sup_total       0\n",
       "sup_descub      0\n",
       "cub_desc        0\n",
       "sup_por_room    0\n",
       "dtype: int64"
      ]
     },
     "execution_count": 123,
     "metadata": {},
     "output_type": "execute_result"
    }
   ],
   "source": [
    "data_test_final[['sup_cub','sup_total','sup_descub','cub_desc','sup_por_room']].isna().sum()"
   ]
  },
  {
   "cell_type": "code",
   "execution_count": 124,
   "metadata": {},
   "outputs": [],
   "source": [
    "poly_vars = ['floor','rooms','sup_cub','sup_descub','sup_por_room']\n",
    "y_column = ['price_usd_per_m2']\n",
    "poly_drop = ['tipo_propiedad', 'Barrio','price_usd','sup_total','const_index','cub_desc']\n",
    "data_train3 = data_train_final.drop(columns=poly_drop).copy()\n",
    "y_train = data_train_final[y_column[0]]\n",
    "data_test3 = data_test_final.drop(columns=poly_drop).copy()\n",
    "y_test = data_test_final[y_column[0]]\n",
    "\n",
    "X_train_pol3,X_test_pol3 = get_poly_X(poly_vars = poly_vars, y_var = y_column, df_train = data_train3, df_test = data_test3,degree=3)\n",
    "\n",
    "Xs_train_pol3 = stdscalerX.fit_transform(X_train_pol3)\n",
    "ys_train_pol3 = y_train\n",
    "\n",
    "Xs_test_pol3 = stdscalerX.transform(X_test_pol3)\n",
    "ys_test_pol3 = y_test"
   ]
  },
  {
   "cell_type": "code",
   "execution_count": 125,
   "metadata": {},
   "outputs": [
    {
     "data": {
      "text/plain": [
       "(100, 64)"
      ]
     },
     "execution_count": 125,
     "metadata": {},
     "output_type": "execute_result"
    }
   ],
   "source": [
    "data_test3.shape"
   ]
  },
  {
   "cell_type": "code",
   "execution_count": 126,
   "metadata": {},
   "outputs": [],
   "source": [
    "#Linear Model\n",
    "lm = LinearRegression()\n",
    "model_linreg3 = lm.fit(Xs_train_pol3, ys_train_pol3)"
   ]
  },
  {
   "cell_type": "markdown",
   "metadata": {},
   "source": [
    "CrossValidation Score:"
   ]
  },
  {
   "cell_type": "code",
   "execution_count": 127,
   "metadata": {
    "scrolled": true
   },
   "outputs": [
    {
     "name": "stdout",
     "output_type": "stream",
     "text": [
      "[-1.421e+23  5.538e-01  5.488e-01  6.050e-01  5.587e-01]\n",
      "[0.6   0.548 0.533 0.567 0.552]\n",
      "[0.559 0.563 0.555 0.582 0.56 ]\n",
      "[0.579 0.555 0.564 0.538 0.569]\n",
      "[ 5.628e-01  5.977e-01 -3.747e+22  5.407e-01  5.833e-01]\n",
      "[0.531 0.593 0.566 0.569 0.55 ]\n",
      "[0.451 0.555 0.569 0.571 0.585]\n",
      "[0.512 0.58  0.57  0.527 0.558]\n",
      "[0.569 0.577 0.549 0.569 0.534]\n",
      "[0.564 0.558 0.581 0.559 0.545]\n"
     ]
    }
   ],
   "source": [
    "for _ in range(10):\n",
    "    kf3 = KFold(n_splits=5, shuffle=True)\n",
    "    print(cross_val_score(model_linreg3, Xs_train_pol3, ys_train_pol3, cv=kf3))  "
   ]
  },
  {
   "cell_type": "code",
   "execution_count": 128,
   "metadata": {},
   "outputs": [
    {
     "name": "stdout",
     "output_type": "stream",
     "text": [
      "Train set\n",
      "----------------------------\n",
      "MAE: 361.283262\n",
      "MSE: 241094.181849\n",
      "RMSE: 491.013423\n",
      "R2: 0.5736\n",
      "Test set\n",
      "----------------------------\n",
      "MAE: 396.288387\n",
      "MSE: 256381.758887\n",
      "RMSE: 506.341544\n",
      "R2: 0.5029\n"
     ]
    }
   ],
   "source": [
    "y_pred_tr = model_linreg3.predict(Xs_train_pol3)\n",
    "y_pred_ts = model_linreg3.predict(Xs_test_pol3)\n",
    "\n",
    "print(\"Train set\")\n",
    "print(\"----------------------------\")\n",
    "print_metrics(y_train,y_pred_tr)\n",
    "print(\"Test set\")\n",
    "print(\"----------------------------\")\n",
    "print_metrics(y_test,y_pred_ts)\n"
   ]
  },
  {
   "cell_type": "code",
   "execution_count": 129,
   "metadata": {},
   "outputs": [],
   "source": [
    "#portfolio = pd.DataFrame(y_test).rename(columns={'price_usd_per_m2':'Real_Price'})\n",
    "#portfolio.head(10)"
   ]
  },
  {
   "cell_type": "code",
   "execution_count": 130,
   "metadata": {},
   "outputs": [],
   "source": [
    "#portfolio['Model_Prediction']=y_pred_ts\n",
    "#precios_modelo = pd.DataFrame(y_pred_ts,columns={'Model_Prediction'})\n",
    "#portfolio.head(10)"
   ]
  },
  {
   "cell_type": "code",
   "execution_count": 131,
   "metadata": {
    "scrolled": true
   },
   "outputs": [],
   "source": [
    "#portfolio['diff'] = portfolio['Real_Price']-portfolio['Model_Prediction']\n",
    "#portfolio['Sobre/Sub'] = portfolio['diff'].apply(lambda x: 'Sobrevaluado' if x<0 else 'Subvaluado')\n",
    "#portfolio['abs_diff']=portfolio['diff'].abs()\n",
    "#portfolio.head(10)"
   ]
  },
  {
   "cell_type": "code",
   "execution_count": 132,
   "metadata": {},
   "outputs": [],
   "source": [
    "#plt.bar(x='Sobrevaluado',height=sobrevaluados)\n",
    "#plt.bar(x='Subvaluado',height=subvaluados)\n",
    "#plt.ylim([0,100])"
   ]
  },
  {
   "cell_type": "code",
   "execution_count": 133,
   "metadata": {},
   "outputs": [],
   "source": [
    "#portfolio.plot(y=['Real_Price','Model_Prediction'],kind='bar',figsize=(16,16))"
   ]
  },
  {
   "cell_type": "code",
   "execution_count": 134,
   "metadata": {},
   "outputs": [],
   "source": [
    "#port_df = portfolio.reset_index().drop(columns='index').reset_index()\n",
    "#port_plot_df = port_df.sample(100)\n",
    "#display(port_plot_df)\n",
    "#port_plot_df.plot(kind='scatter',x='index',y='diff',figsize=(8,6))\n",
    "#plt.figure(figsize=(14,10))\n",
    "#plt.stem(port_plot_df['index'],port_plot_df['diff'])\n",
    "#plt.ylabel('Real Value - Predicted Value',fontsize=16)\n",
    "#plt.savefig('../Images/CABA/Capital Portfolio.png')"
   ]
  },
  {
   "cell_type": "code",
   "execution_count": 135,
   "metadata": {},
   "outputs": [
    {
     "data": {
      "text/html": [
       "<div>\n",
       "<style scoped>\n",
       "    .dataframe tbody tr th:only-of-type {\n",
       "        vertical-align: middle;\n",
       "    }\n",
       "\n",
       "    .dataframe tbody tr th {\n",
       "        vertical-align: top;\n",
       "    }\n",
       "\n",
       "    .dataframe thead th {\n",
       "        text-align: right;\n",
       "    }\n",
       "</style>\n",
       "<table border=\"1\" class=\"dataframe\">\n",
       "  <thead>\n",
       "    <tr style=\"text-align: right;\">\n",
       "      <th></th>\n",
       "      <th>Real_Price</th>\n",
       "      <th>Model_Prediction</th>\n",
       "      <th>diff</th>\n",
       "      <th>Sobre/Sub</th>\n",
       "      <th>abs_diff</th>\n",
       "    </tr>\n",
       "  </thead>\n",
       "  <tbody>\n",
       "    <tr>\n",
       "      <th>2570</th>\n",
       "      <td>1500.000000</td>\n",
       "      <td>1684.563164</td>\n",
       "      <td>184.563164</td>\n",
       "      <td>Sobrevaluado</td>\n",
       "      <td>184.563164</td>\n",
       "    </tr>\n",
       "    <tr>\n",
       "      <th>9087</th>\n",
       "      <td>2115.094340</td>\n",
       "      <td>2312.125664</td>\n",
       "      <td>197.031325</td>\n",
       "      <td>Sobrevaluado</td>\n",
       "      <td>197.031325</td>\n",
       "    </tr>\n",
       "    <tr>\n",
       "      <th>5678</th>\n",
       "      <td>2438.596154</td>\n",
       "      <td>2646.813164</td>\n",
       "      <td>208.217010</td>\n",
       "      <td>Sobrevaluado</td>\n",
       "      <td>208.217010</td>\n",
       "    </tr>\n",
       "    <tr>\n",
       "      <th>11216</th>\n",
       "      <td>2307.692308</td>\n",
       "      <td>2427.781914</td>\n",
       "      <td>120.089606</td>\n",
       "      <td>Sobrevaluado</td>\n",
       "      <td>120.089606</td>\n",
       "    </tr>\n",
       "    <tr>\n",
       "      <th>9844</th>\n",
       "      <td>2962.169492</td>\n",
       "      <td>2661.250664</td>\n",
       "      <td>-300.918827</td>\n",
       "      <td>Subvaluado</td>\n",
       "      <td>300.918827</td>\n",
       "    </tr>\n",
       "    <tr>\n",
       "      <th>2413</th>\n",
       "      <td>1233.333333</td>\n",
       "      <td>1881.641289</td>\n",
       "      <td>648.307956</td>\n",
       "      <td>Sobrevaluado</td>\n",
       "      <td>648.307956</td>\n",
       "    </tr>\n",
       "    <tr>\n",
       "      <th>11878</th>\n",
       "      <td>2493.543478</td>\n",
       "      <td>2293.969414</td>\n",
       "      <td>-199.574064</td>\n",
       "      <td>Subvaluado</td>\n",
       "      <td>199.574064</td>\n",
       "    </tr>\n",
       "    <tr>\n",
       "      <th>9295</th>\n",
       "      <td>2421.052632</td>\n",
       "      <td>2290.819024</td>\n",
       "      <td>-130.233608</td>\n",
       "      <td>Subvaluado</td>\n",
       "      <td>130.233608</td>\n",
       "    </tr>\n",
       "    <tr>\n",
       "      <th>7075</th>\n",
       "      <td>2407.407407</td>\n",
       "      <td>2081.058281</td>\n",
       "      <td>-326.349126</td>\n",
       "      <td>Subvaluado</td>\n",
       "      <td>326.349126</td>\n",
       "    </tr>\n",
       "    <tr>\n",
       "      <th>5793</th>\n",
       "      <td>2132.701422</td>\n",
       "      <td>2205.094414</td>\n",
       "      <td>72.392992</td>\n",
       "      <td>Sobrevaluado</td>\n",
       "      <td>72.392992</td>\n",
       "    </tr>\n",
       "  </tbody>\n",
       "</table>\n",
       "</div>"
      ],
      "text/plain": [
       "        Real_Price  Model_Prediction        diff     Sobre/Sub    abs_diff\n",
       "2570   1500.000000       1684.563164  184.563164  Sobrevaluado  184.563164\n",
       "9087   2115.094340       2312.125664  197.031325  Sobrevaluado  197.031325\n",
       "5678   2438.596154       2646.813164  208.217010  Sobrevaluado  208.217010\n",
       "11216  2307.692308       2427.781914  120.089606  Sobrevaluado  120.089606\n",
       "9844   2962.169492       2661.250664 -300.918827    Subvaluado  300.918827\n",
       "2413   1233.333333       1881.641289  648.307956  Sobrevaluado  648.307956\n",
       "11878  2493.543478       2293.969414 -199.574064    Subvaluado  199.574064\n",
       "9295   2421.052632       2290.819024 -130.233608    Subvaluado  130.233608\n",
       "7075   2407.407407       2081.058281 -326.349126    Subvaluado  326.349126\n",
       "5793   2132.701422       2205.094414   72.392992  Sobrevaluado   72.392992"
      ]
     },
     "execution_count": 135,
     "metadata": {},
     "output_type": "execute_result"
    }
   ],
   "source": [
    "portfolio = pd.DataFrame(y_test).rename(columns={'price_usd_per_m2':'Real_Price'})\n",
    "portfolio['Model_Prediction']=y_pred_ts\n",
    "portfolio['diff'] = portfolio['Model_Prediction']-portfolio['Real_Price']\n",
    "portfolio['Sobre/Sub'] = portfolio['diff'].apply(lambda x: 'Sobrevaluado' if x>0 else 'Subvaluado')\n",
    "portfolio['abs_diff']=portfolio['diff'].abs()\n",
    "portfolio.head(10)"
   ]
  },
  {
   "cell_type": "code",
   "execution_count": 136,
   "metadata": {},
   "outputs": [
    {
     "data": {
      "text/plain": [
       "(51, 49)"
      ]
     },
     "execution_count": 136,
     "metadata": {},
     "output_type": "execute_result"
    }
   ],
   "source": [
    "sobrevaluados = portfolio.loc[portfolio['Sobre/Sub']=='Sobrevaluado','Sobre/Sub'].count()\n",
    "subvaluados = portfolio.loc[portfolio['Sobre/Sub']=='Subvaluado','Sobre/Sub'].count()\n",
    "sobrevaluados,subvaluados"
   ]
  },
  {
   "cell_type": "code",
   "execution_count": 137,
   "metadata": {},
   "outputs": [
    {
     "data": {
      "text/html": [
       "<div>\n",
       "<style scoped>\n",
       "    .dataframe tbody tr th:only-of-type {\n",
       "        vertical-align: middle;\n",
       "    }\n",
       "\n",
       "    .dataframe tbody tr th {\n",
       "        vertical-align: top;\n",
       "    }\n",
       "\n",
       "    .dataframe thead th {\n",
       "        text-align: right;\n",
       "    }\n",
       "</style>\n",
       "<table border=\"1\" class=\"dataframe\">\n",
       "  <thead>\n",
       "    <tr style=\"text-align: right;\">\n",
       "      <th></th>\n",
       "      <th>Real_Price</th>\n",
       "      <th>Model_Prediction</th>\n",
       "      <th>diff</th>\n",
       "      <th>abs_diff</th>\n",
       "    </tr>\n",
       "  </thead>\n",
       "  <tbody>\n",
       "    <tr>\n",
       "      <th>count</th>\n",
       "      <td>100.000000</td>\n",
       "      <td>100.000000</td>\n",
       "      <td>100.000000</td>\n",
       "      <td>100.000000</td>\n",
       "    </tr>\n",
       "    <tr>\n",
       "      <th>mean</th>\n",
       "      <td>2398.341916</td>\n",
       "      <td>2347.507509</td>\n",
       "      <td>-50.834407</td>\n",
       "      <td>396.288387</td>\n",
       "    </tr>\n",
       "    <tr>\n",
       "      <th>std</th>\n",
       "      <td>721.808032</td>\n",
       "      <td>516.768452</td>\n",
       "      <td>506.321276</td>\n",
       "      <td>316.765971</td>\n",
       "    </tr>\n",
       "    <tr>\n",
       "      <th>min</th>\n",
       "      <td>513.888889</td>\n",
       "      <td>569.281914</td>\n",
       "      <td>-1607.561836</td>\n",
       "      <td>8.439001</td>\n",
       "    </tr>\n",
       "    <tr>\n",
       "      <th>25%</th>\n",
       "      <td>1914.565274</td>\n",
       "      <td>2011.922539</td>\n",
       "      <td>-336.146586</td>\n",
       "      <td>165.295254</td>\n",
       "    </tr>\n",
       "    <tr>\n",
       "      <th>50%</th>\n",
       "      <td>2344.288793</td>\n",
       "      <td>2317.418633</td>\n",
       "      <td>19.741968</td>\n",
       "      <td>318.945538</td>\n",
       "    </tr>\n",
       "    <tr>\n",
       "      <th>75%</th>\n",
       "      <td>2869.629808</td>\n",
       "      <td>2780.406914</td>\n",
       "      <td>301.822855</td>\n",
       "      <td>535.289844</td>\n",
       "    </tr>\n",
       "    <tr>\n",
       "      <th>max</th>\n",
       "      <td>4180.000000</td>\n",
       "      <td>3197.008477</td>\n",
       "      <td>1115.082261</td>\n",
       "      <td>1607.561836</td>\n",
       "    </tr>\n",
       "  </tbody>\n",
       "</table>\n",
       "</div>"
      ],
      "text/plain": [
       "        Real_Price  Model_Prediction         diff     abs_diff\n",
       "count   100.000000        100.000000   100.000000   100.000000\n",
       "mean   2398.341916       2347.507509   -50.834407   396.288387\n",
       "std     721.808032        516.768452   506.321276   316.765971\n",
       "min     513.888889        569.281914 -1607.561836     8.439001\n",
       "25%    1914.565274       2011.922539  -336.146586   165.295254\n",
       "50%    2344.288793       2317.418633    19.741968   318.945538\n",
       "75%    2869.629808       2780.406914   301.822855   535.289844\n",
       "max    4180.000000       3197.008477  1115.082261  1607.561836"
      ]
     },
     "execution_count": 137,
     "metadata": {},
     "output_type": "execute_result"
    }
   ],
   "source": [
    "portfolio.describe()"
   ]
  },
  {
   "cell_type": "code",
   "execution_count": 138,
   "metadata": {},
   "outputs": [
    {
     "data": {
      "text/plain": [
       "(51, 49)"
      ]
     },
     "execution_count": 138,
     "metadata": {},
     "output_type": "execute_result"
    }
   ],
   "source": [
    "sobrevaluados = portfolio.loc[portfolio['Sobre/Sub']=='Sobrevaluado','Sobre/Sub'].count()\n",
    "subvaluados = portfolio.loc[portfolio['Sobre/Sub']=='Subvaluado','Sobre/Sub'].count()\n",
    "sobrevaluados,subvaluados"
   ]
  },
  {
   "cell_type": "code",
   "execution_count": 139,
   "metadata": {},
   "outputs": [],
   "source": [
    "#portfolio.plot(kind='scatter',x='Real_Price',y='Model_Prediction',figsize=(8,6))"
   ]
  },
  {
   "cell_type": "code",
   "execution_count": 140,
   "metadata": {},
   "outputs": [],
   "source": [
    "#plt.figure(figsize=(8,6))\n",
    "#sns.regplot(x=\"Real_Price\", y=\"Model_Prediction\", data=portfolio)"
   ]
  },
  {
   "cell_type": "code",
   "execution_count": 141,
   "metadata": {},
   "outputs": [],
   "source": [
    "#plt.figure(figsize=(8,6))\n",
    "#plt.scatter(x=ys_test_pol3, y =y_pred_ts)\n",
    "#plt.title('Valores predichos Vs. Valores Reales (Ridge)', fontsize=16)\n",
    "#plt.ylabel('Valores Predichos')\n",
    "#plt.xlabel('Valores Reales')"
   ]
  },
  {
   "cell_type": "code",
   "execution_count": 144,
   "metadata": {},
   "outputs": [
    {
     "data": {
      "image/png": "[encoded data removed]",
      "text/plain": [
       "<Figure size 1008x720 with 1 Axes>"
      ]
     },
     "metadata": {
      "needs_background": "light"
     },
     "output_type": "display_data"
    }
   ],
   "source": [
    "port_df = portfolio.reset_index().drop(columns='index').reset_index()\n",
    "port_plot_df = port_df.sample(100)\n",
    "#display(port_plot_df)\n",
    "#port_plot_df.plot(kind='scatter',x='index',y='diff',figsize=(8,6))\n",
    "plt.figure(figsize=(14,10))\n",
    "sobreval = port_plot_df.loc[port_plot_df['Sobre/Sub']=='Sobrevaluado']\n",
    "subval = port_plot_df.loc[port_plot_df['Sobre/Sub']=='Subvaluado']\n",
    "#plt.stem(port_plot_df['index'],port_plot_df['diff'])\n",
    "plt.stem(subval['index'],subval['diff'],linefmt='red',markerfmt='or',label='Subvaluado: '+str(sobrevaluados))\n",
    "plt.stem(sobreval['index'],sobreval['diff'],linefmt='green',markerfmt='og',label='Sobrevaluados: '+str(subvaluados))\n",
    "plt.legend(fontsize=16)\n",
    "plt.ylabel('Real Value - Predicted Value',fontsize=16)\n",
    "plt.savefig('../Images/CABA/Portfolio CABA.png')"
   ]
  },
  {
   "cell_type": "code",
   "execution_count": null,
   "metadata": {},
   "outputs": [],
   "source": []
  },
  {
   "cell_type": "code",
   "execution_count": null,
   "metadata": {},
   "outputs": [],
   "source": []
  }
 ],
 "metadata": {
  "kernelspec": {
   "display_name": "Python 3",
   "language": "python",
   "name": "python3"
  },
  "language_info": {
   "codemirror_mode": {
    "name": "ipython",
    "version": 3
   },
   "file_extension": ".py",
   "mimetype": "text/x-python",
   "name": "python",
   "nbconvert_exporter": "python",
   "pygments_lexer": "ipython3",
   "version": "3.7.1"
  }
 },
 "nbformat": 4,
 "nbformat_minor": 2
}
