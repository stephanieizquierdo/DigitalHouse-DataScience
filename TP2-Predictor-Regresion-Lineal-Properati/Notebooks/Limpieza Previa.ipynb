{
 "cells": [
  {
   "cell_type": "code",
   "execution_count": 1,
   "metadata": {},
   "outputs": [],
   "source": [
    "import numpy as np\n",
    "import pandas as pd\n",
    "import re\n",
    "import matplotlib.pyplot as plt\n",
    "import seaborn as sns"
   ]
  },
  {
   "cell_type": "code",
   "execution_count": 2,
   "metadata": {},
   "outputs": [],
   "source": [
    "#data = pd.read_csv('../Data/properatti.csv',index_col=0)\n",
    "data = pd.read_csv('../Data/properatti.csv',index_col=0)"
   ]
  },
  {
   "cell_type": "code",
   "execution_count": 3,
   "metadata": {},
   "outputs": [
    {
     "data": {
      "text/html": [
       "<div>\n",
       "<style scoped>\n",
       "    .dataframe tbody tr th:only-of-type {\n",
       "        vertical-align: middle;\n",
       "    }\n",
       "\n",
       "    .dataframe tbody tr th {\n",
       "        vertical-align: top;\n",
       "    }\n",
       "\n",
       "    .dataframe thead th {\n",
       "        text-align: right;\n",
       "    }\n",
       "</style>\n",
       "<table border=\"1\" class=\"dataframe\">\n",
       "  <thead>\n",
       "    <tr style=\"text-align: right;\">\n",
       "      <th></th>\n",
       "      <th>operation</th>\n",
       "      <th>property_type</th>\n",
       "      <th>place_name</th>\n",
       "      <th>place_with_parent_names</th>\n",
       "      <th>country_name</th>\n",
       "      <th>state_name</th>\n",
       "      <th>geonames_id</th>\n",
       "      <th>lat-lon</th>\n",
       "      <th>lat</th>\n",
       "      <th>lon</th>\n",
       "      <th>...</th>\n",
       "      <th>surface_covered_in_m2</th>\n",
       "      <th>price_usd_per_m2</th>\n",
       "      <th>price_per_m2</th>\n",
       "      <th>floor</th>\n",
       "      <th>rooms</th>\n",
       "      <th>expenses</th>\n",
       "      <th>properati_url</th>\n",
       "      <th>description</th>\n",
       "      <th>title</th>\n",
       "      <th>image_thumbnail</th>\n",
       "    </tr>\n",
       "  </thead>\n",
       "  <tbody>\n",
       "    <tr>\n",
       "      <th>0</th>\n",
       "      <td>sell</td>\n",
       "      <td>PH</td>\n",
       "      <td>Mataderos</td>\n",
       "      <td>|Argentina|Capital Federal|Mataderos|</td>\n",
       "      <td>Argentina</td>\n",
       "      <td>Capital Federal</td>\n",
       "      <td>3430787.0</td>\n",
       "      <td>-34.6618237,-58.5088387</td>\n",
       "      <td>-34.661824</td>\n",
       "      <td>-58.508839</td>\n",
       "      <td>...</td>\n",
       "      <td>40.0</td>\n",
       "      <td>1127.272727</td>\n",
       "      <td>1550.000000</td>\n",
       "      <td>NaN</td>\n",
       "      <td>NaN</td>\n",
       "      <td>NaN</td>\n",
       "      <td>http://www.properati.com.ar/15bo8_venta_ph_mat...</td>\n",
       "      <td>2 AMBIENTES TIPO CASA PLANTA BAJA POR PASILLO,...</td>\n",
       "      <td>2 AMB TIPO CASA SIN EXPENSAS EN PB</td>\n",
       "      <td>https://thumbs4.properati.com/8/BluUYiHJLhgIIK...</td>\n",
       "    </tr>\n",
       "    <tr>\n",
       "      <th>1</th>\n",
       "      <td>sell</td>\n",
       "      <td>apartment</td>\n",
       "      <td>La Plata</td>\n",
       "      <td>|Argentina|Bs.As. G.B.A. Zona Sur|La Plata|</td>\n",
       "      <td>Argentina</td>\n",
       "      <td>Bs.As. G.B.A. Zona Sur</td>\n",
       "      <td>3432039.0</td>\n",
       "      <td>-34.9038831,-57.9643295</td>\n",
       "      <td>-34.903883</td>\n",
       "      <td>-57.964330</td>\n",
       "      <td>...</td>\n",
       "      <td>NaN</td>\n",
       "      <td>NaN</td>\n",
       "      <td>NaN</td>\n",
       "      <td>NaN</td>\n",
       "      <td>NaN</td>\n",
       "      <td>NaN</td>\n",
       "      <td>http://www.properati.com.ar/15bob_venta_depart...</td>\n",
       "      <td>Venta de departamento en décimo piso al frente...</td>\n",
       "      <td>VENTA Depto 2 dorm. a estrenar 7 e/ 36 y 37   ...</td>\n",
       "      <td>https://thumbs4.properati.com/7/ikpVBu2ztHA7jv...</td>\n",
       "    </tr>\n",
       "    <tr>\n",
       "      <th>2</th>\n",
       "      <td>sell</td>\n",
       "      <td>apartment</td>\n",
       "      <td>Mataderos</td>\n",
       "      <td>|Argentina|Capital Federal|Mataderos|</td>\n",
       "      <td>Argentina</td>\n",
       "      <td>Capital Federal</td>\n",
       "      <td>3430787.0</td>\n",
       "      <td>-34.6522615,-58.5229825</td>\n",
       "      <td>-34.652262</td>\n",
       "      <td>-58.522982</td>\n",
       "      <td>...</td>\n",
       "      <td>55.0</td>\n",
       "      <td>1309.090909</td>\n",
       "      <td>1309.090909</td>\n",
       "      <td>NaN</td>\n",
       "      <td>NaN</td>\n",
       "      <td>NaN</td>\n",
       "      <td>http://www.properati.com.ar/15bod_venta_depart...</td>\n",
       "      <td>2 AMBIENTES 3ER PISO LATERAL LIVING COMEDOR AM...</td>\n",
       "      <td>2 AMB 3ER PISO CON ASCENSOR APTO CREDITO</td>\n",
       "      <td>https://thumbs4.properati.com/5/SXKr34F_IwG3W_...</td>\n",
       "    </tr>\n",
       "    <tr>\n",
       "      <th>3</th>\n",
       "      <td>sell</td>\n",
       "      <td>PH</td>\n",
       "      <td>Liniers</td>\n",
       "      <td>|Argentina|Capital Federal|Liniers|</td>\n",
       "      <td>Argentina</td>\n",
       "      <td>Capital Federal</td>\n",
       "      <td>3431333.0</td>\n",
       "      <td>-34.6477969,-58.5164244</td>\n",
       "      <td>-34.647797</td>\n",
       "      <td>-58.516424</td>\n",
       "      <td>...</td>\n",
       "      <td>NaN</td>\n",
       "      <td>NaN</td>\n",
       "      <td>NaN</td>\n",
       "      <td>NaN</td>\n",
       "      <td>NaN</td>\n",
       "      <td>NaN</td>\n",
       "      <td>http://www.properati.com.ar/15boh_venta_ph_lin...</td>\n",
       "      <td>PH 3 ambientes con patio. Hay 3 deptos en lote...</td>\n",
       "      <td>PH 3 amb. cfte. reciclado</td>\n",
       "      <td>https://thumbs4.properati.com/3/DgIfX-85Mog5SP...</td>\n",
       "    </tr>\n",
       "    <tr>\n",
       "      <th>4</th>\n",
       "      <td>sell</td>\n",
       "      <td>apartment</td>\n",
       "      <td>Centro</td>\n",
       "      <td>|Argentina|Buenos Aires Costa Atlántica|Mar de...</td>\n",
       "      <td>Argentina</td>\n",
       "      <td>Buenos Aires Costa Atlántica</td>\n",
       "      <td>3435548.0</td>\n",
       "      <td>-38.0026256,-57.5494468</td>\n",
       "      <td>-38.002626</td>\n",
       "      <td>-57.549447</td>\n",
       "      <td>...</td>\n",
       "      <td>35.0</td>\n",
       "      <td>1828.571429</td>\n",
       "      <td>1828.571429</td>\n",
       "      <td>NaN</td>\n",
       "      <td>NaN</td>\n",
       "      <td>NaN</td>\n",
       "      <td>http://www.properati.com.ar/15bok_venta_depart...</td>\n",
       "      <td>DEPARTAMENTO CON FANTÁSTICA ILUMINACIÓN NATURA...</td>\n",
       "      <td>DEPTO 2 AMB AL CONTRAFRENTE ZONA CENTRO/PLAZA ...</td>\n",
       "      <td>https://thumbs4.properati.com/5/xrRqlNcSI_vs-f...</td>\n",
       "    </tr>\n",
       "  </tbody>\n",
       "</table>\n",
       "<p>5 rows × 25 columns</p>\n",
       "</div>"
      ],
      "text/plain": [
       "  operation property_type place_name  \\\n",
       "0      sell            PH  Mataderos   \n",
       "1      sell     apartment   La Plata   \n",
       "2      sell     apartment  Mataderos   \n",
       "3      sell            PH    Liniers   \n",
       "4      sell     apartment     Centro   \n",
       "\n",
       "                             place_with_parent_names country_name  \\\n",
       "0              |Argentina|Capital Federal|Mataderos|    Argentina   \n",
       "1        |Argentina|Bs.As. G.B.A. Zona Sur|La Plata|    Argentina   \n",
       "2              |Argentina|Capital Federal|Mataderos|    Argentina   \n",
       "3                |Argentina|Capital Federal|Liniers|    Argentina   \n",
       "4  |Argentina|Buenos Aires Costa Atlántica|Mar de...    Argentina   \n",
       "\n",
       "                     state_name  geonames_id                  lat-lon  \\\n",
       "0               Capital Federal    3430787.0  -34.6618237,-58.5088387   \n",
       "1        Bs.As. G.B.A. Zona Sur    3432039.0  -34.9038831,-57.9643295   \n",
       "2               Capital Federal    3430787.0  -34.6522615,-58.5229825   \n",
       "3               Capital Federal    3431333.0  -34.6477969,-58.5164244   \n",
       "4  Buenos Aires Costa Atlántica    3435548.0  -38.0026256,-57.5494468   \n",
       "\n",
       "         lat        lon  ...  surface_covered_in_m2 price_usd_per_m2  \\\n",
       "0 -34.661824 -58.508839  ...                   40.0      1127.272727   \n",
       "1 -34.903883 -57.964330  ...                    NaN              NaN   \n",
       "2 -34.652262 -58.522982  ...                   55.0      1309.090909   \n",
       "3 -34.647797 -58.516424  ...                    NaN              NaN   \n",
       "4 -38.002626 -57.549447  ...                   35.0      1828.571429   \n",
       "\n",
       "   price_per_m2  floor  rooms  expenses  \\\n",
       "0   1550.000000    NaN    NaN       NaN   \n",
       "1           NaN    NaN    NaN       NaN   \n",
       "2   1309.090909    NaN    NaN       NaN   \n",
       "3           NaN    NaN    NaN       NaN   \n",
       "4   1828.571429    NaN    NaN       NaN   \n",
       "\n",
       "                                       properati_url  \\\n",
       "0  http://www.properati.com.ar/15bo8_venta_ph_mat...   \n",
       "1  http://www.properati.com.ar/15bob_venta_depart...   \n",
       "2  http://www.properati.com.ar/15bod_venta_depart...   \n",
       "3  http://www.properati.com.ar/15boh_venta_ph_lin...   \n",
       "4  http://www.properati.com.ar/15bok_venta_depart...   \n",
       "\n",
       "                                         description  \\\n",
       "0  2 AMBIENTES TIPO CASA PLANTA BAJA POR PASILLO,...   \n",
       "1  Venta de departamento en décimo piso al frente...   \n",
       "2  2 AMBIENTES 3ER PISO LATERAL LIVING COMEDOR AM...   \n",
       "3  PH 3 ambientes con patio. Hay 3 deptos en lote...   \n",
       "4  DEPARTAMENTO CON FANTÁSTICA ILUMINACIÓN NATURA...   \n",
       "\n",
       "                                               title  \\\n",
       "0                 2 AMB TIPO CASA SIN EXPENSAS EN PB   \n",
       "1  VENTA Depto 2 dorm. a estrenar 7 e/ 36 y 37   ...   \n",
       "2           2 AMB 3ER PISO CON ASCENSOR APTO CREDITO   \n",
       "3                       PH 3 amb. cfte. reciclado      \n",
       "4  DEPTO 2 AMB AL CONTRAFRENTE ZONA CENTRO/PLAZA ...   \n",
       "\n",
       "                                     image_thumbnail  \n",
       "0  https://thumbs4.properati.com/8/BluUYiHJLhgIIK...  \n",
       "1  https://thumbs4.properati.com/7/ikpVBu2ztHA7jv...  \n",
       "2  https://thumbs4.properati.com/5/SXKr34F_IwG3W_...  \n",
       "3  https://thumbs4.properati.com/3/DgIfX-85Mog5SP...  \n",
       "4  https://thumbs4.properati.com/5/xrRqlNcSI_vs-f...  \n",
       "\n",
       "[5 rows x 25 columns]"
      ]
     },
     "execution_count": 3,
     "metadata": {},
     "output_type": "execute_result"
    }
   ],
   "source": [
    "data.head(5)"
   ]
  },
  {
   "cell_type": "code",
   "execution_count": 4,
   "metadata": {},
   "outputs": [
    {
     "data": {
      "text/plain": [
       "Index(['operation', 'property_type', 'place_name', 'place_with_parent_names',\n",
       "       'country_name', 'state_name', 'geonames_id', 'lat-lon', 'lat', 'lon',\n",
       "       'price', 'currency', 'price_aprox_local_currency', 'price_aprox_usd',\n",
       "       'surface_total_in_m2', 'surface_covered_in_m2', 'price_usd_per_m2',\n",
       "       'price_per_m2', 'floor', 'rooms', 'expenses', 'properati_url',\n",
       "       'description', 'title', 'image_thumbnail'],\n",
       "      dtype='object')"
      ]
     },
     "execution_count": 4,
     "metadata": {},
     "output_type": "execute_result"
    }
   ],
   "source": [
    "data.columns"
   ]
  },
  {
   "cell_type": "code",
   "execution_count": 5,
   "metadata": {},
   "outputs": [],
   "source": [
    "nodesc_index = data.loc[data['description'].isna()].index\n",
    "data.drop(index=nodesc_index,inplace=True)"
   ]
  },
  {
   "cell_type": "markdown",
   "metadata": {},
   "source": [
    "# Valores faltantes de 'place_name'\n",
    "\n",
    "Se aprecia que todos los valores faltantes de 'place_name' corresponden a Tigre. Podríamos generar una función para tomar este valore de la columna 'place_with_parent_name', pero lo vamos a hardcodear."
   ]
  },
  {
   "cell_type": "code",
   "execution_count": 6,
   "metadata": {},
   "outputs": [],
   "source": [
    "def get_all_place_names(text):\n",
    "    places_lst = [item for item in text.split(sep='|') if len(item)>0]\n",
    "    return('|'.join(places_lst))\n",
    "    #return places_lst\n",
    "\n",
    "def get_all_place_number(text):\n",
    "    places_lst = [item for item in text.split(sep='|') if len(item)>0]\n",
    "    return len(places_lst)\n",
    "\n",
    "\n",
    "def get_place_names(text):\n",
    "    place_names = text.split(sep='|')\n",
    "    place_names = [item for item in place_names if len(item)>0]\n",
    "    place_names = place_names[0:-1]\n",
    "    complete_names = '|'.join(place_names)\n",
    "    return '|'+complete_names+'|'"
   ]
  },
  {
   "cell_type": "code",
   "execution_count": 7,
   "metadata": {
    "scrolled": true
   },
   "outputs": [],
   "source": [
    "data['place_name'].fillna('Tigre',inplace=True)\n",
    "#data.groupby('place_name')['place_name'].unique()"
   ]
  },
  {
   "cell_type": "markdown",
   "metadata": {},
   "source": [
    "Vemos un lugar que se llama 'coordenadas 34.255511'. Vamos a verificar qué lugar es en realidad.\n"
   ]
  },
  {
   "cell_type": "code",
   "execution_count": 8,
   "metadata": {
    "scrolled": true
   },
   "outputs": [
    {
     "data": {
      "text/plain": [
       "array(['|Argentina|Bs.As. G.B.A. Zona Norte|Tigre|coordenadas 34.255511|'],\n",
       "      dtype=object)"
      ]
     },
     "execution_count": 8,
     "metadata": {},
     "output_type": "execute_result"
    }
   ],
   "source": [
    "data.loc[data['place_name']=='coordenadas 34.255511','place_with_parent_names'].values"
   ]
  },
  {
   "cell_type": "markdown",
   "metadata": {},
   "source": [
    "Es Tigre. También hay que arreglarlo."
   ]
  },
  {
   "cell_type": "code",
   "execution_count": 9,
   "metadata": {},
   "outputs": [],
   "source": [
    "data.loc[data['place_name']=='coordenadas 34.255511','place_with_parent_names']=get_place_names(data.loc[data['place_name']=='coordenadas 34.255511','place_with_parent_names'].values[0])\n",
    "data.loc[data['place_name']=='coordenadas 34.255511','place_name']='Tigre'"
   ]
  },
  {
   "cell_type": "code",
   "execution_count": 10,
   "metadata": {
    "scrolled": true
   },
   "outputs": [
    {
     "data": {
      "text/html": [
       "<div>\n",
       "<style scoped>\n",
       "    .dataframe tbody tr th:only-of-type {\n",
       "        vertical-align: middle;\n",
       "    }\n",
       "\n",
       "    .dataframe tbody tr th {\n",
       "        vertical-align: top;\n",
       "    }\n",
       "\n",
       "    .dataframe thead th {\n",
       "        text-align: right;\n",
       "    }\n",
       "</style>\n",
       "<table border=\"1\" class=\"dataframe\">\n",
       "  <thead>\n",
       "    <tr style=\"text-align: right;\">\n",
       "      <th></th>\n",
       "      <th>operation</th>\n",
       "      <th>property_type</th>\n",
       "      <th>place_name</th>\n",
       "      <th>place_with_parent_names</th>\n",
       "      <th>country_name</th>\n",
       "      <th>state_name</th>\n",
       "      <th>geonames_id</th>\n",
       "      <th>lat-lon</th>\n",
       "      <th>lat</th>\n",
       "      <th>lon</th>\n",
       "      <th>...</th>\n",
       "      <th>surface_covered_in_m2</th>\n",
       "      <th>price_usd_per_m2</th>\n",
       "      <th>price_per_m2</th>\n",
       "      <th>floor</th>\n",
       "      <th>rooms</th>\n",
       "      <th>expenses</th>\n",
       "      <th>properati_url</th>\n",
       "      <th>description</th>\n",
       "      <th>title</th>\n",
       "      <th>image_thumbnail</th>\n",
       "    </tr>\n",
       "  </thead>\n",
       "  <tbody>\n",
       "  </tbody>\n",
       "</table>\n",
       "<p>0 rows × 25 columns</p>\n",
       "</div>"
      ],
      "text/plain": [
       "Empty DataFrame\n",
       "Columns: [operation, property_type, place_name, place_with_parent_names, country_name, state_name, geonames_id, lat-lon, lat, lon, price, currency, price_aprox_local_currency, price_aprox_usd, surface_total_in_m2, surface_covered_in_m2, price_usd_per_m2, price_per_m2, floor, rooms, expenses, properati_url, description, title, image_thumbnail]\n",
       "Index: []\n",
       "\n",
       "[0 rows x 25 columns]"
      ]
     },
     "execution_count": 10,
     "metadata": {},
     "output_type": "execute_result"
    }
   ],
   "source": [
    "data.loc[data['place_name']=='coordenadas 34.255511']"
   ]
  },
  {
   "cell_type": "code",
   "execution_count": 11,
   "metadata": {},
   "outputs": [],
   "source": [
    "data['place_name'] = data['place_name'].str.strip(' ').str.capitalize()"
   ]
  },
  {
   "cell_type": "code",
   "execution_count": 12,
   "metadata": {},
   "outputs": [
    {
     "data": {
      "text/plain": [
       "Capital Federal             1198\n",
       "Bs.As. G.B.A. Zona Norte     548\n",
       "Name: Provincia, dtype: int64"
      ]
     },
     "execution_count": 12,
     "metadata": {},
     "output_type": "execute_result"
    }
   ],
   "source": [
    "columnas = {0: 'Pais', 1:'Provincia', 2:'Ciudad', 3:'Barrio', 4:'Sub-Barrio'}\n",
    "location_df = data['place_with_parent_names'].apply(get_all_place_names).str.split(pat='|',expand=True).rename(columns=columnas)\n",
    "location_df.loc[location_df['Provincia']=='Capital Federal','Sub-Barrio'] = location_df.loc[location_df['Provincia']=='Capital Federal','Barrio']\n",
    "location_df.loc[location_df['Provincia']=='Capital Federal','Barrio'] = location_df.loc[location_df['Provincia']=='Capital Federal','Ciudad']\n",
    "location_df.loc[location_df['Provincia']=='Capital Federal','Ciudad'] = location_df.loc[location_df['Provincia']=='Capital Federal','Provincia']\n",
    "location_df.loc[location_df['Sub-Barrio'].notnull(),'Provincia'].value_counts()"
   ]
  },
  {
   "cell_type": "code",
   "execution_count": 13,
   "metadata": {},
   "outputs": [
    {
     "data": {
      "text/html": [
       "<div>\n",
       "<style scoped>\n",
       "    .dataframe tbody tr th:only-of-type {\n",
       "        vertical-align: middle;\n",
       "    }\n",
       "\n",
       "    .dataframe tbody tr th {\n",
       "        vertical-align: top;\n",
       "    }\n",
       "\n",
       "    .dataframe thead th {\n",
       "        text-align: right;\n",
       "    }\n",
       "</style>\n",
       "<table border=\"1\" class=\"dataframe\">\n",
       "  <thead>\n",
       "    <tr style=\"text-align: right;\">\n",
       "      <th></th>\n",
       "      <th>Pais</th>\n",
       "      <th>Provincia</th>\n",
       "      <th>Ciudad</th>\n",
       "      <th>Barrio</th>\n",
       "      <th>Sub-Barrio</th>\n",
       "    </tr>\n",
       "  </thead>\n",
       "  <tbody>\n",
       "    <tr>\n",
       "      <th>0</th>\n",
       "      <td>Argentina</td>\n",
       "      <td>Capital Federal</td>\n",
       "      <td>Capital Federal</td>\n",
       "      <td>Mataderos</td>\n",
       "      <td>None</td>\n",
       "    </tr>\n",
       "    <tr>\n",
       "      <th>1</th>\n",
       "      <td>Argentina</td>\n",
       "      <td>Bs.As. G.B.A. Zona Sur</td>\n",
       "      <td>La Plata</td>\n",
       "      <td>None</td>\n",
       "      <td>None</td>\n",
       "    </tr>\n",
       "    <tr>\n",
       "      <th>2</th>\n",
       "      <td>Argentina</td>\n",
       "      <td>Capital Federal</td>\n",
       "      <td>Capital Federal</td>\n",
       "      <td>Mataderos</td>\n",
       "      <td>None</td>\n",
       "    </tr>\n",
       "    <tr>\n",
       "      <th>3</th>\n",
       "      <td>Argentina</td>\n",
       "      <td>Capital Federal</td>\n",
       "      <td>Capital Federal</td>\n",
       "      <td>Liniers</td>\n",
       "      <td>None</td>\n",
       "    </tr>\n",
       "    <tr>\n",
       "      <th>4</th>\n",
       "      <td>Argentina</td>\n",
       "      <td>Buenos Aires Costa Atlántica</td>\n",
       "      <td>Mar del Plata</td>\n",
       "      <td>Centro</td>\n",
       "      <td>None</td>\n",
       "    </tr>\n",
       "  </tbody>\n",
       "</table>\n",
       "</div>"
      ],
      "text/plain": [
       "        Pais                     Provincia           Ciudad     Barrio  \\\n",
       "0  Argentina               Capital Federal  Capital Federal  Mataderos   \n",
       "1  Argentina        Bs.As. G.B.A. Zona Sur         La Plata       None   \n",
       "2  Argentina               Capital Federal  Capital Federal  Mataderos   \n",
       "3  Argentina               Capital Federal  Capital Federal    Liniers   \n",
       "4  Argentina  Buenos Aires Costa Atlántica    Mar del Plata     Centro   \n",
       "\n",
       "  Sub-Barrio  \n",
       "0       None  \n",
       "1       None  \n",
       "2       None  \n",
       "3       None  \n",
       "4       None  "
      ]
     },
     "execution_count": 13,
     "metadata": {},
     "output_type": "execute_result"
    }
   ],
   "source": [
    "location_df.head()"
   ]
  },
  {
   "cell_type": "code",
   "execution_count": 14,
   "metadata": {
    "scrolled": true
   },
   "outputs": [
    {
     "data": {
      "text/html": [
       "<div>\n",
       "<style scoped>\n",
       "    .dataframe tbody tr th:only-of-type {\n",
       "        vertical-align: middle;\n",
       "    }\n",
       "\n",
       "    .dataframe tbody tr th {\n",
       "        vertical-align: top;\n",
       "    }\n",
       "\n",
       "    .dataframe thead th {\n",
       "        text-align: right;\n",
       "    }\n",
       "</style>\n",
       "<table border=\"1\" class=\"dataframe\">\n",
       "  <thead>\n",
       "    <tr style=\"text-align: right;\">\n",
       "      <th></th>\n",
       "      <th>Pais</th>\n",
       "      <th>Provincia</th>\n",
       "      <th>Ciudad</th>\n",
       "      <th>Barrio</th>\n",
       "      <th>Sub-Barrio</th>\n",
       "      <th>complete_place_name</th>\n",
       "      <th>lat</th>\n",
       "      <th>lon</th>\n",
       "    </tr>\n",
       "  </thead>\n",
       "  <tbody>\n",
       "    <tr>\n",
       "      <th>0</th>\n",
       "      <td>Argentina</td>\n",
       "      <td>Capital Federal</td>\n",
       "      <td>Capital Federal</td>\n",
       "      <td>Mataderos</td>\n",
       "      <td>None</td>\n",
       "      <td>Argentina, Capital Federal, Mataderos</td>\n",
       "      <td>-34.661824</td>\n",
       "      <td>-58.508839</td>\n",
       "    </tr>\n",
       "    <tr>\n",
       "      <th>1</th>\n",
       "      <td>Argentina</td>\n",
       "      <td>Bs.As. G.B.A. Zona Sur</td>\n",
       "      <td>La Plata</td>\n",
       "      <td>None</td>\n",
       "      <td>None</td>\n",
       "      <td>Argentina, Bs.As. G.B.A. Zona Sur, La Plata</td>\n",
       "      <td>-34.903883</td>\n",
       "      <td>-57.964330</td>\n",
       "    </tr>\n",
       "    <tr>\n",
       "      <th>2</th>\n",
       "      <td>Argentina</td>\n",
       "      <td>Capital Federal</td>\n",
       "      <td>Capital Federal</td>\n",
       "      <td>Mataderos</td>\n",
       "      <td>None</td>\n",
       "      <td>Argentina, Capital Federal, Mataderos</td>\n",
       "      <td>-34.652262</td>\n",
       "      <td>-58.522982</td>\n",
       "    </tr>\n",
       "    <tr>\n",
       "      <th>3</th>\n",
       "      <td>Argentina</td>\n",
       "      <td>Capital Federal</td>\n",
       "      <td>Capital Federal</td>\n",
       "      <td>Liniers</td>\n",
       "      <td>None</td>\n",
       "      <td>Argentina, Capital Federal, Liniers</td>\n",
       "      <td>-34.647797</td>\n",
       "      <td>-58.516424</td>\n",
       "    </tr>\n",
       "    <tr>\n",
       "      <th>4</th>\n",
       "      <td>Argentina</td>\n",
       "      <td>Buenos Aires Costa Atlántica</td>\n",
       "      <td>Mar del Plata</td>\n",
       "      <td>Centro</td>\n",
       "      <td>None</td>\n",
       "      <td>Argentina, Buenos Aires Costa Atlántica, Mar d...</td>\n",
       "      <td>-38.002626</td>\n",
       "      <td>-57.549447</td>\n",
       "    </tr>\n",
       "  </tbody>\n",
       "</table>\n",
       "</div>"
      ],
      "text/plain": [
       "        Pais                     Provincia           Ciudad     Barrio  \\\n",
       "0  Argentina               Capital Federal  Capital Federal  Mataderos   \n",
       "1  Argentina        Bs.As. G.B.A. Zona Sur         La Plata       None   \n",
       "2  Argentina               Capital Federal  Capital Federal  Mataderos   \n",
       "3  Argentina               Capital Federal  Capital Federal    Liniers   \n",
       "4  Argentina  Buenos Aires Costa Atlántica    Mar del Plata     Centro   \n",
       "\n",
       "  Sub-Barrio                                complete_place_name        lat  \\\n",
       "0       None              Argentina, Capital Federal, Mataderos -34.661824   \n",
       "1       None        Argentina, Bs.As. G.B.A. Zona Sur, La Plata -34.903883   \n",
       "2       None              Argentina, Capital Federal, Mataderos -34.652262   \n",
       "3       None                Argentina, Capital Federal, Liniers -34.647797   \n",
       "4       None  Argentina, Buenos Aires Costa Atlántica, Mar d... -38.002626   \n",
       "\n",
       "         lon  \n",
       "0 -58.508839  \n",
       "1 -57.964330  \n",
       "2 -58.522982  \n",
       "3 -58.516424  \n",
       "4 -57.549447  "
      ]
     },
     "execution_count": 14,
     "metadata": {},
     "output_type": "execute_result"
    }
   ],
   "source": [
    "location_df['complete_place_name'] = data['place_with_parent_names'].apply(get_all_place_names).str.replace('|',', ')\n",
    "location_df['lat']=data['lat']\n",
    "location_df['lon']=data['lon']\n",
    "\n",
    "#Arreglos de algunas coordenadas geográficas.\n",
    "location_df.loc[location_df['lat']>0,'lat']=location_df.loc[location_df['Provincia']=='Córdoba','lat'].mean()\n",
    "location_df.loc[location_df['lon']<-75,'lon']=location_df.loc[location_df['Provincia']=='Córdoba','lon'].mean()\n",
    "location_df.loc[(location_df['Ciudad']=='Capital Federal')&(location_df['lat']<-38),'lon'] =\\\n",
    "location_df.loc[(location_df['Ciudad']=='Capital Federal')&(location_df['Barrio']=='Mataderos'),'lon'].mean()\n",
    "location_df.loc[(location_df['Ciudad']=='Capital Federal')&(location_df['lat']<-38),'lat'] =\\\n",
    "location_df.loc[(location_df['Ciudad']=='Capital Federal')&(location_df['Barrio']=='Mataderos'),'lat'].mean()\n",
    "\n",
    "location_df.head()"
   ]
  },
  {
   "cell_type": "code",
   "execution_count": 15,
   "metadata": {
    "scrolled": true
   },
   "outputs": [
    {
     "data": {
      "text/html": [
       "<div>\n",
       "<style scoped>\n",
       "    .dataframe tbody tr th:only-of-type {\n",
       "        vertical-align: middle;\n",
       "    }\n",
       "\n",
       "    .dataframe tbody tr th {\n",
       "        vertical-align: top;\n",
       "    }\n",
       "\n",
       "    .dataframe thead th {\n",
       "        text-align: right;\n",
       "    }\n",
       "</style>\n",
       "<table border=\"1\" class=\"dataframe\">\n",
       "  <thead>\n",
       "    <tr style=\"text-align: right;\">\n",
       "      <th></th>\n",
       "      <th>operation</th>\n",
       "      <th>property_type</th>\n",
       "      <th>place_name</th>\n",
       "      <th>place_with_parent_names</th>\n",
       "      <th>country_name</th>\n",
       "      <th>state_name</th>\n",
       "      <th>geonames_id</th>\n",
       "      <th>lat-lon</th>\n",
       "      <th>price</th>\n",
       "      <th>currency</th>\n",
       "      <th>...</th>\n",
       "      <th>title</th>\n",
       "      <th>image_thumbnail</th>\n",
       "      <th>Pais</th>\n",
       "      <th>Provincia</th>\n",
       "      <th>Ciudad</th>\n",
       "      <th>Barrio</th>\n",
       "      <th>Sub-Barrio</th>\n",
       "      <th>complete_place_name</th>\n",
       "      <th>lat</th>\n",
       "      <th>lon</th>\n",
       "    </tr>\n",
       "  </thead>\n",
       "  <tbody>\n",
       "    <tr>\n",
       "      <th>0</th>\n",
       "      <td>sell</td>\n",
       "      <td>PH</td>\n",
       "      <td>Mataderos</td>\n",
       "      <td>|Argentina|Capital Federal|Mataderos|</td>\n",
       "      <td>Argentina</td>\n",
       "      <td>Capital Federal</td>\n",
       "      <td>3430787.0</td>\n",
       "      <td>-34.6618237,-58.5088387</td>\n",
       "      <td>62000.0</td>\n",
       "      <td>USD</td>\n",
       "      <td>...</td>\n",
       "      <td>2 AMB TIPO CASA SIN EXPENSAS EN PB</td>\n",
       "      <td>https://thumbs4.properati.com/8/BluUYiHJLhgIIK...</td>\n",
       "      <td>Argentina</td>\n",
       "      <td>Capital Federal</td>\n",
       "      <td>Capital Federal</td>\n",
       "      <td>Mataderos</td>\n",
       "      <td>None</td>\n",
       "      <td>Argentina, Capital Federal, Mataderos</td>\n",
       "      <td>-34.661824</td>\n",
       "      <td>-58.508839</td>\n",
       "    </tr>\n",
       "    <tr>\n",
       "      <th>1</th>\n",
       "      <td>sell</td>\n",
       "      <td>apartment</td>\n",
       "      <td>La plata</td>\n",
       "      <td>|Argentina|Bs.As. G.B.A. Zona Sur|La Plata|</td>\n",
       "      <td>Argentina</td>\n",
       "      <td>Bs.As. G.B.A. Zona Sur</td>\n",
       "      <td>3432039.0</td>\n",
       "      <td>-34.9038831,-57.9643295</td>\n",
       "      <td>150000.0</td>\n",
       "      <td>USD</td>\n",
       "      <td>...</td>\n",
       "      <td>VENTA Depto 2 dorm. a estrenar 7 e/ 36 y 37   ...</td>\n",
       "      <td>https://thumbs4.properati.com/7/ikpVBu2ztHA7jv...</td>\n",
       "      <td>Argentina</td>\n",
       "      <td>Bs.As. G.B.A. Zona Sur</td>\n",
       "      <td>La Plata</td>\n",
       "      <td>None</td>\n",
       "      <td>None</td>\n",
       "      <td>Argentina, Bs.As. G.B.A. Zona Sur, La Plata</td>\n",
       "      <td>-34.903883</td>\n",
       "      <td>-57.964330</td>\n",
       "    </tr>\n",
       "    <tr>\n",
       "      <th>2</th>\n",
       "      <td>sell</td>\n",
       "      <td>apartment</td>\n",
       "      <td>Mataderos</td>\n",
       "      <td>|Argentina|Capital Federal|Mataderos|</td>\n",
       "      <td>Argentina</td>\n",
       "      <td>Capital Federal</td>\n",
       "      <td>3430787.0</td>\n",
       "      <td>-34.6522615,-58.5229825</td>\n",
       "      <td>72000.0</td>\n",
       "      <td>USD</td>\n",
       "      <td>...</td>\n",
       "      <td>2 AMB 3ER PISO CON ASCENSOR APTO CREDITO</td>\n",
       "      <td>https://thumbs4.properati.com/5/SXKr34F_IwG3W_...</td>\n",
       "      <td>Argentina</td>\n",
       "      <td>Capital Federal</td>\n",
       "      <td>Capital Federal</td>\n",
       "      <td>Mataderos</td>\n",
       "      <td>None</td>\n",
       "      <td>Argentina, Capital Federal, Mataderos</td>\n",
       "      <td>-34.652262</td>\n",
       "      <td>-58.522982</td>\n",
       "    </tr>\n",
       "    <tr>\n",
       "      <th>3</th>\n",
       "      <td>sell</td>\n",
       "      <td>PH</td>\n",
       "      <td>Liniers</td>\n",
       "      <td>|Argentina|Capital Federal|Liniers|</td>\n",
       "      <td>Argentina</td>\n",
       "      <td>Capital Federal</td>\n",
       "      <td>3431333.0</td>\n",
       "      <td>-34.6477969,-58.5164244</td>\n",
       "      <td>95000.0</td>\n",
       "      <td>USD</td>\n",
       "      <td>...</td>\n",
       "      <td>PH 3 amb. cfte. reciclado</td>\n",
       "      <td>https://thumbs4.properati.com/3/DgIfX-85Mog5SP...</td>\n",
       "      <td>Argentina</td>\n",
       "      <td>Capital Federal</td>\n",
       "      <td>Capital Federal</td>\n",
       "      <td>Liniers</td>\n",
       "      <td>None</td>\n",
       "      <td>Argentina, Capital Federal, Liniers</td>\n",
       "      <td>-34.647797</td>\n",
       "      <td>-58.516424</td>\n",
       "    </tr>\n",
       "    <tr>\n",
       "      <th>4</th>\n",
       "      <td>sell</td>\n",
       "      <td>apartment</td>\n",
       "      <td>Centro</td>\n",
       "      <td>|Argentina|Buenos Aires Costa Atlántica|Mar de...</td>\n",
       "      <td>Argentina</td>\n",
       "      <td>Buenos Aires Costa Atlántica</td>\n",
       "      <td>3435548.0</td>\n",
       "      <td>-38.0026256,-57.5494468</td>\n",
       "      <td>64000.0</td>\n",
       "      <td>USD</td>\n",
       "      <td>...</td>\n",
       "      <td>DEPTO 2 AMB AL CONTRAFRENTE ZONA CENTRO/PLAZA ...</td>\n",
       "      <td>https://thumbs4.properati.com/5/xrRqlNcSI_vs-f...</td>\n",
       "      <td>Argentina</td>\n",
       "      <td>Buenos Aires Costa Atlántica</td>\n",
       "      <td>Mar del Plata</td>\n",
       "      <td>Centro</td>\n",
       "      <td>None</td>\n",
       "      <td>Argentina, Buenos Aires Costa Atlántica, Mar d...</td>\n",
       "      <td>-38.002626</td>\n",
       "      <td>-57.549447</td>\n",
       "    </tr>\n",
       "  </tbody>\n",
       "</table>\n",
       "<p>5 rows × 31 columns</p>\n",
       "</div>"
      ],
      "text/plain": [
       "  operation property_type place_name  \\\n",
       "0      sell            PH  Mataderos   \n",
       "1      sell     apartment   La plata   \n",
       "2      sell     apartment  Mataderos   \n",
       "3      sell            PH    Liniers   \n",
       "4      sell     apartment     Centro   \n",
       "\n",
       "                             place_with_parent_names country_name  \\\n",
       "0              |Argentina|Capital Federal|Mataderos|    Argentina   \n",
       "1        |Argentina|Bs.As. G.B.A. Zona Sur|La Plata|    Argentina   \n",
       "2              |Argentina|Capital Federal|Mataderos|    Argentina   \n",
       "3                |Argentina|Capital Federal|Liniers|    Argentina   \n",
       "4  |Argentina|Buenos Aires Costa Atlántica|Mar de...    Argentina   \n",
       "\n",
       "                     state_name  geonames_id                  lat-lon  \\\n",
       "0               Capital Federal    3430787.0  -34.6618237,-58.5088387   \n",
       "1        Bs.As. G.B.A. Zona Sur    3432039.0  -34.9038831,-57.9643295   \n",
       "2               Capital Federal    3430787.0  -34.6522615,-58.5229825   \n",
       "3               Capital Federal    3431333.0  -34.6477969,-58.5164244   \n",
       "4  Buenos Aires Costa Atlántica    3435548.0  -38.0026256,-57.5494468   \n",
       "\n",
       "      price currency  ...                                              title  \\\n",
       "0   62000.0      USD  ...                 2 AMB TIPO CASA SIN EXPENSAS EN PB   \n",
       "1  150000.0      USD  ...  VENTA Depto 2 dorm. a estrenar 7 e/ 36 y 37   ...   \n",
       "2   72000.0      USD  ...           2 AMB 3ER PISO CON ASCENSOR APTO CREDITO   \n",
       "3   95000.0      USD  ...                       PH 3 amb. cfte. reciclado      \n",
       "4   64000.0      USD  ...  DEPTO 2 AMB AL CONTRAFRENTE ZONA CENTRO/PLAZA ...   \n",
       "\n",
       "                                     image_thumbnail       Pais  \\\n",
       "0  https://thumbs4.properati.com/8/BluUYiHJLhgIIK...  Argentina   \n",
       "1  https://thumbs4.properati.com/7/ikpVBu2ztHA7jv...  Argentina   \n",
       "2  https://thumbs4.properati.com/5/SXKr34F_IwG3W_...  Argentina   \n",
       "3  https://thumbs4.properati.com/3/DgIfX-85Mog5SP...  Argentina   \n",
       "4  https://thumbs4.properati.com/5/xrRqlNcSI_vs-f...  Argentina   \n",
       "\n",
       "                      Provincia           Ciudad     Barrio  Sub-Barrio  \\\n",
       "0               Capital Federal  Capital Federal  Mataderos        None   \n",
       "1        Bs.As. G.B.A. Zona Sur         La Plata       None        None   \n",
       "2               Capital Federal  Capital Federal  Mataderos        None   \n",
       "3               Capital Federal  Capital Federal    Liniers        None   \n",
       "4  Buenos Aires Costa Atlántica    Mar del Plata     Centro        None   \n",
       "\n",
       "                                 complete_place_name        lat        lon  \n",
       "0              Argentina, Capital Federal, Mataderos -34.661824 -58.508839  \n",
       "1        Argentina, Bs.As. G.B.A. Zona Sur, La Plata -34.903883 -57.964330  \n",
       "2              Argentina, Capital Federal, Mataderos -34.652262 -58.522982  \n",
       "3                Argentina, Capital Federal, Liniers -34.647797 -58.516424  \n",
       "4  Argentina, Buenos Aires Costa Atlántica, Mar d... -38.002626 -57.549447  \n",
       "\n",
       "[5 rows x 31 columns]"
      ]
     },
     "execution_count": 15,
     "metadata": {},
     "output_type": "execute_result"
    }
   ],
   "source": [
    "data = pd.concat(objs=(data.drop(['lat','lon'],axis=1),location_df),axis=1)\n",
    "data.head()\n"
   ]
  },
  {
   "cell_type": "code",
   "execution_count": 16,
   "metadata": {},
   "outputs": [],
   "source": [
    "data.loc[(data['Ciudad']=='Capital Federal')&(data['Barrio']=='Abasto'),'Barrio']='Balvanera'\n",
    "data.loc[(data['Ciudad']=='Capital Federal')&(data['Barrio']=='Barrio Norte'),'Barrio']='Recoleta'\n",
    "data.loc[(data['Ciudad']=='Capital Federal')&(data['Barrio']=='Catalinas'),'Barrio']='Retiro'\n",
    "data.loc[(data['Ciudad']=='Capital Federal')&(data['Barrio']=='Centro / Microcentro'),'Barrio']='San Nicolás'\n",
    "data.loc[(data['Ciudad']=='Capital Federal')&(data['Barrio']=='Congreso'),'Barrio']='Balvanera'\n",
    "data.loc[(data['Ciudad']=='Capital Federal')&(data['Barrio']=='Las Cañitas'),'Barrio']='Palermo'\n",
    "data.loc[(data['Ciudad']=='Capital Federal')&(data['Barrio']=='Once'),'Barrio']='Balvanera'\n",
    "data.loc[(data['Ciudad']=='Capital Federal')&(data['Barrio']=='Parque Centenario'),'Barrio']='Caballito'\n",
    "data.loc[(data['Ciudad']=='Capital Federal')&(data['Barrio']=='Pompeya'),'Barrio']='Nueva Pompeya'\n",
    "data.loc[(data['Ciudad']=='Capital Federal')&(data['Barrio']=='Tribunales'),'Barrio']='San Nicolás'\n",
    "data.loc[(data['Ciudad']=='Capital Federal')&(data['Barrio']=='Villa General Mitre'),'Barrio']='Villa Gral. Mitre'\n",
    "\n",
    "data.loc[(data['Ciudad']=='Capital Federal')&(data['Barrio']=='Villa del Parque'),'Barrio']='Villa Del Parque'\n",
    "data.loc[(data['Ciudad']=='Capital Federal')&(data['Barrio']=='Agronomía'),'Barrio']='Agronomia'\n",
    "data.loc[(data['Ciudad']=='Capital Federal')&(data['Barrio']=='Constitución'),'Barrio']='Constitucion'\n",
    "data.loc[(data['Ciudad']=='Capital Federal')&(data['Barrio']=='Villa Pueyrredón'),'Barrio']='Villa Pueyrredon'\n",
    "data.loc[(data['Ciudad']=='Capital Federal')&(data['Barrio']=='San Nicolás'),'Barrio']='San Nicolas'"
   ]
  },
  {
   "cell_type": "markdown",
   "metadata": {},
   "source": [
    "## Visualización del $/m2 por barrio"
   ]
  },
  {
   "cell_type": "code",
   "execution_count": 17,
   "metadata": {},
   "outputs": [
    {
     "data": {
      "text/plain": [
       "Index(['Pais', 'Provincia', 'Ciudad', 'Barrio', 'Sub-Barrio',\n",
       "       'complete_place_name', 'lat', 'lon'],\n",
       "      dtype='object')"
      ]
     },
     "execution_count": 17,
     "metadata": {},
     "output_type": "execute_result"
    }
   ],
   "source": [
    "location_df.columns"
   ]
  },
  {
   "cell_type": "code",
   "execution_count": 18,
   "metadata": {},
   "outputs": [
    {
     "name": "stderr",
     "output_type": "stream",
     "text": [
      "C:\\Users\\JAVI\\Anaconda3\\lib\\site-packages\\scipy\\stats\\stats.py:1713: FutureWarning: Using a non-tuple sequence for multidimensional indexing is deprecated; use `arr[tuple(seq)]` instead of `arr[seq]`. In the future this will be interpreted as an array index, `arr[np.array(seq)]`, which will result either in an error or a different result.\n",
      "  return np.add.reduce(sorted[indexer] * weights, axis=axis) / sumval\n"
     ]
    },
    {
     "data": {
      "image/png": "[encoded data removed]",
      "text/plain": [
       "<Figure size 432x288 with 1 Axes>"
      ]
     },
     "metadata": {
      "needs_background": "light"
     },
     "output_type": "display_data"
    },
    {
     "data": {
      "image/png": "[encoded data removed]",
      "text/plain": [
       "<Figure size 432x288 with 1 Axes>"
      ]
     },
     "metadata": {
      "needs_background": "light"
     },
     "output_type": "display_data"
    }
   ],
   "source": [
    "sns.distplot(data.loc[(data['Ciudad']=='Capital Federal')&(data['Barrio']=='Boedo')&(data['price_usd_per_m2'].notnull()),'price_usd_per_m2'],bins=40)\n",
    "plt.show()\n",
    "sns.distplot(data.loc[(data['Ciudad']=='Capital Federal')&(data['Barrio']=='San Cristobal')&(data['price_usd_per_m2'].notnull()),'price_usd_per_m2'],bins=40)\n",
    "plt.show()"
   ]
  },
  {
   "cell_type": "code",
   "execution_count": 19,
   "metadata": {},
   "outputs": [
    {
     "name": "stderr",
     "output_type": "stream",
     "text": [
      "C:\\Users\\JAVI\\Anaconda3\\lib\\site-packages\\matplotlib\\colors.py:512: RuntimeWarning: invalid value encountered in less\n",
      "  xa[xa < 0] = -1\n"
     ]
    },
    {
     "data": {
      "text/plain": [
       "<matplotlib.axes._subplots.AxesSubplot at 0x1fe0c049668>"
      ]
     },
     "execution_count": 19,
     "metadata": {},
     "output_type": "execute_result"
    },
    {
     "data": {
      "image/png": "[encoded data removed]",
      "text/plain": [
       "<Figure size 720x720 with 2 Axes>"
      ]
     },
     "metadata": {
      "needs_background": "light"
     },
     "output_type": "display_data"
    }
   ],
   "source": [
    "import geopandas\n",
    "import fiona\n",
    "import rtree\n",
    "import folium\n",
    "\n",
    "from shapely.geometry import Point\n",
    "\n",
    "def from_x_y(df, x, y):\n",
    "    gdf = geopandas.GeoDataFrame(df,#.drop([x, y], axis=1),\n",
    "                                crs={'init': 'epsg:4326'},\n",
    "                                geometry=[Point(xy) for xy in zip(df[x], df[y])])\n",
    "    return gdf\n",
    "\n",
    "def from_wkt(df, wkt_column):\n",
    "    import shapely.wkt\n",
    "    df[\"coordinates\"]= df[wkt_column].apply(shapely.wkt.loads)\n",
    "    gdf = geopandas.GeoDataFrame(df, geometry='coordinates')\n",
    "    return gdf\n",
    "\n",
    "barrios = pd.read_csv(\"../Data/barrios.csv\", encoding='latin1')\n",
    "barrios = from_wkt(barrios, \"WKT\")\n",
    "barrios.rename(columns={'BARRIO': 'Barrio'},inplace=True)\n",
    "barrios['Barrio']=barrios['Barrio'].str.title()\n",
    "location_df['price_usd_per_m2']=data['price_usd_per_m2']\n",
    "\n",
    "location_df = from_x_y(location_df, \"lon\", \"lat\")\n",
    "precio_por_barrio = location_df.loc[(location_df['Ciudad']=='Capital Federal')&(location_df['price_usd_per_m2'].notnull()),['Barrio','price_usd_per_m2','geometry']].groupby('Barrio').mean().reset_index()\n",
    "barrios_con_precios = pd.merge(barrios[['Barrio','coordinates']],precio_por_barrio,how='left')\n",
    "from mpl_toolkits.axes_grid1 import make_axes_locatable\n",
    "fig, ax = plt.subplots(1, 1,figsize=(10, 10))\n",
    "\n",
    "divider = make_axes_locatable(ax)\n",
    "cax = divider.append_axes(\"right\", size=\"5%\", pad=0.2)\n",
    "\n",
    "barrios_con_precios.plot(column='price_usd_per_m2',ax=ax,cax=cax,legend=True,cmap='RdYlGn')\n",
    "\n",
    "#fig, ax = plt.subplots(1, 1,figsize=(10, 10))\n",
    "#barrios.plot(ax=ax,edgecolor='black',color='white')\n",
    "#location_df.loc[(location_df['Ciudad']=='Capital Federal')&(location_df.geometry.is_valid)].plot(ax=ax)"
   ]
  },
  {
   "cell_type": "code",
   "execution_count": 20,
   "metadata": {},
   "outputs": [
    {
     "data": {
      "text/plain": [
       "<matplotlib.axes._subplots.AxesSubplot at 0x1fe0c0bd400>"
      ]
     },
     "execution_count": 20,
     "metadata": {},
     "output_type": "execute_result"
    },
    {
     "data": {
      "image/png": "[encoded data removed]",
      "text/plain": [
       "<Figure size 720x720 with 2 Axes>"
      ]
     },
     "metadata": {
      "needs_background": "light"
     },
     "output_type": "display_data"
    }
   ],
   "source": [
    "location_df.loc[(location_df['Ciudad']=='Capital Federal')&(location_df['Barrio']=='Boedo')&(location_df['price_usd_per_m2']>4000),'price_usd_per_m2']=np.nan\n",
    "location_df.loc[(location_df['Ciudad']=='Capital Federal')&(location_df['Barrio']=='San Cristobal')&(location_df['price_usd_per_m2']>4000),'price_usd_per_m2']=np.nan\n",
    "precio_por_barrio = location_df.loc[(location_df['Ciudad']=='Capital Federal')&(location_df['price_usd_per_m2'].notnull()),['Barrio','price_usd_per_m2','geometry']].groupby('Barrio').mean().reset_index()\n",
    "barrios_con_precios = pd.merge(barrios[['Barrio','coordinates']],precio_por_barrio,how='left')\n",
    "from mpl_toolkits.axes_grid1 import make_axes_locatable\n",
    "fig, ax = plt.subplots(1, 1,figsize=(10, 10))\n",
    "\n",
    "divider = make_axes_locatable(ax)\n",
    "cax = divider.append_axes(\"right\", size=\"5%\", pad=0.2)\n",
    "\n",
    "barrios_con_precios.plot(column='price_usd_per_m2',ax=ax,cax=cax,legend=True,cmap='RdYlGn')\n"
   ]
  },
  {
   "cell_type": "markdown",
   "metadata": {},
   "source": [
    "Hacemos la corrección de los $/m2 inválidos de algunos barrios de Capital Federal."
   ]
  },
  {
   "cell_type": "code",
   "execution_count": 21,
   "metadata": {
    "scrolled": false
   },
   "outputs": [],
   "source": [
    "data.loc[(data['Ciudad']=='Capital Federal')&(data['Barrio']=='Boedo')&(data['price_usd_per_m2']>4000),'price_usd_per_m2']=np.nan\n",
    "data.loc[(data['Ciudad']=='Capital Federal')&(data['Barrio']=='San Cristobal')&(data['price_usd_per_m2']>4000),'price_usd_per_m2']=np.nan"
   ]
  },
  {
   "cell_type": "code",
   "execution_count": 22,
   "metadata": {},
   "outputs": [
    {
     "name": "stderr",
     "output_type": "stream",
     "text": [
      "C:\\Users\\JAVI\\Anaconda3\\lib\\site-packages\\scipy\\stats\\stats.py:1713: FutureWarning: Using a non-tuple sequence for multidimensional indexing is deprecated; use `arr[tuple(seq)]` instead of `arr[seq]`. In the future this will be interpreted as an array index, `arr[np.array(seq)]`, which will result either in an error or a different result.\n",
      "  return np.add.reduce(sorted[indexer] * weights, axis=axis) / sumval\n"
     ]
    },
    {
     "data": {
      "image/png": "[encoded data removed]",
      "text/plain": [
       "<Figure size 432x288 with 1 Axes>"
      ]
     },
     "metadata": {
      "needs_background": "light"
     },
     "output_type": "display_data"
    },
    {
     "data": {
      "image/png": "[encoded data removed]",
      "text/plain": [
       "<Figure size 432x288 with 1 Axes>"
      ]
     },
     "metadata": {
      "needs_background": "light"
     },
     "output_type": "display_data"
    }
   ],
   "source": [
    "sns.distplot(data.loc[(data['Ciudad']=='Capital Federal')&(data['Barrio']=='Boedo')&(data['price_usd_per_m2'].notnull()),'price_usd_per_m2'],bins=40)\n",
    "plt.show()\n",
    "sns.distplot(data.loc[(data['Ciudad']=='Capital Federal')&(data['Barrio']=='San Cristobal')&(data['price_usd_per_m2'].notnull()),'price_usd_per_m2'],bins=40)\n",
    "plt.show()"
   ]
  },
  {
   "cell_type": "markdown",
   "metadata": {},
   "source": [
    "# Limpieza, búsqueda y llenado de columnas de Precios"
   ]
  },
  {
   "cell_type": "code",
   "execution_count": 23,
   "metadata": {},
   "outputs": [
    {
     "data": {
      "text/html": [
       "<div>\n",
       "<style scoped>\n",
       "    .dataframe tbody tr th:only-of-type {\n",
       "        vertical-align: middle;\n",
       "    }\n",
       "\n",
       "    .dataframe tbody tr th {\n",
       "        vertical-align: top;\n",
       "    }\n",
       "\n",
       "    .dataframe thead th {\n",
       "        text-align: right;\n",
       "    }\n",
       "</style>\n",
       "<table border=\"1\" class=\"dataframe\">\n",
       "  <thead>\n",
       "    <tr style=\"text-align: right;\">\n",
       "      <th></th>\n",
       "      <th>price</th>\n",
       "      <th>currency</th>\n",
       "      <th>price_aprox_local_currency</th>\n",
       "      <th>price_aprox_usd</th>\n",
       "      <th>surface_total_in_m2</th>\n",
       "      <th>surface_covered_in_m2</th>\n",
       "      <th>price_usd_per_m2</th>\n",
       "      <th>price_per_m2</th>\n",
       "    </tr>\n",
       "  </thead>\n",
       "  <tbody>\n",
       "    <tr>\n",
       "      <th>2126</th>\n",
       "      <td>NaN</td>\n",
       "      <td>NaN</td>\n",
       "      <td>NaN</td>\n",
       "      <td>NaN</td>\n",
       "      <td>56.0</td>\n",
       "      <td>40.0</td>\n",
       "      <td>NaN</td>\n",
       "      <td>NaN</td>\n",
       "    </tr>\n",
       "    <tr>\n",
       "      <th>100486</th>\n",
       "      <td>218000.0</td>\n",
       "      <td>USD</td>\n",
       "      <td>3846501.00</td>\n",
       "      <td>218000.0</td>\n",
       "      <td>64.0</td>\n",
       "      <td>64.0</td>\n",
       "      <td>3406.250000</td>\n",
       "      <td>3406.250000</td>\n",
       "    </tr>\n",
       "    <tr>\n",
       "      <th>96469</th>\n",
       "      <td>154684.0</td>\n",
       "      <td>USD</td>\n",
       "      <td>2729321.83</td>\n",
       "      <td>154684.0</td>\n",
       "      <td>60.0</td>\n",
       "      <td>49.0</td>\n",
       "      <td>2578.066667</td>\n",
       "      <td>3156.816327</td>\n",
       "    </tr>\n",
       "    <tr>\n",
       "      <th>111646</th>\n",
       "      <td>138000.0</td>\n",
       "      <td>USD</td>\n",
       "      <td>2434941.00</td>\n",
       "      <td>138000.0</td>\n",
       "      <td>NaN</td>\n",
       "      <td>61.0</td>\n",
       "      <td>NaN</td>\n",
       "      <td>2262.295082</td>\n",
       "    </tr>\n",
       "    <tr>\n",
       "      <th>102180</th>\n",
       "      <td>103000.0</td>\n",
       "      <td>USD</td>\n",
       "      <td>1817383.50</td>\n",
       "      <td>103000.0</td>\n",
       "      <td>43.0</td>\n",
       "      <td>40.0</td>\n",
       "      <td>2395.348837</td>\n",
       "      <td>2575.000000</td>\n",
       "    </tr>\n",
       "  </tbody>\n",
       "</table>\n",
       "</div>"
      ],
      "text/plain": [
       "           price currency  price_aprox_local_currency  price_aprox_usd  \\\n",
       "2126         NaN      NaN                         NaN              NaN   \n",
       "100486  218000.0      USD                  3846501.00         218000.0   \n",
       "96469   154684.0      USD                  2729321.83         154684.0   \n",
       "111646  138000.0      USD                  2434941.00         138000.0   \n",
       "102180  103000.0      USD                  1817383.50         103000.0   \n",
       "\n",
       "        surface_total_in_m2  surface_covered_in_m2  price_usd_per_m2  \\\n",
       "2126                   56.0                   40.0               NaN   \n",
       "100486                 64.0                   64.0       3406.250000   \n",
       "96469                  60.0                   49.0       2578.066667   \n",
       "111646                  NaN                   61.0               NaN   \n",
       "102180                 43.0                   40.0       2395.348837   \n",
       "\n",
       "        price_per_m2  \n",
       "2126             NaN  \n",
       "100486   3406.250000  \n",
       "96469    3156.816327  \n",
       "111646   2262.295082  \n",
       "102180   2575.000000  "
      ]
     },
     "execution_count": 23,
     "metadata": {},
     "output_type": "execute_result"
    }
   ],
   "source": [
    "price_cols = ['price', 'currency', 'price_aprox_local_currency', 'price_aprox_usd',\n",
    "       'surface_total_in_m2', 'surface_covered_in_m2', 'price_usd_per_m2',\n",
    "       'price_per_m2']\n",
    "data[price_cols].sample(5)"
   ]
  },
  {
   "cell_type": "code",
   "execution_count": 24,
   "metadata": {},
   "outputs": [
    {
     "data": {
      "text/plain": [
       "price                         100808\n",
       "currency                      100807\n",
       "price_aprox_local_currency    100808\n",
       "price_aprox_usd               100808\n",
       "surface_total_in_m2            81892\n",
       "surface_covered_in_m2         101312\n",
       "price_usd_per_m2               67966\n",
       "price_per_m2                   87657\n",
       "dtype: int64"
      ]
     },
     "execution_count": 24,
     "metadata": {},
     "output_type": "execute_result"
    }
   ],
   "source": [
    "data[price_cols].notnull().sum()"
   ]
  },
  {
   "cell_type": "code",
   "execution_count": 25,
   "metadata": {},
   "outputs": [
    {
     "data": {
      "text/plain": [
       "USD    87586\n",
       "ARS    13218\n",
       "PEN        2\n",
       "UYU        1\n",
       "Name: currency, dtype: int64"
      ]
     },
     "execution_count": 25,
     "metadata": {},
     "output_type": "execute_result"
    }
   ],
   "source": [
    "data['currency'].value_counts()"
   ]
  },
  {
   "cell_type": "markdown",
   "metadata": {},
   "source": [
    "Se dropearán las 2 publicaciones en Sol Peruano (PEN) y la publicación en Peso Uruguayo (UYU). "
   ]
  },
  {
   "cell_type": "code",
   "execution_count": 26,
   "metadata": {},
   "outputs": [
    {
     "data": {
      "text/plain": [
       "USD    87586\n",
       "ARS    13218\n",
       "Name: currency, dtype: int64"
      ]
     },
     "execution_count": 26,
     "metadata": {},
     "output_type": "execute_result"
    }
   ],
   "source": [
    "data.drop(data.loc[(data['currency']=='UYU')|(data['currency']=='PEN')].index,inplace=True)\n",
    "data['currency'].value_counts()"
   ]
  },
  {
   "cell_type": "markdown",
   "metadata": {},
   "source": [
    "Además se decide trabajar todo en la misma moneda, en dólares (USD). Para esto se deberán convertir los valores de 'price' y 'price_per_m2' de las filas donde 'currency' sea ARS."
   ]
  },
  {
   "cell_type": "code",
   "execution_count": 27,
   "metadata": {},
   "outputs": [
    {
     "data": {
      "text/plain": [
       "17.830501005171033"
      ]
     },
     "execution_count": 27,
     "metadata": {},
     "output_type": "execute_result"
    }
   ],
   "source": [
    "TC_ARS_aproxUSD = (data.loc[data['currency']=='ARS','price']/data.loc[data['currency']=='ARS','price_aprox_usd']).median()\n",
    "TC_ARS_aproxUSD"
   ]
  },
  {
   "cell_type": "code",
   "execution_count": 28,
   "metadata": {},
   "outputs": [
    {
     "data": {
      "text/plain": [
       "17.6445"
      ]
     },
     "execution_count": 28,
     "metadata": {},
     "output_type": "execute_result"
    }
   ],
   "source": [
    "TC_USD_aproxARS = ((data.loc[data['currency']=='ARS','price_aprox_local_currency'])/(data.loc[data['currency']=='ARS','price_aprox_usd'])).round(decimals=4).unique()[0]\n",
    "TC_USD_aproxARS"
   ]
  },
  {
   "cell_type": "markdown",
   "metadata": {},
   "source": [
    "Se cambian los valores de 'price' y 'price_per_m2' a sus correspondientes valores en dólares (USD). También se cambia la columna 'currency' a USD. Así todo el dataset se encuentra expresado en dólares, a excepción de la columna 'price_aprox_local_currency' la cual queda en Pesos Argentinos (ARS)."
   ]
  },
  {
   "cell_type": "code",
   "execution_count": 29,
   "metadata": {},
   "outputs": [],
   "source": [
    "data.loc[data['currency']=='ARS','price']=data.loc[data['currency']=='ARS','price_aprox_usd']\n",
    "data.loc[data['currency']=='ARS','price_per_m2'] = data.loc[data['currency']=='ARS','price_per_m2'] / TC_ARS_aproxUSD\n",
    "data.loc[data['currency']=='ARS','currency']='USD'"
   ]
  },
  {
   "cell_type": "code",
   "execution_count": 30,
   "metadata": {},
   "outputs": [
    {
     "data": {
      "text/plain": [
       "USD    100804\n",
       "Name: currency, dtype: int64"
      ]
     },
     "execution_count": 30,
     "metadata": {},
     "output_type": "execute_result"
    }
   ],
   "source": [
    "data['currency'].value_counts()"
   ]
  },
  {
   "cell_type": "code",
   "execution_count": 31,
   "metadata": {},
   "outputs": [],
   "source": [
    "def price_search(text):\n",
    "    pattern = r'(?:USD|U\\$D|DOLL|DOL.|U\\$S|dolares|dólares|precio|precio total)\\s?(\\d+,?\\.?\\d*,?\\.?\\d*)'\n",
    "    regex = re.compile(pattern, flags = re.IGNORECASE)\n",
    "    price_lst = regex.findall(text)\n",
    "    price_lst = [float(item.replace(',','').replace('.','')) for item in price_lst]\n",
    "    if not price_lst:\n",
    "        return np.nan\n",
    "    if len(price_lst)>1:\n",
    "        if max(price_lst)>35000:\n",
    "            return max(price_lst)\n",
    "        else:\n",
    "            return np.nan\n",
    "    if price_lst[0]>35000:\n",
    "        return price_lst[0]\n",
    "    else:\n",
    "        return np.nan\n",
    "    \n",
    "def price_search2(text):\n",
    "    pattern = r'(\\d+,?\\.?\\d*,?\\.?\\d*)\\s?(?:USD|U\\$D|DOLL|DOL.|U\\$S|dolares|dólares)+'\n",
    "    regex = re.compile(pattern, flags = re.IGNORECASE)\n",
    "    price_lst = regex.findall(text)\n",
    "    price_lst = [float(item.replace(',','').replace('.','')) for item in price_lst]\n",
    "    \n",
    "    if not price_lst:\n",
    "        return np.nan\n",
    "    if len(price_lst)>1:\n",
    "        if max(price_lst)>35000:\n",
    "            return max(price_lst)\n",
    "        else:\n",
    "            return np.nan\n",
    "    if price_lst[0]>35000:\n",
    "        return price_lst[0]\n",
    "    else:\n",
    "        return np.nan\n",
    "    \n",
    "def price_search_pesos(text):\n",
    "    pattern =  r'(?:\\$)\\s?(\\d+,?\\.?\\d*,?\\.?\\d*)'\n",
    "    regex = re.compile(pattern, flags = re.IGNORECASE)\n",
    "    price_lst = regex.findall(text)\n",
    "    price_lst = [float(item.replace(',','').replace('.','')) for item in price_lst]\n",
    "    if not price_lst:\n",
    "        return np.nan\n",
    "    if len(price_lst)>1:\n",
    "        if max(price_lst)>20000:\n",
    "            return max(price_lst)\n",
    "        else:\n",
    "            return np.nan\n",
    "  \n",
    "    if len(price_lst)==1:\n",
    "        if price_lst[0]>35000:\n",
    "            return price_lst[0]\n",
    "    \n",
    "        else:\n",
    "            return np.nan"
   ]
  },
  {
   "cell_type": "markdown",
   "metadata": {},
   "source": [
    "Podríamos calcular el price_usd_per_m2:"
   ]
  },
  {
   "cell_type": "code",
   "execution_count": 32,
   "metadata": {},
   "outputs": [
    {
     "data": {
      "text/html": [
       "<div>\n",
       "<style scoped>\n",
       "    .dataframe tbody tr th:only-of-type {\n",
       "        vertical-align: middle;\n",
       "    }\n",
       "\n",
       "    .dataframe tbody tr th {\n",
       "        vertical-align: top;\n",
       "    }\n",
       "\n",
       "    .dataframe thead th {\n",
       "        text-align: right;\n",
       "    }\n",
       "</style>\n",
       "<table border=\"1\" class=\"dataframe\">\n",
       "  <thead>\n",
       "    <tr style=\"text-align: right;\">\n",
       "      <th></th>\n",
       "      <th>price_aprox_usd</th>\n",
       "      <th>surface_total_in_m2</th>\n",
       "      <th>price_usd_per_m2</th>\n",
       "    </tr>\n",
       "  </thead>\n",
       "  <tbody>\n",
       "    <tr>\n",
       "      <th>24900</th>\n",
       "      <td>430000.0</td>\n",
       "      <td>37.0</td>\n",
       "      <td>NaN</td>\n",
       "    </tr>\n",
       "    <tr>\n",
       "      <th>24901</th>\n",
       "      <td>724500.0</td>\n",
       "      <td>63.0</td>\n",
       "      <td>NaN</td>\n",
       "    </tr>\n",
       "    <tr>\n",
       "      <th>25012</th>\n",
       "      <td>1202000.0</td>\n",
       "      <td>37.0</td>\n",
       "      <td>NaN</td>\n",
       "    </tr>\n",
       "    <tr>\n",
       "      <th>25113</th>\n",
       "      <td>2003000.0</td>\n",
       "      <td>58.0</td>\n",
       "      <td>NaN</td>\n",
       "    </tr>\n",
       "    <tr>\n",
       "      <th>25299</th>\n",
       "      <td>550000.0</td>\n",
       "      <td>30.0</td>\n",
       "      <td>NaN</td>\n",
       "    </tr>\n",
       "    <tr>\n",
       "      <th>25391</th>\n",
       "      <td>400200.0</td>\n",
       "      <td>30.0</td>\n",
       "      <td>NaN</td>\n",
       "    </tr>\n",
       "    <tr>\n",
       "      <th>25403</th>\n",
       "      <td>402300.0</td>\n",
       "      <td>30.0</td>\n",
       "      <td>NaN</td>\n",
       "    </tr>\n",
       "    <tr>\n",
       "      <th>25404</th>\n",
       "      <td>415630.0</td>\n",
       "      <td>30.0</td>\n",
       "      <td>NaN</td>\n",
       "    </tr>\n",
       "    <tr>\n",
       "      <th>25406</th>\n",
       "      <td>425000.0</td>\n",
       "      <td>30.0</td>\n",
       "      <td>NaN</td>\n",
       "    </tr>\n",
       "    <tr>\n",
       "      <th>25407</th>\n",
       "      <td>406200.0</td>\n",
       "      <td>30.0</td>\n",
       "      <td>NaN</td>\n",
       "    </tr>\n",
       "    <tr>\n",
       "      <th>25408</th>\n",
       "      <td>416300.0</td>\n",
       "      <td>30.0</td>\n",
       "      <td>NaN</td>\n",
       "    </tr>\n",
       "    <tr>\n",
       "      <th>25412</th>\n",
       "      <td>421300.0</td>\n",
       "      <td>30.0</td>\n",
       "      <td>NaN</td>\n",
       "    </tr>\n",
       "    <tr>\n",
       "      <th>25434</th>\n",
       "      <td>425600.0</td>\n",
       "      <td>25.0</td>\n",
       "      <td>NaN</td>\n",
       "    </tr>\n",
       "    <tr>\n",
       "      <th>25435</th>\n",
       "      <td>426800.0</td>\n",
       "      <td>25.0</td>\n",
       "      <td>NaN</td>\n",
       "    </tr>\n",
       "    <tr>\n",
       "      <th>25436</th>\n",
       "      <td>428700.0</td>\n",
       "      <td>25.0</td>\n",
       "      <td>NaN</td>\n",
       "    </tr>\n",
       "    <tr>\n",
       "      <th>25440</th>\n",
       "      <td>417500.0</td>\n",
       "      <td>25.0</td>\n",
       "      <td>NaN</td>\n",
       "    </tr>\n",
       "    <tr>\n",
       "      <th>25441</th>\n",
       "      <td>428900.0</td>\n",
       "      <td>25.0</td>\n",
       "      <td>NaN</td>\n",
       "    </tr>\n",
       "    <tr>\n",
       "      <th>25446</th>\n",
       "      <td>532600.0</td>\n",
       "      <td>40.0</td>\n",
       "      <td>NaN</td>\n",
       "    </tr>\n",
       "    <tr>\n",
       "      <th>25454</th>\n",
       "      <td>425600.0</td>\n",
       "      <td>25.0</td>\n",
       "      <td>NaN</td>\n",
       "    </tr>\n",
       "    <tr>\n",
       "      <th>25455</th>\n",
       "      <td>415700.0</td>\n",
       "      <td>25.0</td>\n",
       "      <td>NaN</td>\n",
       "    </tr>\n",
       "    <tr>\n",
       "      <th>25456</th>\n",
       "      <td>623500.0</td>\n",
       "      <td>40.0</td>\n",
       "      <td>NaN</td>\n",
       "    </tr>\n",
       "    <tr>\n",
       "      <th>25461</th>\n",
       "      <td>210600.0</td>\n",
       "      <td>25.0</td>\n",
       "      <td>NaN</td>\n",
       "    </tr>\n",
       "    <tr>\n",
       "      <th>25462</th>\n",
       "      <td>104500.0</td>\n",
       "      <td>25.0</td>\n",
       "      <td>NaN</td>\n",
       "    </tr>\n",
       "    <tr>\n",
       "      <th>25466</th>\n",
       "      <td>114500.0</td>\n",
       "      <td>25.0</td>\n",
       "      <td>NaN</td>\n",
       "    </tr>\n",
       "    <tr>\n",
       "      <th>25469</th>\n",
       "      <td>215600.0</td>\n",
       "      <td>25.0</td>\n",
       "      <td>NaN</td>\n",
       "    </tr>\n",
       "    <tr>\n",
       "      <th>25471</th>\n",
       "      <td>215600.0</td>\n",
       "      <td>25.0</td>\n",
       "      <td>NaN</td>\n",
       "    </tr>\n",
       "    <tr>\n",
       "      <th>25472</th>\n",
       "      <td>175800.0</td>\n",
       "      <td>25.0</td>\n",
       "      <td>NaN</td>\n",
       "    </tr>\n",
       "    <tr>\n",
       "      <th>25476</th>\n",
       "      <td>215800.0</td>\n",
       "      <td>25.0</td>\n",
       "      <td>NaN</td>\n",
       "    </tr>\n",
       "    <tr>\n",
       "      <th>25477</th>\n",
       "      <td>117800.0</td>\n",
       "      <td>25.0</td>\n",
       "      <td>NaN</td>\n",
       "    </tr>\n",
       "    <tr>\n",
       "      <th>25478</th>\n",
       "      <td>113690.0</td>\n",
       "      <td>25.0</td>\n",
       "      <td>NaN</td>\n",
       "    </tr>\n",
       "    <tr>\n",
       "      <th>...</th>\n",
       "      <td>...</td>\n",
       "      <td>...</td>\n",
       "      <td>...</td>\n",
       "    </tr>\n",
       "    <tr>\n",
       "      <th>26695</th>\n",
       "      <td>701000.0</td>\n",
       "      <td>35.0</td>\n",
       "      <td>NaN</td>\n",
       "    </tr>\n",
       "    <tr>\n",
       "      <th>26701</th>\n",
       "      <td>555800.0</td>\n",
       "      <td>33.0</td>\n",
       "      <td>NaN</td>\n",
       "    </tr>\n",
       "    <tr>\n",
       "      <th>26702</th>\n",
       "      <td>590900.0</td>\n",
       "      <td>33.0</td>\n",
       "      <td>NaN</td>\n",
       "    </tr>\n",
       "    <tr>\n",
       "      <th>26703</th>\n",
       "      <td>640000.0</td>\n",
       "      <td>35.0</td>\n",
       "      <td>NaN</td>\n",
       "    </tr>\n",
       "    <tr>\n",
       "      <th>26704</th>\n",
       "      <td>590800.0</td>\n",
       "      <td>33.0</td>\n",
       "      <td>NaN</td>\n",
       "    </tr>\n",
       "    <tr>\n",
       "      <th>26705</th>\n",
       "      <td>602300.0</td>\n",
       "      <td>35.0</td>\n",
       "      <td>NaN</td>\n",
       "    </tr>\n",
       "    <tr>\n",
       "      <th>26707</th>\n",
       "      <td>613000.0</td>\n",
       "      <td>35.0</td>\n",
       "      <td>NaN</td>\n",
       "    </tr>\n",
       "    <tr>\n",
       "      <th>26711</th>\n",
       "      <td>625000.0</td>\n",
       "      <td>32.0</td>\n",
       "      <td>NaN</td>\n",
       "    </tr>\n",
       "    <tr>\n",
       "      <th>26715</th>\n",
       "      <td>680000.0</td>\n",
       "      <td>32.0</td>\n",
       "      <td>NaN</td>\n",
       "    </tr>\n",
       "    <tr>\n",
       "      <th>26723</th>\n",
       "      <td>567000.0</td>\n",
       "      <td>33.0</td>\n",
       "      <td>NaN</td>\n",
       "    </tr>\n",
       "    <tr>\n",
       "      <th>26725</th>\n",
       "      <td>615000.0</td>\n",
       "      <td>32.0</td>\n",
       "      <td>NaN</td>\n",
       "    </tr>\n",
       "    <tr>\n",
       "      <th>26727</th>\n",
       "      <td>720000.0</td>\n",
       "      <td>31.0</td>\n",
       "      <td>NaN</td>\n",
       "    </tr>\n",
       "    <tr>\n",
       "      <th>26732</th>\n",
       "      <td>735000.0</td>\n",
       "      <td>35.0</td>\n",
       "      <td>NaN</td>\n",
       "    </tr>\n",
       "    <tr>\n",
       "      <th>26735</th>\n",
       "      <td>650000.0</td>\n",
       "      <td>33.0</td>\n",
       "      <td>NaN</td>\n",
       "    </tr>\n",
       "    <tr>\n",
       "      <th>26752</th>\n",
       "      <td>679000.0</td>\n",
       "      <td>35.0</td>\n",
       "      <td>NaN</td>\n",
       "    </tr>\n",
       "    <tr>\n",
       "      <th>26756</th>\n",
       "      <td>655000.0</td>\n",
       "      <td>33.0</td>\n",
       "      <td>NaN</td>\n",
       "    </tr>\n",
       "    <tr>\n",
       "      <th>26762</th>\n",
       "      <td>656000.0</td>\n",
       "      <td>32.0</td>\n",
       "      <td>NaN</td>\n",
       "    </tr>\n",
       "    <tr>\n",
       "      <th>26766</th>\n",
       "      <td>987000.0</td>\n",
       "      <td>41.0</td>\n",
       "      <td>NaN</td>\n",
       "    </tr>\n",
       "    <tr>\n",
       "      <th>26767</th>\n",
       "      <td>566800.0</td>\n",
       "      <td>31.0</td>\n",
       "      <td>NaN</td>\n",
       "    </tr>\n",
       "    <tr>\n",
       "      <th>26768</th>\n",
       "      <td>988000.0</td>\n",
       "      <td>41.0</td>\n",
       "      <td>NaN</td>\n",
       "    </tr>\n",
       "    <tr>\n",
       "      <th>26771</th>\n",
       "      <td>555500.0</td>\n",
       "      <td>32.0</td>\n",
       "      <td>NaN</td>\n",
       "    </tr>\n",
       "    <tr>\n",
       "      <th>26775</th>\n",
       "      <td>665000.0</td>\n",
       "      <td>32.0</td>\n",
       "      <td>NaN</td>\n",
       "    </tr>\n",
       "    <tr>\n",
       "      <th>26777</th>\n",
       "      <td>987000.0</td>\n",
       "      <td>42.0</td>\n",
       "      <td>NaN</td>\n",
       "    </tr>\n",
       "    <tr>\n",
       "      <th>26779</th>\n",
       "      <td>666600.0</td>\n",
       "      <td>32.0</td>\n",
       "      <td>NaN</td>\n",
       "    </tr>\n",
       "    <tr>\n",
       "      <th>26780</th>\n",
       "      <td>909000.0</td>\n",
       "      <td>42.0</td>\n",
       "      <td>NaN</td>\n",
       "    </tr>\n",
       "    <tr>\n",
       "      <th>26782</th>\n",
       "      <td>665000.0</td>\n",
       "      <td>32.0</td>\n",
       "      <td>NaN</td>\n",
       "    </tr>\n",
       "    <tr>\n",
       "      <th>26791</th>\n",
       "      <td>669000.0</td>\n",
       "      <td>31.0</td>\n",
       "      <td>NaN</td>\n",
       "    </tr>\n",
       "    <tr>\n",
       "      <th>26797</th>\n",
       "      <td>603000.0</td>\n",
       "      <td>33.0</td>\n",
       "      <td>NaN</td>\n",
       "    </tr>\n",
       "    <tr>\n",
       "      <th>26805</th>\n",
       "      <td>675000.0</td>\n",
       "      <td>33.0</td>\n",
       "      <td>NaN</td>\n",
       "    </tr>\n",
       "    <tr>\n",
       "      <th>26810</th>\n",
       "      <td>638000.0</td>\n",
       "      <td>33.0</td>\n",
       "      <td>NaN</td>\n",
       "    </tr>\n",
       "  </tbody>\n",
       "</table>\n",
       "<p>651 rows × 3 columns</p>\n",
       "</div>"
      ],
      "text/plain": [
       "       price_aprox_usd  surface_total_in_m2  price_usd_per_m2\n",
       "24900         430000.0                 37.0               NaN\n",
       "24901         724500.0                 63.0               NaN\n",
       "25012        1202000.0                 37.0               NaN\n",
       "25113        2003000.0                 58.0               NaN\n",
       "25299         550000.0                 30.0               NaN\n",
       "25391         400200.0                 30.0               NaN\n",
       "25403         402300.0                 30.0               NaN\n",
       "25404         415630.0                 30.0               NaN\n",
       "25406         425000.0                 30.0               NaN\n",
       "25407         406200.0                 30.0               NaN\n",
       "25408         416300.0                 30.0               NaN\n",
       "25412         421300.0                 30.0               NaN\n",
       "25434         425600.0                 25.0               NaN\n",
       "25435         426800.0                 25.0               NaN\n",
       "25436         428700.0                 25.0               NaN\n",
       "25440         417500.0                 25.0               NaN\n",
       "25441         428900.0                 25.0               NaN\n",
       "25446         532600.0                 40.0               NaN\n",
       "25454         425600.0                 25.0               NaN\n",
       "25455         415700.0                 25.0               NaN\n",
       "25456         623500.0                 40.0               NaN\n",
       "25461         210600.0                 25.0               NaN\n",
       "25462         104500.0                 25.0               NaN\n",
       "25466         114500.0                 25.0               NaN\n",
       "25469         215600.0                 25.0               NaN\n",
       "25471         215600.0                 25.0               NaN\n",
       "25472         175800.0                 25.0               NaN\n",
       "25476         215800.0                 25.0               NaN\n",
       "25477         117800.0                 25.0               NaN\n",
       "25478         113690.0                 25.0               NaN\n",
       "...                ...                  ...               ...\n",
       "26695         701000.0                 35.0               NaN\n",
       "26701         555800.0                 33.0               NaN\n",
       "26702         590900.0                 33.0               NaN\n",
       "26703         640000.0                 35.0               NaN\n",
       "26704         590800.0                 33.0               NaN\n",
       "26705         602300.0                 35.0               NaN\n",
       "26707         613000.0                 35.0               NaN\n",
       "26711         625000.0                 32.0               NaN\n",
       "26715         680000.0                 32.0               NaN\n",
       "26723         567000.0                 33.0               NaN\n",
       "26725         615000.0                 32.0               NaN\n",
       "26727         720000.0                 31.0               NaN\n",
       "26732         735000.0                 35.0               NaN\n",
       "26735         650000.0                 33.0               NaN\n",
       "26752         679000.0                 35.0               NaN\n",
       "26756         655000.0                 33.0               NaN\n",
       "26762         656000.0                 32.0               NaN\n",
       "26766         987000.0                 41.0               NaN\n",
       "26767         566800.0                 31.0               NaN\n",
       "26768         988000.0                 41.0               NaN\n",
       "26771         555500.0                 32.0               NaN\n",
       "26775         665000.0                 32.0               NaN\n",
       "26777         987000.0                 42.0               NaN\n",
       "26779         666600.0                 32.0               NaN\n",
       "26780         909000.0                 42.0               NaN\n",
       "26782         665000.0                 32.0               NaN\n",
       "26791         669000.0                 31.0               NaN\n",
       "26797         603000.0                 33.0               NaN\n",
       "26805         675000.0                 33.0               NaN\n",
       "26810         638000.0                 33.0               NaN\n",
       "\n",
       "[651 rows x 3 columns]"
      ]
     },
     "execution_count": 32,
     "metadata": {},
     "output_type": "execute_result"
    }
   ],
   "source": [
    "data.loc[(data['price_aprox_usd'].notnull())&(data['surface_total_in_m2'].notnull())&(data['surface_total_in_m2']!=0)&(data['price_usd_per_m2'].isna()),['price_aprox_usd','surface_total_in_m2','price_usd_per_m2']]"
   ]
  },
  {
   "cell_type": "code",
   "execution_count": 33,
   "metadata": {},
   "outputs": [
    {
     "name": "stdout",
     "output_type": "stream",
     "text": [
      "Hay price en usd pero no en ars:\n",
      "Empty DataFrame\n",
      "Columns: [price_aprox_usd, price_aprox_local_currency]\n",
      "Index: []\n",
      "Hay price en ars pero no en usd:\n",
      "Empty DataFrame\n",
      "Columns: [price_aprox_usd, price_aprox_local_currency]\n",
      "Index: []\n"
     ]
    }
   ],
   "source": [
    "print(\"Hay price en usd pero no en ars:\")\n",
    "print(data.loc[(data['price_aprox_usd'].notnull())&(data['price_aprox_local_currency'].isnull()),['price_aprox_usd','price_aprox_local_currency']])\n",
    "print(\"Hay price en ars pero no en usd:\")\n",
    "print(data.loc[(data['price_aprox_usd'].isna())&(data['price_aprox_local_currency'].notnull()),['price_aprox_usd','price_aprox_local_currency']])"
   ]
  },
  {
   "cell_type": "markdown",
   "metadata": {},
   "source": [
    "Valores de precios igual a cero son inválidos. Cambiar a NaN."
   ]
  },
  {
   "cell_type": "code",
   "execution_count": 34,
   "metadata": {},
   "outputs": [],
   "source": [
    "data.loc[data['price_usd_per_m2']==0,'price_usd_per_m2']=np.nan\n",
    "data.loc[data['price_per_m2']==0,'price_per_m2']=np.nan\n",
    "data.loc[data['price_aprox_usd']==0,'price_aprox_usd']=np.nan\n",
    "data.loc[data['price']==0,'price']=np.nan\n",
    "data.loc[data['price_aprox_local_currency']==0,'price_aprox_local_currency']=np.nan"
   ]
  },
  {
   "cell_type": "markdown",
   "metadata": {},
   "source": [
    "Superficies menores a 10m2 las tomamos como inválidas.\n",
    "Lo mismo para superficie cubierta mayor a la total.\n",
    "\n",
    "Con esto, también debo invalidar los valores de price_per_m2 y price_usd_per_m2."
   ]
  },
  {
   "cell_type": "code",
   "execution_count": 35,
   "metadata": {
    "scrolled": true
   },
   "outputs": [
    {
     "data": {
      "text/plain": [
       "price                         100804\n",
       "currency                      100804\n",
       "price_aprox_local_currency    100804\n",
       "price_aprox_usd               100804\n",
       "surface_total_in_m2            80403\n",
       "surface_covered_in_m2          99772\n",
       "price_usd_per_m2               66991\n",
       "price_per_m2                   86680\n",
       "dtype: int64"
      ]
     },
     "execution_count": 35,
     "metadata": {},
     "output_type": "execute_result"
    }
   ],
   "source": [
    "data.loc[data['surface_covered_in_m2']<10,'surface_covered_in_m2']=np.nan\n",
    "data.loc[data['surface_total_in_m2']<10,'surface_total_in_m2']=np.nan\n",
    "sup_inv_index = data.loc[data['surface_covered_in_m2']>data['surface_total_in_m2'],price_cols].index\n",
    "data.loc[sup_inv_index,'surface_covered_in_m2']=np.nan\n",
    "data.loc[sup_inv_index,'surface_total_in_m2']=np.nan\n",
    "data.loc[sup_inv_index,'price_per_m2']=np.nan\n",
    "data.loc[sup_inv_index,'price_usd_per_m2']=np.nan\n",
    "\n",
    "\n",
    "data[price_cols].notnull().sum()"
   ]
  },
  {
   "cell_type": "markdown",
   "metadata": {},
   "source": [
    "## Búsqueda de valores de Precios en dólares (USD)."
   ]
  },
  {
   "cell_type": "code",
   "execution_count": 36,
   "metadata": {
    "scrolled": true
   },
   "outputs": [
    {
     "name": "stdout",
     "output_type": "stream",
     "text": [
      "price_aprox_usd               20411\n",
      "price_aprox_local_currency    20411\n",
      "dtype: int64\n",
      "----------------------------------------------------\n",
      "price_aprox_usd    17816\n",
      "dtype: int64\n",
      "----------------------------------------------------\n",
      "Hay price en usd pero no en ars:\n",
      "price_aprox_usd               2595\n",
      "price_aprox_local_currency       0\n",
      "dtype: int64\n"
     ]
    }
   ],
   "source": [
    "price_usd_search_lst = [price_search,price_search2]\n",
    "col_lst = ['title','description']\n",
    "\n",
    "print(data[['price_aprox_usd','price_aprox_local_currency']].isnull().sum())\n",
    "print('----------------------------------------------------')\n",
    "\n",
    "for col in col_lst:\n",
    "    for func in price_usd_search_lst:\n",
    "        data[\"price_aprox_usd\"].fillna(value=data.loc[data['price_aprox_usd'].isna(),col].apply(func), inplace=True)\n",
    "\n",
    "print(data[['price_aprox_usd']].isnull().sum())\n",
    "print('----------------------------------------------------')    \n",
    "\n",
    "print(\"Hay price en usd pero no en ars:\")\n",
    "print(data.loc[(data['price_aprox_usd'].notnull())&(data['price_aprox_local_currency'].isnull()),['price_aprox_usd','price_aprox_local_currency']].count())\n",
    "\n"
   ]
  },
  {
   "cell_type": "markdown",
   "metadata": {},
   "source": [
    "Con el valor de **price_aprox_usd** completo: **price** (mismo valor), **currency** (USD) y **price_aprox_local_currency** (convierto con TC_USD_aproxARS)."
   ]
  },
  {
   "cell_type": "code",
   "execution_count": 37,
   "metadata": {},
   "outputs": [
    {
     "data": {
      "text/plain": [
       "price                         103399\n",
       "currency                      103399\n",
       "price_aprox_local_currency    103399\n",
       "price_aprox_usd               103399\n",
       "surface_total_in_m2            80403\n",
       "surface_covered_in_m2          99772\n",
       "price_usd_per_m2               66991\n",
       "price_per_m2                   86680\n",
       "dtype: int64"
      ]
     },
     "execution_count": 37,
     "metadata": {},
     "output_type": "execute_result"
    }
   ],
   "source": [
    "data.loc[(data['price_aprox_usd'].notnull())&(data['price'].isna()),'price']=data.loc[(data['price_aprox_usd'].notnull())&(data['price'].isna()),'price_aprox_usd']\n",
    "data.loc[(data['price_aprox_usd'].notnull())&(data['currency'].isna()),'currency']='USD'\n",
    "data.loc[(data['price_aprox_usd'].notnull())&(data['price_aprox_local_currency'].isna()),'price_aprox_local_currency']=data.loc[(data['price_aprox_usd'].notnull())&(data['price_aprox_local_currency'].isna()),'price_aprox_usd']*TC_USD_aproxARS\n",
    "\n",
    "data[price_cols].notnull().sum()"
   ]
  },
  {
   "cell_type": "markdown",
   "metadata": {},
   "source": [
    "$price\\_usd\\_per\\_m2 = \\frac{price\\_aprox\\_usd}{surface\\_total\\_in\\_m2}$\n",
    "\n",
    "$price\\_per\\_m2 = \\frac{price}{surface\\_covered\\_in\\_m2}$\n",
    "\n",
    "\n",
    "Con estos valores y las anteriores relaciones, completo valores de **price_usd_per_m2** y **price_per_m2**:"
   ]
  },
  {
   "cell_type": "code",
   "execution_count": 38,
   "metadata": {},
   "outputs": [
    {
     "data": {
      "text/plain": [
       "price                         103399\n",
       "currency                      103399\n",
       "price_aprox_local_currency    103399\n",
       "price_aprox_usd               103399\n",
       "surface_total_in_m2            80403\n",
       "surface_covered_in_m2          99772\n",
       "price_usd_per_m2               69826\n",
       "price_per_m2                   89039\n",
       "dtype: int64"
      ]
     },
     "execution_count": 38,
     "metadata": {},
     "output_type": "execute_result"
    }
   ],
   "source": [
    "completar_pusdpm2_index = data.loc[(data['price_usd_per_m2'].isna())&(data['price_aprox_usd'].notnull())&(data['surface_total_in_m2'].notnull())&(data['surface_total_in_m2']!=0),price_cols].index\n",
    "data.loc[completar_pusdpm2_index,'price_usd_per_m2'] = data.loc[completar_pusdpm2_index,'price_aprox_usd'] / data.loc[completar_pusdpm2_index,'surface_total_in_m2']\n",
    "\n",
    "completar_parspm2_index = data.loc[(data['price_per_m2'].isna())&(data['price'].notnull())&(data['surface_covered_in_m2'].notnull())&(data['surface_covered_in_m2']!=0),price_cols].index\n",
    "data.loc[completar_parspm2_index,'price_per_m2'] = data.loc[completar_parspm2_index,'price'] / data.loc[completar_parspm2_index,'surface_covered_in_m2']\n",
    "\n",
    "data[price_cols].notnull().sum()"
   ]
  },
  {
   "cell_type": "markdown",
   "metadata": {},
   "source": [
    "## Búsqueda de valores de Precios en pesos (ARS)."
   ]
  },
  {
   "cell_type": "code",
   "execution_count": 39,
   "metadata": {},
   "outputs": [
    {
     "name": "stdout",
     "output_type": "stream",
     "text": [
      "price_aprox_local_currency    17423\n",
      "dtype: int64\n",
      "----------------------------------------------------\n",
      "Hay price en ars pero no en usd:\n",
      "price_aprox_usd                 0\n",
      "price_aprox_local_currency    393\n",
      "dtype: int64\n"
     ]
    }
   ],
   "source": [
    "price_ars_search_lst = [price_search_pesos]\n",
    "\n",
    "col_lst = ['title','description']\n",
    "for col in col_lst:\n",
    "    for func in price_ars_search_lst:\n",
    "        data[\"price_aprox_local_currency\"].fillna(value=data.loc[data['price_aprox_local_currency'].isna(),col].apply(func), inplace=True)\n",
    "\n",
    "print(data[['price_aprox_local_currency']].isnull().sum())\n",
    "print('----------------------------------------------------')\n",
    "\n",
    "print(\"Hay price en ars pero no en usd:\")\n",
    "print(data.loc[(data['price_aprox_usd'].isna())&(data['price_aprox_local_currency'].notnull()),['price_aprox_usd','price_aprox_local_currency']].count())"
   ]
  },
  {
   "cell_type": "markdown",
   "metadata": {},
   "source": [
    "Con este valor calculo el valor de price (USD) y price_aprox_usd (USD), con TC_ARS_aproxUSD. Pongo el valor de currency en USD."
   ]
  },
  {
   "cell_type": "code",
   "execution_count": 40,
   "metadata": {},
   "outputs": [
    {
     "data": {
      "text/plain": [
       "price                         103792\n",
       "currency                      103792\n",
       "price_aprox_local_currency    103792\n",
       "price_aprox_usd               103792\n",
       "surface_total_in_m2            80403\n",
       "surface_covered_in_m2          99772\n",
       "price_usd_per_m2               69826\n",
       "price_per_m2                   89039\n",
       "dtype: int64"
      ]
     },
     "execution_count": 40,
     "metadata": {},
     "output_type": "execute_result"
    }
   ],
   "source": [
    "#data.loc[(data['price_aprox_local_currency'].notnull())&(data['price'].isna()),price_cols].count()\n",
    "data.loc[(data['price_aprox_local_currency'].notnull())&(data['price'].isna()),'price'] = data.loc[(data['price_aprox_local_currency'].notnull())&(data['price'].isna()),'price_aprox_local_currency']/TC_ARS_aproxUSD\n",
    "data.loc[(data['price_aprox_local_currency'].notnull())&(data['price_aprox_usd'].isna()),'price_aprox_usd'] = data.loc[(data['price_aprox_local_currency'].notnull())&(data['price_aprox_usd'].isna()),'price_aprox_local_currency']/TC_ARS_aproxUSD\n",
    "data.loc[(data['price_aprox_local_currency'].notnull())&(data['currency'].isna()),'currency'] = 'USD'\n",
    "\n",
    "data[price_cols].notnull().sum()"
   ]
  },
  {
   "cell_type": "markdown",
   "metadata": {},
   "source": [
    "$price\\_usd\\_per\\_m2 = \\frac{price\\_aprox\\_usd}{surface\\_total\\_in\\_m2}$\n",
    "\n",
    "$price\\_per\\_m2 = \\frac{price}{surface\\_covered\\_in\\_m2}$\n",
    "\n",
    "\n",
    "Con estos valores y las anteriores relaciones, completo valores de **price_usd_per_m2** y **price_per_m2**:"
   ]
  },
  {
   "cell_type": "code",
   "execution_count": 41,
   "metadata": {
    "scrolled": true
   },
   "outputs": [
    {
     "data": {
      "text/plain": [
       "price                         103792\n",
       "currency                      103792\n",
       "price_aprox_local_currency    103792\n",
       "price_aprox_usd               103792\n",
       "surface_total_in_m2            80403\n",
       "surface_covered_in_m2          99772\n",
       "price_usd_per_m2               70101\n",
       "price_per_m2                   89286\n",
       "dtype: int64"
      ]
     },
     "execution_count": 41,
     "metadata": {},
     "output_type": "execute_result"
    }
   ],
   "source": [
    "completar_pusdpm2_index = data.loc[(data['price_usd_per_m2'].isna())&(data['price_aprox_usd'].notnull())&(data['surface_total_in_m2'].notnull())&(data['surface_total_in_m2']!=0),price_cols].index\n",
    "data.loc[completar_pusdpm2_index,'price_usd_per_m2'] = data.loc[completar_pusdpm2_index,'price_aprox_usd'] / data.loc[completar_pusdpm2_index,'surface_total_in_m2']\n",
    "\n",
    "completar_parspm2_index = data.loc[(data['price_per_m2'].isna())&(data['price'].notnull())&(data['surface_covered_in_m2'].notnull())&(data['surface_covered_in_m2']!=0),price_cols].index\n",
    "data.loc[completar_parspm2_index,'price_per_m2'] = data.loc[completar_parspm2_index,'price'] / data.loc[completar_parspm2_index,'surface_covered_in_m2']\n",
    "\n",
    "data[price_cols].notnull().sum()"
   ]
  },
  {
   "cell_type": "markdown",
   "metadata": {},
   "source": [
    "Valores de precios igual a cero son inválidos. Cambiar a NaN.\n",
    "\n",
    "**¿Agregar algún filtro por valor mínimo?**"
   ]
  },
  {
   "cell_type": "code",
   "execution_count": 42,
   "metadata": {},
   "outputs": [],
   "source": [
    "data.loc[data['price_usd_per_m2']==0,'price_usd_per_m2']=np.nan\n",
    "data.loc[data['price_per_m2']==0,'price_per_m2']=np.nan\n",
    "data.loc[data['price_aprox_usd']==0,'price_aprox_usd']=np.nan\n",
    "data.loc[data['price']==0,'price']=np.nan\n",
    "data.loc[data['price_aprox_local_currency']==0,'price_aprox_local_currency']=np.nan"
   ]
  },
  {
   "cell_type": "code",
   "execution_count": 43,
   "metadata": {
    "scrolled": true
   },
   "outputs": [
    {
     "data": {
      "text/plain": [
       "price                         103792\n",
       "currency                      103792\n",
       "price_aprox_local_currency    103792\n",
       "price_aprox_usd               103792\n",
       "surface_total_in_m2            80403\n",
       "surface_covered_in_m2          99772\n",
       "price_usd_per_m2               70101\n",
       "price_per_m2                   89286\n",
       "dtype: int64"
      ]
     },
     "execution_count": 43,
     "metadata": {},
     "output_type": "execute_result"
    }
   ],
   "source": [
    "data[price_cols].notnull().sum()"
   ]
  },
  {
   "cell_type": "code",
   "execution_count": 44,
   "metadata": {},
   "outputs": [
    {
     "data": {
      "text/html": [
       "<div>\n",
       "<style scoped>\n",
       "    .dataframe tbody tr th:only-of-type {\n",
       "        vertical-align: middle;\n",
       "    }\n",
       "\n",
       "    .dataframe tbody tr th {\n",
       "        vertical-align: top;\n",
       "    }\n",
       "\n",
       "    .dataframe thead th {\n",
       "        text-align: right;\n",
       "    }\n",
       "</style>\n",
       "<table border=\"1\" class=\"dataframe\">\n",
       "  <thead>\n",
       "    <tr style=\"text-align: right;\">\n",
       "      <th></th>\n",
       "      <th>price</th>\n",
       "      <th>currency</th>\n",
       "      <th>price_aprox_local_currency</th>\n",
       "      <th>price_aprox_usd</th>\n",
       "      <th>surface_total_in_m2</th>\n",
       "      <th>surface_covered_in_m2</th>\n",
       "      <th>price_usd_per_m2</th>\n",
       "      <th>price_per_m2</th>\n",
       "    </tr>\n",
       "  </thead>\n",
       "  <tbody>\n",
       "  </tbody>\n",
       "</table>\n",
       "</div>"
      ],
      "text/plain": [
       "Empty DataFrame\n",
       "Columns: [price, currency, price_aprox_local_currency, price_aprox_usd, surface_total_in_m2, surface_covered_in_m2, price_usd_per_m2, price_per_m2]\n",
       "Index: []"
      ]
     },
     "execution_count": 44,
     "metadata": {},
     "output_type": "execute_result"
    }
   ],
   "source": [
    "data.loc[(data['surface_total_in_m2'].isna())&(data['price_aprox_usd'].notnull())&(data['price_usd_per_m2'].notnull())&(data['price_per_m2']>=data['price_usd_per_m2']),price_cols]"
   ]
  },
  {
   "cell_type": "markdown",
   "metadata": {},
   "source": [
    "## Funciones para búsqueda de 'rooms'"
   ]
  },
  {
   "cell_type": "code",
   "execution_count": 45,
   "metadata": {},
   "outputs": [],
   "source": [
    "def mono_amb_search(text):\n",
    "    '''Busca si aparece algun monoambiente en el texto.\n",
    "    '''\n",
    "    #pattern_1amb = r'mono\\s?ambiente'\n",
    "    #este funciona mejor, captura más.\n",
    "    pattern_1amb = r'mono\\s?h?amb\\.?\\w+' \n",
    "    regex_1amb = re.compile(pattern_1amb, flags = re.IGNORECASE)\n",
    "    mono_amb = regex_1amb.findall(text)\n",
    "    if(mono_amb):\n",
    "        return 1\n",
    "    else:\n",
    "        return np.nan\n",
    "\n",
    "def more_amb_search(text): \n",
    "    '''Busca la cantidad de ambientes con dígitos.\n",
    "    '''\n",
    "   \n",
    "    accepted_lst = ['ambientes','ambientes','amb.','amvientes','anvientes','hambientes',\n",
    "                'hamvientes','hanvientes','ambintes','ambtes','ambiemtes','ambietes',\n",
    "               'ambieintes','ambeintes','ambentes','ambs','ambietnes','ambienes',\n",
    "                   'ambientessan','ambc']\n",
    "    \n",
    "    accepted = ';'.join(accepted_lst)\n",
    "    \n",
    "    pattern_amb = r'(\\d+)\\s*(h?(?:amb|anv|amv)\\.?\\w*)'\n",
    "    regex_amb = re.compile(pattern_amb, flags = re.IGNORECASE)\n",
    "    ambientes = regex_amb.findall(text)\n",
    "    \n",
    "    if not ambientes:\n",
    "        return np.nan\n",
    "    if len(ambientes)>1:\n",
    "        #si es cero, no encontré nada. si es mayor a uno, es un proyecto o un complejo.\n",
    "        #lo dejo para después.\n",
    "        #return np.nan\n",
    "        amb_lst = [float(item[0]) for item in ambientes if item[1].lower() in accepted]\n",
    "        \n",
    "        if amb_lst:\n",
    "            amb=max(amb_lst)\n",
    "            if amb==0:\n",
    "                return np.nan\n",
    "            else:\n",
    "                return(max(amb_lst))\n",
    "        else:\n",
    "            return np.nan\n",
    "        \n",
    "    if len(ambientes)==1:\n",
    "        if ambientes[0][1].lower() in accepted:\n",
    "            amb = float(ambientes[0][0])\n",
    "            if amb==0:\n",
    "                return np.nan\n",
    "#             if amb<20:\n",
    "#                 return amb\n",
    "#             else:\n",
    "#                 return np.nan  \n",
    "            return amb\n",
    "\n",
    "def text_amb_search(text):\n",
    "    \n",
    "    '''Buscar por un número con palabras y convertirlo a float.\n",
    "    '''\n",
    "    \n",
    "    convert_dict = {\n",
    "        'un': 1.0,'uno': 1.0,'dos': 2.0,'tres': 3.0,'cuatro': 4.0,'cinco': 5.0,\n",
    "        'seis': 6.0,'siete': 7.0,'ocho': 8.0,'nueve': 9.0,'diez': 10.0,'once': 11.0,\n",
    "        'doce': 12.0,'trece': 13.0,'catorce': 14.0,'quince': 15.0\n",
    "    }\n",
    "    \n",
    "    accepted_lst = ['ambientes','ambientes','amb.','amvientes','anvientes','hambientes',\n",
    "                'hamvientes','hanvientes','ambintes','ambtes','ambiemtes','ambietes',\n",
    "               'ambieintes','ambeintes','ambentes','ambs','ambietnes','ambienes',\n",
    "                   'ambientessan','ambc']\n",
    "    \n",
    "    accepted = ';'.join(accepted_lst)\n",
    "    pattern_amb = r'([a-z]{2,7})\\s*(h?(?:amb|anv|amv)\\.?\\w*)'\n",
    "    regex_amb = re.compile(pattern_amb, flags = re.IGNORECASE)\n",
    "    ambientes = regex_amb.findall(text)\n",
    "    if not ambientes:\n",
    "        return np.nan\n",
    "    if len(ambientes)!=1:\n",
    "        amb_lst = [convert_dict[item[0].lower()] for item in ambientes if item[1].lower() in accepted\\\n",
    "                   and item[0].lower() in convert_dict.keys()]\n",
    "        if amb_lst:\n",
    "            amb = max(amb_lst)\n",
    "            if amb==0:\n",
    "                return np.nan\n",
    "            return amb\n",
    "        else:\n",
    "            return np.nan\n",
    "    else:\n",
    "        if ambientes[0][1].lower() not in accepted:\n",
    "            return np.nan\n",
    "        else:\n",
    "            if ambientes[0][0].lower() not in convert_dict.keys():\n",
    "                return np.nan\n",
    "            else:\n",
    "                amb = convert_dict[ambientes[0][0].lower()]\n",
    "                if amb==0:\n",
    "                    return np.nan\n",
    "                return amb\n",
    "            \n",
    "\n",
    "def dorm_search(text):\n",
    "    pattern_dorm = r'([0-9]+)\\s*(?:dorm|habit|habiat|amplios dorm|buenos dorm)\\.?(?:itorio|cion|acion|ación)?(?:s|es)?'\n",
    "    regex_dorm = re.compile(pattern_dorm, flags = re.IGNORECASE)\n",
    "    dorms = regex_dorm.findall(text)\n",
    "    if not dorms:\n",
    "        return np.nan\n",
    "    if len(dorms)>1:\n",
    "        dorm_lst = [float(item) for item in dorms]\n",
    "        return max(dorm_lst)\n",
    "    if len(dorms)==1:\n",
    "        amb = float(dorms[0])+1\n",
    "        if amb<=20:\n",
    "            return amb\n",
    "        else:\n",
    "            return np.nan\n",
    "\n",
    "def dorm_search2(text):\n",
    "    pattern_dorm = r'(?:dorm|habit|habiat)\\.?(?:itorio|cion|acion|ación)?(?:s|es)?:?\\s*([0-9]+)'\n",
    "    regex_dorm = re.compile(pattern_dorm, flags = re.IGNORECASE)\n",
    "    dorms = regex_dorm.findall(text)\n",
    "    if not dorms:\n",
    "        return np.nan\n",
    "    if len(dorms)>1:\n",
    "        dorm_lst = [float(item) for item in dorms]\n",
    "        return max(dorm_lst)+1\n",
    "    if len(dorms)==1:\n",
    "        amb = float(dorms[0])+1\n",
    "        if amb<=20:\n",
    "            return amb\n",
    "        else:\n",
    "            return np.nan\n",
    "\n",
    "def text_dorm_search(text):\n",
    "    convert_dict = {\n",
    "        'un': 1.0,'uno': 1.0,'dos': 2.0,'tres': 3.0,'cuatro': 4.0,\n",
    "        'cinco': 5.0,'seis': 6.0,'siete': 7.0,'ocho': 8.0,'nueve': 9.0,\n",
    "        'diez': 10.0,'once': 11.0,'doce': 12.0,'trece': 13.0,\n",
    "        'catorce': 14.0,'quince': 15.0\n",
    "    }\n",
    "    \n",
    "    pattern_dorm = r'([a-z]{2,7})\\s*(?:dorm|habit|amplios dorm)\\.?(?:itorio|acion|ación)?(?:s|es)?'\n",
    "    regex_dorm = re.compile(pattern_dorm, flags = re.IGNORECASE)\n",
    "    dorms = regex_dorm.findall(text)\n",
    "    \n",
    "    if not dorms:\n",
    "        return np.nan    \n",
    "    if len(dorms)>1:\n",
    "        dorms_lst = [convert_dict[item.lower()] for item in dorms if item.lower() in convert_dict.keys()]\n",
    "        if dorms_lst:\n",
    "            return max(dorms_lst)\n",
    "        else:\n",
    "            return np.nan\n",
    "    if len(dorms)==1:\n",
    "        if dorms[0].lower() not in convert_dict.keys():\n",
    "            return np.nan\n",
    "        else:\n",
    "            amb = convert_dict[dorms[0].lower()] + 1.0\n",
    "            if amb<=20:\n",
    "                return amb\n",
    "            else:\n",
    "                return np.nan\n",
    "\n",
    "def clean_temp_col(df,tempCol):\n",
    "    \"\"\"Cleans a tempCol column from a df dataframe. Writes nan on every row.\n",
    "    \n",
    "    Parameters\n",
    "    ----------\n",
    "    df : pandas.DataFrame\n",
    "        The dataframe you want to clean a temporary column.\n",
    "    tempCol: str\n",
    "        The name passed as a string of the column to clean.\n",
    "    \"\"\"\n",
    "    df.loc[:,tempCol]=np.nan\n",
    "\n",
    "def new_found(df,tempCol,cleanCol):\n",
    "    \"\"\"Shows a message about the new data found.\n",
    "    \n",
    "    Parameters\n",
    "    ----------\n",
    "    df : pandas.DataFrame\n",
    "        The dataframe to take data from.\n",
    "    tempCol: str\n",
    "        The name passed as a string of the temporary column.\n",
    "    cleanCol: str\n",
    "        the name passed as a string of the clean column.\n",
    "    \"\"\"\n",
    "    print(\"Nuevos: {}.\".format(df[tempCol].notnull().sum()))\n",
    "    print(\"Total: {}.\".format(df[cleanCol].notnull().sum()))\n",
    "\n",
    "import scipy.stats as stats\n",
    "\n",
    "#valor_mas_chico=0\n",
    "\n",
    "def calculate_iqr_values(array):\n",
    "    \"\"\"Calculates inferior and superior limits of the iqr plus a margin.\n",
    "    Returns\n",
    "    ---------\n",
    "    lim_inf: float\n",
    "        q1-1.5*iqr\n",
    "    lim_sup: float\n",
    "        q3+1.5*iqr\n",
    "    \"\"\"\n",
    "    q1,q3=np.percentile(array,[25 ,75])\n",
    "    arr_iqr = stats.iqr(array)\n",
    "    lim_inf = q1-1.5*arr_iqr\n",
    "#     if lim_inf<valor_mas_chico:\n",
    "#         lim_inf=valor_mas_chico\n",
    "    lim_sup = q3+1.5*arr_iqr\n",
    "    return lim_inf,lim_sup\n",
    "\n",
    "def check_outliers(x,min_lim,max_lim):\n",
    "    if x<min_lim:\n",
    "        return np.nan\n",
    "    elif x>max_lim:\n",
    "        return np.nan\n",
    "    else:\n",
    "        return x"
   ]
  },
  {
   "cell_type": "code",
   "execution_count": 46,
   "metadata": {},
   "outputs": [],
   "source": [
    "def rooms_filter():\n",
    "    rooms_min = 1\n",
    "    rooms_max = 7\n",
    "    \n",
    "    data['rooms'] = data['rooms'].apply(lambda x: np.nan if x<rooms_min or x>rooms_max else x)\n",
    "        \n",
    "    \n",
    "rooms_filter()"
   ]
  },
  {
   "cell_type": "code",
   "execution_count": 47,
   "metadata": {
    "scrolled": true
   },
   "outputs": [
    {
     "data": {
      "text/plain": [
       "NaN    74946\n",
       "3.0    12567\n",
       "2.0    12433\n",
       "4.0     7937\n",
       "1.0     7377\n",
       "5.0     3782\n",
       "6.0     1403\n",
       "7.0      770\n",
       "Name: rooms, dtype: int64"
      ]
     },
     "execution_count": 47,
     "metadata": {},
     "output_type": "execute_result"
    }
   ],
   "source": [
    "data['rooms'].value_counts(dropna=False)"
   ]
  },
  {
   "cell_type": "code",
   "execution_count": 48,
   "metadata": {},
   "outputs": [],
   "source": [
    "#data['clean_amb']=data['rooms']\n",
    "#data['temp_amb']=np.nan\n",
    "\n",
    "#data['description'] = data['description'].fillna(\"-\")\n",
    "\n",
    "func_lst = [mono_amb_search,more_amb_search,text_amb_search,dorm_search,text_dorm_search,dorm_search2]\n",
    "for func in func_lst:\n",
    "    data[\"rooms\"].fillna(value=data.loc[(data['rooms'].isna()),col].apply(func), inplace=True)\n",
    "    \n",
    "    \n",
    "    #clean_temp_col(data,'temp_amb')\n",
    "    #data.loc[data['rooms'].isna(),'temp_amb']=data.loc[data['rooms'].isna()]['description'].apply(func)\n",
    "    ##data.loc[data['property_type']=='house','temp_amb'] = data.loc[data['property_type']=='house','temp_amb'].apply(check_outliers,args=(1,iqr_values_house[1]))\n",
    "    #data['clean_amb'].fillna(value=data['temp_amb'],inplace=True)\n",
    "    ##data.loc[data['clean_amb'].isna(),'clean_amb']=data.loc[data['clean_amb'].isna(),'clean_amb'].add(data.loc[:,'temp_amb'],fill_value=0)\n",
    "    \n",
    "#data.loc[data['rooms'].isna(),'rooms'] = data.loc[data['rooms'].isna(),'rooms'].add(data['clean_amb'],fill_value=0)\n",
    "rooms_filter()"
   ]
  },
  {
   "cell_type": "code",
   "execution_count": 49,
   "metadata": {},
   "outputs": [
    {
     "data": {
      "text/plain": [
       "3.0    32337\n",
       "2.0    26523\n",
       "4.0    20354\n",
       "NaN    17724\n",
       "1.0    14149\n",
       "5.0     7067\n",
       "6.0     2096\n",
       "7.0      965\n",
       "Name: rooms, dtype: int64"
      ]
     },
     "execution_count": 49,
     "metadata": {},
     "output_type": "execute_result"
    }
   ],
   "source": [
    "data['rooms'].value_counts(dropna=False)"
   ]
  },
  {
   "cell_type": "code",
   "execution_count": 50,
   "metadata": {},
   "outputs": [
    {
     "name": "stdout",
     "output_type": "stream",
     "text": [
      "Se va a dropear 17724 filas (falta de datos para rooms).\n"
     ]
    }
   ],
   "source": [
    "print(\"Se va a dropear {} filas (falta de datos para rooms).\".format(data['rooms'].isna().sum()))"
   ]
  },
  {
   "cell_type": "code",
   "execution_count": 51,
   "metadata": {
    "scrolled": true
   },
   "outputs": [],
   "source": [
    "falta_rooms = data.loc[data['rooms'].isna()].index\n",
    "data.drop(falta_rooms,inplace=True)"
   ]
  },
  {
   "cell_type": "code",
   "execution_count": 52,
   "metadata": {},
   "outputs": [],
   "source": [
    "#data.drop(columns=['clean_amb','temp_amb'],inplace=True)"
   ]
  },
  {
   "cell_type": "markdown",
   "metadata": {},
   "source": [
    "## Visualización de Superficie por número de ambientes"
   ]
  },
  {
   "cell_type": "code",
   "execution_count": 53,
   "metadata": {},
   "outputs": [
    {
     "data": {
      "text/plain": [
       "Text(0, 0.5, 'Superficie [m2]')"
      ]
     },
     "execution_count": 53,
     "metadata": {},
     "output_type": "execute_result"
    },
    {
     "data": {
      "image/png": "[encoded data removed]",
      "text/plain": [
       "<Figure size 1008x720 with 4 Axes>"
      ]
     },
     "metadata": {
      "needs_background": "light"
     },
     "output_type": "display_data"
    }
   ],
   "source": [
    "apartment_df = data.loc[data['property_type']=='apartment'].copy()\n",
    "house_df = data.loc[data['property_type']=='house'].copy()\n",
    "ph_df = data.loc[data['property_type']=='PH'].copy()\n",
    "store_df = data.loc[data['property_type']=='store'].copy()\n",
    "\n",
    "plt.figure(figsize=(14,10))\n",
    "plt.subplot(221)\n",
    "plt.grid(True)  \n",
    "#ax = sns.boxplot(x=\"rooms\", y=\"surface_total_in_m2\", data=apartment_df, palette=\"Set1\")\n",
    "ax = sns.boxplot(x=\"rooms\", y=\"surface_covered_in_m2\", data=apartment_df, palette=\"Set1\")\n",
    "plt.title('Superficie por número de ambientes (departamentos)')\n",
    "plt.xlabel('Número de Ambientes')\n",
    "plt.ylabel('Superficie [m2]')\n",
    "\n",
    "plt.subplot(222)\n",
    "plt.grid(True)  \n",
    "#ax = sns.boxplot(x=\"rooms\", y=\"surface_total_in_m2\", data=house_df, palette=\"Set1\")\n",
    "ax = sns.boxplot(x=\"rooms\", y=\"surface_covered_in_m2\", data=house_df, palette=\"Set1\")\n",
    "plt.title('Superficie por número de ambientes (Casa)')\n",
    "plt.xlabel('Número de Ambientes')\n",
    "plt.ylabel('Superficie [m2]')\n",
    "\n",
    "plt.subplot(223)\n",
    "plt.grid(True)  \n",
    "#ax = sns.boxplot(x=\"rooms\", y=\"surface_total_in_m2\", data=ph_df, palette=\"Set1\")\n",
    "ax = sns.boxplot(x=\"rooms\", y=\"surface_covered_in_m2\", data=ph_df, palette=\"Set1\")\n",
    "plt.title('Superficie por número de ambientes (PH)')\n",
    "plt.xlabel('Número de Ambientes')\n",
    "plt.ylabel('Superficie [m2]')\n",
    "\n",
    "plt.subplot(224)\n",
    "plt.grid(True)  \n",
    "#ax = sns.boxplot(x=\"rooms\", y=\"surface_total_in_m2\", data=store_df, palette=\"Set1\")\n",
    "ax = sns.boxplot(x=\"rooms\", y=\"surface_covered_in_m2\", data=store_df, palette=\"Set1\")\n",
    "plt.title('Superficie por número de ambientes (Store)')\n",
    "plt.xlabel('Número de Ambientes')\n",
    "plt.ylabel('Superficie [m2]')\n",
    "#plt.savefig(\"../Images/Rooms-Before.png\")"
   ]
  },
  {
   "cell_type": "markdown",
   "metadata": {},
   "source": [
    "## Limpiando Superficies "
   ]
  },
  {
   "cell_type": "markdown",
   "metadata": {},
   "source": [
    "### apartment"
   ]
  },
  {
   "cell_type": "code",
   "execution_count": 54,
   "metadata": {
    "scrolled": true
   },
   "outputs": [
    {
     "name": "stdout",
     "output_type": "stream",
     "text": [
      "[(10, 64.5), (10, 89.0), (10, 154.0), (10, 252.0), (10, 410.0), (10, 528.75), (10, 537.5)]\n",
      "[(10, 55.0), (10, 75.0), (10, 122.5), (10, 210.0), (10, 360.0), (10, 501.875), (10, 477.5)]\n"
     ]
    },
    {
     "data": {
      "text/html": [
       "<div>\n",
       "<style scoped>\n",
       "    .dataframe tbody tr th:only-of-type {\n",
       "        vertical-align: middle;\n",
       "    }\n",
       "\n",
       "    .dataframe tbody tr th {\n",
       "        vertical-align: top;\n",
       "    }\n",
       "\n",
       "    .dataframe thead th {\n",
       "        text-align: right;\n",
       "    }\n",
       "</style>\n",
       "<table border=\"1\" class=\"dataframe\">\n",
       "  <thead>\n",
       "    <tr style=\"text-align: right;\">\n",
       "      <th></th>\n",
       "      <th>surface_total_in_m2</th>\n",
       "      <th>surface_covered_in_m2</th>\n",
       "    </tr>\n",
       "    <tr>\n",
       "      <th>rooms</th>\n",
       "      <th></th>\n",
       "      <th></th>\n",
       "    </tr>\n",
       "  </thead>\n",
       "  <tbody>\n",
       "    <tr>\n",
       "      <th>1.0</th>\n",
       "      <td>37.0</td>\n",
       "      <td>34.0</td>\n",
       "    </tr>\n",
       "    <tr>\n",
       "      <th>2.0</th>\n",
       "      <td>51.0</td>\n",
       "      <td>46.0</td>\n",
       "    </tr>\n",
       "    <tr>\n",
       "      <th>3.0</th>\n",
       "      <td>78.0</td>\n",
       "      <td>70.0</td>\n",
       "    </tr>\n",
       "    <tr>\n",
       "      <th>4.0</th>\n",
       "      <td>110.0</td>\n",
       "      <td>100.0</td>\n",
       "    </tr>\n",
       "    <tr>\n",
       "      <th>5.0</th>\n",
       "      <td>175.0</td>\n",
       "      <td>148.0</td>\n",
       "    </tr>\n",
       "    <tr>\n",
       "      <th>6.0</th>\n",
       "      <td>215.0</td>\n",
       "      <td>192.0</td>\n",
       "    </tr>\n",
       "    <tr>\n",
       "      <th>7.0</th>\n",
       "      <td>233.0</td>\n",
       "      <td>215.0</td>\n",
       "    </tr>\n",
       "  </tbody>\n",
       "</table>\n",
       "</div>"
      ],
      "text/plain": [
       "       surface_total_in_m2  surface_covered_in_m2\n",
       "rooms                                            \n",
       "1.0                   37.0                   34.0\n",
       "2.0                   51.0                   46.0\n",
       "3.0                   78.0                   70.0\n",
       "4.0                  110.0                  100.0\n",
       "5.0                  175.0                  148.0\n",
       "6.0                  215.0                  192.0\n",
       "7.0                  233.0                  215.0"
      ]
     },
     "execution_count": 54,
     "metadata": {},
     "output_type": "execute_result"
    }
   ],
   "source": [
    "sup_tot_limits_apt = []\n",
    "sup_cub_limits_apt = []\n",
    "for i in range(1,8,1):\n",
    "    a=calculate_iqr_values(data.loc[(data['rooms']==i)&(data['property_type']=='apartment')&(data['surface_total_in_m2'].notnull()),'surface_total_in_m2'])[1]\n",
    "    sup_tot_limits_apt.append((10,a))\n",
    "    b=calculate_iqr_values(data.loc[(data['rooms']==i)&(data['property_type']=='apartment')&(data['surface_covered_in_m2'].notnull()),'surface_covered_in_m2'])[1]\n",
    "    sup_cub_limits_apt.append((10,b))\n",
    "print(sup_tot_limits_apt)\n",
    "print(sup_cub_limits_apt)\n",
    "\n",
    "for i in range(7):\n",
    "    data.loc[(data['property_type']=='apartment')&(data['surface_total_in_m2']>sup_tot_limits_apt[i][1]),'surface_total_in_m2']=np.nan\n",
    "    data.loc[(data['property_type']=='apartment')&(data['surface_covered_in_m2']>sup_cub_limits_apt[i][1]),'surface_covered_in_m2']=np.nan\n",
    "    data.loc[(data['property_type']=='apartment')&(data['surface_total_in_m2']<sup_tot_limits_apt[i][0]),'surface_total_in_m2']=np.nan\n",
    "    data.loc[(data['property_type']=='apartment')&(data['surface_covered_in_m2']<sup_cub_limits_apt[i][0]),'surface_covered_in_m2']=np.nan\n",
    "apartment_df[['rooms','surface_total_in_m2','surface_covered_in_m2']].groupby('rooms').median()"
   ]
  },
  {
   "cell_type": "markdown",
   "metadata": {
    "scrolled": true
   },
   "source": [
    "### house"
   ]
  },
  {
   "cell_type": "code",
   "execution_count": 55,
   "metadata": {
    "scrolled": true
   },
   "outputs": [
    {
     "name": "stdout",
     "output_type": "stream",
     "text": [
      "[(10, 945.0), (10, 900.0), (10, 827.5), (10, 881.25), (10, 1125.375), (10, 1360.5), (10, 1585.375)]\n",
      "[(10, 467.0), (10, 460.5), (10, 400.0), (10, 425.5), (10, 522.5), (10, 612.5), (10, 681.75)]\n"
     ]
    }
   ],
   "source": [
    "sup_tot_limits_hs = []\n",
    "sup_cub_limits_hs = []\n",
    "for i in range(1,8,1):\n",
    "    a=calculate_iqr_values(data.loc[(data['rooms']==i)&(data['property_type']=='house')&(data['surface_total_in_m2'].notnull()),'surface_total_in_m2'])[1]\n",
    "    sup_tot_limits_hs.append((10,a))\n",
    "    b=calculate_iqr_values(data.loc[(data['rooms']==i)&(data['property_type']=='house')&(data['surface_covered_in_m2'].notnull()),'surface_covered_in_m2'])[1]\n",
    "    sup_cub_limits_hs.append((10,b))\n",
    "print(sup_tot_limits_hs)\n",
    "print(sup_cub_limits_hs)\n",
    "\n",
    "for i in range(7):\n",
    "    data.loc[(data['property_type']=='house')&(data['surface_total_in_m2']>sup_tot_limits_hs[i][1]),'surface_total_in_m2']=np.nan\n",
    "    data.loc[(data['property_type']=='house')&(data['surface_covered_in_m2']>sup_cub_limits_hs[i][1]),'surface_covered_in_m2']=np.nan\n",
    "    data.loc[(data['property_type']=='house')&(data['surface_total_in_m2']<sup_tot_limits_hs[i][0]),'surface_total_in_m2']=np.nan\n",
    "    data.loc[(data['property_type']=='house')&(data['surface_covered_in_m2']<sup_cub_limits_hs[i][0]),'surface_covered_in_m2']=np.nan\n",
    "#apartment_df[['rooms','surface_total_in_m2','surface_covered_in_m2']].groupby('rooms').median()"
   ]
  },
  {
   "cell_type": "markdown",
   "metadata": {},
   "source": [
    "### PH"
   ]
  },
  {
   "cell_type": "code",
   "execution_count": 56,
   "metadata": {},
   "outputs": [
    {
     "name": "stdout",
     "output_type": "stream",
     "text": [
      "[(10, 221.5), (10, 109.5), (10, 198.0), (10, 287.5), (10, 370.5)]\n",
      "[(10, 148.375), (10, 90.0), (10, 138.0), (10, 197.5), (10, 257.5)]\n"
     ]
    }
   ],
   "source": [
    "sup_tot_limits_ph = []\n",
    "sup_cub_limits_ph = []\n",
    "for i in range(1,6,1):\n",
    "    a=calculate_iqr_values(data.loc[(data['rooms']==i)&(data['property_type']=='PH')&(data['surface_total_in_m2'].notnull()),'surface_total_in_m2'])[1]\n",
    "    sup_tot_limits_ph.append((10,a))\n",
    "    b=calculate_iqr_values(data.loc[(data['rooms']==i)&(data['property_type']=='PH')&(data['surface_covered_in_m2'].notnull()),'surface_covered_in_m2'])[1]\n",
    "    sup_cub_limits_ph.append((10,b))\n",
    "print(sup_tot_limits_ph)\n",
    "print(sup_cub_limits_ph)\n",
    "\n",
    "for i in range(5):\n",
    "    data.loc[(data['property_type']=='PH')&(data['surface_total_in_m2']>sup_tot_limits_ph[i][1]),'surface_total_in_m2']=np.nan\n",
    "    data.loc[(data['property_type']=='PH')&(data['surface_covered_in_m2']>sup_cub_limits_ph[i][1]),'surface_covered_in_m2']=np.nan\n",
    "    data.loc[(data['property_type']=='PH')&(data['surface_total_in_m2']<sup_tot_limits_ph[i][0]),'surface_total_in_m2']=np.nan\n",
    "    data.loc[(data['property_type']=='PH')&(data['surface_covered_in_m2']<sup_cub_limits_ph[i][0]),'surface_covered_in_m2']=np.nan\n",
    "#apartment_df[['rooms','surface_total_in_m2','surface_covered_in_m2']].groupby('rooms').median()"
   ]
  },
  {
   "cell_type": "markdown",
   "metadata": {},
   "source": [
    "### store"
   ]
  },
  {
   "cell_type": "code",
   "execution_count": 57,
   "metadata": {},
   "outputs": [
    {
     "name": "stdout",
     "output_type": "stream",
     "text": [
      "[(10, 411.0), (10, 688.25), (10, 1029.5), (10, 1009.5)]\n",
      "[(10, 393.75), (10, 588.625), (10, 703.25), (10, 825.625)]\n"
     ]
    }
   ],
   "source": [
    "sup_tot_limits_str = []\n",
    "sup_cub_limits_str = []\n",
    "for i in range(1,5,1):\n",
    "    a=calculate_iqr_values(data.loc[(data['rooms']==i)&(data['property_type']=='store')&(data['surface_total_in_m2'].notnull()),'surface_total_in_m2'])[1]\n",
    "    sup_tot_limits_str.append((10,a))\n",
    "    b=calculate_iqr_values(data.loc[(data['rooms']==i)&(data['property_type']=='store')&(data['surface_covered_in_m2'].notnull()),'surface_covered_in_m2'])[1]\n",
    "    sup_cub_limits_str.append((10,b))\n",
    "print(sup_tot_limits_str)\n",
    "print(sup_cub_limits_str)\n",
    "\n",
    "for i in range(4):\n",
    "    data.loc[(data['property_type']=='store')&(data['surface_total_in_m2']>sup_tot_limits_str[i][1]),'surface_total_in_m2']=np.nan\n",
    "    data.loc[(data['property_type']=='store')&(data['surface_covered_in_m2']>sup_cub_limits_str[i][1]),'surface_covered_in_m2']=np.nan\n",
    "    data.loc[(data['property_type']=='store')&(data['surface_total_in_m2']<sup_tot_limits_str[i][0]),'surface_total_in_m2']=np.nan\n",
    "    data.loc[(data['property_type']=='store')&(data['surface_covered_in_m2']<sup_cub_limits_str[i][0]),'surface_covered_in_m2']=np.nan\n",
    "#apartment_df[['rooms','surface_total_in_m2','surface_covered_in_m2']].groupby('rooms').median()"
   ]
  },
  {
   "cell_type": "markdown",
   "metadata": {},
   "source": [
    "Me armo un dataframe con los datos de apartment y en cada fila la superficie segun número de ambientes."
   ]
  },
  {
   "cell_type": "code",
   "execution_count": 58,
   "metadata": {
    "scrolled": false
   },
   "outputs": [
    {
     "data": {
      "text/plain": [
       "Text(0, 0.5, 'Superficie [m2]')"
      ]
     },
     "execution_count": 58,
     "metadata": {},
     "output_type": "execute_result"
    },
    {
     "data": {
      "image/png": "[encoded data removed]",
      "text/plain": [
       "<Figure size 1008x720 with 4 Axes>"
      ]
     },
     "metadata": {
      "needs_background": "light"
     },
     "output_type": "display_data"
    }
   ],
   "source": [
    "apartment_df = data.loc[data['property_type']=='apartment'].copy()\n",
    "house_df = data.loc[data['property_type']=='house'].copy()\n",
    "ph_df = data.loc[data['property_type']=='PH'].copy()\n",
    "store_df = data.loc[data['property_type']=='store'].copy()\n",
    "\n",
    "plt.figure(figsize=(14,10))\n",
    "plt.subplot(221)\n",
    "plt.grid(True)  \n",
    "#ax = sns.boxplot(x=\"rooms\", y=\"surface_total_in_m2\", data=apartment_df, palette=\"Set1\")\n",
    "ax = sns.boxplot(x=\"rooms\", y=\"surface_covered_in_m2\", data=apartment_df, palette=\"Set1\")\n",
    "plt.title('Departamentos')\n",
    "plt.xlabel('Número de Ambientes')\n",
    "plt.ylabel('Superficie [m2]')\n",
    "\n",
    "plt.subplot(222)\n",
    "plt.grid(True)  \n",
    "#ax = sns.boxplot(x=\"rooms\", y=\"surface_total_in_m2\", data=house_df, palette=\"Set1\")\n",
    "ax = sns.boxplot(x=\"rooms\", y=\"surface_covered_in_m2\", data=house_df, palette=\"Set1\")\n",
    "plt.title('Casas')\n",
    "plt.xlabel('Número de Ambientes')\n",
    "plt.ylabel('Superficie [m2]')\n",
    "\n",
    "plt.subplot(223)\n",
    "plt.grid(True)  \n",
    "#ax = sns.boxplot(x=\"rooms\", y=\"surface_total_in_m2\", data=ph_df, palette=\"Set1\")\n",
    "ax = sns.boxplot(x=\"rooms\", y=\"surface_covered_in_m2\", data=ph_df, palette=\"Set1\")\n",
    "plt.title('PH')\n",
    "plt.xlabel('Número de Ambientes')\n",
    "plt.ylabel('Superficie [m2]')\n",
    "\n",
    "plt.subplot(224)\n",
    "plt.grid(True)  \n",
    "#ax = sns.boxplot(x=\"rooms\", y=\"surface_total_in_m2\", data=store_df, palette=\"Set1\")\n",
    "ax = sns.boxplot(x=\"rooms\", y=\"surface_covered_in_m2\", data=store_df, palette=\"Set1\")\n",
    "plt.title('Locales (Store)')\n",
    "plt.xlabel('Número de Ambientes')\n",
    "plt.ylabel('Superficie [m2]')\n",
    "#plt.savefig(\"../Images/Rooms-After.png\")"
   ]
  },
  {
   "cell_type": "markdown",
   "metadata": {},
   "source": [
    "# Limpieza, búsqueda y llenado de columnas de Superficie"
   ]
  },
  {
   "cell_type": "markdown",
   "metadata": {},
   "source": [
    "Superficies menores a 10m2 las tomamos como inválidas.\n",
    "Lo mismo para superficie cubierta mayor a la total."
   ]
  },
  {
   "cell_type": "code",
   "execution_count": 59,
   "metadata": {},
   "outputs": [],
   "source": [
    "surface_cols = ['surface_covered_in_m2','surface_total_in_m2']\n"
   ]
  },
  {
   "cell_type": "code",
   "execution_count": 60,
   "metadata": {
    "scrolled": true
   },
   "outputs": [
    {
     "data": {
      "text/plain": [
       "price                         89843\n",
       "currency                      89843\n",
       "price_aprox_local_currency    89843\n",
       "price_aprox_usd               89843\n",
       "surface_total_in_m2           45354\n",
       "surface_covered_in_m2         58823\n",
       "price_usd_per_m2              60988\n",
       "price_per_m2                  78244\n",
       "dtype: int64"
      ]
     },
     "execution_count": 60,
     "metadata": {},
     "output_type": "execute_result"
    }
   ],
   "source": [
    "data.loc[data['surface_covered_in_m2']<10,'surface_covered_in_m2']=np.nan\n",
    "data.loc[data['surface_total_in_m2']<10,'surface_total_in_m2']=np.nan\n",
    "sup_inv_index = data.loc[data['surface_covered_in_m2']>data['surface_total_in_m2'],price_cols].index\n",
    "data.loc[sup_inv_index,'surface_covered_in_m2']=np.nan\n",
    "data.loc[sup_inv_index,'surface_total_in_m2']=np.nan\n",
    "data.loc[sup_inv_index,'price_per_m2']=np.nan\n",
    "data.loc[sup_inv_index,'price_usd_per_m2']=np.nan\n",
    "\n",
    "data[price_cols].notnull().sum()"
   ]
  },
  {
   "cell_type": "markdown",
   "metadata": {},
   "source": [
    "## Funciones para búsqueda de superficie"
   ]
  },
  {
   "cell_type": "code",
   "execution_count": 61,
   "metadata": {},
   "outputs": [],
   "source": [
    "def sup_total_search(text):\n",
    "    pattern = r'(?:lote de|sup\\.\\s?total|superficie total|sup\\.\\s?tot\\.)\\s?:?\\s*(\\d+[,|\\.]?\\d*)\\s?(?:m2|mts2|mtrs2|metros\\s?cuadrados|m²)'\n",
    "    regex = re.compile(pattern, flags = re.IGNORECASE)\n",
    "    sup_tot_lst = regex.findall(text)\n",
    "    \n",
    "    if not sup_tot_lst:\n",
    "        return np.nan\n",
    "    if len(sup_tot_lst)!=1:\n",
    "        return np.nan\n",
    "    sup=pd.to_numeric(sup_tot_lst[0].replace(',','.'))\n",
    "    if sup<10:\n",
    "        return np.nan\n",
    "    return sup\n",
    "def sup_total_search2(text):\n",
    "    pattern = r'(\\d+[,|\\.]?\\d*)\\s?(?:m2|mts2|mtrs2|metros\\s?cuadrados|m²)'\n",
    "    regex = re.compile(pattern, flags = re.IGNORECASE)\n",
    "    sup_tot_lst = regex.findall(text)\n",
    "    \n",
    "    if not sup_tot_lst:\n",
    "        return np.nan\n",
    "    if len(sup_tot_lst)>1:\n",
    "        sup_lst = [pd.to_numeric(item.replace(',','.')) for item in sup_tot_lst]\n",
    "        if not sup_lst:\n",
    "            return np.nan\n",
    "        elif len(sup_lst)>1:\n",
    "            return np.nan\n",
    "        elif sup_lst<10:\n",
    "            return np.nan\n",
    "        else:\n",
    "            return sup_lst[0]\n",
    "        \n",
    "    if len(sup_tot_lst)==1:\n",
    "        return pd.to_numeric(sup_tot_lst[0].replace(',','.'))\n",
    "\n",
    "def sup_cub_search(text):\n",
    "    pattern = r'(?:superficie\\s?cubierta:?|sup\\.?\\s?cub.?:?|sub\\.?\\s?cubierta:?|metros.\\s?cubiertos:?|cub\\.?)\\s?:?\\s?(\\d+,?\\.?\\d*)\\s?(?:m2|mt2|mtrs2|mtrs\\.?|mts\\.?||m²)'\n",
    "    regex = re.compile(pattern, flags = re.IGNORECASE)\n",
    "    sup_cub_lst = regex.findall(text)\n",
    "    if not sup_cub_lst:\n",
    "        return np.nan\n",
    "    sup_cub_lst = [item.replace(',','.') for item in sup_cub_lst]\n",
    "    if len(sup_cub_lst)==1:\n",
    "        sup=pd.to_numeric(sup_cub_lst[0])\n",
    "        if sup<10:\n",
    "            return np.nan\n",
    "        else:\n",
    "            return sup\n",
    "    else:\n",
    "        return np.nan\n",
    "        #return(max(pd.to_numeric(sup_cub_lst)))\n",
    "\n",
    "def sup_cub_search2(text):\n",
    "    pattern = r'(\\d+,?\\.?\\d*)\\s?(?:m2|mtrs2|mtrs\\.?|mts\\.?|m²|metros|metros\\s?cuadrados|metros\\s?cuadrados\\s?de|),?\\s?(?:construidos|cubiertos|cub\\.?)'\n",
    "    regex = re.compile(pattern, flags = re.IGNORECASE)\n",
    "    sup_cub_lst = regex.findall(text)\n",
    "    if not sup_cub_lst:\n",
    "        return np.nan\n",
    "    sup_cub_lst = [item.replace(',','.') for item in sup_cub_lst]\n",
    "    if len(sup_cub_lst)==1:\n",
    "        sup=pd.to_numeric(sup_cub_lst[0])\n",
    "        if sup<10:\n",
    "            return np.nan\n",
    "        else:\n",
    "            return sup\n",
    "    else:\n",
    "        return np.nan\n",
    "        #return(max(pd.to_numeric(sup_cub_lst)))\n",
    "    \n",
    "def clean_temp_col(df,tempCol):\n",
    "    \"\"\"Cleans a tempCol column from a df dataframe. Writes nan on every row.\n",
    "    \n",
    "    Parameters\n",
    "    ----------\n",
    "    df : pandas.DataFrame\n",
    "        The dataframe you want to clean a temporary column.\n",
    "    tempCol: str\n",
    "        The name passed as a string of the column to clean.\n",
    "    \"\"\"\n",
    "    df.loc[:,tempCol]=np.nan\n",
    "\n",
    "def new_found(df,tempCol,cleanCol):\n",
    "    \"\"\"Shows a message about the new data found.\n",
    "    \n",
    "    Parameters\n",
    "    ----------\n",
    "    df : pandas.DataFrame\n",
    "        The dataframe to take data from.\n",
    "    tempCol: str\n",
    "        The name passed as a string of the temporary column.\n",
    "    cleanCol: str\n",
    "        the name passed as a string of the clean column.\n",
    "    \"\"\"\n",
    "    print(\"Nuevos: {}.\".format(df[tempCol].notnull().sum()))\n",
    "    print(\"Total: {}.\".format(df[cleanCol].notnull().sum()))\n"
   ]
  },
  {
   "cell_type": "markdown",
   "metadata": {},
   "source": [
    "## Búsqueda de superficie cubierta"
   ]
  },
  {
   "cell_type": "code",
   "execution_count": 62,
   "metadata": {},
   "outputs": [],
   "source": [
    "sup_cub_func_lst = [sup_cub_search,sup_cub_search2]\n",
    "col_lst = ['title','description']\n",
    "for col in col_lst:\n",
    "    for func in sup_cub_func_lst:\n",
    "        data[\"surface_covered_in_m2\"].fillna(value=data.loc[data['surface_covered_in_m2'].isna(),col].apply(func), inplace=True)"
   ]
  },
  {
   "cell_type": "code",
   "execution_count": 63,
   "metadata": {
    "scrolled": true
   },
   "outputs": [
    {
     "data": {
      "text/html": [
       "<div>\n",
       "<style scoped>\n",
       "    .dataframe tbody tr th:only-of-type {\n",
       "        vertical-align: middle;\n",
       "    }\n",
       "\n",
       "    .dataframe tbody tr th {\n",
       "        vertical-align: top;\n",
       "    }\n",
       "\n",
       "    .dataframe thead th {\n",
       "        text-align: right;\n",
       "    }\n",
       "</style>\n",
       "<table border=\"1\" class=\"dataframe\">\n",
       "  <thead>\n",
       "    <tr style=\"text-align: right;\">\n",
       "      <th></th>\n",
       "      <th>price</th>\n",
       "      <th>currency</th>\n",
       "      <th>price_aprox_local_currency</th>\n",
       "      <th>price_aprox_usd</th>\n",
       "      <th>surface_total_in_m2</th>\n",
       "      <th>surface_covered_in_m2</th>\n",
       "      <th>price_usd_per_m2</th>\n",
       "      <th>price_per_m2</th>\n",
       "    </tr>\n",
       "  </thead>\n",
       "  <tbody>\n",
       "    <tr>\n",
       "      <th>15</th>\n",
       "      <td>250000.00</td>\n",
       "      <td>USD</td>\n",
       "      <td>4411125.0</td>\n",
       "      <td>250000.00</td>\n",
       "      <td>164.0</td>\n",
       "      <td>115.23</td>\n",
       "      <td>1524.390244</td>\n",
       "      <td>NaN</td>\n",
       "    </tr>\n",
       "    <tr>\n",
       "      <th>144</th>\n",
       "      <td>147000.00</td>\n",
       "      <td>USD</td>\n",
       "      <td>2593741.5</td>\n",
       "      <td>147000.00</td>\n",
       "      <td>NaN</td>\n",
       "      <td>120.00</td>\n",
       "      <td>NaN</td>\n",
       "      <td>NaN</td>\n",
       "    </tr>\n",
       "    <tr>\n",
       "      <th>290</th>\n",
       "      <td>115000.00</td>\n",
       "      <td>USD</td>\n",
       "      <td>2029117.5</td>\n",
       "      <td>115000.00</td>\n",
       "      <td>NaN</td>\n",
       "      <td>65.00</td>\n",
       "      <td>1769.230769</td>\n",
       "      <td>NaN</td>\n",
       "    </tr>\n",
       "    <tr>\n",
       "      <th>369</th>\n",
       "      <td>190000.00</td>\n",
       "      <td>USD</td>\n",
       "      <td>3352455.0</td>\n",
       "      <td>190000.00</td>\n",
       "      <td>NaN</td>\n",
       "      <td>180.00</td>\n",
       "      <td>NaN</td>\n",
       "      <td>NaN</td>\n",
       "    </tr>\n",
       "    <tr>\n",
       "      <th>669</th>\n",
       "      <td>65000.00</td>\n",
       "      <td>USD</td>\n",
       "      <td>1146892.5</td>\n",
       "      <td>65000.00</td>\n",
       "      <td>NaN</td>\n",
       "      <td>70.00</td>\n",
       "      <td>928.571429</td>\n",
       "      <td>NaN</td>\n",
       "    </tr>\n",
       "    <tr>\n",
       "      <th>675</th>\n",
       "      <td>130000.00</td>\n",
       "      <td>USD</td>\n",
       "      <td>2293785.0</td>\n",
       "      <td>130000.00</td>\n",
       "      <td>NaN</td>\n",
       "      <td>190.00</td>\n",
       "      <td>NaN</td>\n",
       "      <td>NaN</td>\n",
       "    </tr>\n",
       "    <tr>\n",
       "      <th>951</th>\n",
       "      <td>320000.00</td>\n",
       "      <td>USD</td>\n",
       "      <td>5646240.0</td>\n",
       "      <td>320000.00</td>\n",
       "      <td>NaN</td>\n",
       "      <td>220.00</td>\n",
       "      <td>NaN</td>\n",
       "      <td>NaN</td>\n",
       "    </tr>\n",
       "    <tr>\n",
       "      <th>1017</th>\n",
       "      <td>36454.38</td>\n",
       "      <td>USD</td>\n",
       "      <td>643219.3</td>\n",
       "      <td>36454.38</td>\n",
       "      <td>NaN</td>\n",
       "      <td>77.00</td>\n",
       "      <td>NaN</td>\n",
       "      <td>NaN</td>\n",
       "    </tr>\n",
       "    <tr>\n",
       "      <th>1060</th>\n",
       "      <td>120000.00</td>\n",
       "      <td>USD</td>\n",
       "      <td>2117340.0</td>\n",
       "      <td>120000.00</td>\n",
       "      <td>60.0</td>\n",
       "      <td>44.00</td>\n",
       "      <td>2000.000000</td>\n",
       "      <td>NaN</td>\n",
       "    </tr>\n",
       "    <tr>\n",
       "      <th>1432</th>\n",
       "      <td>40000.00</td>\n",
       "      <td>USD</td>\n",
       "      <td>705780.0</td>\n",
       "      <td>40000.00</td>\n",
       "      <td>40.0</td>\n",
       "      <td>40.00</td>\n",
       "      <td>1000.000000</td>\n",
       "      <td>NaN</td>\n",
       "    </tr>\n",
       "  </tbody>\n",
       "</table>\n",
       "</div>"
      ],
      "text/plain": [
       "          price currency  price_aprox_local_currency  price_aprox_usd  \\\n",
       "15    250000.00      USD                   4411125.0        250000.00   \n",
       "144   147000.00      USD                   2593741.5        147000.00   \n",
       "290   115000.00      USD                   2029117.5        115000.00   \n",
       "369   190000.00      USD                   3352455.0        190000.00   \n",
       "669    65000.00      USD                   1146892.5         65000.00   \n",
       "675   130000.00      USD                   2293785.0        130000.00   \n",
       "951   320000.00      USD                   5646240.0        320000.00   \n",
       "1017   36454.38      USD                    643219.3         36454.38   \n",
       "1060  120000.00      USD                   2117340.0        120000.00   \n",
       "1432   40000.00      USD                    705780.0         40000.00   \n",
       "\n",
       "      surface_total_in_m2  surface_covered_in_m2  price_usd_per_m2  \\\n",
       "15                  164.0                 115.23       1524.390244   \n",
       "144                   NaN                 120.00               NaN   \n",
       "290                   NaN                  65.00       1769.230769   \n",
       "369                   NaN                 180.00               NaN   \n",
       "669                   NaN                  70.00        928.571429   \n",
       "675                   NaN                 190.00               NaN   \n",
       "951                   NaN                 220.00               NaN   \n",
       "1017                  NaN                  77.00               NaN   \n",
       "1060                 60.0                  44.00       2000.000000   \n",
       "1432                 40.0                  40.00       1000.000000   \n",
       "\n",
       "      price_per_m2  \n",
       "15             NaN  \n",
       "144            NaN  \n",
       "290            NaN  \n",
       "369            NaN  \n",
       "669            NaN  \n",
       "675            NaN  \n",
       "951            NaN  \n",
       "1017           NaN  \n",
       "1060           NaN  \n",
       "1432           NaN  "
      ]
     },
     "execution_count": 63,
     "metadata": {},
     "output_type": "execute_result"
    }
   ],
   "source": [
    "#data.loc[(data['surface_covered_in_m2'].notnull())&(data['surface_covered_in_m2']>data['surface_total_in_m2']),price_cols]\n",
    "data.loc[(data['surface_covered_in_m2'].notnull())&(data['price_aprox_usd'].notnull())&(data['price_per_m2'].isna()),price_cols].head(10)"
   ]
  },
  {
   "cell_type": "markdown",
   "metadata": {},
   "source": [
    "$price\\_usd\\_per\\_m2 = \\frac{price\\_aprox\\_usd}{surface\\_total\\_in\\_m2}$\n",
    "\n",
    "$price\\_per\\_m2 = \\frac{price}{surface\\_covered\\_in\\_m2}$\n",
    "\n",
    "\n",
    "Con estos valores y las anteriores relaciones, completo valores de **price_usd_per_m2** y **price_per_m2**:"
   ]
  },
  {
   "cell_type": "code",
   "execution_count": 64,
   "metadata": {
    "scrolled": true
   },
   "outputs": [
    {
     "data": {
      "text/plain": [
       "price                         89843\n",
       "currency                      89843\n",
       "price_aprox_local_currency    89843\n",
       "price_aprox_usd               89843\n",
       "surface_total_in_m2           45354\n",
       "surface_covered_in_m2         61756\n",
       "price_usd_per_m2              60988\n",
       "price_per_m2                  78729\n",
       "dtype: int64"
      ]
     },
     "execution_count": 64,
     "metadata": {},
     "output_type": "execute_result"
    }
   ],
   "source": [
    "completar_parspm2_index = data.loc[(data['price_per_m2'].isna())&(data['price'].notnull())&(data['surface_covered_in_m2'].notnull())&(data['surface_covered_in_m2']!=0),price_cols].index\n",
    "data.loc[completar_parspm2_index,'price_per_m2'] = data.loc[completar_parspm2_index,'price'] / data.loc[completar_parspm2_index,'surface_covered_in_m2']\n",
    "\n",
    "data[price_cols].notnull().sum()"
   ]
  },
  {
   "cell_type": "code",
   "execution_count": 65,
   "metadata": {},
   "outputs": [
    {
     "data": {
      "text/html": [
       "<div>\n",
       "<style scoped>\n",
       "    .dataframe tbody tr th:only-of-type {\n",
       "        vertical-align: middle;\n",
       "    }\n",
       "\n",
       "    .dataframe tbody tr th {\n",
       "        vertical-align: top;\n",
       "    }\n",
       "\n",
       "    .dataframe thead th {\n",
       "        text-align: right;\n",
       "    }\n",
       "</style>\n",
       "<table border=\"1\" class=\"dataframe\">\n",
       "  <thead>\n",
       "    <tr style=\"text-align: right;\">\n",
       "      <th></th>\n",
       "      <th>price</th>\n",
       "      <th>currency</th>\n",
       "      <th>price_aprox_local_currency</th>\n",
       "      <th>price_aprox_usd</th>\n",
       "      <th>surface_total_in_m2</th>\n",
       "      <th>surface_covered_in_m2</th>\n",
       "      <th>price_usd_per_m2</th>\n",
       "      <th>price_per_m2</th>\n",
       "    </tr>\n",
       "  </thead>\n",
       "  <tbody>\n",
       "  </tbody>\n",
       "</table>\n",
       "</div>"
      ],
      "text/plain": [
       "Empty DataFrame\n",
       "Columns: [price, currency, price_aprox_local_currency, price_aprox_usd, surface_total_in_m2, surface_covered_in_m2, price_usd_per_m2, price_per_m2]\n",
       "Index: []"
      ]
     },
     "execution_count": 65,
     "metadata": {},
     "output_type": "execute_result"
    }
   ],
   "source": [
    "data.loc[(data['surface_covered_in_m2'].notnull())&(data['price_aprox_usd'].isna())&(data['price_per_m2'].notnull()),price_cols]"
   ]
  },
  {
   "cell_type": "markdown",
   "metadata": {},
   "source": [
    "No puedo completar nada más con estos valores de superficie cubierta."
   ]
  },
  {
   "cell_type": "markdown",
   "metadata": {},
   "source": [
    "## Búsqueda de superficie total"
   ]
  },
  {
   "cell_type": "code",
   "execution_count": 66,
   "metadata": {
    "scrolled": true
   },
   "outputs": [],
   "source": [
    "sup_tot_func_lst = [sup_total_search,sup_total_search2]\n",
    "col_lst = ['title','description']\n",
    "for col in col_lst:\n",
    "    for func in sup_tot_func_lst:\n",
    "        data[\"surface_total_in_m2\"].fillna(value=data.loc[data['surface_total_in_m2'].isna(),col].apply(func), inplace=True)"
   ]
  },
  {
   "cell_type": "code",
   "execution_count": 67,
   "metadata": {
    "scrolled": true
   },
   "outputs": [
    {
     "data": {
      "text/html": [
       "<div>\n",
       "<style scoped>\n",
       "    .dataframe tbody tr th:only-of-type {\n",
       "        vertical-align: middle;\n",
       "    }\n",
       "\n",
       "    .dataframe tbody tr th {\n",
       "        vertical-align: top;\n",
       "    }\n",
       "\n",
       "    .dataframe thead th {\n",
       "        text-align: right;\n",
       "    }\n",
       "</style>\n",
       "<table border=\"1\" class=\"dataframe\">\n",
       "  <thead>\n",
       "    <tr style=\"text-align: right;\">\n",
       "      <th></th>\n",
       "      <th>price</th>\n",
       "      <th>currency</th>\n",
       "      <th>price_aprox_local_currency</th>\n",
       "      <th>price_aprox_usd</th>\n",
       "      <th>surface_total_in_m2</th>\n",
       "      <th>surface_covered_in_m2</th>\n",
       "      <th>price_usd_per_m2</th>\n",
       "      <th>price_per_m2</th>\n",
       "    </tr>\n",
       "  </thead>\n",
       "  <tbody>\n",
       "    <tr>\n",
       "      <th>77</th>\n",
       "      <td>150000.00</td>\n",
       "      <td>USD</td>\n",
       "      <td>2646675.00</td>\n",
       "      <td>150000.00</td>\n",
       "      <td>85.00</td>\n",
       "      <td>NaN</td>\n",
       "      <td>NaN</td>\n",
       "      <td>1764.705882</td>\n",
       "    </tr>\n",
       "    <tr>\n",
       "      <th>79</th>\n",
       "      <td>118000.00</td>\n",
       "      <td>USD</td>\n",
       "      <td>2082051.00</td>\n",
       "      <td>118000.00</td>\n",
       "      <td>42.00</td>\n",
       "      <td>42.0</td>\n",
       "      <td>NaN</td>\n",
       "      <td>2809.523810</td>\n",
       "    </tr>\n",
       "    <tr>\n",
       "      <th>109</th>\n",
       "      <td>55000.00</td>\n",
       "      <td>USD</td>\n",
       "      <td>970447.50</td>\n",
       "      <td>55000.00</td>\n",
       "      <td>60.00</td>\n",
       "      <td>60.0</td>\n",
       "      <td>NaN</td>\n",
       "      <td>916.666667</td>\n",
       "    </tr>\n",
       "    <tr>\n",
       "      <th>138</th>\n",
       "      <td>130000.00</td>\n",
       "      <td>USD</td>\n",
       "      <td>2293785.00</td>\n",
       "      <td>130000.00</td>\n",
       "      <td>842.00</td>\n",
       "      <td>100.0</td>\n",
       "      <td>NaN</td>\n",
       "      <td>1300.000000</td>\n",
       "    </tr>\n",
       "    <tr>\n",
       "      <th>143</th>\n",
       "      <td>74600.00</td>\n",
       "      <td>USD</td>\n",
       "      <td>1316279.70</td>\n",
       "      <td>74600.00</td>\n",
       "      <td>36.00</td>\n",
       "      <td>36.0</td>\n",
       "      <td>NaN</td>\n",
       "      <td>2072.222222</td>\n",
       "    </tr>\n",
       "    <tr>\n",
       "      <th>144</th>\n",
       "      <td>147000.00</td>\n",
       "      <td>USD</td>\n",
       "      <td>2593741.50</td>\n",
       "      <td>147000.00</td>\n",
       "      <td>379.00</td>\n",
       "      <td>120.0</td>\n",
       "      <td>NaN</td>\n",
       "      <td>1225.000000</td>\n",
       "    </tr>\n",
       "    <tr>\n",
       "      <th>152</th>\n",
       "      <td>1250000.00</td>\n",
       "      <td>USD</td>\n",
       "      <td>22055625.00</td>\n",
       "      <td>1250000.00</td>\n",
       "      <td>612.00</td>\n",
       "      <td>NaN</td>\n",
       "      <td>NaN</td>\n",
       "      <td>2042.483660</td>\n",
       "    </tr>\n",
       "    <tr>\n",
       "      <th>161</th>\n",
       "      <td>260000.00</td>\n",
       "      <td>USD</td>\n",
       "      <td>4587570.00</td>\n",
       "      <td>260000.00</td>\n",
       "      <td>11.00</td>\n",
       "      <td>200.0</td>\n",
       "      <td>NaN</td>\n",
       "      <td>1300.000000</td>\n",
       "    </tr>\n",
       "    <tr>\n",
       "      <th>174</th>\n",
       "      <td>82664.53</td>\n",
       "      <td>USD</td>\n",
       "      <td>1458574.29</td>\n",
       "      <td>82664.53</td>\n",
       "      <td>1910.00</td>\n",
       "      <td>NaN</td>\n",
       "      <td>NaN</td>\n",
       "      <td>1450.254927</td>\n",
       "    </tr>\n",
       "    <tr>\n",
       "      <th>267</th>\n",
       "      <td>95000.00</td>\n",
       "      <td>USD</td>\n",
       "      <td>1676227.50</td>\n",
       "      <td>95000.00</td>\n",
       "      <td>360.00</td>\n",
       "      <td>NaN</td>\n",
       "      <td>NaN</td>\n",
       "      <td>NaN</td>\n",
       "    </tr>\n",
       "    <tr>\n",
       "      <th>281</th>\n",
       "      <td>27000.00</td>\n",
       "      <td>USD</td>\n",
       "      <td>476401.50</td>\n",
       "      <td>27000.00</td>\n",
       "      <td>23.00</td>\n",
       "      <td>23.0</td>\n",
       "      <td>NaN</td>\n",
       "      <td>1173.913043</td>\n",
       "    </tr>\n",
       "    <tr>\n",
       "      <th>284</th>\n",
       "      <td>50000.00</td>\n",
       "      <td>USD</td>\n",
       "      <td>882225.00</td>\n",
       "      <td>50000.00</td>\n",
       "      <td>30.00</td>\n",
       "      <td>30.0</td>\n",
       "      <td>NaN</td>\n",
       "      <td>1666.666667</td>\n",
       "    </tr>\n",
       "    <tr>\n",
       "      <th>309</th>\n",
       "      <td>84125.51</td>\n",
       "      <td>USD</td>\n",
       "      <td>1484352.56</td>\n",
       "      <td>84125.51</td>\n",
       "      <td>1.40</td>\n",
       "      <td>41.0</td>\n",
       "      <td>NaN</td>\n",
       "      <td>2051.841720</td>\n",
       "    </tr>\n",
       "    <tr>\n",
       "      <th>426</th>\n",
       "      <td>460000.00</td>\n",
       "      <td>USD</td>\n",
       "      <td>8116470.00</td>\n",
       "      <td>460000.00</td>\n",
       "      <td>1200.00</td>\n",
       "      <td>320.0</td>\n",
       "      <td>NaN</td>\n",
       "      <td>1437.500000</td>\n",
       "    </tr>\n",
       "    <tr>\n",
       "      <th>453</th>\n",
       "      <td>61692.04</td>\n",
       "      <td>USD</td>\n",
       "      <td>1088525.19</td>\n",
       "      <td>61692.04</td>\n",
       "      <td>225.00</td>\n",
       "      <td>100.0</td>\n",
       "      <td>NaN</td>\n",
       "      <td>616.920411</td>\n",
       "    </tr>\n",
       "    <tr>\n",
       "      <th>456</th>\n",
       "      <td>130000.00</td>\n",
       "      <td>USD</td>\n",
       "      <td>2293785.00</td>\n",
       "      <td>130000.00</td>\n",
       "      <td>16.00</td>\n",
       "      <td>51.0</td>\n",
       "      <td>NaN</td>\n",
       "      <td>2549.019608</td>\n",
       "    </tr>\n",
       "    <tr>\n",
       "      <th>483</th>\n",
       "      <td>120000.00</td>\n",
       "      <td>USD</td>\n",
       "      <td>2117340.00</td>\n",
       "      <td>120000.00</td>\n",
       "      <td>49.00</td>\n",
       "      <td>49.0</td>\n",
       "      <td>NaN</td>\n",
       "      <td>2448.979592</td>\n",
       "    </tr>\n",
       "    <tr>\n",
       "      <th>490</th>\n",
       "      <td>78517.14</td>\n",
       "      <td>USD</td>\n",
       "      <td>1385395.67</td>\n",
       "      <td>78517.14</td>\n",
       "      <td>189.00</td>\n",
       "      <td>189.0</td>\n",
       "      <td>NaN</td>\n",
       "      <td>415.434620</td>\n",
       "    </tr>\n",
       "    <tr>\n",
       "      <th>491</th>\n",
       "      <td>250000.00</td>\n",
       "      <td>USD</td>\n",
       "      <td>4411125.00</td>\n",
       "      <td>250000.00</td>\n",
       "      <td>122.00</td>\n",
       "      <td>NaN</td>\n",
       "      <td>NaN</td>\n",
       "      <td>2049.180328</td>\n",
       "    </tr>\n",
       "    <tr>\n",
       "      <th>659</th>\n",
       "      <td>99800.00</td>\n",
       "      <td>USD</td>\n",
       "      <td>1760921.10</td>\n",
       "      <td>99800.00</td>\n",
       "      <td>14.00</td>\n",
       "      <td>60.0</td>\n",
       "      <td>NaN</td>\n",
       "      <td>1663.333333</td>\n",
       "    </tr>\n",
       "    <tr>\n",
       "      <th>805</th>\n",
       "      <td>110000.00</td>\n",
       "      <td>USD</td>\n",
       "      <td>1940895.00</td>\n",
       "      <td>110000.00</td>\n",
       "      <td>35.00</td>\n",
       "      <td>NaN</td>\n",
       "      <td>NaN</td>\n",
       "      <td>NaN</td>\n",
       "    </tr>\n",
       "    <tr>\n",
       "      <th>955</th>\n",
       "      <td>1100000.00</td>\n",
       "      <td>USD</td>\n",
       "      <td>19408950.00</td>\n",
       "      <td>1100000.00</td>\n",
       "      <td>508.00</td>\n",
       "      <td>20.0</td>\n",
       "      <td>NaN</td>\n",
       "      <td>55000.000000</td>\n",
       "    </tr>\n",
       "    <tr>\n",
       "      <th>958</th>\n",
       "      <td>84500.00</td>\n",
       "      <td>USD</td>\n",
       "      <td>1490960.25</td>\n",
       "      <td>84500.00</td>\n",
       "      <td>1.20</td>\n",
       "      <td>33.0</td>\n",
       "      <td>NaN</td>\n",
       "      <td>2560.606061</td>\n",
       "    </tr>\n",
       "    <tr>\n",
       "      <th>959</th>\n",
       "      <td>87500.00</td>\n",
       "      <td>USD</td>\n",
       "      <td>1543893.75</td>\n",
       "      <td>87500.00</td>\n",
       "      <td>1.20</td>\n",
       "      <td>33.0</td>\n",
       "      <td>NaN</td>\n",
       "      <td>2651.515152</td>\n",
       "    </tr>\n",
       "    <tr>\n",
       "      <th>960</th>\n",
       "      <td>89000.00</td>\n",
       "      <td>USD</td>\n",
       "      <td>1570360.50</td>\n",
       "      <td>89000.00</td>\n",
       "      <td>1.20</td>\n",
       "      <td>33.0</td>\n",
       "      <td>NaN</td>\n",
       "      <td>2696.969697</td>\n",
       "    </tr>\n",
       "    <tr>\n",
       "      <th>962</th>\n",
       "      <td>87000.00</td>\n",
       "      <td>USD</td>\n",
       "      <td>1535071.50</td>\n",
       "      <td>87000.00</td>\n",
       "      <td>44.00</td>\n",
       "      <td>44.0</td>\n",
       "      <td>NaN</td>\n",
       "      <td>1977.272727</td>\n",
       "    </tr>\n",
       "    <tr>\n",
       "      <th>965</th>\n",
       "      <td>100000.00</td>\n",
       "      <td>USD</td>\n",
       "      <td>1764450.00</td>\n",
       "      <td>100000.00</td>\n",
       "      <td>1.20</td>\n",
       "      <td>33.0</td>\n",
       "      <td>NaN</td>\n",
       "      <td>3030.303030</td>\n",
       "    </tr>\n",
       "    <tr>\n",
       "      <th>969</th>\n",
       "      <td>86000.00</td>\n",
       "      <td>USD</td>\n",
       "      <td>1517427.00</td>\n",
       "      <td>86000.00</td>\n",
       "      <td>1.20</td>\n",
       "      <td>34.0</td>\n",
       "      <td>NaN</td>\n",
       "      <td>2529.411765</td>\n",
       "    </tr>\n",
       "    <tr>\n",
       "      <th>970</th>\n",
       "      <td>87500.00</td>\n",
       "      <td>USD</td>\n",
       "      <td>1543893.75</td>\n",
       "      <td>87500.00</td>\n",
       "      <td>1.20</td>\n",
       "      <td>34.0</td>\n",
       "      <td>NaN</td>\n",
       "      <td>2573.529412</td>\n",
       "    </tr>\n",
       "    <tr>\n",
       "      <th>971</th>\n",
       "      <td>89000.00</td>\n",
       "      <td>USD</td>\n",
       "      <td>1570360.50</td>\n",
       "      <td>89000.00</td>\n",
       "      <td>1.20</td>\n",
       "      <td>34.0</td>\n",
       "      <td>NaN</td>\n",
       "      <td>2617.647059</td>\n",
       "    </tr>\n",
       "    <tr>\n",
       "      <th>...</th>\n",
       "      <td>...</td>\n",
       "      <td>...</td>\n",
       "      <td>...</td>\n",
       "      <td>...</td>\n",
       "      <td>...</td>\n",
       "      <td>...</td>\n",
       "      <td>...</td>\n",
       "      <td>...</td>\n",
       "    </tr>\n",
       "    <tr>\n",
       "      <th>119884</th>\n",
       "      <td>75000.00</td>\n",
       "      <td>USD</td>\n",
       "      <td>1323337.50</td>\n",
       "      <td>75000.00</td>\n",
       "      <td>32.00</td>\n",
       "      <td>32.0</td>\n",
       "      <td>NaN</td>\n",
       "      <td>2343.750000</td>\n",
       "    </tr>\n",
       "    <tr>\n",
       "      <th>119889</th>\n",
       "      <td>135000.00</td>\n",
       "      <td>USD</td>\n",
       "      <td>2382007.50</td>\n",
       "      <td>135000.00</td>\n",
       "      <td>19.48</td>\n",
       "      <td>170.0</td>\n",
       "      <td>NaN</td>\n",
       "      <td>794.117647</td>\n",
       "    </tr>\n",
       "    <tr>\n",
       "      <th>119894</th>\n",
       "      <td>295000.00</td>\n",
       "      <td>USD</td>\n",
       "      <td>5205127.50</td>\n",
       "      <td>295000.00</td>\n",
       "      <td>328.00</td>\n",
       "      <td>135.0</td>\n",
       "      <td>NaN</td>\n",
       "      <td>2185.185185</td>\n",
       "    </tr>\n",
       "    <tr>\n",
       "      <th>119899</th>\n",
       "      <td>94000.00</td>\n",
       "      <td>USD</td>\n",
       "      <td>1658583.00</td>\n",
       "      <td>94000.00</td>\n",
       "      <td>31.00</td>\n",
       "      <td>31.0</td>\n",
       "      <td>NaN</td>\n",
       "      <td>3032.258065</td>\n",
       "    </tr>\n",
       "    <tr>\n",
       "      <th>119901</th>\n",
       "      <td>165000.00</td>\n",
       "      <td>USD</td>\n",
       "      <td>2911342.50</td>\n",
       "      <td>165000.00</td>\n",
       "      <td>46.00</td>\n",
       "      <td>49.0</td>\n",
       "      <td>NaN</td>\n",
       "      <td>3367.346939</td>\n",
       "    </tr>\n",
       "    <tr>\n",
       "      <th>119908</th>\n",
       "      <td>370000.00</td>\n",
       "      <td>USD</td>\n",
       "      <td>6528465.00</td>\n",
       "      <td>370000.00</td>\n",
       "      <td>800.00</td>\n",
       "      <td>240.0</td>\n",
       "      <td>NaN</td>\n",
       "      <td>1541.666667</td>\n",
       "    </tr>\n",
       "    <tr>\n",
       "      <th>119914</th>\n",
       "      <td>70000.00</td>\n",
       "      <td>USD</td>\n",
       "      <td>1235115.00</td>\n",
       "      <td>70000.00</td>\n",
       "      <td>33.00</td>\n",
       "      <td>33.0</td>\n",
       "      <td>NaN</td>\n",
       "      <td>2121.212121</td>\n",
       "    </tr>\n",
       "    <tr>\n",
       "      <th>119915</th>\n",
       "      <td>130000.00</td>\n",
       "      <td>USD</td>\n",
       "      <td>2293785.00</td>\n",
       "      <td>130000.00</td>\n",
       "      <td>68.00</td>\n",
       "      <td>NaN</td>\n",
       "      <td>NaN</td>\n",
       "      <td>1911.764706</td>\n",
       "    </tr>\n",
       "    <tr>\n",
       "      <th>119920</th>\n",
       "      <td>131235.80</td>\n",
       "      <td>USD</td>\n",
       "      <td>2315590.07</td>\n",
       "      <td>131235.80</td>\n",
       "      <td>900.00</td>\n",
       "      <td>129.0</td>\n",
       "      <td>NaN</td>\n",
       "      <td>1017.331755</td>\n",
       "    </tr>\n",
       "    <tr>\n",
       "      <th>119921</th>\n",
       "      <td>35332.71</td>\n",
       "      <td>USD</td>\n",
       "      <td>623428.00</td>\n",
       "      <td>35332.71</td>\n",
       "      <td>208.00</td>\n",
       "      <td>20.0</td>\n",
       "      <td>NaN</td>\n",
       "      <td>1766.635721</td>\n",
       "    </tr>\n",
       "    <tr>\n",
       "      <th>119922</th>\n",
       "      <td>90000.00</td>\n",
       "      <td>USD</td>\n",
       "      <td>1588005.00</td>\n",
       "      <td>90000.00</td>\n",
       "      <td>44.00</td>\n",
       "      <td>44.0</td>\n",
       "      <td>NaN</td>\n",
       "      <td>2045.454545</td>\n",
       "    </tr>\n",
       "    <tr>\n",
       "      <th>119941</th>\n",
       "      <td>639000.00</td>\n",
       "      <td>USD</td>\n",
       "      <td>11274835.50</td>\n",
       "      <td>639000.00</td>\n",
       "      <td>250.00</td>\n",
       "      <td>600.0</td>\n",
       "      <td>NaN</td>\n",
       "      <td>1065.000000</td>\n",
       "    </tr>\n",
       "    <tr>\n",
       "      <th>119946</th>\n",
       "      <td>265000.00</td>\n",
       "      <td>USD</td>\n",
       "      <td>4675792.50</td>\n",
       "      <td>265000.00</td>\n",
       "      <td>70.00</td>\n",
       "      <td>126.0</td>\n",
       "      <td>NaN</td>\n",
       "      <td>2103.174603</td>\n",
       "    </tr>\n",
       "    <tr>\n",
       "      <th>119947</th>\n",
       "      <td>293000.00</td>\n",
       "      <td>USD</td>\n",
       "      <td>5169838.50</td>\n",
       "      <td>293000.00</td>\n",
       "      <td>200.00</td>\n",
       "      <td>180.0</td>\n",
       "      <td>NaN</td>\n",
       "      <td>1627.777778</td>\n",
       "    </tr>\n",
       "    <tr>\n",
       "      <th>119955</th>\n",
       "      <td>240000.00</td>\n",
       "      <td>USD</td>\n",
       "      <td>4234680.00</td>\n",
       "      <td>240000.00</td>\n",
       "      <td>247.00</td>\n",
       "      <td>20.0</td>\n",
       "      <td>NaN</td>\n",
       "      <td>12000.000000</td>\n",
       "    </tr>\n",
       "    <tr>\n",
       "      <th>120057</th>\n",
       "      <td>81321.33</td>\n",
       "      <td>USD</td>\n",
       "      <td>1434874.20</td>\n",
       "      <td>81321.33</td>\n",
       "      <td>53.00</td>\n",
       "      <td>NaN</td>\n",
       "      <td>NaN</td>\n",
       "      <td>NaN</td>\n",
       "    </tr>\n",
       "    <tr>\n",
       "      <th>120060</th>\n",
       "      <td>100950.61</td>\n",
       "      <td>USD</td>\n",
       "      <td>1781223.03</td>\n",
       "      <td>100950.61</td>\n",
       "      <td>118.00</td>\n",
       "      <td>118.0</td>\n",
       "      <td>NaN</td>\n",
       "      <td>855.513644</td>\n",
       "    </tr>\n",
       "    <tr>\n",
       "      <th>120104</th>\n",
       "      <td>100000.00</td>\n",
       "      <td>USD</td>\n",
       "      <td>1764450.00</td>\n",
       "      <td>100000.00</td>\n",
       "      <td>60.00</td>\n",
       "      <td>60.0</td>\n",
       "      <td>NaN</td>\n",
       "      <td>1666.666667</td>\n",
       "    </tr>\n",
       "    <tr>\n",
       "      <th>120116</th>\n",
       "      <td>119000.00</td>\n",
       "      <td>USD</td>\n",
       "      <td>2099695.50</td>\n",
       "      <td>119000.00</td>\n",
       "      <td>63.00</td>\n",
       "      <td>NaN</td>\n",
       "      <td>NaN</td>\n",
       "      <td>1888.888889</td>\n",
       "    </tr>\n",
       "    <tr>\n",
       "      <th>120122</th>\n",
       "      <td>198000.00</td>\n",
       "      <td>USD</td>\n",
       "      <td>3493611.00</td>\n",
       "      <td>198000.00</td>\n",
       "      <td>110.00</td>\n",
       "      <td>NaN</td>\n",
       "      <td>NaN</td>\n",
       "      <td>NaN</td>\n",
       "    </tr>\n",
       "    <tr>\n",
       "      <th>120180</th>\n",
       "      <td>90000.00</td>\n",
       "      <td>USD</td>\n",
       "      <td>1588005.00</td>\n",
       "      <td>90000.00</td>\n",
       "      <td>80.00</td>\n",
       "      <td>80.0</td>\n",
       "      <td>NaN</td>\n",
       "      <td>1125.000000</td>\n",
       "    </tr>\n",
       "    <tr>\n",
       "      <th>120185</th>\n",
       "      <td>75712.96</td>\n",
       "      <td>USD</td>\n",
       "      <td>1335917.32</td>\n",
       "      <td>75712.96</td>\n",
       "      <td>30.00</td>\n",
       "      <td>30.0</td>\n",
       "      <td>NaN</td>\n",
       "      <td>2523.765316</td>\n",
       "    </tr>\n",
       "    <tr>\n",
       "      <th>120230</th>\n",
       "      <td>150000.00</td>\n",
       "      <td>USD</td>\n",
       "      <td>2646675.00</td>\n",
       "      <td>150000.00</td>\n",
       "      <td>102.00</td>\n",
       "      <td>102.0</td>\n",
       "      <td>NaN</td>\n",
       "      <td>1470.588235</td>\n",
       "    </tr>\n",
       "    <tr>\n",
       "      <th>120302</th>\n",
       "      <td>1300000.00</td>\n",
       "      <td>USD</td>\n",
       "      <td>22937850.00</td>\n",
       "      <td>1300000.00</td>\n",
       "      <td>1100.00</td>\n",
       "      <td>1100.0</td>\n",
       "      <td>NaN</td>\n",
       "      <td>1181.818182</td>\n",
       "    </tr>\n",
       "    <tr>\n",
       "      <th>120957</th>\n",
       "      <td>85000.00</td>\n",
       "      <td>USD</td>\n",
       "      <td>1499782.50</td>\n",
       "      <td>85000.00</td>\n",
       "      <td>35.00</td>\n",
       "      <td>45.0</td>\n",
       "      <td>NaN</td>\n",
       "      <td>1888.888889</td>\n",
       "    </tr>\n",
       "    <tr>\n",
       "      <th>121065</th>\n",
       "      <td>115000.00</td>\n",
       "      <td>USD</td>\n",
       "      <td>2029117.50</td>\n",
       "      <td>115000.00</td>\n",
       "      <td>100.00</td>\n",
       "      <td>100.0</td>\n",
       "      <td>NaN</td>\n",
       "      <td>1150.000000</td>\n",
       "    </tr>\n",
       "    <tr>\n",
       "      <th>121066</th>\n",
       "      <td>550000.00</td>\n",
       "      <td>USD</td>\n",
       "      <td>9704475.00</td>\n",
       "      <td>550000.00</td>\n",
       "      <td>620.00</td>\n",
       "      <td>330.0</td>\n",
       "      <td>NaN</td>\n",
       "      <td>1666.666667</td>\n",
       "    </tr>\n",
       "    <tr>\n",
       "      <th>121097</th>\n",
       "      <td>260000.00</td>\n",
       "      <td>USD</td>\n",
       "      <td>4587570.00</td>\n",
       "      <td>260000.00</td>\n",
       "      <td>2800.00</td>\n",
       "      <td>220.0</td>\n",
       "      <td>NaN</td>\n",
       "      <td>1181.818182</td>\n",
       "    </tr>\n",
       "    <tr>\n",
       "      <th>121155</th>\n",
       "      <td>170000.00</td>\n",
       "      <td>USD</td>\n",
       "      <td>2999565.00</td>\n",
       "      <td>170000.00</td>\n",
       "      <td>550.00</td>\n",
       "      <td>130.0</td>\n",
       "      <td>NaN</td>\n",
       "      <td>1307.692308</td>\n",
       "    </tr>\n",
       "    <tr>\n",
       "      <th>121156</th>\n",
       "      <td>170000.00</td>\n",
       "      <td>USD</td>\n",
       "      <td>2999565.00</td>\n",
       "      <td>170000.00</td>\n",
       "      <td>550.00</td>\n",
       "      <td>130.0</td>\n",
       "      <td>NaN</td>\n",
       "      <td>1307.692308</td>\n",
       "    </tr>\n",
       "  </tbody>\n",
       "</table>\n",
       "<p>4735 rows × 8 columns</p>\n",
       "</div>"
      ],
      "text/plain": [
       "             price currency  price_aprox_local_currency  price_aprox_usd  \\\n",
       "77       150000.00      USD                  2646675.00        150000.00   \n",
       "79       118000.00      USD                  2082051.00        118000.00   \n",
       "109       55000.00      USD                   970447.50         55000.00   \n",
       "138      130000.00      USD                  2293785.00        130000.00   \n",
       "143       74600.00      USD                  1316279.70         74600.00   \n",
       "144      147000.00      USD                  2593741.50        147000.00   \n",
       "152     1250000.00      USD                 22055625.00       1250000.00   \n",
       "161      260000.00      USD                  4587570.00        260000.00   \n",
       "174       82664.53      USD                  1458574.29         82664.53   \n",
       "267       95000.00      USD                  1676227.50         95000.00   \n",
       "281       27000.00      USD                   476401.50         27000.00   \n",
       "284       50000.00      USD                   882225.00         50000.00   \n",
       "309       84125.51      USD                  1484352.56         84125.51   \n",
       "426      460000.00      USD                  8116470.00        460000.00   \n",
       "453       61692.04      USD                  1088525.19         61692.04   \n",
       "456      130000.00      USD                  2293785.00        130000.00   \n",
       "483      120000.00      USD                  2117340.00        120000.00   \n",
       "490       78517.14      USD                  1385395.67         78517.14   \n",
       "491      250000.00      USD                  4411125.00        250000.00   \n",
       "659       99800.00      USD                  1760921.10         99800.00   \n",
       "805      110000.00      USD                  1940895.00        110000.00   \n",
       "955     1100000.00      USD                 19408950.00       1100000.00   \n",
       "958       84500.00      USD                  1490960.25         84500.00   \n",
       "959       87500.00      USD                  1543893.75         87500.00   \n",
       "960       89000.00      USD                  1570360.50         89000.00   \n",
       "962       87000.00      USD                  1535071.50         87000.00   \n",
       "965      100000.00      USD                  1764450.00        100000.00   \n",
       "969       86000.00      USD                  1517427.00         86000.00   \n",
       "970       87500.00      USD                  1543893.75         87500.00   \n",
       "971       89000.00      USD                  1570360.50         89000.00   \n",
       "...            ...      ...                         ...              ...   \n",
       "119884    75000.00      USD                  1323337.50         75000.00   \n",
       "119889   135000.00      USD                  2382007.50        135000.00   \n",
       "119894   295000.00      USD                  5205127.50        295000.00   \n",
       "119899    94000.00      USD                  1658583.00         94000.00   \n",
       "119901   165000.00      USD                  2911342.50        165000.00   \n",
       "119908   370000.00      USD                  6528465.00        370000.00   \n",
       "119914    70000.00      USD                  1235115.00         70000.00   \n",
       "119915   130000.00      USD                  2293785.00        130000.00   \n",
       "119920   131235.80      USD                  2315590.07        131235.80   \n",
       "119921    35332.71      USD                   623428.00         35332.71   \n",
       "119922    90000.00      USD                  1588005.00         90000.00   \n",
       "119941   639000.00      USD                 11274835.50        639000.00   \n",
       "119946   265000.00      USD                  4675792.50        265000.00   \n",
       "119947   293000.00      USD                  5169838.50        293000.00   \n",
       "119955   240000.00      USD                  4234680.00        240000.00   \n",
       "120057    81321.33      USD                  1434874.20         81321.33   \n",
       "120060   100950.61      USD                  1781223.03        100950.61   \n",
       "120104   100000.00      USD                  1764450.00        100000.00   \n",
       "120116   119000.00      USD                  2099695.50        119000.00   \n",
       "120122   198000.00      USD                  3493611.00        198000.00   \n",
       "120180    90000.00      USD                  1588005.00         90000.00   \n",
       "120185    75712.96      USD                  1335917.32         75712.96   \n",
       "120230   150000.00      USD                  2646675.00        150000.00   \n",
       "120302  1300000.00      USD                 22937850.00       1300000.00   \n",
       "120957    85000.00      USD                  1499782.50         85000.00   \n",
       "121065   115000.00      USD                  2029117.50        115000.00   \n",
       "121066   550000.00      USD                  9704475.00        550000.00   \n",
       "121097   260000.00      USD                  4587570.00        260000.00   \n",
       "121155   170000.00      USD                  2999565.00        170000.00   \n",
       "121156   170000.00      USD                  2999565.00        170000.00   \n",
       "\n",
       "        surface_total_in_m2  surface_covered_in_m2  price_usd_per_m2  \\\n",
       "77                    85.00                    NaN               NaN   \n",
       "79                    42.00                   42.0               NaN   \n",
       "109                   60.00                   60.0               NaN   \n",
       "138                  842.00                  100.0               NaN   \n",
       "143                   36.00                   36.0               NaN   \n",
       "144                  379.00                  120.0               NaN   \n",
       "152                  612.00                    NaN               NaN   \n",
       "161                   11.00                  200.0               NaN   \n",
       "174                 1910.00                    NaN               NaN   \n",
       "267                  360.00                    NaN               NaN   \n",
       "281                   23.00                   23.0               NaN   \n",
       "284                   30.00                   30.0               NaN   \n",
       "309                    1.40                   41.0               NaN   \n",
       "426                 1200.00                  320.0               NaN   \n",
       "453                  225.00                  100.0               NaN   \n",
       "456                   16.00                   51.0               NaN   \n",
       "483                   49.00                   49.0               NaN   \n",
       "490                  189.00                  189.0               NaN   \n",
       "491                  122.00                    NaN               NaN   \n",
       "659                   14.00                   60.0               NaN   \n",
       "805                   35.00                    NaN               NaN   \n",
       "955                  508.00                   20.0               NaN   \n",
       "958                    1.20                   33.0               NaN   \n",
       "959                    1.20                   33.0               NaN   \n",
       "960                    1.20                   33.0               NaN   \n",
       "962                   44.00                   44.0               NaN   \n",
       "965                    1.20                   33.0               NaN   \n",
       "969                    1.20                   34.0               NaN   \n",
       "970                    1.20                   34.0               NaN   \n",
       "971                    1.20                   34.0               NaN   \n",
       "...                     ...                    ...               ...   \n",
       "119884                32.00                   32.0               NaN   \n",
       "119889                19.48                  170.0               NaN   \n",
       "119894               328.00                  135.0               NaN   \n",
       "119899                31.00                   31.0               NaN   \n",
       "119901                46.00                   49.0               NaN   \n",
       "119908               800.00                  240.0               NaN   \n",
       "119914                33.00                   33.0               NaN   \n",
       "119915                68.00                    NaN               NaN   \n",
       "119920               900.00                  129.0               NaN   \n",
       "119921               208.00                   20.0               NaN   \n",
       "119922                44.00                   44.0               NaN   \n",
       "119941               250.00                  600.0               NaN   \n",
       "119946                70.00                  126.0               NaN   \n",
       "119947               200.00                  180.0               NaN   \n",
       "119955               247.00                   20.0               NaN   \n",
       "120057                53.00                    NaN               NaN   \n",
       "120060               118.00                  118.0               NaN   \n",
       "120104                60.00                   60.0               NaN   \n",
       "120116                63.00                    NaN               NaN   \n",
       "120122               110.00                    NaN               NaN   \n",
       "120180                80.00                   80.0               NaN   \n",
       "120185                30.00                   30.0               NaN   \n",
       "120230               102.00                  102.0               NaN   \n",
       "120302              1100.00                 1100.0               NaN   \n",
       "120957                35.00                   45.0               NaN   \n",
       "121065               100.00                  100.0               NaN   \n",
       "121066               620.00                  330.0               NaN   \n",
       "121097              2800.00                  220.0               NaN   \n",
       "121155               550.00                  130.0               NaN   \n",
       "121156               550.00                  130.0               NaN   \n",
       "\n",
       "        price_per_m2  \n",
       "77       1764.705882  \n",
       "79       2809.523810  \n",
       "109       916.666667  \n",
       "138      1300.000000  \n",
       "143      2072.222222  \n",
       "144      1225.000000  \n",
       "152      2042.483660  \n",
       "161      1300.000000  \n",
       "174      1450.254927  \n",
       "267              NaN  \n",
       "281      1173.913043  \n",
       "284      1666.666667  \n",
       "309      2051.841720  \n",
       "426      1437.500000  \n",
       "453       616.920411  \n",
       "456      2549.019608  \n",
       "483      2448.979592  \n",
       "490       415.434620  \n",
       "491      2049.180328  \n",
       "659      1663.333333  \n",
       "805              NaN  \n",
       "955     55000.000000  \n",
       "958      2560.606061  \n",
       "959      2651.515152  \n",
       "960      2696.969697  \n",
       "962      1977.272727  \n",
       "965      3030.303030  \n",
       "969      2529.411765  \n",
       "970      2573.529412  \n",
       "971      2617.647059  \n",
       "...              ...  \n",
       "119884   2343.750000  \n",
       "119889    794.117647  \n",
       "119894   2185.185185  \n",
       "119899   3032.258065  \n",
       "119901   3367.346939  \n",
       "119908   1541.666667  \n",
       "119914   2121.212121  \n",
       "119915   1911.764706  \n",
       "119920   1017.331755  \n",
       "119921   1766.635721  \n",
       "119922   2045.454545  \n",
       "119941   1065.000000  \n",
       "119946   2103.174603  \n",
       "119947   1627.777778  \n",
       "119955  12000.000000  \n",
       "120057           NaN  \n",
       "120060    855.513644  \n",
       "120104   1666.666667  \n",
       "120116   1888.888889  \n",
       "120122           NaN  \n",
       "120180   1125.000000  \n",
       "120185   2523.765316  \n",
       "120230   1470.588235  \n",
       "120302   1181.818182  \n",
       "120957   1888.888889  \n",
       "121065   1150.000000  \n",
       "121066   1666.666667  \n",
       "121097   1181.818182  \n",
       "121155   1307.692308  \n",
       "121156   1307.692308  \n",
       "\n",
       "[4735 rows x 8 columns]"
      ]
     },
     "execution_count": 67,
     "metadata": {},
     "output_type": "execute_result"
    }
   ],
   "source": [
    "data.loc[(data['price_aprox_usd'].notnull())&(data['surface_total_in_m2'].notnull())&(data['price_usd_per_m2'].isna()),price_cols]"
   ]
  },
  {
   "cell_type": "markdown",
   "metadata": {},
   "source": [
    "## Filtro de superficies encontradas por outliers"
   ]
  },
  {
   "cell_type": "code",
   "execution_count": 68,
   "metadata": {},
   "outputs": [],
   "source": [
    "for i in range(7):\n",
    "    data.loc[(data['property_type']=='apartment')&(data['surface_total_in_m2']>sup_tot_limits_apt[i][1]),'surface_total_in_m2']=np.nan\n",
    "    data.loc[(data['property_type']=='apartment')&(data['surface_covered_in_m2']>sup_cub_limits_apt[i][1]),'surface_covered_in_m2']=np.nan\n",
    "    data.loc[(data['property_type']=='apartment')&(data['surface_total_in_m2']<sup_tot_limits_apt[i][0]),'surface_total_in_m2']=np.nan\n",
    "    data.loc[(data['property_type']=='apartment')&(data['surface_covered_in_m2']<sup_cub_limits_apt[i][0]),'surface_covered_in_m2']=np.nan\n",
    "\n",
    "for i in range(7):\n",
    "    data.loc[(data['property_type']=='house')&(data['surface_total_in_m2']>sup_tot_limits_hs[i][1]),'surface_total_in_m2']=np.nan\n",
    "    data.loc[(data['property_type']=='house')&(data['surface_covered_in_m2']>sup_cub_limits_hs[i][1]),'surface_covered_in_m2']=np.nan\n",
    "    data.loc[(data['property_type']=='house')&(data['surface_total_in_m2']<sup_tot_limits_hs[i][0]),'surface_total_in_m2']=np.nan\n",
    "    data.loc[(data['property_type']=='house')&(data['surface_covered_in_m2']<sup_cub_limits_hs[i][0]),'surface_covered_in_m2']=np.nan\n",
    "\n",
    "for i in range(5):\n",
    "    data.loc[(data['property_type']=='PH')&(data['surface_total_in_m2']>sup_tot_limits_ph[i][1]),'surface_total_in_m2']=np.nan\n",
    "    data.loc[(data['property_type']=='PH')&(data['surface_covered_in_m2']>sup_cub_limits_ph[i][1]),'surface_covered_in_m2']=np.nan\n",
    "    data.loc[(data['property_type']=='PH')&(data['surface_total_in_m2']<sup_tot_limits_ph[i][0]),'surface_total_in_m2']=np.nan\n",
    "    data.loc[(data['property_type']=='PH')&(data['surface_covered_in_m2']<sup_cub_limits_ph[i][0]),'surface_covered_in_m2']=np.nan\n",
    "\n",
    "for i in range(4):\n",
    "    data.loc[(data['property_type']=='store')&(data['surface_total_in_m2']>sup_tot_limits_str[i][1]),'surface_total_in_m2']=np.nan\n",
    "    data.loc[(data['property_type']=='store')&(data['surface_covered_in_m2']>sup_cub_limits_str[i][1]),'surface_covered_in_m2']=np.nan\n",
    "    data.loc[(data['property_type']=='store')&(data['surface_total_in_m2']<sup_tot_limits_str[i][0]),'surface_total_in_m2']=np.nan\n",
    "    data.loc[(data['property_type']=='store')&(data['surface_covered_in_m2']<sup_cub_limits_str[i][0]),'surface_covered_in_m2']=np.nan"
   ]
  },
  {
   "cell_type": "markdown",
   "metadata": {},
   "source": [
    "$price\\_usd\\_per\\_m2 = \\frac{price\\_aprox\\_usd}{surface\\_total\\_in\\_m2}$\n",
    "\n",
    "$price\\_per\\_m2 = \\frac{price}{surface\\_covered\\_in\\_m2}$\n",
    "\n",
    "\n",
    "Con estos valores y las anteriores relaciones, completo valores de **price_usd_per_m2** y **price_per_m2**:"
   ]
  },
  {
   "cell_type": "code",
   "execution_count": 69,
   "metadata": {
    "scrolled": true
   },
   "outputs": [
    {
     "data": {
      "text/plain": [
       "price                         89843\n",
       "currency                      89843\n",
       "price_aprox_local_currency    89843\n",
       "price_aprox_usd               89843\n",
       "surface_total_in_m2           49883\n",
       "surface_covered_in_m2         59668\n",
       "price_usd_per_m2              64165\n",
       "price_per_m2                  78729\n",
       "dtype: int64"
      ]
     },
     "execution_count": 69,
     "metadata": {},
     "output_type": "execute_result"
    }
   ],
   "source": [
    "completar_pusdpm2_index = data.loc[(data['price_usd_per_m2'].isna())&(data['price_aprox_usd'].notnull())&(data['surface_total_in_m2'].notnull())&(data['surface_total_in_m2']!=0),price_cols].index\n",
    "data.loc[completar_pusdpm2_index,'price_usd_per_m2'] = data.loc[completar_pusdpm2_index,'price_aprox_usd'] / data.loc[completar_pusdpm2_index,'surface_total_in_m2']\n",
    "\n",
    "data[price_cols].notnull().sum()"
   ]
  },
  {
   "cell_type": "code",
   "execution_count": null,
   "metadata": {},
   "outputs": [],
   "source": []
  },
  {
   "cell_type": "code",
   "execution_count": 70,
   "metadata": {},
   "outputs": [
    {
     "data": {
      "text/html": [
       "<div>\n",
       "<style scoped>\n",
       "    .dataframe tbody tr th:only-of-type {\n",
       "        vertical-align: middle;\n",
       "    }\n",
       "\n",
       "    .dataframe tbody tr th {\n",
       "        vertical-align: top;\n",
       "    }\n",
       "\n",
       "    .dataframe thead th {\n",
       "        text-align: right;\n",
       "    }\n",
       "</style>\n",
       "<table border=\"1\" class=\"dataframe\">\n",
       "  <thead>\n",
       "    <tr style=\"text-align: right;\">\n",
       "      <th></th>\n",
       "      <th>price</th>\n",
       "      <th>currency</th>\n",
       "      <th>price_aprox_local_currency</th>\n",
       "      <th>price_aprox_usd</th>\n",
       "      <th>surface_total_in_m2</th>\n",
       "      <th>surface_covered_in_m2</th>\n",
       "      <th>price_usd_per_m2</th>\n",
       "      <th>price_per_m2</th>\n",
       "    </tr>\n",
       "  </thead>\n",
       "  <tbody>\n",
       "  </tbody>\n",
       "</table>\n",
       "</div>"
      ],
      "text/plain": [
       "Empty DataFrame\n",
       "Columns: [price, currency, price_aprox_local_currency, price_aprox_usd, surface_total_in_m2, surface_covered_in_m2, price_usd_per_m2, price_per_m2]\n",
       "Index: []"
      ]
     },
     "execution_count": 70,
     "metadata": {},
     "output_type": "execute_result"
    }
   ],
   "source": [
    "data.loc[(data['price_aprox_usd'].isna())&(data['surface_total_in_m2'].notnull())&(data['price_usd_per_m2'].notnull()),price_cols]"
   ]
  },
  {
   "cell_type": "markdown",
   "metadata": {},
   "source": [
    "No puedo completar nada más con estos valores de superficie total."
   ]
  },
  {
   "cell_type": "code",
   "execution_count": 71,
   "metadata": {},
   "outputs": [
    {
     "data": {
      "text/plain": [
       "price                         89843\n",
       "currency                      89843\n",
       "price_aprox_local_currency    89843\n",
       "price_aprox_usd               89843\n",
       "surface_total_in_m2           49883\n",
       "surface_covered_in_m2         59668\n",
       "price_usd_per_m2              64165\n",
       "price_per_m2                  78729\n",
       "dtype: int64"
      ]
     },
     "execution_count": 71,
     "metadata": {},
     "output_type": "execute_result"
    }
   ],
   "source": [
    "data[price_cols].notnull().sum()"
   ]
  },
  {
   "cell_type": "code",
   "execution_count": 72,
   "metadata": {},
   "outputs": [
    {
     "data": {
      "text/plain": [
       "Text(0, 0.5, 'Superficie [m2]')"
      ]
     },
     "execution_count": 72,
     "metadata": {},
     "output_type": "execute_result"
    },
    {
     "data": {
      "image/png": "[encoded data removed]",
      "text/plain": [
       "<Figure size 1008x720 with 4 Axes>"
      ]
     },
     "metadata": {
      "needs_background": "light"
     },
     "output_type": "display_data"
    }
   ],
   "source": [
    "apartment_df = data.loc[data['property_type']=='apartment'].copy()\n",
    "house_df = data.loc[data['property_type']=='house'].copy()\n",
    "ph_df = data.loc[data['property_type']=='PH'].copy()\n",
    "store_df = data.loc[data['property_type']=='store'].copy()\n",
    "\n",
    "plt.figure(figsize=(14,10))\n",
    "plt.subplot(221)\n",
    "plt.grid(True)  \n",
    "#ax = sns.boxplot(x=\"rooms\", y=\"surface_total_in_m2\", data=apartment_df, palette=\"Set1\")\n",
    "ax = sns.boxplot(x=\"rooms\", y=\"surface_covered_in_m2\", data=apartment_df, palette=\"Set1\")\n",
    "plt.title('Departamentos')\n",
    "plt.xlabel('Número de Ambientes')\n",
    "plt.ylabel('Superficie [m2]')\n",
    "\n",
    "plt.subplot(222)\n",
    "plt.grid(True)  \n",
    "#ax = sns.boxplot(x=\"rooms\", y=\"surface_total_in_m2\", data=house_df, palette=\"Set1\")\n",
    "ax = sns.boxplot(x=\"rooms\", y=\"surface_covered_in_m2\", data=house_df, palette=\"Set1\")\n",
    "plt.title('Casas')\n",
    "plt.xlabel('Número de Ambientes')\n",
    "plt.ylabel('Superficie [m2]')\n",
    "\n",
    "plt.subplot(223)\n",
    "plt.grid(True)  \n",
    "#ax = sns.boxplot(x=\"rooms\", y=\"surface_total_in_m2\", data=ph_df, palette=\"Set1\")\n",
    "ax = sns.boxplot(x=\"rooms\", y=\"surface_covered_in_m2\", data=ph_df, palette=\"Set1\")\n",
    "plt.title('PH')\n",
    "plt.xlabel('Número de Ambientes')\n",
    "plt.ylabel('Superficie [m2]')\n",
    "\n",
    "plt.subplot(224)\n",
    "plt.grid(True)  \n",
    "#ax = sns.boxplot(x=\"rooms\", y=\"surface_total_in_m2\", data=store_df, palette=\"Set1\")\n",
    "ax = sns.boxplot(x=\"rooms\", y=\"surface_covered_in_m2\", data=store_df, palette=\"Set1\")\n",
    "plt.title('Locales (Store)')\n",
    "plt.xlabel('Número de Ambientes')\n",
    "plt.ylabel('Superficie [m2]')\n",
    "#plt.savefig(\"../Images/Rooms-After.png\")"
   ]
  },
  {
   "cell_type": "code",
   "execution_count": 73,
   "metadata": {
    "scrolled": true
   },
   "outputs": [
    {
     "data": {
      "text/plain": [
       "price                         89843\n",
       "currency                      89843\n",
       "price_aprox_local_currency    89843\n",
       "price_aprox_usd               89843\n",
       "surface_total_in_m2           49883\n",
       "surface_covered_in_m2         59668\n",
       "price_usd_per_m2              64165\n",
       "price_per_m2                  78729\n",
       "surface_uncovered_in_m2       41734\n",
       "dtype: int64"
      ]
     },
     "execution_count": 73,
     "metadata": {},
     "output_type": "execute_result"
    }
   ],
   "source": [
    "data['surface_uncovered_in_m2']=data['surface_total_in_m2']-data['surface_covered_in_m2']\n",
    "price_cols.append('surface_uncovered_in_m2')\n",
    "data[price_cols].notnull().sum()"
   ]
  },
  {
   "cell_type": "markdown",
   "metadata": {},
   "source": [
    "La estrategia para imputar valores de superficie es con un $Construction\\:Index = \\frac{Superficie\\:Cubierta}{Superficie\\:Total}$ el cual se calcula para cada 'place_name'.\n",
    "\n",
    "Entonces, se dropean las filas donde no haya ni Superficia Cubierta, ni Superficie Total para un determinado 'place_name'.\n"
   ]
  },
  {
   "cell_type": "code",
   "execution_count": 74,
   "metadata": {},
   "outputs": [
    {
     "name": "stdout",
     "output_type": "stream",
     "text": [
      "Se van a dropear 74 por falta de datos de superficie.\n"
     ]
    }
   ],
   "source": [
    "sup_por_lugar = data[['surface_covered_in_m2','surface_total_in_m2','place_name']].groupby('place_name').count().reset_index()\n",
    "lugares_sin_constindx = sup_por_lugar.loc[(sup_por_lugar['surface_covered_in_m2']==0)&(sup_por_lugar['surface_total_in_m2']==0)]\n",
    "lugares_sin_constindx = lugares_sin_constindx['place_name'].to_list()\n",
    "lugares_sin_constindx\n",
    "\n",
    "sup_drop_ind=[]\n",
    "for lugar in lugares_sin_constindx:\n",
    "    sup_drop_ind.append(data.loc[data['place_name']==lugar].index.values[0])\n",
    "sup_drop_ind = pd.Index(sup_drop_ind)\n",
    "print(\"Se van a dropear {} por falta de datos de superficie.\".format(sup_drop_ind.size))\n",
    "data.drop(index=sup_drop_ind,inplace=True)"
   ]
  },
  {
   "cell_type": "markdown",
   "metadata": {},
   "source": [
    "Si no se tiene el dato de superficie cubierta ni superficie total también se debe dropear:"
   ]
  },
  {
   "cell_type": "code",
   "execution_count": 75,
   "metadata": {},
   "outputs": [
    {
     "data": {
      "text/plain": [
       "operation                     103417\n",
       "property_type                 103417\n",
       "place_name                    103417\n",
       "place_with_parent_names       103417\n",
       "country_name                  103417\n",
       "state_name                    103417\n",
       "geonames_id                    87019\n",
       "lat-lon                        63201\n",
       "price                          89804\n",
       "currency                       89804\n",
       "price_aprox_local_currency     89804\n",
       "price_aprox_usd                89804\n",
       "surface_total_in_m2            49883\n",
       "surface_covered_in_m2          59668\n",
       "price_usd_per_m2               64150\n",
       "price_per_m2                   78714\n",
       "floor                           7596\n",
       "rooms                         103417\n",
       "expenses                       11912\n",
       "properati_url                 103417\n",
       "description                   103417\n",
       "title                         103417\n",
       "image_thumbnail               101577\n",
       "Pais                          103417\n",
       "Provincia                     103417\n",
       "Ciudad                        100668\n",
       "Barrio                         60125\n",
       "Sub-Barrio                      1473\n",
       "complete_place_name           103417\n",
       "lat                            63201\n",
       "lon                            63201\n",
       "surface_uncovered_in_m2        41734\n",
       "dtype: int64"
      ]
     },
     "execution_count": 75,
     "metadata": {},
     "output_type": "execute_result"
    }
   ],
   "source": [
    "data.notnull().sum()"
   ]
  },
  {
   "cell_type": "code",
   "execution_count": 76,
   "metadata": {},
   "outputs": [],
   "source": [
    "data.replace([np.inf, -np.inf], np.nan,inplace=True)"
   ]
  },
  {
   "cell_type": "code",
   "execution_count": 77,
   "metadata": {},
   "outputs": [],
   "source": [
    "data.loc[data['surface_covered_in_m2']<10,'surface_covered_in_m2']=np.nan\n",
    "data.loc[data['surface_total_in_m2']<10,'surface_total_in_m2']=np.nan\n",
    "sup_inv_index = data.loc[data['surface_covered_in_m2']>data['surface_total_in_m2'],price_cols].index\n",
    "data.loc[sup_inv_index,'surface_covered_in_m2']=np.nan\n",
    "data.loc[sup_inv_index,'surface_total_in_m2']=np.nan\n",
    "data.loc[sup_inv_index,'price_per_m2']=np.nan\n",
    "data.loc[sup_inv_index,'price_usd_per_m2']=np.nan"
   ]
  },
  {
   "cell_type": "code",
   "execution_count": 78,
   "metadata": {},
   "outputs": [
    {
     "name": "stdout",
     "output_type": "stream",
     "text": [
      "Se va a dropear 36079 por falta de ambas superficies.\n"
     ]
    }
   ],
   "source": [
    "no_sup_drop = data.loc[(data['surface_covered_in_m2'].isna())&(data['surface_total_in_m2'].isna())].index\n",
    "print(\"Se va a dropear {} por falta de ambas superficies.\".format(no_sup_drop.size))\n",
    "data.drop(index=no_sup_drop,inplace=True)"
   ]
  },
  {
   "cell_type": "code",
   "execution_count": 79,
   "metadata": {},
   "outputs": [
    {
     "data": {
      "text/plain": [
       "operation                     67338\n",
       "property_type                 67338\n",
       "place_name                    67338\n",
       "place_with_parent_names       67338\n",
       "country_name                  67338\n",
       "state_name                    67338\n",
       "geonames_id                   56152\n",
       "lat-lon                       40124\n",
       "price                         60391\n",
       "currency                      60391\n",
       "price_aprox_local_currency    60391\n",
       "price_aprox_usd               60391\n",
       "surface_total_in_m2           49404\n",
       "surface_covered_in_m2         59189\n",
       "price_usd_per_m2              47413\n",
       "price_per_m2                  56754\n",
       "floor                          4263\n",
       "rooms                         67338\n",
       "expenses                       7046\n",
       "properati_url                 67338\n",
       "description                   67338\n",
       "title                         67338\n",
       "image_thumbnail               66177\n",
       "Pais                          67338\n",
       "Provincia                     67338\n",
       "Ciudad                        65690\n",
       "Barrio                        39049\n",
       "Sub-Barrio                      889\n",
       "complete_place_name           67338\n",
       "lat                           40124\n",
       "lon                           40124\n",
       "surface_uncovered_in_m2       41255\n",
       "dtype: int64"
      ]
     },
     "execution_count": 79,
     "metadata": {},
     "output_type": "execute_result"
    }
   ],
   "source": [
    "data.notnull().sum()"
   ]
  },
  {
   "cell_type": "markdown",
   "metadata": {},
   "source": [
    "<h1><font color='red'>Filtro de outliers multivariados de Superficie Cubierta y Total (por número de ambientes y por tipo de propiedad)</font></h1>\n",
    "\n",
    "Agregar drop de filas donde no hay superficie total ni superficie cubierta en un lugar.\n",
    "\n",
    "**Hecho**"
   ]
  },
  {
   "cell_type": "markdown",
   "metadata": {},
   "source": [
    "<h1><font color='red'>Filtro de outliers de $/m2 para Capital, GBA, Resto BsAs, Cordoba, Santa Fe, Resto del País</font></h1>"
   ]
  },
  {
   "cell_type": "markdown",
   "metadata": {},
   "source": [
    "En primer lugar vamos a Clasificar el Dataset por zonas, las cuales vamos a utilizar luego para los modelos de la segunda parte del trabajo"
   ]
  },
  {
   "cell_type": "code",
   "execution_count": 80,
   "metadata": {},
   "outputs": [
    {
     "data": {
      "text/plain": [
       "array(['Capital Federal', 'Buenos Aires Costa Atlántica', 'Entre Ríos',\n",
       "       'Bs.As. G.B.A. Zona Norte', 'Córdoba', 'Bs.As. G.B.A. Zona Oeste',\n",
       "       'Bs.As. G.B.A. Zona Sur', 'Santa Fe', 'Misiones',\n",
       "       'Buenos Aires Interior', 'Neuquén', 'Río Negro', 'San Luis',\n",
       "       'Mendoza', 'Corrientes', 'Tucumán', 'Chaco', 'Salta', 'Chubut',\n",
       "       'Tierra Del Fuego', 'San Juan', 'La Pampa', 'Santa Cruz',\n",
       "       'Santiago Del Estero', 'Catamarca', 'Jujuy', 'La Rioja', 'Formosa'],\n",
       "      dtype=object)"
      ]
     },
     "execution_count": 80,
     "metadata": {},
     "output_type": "execute_result"
    }
   ],
   "source": [
    "data.Provincia.unique()"
   ]
  },
  {
   "cell_type": "code",
   "execution_count": 81,
   "metadata": {},
   "outputs": [],
   "source": [
    "#división por zonas para el análisis\n",
    "zonas = {\"Provincia\":['Capital Federal','Buenos Aires Costa Atlántica','Entre Ríos',\\\n",
    "                     'Bs.As. G.B.A. Zona Norte', 'Santa Fe', 'Córdoba',\\\n",
    "                     'Bs.As. G.B.A. Zona Oeste', 'Bs.As. G.B.A. Zona Sur', 'Misiones',\\\n",
    "                     'Buenos Aires Interior', 'Salta', 'Neuquén', 'Río Negro',\\\n",
    "                     'San Luis', 'Mendoza', 'Corrientes', 'Chubut', 'Tucumán', 'Chaco',\\\n",
    "                     'San Juan', 'La Pampa', 'Santa Cruz', 'Tierra Del Fuego',\\\n",
    "                     'Catamarca', 'Santiago Del Estero', 'Jujuy', 'La Rioja', 'Formosa'],\\\n",
    "        \"Zona\":[\"CABA\", 'BsAs', \"Resto País\",\\\n",
    "                \"GBA\", 'Santa Fe', 'Córdoba',\\\n",
    "                'GBA', 'GBA', 'Resto País',\\\n",
    "                'BsAs', 'Resto País','Resto País','Resto País',\\\n",
    "                'Resto País','Resto País','Resto País','Resto País','Resto País',\\\n",
    "                'Resto País','Resto País','Resto País','Resto País',\\\n",
    "                'Resto País','Resto País','Resto País','Resto País','Resto País','Resto País']\n",
    "       }\n"
   ]
  },
  {
   "cell_type": "code",
   "execution_count": 82,
   "metadata": {},
   "outputs": [],
   "source": [
    "df_zonas=pd.DataFrame.from_dict(zonas)\n"
   ]
  },
  {
   "cell_type": "code",
   "execution_count": 83,
   "metadata": {
    "scrolled": true
   },
   "outputs": [
    {
     "data": {
      "text/html": [
       "<div>\n",
       "<style scoped>\n",
       "    .dataframe tbody tr th:only-of-type {\n",
       "        vertical-align: middle;\n",
       "    }\n",
       "\n",
       "    .dataframe tbody tr th {\n",
       "        vertical-align: top;\n",
       "    }\n",
       "\n",
       "    .dataframe thead th {\n",
       "        text-align: right;\n",
       "    }\n",
       "</style>\n",
       "<table border=\"1\" class=\"dataframe\">\n",
       "  <thead>\n",
       "    <tr style=\"text-align: right;\">\n",
       "      <th></th>\n",
       "      <th>operation</th>\n",
       "      <th>property_type</th>\n",
       "      <th>place_name</th>\n",
       "      <th>place_with_parent_names</th>\n",
       "      <th>country_name</th>\n",
       "      <th>state_name</th>\n",
       "      <th>geonames_id</th>\n",
       "      <th>lat-lon</th>\n",
       "      <th>price</th>\n",
       "      <th>currency</th>\n",
       "      <th>...</th>\n",
       "      <th>Pais</th>\n",
       "      <th>Provincia</th>\n",
       "      <th>Ciudad</th>\n",
       "      <th>Barrio</th>\n",
       "      <th>Sub-Barrio</th>\n",
       "      <th>complete_place_name</th>\n",
       "      <th>lat</th>\n",
       "      <th>lon</th>\n",
       "      <th>surface_uncovered_in_m2</th>\n",
       "      <th>Zona</th>\n",
       "    </tr>\n",
       "  </thead>\n",
       "  <tbody>\n",
       "    <tr>\n",
       "      <th>0</th>\n",
       "      <td>sell</td>\n",
       "      <td>PH</td>\n",
       "      <td>Mataderos</td>\n",
       "      <td>|Argentina|Capital Federal|Mataderos|</td>\n",
       "      <td>Argentina</td>\n",
       "      <td>Capital Federal</td>\n",
       "      <td>3430787.0</td>\n",
       "      <td>-34.6618237,-58.5088387</td>\n",
       "      <td>62000.0</td>\n",
       "      <td>USD</td>\n",
       "      <td>...</td>\n",
       "      <td>Argentina</td>\n",
       "      <td>Capital Federal</td>\n",
       "      <td>Capital Federal</td>\n",
       "      <td>Mataderos</td>\n",
       "      <td>None</td>\n",
       "      <td>Argentina, Capital Federal, Mataderos</td>\n",
       "      <td>-34.661824</td>\n",
       "      <td>-58.508839</td>\n",
       "      <td>15.0</td>\n",
       "      <td>CABA</td>\n",
       "    </tr>\n",
       "    <tr>\n",
       "      <th>1</th>\n",
       "      <td>sell</td>\n",
       "      <td>apartment</td>\n",
       "      <td>Mataderos</td>\n",
       "      <td>|Argentina|Capital Federal|Mataderos|</td>\n",
       "      <td>Argentina</td>\n",
       "      <td>Capital Federal</td>\n",
       "      <td>3430787.0</td>\n",
       "      <td>-34.6522615,-58.5229825</td>\n",
       "      <td>72000.0</td>\n",
       "      <td>USD</td>\n",
       "      <td>...</td>\n",
       "      <td>Argentina</td>\n",
       "      <td>Capital Federal</td>\n",
       "      <td>Capital Federal</td>\n",
       "      <td>Mataderos</td>\n",
       "      <td>None</td>\n",
       "      <td>Argentina, Capital Federal, Mataderos</td>\n",
       "      <td>-34.652262</td>\n",
       "      <td>-58.522982</td>\n",
       "      <td>0.0</td>\n",
       "      <td>CABA</td>\n",
       "    </tr>\n",
       "    <tr>\n",
       "      <th>2</th>\n",
       "      <td>sell</td>\n",
       "      <td>apartment</td>\n",
       "      <td>Centro</td>\n",
       "      <td>|Argentina|Buenos Aires Costa Atlántica|Mar de...</td>\n",
       "      <td>Argentina</td>\n",
       "      <td>Buenos Aires Costa Atlántica</td>\n",
       "      <td>3435548.0</td>\n",
       "      <td>-38.0026256,-57.5494468</td>\n",
       "      <td>64000.0</td>\n",
       "      <td>USD</td>\n",
       "      <td>...</td>\n",
       "      <td>Argentina</td>\n",
       "      <td>Buenos Aires Costa Atlántica</td>\n",
       "      <td>Mar del Plata</td>\n",
       "      <td>Centro</td>\n",
       "      <td>None</td>\n",
       "      <td>Argentina, Buenos Aires Costa Atlántica, Mar d...</td>\n",
       "      <td>-38.002626</td>\n",
       "      <td>-57.549447</td>\n",
       "      <td>0.0</td>\n",
       "      <td>BsAs</td>\n",
       "    </tr>\n",
       "    <tr>\n",
       "      <th>3</th>\n",
       "      <td>sell</td>\n",
       "      <td>house</td>\n",
       "      <td>Gualeguaychú</td>\n",
       "      <td>|Argentina|Entre Ríos|Gualeguaychú|</td>\n",
       "      <td>Argentina</td>\n",
       "      <td>Entre Ríos</td>\n",
       "      <td>3433657.0</td>\n",
       "      <td>-33.0140714,-58.519828</td>\n",
       "      <td>NaN</td>\n",
       "      <td>NaN</td>\n",
       "      <td>...</td>\n",
       "      <td>Argentina</td>\n",
       "      <td>Entre Ríos</td>\n",
       "      <td>Gualeguaychú</td>\n",
       "      <td>None</td>\n",
       "      <td>None</td>\n",
       "      <td>Argentina, Entre Ríos, Gualeguaychú</td>\n",
       "      <td>-33.014071</td>\n",
       "      <td>-58.519828</td>\n",
       "      <td>NaN</td>\n",
       "      <td>Resto País</td>\n",
       "    </tr>\n",
       "    <tr>\n",
       "      <th>4</th>\n",
       "      <td>sell</td>\n",
       "      <td>PH</td>\n",
       "      <td>Munro</td>\n",
       "      <td>|Argentina|Bs.As. G.B.A. Zona Norte|Vicente Ló...</td>\n",
       "      <td>Argentina</td>\n",
       "      <td>Bs.As. G.B.A. Zona Norte</td>\n",
       "      <td>3430511.0</td>\n",
       "      <td>-34.5329567,-58.5217825</td>\n",
       "      <td>130000.0</td>\n",
       "      <td>USD</td>\n",
       "      <td>...</td>\n",
       "      <td>Argentina</td>\n",
       "      <td>Bs.As. G.B.A. Zona Norte</td>\n",
       "      <td>Vicente López</td>\n",
       "      <td>Munro</td>\n",
       "      <td>None</td>\n",
       "      <td>Argentina, Bs.As. G.B.A. Zona Norte, Vicente L...</td>\n",
       "      <td>-34.532957</td>\n",
       "      <td>-58.521782</td>\n",
       "      <td>28.0</td>\n",
       "      <td>GBA</td>\n",
       "    </tr>\n",
       "  </tbody>\n",
       "</table>\n",
       "<p>5 rows × 33 columns</p>\n",
       "</div>"
      ],
      "text/plain": [
       "  operation property_type    place_name  \\\n",
       "0      sell            PH     Mataderos   \n",
       "1      sell     apartment     Mataderos   \n",
       "2      sell     apartment        Centro   \n",
       "3      sell         house  Gualeguaychú   \n",
       "4      sell            PH         Munro   \n",
       "\n",
       "                             place_with_parent_names country_name  \\\n",
       "0              |Argentina|Capital Federal|Mataderos|    Argentina   \n",
       "1              |Argentina|Capital Federal|Mataderos|    Argentina   \n",
       "2  |Argentina|Buenos Aires Costa Atlántica|Mar de...    Argentina   \n",
       "3                |Argentina|Entre Ríos|Gualeguaychú|    Argentina   \n",
       "4  |Argentina|Bs.As. G.B.A. Zona Norte|Vicente Ló...    Argentina   \n",
       "\n",
       "                     state_name  geonames_id                  lat-lon  \\\n",
       "0               Capital Federal    3430787.0  -34.6618237,-58.5088387   \n",
       "1               Capital Federal    3430787.0  -34.6522615,-58.5229825   \n",
       "2  Buenos Aires Costa Atlántica    3435548.0  -38.0026256,-57.5494468   \n",
       "3                    Entre Ríos    3433657.0   -33.0140714,-58.519828   \n",
       "4      Bs.As. G.B.A. Zona Norte    3430511.0  -34.5329567,-58.5217825   \n",
       "\n",
       "      price currency  ...       Pais                     Provincia  \\\n",
       "0   62000.0      USD  ...  Argentina               Capital Federal   \n",
       "1   72000.0      USD  ...  Argentina               Capital Federal   \n",
       "2   64000.0      USD  ...  Argentina  Buenos Aires Costa Atlántica   \n",
       "3       NaN      NaN  ...  Argentina                    Entre Ríos   \n",
       "4  130000.0      USD  ...  Argentina      Bs.As. G.B.A. Zona Norte   \n",
       "\n",
       "            Ciudad     Barrio  Sub-Barrio  \\\n",
       "0  Capital Federal  Mataderos        None   \n",
       "1  Capital Federal  Mataderos        None   \n",
       "2    Mar del Plata     Centro        None   \n",
       "3     Gualeguaychú       None        None   \n",
       "4    Vicente López      Munro        None   \n",
       "\n",
       "                                 complete_place_name        lat        lon  \\\n",
       "0              Argentina, Capital Federal, Mataderos -34.661824 -58.508839   \n",
       "1              Argentina, Capital Federal, Mataderos -34.652262 -58.522982   \n",
       "2  Argentina, Buenos Aires Costa Atlántica, Mar d... -38.002626 -57.549447   \n",
       "3                Argentina, Entre Ríos, Gualeguaychú -33.014071 -58.519828   \n",
       "4  Argentina, Bs.As. G.B.A. Zona Norte, Vicente L... -34.532957 -58.521782   \n",
       "\n",
       "   surface_uncovered_in_m2        Zona  \n",
       "0                     15.0        CABA  \n",
       "1                      0.0        CABA  \n",
       "2                      0.0        BsAs  \n",
       "3                      NaN  Resto País  \n",
       "4                     28.0         GBA  \n",
       "\n",
       "[5 rows x 33 columns]"
      ]
     },
     "execution_count": 83,
     "metadata": {},
     "output_type": "execute_result"
    }
   ],
   "source": [
    "data = data.merge(df_zonas,on=\"Provincia\",how=\"left\")\n",
    "data=data.rename(columns = {'Zona y':'Zona'})\n",
    "data.head()"
   ]
  },
  {
   "cell_type": "code",
   "execution_count": 84,
   "metadata": {},
   "outputs": [
    {
     "data": {
      "text/plain": [
       "Index(['operation', 'property_type', 'place_name', 'place_with_parent_names',\n",
       "       'country_name', 'state_name', 'geonames_id', 'lat-lon', 'price',\n",
       "       'currency', 'price_aprox_local_currency', 'price_aprox_usd',\n",
       "       'surface_total_in_m2', 'surface_covered_in_m2', 'price_usd_per_m2',\n",
       "       'price_per_m2', 'floor', 'rooms', 'expenses', 'properati_url',\n",
       "       'description', 'title', 'image_thumbnail', 'Pais', 'Provincia',\n",
       "       'Ciudad', 'Barrio', 'Sub-Barrio', 'complete_place_name', 'lat', 'lon',\n",
       "       'surface_uncovered_in_m2', 'Zona'],\n",
       "      dtype='object')"
      ]
     },
     "execution_count": 84,
     "metadata": {},
     "output_type": "execute_result"
    }
   ],
   "source": [
    "data.columns"
   ]
  },
  {
   "cell_type": "markdown",
   "metadata": {},
   "source": [
    "## Estado Inicial de OUTLIERS"
   ]
  },
  {
   "cell_type": "code",
   "execution_count": 85,
   "metadata": {},
   "outputs": [
    {
     "data": {
      "text/plain": [
       "Text(0, 0.5, 'Precio USD/m2')"
      ]
     },
     "execution_count": 85,
     "metadata": {},
     "output_type": "execute_result"
    },
    {
     "data": {
      "image/png": "[encoded data removed]",
      "text/plain": [
       "<Figure size 1440x720 with 1 Axes>"
      ]
     },
     "metadata": {
      "needs_background": "light"
     },
     "output_type": "display_data"
    }
   ],
   "source": [
    "plt.figure(figsize=(20,10))\n",
    "plt.grid(True)  \n",
    "#ax = sns.boxplot(x=\"rooms\", y=\"surface_total_in_m2\", data=apartment_df, palette=\"Set1\")\n",
    "ax = sns.boxplot(x=\"Zona\", y=\"price_usd_per_m2\", data=data, palette=\"Set1\")\n",
    "plt.title('Precio USD/m2 Por Zonas')\n",
    "plt.xlabel('Zona')\n",
    "plt.ylabel('Precio USD/m2')\n"
   ]
  },
  {
   "cell_type": "markdown",
   "metadata": {},
   "source": [
    "## Análisis Capital Federal"
   ]
  },
  {
   "cell_type": "markdown",
   "metadata": {},
   "source": [
    "### Cuando se realizó la corrección inicial, comprobamos que Puerto Madero tiene un precio por m2 superior al resto de Capital. Para que esos valores no se licuen con el resto de la zona, vamos a realizar el cálculo de outliers para CABA con/sin Pto Madero, y este último en forma individual"
   ]
  },
  {
   "cell_type": "code",
   "execution_count": 86,
   "metadata": {},
   "outputs": [
    {
     "name": "stdout",
     "output_type": "stream",
     "text": [
      "[1127.27272727 1309.09090909 3066.66666667 ... 2310.81081081 2387.09677419\n",
      " 2858.69565217]\n",
      "(444.444444444445, 4474.074074074074)\n"
     ]
    }
   ],
   "source": [
    "iqr_values_CABA=calculate_iqr_values(data.loc[(data['price_usd_per_m2'].notnull())&(data['Zona']=='CABA'),'price_usd_per_m2'])\n",
    "print(data.loc[(data['Zona']=='CABA')&(data['price_usd_per_m2'].notnull()),'price_usd_per_m2'].apply(check_outliers,args=iqr_values_CABA).unique())\n",
    "print(iqr_values_CABA)"
   ]
  },
  {
   "cell_type": "code",
   "execution_count": 87,
   "metadata": {},
   "outputs": [
    {
     "data": {
      "text/plain": [
       "count       80.000000\n",
       "mean      6052.689221\n",
       "std       5312.126461\n",
       "min       2964.912281\n",
       "25%       5000.000000\n",
       "50%       5436.689550\n",
       "75%       5962.500000\n",
       "max      52000.000000\n",
       "Name: price_usd_per_m2, dtype: float64"
      ]
     },
     "execution_count": 87,
     "metadata": {},
     "output_type": "execute_result"
    }
   ],
   "source": [
    "data.loc[data[\"place_name\"]==\"Puerto madero\",'price_usd_per_m2'].describe()"
   ]
  },
  {
   "cell_type": "code",
   "execution_count": 88,
   "metadata": {},
   "outputs": [
    {
     "name": "stdout",
     "output_type": "stream",
     "text": [
      "(3556.25, 7406.25)\n"
     ]
    }
   ],
   "source": [
    "iqr_values_PtoMadero=calculate_iqr_values(data.loc[(data['price_usd_per_m2'].notnull())&(data['place_name']=='Puerto madero'),'price_usd_per_m2'])\n",
    "#print(data.loc[(data['place_name']=='Puerto madero')&(data['price_usd_per_m2'].notnull()),'price_usd_per_m2'].apply(check_outliers,args=iqr_values_PtoMadero).unique())\n",
    "print(iqr_values_PtoMadero)"
   ]
  },
  {
   "cell_type": "markdown",
   "metadata": {},
   "source": [
    "Habíamos detectado previamente que \"Puerto Madero\" es el barrio mas caro de CABA , con valores promedios de uSD 6.028, mirando hacia dentro de su descripción vemos que valor límite superior está establecido en 8889USD/m2. Vamos a limpiar primero este barrio y luego volver a correr CABA sin él"
   ]
  },
  {
   "cell_type": "code",
   "execution_count": 89,
   "metadata": {},
   "outputs": [],
   "source": [
    "data.loc[(data['place_name']=='Puerto madero')&(data['price_usd_per_m2']>iqr_values_PtoMadero[1]),'price_usd_per_m2']=np.nan\n"
   ]
  },
  {
   "cell_type": "code",
   "execution_count": 90,
   "metadata": {},
   "outputs": [
    {
     "data": {
      "text/plain": [
       "count      77.000000\n",
       "mean     5364.443540\n",
       "std       864.145722\n",
       "min      2964.912281\n",
       "25%      5000.000000\n",
       "50%      5409.836066\n",
       "75%      5950.000000\n",
       "max      7256.304348\n",
       "Name: price_usd_per_m2, dtype: float64"
      ]
     },
     "execution_count": 90,
     "metadata": {},
     "output_type": "execute_result"
    }
   ],
   "source": [
    "data.loc[data[\"place_name\"]==\"Puerto madero\",'price_usd_per_m2'].describe()"
   ]
  },
  {
   "cell_type": "code",
   "execution_count": 91,
   "metadata": {},
   "outputs": [
    {
     "name": "stdout",
     "output_type": "stream",
     "text": [
      "[1127.27272727 1309.09090909 3066.66666667 ... 2310.81081081 2387.09677419\n",
      " 2858.69565217]\n",
      "(459.6306106174536, 4440.298188653451)\n"
     ]
    }
   ],
   "source": [
    "iqr_values_CABA_sinPM=calculate_iqr_values(data.loc[(data['price_usd_per_m2'].notnull())&(data['Zona']=='CABA')&(data['place_name']!='Puerto madero'),'price_usd_per_m2'])\n",
    "print(data.loc[(data['Zona']=='CABA')&(data['place_name']!='Puerto madero')&(data['price_usd_per_m2'].notnull()),'price_usd_per_m2'].apply(check_outliers,args=iqr_values_CABA_sinPM).unique())\n",
    "print(iqr_values_CABA_sinPM)"
   ]
  },
  {
   "cell_type": "code",
   "execution_count": 92,
   "metadata": {},
   "outputs": [],
   "source": [
    "data.loc[(data['Zona']=='CABA')&(data['place_name']!='Puerto madero')&(data['price_usd_per_m2']>iqr_values_CABA_sinPM[1]),'price_usd_per_m2']=np.nan\n"
   ]
  },
  {
   "cell_type": "code",
   "execution_count": 93,
   "metadata": {},
   "outputs": [
    {
     "data": {
      "text/plain": [
       "count    12181.000000\n",
       "mean      2344.794863\n",
       "std        738.359662\n",
       "min         62.065932\n",
       "25%       1907.272727\n",
       "50%       2343.750000\n",
       "75%       2800.000000\n",
       "max       4435.644444\n",
       "Name: price_usd_per_m2, dtype: float64"
      ]
     },
     "execution_count": 93,
     "metadata": {},
     "output_type": "execute_result"
    }
   ],
   "source": [
    "data.loc[(data['Zona']=='CABA')&(data['place_name']!='Puerto madero')&(data['price_usd_per_m2'].notnull()),'price_usd_per_m2'].describe()\n"
   ]
  },
  {
   "cell_type": "code",
   "execution_count": 94,
   "metadata": {},
   "outputs": [
    {
     "data": {
      "text/plain": [
       "Text(0, 0.5, 'Precio USD/m2')"
      ]
     },
     "execution_count": 94,
     "metadata": {},
     "output_type": "execute_result"
    },
    {
     "data": {
      "image/png": "[encoded data removed]",
      "text/plain": [
       "<Figure size 1440x720 with 1 Axes>"
      ]
     },
     "metadata": {
      "needs_background": "light"
     },
     "output_type": "display_data"
    }
   ],
   "source": [
    "plt.figure(figsize=(20,10))\n",
    "plt.grid(True)  \n",
    "\n",
    "ax = sns.boxplot(x=\"Zona\", y=\"price_usd_per_m2\", data=data.loc[data[\"Zona\"]==\"CABA\"], palette=\"Set1\")\n",
    "plt.title('Precio USD/m2 Por Zonas')\n",
    "plt.xlabel('Zona')\n",
    "plt.ylabel('Precio USD/m2')"
   ]
  },
  {
   "cell_type": "markdown",
   "metadata": {},
   "source": [
    "## Cálculo Outliers GBA"
   ]
  },
  {
   "cell_type": "code",
   "execution_count": 95,
   "metadata": {},
   "outputs": [
    {
     "name": "stdout",
     "output_type": "stream",
     "text": [
      "[1226.41509434 2948.71794872 1524.3902439  ... 1370.55837563  887.09677419\n",
      " 1383.33333333]\n",
      "(-684.8930559056796, 3731.6905505245395)\n"
     ]
    }
   ],
   "source": [
    "iqr_values_GBANORTE=calculate_iqr_values(data.loc[(data['price_usd_per_m2'].notnull())&(data['Provincia']=='Bs.As. G.B.A. Zona Norte'),'price_usd_per_m2'])\n",
    "print(data.loc[(data['Provincia']=='Bs.As. G.B.A. Zona Norte')&(data['price_usd_per_m2'].notnull()),'price_usd_per_m2'].apply(check_outliers,args=iqr_values_GBANORTE).unique())\n",
    "print(iqr_values_GBANORTE)"
   ]
  },
  {
   "cell_type": "code",
   "execution_count": 96,
   "metadata": {},
   "outputs": [
    {
     "name": "stdout",
     "output_type": "stream",
     "text": [
      "[1586.20689655 1263.15789474 2062.5        ... 1688.88888889 1790.75163265\n",
      " 1439.02439024]\n",
      "(-504.0507479693141, 3246.8234487815885)\n"
     ]
    }
   ],
   "source": [
    "iqr_values_GBASUR=calculate_iqr_values(data.loc[(data['price_usd_per_m2'].notnull())&(data['Provincia']=='Bs.As. G.B.A. Zona Sur'),'price_usd_per_m2'])\n",
    "print(data.loc[(data['Provincia']=='Bs.As. G.B.A. Zona Sur')&(data['price_usd_per_m2'].notnull()),'price_usd_per_m2'].apply(check_outliers,args=iqr_values_GBASUR).unique())\n",
    "print(iqr_values_GBASUR)"
   ]
  },
  {
   "cell_type": "code",
   "execution_count": 97,
   "metadata": {
    "scrolled": true
   },
   "outputs": [
    {
     "name": "stdout",
     "output_type": "stream",
     "text": [
      "[1450.          785.49848943 1558.13953488 ...  216.66666667  618.18181818\n",
      " 1255.17241379]\n",
      "(-951.6464198782962, 3154.7048174442193)\n"
     ]
    }
   ],
   "source": [
    "iqr_values_GBAOESTE=calculate_iqr_values(data.loc[(data['price_usd_per_m2'].notnull())&(data['Provincia']=='Bs.As. G.B.A. Zona Oeste'),'price_usd_per_m2'])\n",
    "print(data.loc[(data['Provincia']=='Bs.As. G.B.A. Zona Oeste')&(data['price_usd_per_m2'].notnull()),'price_usd_per_m2'].apply(check_outliers,args=iqr_values_GBAOESTE).unique())\n",
    "print(iqr_values_GBAOESTE)"
   ]
  },
  {
   "cell_type": "markdown",
   "metadata": {},
   "source": [
    "Los valores expresados tienen lógica. Aplicamos los cortes de los IQR"
   ]
  },
  {
   "cell_type": "code",
   "execution_count": 98,
   "metadata": {},
   "outputs": [],
   "source": [
    "data.loc[(data['Provincia']=='Bs.As. G.B.A. Zona Norte')&(data['price_usd_per_m2']>iqr_values_GBANORTE[1]),'price_usd_per_m2']=np.nan\n",
    "data.loc[(data['Provincia']=='Bs.As. G.B.A. Zona Sur')&(data['price_usd_per_m2']>iqr_values_GBAOESTE[1]),'price_usd_per_m2']=np.nan\n",
    "data.loc[(data['Provincia']=='Bs.As. G.B.A. Zona Oeste')&(data['price_usd_per_m2']>iqr_values_GBASUR[1]),'price_usd_per_m2']=np.nan"
   ]
  },
  {
   "cell_type": "code",
   "execution_count": 99,
   "metadata": {},
   "outputs": [
    {
     "data": {
      "text/plain": [
       "Text(0, 0.5, 'Precio USD/m2')"
      ]
     },
     "execution_count": 99,
     "metadata": {},
     "output_type": "execute_result"
    },
    {
     "data": {
      "image/png": "[encoded data removed]",
      "text/plain": [
       "<Figure size 1440x720 with 1 Axes>"
      ]
     },
     "metadata": {
      "needs_background": "light"
     },
     "output_type": "display_data"
    }
   ],
   "source": [
    "plt.figure(figsize=(20,10))\n",
    "plt.grid(True)  \n",
    "\n",
    "ax = sns.boxplot(x=\"Zona\", y=\"price_usd_per_m2\", data=data.loc[data[\"Zona\"]==\"GBA\"], palette=\"Set1\")\n",
    "plt.title('Precio USD/m2 Por Zonas')\n",
    "plt.xlabel('Zona')\n",
    "plt.ylabel('Precio USD/m2')\n",
    "\n"
   ]
  },
  {
   "cell_type": "code",
   "execution_count": 100,
   "metadata": {},
   "outputs": [
    {
     "data": {
      "text/plain": [
       "Text(0, 0.5, 'Precio USD/m2')"
      ]
     },
     "execution_count": 100,
     "metadata": {},
     "output_type": "execute_result"
    },
    {
     "data": {
      "image/png": "[encoded data removed]",
      "text/plain": [
       "<Figure size 1440x720 with 1 Axes>"
      ]
     },
     "metadata": {
      "needs_background": "light"
     },
     "output_type": "display_data"
    }
   ],
   "source": [
    "\n",
    "plt.figure(figsize=(20,10))\n",
    "plt.grid(True)  \n",
    "\n",
    "ax = sns.boxplot(x=\"Provincia\", y=\"price_usd_per_m2\", data=data.loc[data[\"Zona\"]==\"GBA\"], palette=\"Set1\")\n",
    "plt.title('Precio USD/m2 Por Zonas')\n",
    "plt.xlabel('Zona')\n",
    "plt.ylabel('Precio USD/m2')\n"
   ]
  },
  {
   "cell_type": "markdown",
   "metadata": {},
   "source": [
    "## Cálculo Outliers Resto de la Provincia de BsAs"
   ]
  },
  {
   "cell_type": "code",
   "execution_count": 101,
   "metadata": {},
   "outputs": [
    {
     "name": "stdout",
     "output_type": "stream",
     "text": [
      "[1828.57142857 1054.21686747 1758.62068966 ...  895.         1897.43589744\n",
      " 2176.2972973 ]\n",
      "(-1167.598290598291, 3769.3589743589746)\n"
     ]
    }
   ],
   "source": [
    "iqr_values_BA=calculate_iqr_values(data.loc[(data['price_usd_per_m2'].notnull())&(data['Zona']=='BsAs'),'price_usd_per_m2'])\n",
    "print(data.loc[(data['Zona']=='BsAs')&(data['price_usd_per_m2'].notnull()),'price_usd_per_m2'].apply(check_outliers,args=iqr_values_BA).unique())\n",
    "print(iqr_values_BA)"
   ]
  },
  {
   "cell_type": "code",
   "execution_count": 102,
   "metadata": {},
   "outputs": [],
   "source": [
    "data.loc[(data['Zona']=='BsAs')&(data['price_usd_per_m2']>iqr_values_BA[1]),'price_usd_per_m2']=np.nan"
   ]
  },
  {
   "cell_type": "markdown",
   "metadata": {},
   "source": [
    "## Cálculo Outliers de la Provincia de Córdoba"
   ]
  },
  {
   "cell_type": "code",
   "execution_count": 103,
   "metadata": {},
   "outputs": [
    {
     "name": "stdout",
     "output_type": "stream",
     "text": [
      "[ 616.9204      934.72786667  238.3556     ... 1625.34807692 1684.7536\n",
      " 1690.362     ]\n",
      "(-735.1039030303021, 2856.6981818181803)\n"
     ]
    }
   ],
   "source": [
    "iqr_values_CBA=calculate_iqr_values(data.loc[(data['price_usd_per_m2'].notnull())&(data['Zona']=='Córdoba'),'price_usd_per_m2'])\n",
    "print(data.loc[(data['Zona']=='Córdoba')&(data['price_usd_per_m2'].notnull()),'price_usd_per_m2'].apply(check_outliers,args=iqr_values_CBA).unique())\n",
    "print(iqr_values_CBA)"
   ]
  },
  {
   "cell_type": "code",
   "execution_count": 104,
   "metadata": {},
   "outputs": [],
   "source": [
    "data.loc[(data['Zona']=='Córdoba')&(data['price_usd_per_m2']>iqr_values_CBA[1]),'price_usd_per_m2']=np.nan"
   ]
  },
  {
   "cell_type": "markdown",
   "metadata": {},
   "source": [
    "## Cálculo Outliers de la Provincia de Santa Fé"
   ]
  },
  {
   "cell_type": "code",
   "execution_count": 105,
   "metadata": {},
   "outputs": [
    {
     "name": "stdout",
     "output_type": "stream",
     "text": [
      "[ 276.49769585  719.02148718 2022.12805556 ... 1402.0919     1933.33333333\n",
      " 1744.82518519]\n",
      "(234.8174332264955, 2803.5025400641025)\n"
     ]
    }
   ],
   "source": [
    "iqr_values_SF=calculate_iqr_values(data.loc[(data['price_usd_per_m2'].notnull())&(data['Zona']=='Santa Fe'),'price_usd_per_m2'])\n",
    "print(data.loc[(data['Zona']=='Santa Fe')&(data['price_usd_per_m2'].notnull()),'price_usd_per_m2'].apply(check_outliers,args=iqr_values_SF).unique())\n",
    "print(iqr_values_SF)"
   ]
  },
  {
   "cell_type": "code",
   "execution_count": 106,
   "metadata": {},
   "outputs": [],
   "source": [
    "data.loc[(data['Zona']=='Santa Fe')&(data['price_usd_per_m2']>iqr_values_SF[1]),'price_usd_per_m2']=np.nan"
   ]
  },
  {
   "cell_type": "markdown",
   "metadata": {},
   "source": [
    "## Cálculo Outliers del Resto del Pais"
   ]
  },
  {
   "cell_type": "code",
   "execution_count": 107,
   "metadata": {},
   "outputs": [
    {
     "data": {
      "text/plain": [
       "count     1316.000000\n",
       "mean      1410.949349\n",
       "std       2098.476352\n",
       "min          5.608367\n",
       "25%        556.820091\n",
       "50%       1111.111111\n",
       "75%       1679.516807\n",
       "max      33333.333333\n",
       "Name: price_usd_per_m2, dtype: float64"
      ]
     },
     "execution_count": 107,
     "metadata": {},
     "output_type": "execute_result"
    }
   ],
   "source": [
    "data.loc[data['Zona']=='Resto País','price_usd_per_m2'].describe()"
   ]
  },
  {
   "cell_type": "markdown",
   "metadata": {},
   "source": [
    "Se tratan de 1323 Valores que serán tratados en un mismo grupo. Entendiendo las diferencias económicas dadas por la extensión de la geografía pero intentaremos luego obtener características en común que nos permitan hacer predicciones hacia el interior del conjunto"
   ]
  },
  {
   "cell_type": "code",
   "execution_count": 108,
   "metadata": {},
   "outputs": [
    {
     "name": "stdout",
     "output_type": "stream",
     "text": [
      "[ 888.88888889  423.88822674  189.98533537  380.95238095  887.5739645\n",
      "  416.66666667  199.40862222  640.         3130.43478261 2777.77777778\n",
      " 2450.          373.89115789  392.58571579  716.6247193   400.59766917\n",
      " 2117.64705882  607.57313158 1558.44155844  163.15250526  486.05850526\n",
      "  364.54387895 2804.18368421  583.60655738  764.77736842  215.70643725\n",
      "  690.26059919  388.27158704 1078.53218623  684.29092354  912.99003672\n",
      "  137.65992632  356.69216463  618.85433031  414.53150114  266.39745\n",
      "  729.08775789  529.67914035  369.14274019  358.93551158  210.31377632\n",
      "  186.94557895  397.25935526  701.04592105  240.          228.91566265\n",
      "  336.73469388  850.          604.3956044  1075.          125.\n",
      " 2282.60869565  110.           72.11538462  183.33333333  454.50073394\n",
      " 2400.          841.255       360.53789286  106.06060606 3000.\n",
      " 2214.28571429 1612.90322581 1888.88888889  337.47779751  160.\n",
      "  194.73497685  141.49550459 2019.01228571  826.87467949  539.26596154\n",
      " 1750.          183.13036735  866.74772727  186.94556667  740.74074074\n",
      " 1208.91466667 1442.15142857  450.31891176  334.50923858  439.70928994\n",
      "  115.672575    107.49370833  930.75021277  585.10638298   65.90909091\n",
      " 1333.33333333  271.92084848  399.45638177  443.99575    2071.42857143\n",
      "  710.39323333  177.10633333 1423.66246154  443.59968927   91.56518367\n",
      "   93.47278431  104.22215     454.01071429  857.14285714 1904.76190476\n",
      " 1682.35294118 2105.26315789 1733.33333333 2714.28571429 1752.61484375\n",
      "  760.         1402.09189655 1191.778       690.          392.5857\n",
      " 1388.88888889  177.64058824  140.75052124  560.83676     247.70288889\n",
      "  385.82677165  262.07323988 1090.51588889  364.54385    1282.05128205\n",
      "  451.64728614  424.87633333  115.80699115 1944.44444444 1800.\n",
      "  410.111875   1335.32559524 1621.16875    1298.23314815  779.22077922\n",
      " 1585.36585366  299.11293333  513.30813559  448.6694      263.71681416\n",
      "  458.10920792 1121.6735      224.3347      601.25743243 1228.49952381\n",
      " 2452.77699464  595.74468085 1458.321       128.99243333  269.63304487\n",
      "  294.5033105    35.57307429  860.6557377   474.55415385 2064.61710526\n",
      "  230.         1375.          158.69565217 1063.65586207  334.69290323\n",
      "  774.33628319  208.93917647  599.96488372 1684.7675     1687.17245902\n",
      "  243.02923333  503.87675781  205.64013333  273.80919192 1036.58536585\n",
      "  244.46728205 1752.61475     929.80815789  925.92592593 1402.091875\n",
      " 1740.52775862  280.41838     104.13413793 1368.44171429 1385.99826087\n",
      "  754.97253846 2235.29411765 1214.28571429 1408.32333333  945.23044944\n",
      "   60.66616     833.33333333 1355.3555     1866.651      2000.\n",
      " 1101.64357143  166.35859519 1009.5061     1329.98428571  463.15789474\n",
      "  332.34770833  233.68196667 3113.20754717  557.24160256  454.54545455\n",
      "  865.38461538  592.59259259  161.81818182 1476.36363636 1150.43435897\n",
      "  425.27905213  478.43890995  174.48253333  413.95090476  260.\n",
      "  295.21674141  262.89221875  676.18617021  518.774                nan\n",
      "  330.          625.         2833.33333333 3333.33333333 2500.\n",
      "  575.          472.63681592  764.11960133 1370.96774194 1504.42477876\n",
      "  105.51703346 3125.         2333.33333333   75.         1125.\n",
      " 3200.         3300.          245.          424.41697297  327.15476667\n",
      "  602.94117647  280.41836667 1967.21311475   85.4608381   104.99912\n",
      "  241.67635965  675.         1682.51016667  565.65184848 1717.40666667\n",
      "  210.3137875   316.66666667  300.          645.16129032   62.65377778\n",
      "  272.43589744 1545.16244898 1709.86804878  968.75       1495.56466667\n",
      "  764.42307692 2173.91304348  887.9915      733.33333333  520.83333333\n",
      " 1285.25083333 1059.04675     303.48307359  183.54656364  284.95168591\n",
      "  451.71339564 1809.09090909  579.15057915  345.13030769  434.64845\n",
      "  493.69433099 1602.39061224 1857.7715625  1009.506       934.72785714\n",
      " 1075.57726027  280.2690583  2133.33333333   50.77241292 1766.64260586\n",
      "  163.03394186  747.78233333  240.35859524  364.5438875  1215.14629167\n",
      " 1281.91257143   13.5         392.85714286 1818.93       1395.34883721\n",
      "  355.45989437  564.87154676 1847.82608696 1000.          239.29034667\n",
      " 2023.80952381  579.5313      280.          240.35860714  276.19715909\n",
      "   67.98021053  657.23046875 1121.4953271     5.608367    493.32861111\n",
      "  112.16733333 1009.5061      186.48018648  373.89115152 1796.96673469\n",
      " 1166.66666667  196.29286    1154.66382353  134.60082     353.571\n",
      " 1370.93422222 1310.36626168 1812.5         522.81389831 2103.13775\n",
      "  192.30769231   89.73388     315.78644144 3142.85714286  320.\n",
      " 2380.95238095  373.33333333  552.33920455  439.39393939  789.55696203\n",
      " 2115.38461538 1600.          140.02223333 1324.19785088  105.66488613\n",
      "  268.1002584   532.7949      116.          400.64102564  619.35483871\n",
      "  875.         2222.22222222  231.25        167.70691667 2708.33333333\n",
      " 1611.11111111 2250.          224.          858.78125     194.73497222\n",
      "  211.87166667  241.47136111  237.64262712  147.58860526  178.0434127\n",
      " 1740.          937.5        1001.49421429  721.07571429  165.18424396\n",
      "  776.54307692  369.27522634 2666.66666667  641.02564103  202.54458333\n",
      " 1479.98583333  291.6642     1701.06732537  453.125      1538.46153846\n",
      " 1488.0952381   634.92063492  277.081       354.57219608 2270.45454545\n",
      "  800.          462.5         205.66067308  315.96958333  578.18221649\n",
      " 2635.932       441.17647059  609.60507246  757.49376623  738.8827\n",
      "  764.77738636 1836.73469388 2416.66666667  336.95652174  280.41835\n",
      " 2364.04880435 2532.86       2538.92297297 2549.53351351 2564.69135135\n",
      " 2576.81756757 2582.88054054 2591.97513514 2599.55405405 2608.64864865\n",
      " 2611.68027027 2578.680625   2604.385625   2652.29041667 2673.321875\n",
      " 2693.18479167 2716.55291667 2735.2475     2753.94208333 2399.0077551\n",
      " 2410.45346939 2423.04367347 2435.63387755 2447.07959184 2464.24795918\n",
      " 2476.83816327 2741.42333333 2762.78857143 2784.15380952 2805.51904762\n",
      " 2270.58771429 2284.208       651.29419355 2216.21621622 2297.2972973\n",
      " 2677.96610169 2589.74358974  113.80880121  604.22222642  362.20704167\n",
      " 1303.57965217 1044.5584375   387.5         177.77777778  686.73877551\n",
      " 1734.07636364  263.55110902 1985.362      1985.26462094 2255.03104167\n",
      " 2166.66666667 1495.5647      210.          274.53545455 1040.\n",
      " 3061.2244898  1090.51583333  729.0877      933.33333333   51.74687742\n",
      "  979.31051095  199.01794118 1338.78655738  295.60554054 1555.55555556\n",
      " 1051.56875     105.156875     93.47277778 1402.0919      179.46776\n",
      "  207.26573913  312.62859797  543.84169697  145.45454545  112.16735\n",
      " 2037.03703704   94.94480191 1523.17880795  673.004       583.33333333\n",
      " 2811.52542373  112.16733333  246.91358025 1583.33333333 3250.\n",
      "  358.93552    1666.66666667 2844.82758621 1042.49647059 1208.69982759\n",
      "  429.97483333 1450.43965517 1233.8408      889.13121951 3055.55555556\n",
      " 1682.5102      416.54695     225.89258333  844.6336747  1209.30232558\n",
      " 1562.5        1065.58977778 1294.23861538 2464.28272727  275.\n",
      "  667.66269841 1875.         1760.76651163 1891.19372093 2047.49920635\n",
      "  286.8852459   829.57104167  928.00323741 1652.17391304 2133.33333333\n",
      "  254.4         687.11788079  229.43318182  336.502       236.79774444\n",
      "  476.71125     360.53785714  190.76078231 1733.33333333  168.251\n",
      "  576.99255144 2083.10771429 1682.51022222  467.36394444  406.60665\n",
      " 1620.19488889  250.21947692 1250.          842.10526316  751.63398693\n",
      " 1444.44444444 1348.8372093  1885.24590164 1176.47058824  787.03703704\n",
      " 1045.45454545 1629.62962963 2058.82352941 1090.90909091 1722.22222222\n",
      " 1500.         1625.         1175.          970.58823529 1062.5\n",
      " 1572.96296296 1570.37037037 1558.18181818 1569.09090909 1150.\n",
      " 1357.14285714 1400.         1181.81818182 1461.53846154 1578.94736842\n",
      " 1083.33333333 1297.2972973   707.69230769 1350.          744.18604651\n",
      " 1533.33333333 1012.04819277  934.72791667  785.17144444 1222.22222222\n",
      "  659.09090909 1320.         1442.30769231  785.17141414 1138.88888889\n",
      "  903.22580645 1200.         1071.42857143 1867.640625   1856.85185185\n",
      " 2314.375      1040.90909091 1371.42857143  148.14814815   72.\n",
      " 2857.14285714  592.10526316 1616.66666667 2612.5         303.7865\n",
      "  380.         2125.         1329.81907216 1933.33333333  837.34939759\n",
      "  911.359625    789.32581481 1911.94340909  846.17473684 2896.42857143\n",
      " 2100.         1326.53061224 2375.         1766.66666667 2300.\n",
      " 2187.5         654.30953333  462.44435088  390.14730435 1542.301\n",
      "  729.08775    1066.66666667  862.82576923  687.81849057  969.6969697\n",
      " 1261.882725    934.72783333 1331.9873125  1068.2605     1051.568875\n",
      "  747.78228571  531.82793103  699.17646667  972.117       701.04589286\n",
      "  833.24314286 2750.          913.95614815 1416.66666667 1121.6734\n",
      "  632.65121951 1031.9396     1128.37837838  701.04592857 1564.62585034\n",
      "  982.48773723 1013.82019231  917.46031746  436.20633333  785.17144\n",
      "  630.94125     552.909       411.28026667 1131.51263158  623.79475\n",
      "  504.753       487.68413043  372.7432      959.32578947  897.33866667\n",
      "  406.25        859.9496     1168.40958333  560.83666667  616.9204\n",
      "  560.83676667  683.94719512 2121.21212121  405.04872222 1714.28571429\n",
      "  277.4272      269.2016     2280.70175439  394.9795122   497.139\n",
      "  480.37533333  492.62675676  274.09459016  885.53171053  155.67708185\n",
      "  185.05338078  560.83672727 1215.6865896   608.36528814  677.96610169\n",
      "  486.05846667  102.82006667  853.44717391  716.97880682 1402.0918\n",
      " 1542.          420.62755556 1492.54935484  890.74070588 1514.25921875\n",
      " 1138.21138211 1023.62204724 1355.93220339  866.66666667 1142.85714286\n",
      " 1266.66666667  909.09090909 1458.33333333 1475.         2800.\n",
      " 1434.7826087   357.14285714  460.31746032  515.26717557  476.87861272\n",
      "  808.82352941 1121.79487179  762.71186441 1301.36986301  756.30252101\n",
      " 1269.03553299 2156.8627451   959.86038394 2076.92307692 1914.89361702\n",
      " 1969.6969697  2060.60606061 1826.92307692  400.         1836.53846154\n",
      " 1855.76923077 1884.61538462 1041.66666667 1171.89761194 1398.58666667\n",
      " 1286.66666667 2053.57142857 1670.60344828 1778.37931034 1886.15517241\n",
      " 1303.71557377 2101.72413793 1546.75438596 1121.67342857 1435.10887097\n",
      " 1522.22222222 1230.01681818  976.27118644 1003.88135593 1019.13559322\n",
      " 1034.38983051 1072.52542373 2576.27118644 1111.11111111 2184.46601942\n",
      " 1428.57142857  901.63934426  673.07692308 1656.8627451  1676.47058824\n",
      " 1558.82352941 1627.90697674 1578.43137255  566.66666667 1617.64705882\n",
      " 1100.         1306.66666667  642.85714286  934.95934959 1139.24050633\n",
      " 1009.4637224  1636.36363636  882.35294118 1642.85714286  555.55555556\n",
      " 1287.87878788 1615.38461538  335.23537803  442.85714286  916.66666667\n",
      "  932.20338983 1097.56097561 1231.5270936  1403.50877193 1491.22807018\n",
      "  689.75069252  489.36170213 2342.85714286 2471.42857143 2371.42857143\n",
      " 2442.85714286 2485.29411765 2514.70588235 2544.11764706 1641.37931034\n",
      "  756.57894737 1401.86915888 1029.74828375  671.42857143 1466.80384615\n",
      " 2243.34688889  544.          280.95238095  869.04761905 1228.57142857\n",
      " 1361.11111111 1939.05817175 1916.66666667 1235.29411765  774.45652174\n",
      " 1190.47619048 1030.         1046.51162791 1450.         2931.03448276\n",
      " 1406.25       1764.70588235  678.90763158 1546.39175258 1486.48648649\n",
      " 1258.99280576  924.45615385  738.82682635 1218.75       1453.48837209\n",
      " 2391.30434783 1890.75630252  447.47081712 1360.          961.53846154\n",
      " 1193.69369369 2055.55555556 1107.14285714 1117.42424242 2470.58823529\n",
      " 1236.36363636  657.48031496 1732.67326733 1525.45454545 1525.\n",
      " 1532.43243243 1510.52631579 1513.15789474 1512.28070175 1842.10526316\n",
      " 1514.0625     1827.77777778 1653.44827586 1820.         1841.93548387\n",
      " 1877.19298246 1804.34782609  743.58974359 1485.71428571 1801.73410405\n",
      " 2254.90196078 1098.1595092  1678.57142857 1619.04761905 1086.95652174\n",
      "   83.68200837 1227.27272727 1054.6875      109.05125409  735.29411765\n",
      "  600.         1550.         1046.0251046  1268.11594203 1700.\n",
      " 1837.20930233 1031.25       1207.7294686  1921.05263158 1180.81180812\n",
      "  666.66666667  734.42904762 1243.79120968  349.20634921 1744.18604651\n",
      " 1694.91525424 1567.1641791   558.76685934 1602.56410256 1818.18181818\n",
      " 1833.33333333  781.25       1178.08219178  750.          947.36842105\n",
      "  703.7037037   532.40740741  854.43037975 1580.64516129 1378.60082305\n",
      " 1803.27868852 1368.42105263  880.28169014  921.05263158 1684.21052632\n",
      " 1325.84269663  692.30769231  722.22222222  729.72972973 1106.38297872\n",
      "  477.70700637 1028.03738318  869.56521739 1687.5         910.71428571\n",
      " 2600.         2062.5        1393.44262295 1132.0754717  1217.39130435\n",
      "  846.15384615  863.63636364 1155.91397849 1318.18181818 1711.22994652\n",
      " 1407.40740741 1470.58823529 1208.33333333  919.11764706 1586.02150538\n",
      " 1513.51351351 1711.02661597  725.         2364.86486486  868.05555556\n",
      "  769.23076923  680.55555556 1369.56521739  428.57142857 1702.12765957\n",
      "  878.37837838 1264.36781609 1858.97435897 2952.75590551  411.76470588\n",
      " 1325.75757576 1304.34782609  945.94594595  777.77777778 1718.75\n",
      "  950.          972.97297297 1055.55555556 2181.81818182  807.69230769\n",
      " 2285.71428571 1037.03703704 1077.84431138 1133.33333333 1194.44444444\n",
      " 1290.32258065 1265.82278481 1153.84615385 1098.9010989   960.\n",
      " 1438.84892086 1857.14285714  131.44609375   80.         1635.77383333\n",
      " 1663.81566667 1631.525      2056.40133333 1576.36363636  625.54869231\n",
      "  526.31578947  126.1882625   102.92301359  722.85622222 1297.08942731\n",
      " 1423.66246154   11.216735    400.59769048 1078.53221154  366.87631027\n",
      " 2508.47457627  711.30512195  594.26410596  671.64179104  239.50323843\n",
      "  701.04595    1183.98866667   36.         1009.50613333  150.\n",
      "  381.369       250.          533.3109816  2321.42857143  337.04132212\n",
      "  900.          953.4225      794.51866667  150.83628362 1602.39071429\n",
      " 1121.67333333  958.69529915 2200.          168.96551724 1040.9252669\n",
      "   98.66572222  682.23434705  252.37653333 1022.72727273 1421.85452381\n",
      "  880.43478261  933.19557377 2549.258       183.20666667  460.\n",
      " 1184.21052632 1093.63165   ]\n",
      "(-1127.22498305412, 3363.5618805887752)\n"
     ]
    }
   ],
   "source": [
    "iqr_values_RestoPais=calculate_iqr_values(data.loc[(data['price_usd_per_m2'].notnull())&(data['Zona']=='Resto País'),'price_usd_per_m2'])\n",
    "print(data.loc[(data['Zona']=='Resto País')&(data['price_usd_per_m2'].notnull()),'price_usd_per_m2'].apply(check_outliers,args=iqr_values_RestoPais).unique())\n",
    "print(iqr_values_RestoPais)\n"
   ]
  },
  {
   "cell_type": "code",
   "execution_count": 109,
   "metadata": {},
   "outputs": [],
   "source": [
    "data.loc[(data['Zona']=='Resto País')&(data['price_usd_per_m2']>iqr_values_RestoPais[1]),'price_usd_per_m2']=np.nan"
   ]
  },
  {
   "cell_type": "markdown",
   "metadata": {},
   "source": [
    "## Estado Final de la Distribución de Precios en USD por M2 por Zona"
   ]
  },
  {
   "cell_type": "code",
   "execution_count": 110,
   "metadata": {},
   "outputs": [
    {
     "data": {
      "text/plain": [
       "Text(0, 0.5, 'Precio USD/m2')"
      ]
     },
     "execution_count": 110,
     "metadata": {},
     "output_type": "execute_result"
    },
    {
     "data": {
      "image/png": "[encoded data removed]",
      "text/plain": [
       "<Figure size 1440x720 with 1 Axes>"
      ]
     },
     "metadata": {
      "needs_background": "light"
     },
     "output_type": "display_data"
    }
   ],
   "source": [
    "plt.figure(figsize=(20,10))\n",
    "plt.grid(True)  \n",
    "\n",
    "ax = sns.boxplot(x=\"Zona\", y=\"price_usd_per_m2\", data=data, palette=\"Set1\")\n",
    "plt.title('Precio USD/m2 Por Zonas')\n",
    "plt.xlabel('Zona')\n",
    "plt.ylabel('Precio USD/m2')"
   ]
  },
  {
   "cell_type": "code",
   "execution_count": 111,
   "metadata": {},
   "outputs": [
    {
     "name": "stdout",
     "output_type": "stream",
     "text": [
      "Se van a dropear 21562 filas (falta de variable objetivo).\n"
     ]
    }
   ],
   "source": [
    "print(\"Se van a dropear {} filas (falta de variable objetivo).\".format(data['price_usd_per_m2'].isna().sum()))"
   ]
  },
  {
   "cell_type": "code",
   "execution_count": 112,
   "metadata": {
    "scrolled": true
   },
   "outputs": [],
   "source": [
    "falta_target = data.loc[data['price_usd_per_m2'].isna()].index\n",
    "data.drop(index=falta_target,inplace=True)"
   ]
  },
  {
   "cell_type": "code",
   "execution_count": 113,
   "metadata": {},
   "outputs": [],
   "source": [
    "#data.drop(columns=['clean_sup_cub','temp_sup_cub','clean_sup_tot','temp_sup_tot'],inplace=True)"
   ]
  },
  {
   "cell_type": "code",
   "execution_count": 114,
   "metadata": {
    "scrolled": false
   },
   "outputs": [
    {
     "data": {
      "text/plain": [
       "price                         45776\n",
       "currency                      45776\n",
       "price_aprox_local_currency    45776\n",
       "price_aprox_usd               45776\n",
       "surface_total_in_m2           42512\n",
       "surface_covered_in_m2         39431\n",
       "price_usd_per_m2              45776\n",
       "price_per_m2                  42251\n",
       "surface_uncovered_in_m2       36167\n",
       "dtype: int64"
      ]
     },
     "execution_count": 114,
     "metadata": {},
     "output_type": "execute_result"
    }
   ],
   "source": [
    "data[price_cols].notnull().sum()"
   ]
  },
  {
   "cell_type": "code",
   "execution_count": null,
   "metadata": {},
   "outputs": [],
   "source": []
  },
  {
   "cell_type": "code",
   "execution_count": 115,
   "metadata": {},
   "outputs": [],
   "source": [
    "#data.loc[data['price_usd_per_m2'].notnull(),['Provincia','price_usd_per_m2']].groupby('Provincia').apply(calculate_iqr_values)"
   ]
  },
  {
   "cell_type": "markdown",
   "metadata": {},
   "source": [
    "## Columna Floor"
   ]
  },
  {
   "cell_type": "markdown",
   "metadata": {},
   "source": [
    "### Funciones para Limpieza y Búsqueda de Datos"
   ]
  },
  {
   "cell_type": "code",
   "execution_count": 116,
   "metadata": {},
   "outputs": [],
   "source": [
    "#!pip install unidecode\n",
    "import unidecode\n",
    "\n",
    "def quitar_caracteres(entrada):\n",
    "    return str.lower(unidecode.unidecode(entrada))\n",
    "\n",
    "#Revisar y ver que pasa con varias ocurrencias\n",
    "def text_floor_search(text):\n",
    "    floor_map = {\n",
    "        'primer': 1.0,'segundo': 2.0,'tercer': 3.0,'cuarto': 4.0,'quinto': 5.0,\n",
    "        'sexto': 6.0,'septimo': 7.0,'octavo': 8.0,'noveno': 9.0,'decimo': 10.0\n",
    "    }\n",
    "    \n",
    "    pattern_fl = r'(\\w{2,7})\\s?(?:piso)'\n",
    "    regex_fl = re.compile(pattern_fl, flags = re.IGNORECASE)\n",
    "    floors_lst = regex_fl.findall(text)\n",
    "    \n",
    "    if not floors_lst:\n",
    "        return np.nan\n",
    "    if len(floors_lst)!=1:\n",
    "        return np.nan\n",
    "    if quitar_caracteres(floors_lst[0]) not in floor_map.keys():\n",
    "        return np.nan\n",
    "    floor = floor_map[quitar_caracteres(floors_lst[0])]\n",
    "    return floor\n",
    "\n",
    "#Revisar y ver que pasa con varias ocurrencias\n",
    "def text_search_floor(text):\n",
    "    floor_map = {\n",
    "        'un': 1.0,'uno': 1.0,'dos': 2.0,'tres': 3.0,'cuatro': 4.0,'cinco': 5.0,\n",
    "        'seis': 6.0,'siete': 7.0,'ocho': 8.0,'nueve': 9.0,'diez': 10.0,'once': 11.0,\n",
    "        'doce': 12.0,'trece': 13.0,'catorce': 14.0,'quince': 15.0\n",
    "    }\n",
    "    \n",
    "    pattern_fl = r'(?:piso)\\s?(\\w{2,7})'\n",
    "    regex_fl = re.compile(pattern_fl, flags = re.IGNORECASE)\n",
    "    floors_lst = regex_fl.findall(text)\n",
    "    \n",
    "    if not floors_lst:\n",
    "        return np.nan\n",
    "    if len(floors_lst)==0:\n",
    "        return np.nan\n",
    "    if len(floors_lst)==1:\n",
    "        num = floors_lst[0]\n",
    "        if quitar_caracteres(num) not in floor_map.keys():\n",
    "            return np.nan\n",
    "        floor = floor_map[quitar_caracteres(num)]\n",
    "        return floor\n",
    "    else:\n",
    "        floors_l = [item for item in floors_lst]\n",
    "        floors_val = [int(item in floor_map) for item in floors_l]\n",
    "        for floor,val in zip(floors_l,floors_val):\n",
    "            if val==1:\n",
    "                return floor_map[floor]\n",
    "        return np.nan\n",
    "\n",
    "#Revisar y ver que pasa con varias ocurrencias\n",
    "def num_floor_search(text):\n",
    "    pattern_fl = r'(\\d{1,2})\\.?(°|\\w{2})\\s?(?:piso)'\n",
    "    regex_fl = re.compile(pattern_fl, flags = re.IGNORECASE)\n",
    "    floors_lst = regex_fl.findall(text)\n",
    "    \n",
    "    abb_lst = ['er','do','to','mo','vo','no','deg','ero','']\n",
    "\n",
    "    if not floors_lst:\n",
    "        return np.nan\n",
    "    if len(floors_lst)!=1:\n",
    "        return np.nan\n",
    "    sufijo=quitar_caracteres(floors_lst[0][1])\n",
    "    if sufijo not in abb_lst:\n",
    "        return np.nan\n",
    "    num=float(floors_lst[0][0])\n",
    "#     if num<15 and num>9:\n",
    "#         print(\"Piso: {}\".format(num))\n",
    "#         print(text)\n",
    "    if num>15:\n",
    "        return np.nan\n",
    "    else:\n",
    "        return num\n",
    "    \n",
    "    #return(floors_lst)\n",
    "\n",
    "#Revisar y ver que pasa con varias ocurrencias\n",
    "def num_search_floor(text):\n",
    "    pattern_fl = r'\\s?(?:piso)(\\d{1,2})'\n",
    "    regex_fl = re.compile(pattern_fl, flags = re.IGNORECASE)\n",
    "    floors_lst = regex_fl.findall(text)\n",
    "    \n",
    "    if not floors_lst:\n",
    "        return np.nan\n",
    "    if len(floors_lst)!=1:\n",
    "        return np.nan\n",
    "    num = float(floors_lst[0])\n",
    "    if num>40:\n",
    "        return np.nan\n",
    "    else:\n",
    "        return num\n",
    "    \n",
    "\n",
    "def clean_temp_col(df,tempCol):\n",
    "    \"\"\"Cleans a tempCol column from a df dataframe. Writes nan on every row.\n",
    "    \n",
    "    Parameters\n",
    "    ----------\n",
    "    df : pandas.DataFrame\n",
    "        The dataframe you want to clean a temporary column.\n",
    "    tempCol: str\n",
    "        The name passed as a string of the column to clean.\n",
    "    \"\"\"\n",
    "    df.loc[:,tempCol]=np.nan\n",
    "\n",
    "def new_found(df,tempCol,cleanCol):\n",
    "    \"\"\"Shows a message about the new data found.\n",
    "    \n",
    "    Parameters\n",
    "    ----------\n",
    "    df : pandas.DataFrame\n",
    "        The dataframe to take data from.\n",
    "    tempCol: str\n",
    "        The name passed as a string of the temporary column.\n",
    "    cleanCol: str\n",
    "        the name passed as a string of the clean column.\n",
    "    \"\"\"\n",
    "    print(\"Nuevos: {}.\".format(df[tempCol].notnull().sum()))\n",
    "    print(\"Total: {}.\".format(df[cleanCol].notnull().sum()))\n",
    "\n",
    "import scipy.stats as stats\n",
    "\n",
    "#valor_mas_chico=0\n",
    "\n",
    "def calculate_iqr_values(array):\n",
    "    \"\"\"Calculates inferior and superior limits of the iqr plus a margin.\n",
    "    Returns\n",
    "    ---------\n",
    "    lim_inf: float\n",
    "        q1-1.5*iqr\n",
    "    lim_sup: float\n",
    "        q3+1.5*iqr\n",
    "    \"\"\"\n",
    "    q1,q3=np.percentile(array,[25 ,75])\n",
    "    arr_iqr = stats.iqr(array)\n",
    "    lim_inf = q1-1.5*arr_iqr\n",
    "#     if lim_inf<valor_mas_chico:\n",
    "#         lim_inf=valor_mas_chico\n",
    "    lim_sup = q3+1.5*arr_iqr\n",
    "    return lim_inf,lim_sup\n",
    "\n",
    "def check_outliers(x,min_lim,max_lim):\n",
    "    if x<min_lim:\n",
    "        return np.nan\n",
    "    elif x>max_lim:\n",
    "        return np.nan\n",
    "    else:\n",
    "        return x"
   ]
  },
  {
   "cell_type": "markdown",
   "metadata": {},
   "source": [
    "**Límites Generales de Pisos Para Casas y PH**"
   ]
  },
  {
   "cell_type": "code",
   "execution_count": 117,
   "metadata": {},
   "outputs": [],
   "source": [
    "def floor_filter():\n",
    "    floor_lim_house = (0,3)\n",
    "    floor_lim_ph = (0,3)\n",
    "    floor_limits = [('house',floor_lim_house),('PH',floor_lim_ph)]\n",
    "\n",
    "    for item in floor_limits:\n",
    "        col=item[0]\n",
    "        minmax=item[1]\n",
    "        min_floor=minmax[0]\n",
    "        max_floor=minmax[1]\n",
    "\n",
    "        data.loc[data['property_type']==col,'floor'] = data.loc[data['property_type']==col,'floor'].apply(lambda x: np.nan if x<min_floor or x>max_floor else x)\n",
    "        \n",
    "    \n",
    "floor_filter()"
   ]
  },
  {
   "cell_type": "markdown",
   "metadata": {},
   "source": [
    "**Límites impuestos para cada tipo de propiedad**"
   ]
  },
  {
   "cell_type": "code",
   "execution_count": null,
   "metadata": {},
   "outputs": [],
   "source": []
  },
  {
   "cell_type": "markdown",
   "metadata": {},
   "source": [
    "Busco qué casas están en el primer piso. El resto completo con cero."
   ]
  },
  {
   "cell_type": "code",
   "execution_count": 118,
   "metadata": {},
   "outputs": [],
   "source": [
    "def floor_filter_caba():\n",
    "   floor_lim_house = (0,3)\n",
    "   floor_lim_ph = (0,3)\n",
    "   floor_lim_store = (0,40)\n",
    "   floor_lim_apartment = (0,40)\n",
    "   floor_limits = [('house',floor_lim_house),('PH',floor_lim_ph),('store',floor_lim_store),('apartment',floor_lim_apartment)]\n",
    "\n",
    "   for item in floor_limits:\n",
    "       col=item[0]\n",
    "       minmax=item[1]\n",
    "       min_floor=minmax[0]\n",
    "       max_floor=minmax[1]\n",
    "\n",
    "       data.loc[(data['Ciudad']=='Capital Federal')&(data['property_type']==col),'floor'] = data.loc[(data['Ciudad']=='Capital Federal')&(data['property_type']==col),'floor'].apply(lambda x: np.nan if x<min_floor or x>max_floor else x)\n",
    "       \n",
    "   \n",
    "floor_filter_caba()"
   ]
  },
  {
   "cell_type": "code",
   "execution_count": 119,
   "metadata": {},
   "outputs": [],
   "source": [
    "variantes = ['1er piso por escalera','1° piso por escalera','1 piso por escalera',\n",
    "            'primer piso por escalera','planta alta por escalera']\n",
    "\n",
    "cols = ['description','title']\n",
    "\n",
    "for col in cols:\n",
    "    for text in variantes:\n",
    "        house_PA=data.loc[(data['property_type']=='house')&(data['floor'].isna())][col]\\\n",
    "        .str.contains(text,case=False,regex=False).astype(float).apply(lambda x: x if x else np.nan)\n",
    "        #chequear\n",
    "        data.loc[data['property_type']=='house','floor'].fillna(value=house_PA,inplace=True)\n",
    "        #data.loc[(data['property_type']=='house')&(data['floor'].isna()),'floor']=data.loc[(data['property_type']=='house')&(data['floor'].isna()),'floor'].add(house_PA,fill_value=0)\n",
    "data.loc[(data['property_type']=='house')&(data['floor'].isna()),'floor']=0"
   ]
  },
  {
   "cell_type": "code",
   "execution_count": 120,
   "metadata": {},
   "outputs": [
    {
     "data": {
      "text/plain": [
       "0.0    19539\n",
       "2.0        7\n",
       "1.0        7\n",
       "3.0        1\n",
       "Name: floor, dtype: int64"
      ]
     },
     "execution_count": 120,
     "metadata": {},
     "output_type": "execute_result"
    }
   ],
   "source": [
    "data.loc[data['property_type']=='house']['floor'].value_counts(dropna=False, sort=True)"
   ]
  },
  {
   "cell_type": "code",
   "execution_count": 121,
   "metadata": {},
   "outputs": [],
   "source": [
    "patterns_pb = ['planta baja','PB','P.B.']\n",
    "acc_1 = ['primer piso','1er piso','1° piso']\n",
    "acc_2 = ['segundo piso','2do piso','2° piso']\n",
    "acc_3 = ['tercer piso','3er piso','3° piso']\n",
    "\n",
    "accepted = [patterns_pb,acc_1,acc_2,acc_3]\n",
    "piso = 0.0\n",
    "for acc in accepted:\n",
    "    for text in acc:\n",
    "        ph_piso = data.loc[(data['property_type']=='PH')&(data['floor'].isna()),'description']\\\n",
    "        .str.contains(text,case=False,regex=False)\n",
    "        data.loc[(data['property_type']=='PH')&(ph_piso),'floor']=piso\n",
    "    piso+=1\n",
    "#data.loc[(data['property_type']=='PH')]['floor'].value_counts(dropna=False,sort=True)\n",
    "data.loc[(data['property_type']=='PH')&(data['floor'].isna()),'floor']=0"
   ]
  },
  {
   "cell_type": "code",
   "execution_count": 122,
   "metadata": {},
   "outputs": [
    {
     "data": {
      "text/plain": [
       "21994"
      ]
     },
     "execution_count": 122,
     "metadata": {},
     "output_type": "execute_result"
    }
   ],
   "source": [
    "data['floor'].isna().sum()"
   ]
  },
  {
   "cell_type": "code",
   "execution_count": 123,
   "metadata": {},
   "outputs": [],
   "source": [
    "func_lst = [text_floor_search,text_search_floor,num_floor_search,num_search_floor]\n",
    "cols = ['title','description']\n",
    "for col in cols:\n",
    "    for func in func_lst:\n",
    "        data.loc[(data['property_type']=='store'),\"floor\"].fillna(value=data.loc[(data['floor'].isna())&(data['property_type']=='store'),col].apply(func), inplace=True)\n",
    "\n",
    "data.loc[(data['property_type']=='store')&(data['floor'].isna()),'floor']=0\n"
   ]
  },
  {
   "cell_type": "code",
   "execution_count": 124,
   "metadata": {},
   "outputs": [
    {
     "data": {
      "text/plain": [
       "21738"
      ]
     },
     "execution_count": 124,
     "metadata": {},
     "output_type": "execute_result"
    }
   ],
   "source": [
    "data['floor'].isna().sum()"
   ]
  },
  {
   "cell_type": "code",
   "execution_count": 125,
   "metadata": {},
   "outputs": [],
   "source": [
    "data['description'] = data['description'].fillna(\"-\")\n",
    "fl_func_lst = [text_floor_search,num_floor_search,text_search_floor,num_search_floor]\n",
    "col_lst = ['title','description']\n",
    "for col in col_lst:\n",
    "    for func in fl_func_lst:\n",
    "        data.loc[(data['property_type']=='apartment'),\"floor\"].fillna(value=data.loc[(data['floor'].isna())&(data['property_type']=='apartment'),col].apply(func), inplace=True)\n"
   ]
  },
  {
   "cell_type": "code",
   "execution_count": 126,
   "metadata": {},
   "outputs": [
    {
     "data": {
      "text/plain": [
       "21738"
      ]
     },
     "execution_count": 126,
     "metadata": {},
     "output_type": "execute_result"
    }
   ],
   "source": [
    "data['floor'].isna().sum()"
   ]
  },
  {
   "cell_type": "markdown",
   "metadata": {},
   "source": [
    "## GBA - Detección de Outliers para Floor"
   ]
  },
  {
   "cell_type": "code",
   "execution_count": 127,
   "metadata": {},
   "outputs": [
    {
     "name": "stdout",
     "output_type": "stream",
     "text": [
      "[ 2.  3.  1. nan  4.  6.  7.  8.  5.]\n",
      "(-3.5, 8.5)\n"
     ]
    }
   ],
   "source": [
    "iqr_values_GBA_AP=calculate_iqr_values(data.loc[((data['property_type']=='apartment')&(data['floor'].notnull())&(data['Zona']=='GBA')),'floor'])\n",
    "print(data.loc[((data['property_type']=='apartment')&(data['floor'].notnull())&(data['Zona']=='GBA')),'floor'].apply(check_outliers,args=iqr_values_GBA_AP).unique())\n",
    "print(iqr_values_GBA_AP)"
   ]
  },
  {
   "cell_type": "code",
   "execution_count": 128,
   "metadata": {},
   "outputs": [],
   "source": [
    "data.loc[(data['Zona']=='GBA')&(data['property_type']=='apartment')&(data['floor']>iqr_values_GBA_AP[1]),'floor']=np.nan"
   ]
  },
  {
   "cell_type": "code",
   "execution_count": 129,
   "metadata": {},
   "outputs": [
    {
     "data": {
      "text/plain": [
       "count    882.000000\n",
       "mean       2.963719\n",
       "std        1.888744\n",
       "min        1.000000\n",
       "25%        1.000000\n",
       "50%        2.000000\n",
       "75%        4.000000\n",
       "max        8.000000\n",
       "Name: floor, dtype: float64"
      ]
     },
     "execution_count": 129,
     "metadata": {},
     "output_type": "execute_result"
    }
   ],
   "source": [
    "data.loc[((data['property_type']=='apartment')&(data['floor'].notnull())&(data['Zona']=='GBA')),'floor'].describe()"
   ]
  },
  {
   "cell_type": "code",
   "execution_count": 130,
   "metadata": {},
   "outputs": [
    {
     "name": "stdout",
     "output_type": "stream",
     "text": [
      "[ 0. nan]\n",
      "(0.0, 0.0)\n"
     ]
    }
   ],
   "source": [
    "iqr_values_GBA_ST=calculate_iqr_values(data.loc[((data['property_type']=='store')&(data['floor'].notnull())&(data['Zona']=='GBA')),'floor'])\n",
    "print(data.loc[((data['property_type']=='store')&(data['floor'].notnull())&(data['Zona']=='GBA')),'floor'].apply(check_outliers,args=iqr_values_GBA_ST).unique())\n",
    "print(iqr_values_GBA_ST)"
   ]
  },
  {
   "cell_type": "code",
   "execution_count": 131,
   "metadata": {},
   "outputs": [],
   "source": [
    "data.loc[(data['Zona']=='GBA')&(data['property_type']=='store')&(data['floor']>iqr_values_GBA_ST[1]),'floor']=np.nan"
   ]
  },
  {
   "cell_type": "markdown",
   "metadata": {},
   "source": [
    "La estrategia posterior de imputacíon de floor, será la mediana por Localidad. Se dropean datos que no cuentan con esa información"
   ]
  },
  {
   "cell_type": "code",
   "execution_count": 132,
   "metadata": {},
   "outputs": [
    {
     "name": "stdout",
     "output_type": "stream",
     "text": [
      "Se van a dropear 0 por falta de datos de floor.\n"
     ]
    }
   ],
   "source": [
    "floor_por_Localidad = data.loc[(data['Zona']=='GBA')&(data['property_type']=='apartment')&(data['floor'].notnull()),['Ciudad','floor']].groupby('Ciudad').count().reset_index()\n",
    "#floor_por_Localidad\n",
    "localidad_sin_floor = floor_por_Localidad.loc[floor_por_Localidad['floor']==0]['Ciudad'].to_list()\n",
    "#localidad_sin_floor\n",
    "\n",
    "loc_drop_ind = []\n",
    "for lugar in localidad_sin_floor:\n",
    "    loc_drop_ind.append(data.loc[data['Ciudad']==lugar].index.values[0])\n",
    "loc_drop_ind = pd.Index(loc_drop_ind)\n",
    "print(\"Se van a dropear {} por falta de datos de floor.\".format(loc_drop_ind.size))\n",
    "data.drop(index=loc_drop_ind,inplace=True)"
   ]
  },
  {
   "cell_type": "markdown",
   "metadata": {},
   "source": [
    "## Córdoba - Detección de Outliers para Floor"
   ]
  },
  {
   "cell_type": "code",
   "execution_count": 133,
   "metadata": {},
   "outputs": [],
   "source": [
    "iqr_values_CBA_AP=calculate_iqr_values(data.loc[((data['property_type']=='apartment')&(data['floor'].notnull())&(data['Zona']=='Córdoba')),'floor'])\n",
    "data.loc[(data['Zona']=='Córdoba')&(data['property_type']=='apartment')&(data['floor']>iqr_values_CBA_AP[1]),'floor']=np.nan\n",
    "iqr_values_CBA_ST=calculate_iqr_values(data.loc[((data['property_type']=='store')&(data['floor'].notnull())&(data['Zona']=='Córdoba')),'floor'])\n",
    "data.loc[(data['Zona']=='Córdoba')&(data['property_type']=='store')&(data['floor']>iqr_values_CBA_AP[1]),'floor']=np.nan"
   ]
  },
  {
   "cell_type": "markdown",
   "metadata": {},
   "source": [
    "## Santa Fé - Detección de Outliers para Floor"
   ]
  },
  {
   "cell_type": "code",
   "execution_count": 134,
   "metadata": {},
   "outputs": [],
   "source": [
    "iqr_values_sta_AP=calculate_iqr_values(data.loc[((data['property_type']=='apartment')&(data['floor'].notnull())&(data['Zona']=='Santa Fe')),'floor'])\n",
    "data.loc[(data['Zona']=='Santa Fe')&(data['property_type']=='apartment')&(data['floor']>iqr_values_sta_AP[1]),'floor']=np.nan\n",
    "iqr_values_sta_ST=calculate_iqr_values(data.loc[((data['property_type']=='store')&(data['floor'].notnull())&(data['Zona']=='Santa Fe')),'floor'])\n",
    "data.loc[(data['Zona']=='Santa Fe')&(data['property_type']=='store')&(data['floor']>iqr_values_sta_ST[1]),'floor']=np.nan"
   ]
  },
  {
   "cell_type": "markdown",
   "metadata": {},
   "source": [
    "## Costa Atlántica - Detección de Outliers para Floor"
   ]
  },
  {
   "cell_type": "code",
   "execution_count": 135,
   "metadata": {},
   "outputs": [],
   "source": [
    "iqr_values_costa_AP=calculate_iqr_values(data.loc[((data['property_type']=='apartment')&(data['floor'].notnull())&(data['Provincia']=='Buenos Aires Costa Atlántica')),'floor'])\n",
    "data.loc[(data['Provincia']=='Buenos Aires Costa Atlántica')&(data['property_type']=='apartment')&(data['floor']>iqr_values_costa_AP[1]),'floor']=np.nan\n",
    "iqr_values_costa_ST=calculate_iqr_values(data.loc[((data['property_type']=='store')&(data['floor'].notnull())&(data['Provincia']=='Buenos Aires Costa Atlántica')),'floor'])\n",
    "data.loc[(data['Provincia']=='Buenos Aires Costa Atlántica')&(data['property_type']=='store')&(data['floor']>iqr_values_costa_ST[1]),'floor']=np.nan"
   ]
  },
  {
   "cell_type": "markdown",
   "metadata": {},
   "source": [
    "## BsAs Interior - Detección de Outliers para Floor"
   ]
  },
  {
   "cell_type": "code",
   "execution_count": 136,
   "metadata": {},
   "outputs": [],
   "source": [
    "iqr_values_bsas_AP=calculate_iqr_values(data.loc[((data['property_type']=='apartment')&(data['floor'].notnull())&(data['Provincia']=='Buenos Aires Interior')),'floor'])\n",
    "data.loc[(data['Provincia']=='Buenos Aires Interior')&(data['property_type']=='apartment')&(data['floor']>iqr_values_bsas_AP[1]),'floor']=np.nan\n",
    "iqr_values_bsas_ST=calculate_iqr_values(data.loc[((data['property_type']=='store')&(data['floor'].notnull())&(data['Provincia']=='Buenos Aires Interior')),'floor'])\n",
    "data.loc[(data['Provincia']=='Buenos Aires Interior')&(data['property_type']=='store')&(data['floor']>iqr_values_bsas_ST[1]),'floor']=np.nan"
   ]
  },
  {
   "cell_type": "code",
   "execution_count": 137,
   "metadata": {},
   "outputs": [
    {
     "data": {
      "text/plain": [
       "Text(0, 0.5, 'Floor')"
      ]
     },
     "execution_count": 137,
     "metadata": {},
     "output_type": "execute_result"
    },
    {
     "data": {
      "image/png": "[encoded data removed]",
      "text/plain": [
       "<Figure size 1440x720 with 1 Axes>"
      ]
     },
     "metadata": {
      "needs_background": "light"
     },
     "output_type": "display_data"
    }
   ],
   "source": [
    "apartment_df = data.loc[data['property_type']=='apartment']\n",
    "plt.figure(figsize=(20,10))\n",
    "plt.grid(True)  \n",
    "\n",
    "ax = sns.boxplot(x=\"Zona\", y=\"floor\", data=apartment_df, palette=\"Set1\")\n",
    "plt.title('Altura en Pisos por Zona')\n",
    "plt.xlabel('Zona')\n",
    "plt.ylabel('Floor')"
   ]
  },
  {
   "cell_type": "code",
   "execution_count": null,
   "metadata": {},
   "outputs": [],
   "source": []
  },
  {
   "cell_type": "markdown",
   "metadata": {},
   "source": [
    "Luego del split vamos a imputar los valores faltantes por la media por lugar. Entonces dropeamos los que no vamos a poder imputar mas tarde."
   ]
  },
  {
   "cell_type": "code",
   "execution_count": 138,
   "metadata": {
    "scrolled": true
   },
   "outputs": [
    {
     "name": "stdout",
     "output_type": "stream",
     "text": [
      "Se va a dropear: 1776\n"
     ]
    }
   ],
   "source": [
    "apartment_df = data.groupby('property_type').get_group('apartment')\n",
    "\n",
    "temp_place_floor = (apartment_df[['floor','place_name']].groupby('place_name').count()==0).reset_index()\n",
    "temp_place_floor['floor'] = temp_place_floor['floor'].astype(int)\n",
    "\n",
    "place_without_floor = temp_place_floor.loc[temp_place_floor['floor']==1,'place_name'].tolist()\n",
    "\n",
    "temp_floor_drop = apartment_df.loc[(apartment_df['floor'].isna()),'place_name'].apply(lambda x: 1 if x in place_without_floor else 0)\n",
    "#print(temp_floor_drop)\n",
    "print(\"Se va a dropear: {}\".format(temp_floor_drop.sum()))\n",
    "\n",
    "data.drop(temp_floor_drop[temp_floor_drop==1].index,inplace=True)"
   ]
  },
  {
   "cell_type": "code",
   "execution_count": 139,
   "metadata": {},
   "outputs": [
    {
     "data": {
      "text/plain": [
       "20015"
      ]
     },
     "execution_count": 139,
     "metadata": {},
     "output_type": "execute_result"
    }
   ],
   "source": [
    "data['floor'].isna().sum()"
   ]
  },
  {
   "cell_type": "code",
   "execution_count": 140,
   "metadata": {
    "scrolled": true
   },
   "outputs": [
    {
     "data": {
      "text/plain": [
       "operation                     44000\n",
       "property_type                 44000\n",
       "place_name                    44000\n",
       "place_with_parent_names       44000\n",
       "country_name                  44000\n",
       "state_name                    44000\n",
       "geonames_id                   36153\n",
       "lat-lon                       27225\n",
       "price                         44000\n",
       "currency                      44000\n",
       "price_aprox_local_currency    44000\n",
       "price_aprox_usd               44000\n",
       "surface_total_in_m2           40904\n",
       "surface_covered_in_m2         38081\n",
       "price_usd_per_m2              44000\n",
       "price_per_m2                  40660\n",
       "floor                         23985\n",
       "rooms                         44000\n",
       "expenses                       5530\n",
       "properati_url                 44000\n",
       "description                   44000\n",
       "title                         44000\n",
       "image_thumbnail               43481\n",
       "Pais                          44000\n",
       "Provincia                     44000\n",
       "Ciudad                        42999\n",
       "Barrio                        26798\n",
       "Sub-Barrio                      630\n",
       "complete_place_name           44000\n",
       "lat                           27225\n",
       "lon                           27225\n",
       "surface_uncovered_in_m2       34985\n",
       "Zona                          44000\n",
       "dtype: int64"
      ]
     },
     "execution_count": 140,
     "metadata": {},
     "output_type": "execute_result"
    }
   ],
   "source": [
    "data.notnull().sum()"
   ]
  },
  {
   "cell_type": "code",
   "execution_count": 141,
   "metadata": {
    "scrolled": true
   },
   "outputs": [
    {
     "data": {
      "text/plain": [
       "apartment    21956\n",
       "house        19554\n",
       "PH            2231\n",
       "store          259\n",
       "Name: property_type, dtype: int64"
      ]
     },
     "execution_count": 141,
     "metadata": {},
     "output_type": "execute_result"
    }
   ],
   "source": [
    "data['property_type'].value_counts()"
   ]
  },
  {
   "cell_type": "markdown",
   "metadata": {},
   "source": [
    "Hay que revisar cuáles se van a poder imputar y cuáles no. Las que no se puedan imputar, se eliminan."
   ]
  },
  {
   "cell_type": "code",
   "execution_count": 142,
   "metadata": {},
   "outputs": [
    {
     "data": {
      "text/html": [
       "<div>\n",
       "<style scoped>\n",
       "    .dataframe tbody tr th:only-of-type {\n",
       "        vertical-align: middle;\n",
       "    }\n",
       "\n",
       "    .dataframe tbody tr th {\n",
       "        vertical-align: top;\n",
       "    }\n",
       "\n",
       "    .dataframe thead th {\n",
       "        text-align: right;\n",
       "    }\n",
       "</style>\n",
       "<table border=\"1\" class=\"dataframe\">\n",
       "  <thead>\n",
       "    <tr style=\"text-align: right;\">\n",
       "      <th></th>\n",
       "      <th>price</th>\n",
       "      <th>currency</th>\n",
       "      <th>price_aprox_local_currency</th>\n",
       "      <th>price_aprox_usd</th>\n",
       "      <th>surface_total_in_m2</th>\n",
       "      <th>surface_covered_in_m2</th>\n",
       "      <th>price_usd_per_m2</th>\n",
       "      <th>price_per_m2</th>\n",
       "      <th>surface_uncovered_in_m2</th>\n",
       "    </tr>\n",
       "  </thead>\n",
       "  <tbody>\n",
       "    <tr>\n",
       "      <th>28</th>\n",
       "      <td>170500.00</td>\n",
       "      <td>USD</td>\n",
       "      <td>3008387.25</td>\n",
       "      <td>170500.00</td>\n",
       "      <td>NaN</td>\n",
       "      <td>46.0</td>\n",
       "      <td>1705.000000</td>\n",
       "      <td>3706.521739</td>\n",
       "      <td>NaN</td>\n",
       "    </tr>\n",
       "    <tr>\n",
       "      <th>34</th>\n",
       "      <td>300000.00</td>\n",
       "      <td>USD</td>\n",
       "      <td>5293350.00</td>\n",
       "      <td>300000.00</td>\n",
       "      <td>NaN</td>\n",
       "      <td>260.0</td>\n",
       "      <td>276.497696</td>\n",
       "      <td>1153.846154</td>\n",
       "      <td>NaN</td>\n",
       "    </tr>\n",
       "    <tr>\n",
       "      <th>51</th>\n",
       "      <td>54000.00</td>\n",
       "      <td>USD</td>\n",
       "      <td>952803.00</td>\n",
       "      <td>54000.00</td>\n",
       "      <td>NaN</td>\n",
       "      <td>30.0</td>\n",
       "      <td>720.000000</td>\n",
       "      <td>1800.000000</td>\n",
       "      <td>NaN</td>\n",
       "    </tr>\n",
       "    <tr>\n",
       "      <th>61</th>\n",
       "      <td>497000.00</td>\n",
       "      <td>USD</td>\n",
       "      <td>8769316.50</td>\n",
       "      <td>497000.00</td>\n",
       "      <td>NaN</td>\n",
       "      <td>256.0</td>\n",
       "      <td>523.157895</td>\n",
       "      <td>1941.406250</td>\n",
       "      <td>NaN</td>\n",
       "    </tr>\n",
       "    <tr>\n",
       "      <th>109</th>\n",
       "      <td>235000.00</td>\n",
       "      <td>USD</td>\n",
       "      <td>4146457.50</td>\n",
       "      <td>235000.00</td>\n",
       "      <td>NaN</td>\n",
       "      <td>48.0</td>\n",
       "      <td>3455.882353</td>\n",
       "      <td>4895.833333</td>\n",
       "      <td>NaN</td>\n",
       "    </tr>\n",
       "    <tr>\n",
       "      <th>116</th>\n",
       "      <td>237895.00</td>\n",
       "      <td>USD</td>\n",
       "      <td>4197538.32</td>\n",
       "      <td>237895.00</td>\n",
       "      <td>NaN</td>\n",
       "      <td>53.0</td>\n",
       "      <td>3447.753623</td>\n",
       "      <td>4488.584906</td>\n",
       "      <td>NaN</td>\n",
       "    </tr>\n",
       "    <tr>\n",
       "      <th>117</th>\n",
       "      <td>237895.00</td>\n",
       "      <td>USD</td>\n",
       "      <td>4197538.32</td>\n",
       "      <td>237895.00</td>\n",
       "      <td>NaN</td>\n",
       "      <td>53.0</td>\n",
       "      <td>3447.753623</td>\n",
       "      <td>4488.584906</td>\n",
       "      <td>NaN</td>\n",
       "    </tr>\n",
       "    <tr>\n",
       "      <th>123</th>\n",
       "      <td>127422.11</td>\n",
       "      <td>USD</td>\n",
       "      <td>2248299.41</td>\n",
       "      <td>127422.11</td>\n",
       "      <td>NaN</td>\n",
       "      <td>39.0</td>\n",
       "      <td>995.485234</td>\n",
       "      <td>3267.233503</td>\n",
       "      <td>NaN</td>\n",
       "    </tr>\n",
       "    <tr>\n",
       "      <th>128</th>\n",
       "      <td>260000.00</td>\n",
       "      <td>USD</td>\n",
       "      <td>4587570.00</td>\n",
       "      <td>260000.00</td>\n",
       "      <td>NaN</td>\n",
       "      <td>250.0</td>\n",
       "      <td>260.000000</td>\n",
       "      <td>1040.000000</td>\n",
       "      <td>NaN</td>\n",
       "    </tr>\n",
       "    <tr>\n",
       "      <th>162</th>\n",
       "      <td>169000.00</td>\n",
       "      <td>USD</td>\n",
       "      <td>2981920.50</td>\n",
       "      <td>169000.00</td>\n",
       "      <td>NaN</td>\n",
       "      <td>160.0</td>\n",
       "      <td>179.787234</td>\n",
       "      <td>1056.250000</td>\n",
       "      <td>NaN</td>\n",
       "    </tr>\n",
       "  </tbody>\n",
       "</table>\n",
       "</div>"
      ],
      "text/plain": [
       "         price currency  price_aprox_local_currency  price_aprox_usd  \\\n",
       "28   170500.00      USD                  3008387.25        170500.00   \n",
       "34   300000.00      USD                  5293350.00        300000.00   \n",
       "51    54000.00      USD                   952803.00         54000.00   \n",
       "61   497000.00      USD                  8769316.50        497000.00   \n",
       "109  235000.00      USD                  4146457.50        235000.00   \n",
       "116  237895.00      USD                  4197538.32        237895.00   \n",
       "117  237895.00      USD                  4197538.32        237895.00   \n",
       "123  127422.11      USD                  2248299.41        127422.11   \n",
       "128  260000.00      USD                  4587570.00        260000.00   \n",
       "162  169000.00      USD                  2981920.50        169000.00   \n",
       "\n",
       "     surface_total_in_m2  surface_covered_in_m2  price_usd_per_m2  \\\n",
       "28                   NaN                   46.0       1705.000000   \n",
       "34                   NaN                  260.0        276.497696   \n",
       "51                   NaN                   30.0        720.000000   \n",
       "61                   NaN                  256.0        523.157895   \n",
       "109                  NaN                   48.0       3455.882353   \n",
       "116                  NaN                   53.0       3447.753623   \n",
       "117                  NaN                   53.0       3447.753623   \n",
       "123                  NaN                   39.0        995.485234   \n",
       "128                  NaN                  250.0        260.000000   \n",
       "162                  NaN                  160.0        179.787234   \n",
       "\n",
       "     price_per_m2  surface_uncovered_in_m2  \n",
       "28    3706.521739                      NaN  \n",
       "34    1153.846154                      NaN  \n",
       "51    1800.000000                      NaN  \n",
       "61    1941.406250                      NaN  \n",
       "109   4895.833333                      NaN  \n",
       "116   4488.584906                      NaN  \n",
       "117   4488.584906                      NaN  \n",
       "123   3267.233503                      NaN  \n",
       "128   1040.000000                      NaN  \n",
       "162   1056.250000                      NaN  "
      ]
     },
     "execution_count": 142,
     "metadata": {},
     "output_type": "execute_result"
    }
   ],
   "source": [
    "data.loc[data['surface_total_in_m2'].isna(),price_cols].head(10)"
   ]
  },
  {
   "cell_type": "code",
   "execution_count": 143,
   "metadata": {},
   "outputs": [
    {
     "name": "stdout",
     "output_type": "stream",
     "text": [
      "Se dropean 59 filas por falta de datos para indice de construccion\n"
     ]
    }
   ],
   "source": [
    "data['const_index'] = data['surface_covered_in_m2']/data['surface_total_in_m2']\n",
    "lugares_const_index = data[['const_index','place_name']].groupby('place_name').count().reset_index()\n",
    "lugares_sin_const_index = lugares_const_index.loc[lugares_const_index['const_index']==0]['place_name'].to_list()\n",
    "sup_drop_index = []\n",
    "for lugar in lugares_sin_const_index:\n",
    "    sup_drop_index.append(data.loc[data['place_name']==lugar].index[0])\n",
    "sup_drop_index=pd.Index(sup_drop_index)\n",
    "print(\"Se dropean {} filas por falta de datos para indice de construccion\".format(sup_drop_index.size))\n",
    "data.drop(index=sup_drop_index,inplace=True)"
   ]
  },
  {
   "cell_type": "code",
   "execution_count": 144,
   "metadata": {
    "scrolled": true
   },
   "outputs": [
    {
     "data": {
      "text/plain": [
       "property_type              43941\n",
       "place_name                 43941\n",
       "price                      43941\n",
       "surface_total_in_m2        40880\n",
       "surface_covered_in_m2      38046\n",
       "price_usd_per_m2           43941\n",
       "floor                      23926\n",
       "rooms                      43941\n",
       "Provincia                  43941\n",
       "Ciudad                     42942\n",
       "Barrio                     26774\n",
       "surface_uncovered_in_m2    34985\n",
       "Zona                       43941\n",
       "const_index                34985\n",
       "dtype: int64"
      ]
     },
     "execution_count": 144,
     "metadata": {},
     "output_type": "execute_result"
    }
   ],
   "source": [
    "columnas_que_no_sirven = ['operation','geonames_id','lat','lon','lat-lon','currency',\\\n",
    "                         'price_aprox_local_currency','price_aprox_usd','price_per_m2',\\\n",
    "                         'expenses','properati_url','description','title','image_thumbnail','complete_place_name',\\\n",
    "                         'Sub-Barrio','country_name','state_name','Pais','place_with_parent_names']\n",
    "data.drop(columns=columnas_que_no_sirven).notnull().sum()"
   ]
  },
  {
   "cell_type": "markdown",
   "metadata": {},
   "source": [
    "# Variables Dummy: Amenities\n",
    "\n",
    "Se busca crear variables dummy de características que sumen para la regresión del desafío 2. Para esto una función que devuelve una serie con '1' y '0' en caso de presencia o ausencia de amenity."
   ]
  },
  {
   "cell_type": "code",
   "execution_count": 145,
   "metadata": {},
   "outputs": [],
   "source": [
    "def get_amenity(pat_with,pat_without):\n",
    "    amenity = data.loc[:,'description'].str.contains(pat_with,flags=re.IGNORECASE,regex=True).astype(float)\n",
    "    no_amenity = data.loc[:,'description'].str.contains(pat_without,flags=re.IGNORECASE,regex=True).astype(float)\n",
    "    amenity[no_amenity==1]=0\n",
    "    return(amenity)"
   ]
  },
  {
   "cell_type": "markdown",
   "metadata": {},
   "source": [
    "Búsqueda de Cochera:"
   ]
  },
  {
   "cell_type": "code",
   "execution_count": 146,
   "metadata": {
    "scrolled": true
   },
   "outputs": [
    {
     "name": "stdout",
     "output_type": "stream",
     "text": [
      "0.0    25444\n",
      "1.0    18497\n",
      "Name: description, dtype: int64\n"
     ]
    }
   ],
   "source": [
    "cochera_pattern = r\"(?:cochera|estacionamiento|garage)\"\n",
    "sincochera_pattern = r\"(?:sin cochera|sin estacionamiento|sin garage)\"\n",
    "cochera = get_amenity(cochera_pattern,sincochera_pattern)\n",
    "print(cochera.value_counts())"
   ]
  },
  {
   "cell_type": "markdown",
   "metadata": {},
   "source": [
    "Búsqueda de Gym:"
   ]
  },
  {
   "cell_type": "code",
   "execution_count": 147,
   "metadata": {},
   "outputs": [
    {
     "name": "stdout",
     "output_type": "stream",
     "text": [
      "0.0    41123\n",
      "1.0     2818\n",
      "Name: description, dtype: int64\n"
     ]
    }
   ],
   "source": [
    "gym_pattern = r\"(?:gym|gimnasio|gimnasia)\"\n",
    "singym_pattern = r\"(?:sin gym|sin gimnasio|sin gimnasia)\"\n",
    "gym = get_amenity(gym_pattern,singym_pattern)\n",
    "print(gym.value_counts())"
   ]
  },
  {
   "cell_type": "markdown",
   "metadata": {},
   "source": [
    "Búsqueda de Piscina:"
   ]
  },
  {
   "cell_type": "code",
   "execution_count": 148,
   "metadata": {},
   "outputs": [
    {
     "name": "stdout",
     "output_type": "stream",
     "text": [
      "0.0    30703\n",
      "1.0    13238\n",
      "Name: description, dtype: int64\n"
     ]
    }
   ],
   "source": [
    "piscina_pattern = r\"(?:piscina|pisicina|pileta)\"\n",
    "sinpiscina_pattern = r\"(?:sin piscina|sin pisicina|sin pileta)\"\n",
    "piscina = get_amenity(piscina_pattern,sinpiscina_pattern)\n",
    "print(piscina.value_counts())"
   ]
  },
  {
   "cell_type": "markdown",
   "metadata": {},
   "source": [
    "Búsqueda de SUM:"
   ]
  },
  {
   "cell_type": "code",
   "execution_count": 149,
   "metadata": {},
   "outputs": [
    {
     "name": "stdout",
     "output_type": "stream",
     "text": [
      "0.0    35438\n",
      "1.0     8503\n",
      "Name: description, dtype: int64\n"
     ]
    }
   ],
   "source": [
    "SUM_pattern = r\"(?:SUM|salón|salon|playroom)\"\n",
    "sinSUM_pattern = r\"(?:sin SUM|sin salón|sin salon|sin playroom)\"\n",
    "SUM = get_amenity(SUM_pattern,sinSUM_pattern)\n",
    "print(SUM.value_counts())"
   ]
  },
  {
   "cell_type": "markdown",
   "metadata": {},
   "source": [
    "Búsqueda de Laundry:"
   ]
  },
  {
   "cell_type": "code",
   "execution_count": 150,
   "metadata": {},
   "outputs": [
    {
     "name": "stdout",
     "output_type": "stream",
     "text": [
      "0.0    26318\n",
      "1.0    17623\n",
      "Name: description, dtype: int64\n"
     ]
    }
   ],
   "source": [
    "laundry_pattern = r\"(?:laundy|laundry|lavadero)\"\n",
    "sinlaundry_pattern = r\"(?:sin laundy|sin laundry|sin lavadero)\"\n",
    "laundry = get_amenity(laundry_pattern,sinlaundry_pattern)\n",
    "print(laundry.value_counts())"
   ]
  },
  {
   "cell_type": "markdown",
   "metadata": {},
   "source": [
    "Búsqueda de Balcón:"
   ]
  },
  {
   "cell_type": "code",
   "execution_count": 151,
   "metadata": {},
   "outputs": [
    {
     "name": "stdout",
     "output_type": "stream",
     "text": [
      "0.0    28856\n",
      "1.0    15085\n",
      "Name: description, dtype: int64\n"
     ]
    }
   ],
   "source": [
    "balcon_pattern = r\"(?:balcon|balcón)\"\n",
    "sinbalcon_pattern = r\"(?:sin balcon|sin balcón)\"\n",
    "balcon = get_amenity(balcon_pattern,sinbalcon_pattern)\n",
    "print(balcon.value_counts())"
   ]
  },
  {
   "cell_type": "markdown",
   "metadata": {},
   "source": [
    "Búsqueda de Patio:"
   ]
  },
  {
   "cell_type": "code",
   "execution_count": 152,
   "metadata": {
    "scrolled": true
   },
   "outputs": [
    {
     "name": "stdout",
     "output_type": "stream",
     "text": [
      "0.0    29482\n",
      "1.0    14459\n",
      "Name: description, dtype: int64\n"
     ]
    }
   ],
   "source": [
    "patio_pattern = r\"(?:patio|jardín|jardin)\"\n",
    "sinpatio_pattern = r\"(?:sin patio|sin jardín|sin jardin)\"\n",
    "patio = get_amenity(patio_pattern,sinpatio_pattern)\n",
    "print(patio.value_counts())"
   ]
  },
  {
   "cell_type": "markdown",
   "metadata": {},
   "source": [
    "Búsqueda de Parrilla:"
   ]
  },
  {
   "cell_type": "code",
   "execution_count": 153,
   "metadata": {},
   "outputs": [
    {
     "name": "stdout",
     "output_type": "stream",
     "text": [
      "0.0    28714\n",
      "1.0    15227\n",
      "Name: description, dtype: int64\n"
     ]
    }
   ],
   "source": [
    "parrilla_pattern = r\"(?:parrilla)\"\n",
    "sinparrilla_pattern = r\"(?:sin parrilla)\"\n",
    "parrilla = get_amenity(parrilla_pattern,sinparrilla_pattern)\n",
    "print(parrilla.value_counts())"
   ]
  },
  {
   "cell_type": "markdown",
   "metadata": {},
   "source": [
    "Armado de columnas/features dicotómicas para Amenities:"
   ]
  },
  {
   "cell_type": "code",
   "execution_count": 154,
   "metadata": {
    "scrolled": false
   },
   "outputs": [
    {
     "data": {
      "text/plain": [
       "Index(['operation', 'property_type', 'place_name', 'place_with_parent_names',\n",
       "       'country_name', 'state_name', 'geonames_id', 'lat-lon', 'price',\n",
       "       'currency', 'price_aprox_local_currency', 'price_aprox_usd',\n",
       "       'surface_total_in_m2', 'surface_covered_in_m2', 'price_usd_per_m2',\n",
       "       'price_per_m2', 'floor', 'rooms', 'expenses', 'properati_url',\n",
       "       'description', 'title', 'image_thumbnail', 'Pais', 'Provincia',\n",
       "       'Ciudad', 'Barrio', 'Sub-Barrio', 'complete_place_name', 'lat', 'lon',\n",
       "       'surface_uncovered_in_m2', 'Zona', 'const_index', 'cochera', 'gimnasio',\n",
       "       'piscina', 'SUM', 'laundry', 'balcon', 'patio', 'parrilla'],\n",
       "      dtype='object')"
      ]
     },
     "execution_count": 154,
     "metadata": {},
     "output_type": "execute_result"
    }
   ],
   "source": [
    "amenities = {\n",
    "    'cochera':cochera,\n",
    "    'gimnasio':gym,\n",
    "    'piscina':piscina,\n",
    "    'SUM':SUM,\n",
    "    'laundry':laundry,\n",
    "    'balcon':balcon,\n",
    "    'patio':patio,\n",
    "    'parrilla':parrilla\n",
    "}\n",
    "\n",
    "for key,item in amenities.items():\n",
    "    data[key]=item\n",
    "data.columns"
   ]
  },
  {
   "cell_type": "markdown",
   "metadata": {},
   "source": [
    "# Expensas"
   ]
  },
  {
   "cell_type": "code",
   "execution_count": 155,
   "metadata": {},
   "outputs": [],
   "source": [
    "# data.loc[((data['property_type']=='house')|(data['property_type']=='PH'))&(data['expenses'].isna()),'expenses']=0"
   ]
  },
  {
   "cell_type": "code",
   "execution_count": 156,
   "metadata": {},
   "outputs": [],
   "source": [
    "# def expenses_search(text):\n",
    "#     pattern =  r'(?:expensas\\s?\\$|expensa\\s?\\$|expensas:\\s?\\$|expensa:\\s?\\$)\\s?(\\d+,?\\.?\\d*,?\\.?\\d*)'\n",
    "#     regex = re.compile(pattern, flags = re.IGNORECASE)\n",
    "#     exp_lst = regex.findall(text)\n",
    "#     exp_lst = [float(item.replace(',','').replace('.','')) for item in exp_lst]\n",
    "  \n",
    "#     if not exp_lst:\n",
    "#         return np.nan\n",
    "#     if len(exp_lst)>1:\n",
    "#         if max(exp_lst)>1000:\n",
    "#             return max(exp_lst)\n",
    "#         else:\n",
    "#             return np.nan\n",
    "#     if len(exp_lst)==1:\n",
    "#         if exp_lst[0]>1000:\n",
    "#             return exp_lst[0]\n",
    "#         else:\n",
    "#             return np.nan"
   ]
  },
  {
   "cell_type": "code",
   "execution_count": 157,
   "metadata": {},
   "outputs": [],
   "source": [
    "# data.loc[data['expenses'].isna(),'description'].apply(expenses_search).count()"
   ]
  },
  {
   "cell_type": "code",
   "execution_count": 158,
   "metadata": {},
   "outputs": [],
   "source": [
    "# data[\"expenses\"].fillna(value=data.loc[data['expenses'].isna(),'description'].apply(expenses_search), inplace=True)"
   ]
  },
  {
   "cell_type": "code",
   "execution_count": 159,
   "metadata": {},
   "outputs": [],
   "source": [
    "# pattern = r'(?:sin expensas,|sin expensas|sin gastos de expensas|no paga expensas|s\\/expensas|\\/sin expensas|sin expensa\\s)\\s?'\n",
    "# # aplicamos el patron de búsqueda y transformamos los valores del booleando \n",
    "# expenses_search2=(data.loc[data['expenses'].isna(),'description'].str.contains(pattern, flags=re.IGNORECASE, regex=True)*1).replace([0,1],[np.nan, 0])\n",
    "# expenses_search2.value_counts(dropna=False)"
   ]
  },
  {
   "cell_type": "code",
   "execution_count": 160,
   "metadata": {},
   "outputs": [],
   "source": [
    "# data['expenses'].fillna(value=expenses_search2, inplace=True)"
   ]
  },
  {
   "cell_type": "code",
   "execution_count": 161,
   "metadata": {
    "scrolled": true
   },
   "outputs": [
    {
     "data": {
      "text/plain": [
       "operation                     43941\n",
       "property_type                 43941\n",
       "place_name                    43941\n",
       "place_with_parent_names       43941\n",
       "country_name                  43941\n",
       "state_name                    43941\n",
       "geonames_id                   36117\n",
       "lat-lon                       27185\n",
       "price                         43941\n",
       "currency                      43941\n",
       "price_aprox_local_currency    43941\n",
       "price_aprox_usd               43941\n",
       "surface_total_in_m2           40880\n",
       "surface_covered_in_m2         38046\n",
       "price_usd_per_m2              43941\n",
       "price_per_m2                  40622\n",
       "floor                         23926\n",
       "rooms                         43941\n",
       "expenses                       5528\n",
       "properati_url                 43941\n",
       "description                   43941\n",
       "title                         43941\n",
       "image_thumbnail               43424\n",
       "Pais                          43941\n",
       "Provincia                     43941\n",
       "Ciudad                        42942\n",
       "Barrio                        26774\n",
       "Sub-Barrio                      629\n",
       "complete_place_name           43941\n",
       "lat                           27185\n",
       "lon                           27185\n",
       "surface_uncovered_in_m2       34985\n",
       "Zona                          43941\n",
       "const_index                   34985\n",
       "cochera                       43941\n",
       "gimnasio                      43941\n",
       "piscina                       43941\n",
       "SUM                           43941\n",
       "laundry                       43941\n",
       "balcon                        43941\n",
       "patio                         43941\n",
       "parrilla                      43941\n",
       "dtype: int64"
      ]
     },
     "execution_count": 161,
     "metadata": {},
     "output_type": "execute_result"
    }
   ],
   "source": [
    "data.notnull().sum()"
   ]
  },
  {
   "cell_type": "code",
   "execution_count": 162,
   "metadata": {},
   "outputs": [
    {
     "data": {
      "text/plain": [
       "(0, 42)"
      ]
     },
     "execution_count": 162,
     "metadata": {},
     "output_type": "execute_result"
    }
   ],
   "source": [
    "data.loc[(data['surface_covered_in_m2'].isna())&(data['surface_total_in_m2'].isna())].shape"
   ]
  },
  {
   "cell_type": "markdown",
   "metadata": {},
   "source": [
    "## Cómo quedan los datos por provincias?"
   ]
  },
  {
   "cell_type": "code",
   "execution_count": 163,
   "metadata": {},
   "outputs": [
    {
     "data": {
      "text/plain": [
       "Capital Federal                 12142\n",
       "Bs.As. G.B.A. Zona Norte        11684\n",
       "Bs.As. G.B.A. Zona Oeste         4650\n",
       "Buenos Aires Costa Atlántica     4450\n",
       "Bs.As. G.B.A. Zona Sur           4090\n",
       "Córdoba                          2605\n",
       "Santa Fe                         2593\n",
       "Buenos Aires Interior             643\n",
       "Corrientes                        218\n",
       "Neuquén                           152\n",
       "Río Negro                         137\n",
       "Mendoza                           125\n",
       "Misiones                          118\n",
       "San Luis                           95\n",
       "Chubut                             78\n",
       "Entre Ríos                         39\n",
       "Salta                              39\n",
       "Tucumán                            35\n",
       "Tierra Del Fuego                   16\n",
       "Santa Cruz                         10\n",
       "Chaco                               9\n",
       "La Pampa                            4\n",
       "Jujuy                               3\n",
       "La Rioja                            2\n",
       "Catamarca                           2\n",
       "San Juan                            1\n",
       "Santiago Del Estero                 1\n",
       "Name: Provincia, dtype: int64"
      ]
     },
     "execution_count": 163,
     "metadata": {},
     "output_type": "execute_result"
    }
   ],
   "source": [
    "data['Provincia'].value_counts()"
   ]
  },
  {
   "cell_type": "markdown",
   "metadata": {},
   "source": [
    "# Guardado del nuevo dataset 'limpio'"
   ]
  },
  {
   "cell_type": "code",
   "execution_count": 164,
   "metadata": {},
   "outputs": [
    {
     "data": {
      "text/html": [
       "<div>\n",
       "<style scoped>\n",
       "    .dataframe tbody tr th:only-of-type {\n",
       "        vertical-align: middle;\n",
       "    }\n",
       "\n",
       "    .dataframe tbody tr th {\n",
       "        vertical-align: top;\n",
       "    }\n",
       "\n",
       "    .dataframe thead th {\n",
       "        text-align: right;\n",
       "    }\n",
       "</style>\n",
       "<table border=\"1\" class=\"dataframe\">\n",
       "  <thead>\n",
       "    <tr style=\"text-align: right;\">\n",
       "      <th></th>\n",
       "      <th>operation</th>\n",
       "      <th>tipo_propiedad</th>\n",
       "      <th>place_name</th>\n",
       "      <th>place_with_parent_names</th>\n",
       "      <th>country_name</th>\n",
       "      <th>state_name</th>\n",
       "      <th>geonames_id</th>\n",
       "      <th>lat-lon</th>\n",
       "      <th>price_usd</th>\n",
       "      <th>currency</th>\n",
       "      <th>...</th>\n",
       "      <th>Zona</th>\n",
       "      <th>const_index</th>\n",
       "      <th>cochera</th>\n",
       "      <th>gimnasio</th>\n",
       "      <th>piscina</th>\n",
       "      <th>SUM</th>\n",
       "      <th>laundry</th>\n",
       "      <th>balcon</th>\n",
       "      <th>patio</th>\n",
       "      <th>parrilla</th>\n",
       "    </tr>\n",
       "  </thead>\n",
       "  <tbody>\n",
       "    <tr>\n",
       "      <th>0</th>\n",
       "      <td>sell</td>\n",
       "      <td>PH</td>\n",
       "      <td>Mataderos</td>\n",
       "      <td>|Argentina|Capital Federal|Mataderos|</td>\n",
       "      <td>Argentina</td>\n",
       "      <td>Capital Federal</td>\n",
       "      <td>3430787.0</td>\n",
       "      <td>-34.6618237,-58.5088387</td>\n",
       "      <td>62000.0</td>\n",
       "      <td>USD</td>\n",
       "      <td>...</td>\n",
       "      <td>CABA</td>\n",
       "      <td>0.727273</td>\n",
       "      <td>0.0</td>\n",
       "      <td>0.0</td>\n",
       "      <td>0.0</td>\n",
       "      <td>0.0</td>\n",
       "      <td>1.0</td>\n",
       "      <td>0.0</td>\n",
       "      <td>1.0</td>\n",
       "      <td>0.0</td>\n",
       "    </tr>\n",
       "    <tr>\n",
       "      <th>2</th>\n",
       "      <td>sell</td>\n",
       "      <td>apartment</td>\n",
       "      <td>Centro</td>\n",
       "      <td>|Argentina|Buenos Aires Costa Atlántica|Mar de...</td>\n",
       "      <td>Argentina</td>\n",
       "      <td>Buenos Aires Costa Atlántica</td>\n",
       "      <td>3435548.0</td>\n",
       "      <td>-38.0026256,-57.5494468</td>\n",
       "      <td>64000.0</td>\n",
       "      <td>USD</td>\n",
       "      <td>...</td>\n",
       "      <td>BsAs</td>\n",
       "      <td>1.000000</td>\n",
       "      <td>0.0</td>\n",
       "      <td>0.0</td>\n",
       "      <td>0.0</td>\n",
       "      <td>0.0</td>\n",
       "      <td>0.0</td>\n",
       "      <td>0.0</td>\n",
       "      <td>0.0</td>\n",
       "      <td>0.0</td>\n",
       "    </tr>\n",
       "    <tr>\n",
       "      <th>4</th>\n",
       "      <td>sell</td>\n",
       "      <td>PH</td>\n",
       "      <td>Munro</td>\n",
       "      <td>|Argentina|Bs.As. G.B.A. Zona Norte|Vicente Ló...</td>\n",
       "      <td>Argentina</td>\n",
       "      <td>Bs.As. G.B.A. Zona Norte</td>\n",
       "      <td>3430511.0</td>\n",
       "      <td>-34.5329567,-58.5217825</td>\n",
       "      <td>130000.0</td>\n",
       "      <td>USD</td>\n",
       "      <td>...</td>\n",
       "      <td>GBA</td>\n",
       "      <td>0.735849</td>\n",
       "      <td>0.0</td>\n",
       "      <td>0.0</td>\n",
       "      <td>0.0</td>\n",
       "      <td>0.0</td>\n",
       "      <td>1.0</td>\n",
       "      <td>0.0</td>\n",
       "      <td>1.0</td>\n",
       "      <td>0.0</td>\n",
       "    </tr>\n",
       "    <tr>\n",
       "      <th>5</th>\n",
       "      <td>sell</td>\n",
       "      <td>apartment</td>\n",
       "      <td>Belgrano</td>\n",
       "      <td>|Argentina|Capital Federal|Belgrano|</td>\n",
       "      <td>Argentina</td>\n",
       "      <td>Capital Federal</td>\n",
       "      <td>3436077.0</td>\n",
       "      <td>-34.5598729,-58.443362</td>\n",
       "      <td>138000.0</td>\n",
       "      <td>USD</td>\n",
       "      <td>...</td>\n",
       "      <td>CABA</td>\n",
       "      <td>0.888889</td>\n",
       "      <td>0.0</td>\n",
       "      <td>0.0</td>\n",
       "      <td>1.0</td>\n",
       "      <td>0.0</td>\n",
       "      <td>1.0</td>\n",
       "      <td>0.0</td>\n",
       "      <td>0.0</td>\n",
       "      <td>0.0</td>\n",
       "    </tr>\n",
       "    <tr>\n",
       "      <th>6</th>\n",
       "      <td>sell</td>\n",
       "      <td>apartment</td>\n",
       "      <td>Martínez</td>\n",
       "      <td>|Argentina|Bs.As. G.B.A. Zona Norte|San Isidro...</td>\n",
       "      <td>Argentina</td>\n",
       "      <td>Bs.As. G.B.A. Zona Norte</td>\n",
       "      <td>3430813.0</td>\n",
       "      <td>-34.4860195,-58.5038139</td>\n",
       "      <td>115000.0</td>\n",
       "      <td>USD</td>\n",
       "      <td>...</td>\n",
       "      <td>GBA</td>\n",
       "      <td>0.923077</td>\n",
       "      <td>0.0</td>\n",
       "      <td>0.0</td>\n",
       "      <td>0.0</td>\n",
       "      <td>0.0</td>\n",
       "      <td>0.0</td>\n",
       "      <td>1.0</td>\n",
       "      <td>0.0</td>\n",
       "      <td>0.0</td>\n",
       "    </tr>\n",
       "  </tbody>\n",
       "</table>\n",
       "<p>5 rows × 42 columns</p>\n",
       "</div>"
      ],
      "text/plain": [
       "  operation tipo_propiedad place_name  \\\n",
       "0      sell             PH  Mataderos   \n",
       "2      sell      apartment     Centro   \n",
       "4      sell             PH      Munro   \n",
       "5      sell      apartment   Belgrano   \n",
       "6      sell      apartment   Martínez   \n",
       "\n",
       "                             place_with_parent_names country_name  \\\n",
       "0              |Argentina|Capital Federal|Mataderos|    Argentina   \n",
       "2  |Argentina|Buenos Aires Costa Atlántica|Mar de...    Argentina   \n",
       "4  |Argentina|Bs.As. G.B.A. Zona Norte|Vicente Ló...    Argentina   \n",
       "5               |Argentina|Capital Federal|Belgrano|    Argentina   \n",
       "6  |Argentina|Bs.As. G.B.A. Zona Norte|San Isidro...    Argentina   \n",
       "\n",
       "                     state_name  geonames_id                  lat-lon  \\\n",
       "0               Capital Federal    3430787.0  -34.6618237,-58.5088387   \n",
       "2  Buenos Aires Costa Atlántica    3435548.0  -38.0026256,-57.5494468   \n",
       "4      Bs.As. G.B.A. Zona Norte    3430511.0  -34.5329567,-58.5217825   \n",
       "5               Capital Federal    3436077.0   -34.5598729,-58.443362   \n",
       "6      Bs.As. G.B.A. Zona Norte    3430813.0  -34.4860195,-58.5038139   \n",
       "\n",
       "   price_usd currency  ...  Zona  const_index  cochera  gimnasio  piscina  \\\n",
       "0    62000.0      USD  ...  CABA     0.727273      0.0       0.0      0.0   \n",
       "2    64000.0      USD  ...  BsAs     1.000000      0.0       0.0      0.0   \n",
       "4   130000.0      USD  ...   GBA     0.735849      0.0       0.0      0.0   \n",
       "5   138000.0      USD  ...  CABA     0.888889      0.0       0.0      1.0   \n",
       "6   115000.0      USD  ...   GBA     0.923077      0.0       0.0      0.0   \n",
       "\n",
       "   SUM  laundry  balcon  patio parrilla  \n",
       "0  0.0      1.0     0.0    1.0      0.0  \n",
       "2  0.0      0.0     0.0    0.0      0.0  \n",
       "4  0.0      1.0     0.0    1.0      0.0  \n",
       "5  0.0      1.0     0.0    0.0      0.0  \n",
       "6  0.0      0.0     1.0    0.0      0.0  \n",
       "\n",
       "[5 rows x 42 columns]"
      ]
     },
     "execution_count": 164,
     "metadata": {},
     "output_type": "execute_result"
    }
   ],
   "source": [
    "columns_rename = {'price':'price_usd','Ciudad':'Localidad',\\\n",
    "                  'surface_covered_in_m2':'sup_cub', 'surface_total_in_m2':'sup_total',\\\n",
    "                  'surface_uncovered_in_m2':'sup_descub','property_type':'tipo_propiedad'\n",
    "                 }\n",
    "data.rename(columns=columns_rename,inplace=True)\n",
    "data.head()"
   ]
  },
  {
   "cell_type": "code",
   "execution_count": 165,
   "metadata": {
    "scrolled": true
   },
   "outputs": [
    {
     "data": {
      "text/plain": [
       "Index(['operation', 'tipo_propiedad', 'place_name', 'place_with_parent_names',\n",
       "       'country_name', 'state_name', 'geonames_id', 'lat-lon', 'price_usd',\n",
       "       'currency', 'price_aprox_local_currency', 'price_aprox_usd',\n",
       "       'sup_total', 'sup_cub', 'price_usd_per_m2', 'price_per_m2', 'floor',\n",
       "       'rooms', 'expenses', 'properati_url', 'description', 'title',\n",
       "       'image_thumbnail', 'Pais', 'Provincia', 'Localidad', 'Barrio',\n",
       "       'Sub-Barrio', 'complete_place_name', 'lat', 'lon', 'sup_descub', 'Zona',\n",
       "       'const_index', 'cochera', 'gimnasio', 'piscina', 'SUM', 'laundry',\n",
       "       'balcon', 'patio', 'parrilla'],\n",
       "      dtype='object')"
      ]
     },
     "execution_count": 165,
     "metadata": {},
     "output_type": "execute_result"
    }
   ],
   "source": [
    "data.columns"
   ]
  },
  {
   "cell_type": "code",
   "execution_count": 166,
   "metadata": {},
   "outputs": [],
   "source": [
    "columnas_que_no_sirven = ['operation','place_with_parent_names','country_name', 'state_name',\n",
    "                          'geonames_id','lat-lon','lat', 'lon',\n",
    "                          'currency', 'price_aprox_local_currency', 'price_aprox_usd','price_per_m2',\n",
    "                          'expenses', 'properati_url', 'description', 'title','image_thumbnail',\n",
    "                          'Pais','Sub-Barrio', 'complete_place_name','const_index', \n",
    "                         ]"
   ]
  },
  {
   "cell_type": "code",
   "execution_count": 167,
   "metadata": {},
   "outputs": [
    {
     "data": {
      "text/html": [
       "<div>\n",
       "<style scoped>\n",
       "    .dataframe tbody tr th:only-of-type {\n",
       "        vertical-align: middle;\n",
       "    }\n",
       "\n",
       "    .dataframe tbody tr th {\n",
       "        vertical-align: top;\n",
       "    }\n",
       "\n",
       "    .dataframe thead th {\n",
       "        text-align: right;\n",
       "    }\n",
       "</style>\n",
       "<table border=\"1\" class=\"dataframe\">\n",
       "  <thead>\n",
       "    <tr style=\"text-align: right;\">\n",
       "      <th></th>\n",
       "      <th>tipo_propiedad</th>\n",
       "      <th>place_name</th>\n",
       "      <th>price_usd</th>\n",
       "      <th>sup_total</th>\n",
       "      <th>sup_cub</th>\n",
       "      <th>price_usd_per_m2</th>\n",
       "      <th>floor</th>\n",
       "      <th>rooms</th>\n",
       "      <th>Provincia</th>\n",
       "      <th>Localidad</th>\n",
       "      <th>...</th>\n",
       "      <th>sup_descub</th>\n",
       "      <th>Zona</th>\n",
       "      <th>cochera</th>\n",
       "      <th>gimnasio</th>\n",
       "      <th>piscina</th>\n",
       "      <th>SUM</th>\n",
       "      <th>laundry</th>\n",
       "      <th>balcon</th>\n",
       "      <th>patio</th>\n",
       "      <th>parrilla</th>\n",
       "    </tr>\n",
       "  </thead>\n",
       "  <tbody>\n",
       "    <tr>\n",
       "      <th>0</th>\n",
       "      <td>PH</td>\n",
       "      <td>Mataderos</td>\n",
       "      <td>62000.0</td>\n",
       "      <td>55.0</td>\n",
       "      <td>40.0</td>\n",
       "      <td>1127.272727</td>\n",
       "      <td>0.0</td>\n",
       "      <td>2.0</td>\n",
       "      <td>Capital Federal</td>\n",
       "      <td>Capital Federal</td>\n",
       "      <td>...</td>\n",
       "      <td>15.0</td>\n",
       "      <td>CABA</td>\n",
       "      <td>0.0</td>\n",
       "      <td>0.0</td>\n",
       "      <td>0.0</td>\n",
       "      <td>0.0</td>\n",
       "      <td>1.0</td>\n",
       "      <td>0.0</td>\n",
       "      <td>1.0</td>\n",
       "      <td>0.0</td>\n",
       "    </tr>\n",
       "    <tr>\n",
       "      <th>1</th>\n",
       "      <td>apartment</td>\n",
       "      <td>Centro</td>\n",
       "      <td>64000.0</td>\n",
       "      <td>35.0</td>\n",
       "      <td>35.0</td>\n",
       "      <td>1828.571429</td>\n",
       "      <td>NaN</td>\n",
       "      <td>2.0</td>\n",
       "      <td>Buenos Aires Costa Atlántica</td>\n",
       "      <td>Mar del Plata</td>\n",
       "      <td>...</td>\n",
       "      <td>0.0</td>\n",
       "      <td>BsAs</td>\n",
       "      <td>0.0</td>\n",
       "      <td>0.0</td>\n",
       "      <td>0.0</td>\n",
       "      <td>0.0</td>\n",
       "      <td>0.0</td>\n",
       "      <td>0.0</td>\n",
       "      <td>0.0</td>\n",
       "      <td>0.0</td>\n",
       "    </tr>\n",
       "    <tr>\n",
       "      <th>2</th>\n",
       "      <td>PH</td>\n",
       "      <td>Munro</td>\n",
       "      <td>130000.0</td>\n",
       "      <td>106.0</td>\n",
       "      <td>78.0</td>\n",
       "      <td>1226.415094</td>\n",
       "      <td>0.0</td>\n",
       "      <td>3.0</td>\n",
       "      <td>Bs.As. G.B.A. Zona Norte</td>\n",
       "      <td>Vicente López</td>\n",
       "      <td>...</td>\n",
       "      <td>28.0</td>\n",
       "      <td>GBA</td>\n",
       "      <td>0.0</td>\n",
       "      <td>0.0</td>\n",
       "      <td>0.0</td>\n",
       "      <td>0.0</td>\n",
       "      <td>1.0</td>\n",
       "      <td>0.0</td>\n",
       "      <td>1.0</td>\n",
       "      <td>0.0</td>\n",
       "    </tr>\n",
       "    <tr>\n",
       "      <th>3</th>\n",
       "      <td>apartment</td>\n",
       "      <td>Belgrano</td>\n",
       "      <td>138000.0</td>\n",
       "      <td>45.0</td>\n",
       "      <td>40.0</td>\n",
       "      <td>3066.666667</td>\n",
       "      <td>NaN</td>\n",
       "      <td>1.0</td>\n",
       "      <td>Capital Federal</td>\n",
       "      <td>Capital Federal</td>\n",
       "      <td>...</td>\n",
       "      <td>5.0</td>\n",
       "      <td>CABA</td>\n",
       "      <td>0.0</td>\n",
       "      <td>0.0</td>\n",
       "      <td>1.0</td>\n",
       "      <td>0.0</td>\n",
       "      <td>1.0</td>\n",
       "      <td>0.0</td>\n",
       "      <td>0.0</td>\n",
       "      <td>0.0</td>\n",
       "    </tr>\n",
       "    <tr>\n",
       "      <th>4</th>\n",
       "      <td>apartment</td>\n",
       "      <td>Martínez</td>\n",
       "      <td>115000.0</td>\n",
       "      <td>39.0</td>\n",
       "      <td>36.0</td>\n",
       "      <td>2948.717949</td>\n",
       "      <td>NaN</td>\n",
       "      <td>2.0</td>\n",
       "      <td>Bs.As. G.B.A. Zona Norte</td>\n",
       "      <td>San Isidro</td>\n",
       "      <td>...</td>\n",
       "      <td>3.0</td>\n",
       "      <td>GBA</td>\n",
       "      <td>0.0</td>\n",
       "      <td>0.0</td>\n",
       "      <td>0.0</td>\n",
       "      <td>0.0</td>\n",
       "      <td>0.0</td>\n",
       "      <td>1.0</td>\n",
       "      <td>0.0</td>\n",
       "      <td>0.0</td>\n",
       "    </tr>\n",
       "  </tbody>\n",
       "</table>\n",
       "<p>5 rows × 21 columns</p>\n",
       "</div>"
      ],
      "text/plain": [
       "  tipo_propiedad place_name  price_usd  sup_total  sup_cub  price_usd_per_m2  \\\n",
       "0             PH  Mataderos    62000.0       55.0     40.0       1127.272727   \n",
       "1      apartment     Centro    64000.0       35.0     35.0       1828.571429   \n",
       "2             PH      Munro   130000.0      106.0     78.0       1226.415094   \n",
       "3      apartment   Belgrano   138000.0       45.0     40.0       3066.666667   \n",
       "4      apartment   Martínez   115000.0       39.0     36.0       2948.717949   \n",
       "\n",
       "   floor  rooms                     Provincia        Localidad  ...  \\\n",
       "0    0.0    2.0               Capital Federal  Capital Federal  ...   \n",
       "1    NaN    2.0  Buenos Aires Costa Atlántica    Mar del Plata  ...   \n",
       "2    0.0    3.0      Bs.As. G.B.A. Zona Norte    Vicente López  ...   \n",
       "3    NaN    1.0               Capital Federal  Capital Federal  ...   \n",
       "4    NaN    2.0      Bs.As. G.B.A. Zona Norte       San Isidro  ...   \n",
       "\n",
       "  sup_descub  Zona cochera  gimnasio  piscina  SUM  laundry  balcon  patio  \\\n",
       "0       15.0  CABA     0.0       0.0      0.0  0.0      1.0     0.0    1.0   \n",
       "1        0.0  BsAs     0.0       0.0      0.0  0.0      0.0     0.0    0.0   \n",
       "2       28.0   GBA     0.0       0.0      0.0  0.0      1.0     0.0    1.0   \n",
       "3        5.0  CABA     0.0       0.0      1.0  0.0      1.0     0.0    0.0   \n",
       "4        3.0   GBA     0.0       0.0      0.0  0.0      0.0     1.0    0.0   \n",
       "\n",
       "   parrilla  \n",
       "0       0.0  \n",
       "1       0.0  \n",
       "2       0.0  \n",
       "3       0.0  \n",
       "4       0.0  \n",
       "\n",
       "[5 rows x 21 columns]"
      ]
     },
     "execution_count": 167,
     "metadata": {},
     "output_type": "execute_result"
    }
   ],
   "source": [
    "data2 = data.drop(columns=columnas_que_no_sirven).reset_index().drop(columns='index').copy()\n",
    "data2.head()"
   ]
  },
  {
   "cell_type": "code",
   "execution_count": 168,
   "metadata": {},
   "outputs": [
    {
     "data": {
      "text/plain": [
       "Index(['tipo_propiedad', 'place_name', 'price_usd', 'sup_total', 'sup_cub',\n",
       "       'price_usd_per_m2', 'floor', 'rooms', 'Provincia', 'Localidad',\n",
       "       'Barrio', 'sup_descub', 'Zona', 'cochera', 'gimnasio', 'piscina', 'SUM',\n",
       "       'laundry', 'balcon', 'patio', 'parrilla'],\n",
       "      dtype='object')"
      ]
     },
     "execution_count": 168,
     "metadata": {},
     "output_type": "execute_result"
    }
   ],
   "source": [
    "data2.columns"
   ]
  },
  {
   "cell_type": "code",
   "execution_count": 169,
   "metadata": {},
   "outputs": [
    {
     "data": {
      "text/html": [
       "<div>\n",
       "<style scoped>\n",
       "    .dataframe tbody tr th:only-of-type {\n",
       "        vertical-align: middle;\n",
       "    }\n",
       "\n",
       "    .dataframe tbody tr th {\n",
       "        vertical-align: top;\n",
       "    }\n",
       "\n",
       "    .dataframe thead th {\n",
       "        text-align: right;\n",
       "    }\n",
       "</style>\n",
       "<table border=\"1\" class=\"dataframe\">\n",
       "  <thead>\n",
       "    <tr style=\"text-align: right;\">\n",
       "      <th></th>\n",
       "      <th>tipo_propiedad</th>\n",
       "      <th>Provincia</th>\n",
       "      <th>Zona</th>\n",
       "      <th>Localidad</th>\n",
       "      <th>Barrio</th>\n",
       "      <th>place_name</th>\n",
       "      <th>cochera</th>\n",
       "      <th>gimnasio</th>\n",
       "      <th>piscina</th>\n",
       "      <th>SUM</th>\n",
       "      <th>...</th>\n",
       "      <th>balcon</th>\n",
       "      <th>patio</th>\n",
       "      <th>parrilla</th>\n",
       "      <th>floor</th>\n",
       "      <th>rooms</th>\n",
       "      <th>price_usd</th>\n",
       "      <th>sup_cub</th>\n",
       "      <th>sup_descub</th>\n",
       "      <th>sup_total</th>\n",
       "      <th>price_usd_per_m2</th>\n",
       "    </tr>\n",
       "  </thead>\n",
       "  <tbody>\n",
       "    <tr>\n",
       "      <th>0</th>\n",
       "      <td>PH</td>\n",
       "      <td>Capital Federal</td>\n",
       "      <td>CABA</td>\n",
       "      <td>Capital Federal</td>\n",
       "      <td>Mataderos</td>\n",
       "      <td>Mataderos</td>\n",
       "      <td>0.0</td>\n",
       "      <td>0.0</td>\n",
       "      <td>0.0</td>\n",
       "      <td>0.0</td>\n",
       "      <td>...</td>\n",
       "      <td>0.0</td>\n",
       "      <td>1.0</td>\n",
       "      <td>0.0</td>\n",
       "      <td>0.0</td>\n",
       "      <td>2.0</td>\n",
       "      <td>62000.0</td>\n",
       "      <td>40.0</td>\n",
       "      <td>15.0</td>\n",
       "      <td>55.0</td>\n",
       "      <td>1127.272727</td>\n",
       "    </tr>\n",
       "    <tr>\n",
       "      <th>1</th>\n",
       "      <td>apartment</td>\n",
       "      <td>Buenos Aires Costa Atlántica</td>\n",
       "      <td>BsAs</td>\n",
       "      <td>Mar del Plata</td>\n",
       "      <td>Centro</td>\n",
       "      <td>Centro</td>\n",
       "      <td>0.0</td>\n",
       "      <td>0.0</td>\n",
       "      <td>0.0</td>\n",
       "      <td>0.0</td>\n",
       "      <td>...</td>\n",
       "      <td>0.0</td>\n",
       "      <td>0.0</td>\n",
       "      <td>0.0</td>\n",
       "      <td>NaN</td>\n",
       "      <td>2.0</td>\n",
       "      <td>64000.0</td>\n",
       "      <td>35.0</td>\n",
       "      <td>0.0</td>\n",
       "      <td>35.0</td>\n",
       "      <td>1828.571429</td>\n",
       "    </tr>\n",
       "    <tr>\n",
       "      <th>2</th>\n",
       "      <td>PH</td>\n",
       "      <td>Bs.As. G.B.A. Zona Norte</td>\n",
       "      <td>GBA</td>\n",
       "      <td>Vicente López</td>\n",
       "      <td>Munro</td>\n",
       "      <td>Munro</td>\n",
       "      <td>0.0</td>\n",
       "      <td>0.0</td>\n",
       "      <td>0.0</td>\n",
       "      <td>0.0</td>\n",
       "      <td>...</td>\n",
       "      <td>0.0</td>\n",
       "      <td>1.0</td>\n",
       "      <td>0.0</td>\n",
       "      <td>0.0</td>\n",
       "      <td>3.0</td>\n",
       "      <td>130000.0</td>\n",
       "      <td>78.0</td>\n",
       "      <td>28.0</td>\n",
       "      <td>106.0</td>\n",
       "      <td>1226.415094</td>\n",
       "    </tr>\n",
       "    <tr>\n",
       "      <th>3</th>\n",
       "      <td>apartment</td>\n",
       "      <td>Capital Federal</td>\n",
       "      <td>CABA</td>\n",
       "      <td>Capital Federal</td>\n",
       "      <td>Belgrano</td>\n",
       "      <td>Belgrano</td>\n",
       "      <td>0.0</td>\n",
       "      <td>0.0</td>\n",
       "      <td>1.0</td>\n",
       "      <td>0.0</td>\n",
       "      <td>...</td>\n",
       "      <td>0.0</td>\n",
       "      <td>0.0</td>\n",
       "      <td>0.0</td>\n",
       "      <td>NaN</td>\n",
       "      <td>1.0</td>\n",
       "      <td>138000.0</td>\n",
       "      <td>40.0</td>\n",
       "      <td>5.0</td>\n",
       "      <td>45.0</td>\n",
       "      <td>3066.666667</td>\n",
       "    </tr>\n",
       "    <tr>\n",
       "      <th>4</th>\n",
       "      <td>apartment</td>\n",
       "      <td>Bs.As. G.B.A. Zona Norte</td>\n",
       "      <td>GBA</td>\n",
       "      <td>San Isidro</td>\n",
       "      <td>Martínez</td>\n",
       "      <td>Martínez</td>\n",
       "      <td>0.0</td>\n",
       "      <td>0.0</td>\n",
       "      <td>0.0</td>\n",
       "      <td>0.0</td>\n",
       "      <td>...</td>\n",
       "      <td>1.0</td>\n",
       "      <td>0.0</td>\n",
       "      <td>0.0</td>\n",
       "      <td>NaN</td>\n",
       "      <td>2.0</td>\n",
       "      <td>115000.0</td>\n",
       "      <td>36.0</td>\n",
       "      <td>3.0</td>\n",
       "      <td>39.0</td>\n",
       "      <td>2948.717949</td>\n",
       "    </tr>\n",
       "  </tbody>\n",
       "</table>\n",
       "<p>5 rows × 21 columns</p>\n",
       "</div>"
      ],
      "text/plain": [
       "  tipo_propiedad                     Provincia  Zona        Localidad  \\\n",
       "0             PH               Capital Federal  CABA  Capital Federal   \n",
       "1      apartment  Buenos Aires Costa Atlántica  BsAs    Mar del Plata   \n",
       "2             PH      Bs.As. G.B.A. Zona Norte   GBA    Vicente López   \n",
       "3      apartment               Capital Federal  CABA  Capital Federal   \n",
       "4      apartment      Bs.As. G.B.A. Zona Norte   GBA       San Isidro   \n",
       "\n",
       "      Barrio place_name  cochera  gimnasio  piscina  SUM  ...  balcon  patio  \\\n",
       "0  Mataderos  Mataderos      0.0       0.0      0.0  0.0  ...     0.0    1.0   \n",
       "1     Centro     Centro      0.0       0.0      0.0  0.0  ...     0.0    0.0   \n",
       "2      Munro      Munro      0.0       0.0      0.0  0.0  ...     0.0    1.0   \n",
       "3   Belgrano   Belgrano      0.0       0.0      1.0  0.0  ...     0.0    0.0   \n",
       "4   Martínez   Martínez      0.0       0.0      0.0  0.0  ...     1.0    0.0   \n",
       "\n",
       "   parrilla  floor  rooms  price_usd  sup_cub  sup_descub  sup_total  \\\n",
       "0       0.0    0.0    2.0    62000.0     40.0        15.0       55.0   \n",
       "1       0.0    NaN    2.0    64000.0     35.0         0.0       35.0   \n",
       "2       0.0    0.0    3.0   130000.0     78.0        28.0      106.0   \n",
       "3       0.0    NaN    1.0   138000.0     40.0         5.0       45.0   \n",
       "4       0.0    NaN    2.0   115000.0     36.0         3.0       39.0   \n",
       "\n",
       "   price_usd_per_m2  \n",
       "0       1127.272727  \n",
       "1       1828.571429  \n",
       "2       1226.415094  \n",
       "3       3066.666667  \n",
       "4       2948.717949  \n",
       "\n",
       "[5 rows x 21 columns]"
      ]
     },
     "execution_count": 169,
     "metadata": {},
     "output_type": "execute_result"
    }
   ],
   "source": [
    "final_cols = ['tipo_propiedad','Provincia','Zona','Localidad','Barrio','place_name',\n",
    "              'cochera', 'gimnasio', 'piscina', 'SUM', 'laundry','balcon', 'patio','parrilla',\n",
    "              'floor','rooms','price_usd','sup_cub','sup_descub','sup_total','price_usd_per_m2']\n",
    "data2 = data2[final_cols]\n",
    "data2.head()"
   ]
  },
  {
   "cell_type": "code",
   "execution_count": 170,
   "metadata": {},
   "outputs": [],
   "source": [
    "#data.drop(columns=columnas_que_no_sirven).reset_index().iloc[:,1:].to_csv('datos_previos_clean.csv')\n",
    "data2.to_csv('../Data/datos_previos_clean.csv')"
   ]
  },
  {
   "cell_type": "code",
   "execution_count": 171,
   "metadata": {},
   "outputs": [
    {
     "data": {
      "text/html": [
       "<div>\n",
       "<style scoped>\n",
       "    .dataframe tbody tr th:only-of-type {\n",
       "        vertical-align: middle;\n",
       "    }\n",
       "\n",
       "    .dataframe tbody tr th {\n",
       "        vertical-align: top;\n",
       "    }\n",
       "\n",
       "    .dataframe thead th {\n",
       "        text-align: right;\n",
       "    }\n",
       "</style>\n",
       "<table border=\"1\" class=\"dataframe\">\n",
       "  <thead>\n",
       "    <tr style=\"text-align: right;\">\n",
       "      <th></th>\n",
       "      <th>tipo_propiedad</th>\n",
       "      <th>Provincia</th>\n",
       "      <th>Zona</th>\n",
       "      <th>Localidad</th>\n",
       "      <th>Barrio</th>\n",
       "      <th>place_name</th>\n",
       "      <th>cochera</th>\n",
       "      <th>gimnasio</th>\n",
       "      <th>piscina</th>\n",
       "      <th>SUM</th>\n",
       "      <th>...</th>\n",
       "      <th>balcon</th>\n",
       "      <th>patio</th>\n",
       "      <th>parrilla</th>\n",
       "      <th>floor</th>\n",
       "      <th>rooms</th>\n",
       "      <th>price_usd</th>\n",
       "      <th>sup_cub</th>\n",
       "      <th>sup_descub</th>\n",
       "      <th>sup_total</th>\n",
       "      <th>price_usd_per_m2</th>\n",
       "    </tr>\n",
       "  </thead>\n",
       "  <tbody>\n",
       "  </tbody>\n",
       "</table>\n",
       "<p>0 rows × 21 columns</p>\n",
       "</div>"
      ],
      "text/plain": [
       "Empty DataFrame\n",
       "Columns: [tipo_propiedad, Provincia, Zona, Localidad, Barrio, place_name, cochera, gimnasio, piscina, SUM, laundry, balcon, patio, parrilla, floor, rooms, price_usd, sup_cub, sup_descub, sup_total, price_usd_per_m2]\n",
       "Index: []\n",
       "\n",
       "[0 rows x 21 columns]"
      ]
     },
     "execution_count": 171,
     "metadata": {},
     "output_type": "execute_result"
    }
   ],
   "source": [
    "data2.loc[(data2['tipo_propiedad']=='apartment')&(data2['floor']==0),:]"
   ]
  },
  {
   "cell_type": "code",
   "execution_count": 172,
   "metadata": {},
   "outputs": [
    {
     "data": {
      "text/plain": [
       "(43941, 21)"
      ]
     },
     "execution_count": 172,
     "metadata": {},
     "output_type": "execute_result"
    }
   ],
   "source": [
    "data2.shape"
   ]
  }
 ],
 "metadata": {
  "kernelspec": {
   "display_name": "Python 3",
   "language": "python",
   "name": "python3"
  },
  "language_info": {
   "codemirror_mode": {
    "name": "ipython",
    "version": 3
   },
   "file_extension": ".py",
   "mimetype": "text/x-python",
   "name": "python",
   "nbconvert_exporter": "python",
   "pygments_lexer": "ipython3",
   "version": "3.7.1"
  }
 },
 "nbformat": 4,
 "nbformat_minor": 2
}
