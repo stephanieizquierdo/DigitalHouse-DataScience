{
 "cells": [
  {
   "cell_type": "markdown",
   "metadata": {},
   "source": [
    "## Importación de librerías"
   ]
  },
  {
   "cell_type": "code",
   "execution_count": 1,
   "metadata": {},
   "outputs": [],
   "source": [
    "import numpy as np\n",
    "import pandas as pd\n",
    "import re\n",
    "import matplotlib.pyplot as plt\n",
    "import seaborn as sns"
   ]
  },
  {
   "cell_type": "markdown",
   "metadata": {},
   "source": [
    "## Cargo el dataset"
   ]
  },
  {
   "cell_type": "code",
   "execution_count": 2,
   "metadata": {
    "scrolled": false
   },
   "outputs": [],
   "source": [
    "data = pd.read_csv('../Data/properatti.csv',index_col=0)\n",
    "#data.head()"
   ]
  },
  {
   "cell_type": "markdown",
   "metadata": {},
   "source": [
    "## Valores Faltantes del dataset"
   ]
  },
  {
   "cell_type": "code",
   "execution_count": 3,
   "metadata": {
    "scrolled": true
   },
   "outputs": [
    {
     "data": {
      "text/plain": [
       "operation                          0\n",
       "property_type                      0\n",
       "place_name                        23\n",
       "place_with_parent_names            0\n",
       "country_name                       0\n",
       "state_name                         0\n",
       "geonames_id                    18717\n",
       "lat-lon                        51550\n",
       "lat                            51550\n",
       "lon                            51550\n",
       "price                          20410\n",
       "currency                       20411\n",
       "price_aprox_local_currency     20410\n",
       "price_aprox_usd                20410\n",
       "surface_total_in_m2            39328\n",
       "surface_covered_in_m2          19907\n",
       "price_usd_per_m2               52603\n",
       "price_per_m2                   33562\n",
       "floor                         113321\n",
       "rooms                          73830\n",
       "expenses                      106958\n",
       "properati_url                      0\n",
       "description                        2\n",
       "title                              0\n",
       "image_thumbnail                 3112\n",
       "dtype: int64"
      ]
     },
     "execution_count": 3,
     "metadata": {},
     "output_type": "execute_result"
    }
   ],
   "source": [
    "data.isnull().sum()"
   ]
  },
  {
   "cell_type": "code",
   "execution_count": 4,
   "metadata": {},
   "outputs": [
    {
     "data": {
      "text/html": [
       "<div>\n",
       "<style scoped>\n",
       "    .dataframe tbody tr th:only-of-type {\n",
       "        vertical-align: middle;\n",
       "    }\n",
       "\n",
       "    .dataframe tbody tr th {\n",
       "        vertical-align: top;\n",
       "    }\n",
       "\n",
       "    .dataframe thead th {\n",
       "        text-align: right;\n",
       "    }\n",
       "</style>\n",
       "<table border=\"1\" class=\"dataframe\">\n",
       "  <thead>\n",
       "    <tr style=\"text-align: right;\">\n",
       "      <th></th>\n",
       "      <th>price</th>\n",
       "      <th>currency</th>\n",
       "      <th>price_aprox_usd</th>\n",
       "      <th>price_usd_per_m2</th>\n",
       "      <th>rooms</th>\n",
       "      <th>floor</th>\n",
       "      <th>expenses</th>\n",
       "    </tr>\n",
       "  </thead>\n",
       "  <tbody>\n",
       "    <tr>\n",
       "      <th>10664</th>\n",
       "      <td>2350000.0</td>\n",
       "      <td>ARS</td>\n",
       "      <td>131796.64</td>\n",
       "      <td>NaN</td>\n",
       "      <td>NaN</td>\n",
       "      <td>NaN</td>\n",
       "      <td>NaN</td>\n",
       "    </tr>\n",
       "    <tr>\n",
       "      <th>96691</th>\n",
       "      <td>98000.0</td>\n",
       "      <td>USD</td>\n",
       "      <td>98000.00</td>\n",
       "      <td>NaN</td>\n",
       "      <td>NaN</td>\n",
       "      <td>NaN</td>\n",
       "      <td>NaN</td>\n",
       "    </tr>\n",
       "  </tbody>\n",
       "</table>\n",
       "</div>"
      ],
      "text/plain": [
       "           price currency  price_aprox_usd  price_usd_per_m2  rooms  floor  \\\n",
       "10664  2350000.0      ARS        131796.64               NaN    NaN    NaN   \n",
       "96691    98000.0      USD         98000.00               NaN    NaN    NaN   \n",
       "\n",
       "       expenses  \n",
       "10664       NaN  \n",
       "96691       NaN  "
      ]
     },
     "execution_count": 4,
     "metadata": {},
     "output_type": "execute_result"
    }
   ],
   "source": [
    "data.loc[data['description'].isna(),['price','currency','price_aprox_usd','price_usd_per_m2','rooms','floor','expenses']]"
   ]
  },
  {
   "cell_type": "code",
   "execution_count": 5,
   "metadata": {},
   "outputs": [
    {
     "data": {
      "text/plain": [
       "operation                          0\n",
       "property_type                      0\n",
       "place_name                        23\n",
       "place_with_parent_names            0\n",
       "country_name                       0\n",
       "state_name                         0\n",
       "geonames_id                    18717\n",
       "lat-lon                        51549\n",
       "lat                            51549\n",
       "lon                            51549\n",
       "price                          20410\n",
       "currency                       20411\n",
       "price_aprox_local_currency     20410\n",
       "price_aprox_usd                20410\n",
       "surface_total_in_m2            39326\n",
       "surface_covered_in_m2          19906\n",
       "price_usd_per_m2               52601\n",
       "price_per_m2                   33561\n",
       "floor                         113319\n",
       "rooms                          73828\n",
       "expenses                      106956\n",
       "properati_url                      0\n",
       "description                        0\n",
       "title                              0\n",
       "image_thumbnail                 3112\n",
       "dtype: int64"
      ]
     },
     "execution_count": 5,
     "metadata": {},
     "output_type": "execute_result"
    }
   ],
   "source": [
    "nodesc_index = data.loc[data['description'].isna()].index\n",
    "data.drop(index=nodesc_index,inplace=True)\n",
    "data.isna().sum()"
   ]
  },
  {
   "cell_type": "markdown",
   "metadata": {},
   "source": [
    "## Tipos de datos"
   ]
  },
  {
   "cell_type": "code",
   "execution_count": 6,
   "metadata": {
    "scrolled": true
   },
   "outputs": [
    {
     "data": {
      "text/plain": [
       "operation                      object\n",
       "property_type                  object\n",
       "place_name                     object\n",
       "place_with_parent_names        object\n",
       "country_name                   object\n",
       "state_name                     object\n",
       "geonames_id                   float64\n",
       "lat-lon                        object\n",
       "lat                           float64\n",
       "lon                           float64\n",
       "price                         float64\n",
       "currency                       object\n",
       "price_aprox_local_currency    float64\n",
       "price_aprox_usd               float64\n",
       "surface_total_in_m2           float64\n",
       "surface_covered_in_m2         float64\n",
       "price_usd_per_m2              float64\n",
       "price_per_m2                  float64\n",
       "floor                         float64\n",
       "rooms                         float64\n",
       "expenses                      float64\n",
       "properati_url                  object\n",
       "description                    object\n",
       "title                          object\n",
       "image_thumbnail                object\n",
       "dtype: object"
      ]
     },
     "execution_count": 6,
     "metadata": {},
     "output_type": "execute_result"
    }
   ],
   "source": [
    "data.dtypes"
   ]
  },
  {
   "cell_type": "markdown",
   "metadata": {},
   "source": [
    "# Columna Currency\n",
    "\n",
    "¿La moneda de publicación es pesos argentinos y dólares? ¿O hay otra?"
   ]
  },
  {
   "cell_type": "code",
   "execution_count": 7,
   "metadata": {
    "scrolled": false
   },
   "outputs": [
    {
     "data": {
      "text/plain": [
       "USD    87586\n",
       "ARS    13218\n",
       "PEN        2\n",
       "UYU        1\n",
       "Name: currency, dtype: int64"
      ]
     },
     "execution_count": 7,
     "metadata": {},
     "output_type": "execute_result"
    }
   ],
   "source": [
    "data['currency'].value_counts()"
   ]
  },
  {
   "cell_type": "markdown",
   "metadata": {},
   "source": [
    "Las publicaciones en Sol Peruano y Peso Uruguayo se deberán pasar a dólares."
   ]
  },
  {
   "cell_type": "markdown",
   "metadata": {},
   "source": [
    "### Tipo de Cambio (conversión de pesos a dolares y viceversa)"
   ]
  },
  {
   "cell_type": "code",
   "execution_count": 8,
   "metadata": {},
   "outputs": [
    {
     "data": {
      "text/html": [
       "<div>\n",
       "<style scoped>\n",
       "    .dataframe tbody tr th:only-of-type {\n",
       "        vertical-align: middle;\n",
       "    }\n",
       "\n",
       "    .dataframe tbody tr th {\n",
       "        vertical-align: top;\n",
       "    }\n",
       "\n",
       "    .dataframe thead th {\n",
       "        text-align: right;\n",
       "    }\n",
       "</style>\n",
       "<table border=\"1\" class=\"dataframe\">\n",
       "  <thead>\n",
       "    <tr style=\"text-align: right;\">\n",
       "      <th></th>\n",
       "      <th>price</th>\n",
       "      <th>price_aprox_local_currency</th>\n",
       "      <th>price_aprox_usd</th>\n",
       "    </tr>\n",
       "  </thead>\n",
       "  <tbody>\n",
       "    <tr>\n",
       "      <th>0</th>\n",
       "      <td>62000.0</td>\n",
       "      <td>1093959.0</td>\n",
       "      <td>62000.0</td>\n",
       "    </tr>\n",
       "    <tr>\n",
       "      <th>1</th>\n",
       "      <td>150000.0</td>\n",
       "      <td>2646675.0</td>\n",
       "      <td>150000.0</td>\n",
       "    </tr>\n",
       "    <tr>\n",
       "      <th>2</th>\n",
       "      <td>72000.0</td>\n",
       "      <td>1270404.0</td>\n",
       "      <td>72000.0</td>\n",
       "    </tr>\n",
       "    <tr>\n",
       "      <th>3</th>\n",
       "      <td>95000.0</td>\n",
       "      <td>1676227.5</td>\n",
       "      <td>95000.0</td>\n",
       "    </tr>\n",
       "    <tr>\n",
       "      <th>4</th>\n",
       "      <td>64000.0</td>\n",
       "      <td>1129248.0</td>\n",
       "      <td>64000.0</td>\n",
       "    </tr>\n",
       "  </tbody>\n",
       "</table>\n",
       "</div>"
      ],
      "text/plain": [
       "      price  price_aprox_local_currency  price_aprox_usd\n",
       "0   62000.0                   1093959.0          62000.0\n",
       "1  150000.0                   2646675.0         150000.0\n",
       "2   72000.0                   1270404.0          72000.0\n",
       "3   95000.0                   1676227.5          95000.0\n",
       "4   64000.0                   1129248.0          64000.0"
      ]
     },
     "execution_count": 8,
     "metadata": {},
     "output_type": "execute_result"
    }
   ],
   "source": [
    "data['currency']==\"USD\"\n",
    "data_USD= data.loc[data['currency']==\"USD\", [\"price\", \"price_aprox_local_currency\",\"price_aprox_usd\"]]\n",
    "data_USD.head(5)"
   ]
  },
  {
   "cell_type": "code",
   "execution_count": 9,
   "metadata": {},
   "outputs": [
    {
     "data": {
      "text/plain": [
       "array([17.6445])"
      ]
     },
     "execution_count": 9,
     "metadata": {},
     "output_type": "execute_result"
    }
   ],
   "source": [
    "y=data_USD[\"price_aprox_local_currency\"]/data_USD['price_aprox_usd']\n",
    "y=y.round(decimals=4)\n",
    "y.unique()"
   ]
  },
  {
   "cell_type": "markdown",
   "metadata": {},
   "source": [
    "1 dolar = 17.6445 pesos argentinos. (A este precio, yo compro!)"
   ]
  },
  {
   "cell_type": "code",
   "execution_count": 10,
   "metadata": {},
   "outputs": [],
   "source": [
    "#cambio_dolar_a_peso = 17.6445\n",
    "def dolar_a_peso(price_usd):\n",
    "    #return round(price_usd*17.6445,2)\n",
    "    return price_usd*17.6445\n",
    "def peso_a_dolar(price_ars):\n",
    "    #return round(price_ars/17.6445,2)\n",
    "    return price_ars/17.6445"
   ]
  },
  {
   "cell_type": "markdown",
   "metadata": {},
   "source": [
    "Las filas donde falta el precio en pesos, tambien falta el precio en dólares:"
   ]
  },
  {
   "cell_type": "code",
   "execution_count": 11,
   "metadata": {
    "scrolled": true
   },
   "outputs": [
    {
     "data": {
      "text/plain": [
       "(20410, 25)"
      ]
     },
     "execution_count": 11,
     "metadata": {},
     "output_type": "execute_result"
    }
   ],
   "source": [
    "data.loc[(data['price_aprox_local_currency'].isna())&(data['price_aprox_usd'].isna())].shape"
   ]
  },
  {
   "cell_type": "code",
   "execution_count": 12,
   "metadata": {},
   "outputs": [],
   "source": [
    "# data.loc[(data['price'].notnull())&(data['currency'].notnull())&(data['currency']=='ARS')&(data['price']!=data['price_aprox_local_currency']),['price','currency','price_aprox_local_currency','price_aprox_usd']].head(10)"
   ]
  },
  {
   "cell_type": "markdown",
   "metadata": {},
   "source": [
    "# Precio por metro cuadrado"
   ]
  },
  {
   "cell_type": "markdown",
   "metadata": {},
   "source": [
    "En cuanto al metro cuadrado, solo en 28295 filas falta el valor de ambos. Podemos calcular el valor del precio por metro cuadrado de una columna a partir de la otra."
   ]
  },
  {
   "cell_type": "code",
   "execution_count": 13,
   "metadata": {},
   "outputs": [
    {
     "data": {
      "text/plain": [
       "(28294, 25)"
      ]
     },
     "execution_count": 13,
     "metadata": {},
     "output_type": "execute_result"
    }
   ],
   "source": [
    "data.loc[(data['price_usd_per_m2'].isna())&(data['price_per_m2'].isna())].shape"
   ]
  },
  {
   "cell_type": "code",
   "execution_count": 14,
   "metadata": {},
   "outputs": [
    {
     "data": {
      "text/html": [
       "<div>\n",
       "<style scoped>\n",
       "    .dataframe tbody tr th:only-of-type {\n",
       "        vertical-align: middle;\n",
       "    }\n",
       "\n",
       "    .dataframe tbody tr th {\n",
       "        vertical-align: top;\n",
       "    }\n",
       "\n",
       "    .dataframe thead th {\n",
       "        text-align: right;\n",
       "    }\n",
       "</style>\n",
       "<table border=\"1\" class=\"dataframe\">\n",
       "  <thead>\n",
       "    <tr style=\"text-align: right;\">\n",
       "      <th></th>\n",
       "      <th>currency</th>\n",
       "      <th>price_aprox_local_currency</th>\n",
       "      <th>price</th>\n",
       "      <th>surface_covered_in_m2</th>\n",
       "      <th>price_per_m2</th>\n",
       "      <th>price_aprox_usd</th>\n",
       "      <th>surface_total_in_m2</th>\n",
       "      <th>price_usd_per_m2</th>\n",
       "    </tr>\n",
       "  </thead>\n",
       "  <tbody>\n",
       "    <tr>\n",
       "      <th>0</th>\n",
       "      <td>USD</td>\n",
       "      <td>1093959.0</td>\n",
       "      <td>62000.0</td>\n",
       "      <td>40.0</td>\n",
       "      <td>1550.000000</td>\n",
       "      <td>62000.0</td>\n",
       "      <td>55.0</td>\n",
       "      <td>1127.272727</td>\n",
       "    </tr>\n",
       "    <tr>\n",
       "      <th>1</th>\n",
       "      <td>USD</td>\n",
       "      <td>2646675.0</td>\n",
       "      <td>150000.0</td>\n",
       "      <td>NaN</td>\n",
       "      <td>NaN</td>\n",
       "      <td>150000.0</td>\n",
       "      <td>NaN</td>\n",
       "      <td>NaN</td>\n",
       "    </tr>\n",
       "    <tr>\n",
       "      <th>2</th>\n",
       "      <td>USD</td>\n",
       "      <td>1270404.0</td>\n",
       "      <td>72000.0</td>\n",
       "      <td>55.0</td>\n",
       "      <td>1309.090909</td>\n",
       "      <td>72000.0</td>\n",
       "      <td>55.0</td>\n",
       "      <td>1309.090909</td>\n",
       "    </tr>\n",
       "    <tr>\n",
       "      <th>3</th>\n",
       "      <td>USD</td>\n",
       "      <td>1676227.5</td>\n",
       "      <td>95000.0</td>\n",
       "      <td>NaN</td>\n",
       "      <td>NaN</td>\n",
       "      <td>95000.0</td>\n",
       "      <td>NaN</td>\n",
       "      <td>NaN</td>\n",
       "    </tr>\n",
       "    <tr>\n",
       "      <th>4</th>\n",
       "      <td>USD</td>\n",
       "      <td>1129248.0</td>\n",
       "      <td>64000.0</td>\n",
       "      <td>35.0</td>\n",
       "      <td>1828.571429</td>\n",
       "      <td>64000.0</td>\n",
       "      <td>35.0</td>\n",
       "      <td>1828.571429</td>\n",
       "    </tr>\n",
       "    <tr>\n",
       "      <th>6</th>\n",
       "      <td>USD</td>\n",
       "      <td>2293785.0</td>\n",
       "      <td>130000.0</td>\n",
       "      <td>78.0</td>\n",
       "      <td>1666.666667</td>\n",
       "      <td>130000.0</td>\n",
       "      <td>106.0</td>\n",
       "      <td>1226.415094</td>\n",
       "    </tr>\n",
       "    <tr>\n",
       "      <th>7</th>\n",
       "      <td>USD</td>\n",
       "      <td>2434941.0</td>\n",
       "      <td>138000.0</td>\n",
       "      <td>40.0</td>\n",
       "      <td>3450.000000</td>\n",
       "      <td>138000.0</td>\n",
       "      <td>45.0</td>\n",
       "      <td>3066.666667</td>\n",
       "    </tr>\n",
       "    <tr>\n",
       "      <th>8</th>\n",
       "      <td>USD</td>\n",
       "      <td>3440677.5</td>\n",
       "      <td>195000.0</td>\n",
       "      <td>60.0</td>\n",
       "      <td>3250.000000</td>\n",
       "      <td>195000.0</td>\n",
       "      <td>65.0</td>\n",
       "      <td>3000.000000</td>\n",
       "    </tr>\n",
       "    <tr>\n",
       "      <th>10</th>\n",
       "      <td>USD</td>\n",
       "      <td>1235115.0</td>\n",
       "      <td>70000.0</td>\n",
       "      <td>NaN</td>\n",
       "      <td>NaN</td>\n",
       "      <td>70000.0</td>\n",
       "      <td>1514.0</td>\n",
       "      <td>46.235139</td>\n",
       "    </tr>\n",
       "    <tr>\n",
       "      <th>11</th>\n",
       "      <td>USD</td>\n",
       "      <td>2646675.0</td>\n",
       "      <td>150000.0</td>\n",
       "      <td>NaN</td>\n",
       "      <td>NaN</td>\n",
       "      <td>150000.0</td>\n",
       "      <td>NaN</td>\n",
       "      <td>NaN</td>\n",
       "    </tr>\n",
       "  </tbody>\n",
       "</table>\n",
       "</div>"
      ],
      "text/plain": [
       "   currency  price_aprox_local_currency     price  surface_covered_in_m2  \\\n",
       "0       USD                   1093959.0   62000.0                   40.0   \n",
       "1       USD                   2646675.0  150000.0                    NaN   \n",
       "2       USD                   1270404.0   72000.0                   55.0   \n",
       "3       USD                   1676227.5   95000.0                    NaN   \n",
       "4       USD                   1129248.0   64000.0                   35.0   \n",
       "6       USD                   2293785.0  130000.0                   78.0   \n",
       "7       USD                   2434941.0  138000.0                   40.0   \n",
       "8       USD                   3440677.5  195000.0                   60.0   \n",
       "10      USD                   1235115.0   70000.0                    NaN   \n",
       "11      USD                   2646675.0  150000.0                    NaN   \n",
       "\n",
       "    price_per_m2  price_aprox_usd  surface_total_in_m2  price_usd_per_m2  \n",
       "0    1550.000000          62000.0                 55.0       1127.272727  \n",
       "1            NaN         150000.0                  NaN               NaN  \n",
       "2    1309.090909          72000.0                 55.0       1309.090909  \n",
       "3            NaN          95000.0                  NaN               NaN  \n",
       "4    1828.571429          64000.0                 35.0       1828.571429  \n",
       "6    1666.666667         130000.0                106.0       1226.415094  \n",
       "7    3450.000000         138000.0                 45.0       3066.666667  \n",
       "8    3250.000000         195000.0                 65.0       3000.000000  \n",
       "10           NaN          70000.0               1514.0         46.235139  \n",
       "11           NaN         150000.0                  NaN               NaN  "
      ]
     },
     "execution_count": 14,
     "metadata": {},
     "output_type": "execute_result"
    }
   ],
   "source": [
    "data.loc[(data['currency']=='USD'),['currency','price_aprox_local_currency','price','surface_covered_in_m2','price_per_m2',\\\n",
    "                                   'price_aprox_usd','surface_total_in_m2','price_usd_per_m2']].head(10)"
   ]
  },
  {
   "cell_type": "code",
   "execution_count": 15,
   "metadata": {},
   "outputs": [
    {
     "data": {
      "text/html": [
       "<div>\n",
       "<style scoped>\n",
       "    .dataframe tbody tr th:only-of-type {\n",
       "        vertical-align: middle;\n",
       "    }\n",
       "\n",
       "    .dataframe tbody tr th {\n",
       "        vertical-align: top;\n",
       "    }\n",
       "\n",
       "    .dataframe thead th {\n",
       "        text-align: right;\n",
       "    }\n",
       "</style>\n",
       "<table border=\"1\" class=\"dataframe\">\n",
       "  <thead>\n",
       "    <tr style=\"text-align: right;\">\n",
       "      <th></th>\n",
       "      <th>currency</th>\n",
       "      <th>price_aprox_local_currency</th>\n",
       "      <th>price</th>\n",
       "      <th>surface_covered_in_m2</th>\n",
       "      <th>price_per_m2</th>\n",
       "      <th>price_aprox_usd</th>\n",
       "      <th>surface_total_in_m2</th>\n",
       "      <th>price_usd_per_m2</th>\n",
       "    </tr>\n",
       "  </thead>\n",
       "  <tbody>\n",
       "    <tr>\n",
       "      <th>9</th>\n",
       "      <td>ARS</td>\n",
       "      <td>455201.45</td>\n",
       "      <td>460000.0</td>\n",
       "      <td>NaN</td>\n",
       "      <td>NaN</td>\n",
       "      <td>25798.49</td>\n",
       "      <td>NaN</td>\n",
       "      <td>NaN</td>\n",
       "    </tr>\n",
       "    <tr>\n",
       "      <th>32</th>\n",
       "      <td>ARS</td>\n",
       "      <td>544262.59</td>\n",
       "      <td>550000.0</td>\n",
       "      <td>50.0</td>\n",
       "      <td>11000.000000</td>\n",
       "      <td>30846.02</td>\n",
       "      <td>50.0</td>\n",
       "      <td>616.920400</td>\n",
       "    </tr>\n",
       "    <tr>\n",
       "      <th>37</th>\n",
       "      <td>ARS</td>\n",
       "      <td>1236960.43</td>\n",
       "      <td>1250000.0</td>\n",
       "      <td>75.0</td>\n",
       "      <td>16666.666667</td>\n",
       "      <td>70104.59</td>\n",
       "      <td>75.0</td>\n",
       "      <td>934.727867</td>\n",
       "    </tr>\n",
       "    <tr>\n",
       "      <th>78</th>\n",
       "      <td>ARS</td>\n",
       "      <td>5442626.35</td>\n",
       "      <td>5500000.0</td>\n",
       "      <td>18615.0</td>\n",
       "      <td>295.460650</td>\n",
       "      <td>308460.22</td>\n",
       "      <td>261.0</td>\n",
       "      <td>1181.839923</td>\n",
       "    </tr>\n",
       "    <tr>\n",
       "      <th>97</th>\n",
       "      <td>ARS</td>\n",
       "      <td>1408947.37</td>\n",
       "      <td>1423800.0</td>\n",
       "      <td>NaN</td>\n",
       "      <td>NaN</td>\n",
       "      <td>79851.93</td>\n",
       "      <td>NaN</td>\n",
       "      <td>NaN</td>\n",
       "    </tr>\n",
       "    <tr>\n",
       "      <th>99</th>\n",
       "      <td>ARS</td>\n",
       "      <td>841133.07</td>\n",
       "      <td>850000.0</td>\n",
       "      <td>180.0</td>\n",
       "      <td>4722.222222</td>\n",
       "      <td>47671.12</td>\n",
       "      <td>200.0</td>\n",
       "      <td>238.355600</td>\n",
       "    </tr>\n",
       "    <tr>\n",
       "      <th>122</th>\n",
       "      <td>ARS</td>\n",
       "      <td>2572877.76</td>\n",
       "      <td>2600000.0</td>\n",
       "      <td>188.0</td>\n",
       "      <td>13829.787234</td>\n",
       "      <td>145817.55</td>\n",
       "      <td>344.0</td>\n",
       "      <td>423.888227</td>\n",
       "    </tr>\n",
       "    <tr>\n",
       "      <th>128</th>\n",
       "      <td>ARS</td>\n",
       "      <td>1236960.43</td>\n",
       "      <td>1250000.0</td>\n",
       "      <td>66.0</td>\n",
       "      <td>18939.393939</td>\n",
       "      <td>70104.59</td>\n",
       "      <td>129.0</td>\n",
       "      <td>543.446434</td>\n",
       "    </tr>\n",
       "    <tr>\n",
       "      <th>130</th>\n",
       "      <td>ARS</td>\n",
       "      <td>1099520.36</td>\n",
       "      <td>1111111.0</td>\n",
       "      <td>222.0</td>\n",
       "      <td>5005.004505</td>\n",
       "      <td>62315.19</td>\n",
       "      <td>328.0</td>\n",
       "      <td>189.985335</td>\n",
       "    </tr>\n",
       "    <tr>\n",
       "      <th>154</th>\n",
       "      <td>ARS</td>\n",
       "      <td>1187482.08</td>\n",
       "      <td>1200000.0</td>\n",
       "      <td>40.0</td>\n",
       "      <td>30000.000000</td>\n",
       "      <td>67300.41</td>\n",
       "      <td>NaN</td>\n",
       "      <td>NaN</td>\n",
       "    </tr>\n",
       "  </tbody>\n",
       "</table>\n",
       "</div>"
      ],
      "text/plain": [
       "    currency  price_aprox_local_currency      price  surface_covered_in_m2  \\\n",
       "9        ARS                   455201.45   460000.0                    NaN   \n",
       "32       ARS                   544262.59   550000.0                   50.0   \n",
       "37       ARS                  1236960.43  1250000.0                   75.0   \n",
       "78       ARS                  5442626.35  5500000.0                18615.0   \n",
       "97       ARS                  1408947.37  1423800.0                    NaN   \n",
       "99       ARS                   841133.07   850000.0                  180.0   \n",
       "122      ARS                  2572877.76  2600000.0                  188.0   \n",
       "128      ARS                  1236960.43  1250000.0                   66.0   \n",
       "130      ARS                  1099520.36  1111111.0                  222.0   \n",
       "154      ARS                  1187482.08  1200000.0                   40.0   \n",
       "\n",
       "     price_per_m2  price_aprox_usd  surface_total_in_m2  price_usd_per_m2  \n",
       "9             NaN         25798.49                  NaN               NaN  \n",
       "32   11000.000000         30846.02                 50.0        616.920400  \n",
       "37   16666.666667         70104.59                 75.0        934.727867  \n",
       "78     295.460650        308460.22                261.0       1181.839923  \n",
       "97            NaN         79851.93                  NaN               NaN  \n",
       "99    4722.222222         47671.12                200.0        238.355600  \n",
       "122  13829.787234        145817.55                344.0        423.888227  \n",
       "128  18939.393939         70104.59                129.0        543.446434  \n",
       "130   5005.004505         62315.19                328.0        189.985335  \n",
       "154  30000.000000         67300.41                  NaN               NaN  "
      ]
     },
     "execution_count": 15,
     "metadata": {},
     "output_type": "execute_result"
    }
   ],
   "source": [
    "data.loc[(data['currency']=='ARS'),['currency','price_aprox_local_currency','price','surface_covered_in_m2','price_per_m2',\\\n",
    "                                   'price_aprox_usd','surface_total_in_m2','price_usd_per_m2']].head(10)"
   ]
  },
  {
   "cell_type": "markdown",
   "metadata": {},
   "source": [
    "$price\\_usd\\_per\\_m2 = \\frac{price\\_aprox\\_usd}{surface\\_total\\_in\\_m2}$\n",
    "\n",
    "$price\\_per\\_m2 = \\frac{price}{surface\\_covered\\_in\\_m2}$\n",
    "\n",
    "El problema se da que a veces la superficie total es menor que la superficie cubierta. Por lo tanto, se decidió dropear estas 1106 filas."
   ]
  },
  {
   "cell_type": "code",
   "execution_count": 16,
   "metadata": {},
   "outputs": [
    {
     "data": {
      "text/html": [
       "<div>\n",
       "<style scoped>\n",
       "    .dataframe tbody tr th:only-of-type {\n",
       "        vertical-align: middle;\n",
       "    }\n",
       "\n",
       "    .dataframe tbody tr th {\n",
       "        vertical-align: top;\n",
       "    }\n",
       "\n",
       "    .dataframe thead th {\n",
       "        text-align: right;\n",
       "    }\n",
       "</style>\n",
       "<table border=\"1\" class=\"dataframe\">\n",
       "  <thead>\n",
       "    <tr style=\"text-align: right;\">\n",
       "      <th></th>\n",
       "      <th>operation</th>\n",
       "      <th>property_type</th>\n",
       "      <th>place_name</th>\n",
       "      <th>place_with_parent_names</th>\n",
       "      <th>country_name</th>\n",
       "      <th>state_name</th>\n",
       "      <th>geonames_id</th>\n",
       "      <th>lat-lon</th>\n",
       "      <th>lat</th>\n",
       "      <th>lon</th>\n",
       "      <th>...</th>\n",
       "      <th>surface_covered_in_m2</th>\n",
       "      <th>price_usd_per_m2</th>\n",
       "      <th>price_per_m2</th>\n",
       "      <th>floor</th>\n",
       "      <th>rooms</th>\n",
       "      <th>expenses</th>\n",
       "      <th>properati_url</th>\n",
       "      <th>description</th>\n",
       "      <th>title</th>\n",
       "      <th>image_thumbnail</th>\n",
       "    </tr>\n",
       "  </thead>\n",
       "  <tbody>\n",
       "    <tr>\n",
       "      <th>78</th>\n",
       "      <td>sell</td>\n",
       "      <td>house</td>\n",
       "      <td>Posadas</td>\n",
       "      <td>|Argentina|Misiones|Posadas|</td>\n",
       "      <td>Argentina</td>\n",
       "      <td>Misiones</td>\n",
       "      <td>3429886.0</td>\n",
       "      <td>-27.3554665957,-55.9021115026</td>\n",
       "      <td>-27.355467</td>\n",
       "      <td>-55.902112</td>\n",
       "      <td>...</td>\n",
       "      <td>18615.0</td>\n",
       "      <td>1181.839923</td>\n",
       "      <td>295.460650</td>\n",
       "      <td>NaN</td>\n",
       "      <td>5.0</td>\n",
       "      <td>NaN</td>\n",
       "      <td>http://www.properati.com.ar/15byn_venta_casa_p...</td>\n",
       "      <td>S/AVDA   COSTANERA ,  NUEVA  ZONA GASTRONOMICA...</td>\n",
       "      <td>Oportunidad! Casa zona Bahía el Brete</td>\n",
       "      <td>https://thumbs4.properati.com/2/18AMH0DDp4Xboq...</td>\n",
       "    </tr>\n",
       "    <tr>\n",
       "      <th>177</th>\n",
       "      <td>sell</td>\n",
       "      <td>apartment</td>\n",
       "      <td>Villa Carlos Paz</td>\n",
       "      <td>|Argentina|Córdoba|Villa Carlos Paz|</td>\n",
       "      <td>Argentina</td>\n",
       "      <td>Córdoba</td>\n",
       "      <td>3832791.0</td>\n",
       "      <td>-31.4200736,-64.4947113</td>\n",
       "      <td>-31.420074</td>\n",
       "      <td>-64.494711</td>\n",
       "      <td>...</td>\n",
       "      <td>450.0</td>\n",
       "      <td>1119.047619</td>\n",
       "      <td>1044.444444</td>\n",
       "      <td>NaN</td>\n",
       "      <td>9.0</td>\n",
       "      <td>NaN</td>\n",
       "      <td>http://www.properati.com.ar/15dcr_venta_depart...</td>\n",
       "      <td>CASA PRINCIPAL QUE CONSTA DE 3 DORM,.AMPLIOS,2...</td>\n",
       "      <td>SE VENDE VIVIENDA+LOCALES COMERCIALES+DPTOS</td>\n",
       "      <td>https://thumbs4.properati.com/1/8CEW3VYy-qcIXl...</td>\n",
       "    </tr>\n",
       "    <tr>\n",
       "      <th>316</th>\n",
       "      <td>sell</td>\n",
       "      <td>house</td>\n",
       "      <td>Capital Federal</td>\n",
       "      <td>|Argentina|Capital Federal|</td>\n",
       "      <td>Argentina</td>\n",
       "      <td>Capital Federal</td>\n",
       "      <td>3433955.0</td>\n",
       "      <td>NaN</td>\n",
       "      <td>NaN</td>\n",
       "      <td>NaN</td>\n",
       "      <td>...</td>\n",
       "      <td>156.0</td>\n",
       "      <td>3440.000000</td>\n",
       "      <td>2756.410256</td>\n",
       "      <td>NaN</td>\n",
       "      <td>NaN</td>\n",
       "      <td>NaN</td>\n",
       "      <td>http://www.properati.com.ar/15e1h_venta_casa_b...</td>\n",
       "      <td>Buena ubicaciÃ³n. Muy buen acceso. Lezica esq....</td>\n",
       "      <td>Casa 125m² con 3 Plantas en Lezica, Martín 300...</td>\n",
       "      <td>https://thumbs4.properati.com/2/9uEFg6nWxNPZnS...</td>\n",
       "    </tr>\n",
       "    <tr>\n",
       "      <th>317</th>\n",
       "      <td>sell</td>\n",
       "      <td>house</td>\n",
       "      <td>Capital Federal</td>\n",
       "      <td>|Argentina|Capital Federal|</td>\n",
       "      <td>Argentina</td>\n",
       "      <td>Capital Federal</td>\n",
       "      <td>3433955.0</td>\n",
       "      <td>NaN</td>\n",
       "      <td>NaN</td>\n",
       "      <td>NaN</td>\n",
       "      <td>...</td>\n",
       "      <td>156.0</td>\n",
       "      <td>3440.000000</td>\n",
       "      <td>2756.410256</td>\n",
       "      <td>NaN</td>\n",
       "      <td>NaN</td>\n",
       "      <td>NaN</td>\n",
       "      <td>http://www.properati.com.ar/15e1i_venta_casa_b...</td>\n",
       "      <td>Buena ubicaciÃ³n. Muy buen acceso. Lezica esq....</td>\n",
       "      <td>Casa 125m² con 3 Plantas en Lezica, Martín 300...</td>\n",
       "      <td>https://thumbs4.properati.com/8/ebEGvg4mGT9rsd...</td>\n",
       "    </tr>\n",
       "    <tr>\n",
       "      <th>455</th>\n",
       "      <td>sell</td>\n",
       "      <td>house</td>\n",
       "      <td>Mar del Plata</td>\n",
       "      <td>|Argentina|Buenos Aires Costa Atlántica|Mar de...</td>\n",
       "      <td>Argentina</td>\n",
       "      <td>Buenos Aires Costa Atlántica</td>\n",
       "      <td>3430863.0</td>\n",
       "      <td>-37.9638994,-57.5790314</td>\n",
       "      <td>-37.963899</td>\n",
       "      <td>-57.579031</td>\n",
       "      <td>...</td>\n",
       "      <td>430.0</td>\n",
       "      <td>700.000000</td>\n",
       "      <td>276.744186</td>\n",
       "      <td>NaN</td>\n",
       "      <td>4.0</td>\n",
       "      <td>NaN</td>\n",
       "      <td>http://www.properati.com.ar/15en5_venta_casa_m...</td>\n",
       "      <td>CHALET TOTALMENTE DESARROLLADO EN PLANTA BAJA ...</td>\n",
       "      <td>chalet 4 ambientes apto credito</td>\n",
       "      <td>https://thumbs4.properati.com/0/PTEiHyUdNIhOGb...</td>\n",
       "    </tr>\n",
       "    <tr>\n",
       "      <th>668</th>\n",
       "      <td>sell</td>\n",
       "      <td>house</td>\n",
       "      <td>Mar del Plata</td>\n",
       "      <td>|Argentina|Buenos Aires Costa Atlántica|Mar de...</td>\n",
       "      <td>Argentina</td>\n",
       "      <td>Buenos Aires Costa Atlántica</td>\n",
       "      <td>3430863.0</td>\n",
       "      <td>-38.0332566,-57.5832814</td>\n",
       "      <td>-38.033257</td>\n",
       "      <td>-57.583281</td>\n",
       "      <td>...</td>\n",
       "      <td>230.0</td>\n",
       "      <td>611.111111</td>\n",
       "      <td>478.260870</td>\n",
       "      <td>NaN</td>\n",
       "      <td>5.0</td>\n",
       "      <td>NaN</td>\n",
       "      <td>http://www.properati.com.ar/15fkx_venta_casa_m...</td>\n",
       "      <td>Chalet  tres ambientes, dos dormitorios cómodo...</td>\n",
       "      <td>ICIAR PROPIEDADES VENDE</td>\n",
       "      <td>https://thumbs4.properati.com/5/Q4bg5beL_K5Buf...</td>\n",
       "    </tr>\n",
       "    <tr>\n",
       "      <th>918</th>\n",
       "      <td>sell</td>\n",
       "      <td>apartment</td>\n",
       "      <td>Ramos Mejía</td>\n",
       "      <td>|Argentina|Bs.As. G.B.A. Zona Oeste|La Matanza...</td>\n",
       "      <td>Argentina</td>\n",
       "      <td>Bs.As. G.B.A. Zona Oeste</td>\n",
       "      <td>3429617.0</td>\n",
       "      <td>-34.641643,-58.569894</td>\n",
       "      <td>-34.641643</td>\n",
       "      <td>-58.569894</td>\n",
       "      <td>...</td>\n",
       "      <td>65.0</td>\n",
       "      <td>2500.000000</td>\n",
       "      <td>2307.692308</td>\n",
       "      <td>NaN</td>\n",
       "      <td>NaN</td>\n",
       "      <td>NaN</td>\n",
       "      <td>http://www.properati.com.ar/15gk7_venta_depart...</td>\n",
       "      <td>Excelente departamento de 3 ambientes al frent...</td>\n",
       "      <td>Departamento 3 ambientes con cochera cubierta</td>\n",
       "      <td>https://thumbs4.properati.com/3/iBgMU83MW1y6Gp...</td>\n",
       "    </tr>\n",
       "    <tr>\n",
       "      <th>1397</th>\n",
       "      <td>sell</td>\n",
       "      <td>apartment</td>\n",
       "      <td>Balvanera</td>\n",
       "      <td>|Argentina|Capital Federal|Balvanera|</td>\n",
       "      <td>Argentina</td>\n",
       "      <td>Capital Federal</td>\n",
       "      <td>6693228.0</td>\n",
       "      <td>-34.6031328142,-58.3946243302</td>\n",
       "      <td>-34.603133</td>\n",
       "      <td>-58.394624</td>\n",
       "      <td>...</td>\n",
       "      <td>89.0</td>\n",
       "      <td>1850.000000</td>\n",
       "      <td>1662.921348</td>\n",
       "      <td>NaN</td>\n",
       "      <td>NaN</td>\n",
       "      <td>NaN</td>\n",
       "      <td>http://www.properati.com.ar/15i72_venta_depart...</td>\n",
       "      <td>CODIGO:  ubicado en: Lavalle 1900 -  Publicado...</td>\n",
       "      <td>Balvanera - departamento 4 ambientes</td>\n",
       "      <td>https://thumbs4.properati.com/0/_CQBVFXnkybCx7...</td>\n",
       "    </tr>\n",
       "    <tr>\n",
       "      <th>1598</th>\n",
       "      <td>sell</td>\n",
       "      <td>house</td>\n",
       "      <td>Rosario</td>\n",
       "      <td>|Argentina|Santa Fe|Rosario|</td>\n",
       "      <td>Argentina</td>\n",
       "      <td>Santa Fe</td>\n",
       "      <td>3838574.0</td>\n",
       "      <td>-32.9591153641,-60.6792491653</td>\n",
       "      <td>-32.959115</td>\n",
       "      <td>-60.679249</td>\n",
       "      <td>...</td>\n",
       "      <td>105.0</td>\n",
       "      <td>1111.111111</td>\n",
       "      <td>952.380952</td>\n",
       "      <td>NaN</td>\n",
       "      <td>5.0</td>\n",
       "      <td>NaN</td>\n",
       "      <td>http://www.properati.com.ar/15iut_venta_casa_r...</td>\n",
       "      <td>Bogado Gaspar - Futura Negocios Inmobiliarios ...</td>\n",
       "      <td>VIAMONTE 3781 - ROSARIO</td>\n",
       "      <td>https://thumbs4.properati.com/8/HtbqH11vfFd6w6...</td>\n",
       "    </tr>\n",
       "    <tr>\n",
       "      <th>1690</th>\n",
       "      <td>sell</td>\n",
       "      <td>house</td>\n",
       "      <td>Ituzaingó</td>\n",
       "      <td>|Argentina|Bs.As. G.B.A. Zona Oeste|Ituzaingó|</td>\n",
       "      <td>Argentina</td>\n",
       "      <td>Bs.As. G.B.A. Zona Oeste</td>\n",
       "      <td>3433359.0</td>\n",
       "      <td>-34.67317581,-58.67146683</td>\n",
       "      <td>-34.673176</td>\n",
       "      <td>-58.671467</td>\n",
       "      <td>...</td>\n",
       "      <td>230.0</td>\n",
       "      <td>NaN</td>\n",
       "      <td>NaN</td>\n",
       "      <td>NaN</td>\n",
       "      <td>2.0</td>\n",
       "      <td>NaN</td>\n",
       "      <td>http://www.properati.com.ar/15j9o_venta_casa_i...</td>\n",
       "      <td>CONSULTE POR EL CÓDIGO:2279ZONA: Ituzaingó sur...</td>\n",
       "      <td>U$D 110.000 - Casa en Venta -</td>\n",
       "      <td>https://thumbs4.properati.com/9/55GBlWjsA38zc2...</td>\n",
       "    </tr>\n",
       "    <tr>\n",
       "      <th>1696</th>\n",
       "      <td>sell</td>\n",
       "      <td>house</td>\n",
       "      <td>Los Pingüinos Country Club</td>\n",
       "      <td>|Argentina|Bs.As. G.B.A. Zona Oeste|Ituzaingó|...</td>\n",
       "      <td>Argentina</td>\n",
       "      <td>Bs.As. G.B.A. Zona Oeste</td>\n",
       "      <td>NaN</td>\n",
       "      <td>-34.63765335,-58.68823624</td>\n",
       "      <td>-34.637653</td>\n",
       "      <td>-58.688236</td>\n",
       "      <td>...</td>\n",
       "      <td>24.0</td>\n",
       "      <td>NaN</td>\n",
       "      <td>NaN</td>\n",
       "      <td>NaN</td>\n",
       "      <td>1.0</td>\n",
       "      <td>NaN</td>\n",
       "      <td>http://www.properati.com.ar/15j9v_venta_casa_l...</td>\n",
       "      <td>MONOAMBIENTE EN ALQUILERMonoambiente con cocin...</td>\n",
       "      <td>$ 4.500 - Casa en Venta - Zarate     2575</td>\n",
       "      <td>https://thumbs4.properati.com/9/a4kysV82KKVcav...</td>\n",
       "    </tr>\n",
       "    <tr>\n",
       "      <th>1703</th>\n",
       "      <td>sell</td>\n",
       "      <td>house</td>\n",
       "      <td>Los Pingüinos Country Club</td>\n",
       "      <td>|Argentina|Bs.As. G.B.A. Zona Oeste|Ituzaingó|...</td>\n",
       "      <td>Argentina</td>\n",
       "      <td>Bs.As. G.B.A. Zona Oeste</td>\n",
       "      <td>NaN</td>\n",
       "      <td>-34.64697266,-58.66093445</td>\n",
       "      <td>-34.646973</td>\n",
       "      <td>-58.660934</td>\n",
       "      <td>...</td>\n",
       "      <td>173.0</td>\n",
       "      <td>NaN</td>\n",
       "      <td>NaN</td>\n",
       "      <td>NaN</td>\n",
       "      <td>2.0</td>\n",
       "      <td>NaN</td>\n",
       "      <td>http://www.properati.com.ar/15jab_venta_casa_l...</td>\n",
       "      <td>Corredor Responsable: Federico Bogianchino Pro...</td>\n",
       "      <td>U$D 160.000 - Casa en Venta - Andres Lamas    ...</td>\n",
       "      <td>https://thumbs4.properati.com/4/WX4wsM_Tqq7MwZ...</td>\n",
       "    </tr>\n",
       "    <tr>\n",
       "      <th>1802</th>\n",
       "      <td>sell</td>\n",
       "      <td>house</td>\n",
       "      <td>Morón</td>\n",
       "      <td>|Argentina|Bs.As. G.B.A. Zona Oeste|Morón|</td>\n",
       "      <td>Argentina</td>\n",
       "      <td>Bs.As. G.B.A. Zona Oeste</td>\n",
       "      <td>3430544.0</td>\n",
       "      <td>-34.64177704,-58.63933945</td>\n",
       "      <td>-34.641777</td>\n",
       "      <td>-58.639339</td>\n",
       "      <td>...</td>\n",
       "      <td>240.0</td>\n",
       "      <td>NaN</td>\n",
       "      <td>NaN</td>\n",
       "      <td>NaN</td>\n",
       "      <td>3.0</td>\n",
       "      <td>NaN</td>\n",
       "      <td>http://www.properati.com.ar/15jfc_venta_casa_m...</td>\n",
       "      <td>MR-341IMPECABLE CASA 2 PLANTAS EN EXCELENTE ZO...</td>\n",
       "      <td>U$D 300.000 - Casa en Venta - Gral Munilla    ...</td>\n",
       "      <td>https://thumbs4.properati.com/1/Ii0qSWhLLd9_B1...</td>\n",
       "    </tr>\n",
       "    <tr>\n",
       "      <th>1804</th>\n",
       "      <td>sell</td>\n",
       "      <td>house</td>\n",
       "      <td>Bs.As. G.B.A. Zona Oeste</td>\n",
       "      <td>|Argentina|Bs.As. G.B.A. Zona Oeste|</td>\n",
       "      <td>Argentina</td>\n",
       "      <td>Bs.As. G.B.A. Zona Oeste</td>\n",
       "      <td>3435907.0</td>\n",
       "      <td>NaN</td>\n",
       "      <td>NaN</td>\n",
       "      <td>NaN</td>\n",
       "      <td>...</td>\n",
       "      <td>320.0</td>\n",
       "      <td>NaN</td>\n",
       "      <td>NaN</td>\n",
       "      <td>NaN</td>\n",
       "      <td>2.0</td>\n",
       "      <td>NaN</td>\n",
       "      <td>http://www.properati.com.ar/15jfg_venta_casa_b...</td>\n",
       "      <td>LA PROPIEDAD ESTA UBICADA EN EL BARRIO TORRES ...</td>\n",
       "      <td>U$D 55.000 - Casa en Venta - Estanislao De Cam...</td>\n",
       "      <td>https://thumbs4.properati.com/0/IHx2tPBpRjw7w-...</td>\n",
       "    </tr>\n",
       "    <tr>\n",
       "      <th>1811</th>\n",
       "      <td>sell</td>\n",
       "      <td>house</td>\n",
       "      <td>Los Pingüinos Country Club</td>\n",
       "      <td>|Argentina|Bs.As. G.B.A. Zona Oeste|Ituzaingó|...</td>\n",
       "      <td>Argentina</td>\n",
       "      <td>Bs.As. G.B.A. Zona Oeste</td>\n",
       "      <td>NaN</td>\n",
       "      <td>-34.63644028,-58.66096878</td>\n",
       "      <td>-34.636440</td>\n",
       "      <td>-58.660969</td>\n",
       "      <td>...</td>\n",
       "      <td>250.0</td>\n",
       "      <td>NaN</td>\n",
       "      <td>NaN</td>\n",
       "      <td>NaN</td>\n",
       "      <td>3.0</td>\n",
       "      <td>NaN</td>\n",
       "      <td>http://www.properati.com.ar/15jfs_venta_casa_l...</td>\n",
       "      <td>MR-340EXCELENTE CHALET ITUZAINGO NORTEPBGARAGE...</td>\n",
       "      <td>U$D 215.000 - Casa en Venta - Erlich     500</td>\n",
       "      <td>https://thumbs4.properati.com/9/SO7_ztltRouUFh...</td>\n",
       "    </tr>\n",
       "    <tr>\n",
       "      <th>1868</th>\n",
       "      <td>sell</td>\n",
       "      <td>house</td>\n",
       "      <td>Morón</td>\n",
       "      <td>|Argentina|Bs.As. G.B.A. Zona Oeste|Morón|</td>\n",
       "      <td>Argentina</td>\n",
       "      <td>Bs.As. G.B.A. Zona Oeste</td>\n",
       "      <td>3430544.0</td>\n",
       "      <td>-34.65327835,-58.65235901</td>\n",
       "      <td>-34.653278</td>\n",
       "      <td>-58.652359</td>\n",
       "      <td>...</td>\n",
       "      <td>290.0</td>\n",
       "      <td>NaN</td>\n",
       "      <td>NaN</td>\n",
       "      <td>NaN</td>\n",
       "      <td>4.0</td>\n",
       "      <td>NaN</td>\n",
       "      <td>http://www.properati.com.ar/15jin_venta_casa_m...</td>\n",
       "      <td>Inmejorable ubicación, compuesto por 2 plantas...</td>\n",
       "      <td>U$D 175.000 - Casa en Venta - Pehuajo     500</td>\n",
       "      <td>https://thumbs4.properati.com/3/jbqWggjH4knhJD...</td>\n",
       "    </tr>\n",
       "    <tr>\n",
       "      <th>2443</th>\n",
       "      <td>sell</td>\n",
       "      <td>house</td>\n",
       "      <td>Moreno</td>\n",
       "      <td>|Argentina|Bs.As. G.B.A. Zona Oeste|Moreno|</td>\n",
       "      <td>Argentina</td>\n",
       "      <td>Bs.As. G.B.A. Zona Oeste</td>\n",
       "      <td>3430550.0</td>\n",
       "      <td>-34.63969803,-58.82596207</td>\n",
       "      <td>-34.639698</td>\n",
       "      <td>-58.825962</td>\n",
       "      <td>...</td>\n",
       "      <td>200.0</td>\n",
       "      <td>NaN</td>\n",
       "      <td>NaN</td>\n",
       "      <td>NaN</td>\n",
       "      <td>4.0</td>\n",
       "      <td>NaN</td>\n",
       "      <td>http://www.properati.com.ar/15k60_venta_casa_m...</td>\n",
       "      <td>oportunidad ¡¡ vendo con facilidades de pago d...</td>\n",
       "      <td>U$D 140.000 - Casa en Venta - Evaristo Carrieg...</td>\n",
       "      <td>https://thumbs4.properati.com/7/aMnXBx5-ph_wSt...</td>\n",
       "    </tr>\n",
       "    <tr>\n",
       "      <th>2487</th>\n",
       "      <td>sell</td>\n",
       "      <td>house</td>\n",
       "      <td>Los Pingüinos Country Club</td>\n",
       "      <td>|Argentina|Bs.As. G.B.A. Zona Oeste|Ituzaingó|...</td>\n",
       "      <td>Argentina</td>\n",
       "      <td>Bs.As. G.B.A. Zona Oeste</td>\n",
       "      <td>NaN</td>\n",
       "      <td>-34.64078522,-58.66629791</td>\n",
       "      <td>-34.640785</td>\n",
       "      <td>-58.666298</td>\n",
       "      <td>...</td>\n",
       "      <td>190.0</td>\n",
       "      <td>NaN</td>\n",
       "      <td>NaN</td>\n",
       "      <td>NaN</td>\n",
       "      <td>3.0</td>\n",
       "      <td>NaN</td>\n",
       "      <td>http://www.properati.com.ar/15k7j_venta_casa_l...</td>\n",
       "      <td>Chalet en dos plantas, hall de acceso, Living ...</td>\n",
       "      <td>U$D 200.000 - Casa en Venta - 33 Orientales   ...</td>\n",
       "      <td>https://thumbs4.properati.com/3/2oBRWMxRuDpIUM...</td>\n",
       "    </tr>\n",
       "    <tr>\n",
       "      <th>2529</th>\n",
       "      <td>sell</td>\n",
       "      <td>house</td>\n",
       "      <td>Córdoba</td>\n",
       "      <td>|Argentina|Córdoba|Córdoba|</td>\n",
       "      <td>Argentina</td>\n",
       "      <td>Córdoba</td>\n",
       "      <td>3860259.0</td>\n",
       "      <td>-31.38484573,-64.2377243</td>\n",
       "      <td>-31.384846</td>\n",
       "      <td>-64.237724</td>\n",
       "      <td>...</td>\n",
       "      <td>490.0</td>\n",
       "      <td>NaN</td>\n",
       "      <td>NaN</td>\n",
       "      <td>NaN</td>\n",
       "      <td>3.0</td>\n",
       "      <td>NaN</td>\n",
       "      <td>http://www.properati.com.ar/15k8z_venta_casa_c...</td>\n",
       "      <td>3 dormitorios, suite en planta alta con terraz...</td>\n",
       "      <td>U$D 430.000 - Casa en Venta - Urca Categoría 2...</td>\n",
       "      <td>https://thumbs4.properati.com/8/AWHAD5435PG7Y3...</td>\n",
       "    </tr>\n",
       "    <tr>\n",
       "      <th>2584</th>\n",
       "      <td>sell</td>\n",
       "      <td>apartment</td>\n",
       "      <td>Córdoba</td>\n",
       "      <td>|Argentina|Córdoba|Córdoba|</td>\n",
       "      <td>Argentina</td>\n",
       "      <td>Córdoba</td>\n",
       "      <td>3860259.0</td>\n",
       "      <td>-31.41405869,-64.17394257</td>\n",
       "      <td>-31.414059</td>\n",
       "      <td>-64.173943</td>\n",
       "      <td>...</td>\n",
       "      <td>80.0</td>\n",
       "      <td>NaN</td>\n",
       "      <td>NaN</td>\n",
       "      <td>NaN</td>\n",
       "      <td>2.0</td>\n",
       "      <td>NaN</td>\n",
       "      <td>http://www.properati.com.ar/15kb4_venta_depart...</td>\n",
       "      <td>2 DORM - 3 BAÑOS8º PISO \"D\" CONTRAFRENTE, COMP...</td>\n",
       "      <td>$ 2.100.000 - Departamento en Venta - Bv Ocamp...</td>\n",
       "      <td>https://thumbs4.properati.com/6/wh2JU7tHFRRiXD...</td>\n",
       "    </tr>\n",
       "    <tr>\n",
       "      <th>2876</th>\n",
       "      <td>sell</td>\n",
       "      <td>store</td>\n",
       "      <td>Morón</td>\n",
       "      <td>|Argentina|Bs.As. G.B.A. Zona Oeste|Morón|</td>\n",
       "      <td>Argentina</td>\n",
       "      <td>Bs.As. G.B.A. Zona Oeste</td>\n",
       "      <td>3430544.0</td>\n",
       "      <td>-34.65545654,-58.6452446</td>\n",
       "      <td>-34.655457</td>\n",
       "      <td>-58.645245</td>\n",
       "      <td>...</td>\n",
       "      <td>500.0</td>\n",
       "      <td>NaN</td>\n",
       "      <td>NaN</td>\n",
       "      <td>NaN</td>\n",
       "      <td>NaN</td>\n",
       "      <td>NaN</td>\n",
       "      <td>http://www.properati.com.ar/15kmv_venta_local_...</td>\n",
       "      <td>LA PROPIEDAD CUENTA AL FRENTE CON UN LOCAL COM...</td>\n",
       "      <td>U$D 500.000 - Local en Venta - Arias     3242</td>\n",
       "      <td>https://thumbs4.properati.com/3/PwLGq8dDlz0HOD...</td>\n",
       "    </tr>\n",
       "    <tr>\n",
       "      <th>2884</th>\n",
       "      <td>sell</td>\n",
       "      <td>house</td>\n",
       "      <td>Los Pingüinos Country Club</td>\n",
       "      <td>|Argentina|Bs.As. G.B.A. Zona Oeste|Ituzaingó|...</td>\n",
       "      <td>Argentina</td>\n",
       "      <td>Bs.As. G.B.A. Zona Oeste</td>\n",
       "      <td>NaN</td>\n",
       "      <td>-34.64870071,-58.68128586</td>\n",
       "      <td>-34.648701</td>\n",
       "      <td>-58.681286</td>\n",
       "      <td>...</td>\n",
       "      <td>40.0</td>\n",
       "      <td>NaN</td>\n",
       "      <td>NaN</td>\n",
       "      <td>NaN</td>\n",
       "      <td>1.0</td>\n",
       "      <td>NaN</td>\n",
       "      <td>http://www.properati.com.ar/15knf_venta_casa_l...</td>\n",
       "      <td>2 PH de 3.20 x 11 m: Living, cocina, 1 habitac...</td>\n",
       "      <td>U$D 65.000 - Tipo casa PH en Venta -</td>\n",
       "      <td>https://thumbs4.properati.com/9/gBavuhnfYdRxHQ...</td>\n",
       "    </tr>\n",
       "    <tr>\n",
       "      <th>2942</th>\n",
       "      <td>sell</td>\n",
       "      <td>house</td>\n",
       "      <td>Córdoba</td>\n",
       "      <td>|Argentina|Córdoba|Córdoba|</td>\n",
       "      <td>Argentina</td>\n",
       "      <td>Córdoba</td>\n",
       "      <td>3860259.0</td>\n",
       "      <td>-31.420084,-64.18877411</td>\n",
       "      <td>-31.420084</td>\n",
       "      <td>-64.188774</td>\n",
       "      <td>...</td>\n",
       "      <td>416.0</td>\n",
       "      <td>NaN</td>\n",
       "      <td>NaN</td>\n",
       "      <td>NaN</td>\n",
       "      <td>5.0</td>\n",
       "      <td>NaN</td>\n",
       "      <td>http://www.properati.com.ar/15kpa_venta_casa_c...</td>\n",
       "      <td>JGD Calidad Inmobiliaria ofrece MAGNÍFICA  PRO...</td>\n",
       "      <td>U$D 150.000 - Casa en Venta - Ansenusa     3477</td>\n",
       "      <td>https://thumbs4.properati.com/7/rg1RWFZYvCDp0O...</td>\n",
       "    </tr>\n",
       "    <tr>\n",
       "      <th>3487</th>\n",
       "      <td>sell</td>\n",
       "      <td>house</td>\n",
       "      <td>Los Pingüinos Country Club</td>\n",
       "      <td>|Argentina|Bs.As. G.B.A. Zona Oeste|Ituzaingó|...</td>\n",
       "      <td>Argentina</td>\n",
       "      <td>Bs.As. G.B.A. Zona Oeste</td>\n",
       "      <td>NaN</td>\n",
       "      <td>-34.62517166,-58.66135025</td>\n",
       "      <td>-34.625172</td>\n",
       "      <td>-58.661350</td>\n",
       "      <td>...</td>\n",
       "      <td>110.0</td>\n",
       "      <td>NaN</td>\n",
       "      <td>NaN</td>\n",
       "      <td>NaN</td>\n",
       "      <td>2.0</td>\n",
       "      <td>NaN</td>\n",
       "      <td>http://www.properati.com.ar/15l8f_venta_casa_l...</td>\n",
       "      <td>1017 - Solido chalet duplex cercano a Acceso O...</td>\n",
       "      <td>U$D 110.000 - Casa en Venta -</td>\n",
       "      <td>https://thumbs4.properati.com/3/uIJa9YbjCZFNRO...</td>\n",
       "    </tr>\n",
       "    <tr>\n",
       "      <th>3491</th>\n",
       "      <td>sell</td>\n",
       "      <td>house</td>\n",
       "      <td>Los Pingüinos Country Club</td>\n",
       "      <td>|Argentina|Bs.As. G.B.A. Zona Oeste|Ituzaingó|...</td>\n",
       "      <td>Argentina</td>\n",
       "      <td>Bs.As. G.B.A. Zona Oeste</td>\n",
       "      <td>NaN</td>\n",
       "      <td>-34.64606857,-58.66072083</td>\n",
       "      <td>-34.646069</td>\n",
       "      <td>-58.660721</td>\n",
       "      <td>...</td>\n",
       "      <td>100.0</td>\n",
       "      <td>NaN</td>\n",
       "      <td>NaN</td>\n",
       "      <td>NaN</td>\n",
       "      <td>3.0</td>\n",
       "      <td>NaN</td>\n",
       "      <td>http://www.properati.com.ar/15l8k_venta_casa_l...</td>\n",
       "      <td>1033 - Excelente triplex a estrenar compuesto ...</td>\n",
       "      <td>U$D 110.000 - Casa en Venta -</td>\n",
       "      <td>https://thumbs4.properati.com/9/BK-6ZkgDfqZzDg...</td>\n",
       "    </tr>\n",
       "    <tr>\n",
       "      <th>3499</th>\n",
       "      <td>sell</td>\n",
       "      <td>house</td>\n",
       "      <td>Morón</td>\n",
       "      <td>|Argentina|Bs.As. G.B.A. Zona Oeste|Morón|</td>\n",
       "      <td>Argentina</td>\n",
       "      <td>Bs.As. G.B.A. Zona Oeste</td>\n",
       "      <td>3430544.0</td>\n",
       "      <td>-34.65327454,-58.65237808</td>\n",
       "      <td>-34.653275</td>\n",
       "      <td>-58.652378</td>\n",
       "      <td>...</td>\n",
       "      <td>290.0</td>\n",
       "      <td>NaN</td>\n",
       "      <td>NaN</td>\n",
       "      <td>NaN</td>\n",
       "      <td>3.0</td>\n",
       "      <td>NaN</td>\n",
       "      <td>http://www.properati.com.ar/15l8x_venta_casa_m...</td>\n",
       "      <td>1047 - Solido chalet en Parque Costa compuesto...</td>\n",
       "      <td>U$D 180.000 - Casa en Venta -</td>\n",
       "      <td>https://thumbs4.properati.com/2/GQuZtoy-4HU6VJ...</td>\n",
       "    </tr>\n",
       "    <tr>\n",
       "      <th>3719</th>\n",
       "      <td>sell</td>\n",
       "      <td>house</td>\n",
       "      <td>Moreno</td>\n",
       "      <td>|Argentina|Bs.As. G.B.A. Zona Oeste|Moreno|</td>\n",
       "      <td>Argentina</td>\n",
       "      <td>Bs.As. G.B.A. Zona Oeste</td>\n",
       "      <td>3430550.0</td>\n",
       "      <td>-34.62008667,-58.80973816</td>\n",
       "      <td>-34.620087</td>\n",
       "      <td>-58.809738</td>\n",
       "      <td>...</td>\n",
       "      <td>200.0</td>\n",
       "      <td>NaN</td>\n",
       "      <td>NaN</td>\n",
       "      <td>NaN</td>\n",
       "      <td>4.0</td>\n",
       "      <td>NaN</td>\n",
       "      <td>http://www.properati.com.ar/15lg4_venta_casa_m...</td>\n",
       "      <td>oportunidad ¡¡ vendo con facilidades dos duple...</td>\n",
       "      <td>U$D 140.000 - Casa en Venta - Carriego     100</td>\n",
       "      <td>https://thumbs4.properati.com/3/hnJh5O3QEL6rEG...</td>\n",
       "    </tr>\n",
       "    <tr>\n",
       "      <th>3822</th>\n",
       "      <td>sell</td>\n",
       "      <td>apartment</td>\n",
       "      <td>Ituzaingó</td>\n",
       "      <td>|Argentina|Bs.As. G.B.A. Zona Oeste|Ituzaingó|</td>\n",
       "      <td>Argentina</td>\n",
       "      <td>Bs.As. G.B.A. Zona Oeste</td>\n",
       "      <td>3433359.0</td>\n",
       "      <td>-34.66550064,-58.66954041</td>\n",
       "      <td>-34.665501</td>\n",
       "      <td>-58.669540</td>\n",
       "      <td>...</td>\n",
       "      <td>75.0</td>\n",
       "      <td>NaN</td>\n",
       "      <td>NaN</td>\n",
       "      <td>NaN</td>\n",
       "      <td>2.0</td>\n",
       "      <td>NaN</td>\n",
       "      <td>http://www.properati.com.ar/15lka_venta_depart...</td>\n",
       "      <td>Sólido y amplio departamento en primer piso a ...</td>\n",
       "      <td>U$D 55.000 - Departamento en Venta - Iriarte  ...</td>\n",
       "      <td>https://thumbs4.properati.com/9/yJzv0Z63LLD-WY...</td>\n",
       "    </tr>\n",
       "    <tr>\n",
       "      <th>3838</th>\n",
       "      <td>sell</td>\n",
       "      <td>house</td>\n",
       "      <td>Ituzaingó</td>\n",
       "      <td>|Argentina|Bs.As. G.B.A. Zona Oeste|Ituzaingó|</td>\n",
       "      <td>Argentina</td>\n",
       "      <td>Bs.As. G.B.A. Zona Oeste</td>\n",
       "      <td>3433359.0</td>\n",
       "      <td>NaN</td>\n",
       "      <td>NaN</td>\n",
       "      <td>NaN</td>\n",
       "      <td>...</td>\n",
       "      <td>70.0</td>\n",
       "      <td>NaN</td>\n",
       "      <td>NaN</td>\n",
       "      <td>NaN</td>\n",
       "      <td>3.0</td>\n",
       "      <td>NaN</td>\n",
       "      <td>http://www.properati.com.ar/15lkt_venta_casa_i...</td>\n",
       "      <td>Posee dos dormitorios, dos baños, cocina comed...</td>\n",
       "      <td>U$D 100.000 - Tipo casa PH en Venta - Barcala ...</td>\n",
       "      <td>https://thumbs4.properati.com/4/9aUqlrdNFzzkuR...</td>\n",
       "    </tr>\n",
       "    <tr>\n",
       "      <th>3860</th>\n",
       "      <td>sell</td>\n",
       "      <td>apartment</td>\n",
       "      <td>Moreno</td>\n",
       "      <td>|Argentina|Bs.As. G.B.A. Zona Oeste|Moreno|</td>\n",
       "      <td>Argentina</td>\n",
       "      <td>Bs.As. G.B.A. Zona Oeste</td>\n",
       "      <td>3430550.0</td>\n",
       "      <td>-34.64662933,-58.79486847</td>\n",
       "      <td>-34.646629</td>\n",
       "      <td>-58.794868</td>\n",
       "      <td>...</td>\n",
       "      <td>36.0</td>\n",
       "      <td>NaN</td>\n",
       "      <td>NaN</td>\n",
       "      <td>NaN</td>\n",
       "      <td>1.0</td>\n",
       "      <td>NaN</td>\n",
       "      <td>http://www.properati.com.ar/15llv_venta_depart...</td>\n",
       "      <td>Muy lindo departamento de dos ambientes a estr...</td>\n",
       "      <td>U$D 55.000 - Departamento en Venta - Camilli  ...</td>\n",
       "      <td>https://thumbs4.properati.com/9/DKjvK9-Ek0AKsS...</td>\n",
       "    </tr>\n",
       "    <tr>\n",
       "      <th>...</th>\n",
       "      <td>...</td>\n",
       "      <td>...</td>\n",
       "      <td>...</td>\n",
       "      <td>...</td>\n",
       "      <td>...</td>\n",
       "      <td>...</td>\n",
       "      <td>...</td>\n",
       "      <td>...</td>\n",
       "      <td>...</td>\n",
       "      <td>...</td>\n",
       "      <td>...</td>\n",
       "      <td>...</td>\n",
       "      <td>...</td>\n",
       "      <td>...</td>\n",
       "      <td>...</td>\n",
       "      <td>...</td>\n",
       "      <td>...</td>\n",
       "      <td>...</td>\n",
       "      <td>...</td>\n",
       "      <td>...</td>\n",
       "      <td>...</td>\n",
       "    </tr>\n",
       "    <tr>\n",
       "      <th>113400</th>\n",
       "      <td>sell</td>\n",
       "      <td>house</td>\n",
       "      <td>Balcarce</td>\n",
       "      <td>|Argentina|Buenos Aires Interior|Balcarce|</td>\n",
       "      <td>Argentina</td>\n",
       "      <td>Buenos Aires Interior</td>\n",
       "      <td>3436176.0</td>\n",
       "      <td>NaN</td>\n",
       "      <td>NaN</td>\n",
       "      <td>NaN</td>\n",
       "      <td>...</td>\n",
       "      <td>625.0</td>\n",
       "      <td>1666.666667</td>\n",
       "      <td>1000.000000</td>\n",
       "      <td>NaN</td>\n",
       "      <td>10.0</td>\n",
       "      <td>NaN</td>\n",
       "      <td>http://www.properati.com.ar/1c8ak_alquiler_cas...</td>\n",
       "      <td>Propiedad sobre lote de 12,50x30 en 3 plantas:...</td>\n",
       "      <td>Casa con local y oficina (Residencial)</td>\n",
       "      <td>https://thumbs4.properati.com/0/wmm0DZJjjm9yQ0...</td>\n",
       "    </tr>\n",
       "    <tr>\n",
       "      <th>113593</th>\n",
       "      <td>sell</td>\n",
       "      <td>house</td>\n",
       "      <td>Martínez</td>\n",
       "      <td>|Argentina|Bs.As. G.B.A. Zona Norte|San Isidro...</td>\n",
       "      <td>Argentina</td>\n",
       "      <td>Bs.As. G.B.A. Zona Norte</td>\n",
       "      <td>3430813.0</td>\n",
       "      <td>-34.4904859,-58.4835816</td>\n",
       "      <td>-34.490486</td>\n",
       "      <td>-58.483582</td>\n",
       "      <td>...</td>\n",
       "      <td>307.0</td>\n",
       "      <td>1984.063745</td>\n",
       "      <td>1622.149837</td>\n",
       "      <td>NaN</td>\n",
       "      <td>NaN</td>\n",
       "      <td>NaN</td>\n",
       "      <td>http://www.properati.com.ar/1c8kb_venta_casa_m...</td>\n",
       "      <td>Chalet en impecable estado, sobre lote de 251m...</td>\n",
       "      <td>Impecable chalet en Venta, ubicado en Martínez...</td>\n",
       "      <td>https://thumbs4.properati.com/5/csfXHQkuKxTOGK...</td>\n",
       "    </tr>\n",
       "    <tr>\n",
       "      <th>113829</th>\n",
       "      <td>sell</td>\n",
       "      <td>house</td>\n",
       "      <td>Córdoba</td>\n",
       "      <td>|Argentina|Córdoba|</td>\n",
       "      <td>Argentina</td>\n",
       "      <td>Córdoba</td>\n",
       "      <td>3860255.0</td>\n",
       "      <td>NaN</td>\n",
       "      <td>NaN</td>\n",
       "      <td>NaN</td>\n",
       "      <td>...</td>\n",
       "      <td>32.0</td>\n",
       "      <td>NaN</td>\n",
       "      <td>NaN</td>\n",
       "      <td>NaN</td>\n",
       "      <td>NaN</td>\n",
       "      <td>NaN</td>\n",
       "      <td>http://www.properati.com.ar/1c8yr_venta_casa_c...</td>\n",
       "      <td>Aproveche nuestras promociones con entrega,en ...</td>\n",
       "      <td>Casas Prefabrica</td>\n",
       "      <td>https://thumbs4.properati.com/0/Y6Tph7CU4J8zM_...</td>\n",
       "    </tr>\n",
       "    <tr>\n",
       "      <th>113882</th>\n",
       "      <td>sell</td>\n",
       "      <td>house</td>\n",
       "      <td>Córdoba</td>\n",
       "      <td>|Argentina|Córdoba|</td>\n",
       "      <td>Argentina</td>\n",
       "      <td>Córdoba</td>\n",
       "      <td>3860255.0</td>\n",
       "      <td>-31.2778543,-64.16774</td>\n",
       "      <td>-31.277854</td>\n",
       "      <td>-64.167740</td>\n",
       "      <td>...</td>\n",
       "      <td>46.0</td>\n",
       "      <td>NaN</td>\n",
       "      <td>NaN</td>\n",
       "      <td>NaN</td>\n",
       "      <td>NaN</td>\n",
       "      <td>NaN</td>\n",
       "      <td>http://www.properati.com.ar/1c91o_venta_casa_c...</td>\n",
       "      <td>Construcciones modernas, exclusivas de PREFACO...</td>\n",
       "      <td>Nuevos Modelos Minimalistas</td>\n",
       "      <td>https://thumbs4.properati.com/9/egTbo4Kf1VXW37...</td>\n",
       "    </tr>\n",
       "    <tr>\n",
       "      <th>113886</th>\n",
       "      <td>sell</td>\n",
       "      <td>house</td>\n",
       "      <td>Córdoba</td>\n",
       "      <td>|Argentina|Córdoba|</td>\n",
       "      <td>Argentina</td>\n",
       "      <td>Córdoba</td>\n",
       "      <td>3860255.0</td>\n",
       "      <td>-31.2778543,-64.16774</td>\n",
       "      <td>-31.277854</td>\n",
       "      <td>-64.167740</td>\n",
       "      <td>...</td>\n",
       "      <td>74.0</td>\n",
       "      <td>128.191143</td>\n",
       "      <td>2162.162162</td>\n",
       "      <td>NaN</td>\n",
       "      <td>NaN</td>\n",
       "      <td>NaN</td>\n",
       "      <td>http://www.properati.com.ar/1c91t_venta_casa_c...</td>\n",
       "      <td>Cabaña de 3 dormitorios, cocina, estar comedor...</td>\n",
       "      <td>Cabaña 3 Dormitorios</td>\n",
       "      <td>https://thumbs4.properati.com/2/Ztjq40KwpQElz7...</td>\n",
       "    </tr>\n",
       "    <tr>\n",
       "      <th>114080</th>\n",
       "      <td>sell</td>\n",
       "      <td>house</td>\n",
       "      <td>San Isidro</td>\n",
       "      <td>|Argentina|Bs.As. G.B.A. Zona Norte|San Isidro...</td>\n",
       "      <td>Argentina</td>\n",
       "      <td>Bs.As. G.B.A. Zona Norte</td>\n",
       "      <td>3428983.0</td>\n",
       "      <td>-34.4716548,-58.5595066</td>\n",
       "      <td>-34.471655</td>\n",
       "      <td>-58.559507</td>\n",
       "      <td>...</td>\n",
       "      <td>130.0</td>\n",
       "      <td>2333.333333</td>\n",
       "      <td>1615.384615</td>\n",
       "      <td>NaN</td>\n",
       "      <td>NaN</td>\n",
       "      <td>NaN</td>\n",
       "      <td>http://www.properati.com.ar/1c9cv_venta_casa_s...</td>\n",
       "      <td>Seguridad las 24 hs. a 5 cuadras de Acceso Tig...</td>\n",
       "      <td>LA MERCED - DUPLEX APTO CREDITO</td>\n",
       "      <td>https://thumbs4.properati.com/3/vxljhFOJby_45O...</td>\n",
       "    </tr>\n",
       "    <tr>\n",
       "      <th>114237</th>\n",
       "      <td>sell</td>\n",
       "      <td>house</td>\n",
       "      <td>Pinamar</td>\n",
       "      <td>|Argentina|Buenos Aires Costa Atlántica|Pinamar|</td>\n",
       "      <td>Argentina</td>\n",
       "      <td>Buenos Aires Costa Atlántica</td>\n",
       "      <td>3429971.0</td>\n",
       "      <td>-37.1187753898,-56.8798457435</td>\n",
       "      <td>-37.118775</td>\n",
       "      <td>-56.879846</td>\n",
       "      <td>...</td>\n",
       "      <td>833.0</td>\n",
       "      <td>635.036496</td>\n",
       "      <td>104.441777</td>\n",
       "      <td>NaN</td>\n",
       "      <td>4.0</td>\n",
       "      <td>NaN</td>\n",
       "      <td>http://www.properati.com.ar/1c9ln_venta_casa_p...</td>\n",
       "      <td>Casa sin terminar revocada por fuera, sin aber...</td>\n",
       "      <td>Casa en Venta. Ambientes. Dormitorios. 137 m2....</td>\n",
       "      <td>https://thumbs4.properati.com/6/HLtEEWQrPTbmHk...</td>\n",
       "    </tr>\n",
       "    <tr>\n",
       "      <th>114241</th>\n",
       "      <td>sell</td>\n",
       "      <td>apartment</td>\n",
       "      <td>Mar del Plata</td>\n",
       "      <td>|Argentina|Buenos Aires Costa Atlántica|Mar de...</td>\n",
       "      <td>Argentina</td>\n",
       "      <td>Buenos Aires Costa Atlántica</td>\n",
       "      <td>3430863.0</td>\n",
       "      <td>-38.0373584,-57.565909</td>\n",
       "      <td>-38.037358</td>\n",
       "      <td>-57.565909</td>\n",
       "      <td>...</td>\n",
       "      <td>52.0</td>\n",
       "      <td>968.085106</td>\n",
       "      <td>875.000000</td>\n",
       "      <td>NaN</td>\n",
       "      <td>2.0</td>\n",
       "      <td>NaN</td>\n",
       "      <td>http://www.properati.com.ar/1c9lu_venta_depart...</td>\n",
       "      <td>PH  a la calle , con amplio livig comedor, coc...</td>\n",
       "      <td>PH- 2 AMBIENTES</td>\n",
       "      <td>https://thumbs4.properati.com/4/CGrwz0OIdCd0Qw...</td>\n",
       "    </tr>\n",
       "    <tr>\n",
       "      <th>114296</th>\n",
       "      <td>sell</td>\n",
       "      <td>house</td>\n",
       "      <td>Córdoba</td>\n",
       "      <td>|Argentina|Córdoba|Córdoba|</td>\n",
       "      <td>Argentina</td>\n",
       "      <td>Córdoba</td>\n",
       "      <td>3860259.0</td>\n",
       "      <td>-31.398768,-64.1678089</td>\n",
       "      <td>-31.398768</td>\n",
       "      <td>-64.167809</td>\n",
       "      <td>...</td>\n",
       "      <td>196.0</td>\n",
       "      <td>1523.809524</td>\n",
       "      <td>816.326531</td>\n",
       "      <td>NaN</td>\n",
       "      <td>10.0</td>\n",
       "      <td>NaN</td>\n",
       "      <td>http://www.properati.com.ar/1c9p7_venta_casa_c...</td>\n",
       "      <td>LOZA SERVICIOS INMOBILIARIOS PRESENTA CASA DE ...</td>\n",
       "      <td>EXCELENTE CASA DE CATEGORÍA EN VENTA. Bº PUEYR...</td>\n",
       "      <td>https://thumbs4.properati.com/1/pw-yJNEfzJyH8j...</td>\n",
       "    </tr>\n",
       "    <tr>\n",
       "      <th>116260</th>\n",
       "      <td>sell</td>\n",
       "      <td>apartment</td>\n",
       "      <td>Mar del Plata</td>\n",
       "      <td>|Argentina|Buenos Aires Costa Atlántica|Mar de...</td>\n",
       "      <td>Argentina</td>\n",
       "      <td>Buenos Aires Costa Atlántica</td>\n",
       "      <td>3430863.0</td>\n",
       "      <td>-38.0082002,-57.5497503</td>\n",
       "      <td>-38.008200</td>\n",
       "      <td>-57.549750</td>\n",
       "      <td>...</td>\n",
       "      <td>47.0</td>\n",
       "      <td>1600.000000</td>\n",
       "      <td>1531.914894</td>\n",
       "      <td>NaN</td>\n",
       "      <td>2.0</td>\n",
       "      <td>NaN</td>\n",
       "      <td>http://www.properati.com.ar/1cc3i_venta_depart...</td>\n",
       "      <td>Corrientes y Alberti  en macrocentro de la ciu...</td>\n",
       "      <td>Vendo 2 ambientes a la calle</td>\n",
       "      <td>https://thumbs4.properati.com/1/xz9zZUMWmYnVYs...</td>\n",
       "    </tr>\n",
       "    <tr>\n",
       "      <th>116280</th>\n",
       "      <td>sell</td>\n",
       "      <td>apartment</td>\n",
       "      <td>Mar del Plata</td>\n",
       "      <td>|Argentina|Buenos Aires Costa Atlántica|Mar de...</td>\n",
       "      <td>Argentina</td>\n",
       "      <td>Buenos Aires Costa Atlántica</td>\n",
       "      <td>3430863.0</td>\n",
       "      <td>-37.9972498,-57.5515923</td>\n",
       "      <td>-37.997250</td>\n",
       "      <td>-57.551592</td>\n",
       "      <td>...</td>\n",
       "      <td>34.0</td>\n",
       "      <td>2187.500000</td>\n",
       "      <td>2058.823529</td>\n",
       "      <td>NaN</td>\n",
       "      <td>1.0</td>\n",
       "      <td>NaN</td>\n",
       "      <td>http://www.properati.com.ar/1cc47_venta_depart...</td>\n",
       "      <td>Departamento de 1 ambiente lateral con excelen...</td>\n",
       "      <td>EXCELENTE DEPARTAMENTO A ESTRENAR</td>\n",
       "      <td>https://thumbs4.properati.com/8/I-JRTlOtVVZhKw...</td>\n",
       "    </tr>\n",
       "    <tr>\n",
       "      <th>116283</th>\n",
       "      <td>sell</td>\n",
       "      <td>house</td>\n",
       "      <td>Mar del Plata</td>\n",
       "      <td>|Argentina|Buenos Aires Costa Atlántica|Mar de...</td>\n",
       "      <td>Argentina</td>\n",
       "      <td>Buenos Aires Costa Atlántica</td>\n",
       "      <td>3430863.0</td>\n",
       "      <td>-38.0075065,-57.5534014</td>\n",
       "      <td>-38.007506</td>\n",
       "      <td>-57.553401</td>\n",
       "      <td>...</td>\n",
       "      <td>260.0</td>\n",
       "      <td>1506.849315</td>\n",
       "      <td>846.153846</td>\n",
       "      <td>NaN</td>\n",
       "      <td>5.0</td>\n",
       "      <td>NaN</td>\n",
       "      <td>http://www.properati.com.ar/1cc4d_venta_casa_m...</td>\n",
       "      <td>En un punto estratégico de la ciudad este Chal...</td>\n",
       "      <td>Venta Chalet. Ideal uso Comercial-Profesional.</td>\n",
       "      <td>https://thumbs4.properati.com/6/jZIu0rR5SiuM-M...</td>\n",
       "    </tr>\n",
       "    <tr>\n",
       "      <th>116883</th>\n",
       "      <td>sell</td>\n",
       "      <td>store</td>\n",
       "      <td>Vicente López</td>\n",
       "      <td>|Argentina|Bs.As. G.B.A. Zona Norte|Vicente Ló...</td>\n",
       "      <td>Argentina</td>\n",
       "      <td>Bs.As. G.B.A. Zona Norte</td>\n",
       "      <td>NaN</td>\n",
       "      <td>NaN</td>\n",
       "      <td>NaN</td>\n",
       "      <td>NaN</td>\n",
       "      <td>...</td>\n",
       "      <td>235.0</td>\n",
       "      <td>9036.144578</td>\n",
       "      <td>6382.978723</td>\n",
       "      <td>NaN</td>\n",
       "      <td>NaN</td>\n",
       "      <td>NaN</td>\n",
       "      <td>http://www.properati.com.ar/1ccsy_venta_local_...</td>\n",
       "      <td>Ph's a Refaccionar, IDEAL Uso Comercial para O...</td>\n",
       "      <td>Oficina - Vicente López</td>\n",
       "      <td>https://thumbs4.properati.com/5/k1d_iheAR4u43R...</td>\n",
       "    </tr>\n",
       "    <tr>\n",
       "      <th>117192</th>\n",
       "      <td>sell</td>\n",
       "      <td>store</td>\n",
       "      <td>Mar del Plata</td>\n",
       "      <td>|Argentina|Buenos Aires Costa Atlántica|Mar de...</td>\n",
       "      <td>Argentina</td>\n",
       "      <td>Buenos Aires Costa Atlántica</td>\n",
       "      <td>3430863.0</td>\n",
       "      <td>-38.00555,-57.5486736</td>\n",
       "      <td>-38.005550</td>\n",
       "      <td>-57.548674</td>\n",
       "      <td>...</td>\n",
       "      <td>82.0</td>\n",
       "      <td>1493.670886</td>\n",
       "      <td>1439.024390</td>\n",
       "      <td>NaN</td>\n",
       "      <td>NaN</td>\n",
       "      <td>NaN</td>\n",
       "      <td>http://www.properati.com.ar/1cdb4_venta_local_...</td>\n",
       "      <td>AMPLIO LOCAL CON PATIO + Garaje contiguoBROWN ...</td>\n",
       "      <td>LOCAL CON PATIO Y GARAGE CONTIGUO</td>\n",
       "      <td>https://thumbs4.properati.com/5/ZOq3VAXuhrGkwC...</td>\n",
       "    </tr>\n",
       "    <tr>\n",
       "      <th>117211</th>\n",
       "      <td>sell</td>\n",
       "      <td>apartment</td>\n",
       "      <td>Mar del Plata</td>\n",
       "      <td>|Argentina|Buenos Aires Costa Atlántica|Mar de...</td>\n",
       "      <td>Argentina</td>\n",
       "      <td>Buenos Aires Costa Atlántica</td>\n",
       "      <td>3430863.0</td>\n",
       "      <td>-37.9781978,-57.5976873</td>\n",
       "      <td>-37.978198</td>\n",
       "      <td>-57.597687</td>\n",
       "      <td>...</td>\n",
       "      <td>80.0</td>\n",
       "      <td>NaN</td>\n",
       "      <td>NaN</td>\n",
       "      <td>NaN</td>\n",
       "      <td>4.0</td>\n",
       "      <td>NaN</td>\n",
       "      <td>http://www.properati.com.ar/1cdbx_venta_depart...</td>\n",
       "      <td>Hermoso departamento  de 4 ambientes totalment...</td>\n",
       "      <td>Depto. 4 amb.  a la calle C/balcon 1° piso po...</td>\n",
       "      <td>https://thumbs4.properati.com/6/bzLrw-Q9MiRG1v...</td>\n",
       "    </tr>\n",
       "    <tr>\n",
       "      <th>117533</th>\n",
       "      <td>sell</td>\n",
       "      <td>apartment</td>\n",
       "      <td>Palermo</td>\n",
       "      <td>|Argentina|Capital Federal|Palermo|</td>\n",
       "      <td>Argentina</td>\n",
       "      <td>Capital Federal</td>\n",
       "      <td>3430234.0</td>\n",
       "      <td>NaN</td>\n",
       "      <td>NaN</td>\n",
       "      <td>NaN</td>\n",
       "      <td>...</td>\n",
       "      <td>74.0</td>\n",
       "      <td>7421.744103</td>\n",
       "      <td>69743.283784</td>\n",
       "      <td>NaN</td>\n",
       "      <td>NaN</td>\n",
       "      <td>NaN</td>\n",
       "      <td>http://www.properati.com.ar/1cdo6_venta_depart...</td>\n",
       "      <td>PISO 7UNIDAD A– ESTUDIO: - Superficie cubierta...</td>\n",
       "      <td>Departamento en Venta - Maison Thames - Palermo</td>\n",
       "      <td>https://thumbs4.properati.com/4/ltAPBpoN1aiioO...</td>\n",
       "    </tr>\n",
       "    <tr>\n",
       "      <th>118327</th>\n",
       "      <td>sell</td>\n",
       "      <td>apartment</td>\n",
       "      <td>Rosario</td>\n",
       "      <td>|Argentina|Santa Fe|Rosario|</td>\n",
       "      <td>Argentina</td>\n",
       "      <td>Santa Fe</td>\n",
       "      <td>3838574.0</td>\n",
       "      <td>-32.9616239,-60.6479195</td>\n",
       "      <td>-32.961624</td>\n",
       "      <td>-60.647919</td>\n",
       "      <td>...</td>\n",
       "      <td>135.0</td>\n",
       "      <td>1993.579070</td>\n",
       "      <td>22644.444444</td>\n",
       "      <td>NaN</td>\n",
       "      <td>NaN</td>\n",
       "      <td>NaN</td>\n",
       "      <td>http://www.properati.com.ar/1celj_venta_depart...</td>\n",
       "      <td>FORMA DE PAGO:1) CONTADO2) ENTREGA DEL 30% Y E...</td>\n",
       "      <td>PARAGUAY 2170 - 3 DORMITORIOS U A01´Y A01´´</td>\n",
       "      <td>https://thumbs4.properati.com/2/zxR9qpYG7pGbIy...</td>\n",
       "    </tr>\n",
       "    <tr>\n",
       "      <th>119563</th>\n",
       "      <td>sell</td>\n",
       "      <td>apartment</td>\n",
       "      <td>Palermo</td>\n",
       "      <td>|Argentina|Capital Federal|Palermo|</td>\n",
       "      <td>Argentina</td>\n",
       "      <td>Capital Federal</td>\n",
       "      <td>3430234.0</td>\n",
       "      <td>-34.598147,-58.411787</td>\n",
       "      <td>-34.598147</td>\n",
       "      <td>-58.411787</td>\n",
       "      <td>...</td>\n",
       "      <td>79.0</td>\n",
       "      <td>2881.355932</td>\n",
       "      <td>2151.898734</td>\n",
       "      <td>NaN</td>\n",
       "      <td>NaN</td>\n",
       "      <td>NaN</td>\n",
       "      <td>http://www.properati.com.ar/1cgtv_venta_depart...</td>\n",
       "      <td>3 Ambientes , Frente , Con Balcón Terraza   Av...</td>\n",
       "      <td>3 Ambientes, Barrio Norte , Frente , Balcón t...</td>\n",
       "      <td>https://thumbs4.properati.com/6/G2rfDhB6lDITQ1...</td>\n",
       "    </tr>\n",
       "    <tr>\n",
       "      <th>119565</th>\n",
       "      <td>sell</td>\n",
       "      <td>apartment</td>\n",
       "      <td>Palermo</td>\n",
       "      <td>|Argentina|Capital Federal|Palermo|</td>\n",
       "      <td>Argentina</td>\n",
       "      <td>Capital Federal</td>\n",
       "      <td>3430234.0</td>\n",
       "      <td>-34.5968158,-58.415647</td>\n",
       "      <td>-34.596816</td>\n",
       "      <td>-58.415647</td>\n",
       "      <td>...</td>\n",
       "      <td>42.0</td>\n",
       "      <td>2894.736842</td>\n",
       "      <td>2619.047619</td>\n",
       "      <td>NaN</td>\n",
       "      <td>NaN</td>\n",
       "      <td>NaN</td>\n",
       "      <td>http://www.properati.com.ar/1cgu2_venta_depart...</td>\n",
       "      <td>2 Ambientes , Contra Frente con Balcón , Cocin...</td>\n",
       "      <td>2 Ambientes , Palermo , Contra Frente con Balc...</td>\n",
       "      <td>https://thumbs4.properati.com/5/2zKZnyYFnnIreo...</td>\n",
       "    </tr>\n",
       "    <tr>\n",
       "      <th>119778</th>\n",
       "      <td>sell</td>\n",
       "      <td>apartment</td>\n",
       "      <td>Mar del Plata</td>\n",
       "      <td>|Argentina|Buenos Aires Costa Atlántica|Mar de...</td>\n",
       "      <td>Argentina</td>\n",
       "      <td>Buenos Aires Costa Atlántica</td>\n",
       "      <td>3430863.0</td>\n",
       "      <td>-37.999315,-57.5425406</td>\n",
       "      <td>-37.999315</td>\n",
       "      <td>-57.542541</td>\n",
       "      <td>...</td>\n",
       "      <td>68.0</td>\n",
       "      <td>2292.307692</td>\n",
       "      <td>2191.176471</td>\n",
       "      <td>NaN</td>\n",
       "      <td>3.0</td>\n",
       "      <td>NaN</td>\n",
       "      <td>http://www.properati.com.ar/1ch2x_venta_depart...</td>\n",
       "      <td>EXCELENTE OPORTUNIDAD APTO CRÉDITO BANCARIO 3...</td>\n",
       "      <td>CENTRO - 3 AMB APTO CREDITO , VISTA AL MAR BAL...</td>\n",
       "      <td>https://thumbs4.properati.com/8/XMYRNh9gw4dMH1...</td>\n",
       "    </tr>\n",
       "    <tr>\n",
       "      <th>119784</th>\n",
       "      <td>sell</td>\n",
       "      <td>house</td>\n",
       "      <td>Mar del Plata</td>\n",
       "      <td>|Argentina|Buenos Aires Costa Atlántica|Mar de...</td>\n",
       "      <td>Argentina</td>\n",
       "      <td>Buenos Aires Costa Atlántica</td>\n",
       "      <td>3430863.0</td>\n",
       "      <td>-38.0225535,-57.5346169</td>\n",
       "      <td>-38.022554</td>\n",
       "      <td>-57.534617</td>\n",
       "      <td>...</td>\n",
       "      <td>297.0</td>\n",
       "      <td>1666.666667</td>\n",
       "      <td>1313.131313</td>\n",
       "      <td>NaN</td>\n",
       "      <td>4.0</td>\n",
       "      <td>NaN</td>\n",
       "      <td>http://www.properati.com.ar/1ch33_venta_casa_m...</td>\n",
       "      <td>Superficie cubierta 297 m², sobre lote de 10.3...</td>\n",
       "      <td>PLAYA GRANDE - CHALET 4 AMB GARAGE DOBLE QUINCHO</td>\n",
       "      <td>https://thumbs4.properati.com/9/uH-Zlq41YEg9f9...</td>\n",
       "    </tr>\n",
       "    <tr>\n",
       "      <th>119787</th>\n",
       "      <td>sell</td>\n",
       "      <td>apartment</td>\n",
       "      <td>Mar del Plata</td>\n",
       "      <td>|Argentina|Buenos Aires Costa Atlántica|Mar de...</td>\n",
       "      <td>Argentina</td>\n",
       "      <td>Buenos Aires Costa Atlántica</td>\n",
       "      <td>3430863.0</td>\n",
       "      <td>-38.0118429,-57.545684</td>\n",
       "      <td>-38.011843</td>\n",
       "      <td>-57.545684</td>\n",
       "      <td>...</td>\n",
       "      <td>60.0</td>\n",
       "      <td>2370.227273</td>\n",
       "      <td>1738.166667</td>\n",
       "      <td>NaN</td>\n",
       "      <td>NaN</td>\n",
       "      <td>NaN</td>\n",
       "      <td>http://www.properati.com.ar/1ch38_venta_depart...</td>\n",
       "      <td>Departamentos de 2 ambientes, dúplex y tríplex...</td>\n",
       "      <td>Edificio Young Tower VI Condos – Lamadrid 2735...</td>\n",
       "      <td>https://thumbs4.properati.com/5/7jTTU_RWRJ1x_0...</td>\n",
       "    </tr>\n",
       "    <tr>\n",
       "      <th>119830</th>\n",
       "      <td>sell</td>\n",
       "      <td>house</td>\n",
       "      <td>Mar del Plata</td>\n",
       "      <td>|Argentina|Buenos Aires Costa Atlántica|Mar de...</td>\n",
       "      <td>Argentina</td>\n",
       "      <td>Buenos Aires Costa Atlántica</td>\n",
       "      <td>3430863.0</td>\n",
       "      <td>-37.9958541,-57.5425943</td>\n",
       "      <td>-37.995854</td>\n",
       "      <td>-57.542594</td>\n",
       "      <td>...</td>\n",
       "      <td>650.0</td>\n",
       "      <td>1785.714286</td>\n",
       "      <td>923.076923</td>\n",
       "      <td>NaN</td>\n",
       "      <td>9.0</td>\n",
       "      <td>NaN</td>\n",
       "      <td>http://www.properati.com.ar/1ch65_venta_casa_m...</td>\n",
       "      <td>Casa de 1930, se agrega en 2002 edificio nuevo...</td>\n",
       "      <td>Importante Casona a metros del mar ideal hoste...</td>\n",
       "      <td>https://thumbs4.properati.com/9/OWVhPxyZx3zNrv...</td>\n",
       "    </tr>\n",
       "    <tr>\n",
       "      <th>119846</th>\n",
       "      <td>sell</td>\n",
       "      <td>PH</td>\n",
       "      <td>Belgrano</td>\n",
       "      <td>|Argentina|Capital Federal|Belgrano|</td>\n",
       "      <td>Argentina</td>\n",
       "      <td>Capital Federal</td>\n",
       "      <td>3436077.0</td>\n",
       "      <td>-34.573783,-58.4424268</td>\n",
       "      <td>-34.573783</td>\n",
       "      <td>-58.442427</td>\n",
       "      <td>...</td>\n",
       "      <td>140.0</td>\n",
       "      <td>2318.181818</td>\n",
       "      <td>1821.428571</td>\n",
       "      <td>NaN</td>\n",
       "      <td>6.0</td>\n",
       "      <td>4000.0</td>\n",
       "      <td>http://www.properati.com.ar/1ch6q_venta_ph_bel...</td>\n",
       "      <td>Departamento tipo PH- en 2 plantas- 2 y 3 piso...</td>\n",
       "      <td>Ph venta</td>\n",
       "      <td>https://thumbs4.properati.com/4/AuZ42kSpMHjNQ4...</td>\n",
       "    </tr>\n",
       "    <tr>\n",
       "      <th>120124</th>\n",
       "      <td>sell</td>\n",
       "      <td>apartment</td>\n",
       "      <td>Pinamar</td>\n",
       "      <td>|Argentina|Buenos Aires Costa Atlántica|Pinamar|</td>\n",
       "      <td>Argentina</td>\n",
       "      <td>Buenos Aires Costa Atlántica</td>\n",
       "      <td>3429971.0</td>\n",
       "      <td>-37.1143446221,-56.8624922624</td>\n",
       "      <td>-37.114345</td>\n",
       "      <td>-56.862492</td>\n",
       "      <td>...</td>\n",
       "      <td>120.0</td>\n",
       "      <td>11750.000000</td>\n",
       "      <td>1958.333333</td>\n",
       "      <td>NaN</td>\n",
       "      <td>4.0</td>\n",
       "      <td>NaN</td>\n",
       "      <td>http://www.properati.com.ar/1chjp_venta_depart...</td>\n",
       "      <td>EL EDIFICIO CUENTA CON ENCARGADO PERMANENTE , ...</td>\n",
       "      <td>CENTRICO SEMIPISO DE CATEGORIA</td>\n",
       "      <td>https://thumbs4.properati.com/1/BhYS_lDqTtpCc3...</td>\n",
       "    </tr>\n",
       "    <tr>\n",
       "      <th>120168</th>\n",
       "      <td>sell</td>\n",
       "      <td>house</td>\n",
       "      <td>Necochea</td>\n",
       "      <td>|Argentina|Buenos Aires Costa Atlántica|Necochea|</td>\n",
       "      <td>Argentina</td>\n",
       "      <td>Buenos Aires Costa Atlántica</td>\n",
       "      <td>3430442.0</td>\n",
       "      <td>-38.5558902,-58.7493098</td>\n",
       "      <td>-38.555890</td>\n",
       "      <td>-58.749310</td>\n",
       "      <td>...</td>\n",
       "      <td>140.0</td>\n",
       "      <td>1083.333333</td>\n",
       "      <td>928.571429</td>\n",
       "      <td>NaN</td>\n",
       "      <td>6.0</td>\n",
       "      <td>NaN</td>\n",
       "      <td>http://www.properati.com.ar/1chlo_venta_casa_n...</td>\n",
       "      <td>casa en dos plantas, primer piso tres dormitor...</td>\n",
       "      <td>casa en dos plantas 4 dormitorios</td>\n",
       "      <td>https://thumbs4.properati.com/4/kadYIYVUCHdM_O...</td>\n",
       "    </tr>\n",
       "    <tr>\n",
       "      <th>120181</th>\n",
       "      <td>sell</td>\n",
       "      <td>house</td>\n",
       "      <td>Córdoba</td>\n",
       "      <td>|Argentina|Córdoba|Córdoba|</td>\n",
       "      <td>Argentina</td>\n",
       "      <td>Córdoba</td>\n",
       "      <td>3860259.0</td>\n",
       "      <td>-31.3915783,-64.1374518</td>\n",
       "      <td>-31.391578</td>\n",
       "      <td>-64.137452</td>\n",
       "      <td>...</td>\n",
       "      <td>226.0</td>\n",
       "      <td>751.447908</td>\n",
       "      <td>9070.796460</td>\n",
       "      <td>NaN</td>\n",
       "      <td>3.0</td>\n",
       "      <td>NaN</td>\n",
       "      <td>http://www.properati.com.ar/1chma_venta_casa_c...</td>\n",
       "      <td>Casa Yofre Sur , APTO CRÉDITO, Córdoba 3 habit...</td>\n",
       "      <td>Vendo Casa Yofre Sur , APTO CRÉDITO, Córdoba</td>\n",
       "      <td>https://thumbs4.properati.com/2/9CESOEksu8h7EK...</td>\n",
       "    </tr>\n",
       "    <tr>\n",
       "      <th>120202</th>\n",
       "      <td>sell</td>\n",
       "      <td>PH</td>\n",
       "      <td>Mar del Plata</td>\n",
       "      <td>|Argentina|Buenos Aires Costa Atlántica|Mar de...</td>\n",
       "      <td>Argentina</td>\n",
       "      <td>Buenos Aires Costa Atlántica</td>\n",
       "      <td>3430863.0</td>\n",
       "      <td>-38.0301135836,-57.5744417429</td>\n",
       "      <td>-38.030114</td>\n",
       "      <td>-57.574442</td>\n",
       "      <td>...</td>\n",
       "      <td>200.0</td>\n",
       "      <td>714.285714</td>\n",
       "      <td>250.000000</td>\n",
       "      <td>NaN</td>\n",
       "      <td>3.0</td>\n",
       "      <td>NaN</td>\n",
       "      <td>http://www.properati.com.ar/1chn1_venta_ph_mar...</td>\n",
       "      <td>Hermoso PH Con dos Habitaciones, una en suite ...</td>\n",
       "      <td>Excelente PH en impecables condiciónes, Digno ...</td>\n",
       "      <td>https://thumbs4.properati.com/5/UxtgEmnHjjQKNN...</td>\n",
       "    </tr>\n",
       "    <tr>\n",
       "      <th>120302</th>\n",
       "      <td>sell</td>\n",
       "      <td>house</td>\n",
       "      <td>Pilar</td>\n",
       "      <td>|Argentina|Bs.As. G.B.A. Zona Norte|Pilar|</td>\n",
       "      <td>Argentina</td>\n",
       "      <td>Bs.As. G.B.A. Zona Norte</td>\n",
       "      <td>3429979.0</td>\n",
       "      <td>NaN</td>\n",
       "      <td>NaN</td>\n",
       "      <td>NaN</td>\n",
       "      <td>...</td>\n",
       "      <td>12000.0</td>\n",
       "      <td>1083.333333</td>\n",
       "      <td>108.333333</td>\n",
       "      <td>NaN</td>\n",
       "      <td>NaN</td>\n",
       "      <td>20000.0</td>\n",
       "      <td>http://www.properati.com.ar/1chr7_venta_casa_p...</td>\n",
       "      <td>Impecable casa en alquiler Lote de 3500m2 Casa...</td>\n",
       "      <td>Casa - Haras Del Sol - 1100m2 cubiertos</td>\n",
       "      <td>https://thumbs4.properati.com/9/1XYN9N7nCxhs4C...</td>\n",
       "    </tr>\n",
       "    <tr>\n",
       "      <th>121055</th>\n",
       "      <td>sell</td>\n",
       "      <td>house</td>\n",
       "      <td>Morón</td>\n",
       "      <td>|Argentina|Bs.As. G.B.A. Zona Oeste|Morón|Morón|</td>\n",
       "      <td>Argentina</td>\n",
       "      <td>Bs.As. G.B.A. Zona Oeste</td>\n",
       "      <td>3430544.0</td>\n",
       "      <td>NaN</td>\n",
       "      <td>NaN</td>\n",
       "      <td>NaN</td>\n",
       "      <td>...</td>\n",
       "      <td>98.0</td>\n",
       "      <td>2012.987013</td>\n",
       "      <td>1581.632653</td>\n",
       "      <td>NaN</td>\n",
       "      <td>NaN</td>\n",
       "      <td>NaN</td>\n",
       "      <td>http://www.properati.com.ar/1cj15_venta_casa_m...</td>\n",
       "      <td>Excelente propiedad ubicada en esquina, a 2 cu...</td>\n",
       "      <td>Casa - Moron Sur</td>\n",
       "      <td>https://thumbs4.properati.com/9/jwKFf6D-iMcc2g...</td>\n",
       "    </tr>\n",
       "  </tbody>\n",
       "</table>\n",
       "<p>1106 rows × 25 columns</p>\n",
       "</div>"
      ],
      "text/plain": [
       "       operation property_type                  place_name  \\\n",
       "78          sell         house                     Posadas   \n",
       "177         sell     apartment            Villa Carlos Paz   \n",
       "316         sell         house             Capital Federal   \n",
       "317         sell         house             Capital Federal   \n",
       "455         sell         house               Mar del Plata   \n",
       "668         sell         house               Mar del Plata   \n",
       "918         sell     apartment                 Ramos Mejía   \n",
       "1397        sell     apartment                   Balvanera   \n",
       "1598        sell         house                     Rosario   \n",
       "1690        sell         house                   Ituzaingó   \n",
       "1696        sell         house  Los Pingüinos Country Club   \n",
       "1703        sell         house  Los Pingüinos Country Club   \n",
       "1802        sell         house                       Morón   \n",
       "1804        sell         house    Bs.As. G.B.A. Zona Oeste   \n",
       "1811        sell         house  Los Pingüinos Country Club   \n",
       "1868        sell         house                       Morón   \n",
       "2443        sell         house                      Moreno   \n",
       "2487        sell         house  Los Pingüinos Country Club   \n",
       "2529        sell         house                     Córdoba   \n",
       "2584        sell     apartment                     Córdoba   \n",
       "2876        sell         store                       Morón   \n",
       "2884        sell         house  Los Pingüinos Country Club   \n",
       "2942        sell         house                     Córdoba   \n",
       "3487        sell         house  Los Pingüinos Country Club   \n",
       "3491        sell         house  Los Pingüinos Country Club   \n",
       "3499        sell         house                       Morón   \n",
       "3719        sell         house                      Moreno   \n",
       "3822        sell     apartment                   Ituzaingó   \n",
       "3838        sell         house                   Ituzaingó   \n",
       "3860        sell     apartment                      Moreno   \n",
       "...          ...           ...                         ...   \n",
       "113400      sell         house                    Balcarce   \n",
       "113593      sell         house                    Martínez   \n",
       "113829      sell         house                     Córdoba   \n",
       "113882      sell         house                     Córdoba   \n",
       "113886      sell         house                     Córdoba   \n",
       "114080      sell         house                  San Isidro   \n",
       "114237      sell         house                     Pinamar   \n",
       "114241      sell     apartment               Mar del Plata   \n",
       "114296      sell         house                     Córdoba   \n",
       "116260      sell     apartment               Mar del Plata   \n",
       "116280      sell     apartment               Mar del Plata   \n",
       "116283      sell         house               Mar del Plata   \n",
       "116883      sell         store               Vicente López   \n",
       "117192      sell         store               Mar del Plata   \n",
       "117211      sell     apartment               Mar del Plata   \n",
       "117533      sell     apartment                     Palermo   \n",
       "118327      sell     apartment                     Rosario   \n",
       "119563      sell     apartment                     Palermo   \n",
       "119565      sell     apartment                     Palermo   \n",
       "119778      sell     apartment               Mar del Plata   \n",
       "119784      sell         house               Mar del Plata   \n",
       "119787      sell     apartment               Mar del Plata   \n",
       "119830      sell         house               Mar del Plata   \n",
       "119846      sell            PH                    Belgrano   \n",
       "120124      sell     apartment                     Pinamar   \n",
       "120168      sell         house                    Necochea   \n",
       "120181      sell         house                     Córdoba   \n",
       "120202      sell            PH               Mar del Plata   \n",
       "120302      sell         house                       Pilar   \n",
       "121055      sell         house                       Morón   \n",
       "\n",
       "                                  place_with_parent_names country_name  \\\n",
       "78                           |Argentina|Misiones|Posadas|    Argentina   \n",
       "177                  |Argentina|Córdoba|Villa Carlos Paz|    Argentina   \n",
       "316                           |Argentina|Capital Federal|    Argentina   \n",
       "317                           |Argentina|Capital Federal|    Argentina   \n",
       "455     |Argentina|Buenos Aires Costa Atlántica|Mar de...    Argentina   \n",
       "668     |Argentina|Buenos Aires Costa Atlántica|Mar de...    Argentina   \n",
       "918     |Argentina|Bs.As. G.B.A. Zona Oeste|La Matanza...    Argentina   \n",
       "1397                |Argentina|Capital Federal|Balvanera|    Argentina   \n",
       "1598                         |Argentina|Santa Fe|Rosario|    Argentina   \n",
       "1690       |Argentina|Bs.As. G.B.A. Zona Oeste|Ituzaingó|    Argentina   \n",
       "1696    |Argentina|Bs.As. G.B.A. Zona Oeste|Ituzaingó|...    Argentina   \n",
       "1703    |Argentina|Bs.As. G.B.A. Zona Oeste|Ituzaingó|...    Argentina   \n",
       "1802           |Argentina|Bs.As. G.B.A. Zona Oeste|Morón|    Argentina   \n",
       "1804                 |Argentina|Bs.As. G.B.A. Zona Oeste|    Argentina   \n",
       "1811    |Argentina|Bs.As. G.B.A. Zona Oeste|Ituzaingó|...    Argentina   \n",
       "1868           |Argentina|Bs.As. G.B.A. Zona Oeste|Morón|    Argentina   \n",
       "2443          |Argentina|Bs.As. G.B.A. Zona Oeste|Moreno|    Argentina   \n",
       "2487    |Argentina|Bs.As. G.B.A. Zona Oeste|Ituzaingó|...    Argentina   \n",
       "2529                          |Argentina|Córdoba|Córdoba|    Argentina   \n",
       "2584                          |Argentina|Córdoba|Córdoba|    Argentina   \n",
       "2876           |Argentina|Bs.As. G.B.A. Zona Oeste|Morón|    Argentina   \n",
       "2884    |Argentina|Bs.As. G.B.A. Zona Oeste|Ituzaingó|...    Argentina   \n",
       "2942                          |Argentina|Córdoba|Córdoba|    Argentina   \n",
       "3487    |Argentina|Bs.As. G.B.A. Zona Oeste|Ituzaingó|...    Argentina   \n",
       "3491    |Argentina|Bs.As. G.B.A. Zona Oeste|Ituzaingó|...    Argentina   \n",
       "3499           |Argentina|Bs.As. G.B.A. Zona Oeste|Morón|    Argentina   \n",
       "3719          |Argentina|Bs.As. G.B.A. Zona Oeste|Moreno|    Argentina   \n",
       "3822       |Argentina|Bs.As. G.B.A. Zona Oeste|Ituzaingó|    Argentina   \n",
       "3838       |Argentina|Bs.As. G.B.A. Zona Oeste|Ituzaingó|    Argentina   \n",
       "3860          |Argentina|Bs.As. G.B.A. Zona Oeste|Moreno|    Argentina   \n",
       "...                                                   ...          ...   \n",
       "113400         |Argentina|Buenos Aires Interior|Balcarce|    Argentina   \n",
       "113593  |Argentina|Bs.As. G.B.A. Zona Norte|San Isidro...    Argentina   \n",
       "113829                                |Argentina|Córdoba|    Argentina   \n",
       "113882                                |Argentina|Córdoba|    Argentina   \n",
       "113886                                |Argentina|Córdoba|    Argentina   \n",
       "114080  |Argentina|Bs.As. G.B.A. Zona Norte|San Isidro...    Argentina   \n",
       "114237   |Argentina|Buenos Aires Costa Atlántica|Pinamar|    Argentina   \n",
       "114241  |Argentina|Buenos Aires Costa Atlántica|Mar de...    Argentina   \n",
       "114296                        |Argentina|Córdoba|Córdoba|    Argentina   \n",
       "116260  |Argentina|Buenos Aires Costa Atlántica|Mar de...    Argentina   \n",
       "116280  |Argentina|Buenos Aires Costa Atlántica|Mar de...    Argentina   \n",
       "116283  |Argentina|Buenos Aires Costa Atlántica|Mar de...    Argentina   \n",
       "116883  |Argentina|Bs.As. G.B.A. Zona Norte|Vicente Ló...    Argentina   \n",
       "117192  |Argentina|Buenos Aires Costa Atlántica|Mar de...    Argentina   \n",
       "117211  |Argentina|Buenos Aires Costa Atlántica|Mar de...    Argentina   \n",
       "117533                |Argentina|Capital Federal|Palermo|    Argentina   \n",
       "118327                       |Argentina|Santa Fe|Rosario|    Argentina   \n",
       "119563                |Argentina|Capital Federal|Palermo|    Argentina   \n",
       "119565                |Argentina|Capital Federal|Palermo|    Argentina   \n",
       "119778  |Argentina|Buenos Aires Costa Atlántica|Mar de...    Argentina   \n",
       "119784  |Argentina|Buenos Aires Costa Atlántica|Mar de...    Argentina   \n",
       "119787  |Argentina|Buenos Aires Costa Atlántica|Mar de...    Argentina   \n",
       "119830  |Argentina|Buenos Aires Costa Atlántica|Mar de...    Argentina   \n",
       "119846               |Argentina|Capital Federal|Belgrano|    Argentina   \n",
       "120124   |Argentina|Buenos Aires Costa Atlántica|Pinamar|    Argentina   \n",
       "120168  |Argentina|Buenos Aires Costa Atlántica|Necochea|    Argentina   \n",
       "120181                        |Argentina|Córdoba|Córdoba|    Argentina   \n",
       "120202  |Argentina|Buenos Aires Costa Atlántica|Mar de...    Argentina   \n",
       "120302         |Argentina|Bs.As. G.B.A. Zona Norte|Pilar|    Argentina   \n",
       "121055   |Argentina|Bs.As. G.B.A. Zona Oeste|Morón|Morón|    Argentina   \n",
       "\n",
       "                          state_name  geonames_id  \\\n",
       "78                          Misiones    3429886.0   \n",
       "177                          Córdoba    3832791.0   \n",
       "316                  Capital Federal    3433955.0   \n",
       "317                  Capital Federal    3433955.0   \n",
       "455     Buenos Aires Costa Atlántica    3430863.0   \n",
       "668     Buenos Aires Costa Atlántica    3430863.0   \n",
       "918         Bs.As. G.B.A. Zona Oeste    3429617.0   \n",
       "1397                 Capital Federal    6693228.0   \n",
       "1598                        Santa Fe    3838574.0   \n",
       "1690        Bs.As. G.B.A. Zona Oeste    3433359.0   \n",
       "1696        Bs.As. G.B.A. Zona Oeste          NaN   \n",
       "1703        Bs.As. G.B.A. Zona Oeste          NaN   \n",
       "1802        Bs.As. G.B.A. Zona Oeste    3430544.0   \n",
       "1804        Bs.As. G.B.A. Zona Oeste    3435907.0   \n",
       "1811        Bs.As. G.B.A. Zona Oeste          NaN   \n",
       "1868        Bs.As. G.B.A. Zona Oeste    3430544.0   \n",
       "2443        Bs.As. G.B.A. Zona Oeste    3430550.0   \n",
       "2487        Bs.As. G.B.A. Zona Oeste          NaN   \n",
       "2529                         Córdoba    3860259.0   \n",
       "2584                         Córdoba    3860259.0   \n",
       "2876        Bs.As. G.B.A. Zona Oeste    3430544.0   \n",
       "2884        Bs.As. G.B.A. Zona Oeste          NaN   \n",
       "2942                         Córdoba    3860259.0   \n",
       "3487        Bs.As. G.B.A. Zona Oeste          NaN   \n",
       "3491        Bs.As. G.B.A. Zona Oeste          NaN   \n",
       "3499        Bs.As. G.B.A. Zona Oeste    3430544.0   \n",
       "3719        Bs.As. G.B.A. Zona Oeste    3430550.0   \n",
       "3822        Bs.As. G.B.A. Zona Oeste    3433359.0   \n",
       "3838        Bs.As. G.B.A. Zona Oeste    3433359.0   \n",
       "3860        Bs.As. G.B.A. Zona Oeste    3430550.0   \n",
       "...                              ...          ...   \n",
       "113400         Buenos Aires Interior    3436176.0   \n",
       "113593      Bs.As. G.B.A. Zona Norte    3430813.0   \n",
       "113829                       Córdoba    3860255.0   \n",
       "113882                       Córdoba    3860255.0   \n",
       "113886                       Córdoba    3860255.0   \n",
       "114080      Bs.As. G.B.A. Zona Norte    3428983.0   \n",
       "114237  Buenos Aires Costa Atlántica    3429971.0   \n",
       "114241  Buenos Aires Costa Atlántica    3430863.0   \n",
       "114296                       Córdoba    3860259.0   \n",
       "116260  Buenos Aires Costa Atlántica    3430863.0   \n",
       "116280  Buenos Aires Costa Atlántica    3430863.0   \n",
       "116283  Buenos Aires Costa Atlántica    3430863.0   \n",
       "116883      Bs.As. G.B.A. Zona Norte          NaN   \n",
       "117192  Buenos Aires Costa Atlántica    3430863.0   \n",
       "117211  Buenos Aires Costa Atlántica    3430863.0   \n",
       "117533               Capital Federal    3430234.0   \n",
       "118327                      Santa Fe    3838574.0   \n",
       "119563               Capital Federal    3430234.0   \n",
       "119565               Capital Federal    3430234.0   \n",
       "119778  Buenos Aires Costa Atlántica    3430863.0   \n",
       "119784  Buenos Aires Costa Atlántica    3430863.0   \n",
       "119787  Buenos Aires Costa Atlántica    3430863.0   \n",
       "119830  Buenos Aires Costa Atlántica    3430863.0   \n",
       "119846               Capital Federal    3436077.0   \n",
       "120124  Buenos Aires Costa Atlántica    3429971.0   \n",
       "120168  Buenos Aires Costa Atlántica    3430442.0   \n",
       "120181                       Córdoba    3860259.0   \n",
       "120202  Buenos Aires Costa Atlántica    3430863.0   \n",
       "120302      Bs.As. G.B.A. Zona Norte    3429979.0   \n",
       "121055      Bs.As. G.B.A. Zona Oeste    3430544.0   \n",
       "\n",
       "                              lat-lon        lat        lon  \\\n",
       "78      -27.3554665957,-55.9021115026 -27.355467 -55.902112   \n",
       "177           -31.4200736,-64.4947113 -31.420074 -64.494711   \n",
       "316                               NaN        NaN        NaN   \n",
       "317                               NaN        NaN        NaN   \n",
       "455           -37.9638994,-57.5790314 -37.963899 -57.579031   \n",
       "668           -38.0332566,-57.5832814 -38.033257 -57.583281   \n",
       "918             -34.641643,-58.569894 -34.641643 -58.569894   \n",
       "1397    -34.6031328142,-58.3946243302 -34.603133 -58.394624   \n",
       "1598    -32.9591153641,-60.6792491653 -32.959115 -60.679249   \n",
       "1690        -34.67317581,-58.67146683 -34.673176 -58.671467   \n",
       "1696        -34.63765335,-58.68823624 -34.637653 -58.688236   \n",
       "1703        -34.64697266,-58.66093445 -34.646973 -58.660934   \n",
       "1802        -34.64177704,-58.63933945 -34.641777 -58.639339   \n",
       "1804                              NaN        NaN        NaN   \n",
       "1811        -34.63644028,-58.66096878 -34.636440 -58.660969   \n",
       "1868        -34.65327835,-58.65235901 -34.653278 -58.652359   \n",
       "2443        -34.63969803,-58.82596207 -34.639698 -58.825962   \n",
       "2487        -34.64078522,-58.66629791 -34.640785 -58.666298   \n",
       "2529         -31.38484573,-64.2377243 -31.384846 -64.237724   \n",
       "2584        -31.41405869,-64.17394257 -31.414059 -64.173943   \n",
       "2876         -34.65545654,-58.6452446 -34.655457 -58.645245   \n",
       "2884        -34.64870071,-58.68128586 -34.648701 -58.681286   \n",
       "2942          -31.420084,-64.18877411 -31.420084 -64.188774   \n",
       "3487        -34.62517166,-58.66135025 -34.625172 -58.661350   \n",
       "3491        -34.64606857,-58.66072083 -34.646069 -58.660721   \n",
       "3499        -34.65327454,-58.65237808 -34.653275 -58.652378   \n",
       "3719        -34.62008667,-58.80973816 -34.620087 -58.809738   \n",
       "3822        -34.66550064,-58.66954041 -34.665501 -58.669540   \n",
       "3838                              NaN        NaN        NaN   \n",
       "3860        -34.64662933,-58.79486847 -34.646629 -58.794868   \n",
       "...                               ...        ...        ...   \n",
       "113400                            NaN        NaN        NaN   \n",
       "113593        -34.4904859,-58.4835816 -34.490486 -58.483582   \n",
       "113829                            NaN        NaN        NaN   \n",
       "113882          -31.2778543,-64.16774 -31.277854 -64.167740   \n",
       "113886          -31.2778543,-64.16774 -31.277854 -64.167740   \n",
       "114080        -34.4716548,-58.5595066 -34.471655 -58.559507   \n",
       "114237  -37.1187753898,-56.8798457435 -37.118775 -56.879846   \n",
       "114241         -38.0373584,-57.565909 -38.037358 -57.565909   \n",
       "114296         -31.398768,-64.1678089 -31.398768 -64.167809   \n",
       "116260        -38.0082002,-57.5497503 -38.008200 -57.549750   \n",
       "116280        -37.9972498,-57.5515923 -37.997250 -57.551592   \n",
       "116283        -38.0075065,-57.5534014 -38.007506 -57.553401   \n",
       "116883                            NaN        NaN        NaN   \n",
       "117192          -38.00555,-57.5486736 -38.005550 -57.548674   \n",
       "117211        -37.9781978,-57.5976873 -37.978198 -57.597687   \n",
       "117533                            NaN        NaN        NaN   \n",
       "118327        -32.9616239,-60.6479195 -32.961624 -60.647919   \n",
       "119563          -34.598147,-58.411787 -34.598147 -58.411787   \n",
       "119565         -34.5968158,-58.415647 -34.596816 -58.415647   \n",
       "119778         -37.999315,-57.5425406 -37.999315 -57.542541   \n",
       "119784        -38.0225535,-57.5346169 -38.022554 -57.534617   \n",
       "119787         -38.0118429,-57.545684 -38.011843 -57.545684   \n",
       "119830        -37.9958541,-57.5425943 -37.995854 -57.542594   \n",
       "119846         -34.573783,-58.4424268 -34.573783 -58.442427   \n",
       "120124  -37.1143446221,-56.8624922624 -37.114345 -56.862492   \n",
       "120168        -38.5558902,-58.7493098 -38.555890 -58.749310   \n",
       "120181        -31.3915783,-64.1374518 -31.391578 -64.137452   \n",
       "120202  -38.0301135836,-57.5744417429 -38.030114 -57.574442   \n",
       "120302                            NaN        NaN        NaN   \n",
       "121055                            NaN        NaN        NaN   \n",
       "\n",
       "                              ...                          \\\n",
       "78                            ...                           \n",
       "177                           ...                           \n",
       "316                           ...                           \n",
       "317                           ...                           \n",
       "455                           ...                           \n",
       "668                           ...                           \n",
       "918                           ...                           \n",
       "1397                          ...                           \n",
       "1598                          ...                           \n",
       "1690                          ...                           \n",
       "1696                          ...                           \n",
       "1703                          ...                           \n",
       "1802                          ...                           \n",
       "1804                          ...                           \n",
       "1811                          ...                           \n",
       "1868                          ...                           \n",
       "2443                          ...                           \n",
       "2487                          ...                           \n",
       "2529                          ...                           \n",
       "2584                          ...                           \n",
       "2876                          ...                           \n",
       "2884                          ...                           \n",
       "2942                          ...                           \n",
       "3487                          ...                           \n",
       "3491                          ...                           \n",
       "3499                          ...                           \n",
       "3719                          ...                           \n",
       "3822                          ...                           \n",
       "3838                          ...                           \n",
       "3860                          ...                           \n",
       "...                           ...                           \n",
       "113400                        ...                           \n",
       "113593                        ...                           \n",
       "113829                        ...                           \n",
       "113882                        ...                           \n",
       "113886                        ...                           \n",
       "114080                        ...                           \n",
       "114237                        ...                           \n",
       "114241                        ...                           \n",
       "114296                        ...                           \n",
       "116260                        ...                           \n",
       "116280                        ...                           \n",
       "116283                        ...                           \n",
       "116883                        ...                           \n",
       "117192                        ...                           \n",
       "117211                        ...                           \n",
       "117533                        ...                           \n",
       "118327                        ...                           \n",
       "119563                        ...                           \n",
       "119565                        ...                           \n",
       "119778                        ...                           \n",
       "119784                        ...                           \n",
       "119787                        ...                           \n",
       "119830                        ...                           \n",
       "119846                        ...                           \n",
       "120124                        ...                           \n",
       "120168                        ...                           \n",
       "120181                        ...                           \n",
       "120202                        ...                           \n",
       "120302                        ...                           \n",
       "121055                        ...                           \n",
       "\n",
       "        surface_covered_in_m2 price_usd_per_m2  price_per_m2  floor  rooms  \\\n",
       "78                    18615.0      1181.839923    295.460650    NaN    5.0   \n",
       "177                     450.0      1119.047619   1044.444444    NaN    9.0   \n",
       "316                     156.0      3440.000000   2756.410256    NaN    NaN   \n",
       "317                     156.0      3440.000000   2756.410256    NaN    NaN   \n",
       "455                     430.0       700.000000    276.744186    NaN    4.0   \n",
       "668                     230.0       611.111111    478.260870    NaN    5.0   \n",
       "918                      65.0      2500.000000   2307.692308    NaN    NaN   \n",
       "1397                     89.0      1850.000000   1662.921348    NaN    NaN   \n",
       "1598                    105.0      1111.111111    952.380952    NaN    5.0   \n",
       "1690                    230.0              NaN           NaN    NaN    2.0   \n",
       "1696                     24.0              NaN           NaN    NaN    1.0   \n",
       "1703                    173.0              NaN           NaN    NaN    2.0   \n",
       "1802                    240.0              NaN           NaN    NaN    3.0   \n",
       "1804                    320.0              NaN           NaN    NaN    2.0   \n",
       "1811                    250.0              NaN           NaN    NaN    3.0   \n",
       "1868                    290.0              NaN           NaN    NaN    4.0   \n",
       "2443                    200.0              NaN           NaN    NaN    4.0   \n",
       "2487                    190.0              NaN           NaN    NaN    3.0   \n",
       "2529                    490.0              NaN           NaN    NaN    3.0   \n",
       "2584                     80.0              NaN           NaN    NaN    2.0   \n",
       "2876                    500.0              NaN           NaN    NaN    NaN   \n",
       "2884                     40.0              NaN           NaN    NaN    1.0   \n",
       "2942                    416.0              NaN           NaN    NaN    5.0   \n",
       "3487                    110.0              NaN           NaN    NaN    2.0   \n",
       "3491                    100.0              NaN           NaN    NaN    3.0   \n",
       "3499                    290.0              NaN           NaN    NaN    3.0   \n",
       "3719                    200.0              NaN           NaN    NaN    4.0   \n",
       "3822                     75.0              NaN           NaN    NaN    2.0   \n",
       "3838                     70.0              NaN           NaN    NaN    3.0   \n",
       "3860                     36.0              NaN           NaN    NaN    1.0   \n",
       "...                       ...              ...           ...    ...    ...   \n",
       "113400                  625.0      1666.666667   1000.000000    NaN   10.0   \n",
       "113593                  307.0      1984.063745   1622.149837    NaN    NaN   \n",
       "113829                   32.0              NaN           NaN    NaN    NaN   \n",
       "113882                   46.0              NaN           NaN    NaN    NaN   \n",
       "113886                   74.0       128.191143   2162.162162    NaN    NaN   \n",
       "114080                  130.0      2333.333333   1615.384615    NaN    NaN   \n",
       "114237                  833.0       635.036496    104.441777    NaN    4.0   \n",
       "114241                   52.0       968.085106    875.000000    NaN    2.0   \n",
       "114296                  196.0      1523.809524    816.326531    NaN   10.0   \n",
       "116260                   47.0      1600.000000   1531.914894    NaN    2.0   \n",
       "116280                   34.0      2187.500000   2058.823529    NaN    1.0   \n",
       "116283                  260.0      1506.849315    846.153846    NaN    5.0   \n",
       "116883                  235.0      9036.144578   6382.978723    NaN    NaN   \n",
       "117192                   82.0      1493.670886   1439.024390    NaN    NaN   \n",
       "117211                   80.0              NaN           NaN    NaN    4.0   \n",
       "117533                   74.0      7421.744103  69743.283784    NaN    NaN   \n",
       "118327                  135.0      1993.579070  22644.444444    NaN    NaN   \n",
       "119563                   79.0      2881.355932   2151.898734    NaN    NaN   \n",
       "119565                   42.0      2894.736842   2619.047619    NaN    NaN   \n",
       "119778                   68.0      2292.307692   2191.176471    NaN    3.0   \n",
       "119784                  297.0      1666.666667   1313.131313    NaN    4.0   \n",
       "119787                   60.0      2370.227273   1738.166667    NaN    NaN   \n",
       "119830                  650.0      1785.714286    923.076923    NaN    9.0   \n",
       "119846                  140.0      2318.181818   1821.428571    NaN    6.0   \n",
       "120124                  120.0     11750.000000   1958.333333    NaN    4.0   \n",
       "120168                  140.0      1083.333333    928.571429    NaN    6.0   \n",
       "120181                  226.0       751.447908   9070.796460    NaN    3.0   \n",
       "120202                  200.0       714.285714    250.000000    NaN    3.0   \n",
       "120302                12000.0      1083.333333    108.333333    NaN    NaN   \n",
       "121055                   98.0      2012.987013   1581.632653    NaN    NaN   \n",
       "\n",
       "        expenses                                      properati_url  \\\n",
       "78           NaN  http://www.properati.com.ar/15byn_venta_casa_p...   \n",
       "177          NaN  http://www.properati.com.ar/15dcr_venta_depart...   \n",
       "316          NaN  http://www.properati.com.ar/15e1h_venta_casa_b...   \n",
       "317          NaN  http://www.properati.com.ar/15e1i_venta_casa_b...   \n",
       "455          NaN  http://www.properati.com.ar/15en5_venta_casa_m...   \n",
       "668          NaN  http://www.properati.com.ar/15fkx_venta_casa_m...   \n",
       "918          NaN  http://www.properati.com.ar/15gk7_venta_depart...   \n",
       "1397         NaN  http://www.properati.com.ar/15i72_venta_depart...   \n",
       "1598         NaN  http://www.properati.com.ar/15iut_venta_casa_r...   \n",
       "1690         NaN  http://www.properati.com.ar/15j9o_venta_casa_i...   \n",
       "1696         NaN  http://www.properati.com.ar/15j9v_venta_casa_l...   \n",
       "1703         NaN  http://www.properati.com.ar/15jab_venta_casa_l...   \n",
       "1802         NaN  http://www.properati.com.ar/15jfc_venta_casa_m...   \n",
       "1804         NaN  http://www.properati.com.ar/15jfg_venta_casa_b...   \n",
       "1811         NaN  http://www.properati.com.ar/15jfs_venta_casa_l...   \n",
       "1868         NaN  http://www.properati.com.ar/15jin_venta_casa_m...   \n",
       "2443         NaN  http://www.properati.com.ar/15k60_venta_casa_m...   \n",
       "2487         NaN  http://www.properati.com.ar/15k7j_venta_casa_l...   \n",
       "2529         NaN  http://www.properati.com.ar/15k8z_venta_casa_c...   \n",
       "2584         NaN  http://www.properati.com.ar/15kb4_venta_depart...   \n",
       "2876         NaN  http://www.properati.com.ar/15kmv_venta_local_...   \n",
       "2884         NaN  http://www.properati.com.ar/15knf_venta_casa_l...   \n",
       "2942         NaN  http://www.properati.com.ar/15kpa_venta_casa_c...   \n",
       "3487         NaN  http://www.properati.com.ar/15l8f_venta_casa_l...   \n",
       "3491         NaN  http://www.properati.com.ar/15l8k_venta_casa_l...   \n",
       "3499         NaN  http://www.properati.com.ar/15l8x_venta_casa_m...   \n",
       "3719         NaN  http://www.properati.com.ar/15lg4_venta_casa_m...   \n",
       "3822         NaN  http://www.properati.com.ar/15lka_venta_depart...   \n",
       "3838         NaN  http://www.properati.com.ar/15lkt_venta_casa_i...   \n",
       "3860         NaN  http://www.properati.com.ar/15llv_venta_depart...   \n",
       "...          ...                                                ...   \n",
       "113400       NaN  http://www.properati.com.ar/1c8ak_alquiler_cas...   \n",
       "113593       NaN  http://www.properati.com.ar/1c8kb_venta_casa_m...   \n",
       "113829       NaN  http://www.properati.com.ar/1c8yr_venta_casa_c...   \n",
       "113882       NaN  http://www.properati.com.ar/1c91o_venta_casa_c...   \n",
       "113886       NaN  http://www.properati.com.ar/1c91t_venta_casa_c...   \n",
       "114080       NaN  http://www.properati.com.ar/1c9cv_venta_casa_s...   \n",
       "114237       NaN  http://www.properati.com.ar/1c9ln_venta_casa_p...   \n",
       "114241       NaN  http://www.properati.com.ar/1c9lu_venta_depart...   \n",
       "114296       NaN  http://www.properati.com.ar/1c9p7_venta_casa_c...   \n",
       "116260       NaN  http://www.properati.com.ar/1cc3i_venta_depart...   \n",
       "116280       NaN  http://www.properati.com.ar/1cc47_venta_depart...   \n",
       "116283       NaN  http://www.properati.com.ar/1cc4d_venta_casa_m...   \n",
       "116883       NaN  http://www.properati.com.ar/1ccsy_venta_local_...   \n",
       "117192       NaN  http://www.properati.com.ar/1cdb4_venta_local_...   \n",
       "117211       NaN  http://www.properati.com.ar/1cdbx_venta_depart...   \n",
       "117533       NaN  http://www.properati.com.ar/1cdo6_venta_depart...   \n",
       "118327       NaN  http://www.properati.com.ar/1celj_venta_depart...   \n",
       "119563       NaN  http://www.properati.com.ar/1cgtv_venta_depart...   \n",
       "119565       NaN  http://www.properati.com.ar/1cgu2_venta_depart...   \n",
       "119778       NaN  http://www.properati.com.ar/1ch2x_venta_depart...   \n",
       "119784       NaN  http://www.properati.com.ar/1ch33_venta_casa_m...   \n",
       "119787       NaN  http://www.properati.com.ar/1ch38_venta_depart...   \n",
       "119830       NaN  http://www.properati.com.ar/1ch65_venta_casa_m...   \n",
       "119846    4000.0  http://www.properati.com.ar/1ch6q_venta_ph_bel...   \n",
       "120124       NaN  http://www.properati.com.ar/1chjp_venta_depart...   \n",
       "120168       NaN  http://www.properati.com.ar/1chlo_venta_casa_n...   \n",
       "120181       NaN  http://www.properati.com.ar/1chma_venta_casa_c...   \n",
       "120202       NaN  http://www.properati.com.ar/1chn1_venta_ph_mar...   \n",
       "120302   20000.0  http://www.properati.com.ar/1chr7_venta_casa_p...   \n",
       "121055       NaN  http://www.properati.com.ar/1cj15_venta_casa_m...   \n",
       "\n",
       "                                              description  \\\n",
       "78      S/AVDA   COSTANERA ,  NUEVA  ZONA GASTRONOMICA...   \n",
       "177     CASA PRINCIPAL QUE CONSTA DE 3 DORM,.AMPLIOS,2...   \n",
       "316     Buena ubicaciÃ³n. Muy buen acceso. Lezica esq....   \n",
       "317     Buena ubicaciÃ³n. Muy buen acceso. Lezica esq....   \n",
       "455     CHALET TOTALMENTE DESARROLLADO EN PLANTA BAJA ...   \n",
       "668     Chalet  tres ambientes, dos dormitorios cómodo...   \n",
       "918     Excelente departamento de 3 ambientes al frent...   \n",
       "1397    CODIGO:  ubicado en: Lavalle 1900 -  Publicado...   \n",
       "1598    Bogado Gaspar - Futura Negocios Inmobiliarios ...   \n",
       "1690    CONSULTE POR EL CÓDIGO:2279ZONA: Ituzaingó sur...   \n",
       "1696    MONOAMBIENTE EN ALQUILERMonoambiente con cocin...   \n",
       "1703    Corredor Responsable: Federico Bogianchino Pro...   \n",
       "1802    MR-341IMPECABLE CASA 2 PLANTAS EN EXCELENTE ZO...   \n",
       "1804    LA PROPIEDAD ESTA UBICADA EN EL BARRIO TORRES ...   \n",
       "1811    MR-340EXCELENTE CHALET ITUZAINGO NORTEPBGARAGE...   \n",
       "1868    Inmejorable ubicación, compuesto por 2 plantas...   \n",
       "2443    oportunidad ¡¡ vendo con facilidades de pago d...   \n",
       "2487    Chalet en dos plantas, hall de acceso, Living ...   \n",
       "2529    3 dormitorios, suite en planta alta con terraz...   \n",
       "2584    2 DORM - 3 BAÑOS8º PISO \"D\" CONTRAFRENTE, COMP...   \n",
       "2876    LA PROPIEDAD CUENTA AL FRENTE CON UN LOCAL COM...   \n",
       "2884    2 PH de 3.20 x 11 m: Living, cocina, 1 habitac...   \n",
       "2942    JGD Calidad Inmobiliaria ofrece MAGNÍFICA  PRO...   \n",
       "3487    1017 - Solido chalet duplex cercano a Acceso O...   \n",
       "3491    1033 - Excelente triplex a estrenar compuesto ...   \n",
       "3499    1047 - Solido chalet en Parque Costa compuesto...   \n",
       "3719    oportunidad ¡¡ vendo con facilidades dos duple...   \n",
       "3822    Sólido y amplio departamento en primer piso a ...   \n",
       "3838    Posee dos dormitorios, dos baños, cocina comed...   \n",
       "3860    Muy lindo departamento de dos ambientes a estr...   \n",
       "...                                                   ...   \n",
       "113400  Propiedad sobre lote de 12,50x30 en 3 plantas:...   \n",
       "113593  Chalet en impecable estado, sobre lote de 251m...   \n",
       "113829  Aproveche nuestras promociones con entrega,en ...   \n",
       "113882  Construcciones modernas, exclusivas de PREFACO...   \n",
       "113886  Cabaña de 3 dormitorios, cocina, estar comedor...   \n",
       "114080  Seguridad las 24 hs. a 5 cuadras de Acceso Tig...   \n",
       "114237  Casa sin terminar revocada por fuera, sin aber...   \n",
       "114241  PH  a la calle , con amplio livig comedor, coc...   \n",
       "114296  LOZA SERVICIOS INMOBILIARIOS PRESENTA CASA DE ...   \n",
       "116260  Corrientes y Alberti  en macrocentro de la ciu...   \n",
       "116280  Departamento de 1 ambiente lateral con excelen...   \n",
       "116283  En un punto estratégico de la ciudad este Chal...   \n",
       "116883  Ph's a Refaccionar, IDEAL Uso Comercial para O...   \n",
       "117192  AMPLIO LOCAL CON PATIO + Garaje contiguoBROWN ...   \n",
       "117211  Hermoso departamento  de 4 ambientes totalment...   \n",
       "117533  PISO 7UNIDAD A– ESTUDIO: - Superficie cubierta...   \n",
       "118327  FORMA DE PAGO:1) CONTADO2) ENTREGA DEL 30% Y E...   \n",
       "119563  3 Ambientes , Frente , Con Balcón Terraza   Av...   \n",
       "119565  2 Ambientes , Contra Frente con Balcón , Cocin...   \n",
       "119778   EXCELENTE OPORTUNIDAD APTO CRÉDITO BANCARIO 3...   \n",
       "119784  Superficie cubierta 297 m², sobre lote de 10.3...   \n",
       "119787  Departamentos de 2 ambientes, dúplex y tríplex...   \n",
       "119830  Casa de 1930, se agrega en 2002 edificio nuevo...   \n",
       "119846  Departamento tipo PH- en 2 plantas- 2 y 3 piso...   \n",
       "120124  EL EDIFICIO CUENTA CON ENCARGADO PERMANENTE , ...   \n",
       "120168  casa en dos plantas, primer piso tres dormitor...   \n",
       "120181  Casa Yofre Sur , APTO CRÉDITO, Córdoba 3 habit...   \n",
       "120202  Hermoso PH Con dos Habitaciones, una en suite ...   \n",
       "120302  Impecable casa en alquiler Lote de 3500m2 Casa...   \n",
       "121055  Excelente propiedad ubicada en esquina, a 2 cu...   \n",
       "\n",
       "                                                    title  \\\n",
       "78                  Oportunidad! Casa zona Bahía el Brete   \n",
       "177           SE VENDE VIVIENDA+LOCALES COMERCIALES+DPTOS   \n",
       "316     Casa 125m² con 3 Plantas en Lezica, Martín 300...   \n",
       "317     Casa 125m² con 3 Plantas en Lezica, Martín 300...   \n",
       "455                      chalet 4 ambientes apto credito    \n",
       "668                               ICIAR PROPIEDADES VENDE   \n",
       "918         Departamento 3 ambientes con cochera cubierta   \n",
       "1397                 Balvanera - departamento 4 ambientes   \n",
       "1598                              VIAMONTE 3781 - ROSARIO   \n",
       "1690                       U$D 110.000 - Casa en Venta -    \n",
       "1696            $ 4.500 - Casa en Venta - Zarate     2575   \n",
       "1703    U$D 160.000 - Casa en Venta - Andres Lamas    ...   \n",
       "1802    U$D 300.000 - Casa en Venta - Gral Munilla    ...   \n",
       "1804    U$D 55.000 - Casa en Venta - Estanislao De Cam...   \n",
       "1811         U$D 215.000 - Casa en Venta - Erlich     500   \n",
       "1868        U$D 175.000 - Casa en Venta - Pehuajo     500   \n",
       "2443    U$D 140.000 - Casa en Venta - Evaristo Carrieg...   \n",
       "2487    U$D 200.000 - Casa en Venta - 33 Orientales   ...   \n",
       "2529    U$D 430.000 - Casa en Venta - Urca Categoría 2...   \n",
       "2584    $ 2.100.000 - Departamento en Venta - Bv Ocamp...   \n",
       "2876        U$D 500.000 - Local en Venta - Arias     3242   \n",
       "2884                U$D 65.000 - Tipo casa PH en Venta -    \n",
       "2942      U$D 150.000 - Casa en Venta - Ansenusa     3477   \n",
       "3487                       U$D 110.000 - Casa en Venta -    \n",
       "3491                       U$D 110.000 - Casa en Venta -    \n",
       "3499                       U$D 180.000 - Casa en Venta -    \n",
       "3719       U$D 140.000 - Casa en Venta - Carriego     100   \n",
       "3822    U$D 55.000 - Departamento en Venta - Iriarte  ...   \n",
       "3838    U$D 100.000 - Tipo casa PH en Venta - Barcala ...   \n",
       "3860    U$D 55.000 - Departamento en Venta - Camilli  ...   \n",
       "...                                                   ...   \n",
       "113400             Casa con local y oficina (Residencial)   \n",
       "113593  Impecable chalet en Venta, ubicado en Martínez...   \n",
       "113829                                   Casas Prefabrica   \n",
       "113882                        Nuevos Modelos Minimalistas   \n",
       "113886                               Cabaña 3 Dormitorios   \n",
       "114080                    LA MERCED - DUPLEX APTO CREDITO   \n",
       "114237  Casa en Venta. Ambientes. Dormitorios. 137 m2....   \n",
       "114241                                   PH- 2 AMBIENTES    \n",
       "114296  EXCELENTE CASA DE CATEGORÍA EN VENTA. Bº PUEYR...   \n",
       "116260                      Vendo 2 ambientes a la calle    \n",
       "116280                  EXCELENTE DEPARTAMENTO A ESTRENAR   \n",
       "116283     Venta Chalet. Ideal uso Comercial-Profesional.   \n",
       "116883                            Oficina - Vicente López   \n",
       "117192                  LOCAL CON PATIO Y GARAGE CONTIGUO   \n",
       "117211   Depto. 4 amb.  a la calle C/balcon 1° piso po...   \n",
       "117533    Departamento en Venta - Maison Thames - Palermo   \n",
       "118327        PARAGUAY 2170 - 3 DORMITORIOS U A01´Y A01´´   \n",
       "119563   3 Ambientes, Barrio Norte , Frente , Balcón t...   \n",
       "119565  2 Ambientes , Palermo , Contra Frente con Balc...   \n",
       "119778  CENTRO - 3 AMB APTO CREDITO , VISTA AL MAR BAL...   \n",
       "119784   PLAYA GRANDE - CHALET 4 AMB GARAGE DOBLE QUINCHO   \n",
       "119787  Edificio Young Tower VI Condos – Lamadrid 2735...   \n",
       "119830  Importante Casona a metros del mar ideal hoste...   \n",
       "119846                                           Ph venta   \n",
       "120124                     CENTRICO SEMIPISO DE CATEGORIA   \n",
       "120168                  casa en dos plantas 4 dormitorios   \n",
       "120181      Vendo Casa Yofre Sur , APTO CRÉDITO, Córdoba    \n",
       "120202  Excelente PH en impecables condiciónes, Digno ...   \n",
       "120302            Casa - Haras Del Sol - 1100m2 cubiertos   \n",
       "121055                                   Casa - Moron Sur   \n",
       "\n",
       "                                          image_thumbnail  \n",
       "78      https://thumbs4.properati.com/2/18AMH0DDp4Xboq...  \n",
       "177     https://thumbs4.properati.com/1/8CEW3VYy-qcIXl...  \n",
       "316     https://thumbs4.properati.com/2/9uEFg6nWxNPZnS...  \n",
       "317     https://thumbs4.properati.com/8/ebEGvg4mGT9rsd...  \n",
       "455     https://thumbs4.properati.com/0/PTEiHyUdNIhOGb...  \n",
       "668     https://thumbs4.properati.com/5/Q4bg5beL_K5Buf...  \n",
       "918     https://thumbs4.properati.com/3/iBgMU83MW1y6Gp...  \n",
       "1397    https://thumbs4.properati.com/0/_CQBVFXnkybCx7...  \n",
       "1598    https://thumbs4.properati.com/8/HtbqH11vfFd6w6...  \n",
       "1690    https://thumbs4.properati.com/9/55GBlWjsA38zc2...  \n",
       "1696    https://thumbs4.properati.com/9/a4kysV82KKVcav...  \n",
       "1703    https://thumbs4.properati.com/4/WX4wsM_Tqq7MwZ...  \n",
       "1802    https://thumbs4.properati.com/1/Ii0qSWhLLd9_B1...  \n",
       "1804    https://thumbs4.properati.com/0/IHx2tPBpRjw7w-...  \n",
       "1811    https://thumbs4.properati.com/9/SO7_ztltRouUFh...  \n",
       "1868    https://thumbs4.properati.com/3/jbqWggjH4knhJD...  \n",
       "2443    https://thumbs4.properati.com/7/aMnXBx5-ph_wSt...  \n",
       "2487    https://thumbs4.properati.com/3/2oBRWMxRuDpIUM...  \n",
       "2529    https://thumbs4.properati.com/8/AWHAD5435PG7Y3...  \n",
       "2584    https://thumbs4.properati.com/6/wh2JU7tHFRRiXD...  \n",
       "2876    https://thumbs4.properati.com/3/PwLGq8dDlz0HOD...  \n",
       "2884    https://thumbs4.properati.com/9/gBavuhnfYdRxHQ...  \n",
       "2942    https://thumbs4.properati.com/7/rg1RWFZYvCDp0O...  \n",
       "3487    https://thumbs4.properati.com/3/uIJa9YbjCZFNRO...  \n",
       "3491    https://thumbs4.properati.com/9/BK-6ZkgDfqZzDg...  \n",
       "3499    https://thumbs4.properati.com/2/GQuZtoy-4HU6VJ...  \n",
       "3719    https://thumbs4.properati.com/3/hnJh5O3QEL6rEG...  \n",
       "3822    https://thumbs4.properati.com/9/yJzv0Z63LLD-WY...  \n",
       "3838    https://thumbs4.properati.com/4/9aUqlrdNFzzkuR...  \n",
       "3860    https://thumbs4.properati.com/9/DKjvK9-Ek0AKsS...  \n",
       "...                                                   ...  \n",
       "113400  https://thumbs4.properati.com/0/wmm0DZJjjm9yQ0...  \n",
       "113593  https://thumbs4.properati.com/5/csfXHQkuKxTOGK...  \n",
       "113829  https://thumbs4.properati.com/0/Y6Tph7CU4J8zM_...  \n",
       "113882  https://thumbs4.properati.com/9/egTbo4Kf1VXW37...  \n",
       "113886  https://thumbs4.properati.com/2/Ztjq40KwpQElz7...  \n",
       "114080  https://thumbs4.properati.com/3/vxljhFOJby_45O...  \n",
       "114237  https://thumbs4.properati.com/6/HLtEEWQrPTbmHk...  \n",
       "114241  https://thumbs4.properati.com/4/CGrwz0OIdCd0Qw...  \n",
       "114296  https://thumbs4.properati.com/1/pw-yJNEfzJyH8j...  \n",
       "116260  https://thumbs4.properati.com/1/xz9zZUMWmYnVYs...  \n",
       "116280  https://thumbs4.properati.com/8/I-JRTlOtVVZhKw...  \n",
       "116283  https://thumbs4.properati.com/6/jZIu0rR5SiuM-M...  \n",
       "116883  https://thumbs4.properati.com/5/k1d_iheAR4u43R...  \n",
       "117192  https://thumbs4.properati.com/5/ZOq3VAXuhrGkwC...  \n",
       "117211  https://thumbs4.properati.com/6/bzLrw-Q9MiRG1v...  \n",
       "117533  https://thumbs4.properati.com/4/ltAPBpoN1aiioO...  \n",
       "118327  https://thumbs4.properati.com/2/zxR9qpYG7pGbIy...  \n",
       "119563  https://thumbs4.properati.com/6/G2rfDhB6lDITQ1...  \n",
       "119565  https://thumbs4.properati.com/5/2zKZnyYFnnIreo...  \n",
       "119778  https://thumbs4.properati.com/8/XMYRNh9gw4dMH1...  \n",
       "119784  https://thumbs4.properati.com/9/uH-Zlq41YEg9f9...  \n",
       "119787  https://thumbs4.properati.com/5/7jTTU_RWRJ1x_0...  \n",
       "119830  https://thumbs4.properati.com/9/OWVhPxyZx3zNrv...  \n",
       "119846  https://thumbs4.properati.com/4/AuZ42kSpMHjNQ4...  \n",
       "120124  https://thumbs4.properati.com/1/BhYS_lDqTtpCc3...  \n",
       "120168  https://thumbs4.properati.com/4/kadYIYVUCHdM_O...  \n",
       "120181  https://thumbs4.properati.com/2/9CESOEksu8h7EK...  \n",
       "120202  https://thumbs4.properati.com/5/UxtgEmnHjjQKNN...  \n",
       "120302  https://thumbs4.properati.com/9/1XYN9N7nCxhs4C...  \n",
       "121055  https://thumbs4.properati.com/9/jwKFf6D-iMcc2g...  \n",
       "\n",
       "[1106 rows x 25 columns]"
      ]
     },
     "execution_count": 16,
     "metadata": {},
     "output_type": "execute_result"
    }
   ],
   "source": [
    "data.loc[data['surface_covered_in_m2']>data['surface_total_in_m2']]#.shape"
   ]
  },
  {
   "cell_type": "code",
   "execution_count": 17,
   "metadata": {},
   "outputs": [],
   "source": [
    "sup_invalida = data.loc[data['surface_covered_in_m2']>data['surface_total_in_m2']].index\n",
    "data.drop(index=sup_invalida,inplace=True)"
   ]
  },
  {
   "cell_type": "code",
   "execution_count": 18,
   "metadata": {
    "scrolled": true
   },
   "outputs": [
    {
     "data": {
      "text/html": [
       "<div>\n",
       "<style scoped>\n",
       "    .dataframe tbody tr th:only-of-type {\n",
       "        vertical-align: middle;\n",
       "    }\n",
       "\n",
       "    .dataframe tbody tr th {\n",
       "        vertical-align: top;\n",
       "    }\n",
       "\n",
       "    .dataframe thead th {\n",
       "        text-align: right;\n",
       "    }\n",
       "</style>\n",
       "<table border=\"1\" class=\"dataframe\">\n",
       "  <thead>\n",
       "    <tr style=\"text-align: right;\">\n",
       "      <th></th>\n",
       "      <th>price_usd_per_m2</th>\n",
       "      <th>price_aprox_usd</th>\n",
       "      <th>surface_total_in_m2</th>\n",
       "    </tr>\n",
       "  </thead>\n",
       "  <tbody>\n",
       "  </tbody>\n",
       "</table>\n",
       "</div>"
      ],
      "text/plain": [
       "Empty DataFrame\n",
       "Columns: [price_usd_per_m2, price_aprox_usd, surface_total_in_m2]\n",
       "Index: []"
      ]
     },
     "execution_count": 18,
     "metadata": {},
     "output_type": "execute_result"
    }
   ],
   "source": [
    "data.loc[(data['price_usd_per_m2'].isna())&(data['price_aprox_usd'].notnull())&(data['surface_total_in_m2'].notnull())\\\n",
    "         &(data['surface_total_in_m2']!=0),\n",
    "        ['price_usd_per_m2','price_aprox_usd','surface_total_in_m2']]"
   ]
  },
  {
   "cell_type": "code",
   "execution_count": 19,
   "metadata": {
    "scrolled": false
   },
   "outputs": [
    {
     "data": {
      "text/html": [
       "<div>\n",
       "<style scoped>\n",
       "    .dataframe tbody tr th:only-of-type {\n",
       "        vertical-align: middle;\n",
       "    }\n",
       "\n",
       "    .dataframe tbody tr th {\n",
       "        vertical-align: top;\n",
       "    }\n",
       "\n",
       "    .dataframe thead th {\n",
       "        text-align: right;\n",
       "    }\n",
       "</style>\n",
       "<table border=\"1\" class=\"dataframe\">\n",
       "  <thead>\n",
       "    <tr style=\"text-align: right;\">\n",
       "      <th></th>\n",
       "      <th>price_per_m2</th>\n",
       "      <th>price</th>\n",
       "      <th>surface_covered_in_m2</th>\n",
       "    </tr>\n",
       "  </thead>\n",
       "  <tbody>\n",
       "    <tr>\n",
       "      <th>7949</th>\n",
       "      <td>NaN</td>\n",
       "      <td>102800.0</td>\n",
       "      <td>0.0</td>\n",
       "    </tr>\n",
       "    <tr>\n",
       "      <th>28938</th>\n",
       "      <td>NaN</td>\n",
       "      <td>22400.0</td>\n",
       "      <td>0.0</td>\n",
       "    </tr>\n",
       "  </tbody>\n",
       "</table>\n",
       "</div>"
      ],
      "text/plain": [
       "       price_per_m2     price  surface_covered_in_m2\n",
       "7949            NaN  102800.0                    0.0\n",
       "28938           NaN   22400.0                    0.0"
      ]
     },
     "execution_count": 19,
     "metadata": {},
     "output_type": "execute_result"
    }
   ],
   "source": [
    "data.loc[(data['price_per_m2'].isna())&(data['price'].notnull())&(data['surface_covered_in_m2'].notnull())\\\n",
    "         ,['price_per_m2','price','surface_covered_in_m2']]"
   ]
  },
  {
   "cell_type": "code",
   "execution_count": 20,
   "metadata": {},
   "outputs": [],
   "source": [
    "data.loc[data['surface_total_in_m2']==0,'surface_total_in_m2']=np.nan\n",
    "data.loc[data['surface_covered_in_m2']==0,'surface_covered_in_m2']=np.nan\n"
   ]
  },
  {
   "cell_type": "markdown",
   "metadata": {},
   "source": [
    "# Valores faltantes de Currency"
   ]
  },
  {
   "cell_type": "code",
   "execution_count": null,
   "metadata": {},
   "outputs": [],
   "source": []
  },
  {
   "cell_type": "code",
   "execution_count": 21,
   "metadata": {
    "scrolled": true
   },
   "outputs": [
    {
     "data": {
      "text/html": [
       "<div>\n",
       "<style scoped>\n",
       "    .dataframe tbody tr th:only-of-type {\n",
       "        vertical-align: middle;\n",
       "    }\n",
       "\n",
       "    .dataframe tbody tr th {\n",
       "        vertical-align: top;\n",
       "    }\n",
       "\n",
       "    .dataframe thead th {\n",
       "        text-align: right;\n",
       "    }\n",
       "</style>\n",
       "<table border=\"1\" class=\"dataframe\">\n",
       "  <thead>\n",
       "    <tr style=\"text-align: right;\">\n",
       "      <th></th>\n",
       "      <th>price</th>\n",
       "      <th>price_aprox_local_currency</th>\n",
       "      <th>price_aprox_usd</th>\n",
       "    </tr>\n",
       "  </thead>\n",
       "  <tbody>\n",
       "    <tr>\n",
       "      <th>5</th>\n",
       "      <td>NaN</td>\n",
       "      <td>NaN</td>\n",
       "      <td>NaN</td>\n",
       "    </tr>\n",
       "    <tr>\n",
       "      <th>20</th>\n",
       "      <td>NaN</td>\n",
       "      <td>NaN</td>\n",
       "      <td>NaN</td>\n",
       "    </tr>\n",
       "    <tr>\n",
       "      <th>41</th>\n",
       "      <td>NaN</td>\n",
       "      <td>NaN</td>\n",
       "      <td>NaN</td>\n",
       "    </tr>\n",
       "    <tr>\n",
       "      <th>62</th>\n",
       "      <td>NaN</td>\n",
       "      <td>NaN</td>\n",
       "      <td>NaN</td>\n",
       "    </tr>\n",
       "    <tr>\n",
       "      <th>67</th>\n",
       "      <td>NaN</td>\n",
       "      <td>NaN</td>\n",
       "      <td>NaN</td>\n",
       "    </tr>\n",
       "    <tr>\n",
       "      <th>76</th>\n",
       "      <td>NaN</td>\n",
       "      <td>NaN</td>\n",
       "      <td>NaN</td>\n",
       "    </tr>\n",
       "    <tr>\n",
       "      <th>83</th>\n",
       "      <td>NaN</td>\n",
       "      <td>NaN</td>\n",
       "      <td>NaN</td>\n",
       "    </tr>\n",
       "    <tr>\n",
       "      <th>84</th>\n",
       "      <td>NaN</td>\n",
       "      <td>NaN</td>\n",
       "      <td>NaN</td>\n",
       "    </tr>\n",
       "    <tr>\n",
       "      <th>85</th>\n",
       "      <td>NaN</td>\n",
       "      <td>NaN</td>\n",
       "      <td>NaN</td>\n",
       "    </tr>\n",
       "    <tr>\n",
       "      <th>100</th>\n",
       "      <td>NaN</td>\n",
       "      <td>NaN</td>\n",
       "      <td>NaN</td>\n",
       "    </tr>\n",
       "    <tr>\n",
       "      <th>101</th>\n",
       "      <td>NaN</td>\n",
       "      <td>NaN</td>\n",
       "      <td>NaN</td>\n",
       "    </tr>\n",
       "    <tr>\n",
       "      <th>102</th>\n",
       "      <td>NaN</td>\n",
       "      <td>NaN</td>\n",
       "      <td>NaN</td>\n",
       "    </tr>\n",
       "    <tr>\n",
       "      <th>103</th>\n",
       "      <td>NaN</td>\n",
       "      <td>NaN</td>\n",
       "      <td>NaN</td>\n",
       "    </tr>\n",
       "    <tr>\n",
       "      <th>124</th>\n",
       "      <td>NaN</td>\n",
       "      <td>NaN</td>\n",
       "      <td>NaN</td>\n",
       "    </tr>\n",
       "    <tr>\n",
       "      <th>125</th>\n",
       "      <td>NaN</td>\n",
       "      <td>NaN</td>\n",
       "      <td>NaN</td>\n",
       "    </tr>\n",
       "    <tr>\n",
       "      <th>126</th>\n",
       "      <td>NaN</td>\n",
       "      <td>NaN</td>\n",
       "      <td>NaN</td>\n",
       "    </tr>\n",
       "    <tr>\n",
       "      <th>133</th>\n",
       "      <td>NaN</td>\n",
       "      <td>NaN</td>\n",
       "      <td>NaN</td>\n",
       "    </tr>\n",
       "    <tr>\n",
       "      <th>134</th>\n",
       "      <td>NaN</td>\n",
       "      <td>NaN</td>\n",
       "      <td>NaN</td>\n",
       "    </tr>\n",
       "    <tr>\n",
       "      <th>136</th>\n",
       "      <td>NaN</td>\n",
       "      <td>NaN</td>\n",
       "      <td>NaN</td>\n",
       "    </tr>\n",
       "    <tr>\n",
       "      <th>139</th>\n",
       "      <td>NaN</td>\n",
       "      <td>NaN</td>\n",
       "      <td>NaN</td>\n",
       "    </tr>\n",
       "    <tr>\n",
       "      <th>156</th>\n",
       "      <td>NaN</td>\n",
       "      <td>NaN</td>\n",
       "      <td>NaN</td>\n",
       "    </tr>\n",
       "    <tr>\n",
       "      <th>171</th>\n",
       "      <td>NaN</td>\n",
       "      <td>NaN</td>\n",
       "      <td>NaN</td>\n",
       "    </tr>\n",
       "    <tr>\n",
       "      <th>175</th>\n",
       "      <td>NaN</td>\n",
       "      <td>NaN</td>\n",
       "      <td>NaN</td>\n",
       "    </tr>\n",
       "    <tr>\n",
       "      <th>176</th>\n",
       "      <td>NaN</td>\n",
       "      <td>NaN</td>\n",
       "      <td>NaN</td>\n",
       "    </tr>\n",
       "    <tr>\n",
       "      <th>180</th>\n",
       "      <td>NaN</td>\n",
       "      <td>NaN</td>\n",
       "      <td>NaN</td>\n",
       "    </tr>\n",
       "    <tr>\n",
       "      <th>183</th>\n",
       "      <td>NaN</td>\n",
       "      <td>NaN</td>\n",
       "      <td>NaN</td>\n",
       "    </tr>\n",
       "    <tr>\n",
       "      <th>184</th>\n",
       "      <td>NaN</td>\n",
       "      <td>NaN</td>\n",
       "      <td>NaN</td>\n",
       "    </tr>\n",
       "    <tr>\n",
       "      <th>185</th>\n",
       "      <td>NaN</td>\n",
       "      <td>NaN</td>\n",
       "      <td>NaN</td>\n",
       "    </tr>\n",
       "    <tr>\n",
       "      <th>186</th>\n",
       "      <td>NaN</td>\n",
       "      <td>NaN</td>\n",
       "      <td>NaN</td>\n",
       "    </tr>\n",
       "    <tr>\n",
       "      <th>197</th>\n",
       "      <td>NaN</td>\n",
       "      <td>NaN</td>\n",
       "      <td>NaN</td>\n",
       "    </tr>\n",
       "    <tr>\n",
       "      <th>...</th>\n",
       "      <td>...</td>\n",
       "      <td>...</td>\n",
       "      <td>...</td>\n",
       "    </tr>\n",
       "    <tr>\n",
       "      <th>121045</th>\n",
       "      <td>NaN</td>\n",
       "      <td>NaN</td>\n",
       "      <td>NaN</td>\n",
       "    </tr>\n",
       "    <tr>\n",
       "      <th>121046</th>\n",
       "      <td>NaN</td>\n",
       "      <td>NaN</td>\n",
       "      <td>NaN</td>\n",
       "    </tr>\n",
       "    <tr>\n",
       "      <th>121047</th>\n",
       "      <td>NaN</td>\n",
       "      <td>NaN</td>\n",
       "      <td>NaN</td>\n",
       "    </tr>\n",
       "    <tr>\n",
       "      <th>121048</th>\n",
       "      <td>NaN</td>\n",
       "      <td>NaN</td>\n",
       "      <td>NaN</td>\n",
       "    </tr>\n",
       "    <tr>\n",
       "      <th>121049</th>\n",
       "      <td>NaN</td>\n",
       "      <td>NaN</td>\n",
       "      <td>NaN</td>\n",
       "    </tr>\n",
       "    <tr>\n",
       "      <th>121050</th>\n",
       "      <td>NaN</td>\n",
       "      <td>NaN</td>\n",
       "      <td>NaN</td>\n",
       "    </tr>\n",
       "    <tr>\n",
       "      <th>121051</th>\n",
       "      <td>NaN</td>\n",
       "      <td>NaN</td>\n",
       "      <td>NaN</td>\n",
       "    </tr>\n",
       "    <tr>\n",
       "      <th>121052</th>\n",
       "      <td>NaN</td>\n",
       "      <td>NaN</td>\n",
       "      <td>NaN</td>\n",
       "    </tr>\n",
       "    <tr>\n",
       "      <th>121060</th>\n",
       "      <td>NaN</td>\n",
       "      <td>NaN</td>\n",
       "      <td>NaN</td>\n",
       "    </tr>\n",
       "    <tr>\n",
       "      <th>121063</th>\n",
       "      <td>NaN</td>\n",
       "      <td>NaN</td>\n",
       "      <td>NaN</td>\n",
       "    </tr>\n",
       "    <tr>\n",
       "      <th>121085</th>\n",
       "      <td>NaN</td>\n",
       "      <td>NaN</td>\n",
       "      <td>NaN</td>\n",
       "    </tr>\n",
       "    <tr>\n",
       "      <th>121086</th>\n",
       "      <td>NaN</td>\n",
       "      <td>NaN</td>\n",
       "      <td>NaN</td>\n",
       "    </tr>\n",
       "    <tr>\n",
       "      <th>121087</th>\n",
       "      <td>NaN</td>\n",
       "      <td>NaN</td>\n",
       "      <td>NaN</td>\n",
       "    </tr>\n",
       "    <tr>\n",
       "      <th>121099</th>\n",
       "      <td>NaN</td>\n",
       "      <td>NaN</td>\n",
       "      <td>NaN</td>\n",
       "    </tr>\n",
       "    <tr>\n",
       "      <th>121110</th>\n",
       "      <td>NaN</td>\n",
       "      <td>NaN</td>\n",
       "      <td>NaN</td>\n",
       "    </tr>\n",
       "    <tr>\n",
       "      <th>121114</th>\n",
       "      <td>NaN</td>\n",
       "      <td>NaN</td>\n",
       "      <td>NaN</td>\n",
       "    </tr>\n",
       "    <tr>\n",
       "      <th>121115</th>\n",
       "      <td>NaN</td>\n",
       "      <td>NaN</td>\n",
       "      <td>NaN</td>\n",
       "    </tr>\n",
       "    <tr>\n",
       "      <th>121116</th>\n",
       "      <td>NaN</td>\n",
       "      <td>NaN</td>\n",
       "      <td>NaN</td>\n",
       "    </tr>\n",
       "    <tr>\n",
       "      <th>121123</th>\n",
       "      <td>NaN</td>\n",
       "      <td>NaN</td>\n",
       "      <td>NaN</td>\n",
       "    </tr>\n",
       "    <tr>\n",
       "      <th>121126</th>\n",
       "      <td>NaN</td>\n",
       "      <td>NaN</td>\n",
       "      <td>NaN</td>\n",
       "    </tr>\n",
       "    <tr>\n",
       "      <th>121127</th>\n",
       "      <td>NaN</td>\n",
       "      <td>NaN</td>\n",
       "      <td>NaN</td>\n",
       "    </tr>\n",
       "    <tr>\n",
       "      <th>121129</th>\n",
       "      <td>NaN</td>\n",
       "      <td>NaN</td>\n",
       "      <td>NaN</td>\n",
       "    </tr>\n",
       "    <tr>\n",
       "      <th>121142</th>\n",
       "      <td>NaN</td>\n",
       "      <td>NaN</td>\n",
       "      <td>NaN</td>\n",
       "    </tr>\n",
       "    <tr>\n",
       "      <th>121207</th>\n",
       "      <td>NaN</td>\n",
       "      <td>NaN</td>\n",
       "      <td>NaN</td>\n",
       "    </tr>\n",
       "    <tr>\n",
       "      <th>121208</th>\n",
       "      <td>NaN</td>\n",
       "      <td>NaN</td>\n",
       "      <td>NaN</td>\n",
       "    </tr>\n",
       "    <tr>\n",
       "      <th>121210</th>\n",
       "      <td>NaN</td>\n",
       "      <td>NaN</td>\n",
       "      <td>NaN</td>\n",
       "    </tr>\n",
       "    <tr>\n",
       "      <th>121211</th>\n",
       "      <td>NaN</td>\n",
       "      <td>NaN</td>\n",
       "      <td>NaN</td>\n",
       "    </tr>\n",
       "    <tr>\n",
       "      <th>121212</th>\n",
       "      <td>NaN</td>\n",
       "      <td>NaN</td>\n",
       "      <td>NaN</td>\n",
       "    </tr>\n",
       "    <tr>\n",
       "      <th>121213</th>\n",
       "      <td>NaN</td>\n",
       "      <td>NaN</td>\n",
       "      <td>NaN</td>\n",
       "    </tr>\n",
       "    <tr>\n",
       "      <th>121214</th>\n",
       "      <td>NaN</td>\n",
       "      <td>NaN</td>\n",
       "      <td>NaN</td>\n",
       "    </tr>\n",
       "  </tbody>\n",
       "</table>\n",
       "<p>20281 rows × 3 columns</p>\n",
       "</div>"
      ],
      "text/plain": [
       "        price  price_aprox_local_currency  price_aprox_usd\n",
       "5         NaN                         NaN              NaN\n",
       "20        NaN                         NaN              NaN\n",
       "41        NaN                         NaN              NaN\n",
       "62        NaN                         NaN              NaN\n",
       "67        NaN                         NaN              NaN\n",
       "76        NaN                         NaN              NaN\n",
       "83        NaN                         NaN              NaN\n",
       "84        NaN                         NaN              NaN\n",
       "85        NaN                         NaN              NaN\n",
       "100       NaN                         NaN              NaN\n",
       "101       NaN                         NaN              NaN\n",
       "102       NaN                         NaN              NaN\n",
       "103       NaN                         NaN              NaN\n",
       "124       NaN                         NaN              NaN\n",
       "125       NaN                         NaN              NaN\n",
       "126       NaN                         NaN              NaN\n",
       "133       NaN                         NaN              NaN\n",
       "134       NaN                         NaN              NaN\n",
       "136       NaN                         NaN              NaN\n",
       "139       NaN                         NaN              NaN\n",
       "156       NaN                         NaN              NaN\n",
       "171       NaN                         NaN              NaN\n",
       "175       NaN                         NaN              NaN\n",
       "176       NaN                         NaN              NaN\n",
       "180       NaN                         NaN              NaN\n",
       "183       NaN                         NaN              NaN\n",
       "184       NaN                         NaN              NaN\n",
       "185       NaN                         NaN              NaN\n",
       "186       NaN                         NaN              NaN\n",
       "197       NaN                         NaN              NaN\n",
       "...       ...                         ...              ...\n",
       "121045    NaN                         NaN              NaN\n",
       "121046    NaN                         NaN              NaN\n",
       "121047    NaN                         NaN              NaN\n",
       "121048    NaN                         NaN              NaN\n",
       "121049    NaN                         NaN              NaN\n",
       "121050    NaN                         NaN              NaN\n",
       "121051    NaN                         NaN              NaN\n",
       "121052    NaN                         NaN              NaN\n",
       "121060    NaN                         NaN              NaN\n",
       "121063    NaN                         NaN              NaN\n",
       "121085    NaN                         NaN              NaN\n",
       "121086    NaN                         NaN              NaN\n",
       "121087    NaN                         NaN              NaN\n",
       "121099    NaN                         NaN              NaN\n",
       "121110    NaN                         NaN              NaN\n",
       "121114    NaN                         NaN              NaN\n",
       "121115    NaN                         NaN              NaN\n",
       "121116    NaN                         NaN              NaN\n",
       "121123    NaN                         NaN              NaN\n",
       "121126    NaN                         NaN              NaN\n",
       "121127    NaN                         NaN              NaN\n",
       "121129    NaN                         NaN              NaN\n",
       "121142    NaN                         NaN              NaN\n",
       "121207    NaN                         NaN              NaN\n",
       "121208    NaN                         NaN              NaN\n",
       "121210    NaN                         NaN              NaN\n",
       "121211    NaN                         NaN              NaN\n",
       "121212    NaN                         NaN              NaN\n",
       "121213    NaN                         NaN              NaN\n",
       "121214    NaN                         NaN              NaN\n",
       "\n",
       "[20281 rows x 3 columns]"
      ]
     },
     "execution_count": 21,
     "metadata": {},
     "output_type": "execute_result"
    }
   ],
   "source": [
    "data.loc[(data['currency'].isna())&(data['price_aprox_local_currency'].isna())&(data['price_aprox_usd'].isna()),['price','price_aprox_local_currency','price_aprox_usd']]"
   ]
  },
  {
   "cell_type": "code",
   "execution_count": 22,
   "metadata": {},
   "outputs": [
    {
     "data": {
      "text/html": [
       "<div>\n",
       "<style scoped>\n",
       "    .dataframe tbody tr th:only-of-type {\n",
       "        vertical-align: middle;\n",
       "    }\n",
       "\n",
       "    .dataframe tbody tr th {\n",
       "        vertical-align: top;\n",
       "    }\n",
       "\n",
       "    .dataframe thead th {\n",
       "        text-align: right;\n",
       "    }\n",
       "</style>\n",
       "<table border=\"1\" class=\"dataframe\">\n",
       "  <thead>\n",
       "    <tr style=\"text-align: right;\">\n",
       "      <th></th>\n",
       "      <th>price</th>\n",
       "      <th>price_aprox_local_currency</th>\n",
       "      <th>price_aprox_usd</th>\n",
       "    </tr>\n",
       "  </thead>\n",
       "  <tbody>\n",
       "    <tr>\n",
       "      <th>9761</th>\n",
       "      <td>0.0</td>\n",
       "      <td>0.0</td>\n",
       "      <td>0.0</td>\n",
       "    </tr>\n",
       "  </tbody>\n",
       "</table>\n",
       "</div>"
      ],
      "text/plain": [
       "      price  price_aprox_local_currency  price_aprox_usd\n",
       "9761    0.0                         0.0              0.0"
      ]
     },
     "execution_count": 22,
     "metadata": {},
     "output_type": "execute_result"
    }
   ],
   "source": [
    "data.loc[(data['currency'].isna())&(data['price_aprox_local_currency'].notnull())&(data['price_aprox_usd'].notnull()),['price','price_aprox_local_currency','price_aprox_usd']]"
   ]
  },
  {
   "cell_type": "markdown",
   "metadata": {},
   "source": [
    "De lo visto, no puedo calcular valores faltantes de currency a partir de price, price_aprox_usd y price_aprox_local_currency"
   ]
  },
  {
   "cell_type": "markdown",
   "metadata": {},
   "source": [
    "## Cálculo de superficie, precio y precio por m2"
   ]
  },
  {
   "cell_type": "markdown",
   "metadata": {},
   "source": [
    "La idea es ver en que filas tengo 2 valores y obtener el tercero.\n",
    "Precio por m2 = Precio / Superficie.\n",
    "\n",
    "Para esto, es necesario verificar primero que los valores sean válidos, es decir, valores no nulos.\n",
    "\n",
    "**Verificación valores de superficie**"
   ]
  },
  {
   "cell_type": "code",
   "execution_count": 23,
   "metadata": {},
   "outputs": [],
   "source": [
    "min_sup_valida = 10\n",
    "data.loc[data['surface_total_in_m2']<min_sup_valida,'surface_total_in_m2']=np.nan"
   ]
  },
  {
   "cell_type": "markdown",
   "metadata": {},
   "source": [
    "**Verificación valores de precio por m2**\n",
    "\n",
    "Después de un análisis de la información, no se encuentra un patrón para establecer un mínimo o un máximo para verificar la validez de un dato. Mientras no hayan valores nulos (cero), se dejará todo como esta"
   ]
  },
  {
   "cell_type": "code",
   "execution_count": 24,
   "metadata": {
    "scrolled": true
   },
   "outputs": [
    {
     "data": {
      "text/plain": [
       "4.166667    1\n",
       "1.184571    1\n",
       "1.236986    1\n",
       "1.573442    1\n",
       "0.600000    1\n",
       "2.072029    1\n",
       "4.426559    1\n",
       "1.000000    1\n",
       "3.000000    1\n",
       "Name: price_usd_per_m2, dtype: int64"
      ]
     },
     "execution_count": 24,
     "metadata": {},
     "output_type": "execute_result"
    }
   ],
   "source": [
    "#min_pricem2_valido = \n",
    "data.loc[data['price_usd_per_m2']<=5,'price_usd_per_m2'].value_counts()"
   ]
  },
  {
   "cell_type": "markdown",
   "metadata": {},
   "source": [
    "**Verificación valores de precio en dolares**\n",
    "\n",
    "Sólo se encontró un valor nulo (cero)."
   ]
  },
  {
   "cell_type": "code",
   "execution_count": 25,
   "metadata": {},
   "outputs": [
    {
     "name": "stdout",
     "output_type": "stream",
     "text": [
      "[[0.0 'Casa en Venta de 2 dorm. en Armenia']]\n"
     ]
    }
   ],
   "source": [
    "print(data.loc[data['price_aprox_usd']<=4000,['price_aprox_usd','description']].values)\n",
    "data.loc[data['price_aprox_usd']<=4000,'price_aprox_usd']=np.nan"
   ]
  },
  {
   "cell_type": "markdown",
   "metadata": {},
   "source": [
    "Si hay valor de precio y hay valor superficie total, se puede calcular el valor del precio por metro cuadrado.\n",
    "Pero este caso no ocurre."
   ]
  },
  {
   "cell_type": "code",
   "execution_count": 26,
   "metadata": {},
   "outputs": [
    {
     "data": {
      "text/plain": [
       "(0, 25)"
      ]
     },
     "execution_count": 26,
     "metadata": {},
     "output_type": "execute_result"
    }
   ],
   "source": [
    "data.loc[(data['price'].notnull())&(data['surface_total_in_m2'].notnull())&(data['price_usd_per_m2'].isna())].shape"
   ]
  },
  {
   "cell_type": "markdown",
   "metadata": {},
   "source": [
    "Si hay valor de precio y hay valor de precio por metro cuadrado, se puede calcular el valor de la superficie. Pero este caso no ocurre."
   ]
  },
  {
   "cell_type": "code",
   "execution_count": 27,
   "metadata": {},
   "outputs": [
    {
     "data": {
      "text/plain": [
       "(0, 25)"
      ]
     },
     "execution_count": 27,
     "metadata": {},
     "output_type": "execute_result"
    }
   ],
   "source": [
    "data.loc[(data['price'].notnull())&(data['surface_total_in_m2'].isna())&(data['price_usd_per_m2'].notnull())].shape"
   ]
  },
  {
   "cell_type": "markdown",
   "metadata": {},
   "source": [
    "Si hay valor de superficie total y hay valor de precio por metro cuadrado, se puede calcular el valor del precio.\n",
    "Pero este caso no ocurre."
   ]
  },
  {
   "cell_type": "code",
   "execution_count": 28,
   "metadata": {
    "scrolled": true
   },
   "outputs": [
    {
     "data": {
      "text/plain": [
       "(0, 25)"
      ]
     },
     "execution_count": 28,
     "metadata": {},
     "output_type": "execute_result"
    }
   ],
   "source": [
    "data.loc[(data['price'].isna())&(data['surface_total_in_m2'].notnull())&(data['price_usd_per_m2'].notnull())].shape"
   ]
  },
  {
   "cell_type": "markdown",
   "metadata": {},
   "source": [
    "# Valores faltantes de 'place_name'\n",
    "\n",
    "Se aprecia que todos los valores faltantes de 'place_name' corresponden a Tigre. Podríamos generar una función para tomar este valore de la columna 'place_with_parent_name', pero lo vamos a hardcodear."
   ]
  },
  {
   "cell_type": "code",
   "execution_count": 29,
   "metadata": {
    "scrolled": true
   },
   "outputs": [
    {
     "data": {
      "text/html": [
       "<div>\n",
       "<style scoped>\n",
       "    .dataframe tbody tr th:only-of-type {\n",
       "        vertical-align: middle;\n",
       "    }\n",
       "\n",
       "    .dataframe tbody tr th {\n",
       "        vertical-align: top;\n",
       "    }\n",
       "\n",
       "    .dataframe thead th {\n",
       "        text-align: right;\n",
       "    }\n",
       "</style>\n",
       "<table border=\"1\" class=\"dataframe\">\n",
       "  <thead>\n",
       "    <tr style=\"text-align: right;\">\n",
       "      <th></th>\n",
       "      <th>place_name</th>\n",
       "      <th>place_with_parent_names</th>\n",
       "      <th>country_name</th>\n",
       "      <th>state_name</th>\n",
       "    </tr>\n",
       "  </thead>\n",
       "  <tbody>\n",
       "    <tr>\n",
       "      <th>6489</th>\n",
       "      <td>NaN</td>\n",
       "      <td>|Argentina|Bs.As. G.B.A. Zona Norte|Tigre||</td>\n",
       "      <td>Argentina</td>\n",
       "      <td>Bs.As. G.B.A. Zona Norte</td>\n",
       "    </tr>\n",
       "    <tr>\n",
       "      <th>10201</th>\n",
       "      <td>NaN</td>\n",
       "      <td>|Argentina|Bs.As. G.B.A. Zona Norte|Tigre||</td>\n",
       "      <td>Argentina</td>\n",
       "      <td>Bs.As. G.B.A. Zona Norte</td>\n",
       "    </tr>\n",
       "    <tr>\n",
       "      <th>11451</th>\n",
       "      <td>NaN</td>\n",
       "      <td>|Argentina|Bs.As. G.B.A. Zona Norte|Tigre||</td>\n",
       "      <td>Argentina</td>\n",
       "      <td>Bs.As. G.B.A. Zona Norte</td>\n",
       "    </tr>\n",
       "    <tr>\n",
       "      <th>14839</th>\n",
       "      <td>NaN</td>\n",
       "      <td>|Argentina|Bs.As. G.B.A. Zona Norte|Tigre||</td>\n",
       "      <td>Argentina</td>\n",
       "      <td>Bs.As. G.B.A. Zona Norte</td>\n",
       "    </tr>\n",
       "    <tr>\n",
       "      <th>18622</th>\n",
       "      <td>NaN</td>\n",
       "      <td>|Argentina|Bs.As. G.B.A. Zona Norte|Tigre||</td>\n",
       "      <td>Argentina</td>\n",
       "      <td>Bs.As. G.B.A. Zona Norte</td>\n",
       "    </tr>\n",
       "    <tr>\n",
       "      <th>21922</th>\n",
       "      <td>NaN</td>\n",
       "      <td>|Argentina|Bs.As. G.B.A. Zona Norte|Tigre||</td>\n",
       "      <td>Argentina</td>\n",
       "      <td>Bs.As. G.B.A. Zona Norte</td>\n",
       "    </tr>\n",
       "    <tr>\n",
       "      <th>23664</th>\n",
       "      <td>NaN</td>\n",
       "      <td>|Argentina|Bs.As. G.B.A. Zona Norte|Tigre||</td>\n",
       "      <td>Argentina</td>\n",
       "      <td>Bs.As. G.B.A. Zona Norte</td>\n",
       "    </tr>\n",
       "    <tr>\n",
       "      <th>24722</th>\n",
       "      <td>NaN</td>\n",
       "      <td>|Argentina|Bs.As. G.B.A. Zona Norte|Tigre||</td>\n",
       "      <td>Argentina</td>\n",
       "      <td>Bs.As. G.B.A. Zona Norte</td>\n",
       "    </tr>\n",
       "    <tr>\n",
       "      <th>38856</th>\n",
       "      <td>NaN</td>\n",
       "      <td>|Argentina|Bs.As. G.B.A. Zona Norte|Tigre||</td>\n",
       "      <td>Argentina</td>\n",
       "      <td>Bs.As. G.B.A. Zona Norte</td>\n",
       "    </tr>\n",
       "    <tr>\n",
       "      <th>45970</th>\n",
       "      <td>NaN</td>\n",
       "      <td>|Argentina|Bs.As. G.B.A. Zona Norte|Tigre||</td>\n",
       "      <td>Argentina</td>\n",
       "      <td>Bs.As. G.B.A. Zona Norte</td>\n",
       "    </tr>\n",
       "    <tr>\n",
       "      <th>46642</th>\n",
       "      <td>NaN</td>\n",
       "      <td>|Argentina|Bs.As. G.B.A. Zona Norte|Tigre||</td>\n",
       "      <td>Argentina</td>\n",
       "      <td>Bs.As. G.B.A. Zona Norte</td>\n",
       "    </tr>\n",
       "    <tr>\n",
       "      <th>53130</th>\n",
       "      <td>NaN</td>\n",
       "      <td>|Argentina|Bs.As. G.B.A. Zona Norte|Tigre||</td>\n",
       "      <td>Argentina</td>\n",
       "      <td>Bs.As. G.B.A. Zona Norte</td>\n",
       "    </tr>\n",
       "    <tr>\n",
       "      <th>55306</th>\n",
       "      <td>NaN</td>\n",
       "      <td>|Argentina|Bs.As. G.B.A. Zona Norte|Tigre||</td>\n",
       "      <td>Argentina</td>\n",
       "      <td>Bs.As. G.B.A. Zona Norte</td>\n",
       "    </tr>\n",
       "    <tr>\n",
       "      <th>57703</th>\n",
       "      <td>NaN</td>\n",
       "      <td>|Argentina|Bs.As. G.B.A. Zona Norte|Tigre||</td>\n",
       "      <td>Argentina</td>\n",
       "      <td>Bs.As. G.B.A. Zona Norte</td>\n",
       "    </tr>\n",
       "    <tr>\n",
       "      <th>57759</th>\n",
       "      <td>NaN</td>\n",
       "      <td>|Argentina|Bs.As. G.B.A. Zona Norte|Tigre||</td>\n",
       "      <td>Argentina</td>\n",
       "      <td>Bs.As. G.B.A. Zona Norte</td>\n",
       "    </tr>\n",
       "    <tr>\n",
       "      <th>57764</th>\n",
       "      <td>NaN</td>\n",
       "      <td>|Argentina|Bs.As. G.B.A. Zona Norte|Tigre||</td>\n",
       "      <td>Argentina</td>\n",
       "      <td>Bs.As. G.B.A. Zona Norte</td>\n",
       "    </tr>\n",
       "    <tr>\n",
       "      <th>57793</th>\n",
       "      <td>NaN</td>\n",
       "      <td>|Argentina|Bs.As. G.B.A. Zona Norte|Tigre||</td>\n",
       "      <td>Argentina</td>\n",
       "      <td>Bs.As. G.B.A. Zona Norte</td>\n",
       "    </tr>\n",
       "    <tr>\n",
       "      <th>58004</th>\n",
       "      <td>NaN</td>\n",
       "      <td>|Argentina|Bs.As. G.B.A. Zona Norte|Tigre||</td>\n",
       "      <td>Argentina</td>\n",
       "      <td>Bs.As. G.B.A. Zona Norte</td>\n",
       "    </tr>\n",
       "    <tr>\n",
       "      <th>58037</th>\n",
       "      <td>NaN</td>\n",
       "      <td>|Argentina|Bs.As. G.B.A. Zona Norte|Tigre||</td>\n",
       "      <td>Argentina</td>\n",
       "      <td>Bs.As. G.B.A. Zona Norte</td>\n",
       "    </tr>\n",
       "    <tr>\n",
       "      <th>59069</th>\n",
       "      <td>NaN</td>\n",
       "      <td>|Argentina|Bs.As. G.B.A. Zona Norte|Tigre||</td>\n",
       "      <td>Argentina</td>\n",
       "      <td>Bs.As. G.B.A. Zona Norte</td>\n",
       "    </tr>\n",
       "    <tr>\n",
       "      <th>62411</th>\n",
       "      <td>NaN</td>\n",
       "      <td>|Argentina|Bs.As. G.B.A. Zona Norte|Tigre||</td>\n",
       "      <td>Argentina</td>\n",
       "      <td>Bs.As. G.B.A. Zona Norte</td>\n",
       "    </tr>\n",
       "    <tr>\n",
       "      <th>62413</th>\n",
       "      <td>NaN</td>\n",
       "      <td>|Argentina|Bs.As. G.B.A. Zona Norte|Tigre||</td>\n",
       "      <td>Argentina</td>\n",
       "      <td>Bs.As. G.B.A. Zona Norte</td>\n",
       "    </tr>\n",
       "    <tr>\n",
       "      <th>63849</th>\n",
       "      <td>NaN</td>\n",
       "      <td>|Argentina|Bs.As. G.B.A. Zona Norte|Tigre||</td>\n",
       "      <td>Argentina</td>\n",
       "      <td>Bs.As. G.B.A. Zona Norte</td>\n",
       "    </tr>\n",
       "  </tbody>\n",
       "</table>\n",
       "</div>"
      ],
      "text/plain": [
       "      place_name                      place_with_parent_names country_name  \\\n",
       "6489         NaN  |Argentina|Bs.As. G.B.A. Zona Norte|Tigre||    Argentina   \n",
       "10201        NaN  |Argentina|Bs.As. G.B.A. Zona Norte|Tigre||    Argentina   \n",
       "11451        NaN  |Argentina|Bs.As. G.B.A. Zona Norte|Tigre||    Argentina   \n",
       "14839        NaN  |Argentina|Bs.As. G.B.A. Zona Norte|Tigre||    Argentina   \n",
       "18622        NaN  |Argentina|Bs.As. G.B.A. Zona Norte|Tigre||    Argentina   \n",
       "21922        NaN  |Argentina|Bs.As. G.B.A. Zona Norte|Tigre||    Argentina   \n",
       "23664        NaN  |Argentina|Bs.As. G.B.A. Zona Norte|Tigre||    Argentina   \n",
       "24722        NaN  |Argentina|Bs.As. G.B.A. Zona Norte|Tigre||    Argentina   \n",
       "38856        NaN  |Argentina|Bs.As. G.B.A. Zona Norte|Tigre||    Argentina   \n",
       "45970        NaN  |Argentina|Bs.As. G.B.A. Zona Norte|Tigre||    Argentina   \n",
       "46642        NaN  |Argentina|Bs.As. G.B.A. Zona Norte|Tigre||    Argentina   \n",
       "53130        NaN  |Argentina|Bs.As. G.B.A. Zona Norte|Tigre||    Argentina   \n",
       "55306        NaN  |Argentina|Bs.As. G.B.A. Zona Norte|Tigre||    Argentina   \n",
       "57703        NaN  |Argentina|Bs.As. G.B.A. Zona Norte|Tigre||    Argentina   \n",
       "57759        NaN  |Argentina|Bs.As. G.B.A. Zona Norte|Tigre||    Argentina   \n",
       "57764        NaN  |Argentina|Bs.As. G.B.A. Zona Norte|Tigre||    Argentina   \n",
       "57793        NaN  |Argentina|Bs.As. G.B.A. Zona Norte|Tigre||    Argentina   \n",
       "58004        NaN  |Argentina|Bs.As. G.B.A. Zona Norte|Tigre||    Argentina   \n",
       "58037        NaN  |Argentina|Bs.As. G.B.A. Zona Norte|Tigre||    Argentina   \n",
       "59069        NaN  |Argentina|Bs.As. G.B.A. Zona Norte|Tigre||    Argentina   \n",
       "62411        NaN  |Argentina|Bs.As. G.B.A. Zona Norte|Tigre||    Argentina   \n",
       "62413        NaN  |Argentina|Bs.As. G.B.A. Zona Norte|Tigre||    Argentina   \n",
       "63849        NaN  |Argentina|Bs.As. G.B.A. Zona Norte|Tigre||    Argentina   \n",
       "\n",
       "                     state_name  \n",
       "6489   Bs.As. G.B.A. Zona Norte  \n",
       "10201  Bs.As. G.B.A. Zona Norte  \n",
       "11451  Bs.As. G.B.A. Zona Norte  \n",
       "14839  Bs.As. G.B.A. Zona Norte  \n",
       "18622  Bs.As. G.B.A. Zona Norte  \n",
       "21922  Bs.As. G.B.A. Zona Norte  \n",
       "23664  Bs.As. G.B.A. Zona Norte  \n",
       "24722  Bs.As. G.B.A. Zona Norte  \n",
       "38856  Bs.As. G.B.A. Zona Norte  \n",
       "45970  Bs.As. G.B.A. Zona Norte  \n",
       "46642  Bs.As. G.B.A. Zona Norte  \n",
       "53130  Bs.As. G.B.A. Zona Norte  \n",
       "55306  Bs.As. G.B.A. Zona Norte  \n",
       "57703  Bs.As. G.B.A. Zona Norte  \n",
       "57759  Bs.As. G.B.A. Zona Norte  \n",
       "57764  Bs.As. G.B.A. Zona Norte  \n",
       "57793  Bs.As. G.B.A. Zona Norte  \n",
       "58004  Bs.As. G.B.A. Zona Norte  \n",
       "58037  Bs.As. G.B.A. Zona Norte  \n",
       "59069  Bs.As. G.B.A. Zona Norte  \n",
       "62411  Bs.As. G.B.A. Zona Norte  \n",
       "62413  Bs.As. G.B.A. Zona Norte  \n",
       "63849  Bs.As. G.B.A. Zona Norte  "
      ]
     },
     "execution_count": 29,
     "metadata": {},
     "output_type": "execute_result"
    }
   ],
   "source": [
    "data.loc[data['place_name'].isna(),['place_name','place_with_parent_names','country_name','state_name']]"
   ]
  },
  {
   "cell_type": "code",
   "execution_count": 30,
   "metadata": {},
   "outputs": [],
   "source": [
    "def get_city(place):\n",
    "    a=place.split(sep='|')\n",
    "    new_a=[item for item in a if len(item)>0]\n",
    "    return(new_a[-1])\n",
    "\n",
    "def get_place_names(text):\n",
    "    place_names = text.split(sep='|')\n",
    "    place_names = [item for item in place_names if len(item)>0]\n",
    "    place_names = place_names[0:-1]\n",
    "    complete_names = '|'.join(place_names)\n",
    "    return '|'+complete_names+'|'"
   ]
  },
  {
   "cell_type": "code",
   "execution_count": 31,
   "metadata": {
    "scrolled": true
   },
   "outputs": [
    {
     "data": {
      "text/plain": [
       "place_name\n",
       " Country Maschwitz Club                          [ Country Maschwitz Club]\n",
       " los alamos                                                  [ los alamos]\n",
       "9 de Abril                                                    [9 de Abril]\n",
       "Abasto                                                            [Abasto]\n",
       "Abril Club de Campo                                  [Abril Club de Campo]\n",
       "Acacias Blancas                                          [Acacias Blancas]\n",
       "Acassuso                                                        [Acassuso]\n",
       "Achiras                                                          [Achiras]\n",
       "Adolfo Alsina                                              [Adolfo Alsina]\n",
       "Adrogué                                                          [Adrogué]\n",
       "Aeropuerto Internacional Ezeiza          [Aeropuerto Internacional Ezeiza]\n",
       "Agronomía                                                      [Agronomía]\n",
       "Agua Blanca                                                  [Agua Blanca]\n",
       "Agua de Oro                                                  [Agua de Oro]\n",
       "Aguas Verdes                                                [Aguas Verdes]\n",
       "Albanueva Barrio Cerrado                        [Albanueva Barrio Cerrado]\n",
       "Aldea Brasilera                                          [Aldea Brasilera]\n",
       "Aldea Salto                                                  [Aldea Salto]\n",
       "Aldo Bonzi                                                    [Aldo Bonzi]\n",
       "Alejandro Korn                                            [Alejandro Korn]\n",
       "Alejandro Roca                                            [Alejandro Roca]\n",
       "Alem                                                                [Alem]\n",
       "Alfar                                                              [Alfar]\n",
       "Almafuerte                                                    [Almafuerte]\n",
       "Almagro                                                          [Almagro]\n",
       "Almirante Brown                                          [Almirante Brown]\n",
       "Alta Gracia                                                  [Alta Gracia]\n",
       "Altamira                                                        [Altamira]\n",
       "Alto Los Cardales                                      [Alto Los Cardales]\n",
       "Altos de Hudson I                                      [Altos de Hudson I]\n",
       "                                                      ...                 \n",
       "Villa Santa Cruz del Lago                      [Villa Santa Cruz del Lago]\n",
       "Villa Santa Rita                                        [Villa Santa Rita]\n",
       "Villa Sarmiento                                          [Villa Sarmiento]\n",
       "Villa Soldati                                              [Villa Soldati]\n",
       "Villa Tesei                                                  [Villa Tesei]\n",
       "Villa Udaondo                                              [Villa Udaondo]\n",
       "Villa Unión                                                  [Villa Unión]\n",
       "Villa Urquiza                                              [Villa Urquiza]\n",
       "Villa Vatteone                                            [Villa Vatteone]\n",
       "Villa Ventana                                              [Villa Ventana]\n",
       "Villa de Las Rosas                                    [Villa de Las Rosas]\n",
       "Villa de Mayo                                              [Villa de Mayo]\n",
       "Villa de Soto                                              [Villa de Soto]\n",
       "Villa del Dique                                          [Villa del Dique]\n",
       "Villa del Parque                                        [Villa del Parque]\n",
       "Villa del Totoral                                      [Villa del Totoral]\n",
       "Village Golf & Tennis Country Club    [Village Golf & Tennis Country Club]\n",
       "Villars                                                          [Villars]\n",
       "Virasoro Village                                        [Virasoro Village]\n",
       "Virrey del Pino                                          [Virrey del Pino]\n",
       "Virreyes                                                        [Virreyes]\n",
       "Vistalba                                                        [Vistalba]\n",
       "Wenceslao Escalante                                  [Wenceslao Escalante]\n",
       "Wilde                                                              [Wilde]\n",
       "William Morris                                            [William Morris]\n",
       "Yerba Buena                                                  [Yerba Buena]\n",
       "Zelaya                                                            [Zelaya]\n",
       "Zárate                                                            [Zárate]\n",
       "coordenadas 34.255511                              [coordenadas 34.255511]\n",
       "Álvarez                                                          [Álvarez]\n",
       "Name: place_name, Length: 1058, dtype: object"
      ]
     },
     "execution_count": 31,
     "metadata": {},
     "output_type": "execute_result"
    }
   ],
   "source": [
    "data['place_name'].fillna('Tigre',inplace=True)\n",
    "data.groupby('place_name')['place_name'].unique()"
   ]
  },
  {
   "cell_type": "markdown",
   "metadata": {},
   "source": [
    "Vemos un lugar que se llama 'coordenadas 34.255511'. Vamos a verificar qué lugar es en realidad.\n"
   ]
  },
  {
   "cell_type": "code",
   "execution_count": 32,
   "metadata": {
    "scrolled": true
   },
   "outputs": [
    {
     "data": {
      "text/plain": [
       "array(['|Argentina|Bs.As. G.B.A. Zona Norte|Tigre|coordenadas 34.255511|'],\n",
       "      dtype=object)"
      ]
     },
     "execution_count": 32,
     "metadata": {},
     "output_type": "execute_result"
    }
   ],
   "source": [
    "data.loc[data['place_name']=='coordenadas 34.255511','place_with_parent_names'].values"
   ]
  },
  {
   "cell_type": "markdown",
   "metadata": {},
   "source": [
    "Es Tigre. También hay que arreglarlo."
   ]
  },
  {
   "cell_type": "code",
   "execution_count": 33,
   "metadata": {},
   "outputs": [],
   "source": [
    "data.loc[data['place_name']=='coordenadas 34.255511','place_with_parent_names']=get_place_names(data.loc[data['place_name']=='coordenadas 34.255511','place_with_parent_names'].values[0])\n",
    "data.loc[data['place_name']=='coordenadas 34.255511','place_name']='Tigre'"
   ]
  },
  {
   "cell_type": "code",
   "execution_count": 34,
   "metadata": {
    "scrolled": false
   },
   "outputs": [
    {
     "data": {
      "text/html": [
       "<div>\n",
       "<style scoped>\n",
       "    .dataframe tbody tr th:only-of-type {\n",
       "        vertical-align: middle;\n",
       "    }\n",
       "\n",
       "    .dataframe tbody tr th {\n",
       "        vertical-align: top;\n",
       "    }\n",
       "\n",
       "    .dataframe thead th {\n",
       "        text-align: right;\n",
       "    }\n",
       "</style>\n",
       "<table border=\"1\" class=\"dataframe\">\n",
       "  <thead>\n",
       "    <tr style=\"text-align: right;\">\n",
       "      <th></th>\n",
       "      <th>operation</th>\n",
       "      <th>property_type</th>\n",
       "      <th>place_name</th>\n",
       "      <th>place_with_parent_names</th>\n",
       "      <th>country_name</th>\n",
       "      <th>state_name</th>\n",
       "      <th>geonames_id</th>\n",
       "      <th>lat-lon</th>\n",
       "      <th>lat</th>\n",
       "      <th>lon</th>\n",
       "      <th>...</th>\n",
       "      <th>surface_covered_in_m2</th>\n",
       "      <th>price_usd_per_m2</th>\n",
       "      <th>price_per_m2</th>\n",
       "      <th>floor</th>\n",
       "      <th>rooms</th>\n",
       "      <th>expenses</th>\n",
       "      <th>properati_url</th>\n",
       "      <th>description</th>\n",
       "      <th>title</th>\n",
       "      <th>image_thumbnail</th>\n",
       "    </tr>\n",
       "  </thead>\n",
       "  <tbody>\n",
       "  </tbody>\n",
       "</table>\n",
       "<p>0 rows × 25 columns</p>\n",
       "</div>"
      ],
      "text/plain": [
       "Empty DataFrame\n",
       "Columns: [operation, property_type, place_name, place_with_parent_names, country_name, state_name, geonames_id, lat-lon, lat, lon, price, currency, price_aprox_local_currency, price_aprox_usd, surface_total_in_m2, surface_covered_in_m2, price_usd_per_m2, price_per_m2, floor, rooms, expenses, properati_url, description, title, image_thumbnail]\n",
       "Index: []\n",
       "\n",
       "[0 rows x 25 columns]"
      ]
     },
     "execution_count": 34,
     "metadata": {},
     "output_type": "execute_result"
    }
   ],
   "source": [
    "data.loc[data['place_name']=='coordenadas 34.255511']"
   ]
  },
  {
   "cell_type": "markdown",
   "metadata": {},
   "source": [
    "# Valores Faltantes de 'floor'"
   ]
  },
  {
   "cell_type": "markdown",
   "metadata": {},
   "source": [
    "### Funciones para Limpieza y Búsqueda de Datos"
   ]
  },
  {
   "cell_type": "code",
   "execution_count": 35,
   "metadata": {},
   "outputs": [],
   "source": [
    "#!pip install unidecode\n",
    "import unidecode\n",
    "\n",
    "def quitar_caracteres(entrada):\n",
    "    return str.lower(unidecode.unidecode(entrada))"
   ]
  },
  {
   "cell_type": "code",
   "execution_count": 36,
   "metadata": {},
   "outputs": [],
   "source": [
    "# def pb_search(text):\n",
    "#     pattern_fl = r'(?:planta baja|pb|p.b.)'\n",
    "#     regex_fl = re.compile(pattern_fl, flags = re.IGNORECASE)\n",
    "#     floors_lst = regex_fl.findall(text)"
   ]
  },
  {
   "cell_type": "code",
   "execution_count": 37,
   "metadata": {},
   "outputs": [],
   "source": [
    "#Revisar y ver que pasa con varias ocurrencias\n",
    "def text_floor_search(text):\n",
    "    floor_map = {\n",
    "        'primer': 1.0,'segundo': 2.0,'tercer': 3.0,'cuarto': 4.0,'quinto': 5.0,\n",
    "        'sexto': 6.0,'septimo': 7.0,'octavo': 8.0,'noveno': 9.0,'decimo': 10.0\n",
    "    }\n",
    "    \n",
    "    pattern_fl = r'(\\w{2,7})\\s?(?:piso)'\n",
    "    regex_fl = re.compile(pattern_fl, flags = re.IGNORECASE)\n",
    "    floors_lst = regex_fl.findall(text)\n",
    "    \n",
    "    if not floors_lst:\n",
    "        return np.nan\n",
    "    if len(floors_lst)!=1:\n",
    "        return np.nan\n",
    "    if quitar_caracteres(floors_lst[0]) not in floor_map.keys():\n",
    "        return np.nan\n",
    "    floor = floor_map[quitar_caracteres(floors_lst[0])]\n",
    "    return floor"
   ]
  },
  {
   "cell_type": "code",
   "execution_count": 38,
   "metadata": {},
   "outputs": [],
   "source": [
    "#Revisar y ver que pasa con varias ocurrencias\n",
    "def text_search_floor(text):\n",
    "    floor_map = {\n",
    "        'un': 1.0,'uno': 1.0,'dos': 2.0,'tres': 3.0,'cuatro': 4.0,'cinco': 5.0,\n",
    "        'seis': 6.0,'siete': 7.0,'ocho': 8.0,'nueve': 9.0,'diez': 10.0,'once': 11.0,\n",
    "        'doce': 12.0,'trece': 13.0,'catorce': 14.0,'quince': 15.0\n",
    "    }\n",
    "    \n",
    "    pattern_fl = r'(?:piso)\\s?(\\w{2,7})'\n",
    "    regex_fl = re.compile(pattern_fl, flags = re.IGNORECASE)\n",
    "    floors_lst = regex_fl.findall(text)\n",
    "    \n",
    "    if not floors_lst:\n",
    "        return np.nan\n",
    "    if len(floors_lst)==0:\n",
    "        return np.nan\n",
    "    if len(floors_lst)==1:\n",
    "        num = floors_lst[0]\n",
    "        if quitar_caracteres(num) not in floor_map.keys():\n",
    "            return np.nan\n",
    "        floor = floor_map[quitar_caracteres(num)]\n",
    "        return floor\n",
    "    else:\n",
    "        floors_l = [item for item in floors_lst]\n",
    "        floors_val = [int(item in floor_map) for item in floors_l]\n",
    "        for floor,val in zip(floors_l,floors_val):\n",
    "            if val==1:\n",
    "                return floor_map[floor]\n",
    "        return np.nan"
   ]
  },
  {
   "cell_type": "code",
   "execution_count": 39,
   "metadata": {},
   "outputs": [],
   "source": [
    "#Revisar y ver que pasa con varias ocurrencias\n",
    "def num_floor_search(text):\n",
    "    pattern_fl = r'(\\d{1,2})\\.?(°|\\w{2})\\s?(?:piso)'\n",
    "    regex_fl = re.compile(pattern_fl, flags = re.IGNORECASE)\n",
    "    floors_lst = regex_fl.findall(text)\n",
    "    \n",
    "    abb_lst = ['er','do','to','mo','vo','no','deg','ero','']\n",
    "\n",
    "    if not floors_lst:\n",
    "        return np.nan\n",
    "    if len(floors_lst)!=1:\n",
    "        return np.nan\n",
    "    sufijo=quitar_caracteres(floors_lst[0][1])\n",
    "    if sufijo not in abb_lst:\n",
    "        return np.nan\n",
    "    num=float(floors_lst[0][0])\n",
    "#     if num<15 and num>9:\n",
    "#         print(\"Piso: {}\".format(num))\n",
    "#         print(text)\n",
    "    if num>15:\n",
    "        return np.nan\n",
    "    else:\n",
    "        return num\n",
    "    \n",
    "    #return(floors_lst)"
   ]
  },
  {
   "cell_type": "code",
   "execution_count": 40,
   "metadata": {},
   "outputs": [],
   "source": [
    "#Revisar y ver que pasa con varias ocurrencias\n",
    "def num_search_floor(text):\n",
    "    pattern_fl = r'\\s?(?:piso)(\\d{1,2})'\n",
    "    regex_fl = re.compile(pattern_fl, flags = re.IGNORECASE)\n",
    "    floors_lst = regex_fl.findall(text)\n",
    "    \n",
    "    if not floors_lst:\n",
    "        return np.nan\n",
    "    if len(floors_lst)!=1:\n",
    "        return np.nan\n",
    "    num = float(floors_lst[0])\n",
    "    if num>40:\n",
    "        return np.nan\n",
    "    else:\n",
    "        return num\n",
    "    "
   ]
  },
  {
   "cell_type": "code",
   "execution_count": 41,
   "metadata": {},
   "outputs": [],
   "source": [
    "def clean_temp_col(df,tempCol):\n",
    "    \"\"\"Cleans a tempCol column from a df dataframe. Writes nan on every row.\n",
    "    \n",
    "    Parameters\n",
    "    ----------\n",
    "    df : pandas.DataFrame\n",
    "        The dataframe you want to clean a temporary column.\n",
    "    tempCol: str\n",
    "        The name passed as a string of the column to clean.\n",
    "    \"\"\"\n",
    "    df.loc[:,tempCol]=np.nan"
   ]
  },
  {
   "cell_type": "code",
   "execution_count": 42,
   "metadata": {},
   "outputs": [],
   "source": [
    "def new_found(df,tempCol,cleanCol):\n",
    "    \"\"\"Shows a message about the new data found.\n",
    "    \n",
    "    Parameters\n",
    "    ----------\n",
    "    df : pandas.DataFrame\n",
    "        The dataframe to take data from.\n",
    "    tempCol: str\n",
    "        The name passed as a string of the temporary column.\n",
    "    cleanCol: str\n",
    "        the name passed as a string of the clean column.\n",
    "    \"\"\"\n",
    "    print(\"Nuevos: {}.\".format(df[tempCol].notnull().sum()))\n",
    "    print(\"Total: {}.\".format(df[cleanCol].notnull().sum()))"
   ]
  },
  {
   "cell_type": "code",
   "execution_count": 43,
   "metadata": {},
   "outputs": [],
   "source": [
    "import scipy.stats as stats\n",
    "\n",
    "#valor_mas_chico=0\n",
    "\n",
    "def calculate_iqr_values(array):\n",
    "    \"\"\"Calculates inferior and superior limits of the iqr plus a margin.\n",
    "    Returns\n",
    "    ---------\n",
    "    lim_inf: float\n",
    "        q1-1.5*iqr\n",
    "    lim_sup: float\n",
    "        q3+1.5*iqr\n",
    "    \"\"\"\n",
    "    q1,q3=np.percentile(array,[25 ,75])\n",
    "    arr_iqr = stats.iqr(array)\n",
    "    lim_inf = q1-1.5*arr_iqr\n",
    "#     if lim_inf<valor_mas_chico:\n",
    "#         lim_inf=valor_mas_chico\n",
    "    lim_sup = q3+1.5*arr_iqr\n",
    "    return lim_inf,lim_sup\n",
    "\n",
    "def check_outliers(x,min_lim,max_lim):\n",
    "    if x<min_lim:\n",
    "        return np.nan\n",
    "    elif x>max_lim:\n",
    "        return np.nan\n",
    "    else:\n",
    "        return x"
   ]
  },
  {
   "cell_type": "markdown",
   "metadata": {},
   "source": [
    "## Tipos de propiedad\n",
    "\n",
    "El número de piso tiene mayor sentido e importancia para las propiedades de tipo 'apartment' que para house, PH y store, las cuales suelen ser en planta baja o primer piso."
   ]
  },
  {
   "cell_type": "code",
   "execution_count": 44,
   "metadata": {},
   "outputs": [
    {
     "data": {
      "text/plain": [
       "apartment    70712\n",
       "house        39602\n",
       "PH            5709\n",
       "store         4089\n",
       "Name: property_type, dtype: int64"
      ]
     },
     "execution_count": 44,
     "metadata": {},
     "output_type": "execute_result"
    }
   ],
   "source": [
    "data['property_type'].value_counts()"
   ]
  },
  {
   "cell_type": "markdown",
   "metadata": {},
   "source": [
    "## Análisis de 'floor' para Casas"
   ]
  },
  {
   "cell_type": "markdown",
   "metadata": {},
   "source": [
    "El valor de piso para una casa suele ser 0 (PB). Hay casas que se encuentran en un primer piso al subir por una escalera. Por lo cual, se decidió poner en cero el piso de todas las casas que digan estar en un segundo piso o superior."
   ]
  },
  {
   "cell_type": "markdown",
   "metadata": {},
   "source": [
    "**¿En qué piso dice que están las casas?**\n",
    "\n",
    "Si nos fijamos hay valores que carecen de sentido y se le atribuye a un error en el cargado de los datos."
   ]
  },
  {
   "cell_type": "code",
   "execution_count": 45,
   "metadata": {
    "scrolled": false
   },
   "outputs": [
    {
     "data": {
      "text/plain": [
       "array([  nan,    2.,    1.,  391.,   24.,    3.,   10.,    8.,   33.,\n",
       "        252.,  135.,   32.,  269., 1291.,  110.,   14., 1450.,  313.,\n",
       "          6.,    7.,   67.,  287.,  384.,  338.,   17.,   21.,   12.,\n",
       "         28.,  324., 1420.,  368., 1512.,   77.,   27., 1379.,  181.,\n",
       "          4.,    5.,   22.,  343.,  722.,   56.,   82., 3150.,  403.,\n",
       "         50.,   64.,   57.,    9.,   41.,   42.,   25.,  201.,  691.,\n",
       "        136.,  643.,   11., 2177.,   36.,   26.,   15.])"
      ]
     },
     "execution_count": 45,
     "metadata": {},
     "output_type": "execute_result"
    }
   ],
   "source": [
    "#data.loc[data['property_type']=='house']['floor'].value_counts()\n",
    "np.set_printoptions(suppress=True) \n",
    "np.sort(data.loc[data['property_type']=='house']['floor'].unique())\n",
    "data.loc[data['property_type']=='house']['floor'].unique()"
   ]
  },
  {
   "cell_type": "markdown",
   "metadata": {},
   "source": [
    "Con un chequeo 'automático' de outliers, reduzco los valores a los siguientes:"
   ]
  },
  {
   "cell_type": "code",
   "execution_count": 46,
   "metadata": {},
   "outputs": [
    {
     "data": {
      "text/plain": [
       "array([ 2.,  1., nan,  3., 10.,  8.,  6.,  7.,  4.,  5.,  9., 11.])"
      ]
     },
     "execution_count": 46,
     "metadata": {},
     "output_type": "execute_result"
    }
   ],
   "source": [
    "iqr_values=calculate_iqr_values(data.loc[(data['floor'].notnull())&(data['property_type']=='PH'),'floor'])\n",
    "data.loc[(data['property_type']=='house')&(data['floor'].notnull()),'floor'].apply(check_outliers,args=iqr_values).unique()"
   ]
  },
  {
   "cell_type": "markdown",
   "metadata": {},
   "source": [
    "Si bien algunos valores no parece tener sentido, como una casa en el piso 6 o 7, luego de revisar las descripciones se vio que algunas están mal catalogadas como casas (y son departamentos), o habla de duplex en en el piso 7. Por lo tanto, se decide dejar estos como valores válidos, y el resto asignarles NaN."
   ]
  },
  {
   "cell_type": "markdown",
   "metadata": {},
   "source": [
    "## Corrección de los datos de Casas"
   ]
  },
  {
   "cell_type": "code",
   "execution_count": 47,
   "metadata": {
    "scrolled": false
   },
   "outputs": [],
   "source": [
    "#data.loc[(data['property_type']=='house') & (data['floor']==1)]['description'].values\n",
    "iqr_values_house=calculate_iqr_values(data.loc[(data['floor'].notnull())&(data['property_type']=='PH'),'floor'])\n",
    "\n",
    "data.loc[(data['property_type']=='house')&(data['floor']>iqr_values[1]),'floor']=np.nan\n",
    "# print(data.loc[data['property_type']=='house','floor'].value_counts(dropna=False))\n",
    "\n",
    "variantes = ['1er piso por escalera','1° piso por escalera','1 piso por escalera',\n",
    "            'primer piso por escalera','planta alta por escalera']\n",
    "\n",
    "for text in variantes:\n",
    "    house_PA=data.loc[(data['property_type']=='house')&(data['floor'].isna())]['description']\\\n",
    "    .str.contains(text,case=False,regex=False).astype(float).apply(lambda x: x if x else np.nan)\n",
    "    #data.loc[(data['property_type']=='house')&(data['floor'].isna()),'floor'].fillna(house_PA,inplace=True)\n",
    "    data.loc[(data['property_type']=='house')&(data['floor'].isna()),'floor']=data.loc[(data['property_type']=='house')&(data['floor'].isna()),'floor'].add(house_PA,fill_value=0)\n",
    "    #print(data.loc[data['property_type']=='house','floor'].value_counts(dropna=False))\n"
   ]
  },
  {
   "cell_type": "markdown",
   "metadata": {},
   "source": [
    "¿Y ahora?"
   ]
  },
  {
   "cell_type": "code",
   "execution_count": 48,
   "metadata": {},
   "outputs": [
    {
     "data": {
      "text/plain": [
       "NaN      38832\n",
       " 1.0       445\n",
       " 2.0       290\n",
       " 3.0        18\n",
       " 7.0         4\n",
       " 8.0         4\n",
       " 6.0         2\n",
       " 5.0         2\n",
       " 10.0        2\n",
       " 11.0        1\n",
       " 9.0         1\n",
       " 4.0         1\n",
       "Name: floor, dtype: int64"
      ]
     },
     "execution_count": 48,
     "metadata": {},
     "output_type": "execute_result"
    }
   ],
   "source": [
    "#data.loc[data['property_type']=='house']['floor'].value_counts()\n",
    "np.set_printoptions(suppress=True) \n",
    "np.sort(data.loc[data['property_type']=='house']['floor'].unique())\n",
    "data.loc[data['property_type']=='house']['floor'].value_counts(dropna=False, sort=True)"
   ]
  },
  {
   "cell_type": "markdown",
   "metadata": {},
   "source": [
    "Los valores faltantes de casas (39456 datos) los completo con 0 (las casas suelen estar en PB)."
   ]
  },
  {
   "cell_type": "code",
   "execution_count": 49,
   "metadata": {},
   "outputs": [
    {
     "data": {
      "text/plain": [
       "0.0     38832\n",
       "1.0       445\n",
       "2.0       290\n",
       "3.0        18\n",
       "7.0         4\n",
       "8.0         4\n",
       "6.0         2\n",
       "5.0         2\n",
       "10.0        2\n",
       "11.0        1\n",
       "9.0         1\n",
       "4.0         1\n",
       "Name: floor, dtype: int64"
      ]
     },
     "execution_count": 49,
     "metadata": {},
     "output_type": "execute_result"
    }
   ],
   "source": [
    "data.loc[(data['property_type']=='house')&(data['floor'].isnull()),'floor']=0\n",
    "data.loc[data['property_type']=='house']['floor'].value_counts(dropna=False, sort=True)"
   ]
  },
  {
   "cell_type": "markdown",
   "metadata": {},
   "source": [
    "## Análisis de 'floor' para PH\n",
    "\n",
    "El valor de piso de un PH suele ser PB o 1° piso. Pero hay casos donde se ve que está en un segundo o un tercer piso. Para mayor número de piso, encontramos muchos valores incorrectos. Por eso, un número de piso 4 o mayor, será tomado como incorrecto y se pondrá a cero, para realizar una corrección similar a la hecha con las casas"
   ]
  },
  {
   "cell_type": "code",
   "execution_count": 50,
   "metadata": {
    "scrolled": true
   },
   "outputs": [
    {
     "data": {
      "text/plain": [
       "array([ 1.,  2.,  3.,  4.,  5.,  6.,  7.,  8.,  9., 10., 11., 12., 13.,\n",
       "       14., 15., 16., 17., nan])"
      ]
     },
     "execution_count": 50,
     "metadata": {},
     "output_type": "execute_result"
    }
   ],
   "source": [
    "np.sort(data.loc[data['property_type']=='PH']['floor'].unique())\n",
    "#data.loc[data['property_type']=='PH']['floor'].value_counts(dropna=False, sort=True)"
   ]
  },
  {
   "cell_type": "code",
   "execution_count": 51,
   "metadata": {},
   "outputs": [
    {
     "data": {
      "text/plain": [
       "array([ 2.,  1.,  6.,  3.,  4.,  7.,  8.,  9.,  5., nan, 11., 10.])"
      ]
     },
     "execution_count": 51,
     "metadata": {},
     "output_type": "execute_result"
    }
   ],
   "source": [
    "iqr_values_ph=calculate_iqr_values(data.loc[(data['floor'].notnull())&(data['property_type']=='PH'),'floor'])\n",
    "data.loc[(data['property_type']=='PH')&(data['floor'].notnull()),'floor'].apply(check_outliers,args=iqr_values).unique()"
   ]
  },
  {
   "cell_type": "markdown",
   "metadata": {},
   "source": [
    "Por outliers elimino una buena cantidad de valores extraños para el número de piso de un PH."
   ]
  },
  {
   "cell_type": "code",
   "execution_count": 52,
   "metadata": {
    "scrolled": true
   },
   "outputs": [],
   "source": [
    "#data.loc[(data['property_type']=='PH')&(data['floor']<=iqr_values[1]),['floor','description']].values"
   ]
  },
  {
   "cell_type": "markdown",
   "metadata": {},
   "source": [
    "## Corrección de los datos de PH"
   ]
  },
  {
   "cell_type": "code",
   "execution_count": 53,
   "metadata": {},
   "outputs": [
    {
     "data": {
      "text/plain": [
       "NaN      5136\n",
       " 1.0      154\n",
       " 2.0      146\n",
       " 3.0       63\n",
       " 6.0       42\n",
       " 5.0       38\n",
       " 4.0       31\n",
       " 7.0       31\n",
       " 8.0       12\n",
       " 9.0       11\n",
       " 11.0      10\n",
       " 10.0       9\n",
       " 12.0       8\n",
       " 13.0       7\n",
       " 14.0       7\n",
       " 16.0       2\n",
       " 15.0       1\n",
       " 17.0       1\n",
       "Name: floor, dtype: int64"
      ]
     },
     "execution_count": 53,
     "metadata": {},
     "output_type": "execute_result"
    }
   ],
   "source": [
    "data.loc[(data['property_type']=='PH')]['floor'].value_counts(dropna=False,sort=True)"
   ]
  },
  {
   "cell_type": "markdown",
   "metadata": {},
   "source": [
    "Los datos de piso>7 los tomamos como inválidos y los ponemos en NaN."
   ]
  },
  {
   "cell_type": "code",
   "execution_count": 54,
   "metadata": {
    "scrolled": true
   },
   "outputs": [
    {
     "data": {
      "text/plain": [
       "NaN      5162\n",
       " 1.0      154\n",
       " 2.0      146\n",
       " 3.0       63\n",
       " 6.0       42\n",
       " 5.0       38\n",
       " 7.0       31\n",
       " 4.0       31\n",
       " 8.0       12\n",
       " 9.0       11\n",
       " 11.0      10\n",
       " 10.0       9\n",
       "Name: floor, dtype: int64"
      ]
     },
     "execution_count": 54,
     "metadata": {},
     "output_type": "execute_result"
    }
   ],
   "source": [
    "data.loc[(data['property_type']=='PH')&(data['floor']>iqr_values[1]),'floor']=np.nan\n",
    "data.loc[(data['property_type']=='PH')]['floor'].value_counts(dropna=False,sort=True)"
   ]
  },
  {
   "cell_type": "markdown",
   "metadata": {},
   "source": [
    "Al resto de valores (los 5246 NaN) los paso por una búsqueda de piso (entre 0 y 3)."
   ]
  },
  {
   "cell_type": "code",
   "execution_count": 55,
   "metadata": {},
   "outputs": [
    {
     "data": {
      "text/plain": [
       "NaN      2877\n",
       " 0.0     1765\n",
       " 1.0      595\n",
       " 2.0      217\n",
       " 3.0       71\n",
       " 6.0       42\n",
       " 5.0       38\n",
       " 7.0       31\n",
       " 4.0       31\n",
       " 8.0       12\n",
       " 9.0       11\n",
       " 11.0      10\n",
       " 10.0       9\n",
       "Name: floor, dtype: int64"
      ]
     },
     "execution_count": 55,
     "metadata": {},
     "output_type": "execute_result"
    }
   ],
   "source": [
    "patterns_pb = ['planta baja','PB','P.B.']\n",
    "acc_1 = ['primer piso','1er piso','1° piso']\n",
    "acc_2 = ['segundo piso','2do piso','2° piso']\n",
    "acc_3 = ['tercer piso','3er piso','3° piso']\n",
    "\n",
    "accepted = [patterns_pb,acc_1,acc_2,acc_3]\n",
    "piso = 0.0\n",
    "for acc in accepted:\n",
    "    for text in acc:\n",
    "        ph_piso = data.loc[(data['property_type']=='PH')&(data['floor'].isna()),'description']\\\n",
    "        .str.contains(text,case=False,regex=False)\n",
    "        data.loc[(data['property_type']=='PH')&(ph_piso),'floor']=piso\n",
    "    piso+=1\n",
    "data.loc[(data['property_type']=='PH')]['floor'].value_counts(dropna=False,sort=True)"
   ]
  },
  {
   "cell_type": "markdown",
   "metadata": {},
   "source": [
    "Al resto de NaN los pongo en cero."
   ]
  },
  {
   "cell_type": "code",
   "execution_count": 56,
   "metadata": {},
   "outputs": [
    {
     "data": {
      "text/plain": [
       "0.0     4642\n",
       "1.0      595\n",
       "2.0      217\n",
       "3.0       71\n",
       "6.0       42\n",
       "5.0       38\n",
       "7.0       31\n",
       "4.0       31\n",
       "8.0       12\n",
       "9.0       11\n",
       "11.0      10\n",
       "10.0       9\n",
       "Name: floor, dtype: int64"
      ]
     },
     "execution_count": 56,
     "metadata": {},
     "output_type": "execute_result"
    }
   ],
   "source": [
    "data.loc[(data['property_type']=='PH')&(data['floor'].isna()),'floor']=0\n",
    "#data.loc[(data['property_type']=='PH')&(data['floor'].isna()),'floor']\n",
    "data.loc[(data['property_type']=='PH')]['floor'].value_counts(dropna=False,sort=True)"
   ]
  },
  {
   "cell_type": "markdown",
   "metadata": {},
   "source": [
    "## Análisis de 'floor' para store"
   ]
  },
  {
   "cell_type": "code",
   "execution_count": 57,
   "metadata": {},
   "outputs": [
    {
     "data": {
      "text/plain": [
       "NaN      4049\n",
       " 1.0       24\n",
       " 2.0       10\n",
       " 53.0       1\n",
       " 10.0       1\n",
       " 19.0       1\n",
       " 14.0       1\n",
       " 31.0       1\n",
       " 4.0        1\n",
       "Name: floor, dtype: int64"
      ]
     },
     "execution_count": 57,
     "metadata": {},
     "output_type": "execute_result"
    }
   ],
   "source": [
    "#np.sort(data.loc[data['property_type']=='store']['floor'].unique())\n",
    "data.loc[data['property_type']=='store']['floor'].value_counts(dropna=False, sort=True)"
   ]
  },
  {
   "cell_type": "markdown",
   "metadata": {},
   "source": [
    "Luego de una inspección de los datos y algunas descripciones, se decide que hay valores válidos hasta piso 10 (oficina). Luego, tomamos como valores inválidos (mal cargados), y seguirán el mismo camino que el análisis de la descripción que las categorías de 'house' y 'PH'."
   ]
  },
  {
   "cell_type": "code",
   "execution_count": 58,
   "metadata": {},
   "outputs": [
    {
     "data": {
      "text/plain": [
       "array([ 1.,  2.,  4., nan, 10.])"
      ]
     },
     "execution_count": 58,
     "metadata": {},
     "output_type": "execute_result"
    }
   ],
   "source": [
    "iqr_values_store=calculate_iqr_values(data.loc[(data['floor'].notnull())&(data['property_type']=='store'),'floor'])\n",
    "data.loc[(data['property_type']=='store')&(data['floor'].notnull()),'floor'].apply(check_outliers,args=iqr_values).unique()"
   ]
  },
  {
   "cell_type": "markdown",
   "metadata": {},
   "source": [
    "## Corrección de los datos de store"
   ]
  },
  {
   "cell_type": "markdown",
   "metadata": {},
   "source": [
    "Luego de revisar algunas descripciones, se encontró que los valores de piso válidos encontrados son hasta el piso 10. Hay oficinas clasificadas como store. Haciendo un filtro por outliers, los datos válidos son hasta el piso 2. Tomamos como despreciable los datos perdidos."
   ]
  },
  {
   "cell_type": "code",
   "execution_count": 59,
   "metadata": {
    "scrolled": true
   },
   "outputs": [
    {
     "data": {
      "text/plain": [
       "NaN      4049\n",
       " 1.0       24\n",
       " 2.0       10\n",
       " 53.0       1\n",
       " 10.0       1\n",
       " 19.0       1\n",
       " 14.0       1\n",
       " 31.0       1\n",
       " 4.0        1\n",
       "Name: floor, dtype: int64"
      ]
     },
     "execution_count": 59,
     "metadata": {},
     "output_type": "execute_result"
    }
   ],
   "source": [
    "data.loc[(data['property_type']=='store')]['floor'].value_counts(dropna=False,sort=True)"
   ]
  },
  {
   "cell_type": "code",
   "execution_count": 60,
   "metadata": {},
   "outputs": [
    {
     "data": {
      "text/plain": [
       "NaN     4049\n",
       " 1.0      24\n",
       " 2.0      10\n",
       " 0.0       6\n",
       "Name: floor, dtype: int64"
      ]
     },
     "execution_count": 60,
     "metadata": {},
     "output_type": "execute_result"
    }
   ],
   "source": [
    "data.loc[(data['property_type']=='store') & (data['floor']>iqr_values_store[1]),'floor']=0\n",
    "data.loc[(data['property_type']=='store')]['floor'].value_counts(dropna=False,sort=True)"
   ]
  },
  {
   "cell_type": "code",
   "execution_count": 61,
   "metadata": {
    "scrolled": true
   },
   "outputs": [
    {
     "data": {
      "text/plain": [
       "NaN     3927\n",
       " 1.0      93\n",
       " 2.0      44\n",
       " 4.0      10\n",
       " 3.0       9\n",
       " 0.0       6\n",
       "Name: floor, dtype: int64"
      ]
     },
     "execution_count": 61,
     "metadata": {},
     "output_type": "execute_result"
    }
   ],
   "source": [
    "data['clean_fl']=data['floor']\n",
    "data['temp_fl']=np.nan\n",
    "\n",
    "func_lst = [text_floor_search,text_search_floor,num_floor_search,num_search_floor]\n",
    "for func in func_lst:\n",
    "#     print(func.__name__)\n",
    "#     print(data.loc[(data['property_type']=='store')&(data['floor'].isna())]['description'].apply(func).value_counts()\n",
    "# )\n",
    "    clean_temp_col(data,'temp_fl')\n",
    "    data.loc[data['property_type']=='store','temp_fl']=data.loc[(data['property_type']=='store')&(data['floor'].isna())]['description'].apply(func)\n",
    "    data.loc[data['property_type']=='store','temp_fl'] = data.loc[data['property_type']=='store','temp_fl'].apply(check_outliers,args=iqr_values_store)\n",
    "    data.loc[data['property_type']=='store','clean_fl']=data.loc[data['property_type']=='store','clean_fl'].add(data.loc[data['property_type']=='store','temp_fl'],fill_value=0)\n",
    "\n",
    "data.loc[(data['property_type']=='store'),'floor'] = data[data['property_type']=='store']['floor'].add(data[data['property_type']=='store']['clean_fl'],fill_value=0)\n",
    "#data.loc[(data['property_type']=='store')&(data['clean_fl']).notnull()]    \n",
    "data.loc[(data['property_type']=='store')]['floor'].value_counts(dropna=False,sort=True)"
   ]
  },
  {
   "cell_type": "markdown",
   "metadata": {},
   "source": [
    "El resto de los NaN los pongo a cero."
   ]
  },
  {
   "cell_type": "code",
   "execution_count": 62,
   "metadata": {
    "scrolled": true
   },
   "outputs": [
    {
     "data": {
      "text/plain": [
       "0.0    3933\n",
       "1.0      93\n",
       "2.0      44\n",
       "4.0      10\n",
       "3.0       9\n",
       "Name: floor, dtype: int64"
      ]
     },
     "execution_count": 62,
     "metadata": {},
     "output_type": "execute_result"
    }
   ],
   "source": [
    "data.loc[(data['property_type']=='store')&(data['floor'].isna()),'floor']=0\n",
    "data.loc[(data['property_type']=='store')]['floor'].value_counts(dropna=False,sort=True)"
   ]
  },
  {
   "cell_type": "code",
   "execution_count": 63,
   "metadata": {},
   "outputs": [
    {
     "data": {
      "text/plain": [
       "64207"
      ]
     },
     "execution_count": 63,
     "metadata": {},
     "output_type": "execute_result"
    }
   ],
   "source": [
    "data['floor'].isna().sum()"
   ]
  },
  {
   "cell_type": "markdown",
   "metadata": {},
   "source": [
    "## Análisis de 'floor' para apartment\n",
    "\n",
    "Después de una análisis exploratorio y lectura de algunas descripciones se encontró que el piso válido más alto es el piso 40 (departamento en puerto madero). Los valores mayores se pondrán a NaN y se buscará el valor correcto en title y description."
   ]
  },
  {
   "cell_type": "code",
   "execution_count": 64,
   "metadata": {},
   "outputs": [
    {
     "data": {
      "text/plain": [
       "array([   1.,    2.,    3.,    4.,    5.,    6.,    7.,    8.,    9.,\n",
       "         10.,   11.,   12.,   13.,   14.,   15.,   16.,   17.,   18.,\n",
       "         19.,   20.,   21.,   22.,   23.,   24.,   25.,   27.,   28.,\n",
       "         29.,   30.,   31.,   33.,   34.,   36.,   37.,   38.,   39.,\n",
       "         40.,   42.,   43.,   44.,   45.,   47.,   48.,   49.,   50.,\n",
       "         54.,   55.,   60.,   63.,   64.,   77.,   89.,   91.,   94.,\n",
       "        102.,  103.,  104.,  105.,  106.,  107.,  108.,  109.,  111.,\n",
       "        113.,  114.,  117.,  118.,  121.,  123.,  124.,  129.,  130.,\n",
       "        133.,  136.,  203.,  205.,  207.,  208.,  213.,  234.,  248.,\n",
       "        249.,  257.,  301.,  302.,  303.,  304.,  305.,  306.,  307.,\n",
       "        309.,  312.,  339.,  403.,  404.,  406.,  407.,  408.,  410.,\n",
       "        433.,  461.,  503.,  504.,  505.,  508.,  513.,  524.,  601.,\n",
       "        606.,  608.,  614.,  702.,  704.,  706.,  707.,  708.,  801.,\n",
       "        802.,  803.,  810.,  905.,  906.,  907.,  908.,  910., 1001.,\n",
       "       1104., 1106., 1109., 1201., 1202., 1204., 1206., 1208., 1301.,\n",
       "       1304., 1305., 1306., 1401., 1403., 1404., 1407., 1504., 1602.,\n",
       "       1606., 1607., 1608., 1609., 2103., 2509.,   nan])"
      ]
     },
     "execution_count": 64,
     "metadata": {},
     "output_type": "execute_result"
    }
   ],
   "source": [
    "np.sort(data.loc[data['property_type']=='apartment']['floor'].unique())\n",
    "#data.loc[(data['property_type']=='apartment')&(data['floor']<=40)&(data['floor']>=10),['floor','description']].sample(10).values"
   ]
  },
  {
   "cell_type": "markdown",
   "metadata": {},
   "source": [
    "Filtrando por outliers, me quedan estos valores:"
   ]
  },
  {
   "cell_type": "code",
   "execution_count": 65,
   "metadata": {},
   "outputs": [
    {
     "data": {
      "text/plain": [
       "array([ 5.,  1.,  3.,  2., nan,  6.,  4.,  7.,  8.,  9., 10., 11.])"
      ]
     },
     "execution_count": 65,
     "metadata": {},
     "output_type": "execute_result"
    }
   ],
   "source": [
    "iqr_values_apt=calculate_iqr_values(data.loc[(data['floor'].notnull())&(data['property_type']=='apartment'),'floor'])\n",
    "data.loc[(data['property_type']=='apartment')&(data['floor'].notnull()),'floor'].apply(check_outliers,args=iqr_values).unique()"
   ]
  },
  {
   "cell_type": "markdown",
   "metadata": {},
   "source": [
    "Pero se ha hecho un análisis donde se encontró departamentos hasta en piso 40. Por lo tanto, se tomará como valores válidos para estos datos hasta piso 40. Lo mismo se tomará para los demás valores buscados en la descripción de la propiedad."
   ]
  },
  {
   "cell_type": "code",
   "execution_count": 66,
   "metadata": {},
   "outputs": [
    {
     "data": {
      "text/plain": [
       "NaN      64367\n",
       " 0.0     47407\n",
       " 1.0      2644\n",
       " 2.0      1646\n",
       " 3.0       928\n",
       " 4.0       666\n",
       " 5.0       483\n",
       " 6.0       482\n",
       " 7.0       353\n",
       " 8.0       247\n",
       " 9.0       205\n",
       " 10.0      180\n",
       " 11.0      123\n",
       " 12.0      107\n",
       " 13.0       62\n",
       " 15.0       39\n",
       " 14.0       38\n",
       "Name: floor, dtype: int64"
      ]
     },
     "execution_count": 66,
     "metadata": {},
     "output_type": "execute_result"
    }
   ],
   "source": [
    "data.loc[(data['property_type']=='apartment')&(data['floor']>40),'floor']=np.nan\n",
    "data.loc[(data['floor']<=15)|(data['floor'].isna()),'floor'].value_counts(dropna=False)"
   ]
  },
  {
   "cell_type": "markdown",
   "metadata": {},
   "source": [
    "## Columnas temporales"
   ]
  },
  {
   "cell_type": "code",
   "execution_count": 67,
   "metadata": {},
   "outputs": [],
   "source": [
    "data['clean_fl']=data['floor']\n",
    "data['temp_fl']=np.nan"
   ]
  },
  {
   "cell_type": "markdown",
   "metadata": {},
   "source": [
    "## Búsqueda de piso para apartment \n",
    "\n",
    "Itero con las columnas 'title' y 'description'"
   ]
  },
  {
   "cell_type": "code",
   "execution_count": 68,
   "metadata": {},
   "outputs": [
    {
     "name": "stdout",
     "output_type": "stream",
     "text": [
      "------------------------\n",
      "Columna: title\n",
      "------------------------\n",
      "text_floor_search\n",
      "Nuevos: 85.\n",
      "Total: 55830.\n",
      "num_floor_search\n",
      "Nuevos: 180.\n",
      "Total: 56010.\n",
      "text_search_floor\n",
      "Nuevos: 13.\n",
      "Total: 56023.\n",
      "num_search_floor\n",
      "Nuevos: 3.\n",
      "Total: 56026.\n",
      "------------------------\n",
      "Columna: description\n",
      "------------------------\n",
      "text_floor_search\n",
      "Nuevos: 2281.\n",
      "Total: 58307.\n",
      "num_floor_search\n",
      "Nuevos: 2223.\n",
      "Total: 60530.\n",
      "text_search_floor\n",
      "Nuevos: 157.\n",
      "Total: 60687.\n",
      "num_search_floor\n",
      "Nuevos: 33.\n",
      "Total: 60720.\n"
     ]
    }
   ],
   "source": [
    "#print(apartment_df.columns)\n",
    "\n",
    "data['description'] = data['description'].fillna(\"-\")\n",
    "fl_func_lst = [text_floor_search,num_floor_search,text_search_floor,num_search_floor]\n",
    "col_lst = ['title','description']\n",
    "for col in col_lst:\n",
    "    print(\"------------------------\")\n",
    "    print(\"Columna: {}\".format(col))\n",
    "    print(\"------------------------\")\n",
    "    for func in fl_func_lst:\n",
    "        clean_temp_col(data,'temp_fl')\n",
    "        data.loc[data['clean_fl'].isna(),'temp_fl'] = data[data['clean_fl'].isna()][col].apply(func)\n",
    "        data.loc[data['property_type']=='apartment','temp_fl'] = data.loc[data['property_type']=='apartment','temp_fl'].apply(check_outliers,args=(0,40))\n",
    "        data.loc[data['clean_fl'].isna(),'clean_fl'] = data['clean_fl'].add(data['temp_fl'],fill_value=0)\n",
    "        print(func.__name__)\n",
    "        new_found(data,'temp_fl','clean_fl')\n"
   ]
  },
  {
   "cell_type": "code",
   "execution_count": 69,
   "metadata": {
    "scrolled": true
   },
   "outputs": [
    {
     "data": {
      "text/plain": [
       "59392"
      ]
     },
     "execution_count": 69,
     "metadata": {},
     "output_type": "execute_result"
    }
   ],
   "source": [
    "data.loc[data['floor'].isna(),'floor']=data.loc[data['floor'].isna(),'clean_fl']\n",
    "data['floor'].isna().sum()"
   ]
  },
  {
   "cell_type": "markdown",
   "metadata": {},
   "source": [
    "### Imputar valores faltantes por mediana por place. "
   ]
  },
  {
   "cell_type": "code",
   "execution_count": 70,
   "metadata": {},
   "outputs": [],
   "source": [
    "apartment_df = data.groupby('property_type').get_group('apartment')\n",
    "floor_place_dict = apartment_df[['place_name','floor']].groupby('place_name').aggregate(np.median).to_dict()\n",
    "floor_place_dict = floor_place_dict['floor']\n",
    "floor_place_dict\n",
    "\n",
    "for key in floor_place_dict.keys():\n",
    "    data.loc[(data['place_name']==key)&(data['floor'].isna()),'floor']=floor_place_dict[key]\n",
    "#data.loc[(data['floor']<=15)|(data['floor'].isna()),'floor'].value_counts(dropna=False)"
   ]
  },
  {
   "cell_type": "markdown",
   "metadata": {},
   "source": [
    "## Elimino columnas temporales"
   ]
  },
  {
   "cell_type": "code",
   "execution_count": 71,
   "metadata": {},
   "outputs": [
    {
     "data": {
      "text/plain": [
       "operation                          0\n",
       "property_type                      0\n",
       "place_name                         0\n",
       "place_with_parent_names            0\n",
       "country_name                       0\n",
       "state_name                         0\n",
       "geonames_id                    18545\n",
       "lat-lon                        50954\n",
       "lat                            50954\n",
       "lon                            50954\n",
       "price                          20281\n",
       "currency                       20282\n",
       "price_aprox_local_currency     20281\n",
       "price_aprox_usd                20282\n",
       "surface_total_in_m2            39709\n",
       "surface_covered_in_m2          19908\n",
       "price_usd_per_m2               52472\n",
       "price_per_m2                   33432\n",
       "floor                            804\n",
       "rooms                          73173\n",
       "expenses                      105910\n",
       "properati_url                      0\n",
       "description                        0\n",
       "title                              0\n",
       "image_thumbnail                 3087\n",
       "dtype: int64"
      ]
     },
     "execution_count": 71,
     "metadata": {},
     "output_type": "execute_result"
    }
   ],
   "source": [
    "data.drop(['clean_fl','temp_fl'],axis=1,inplace=True)\n",
    "data.isna().sum()"
   ]
  },
  {
   "cell_type": "markdown",
   "metadata": {},
   "source": [
    "# Valores Faltantes de 'rooms'"
   ]
  },
  {
   "cell_type": "markdown",
   "metadata": {},
   "source": [
    "### Funciones para la búsqueda de ambientes con RegEx\n",
    "\n",
    "Defino algunas funciones con algunos patrones de RegEx para buscar el número de ambientes por dígitos o por texto."
   ]
  },
  {
   "cell_type": "code",
   "execution_count": 72,
   "metadata": {
    "scrolled": true
   },
   "outputs": [],
   "source": [
    "def mono_amb_search(text):\n",
    "    '''Busca si aparece algun monoambiente en el texto.\n",
    "    '''\n",
    "    #pattern_1amb = r'mono\\s?ambiente'\n",
    "    #este funciona mejor, captura más.\n",
    "    pattern_1amb = r'mono\\s?h?amb\\.?\\w+' \n",
    "    regex_1amb = re.compile(pattern_1amb, flags = re.IGNORECASE)\n",
    "    mono_amb = regex_1amb.findall(text)\n",
    "    if(mono_amb):\n",
    "        return 1\n",
    "    else:\n",
    "        return np.nan"
   ]
  },
  {
   "cell_type": "code",
   "execution_count": 73,
   "metadata": {},
   "outputs": [],
   "source": [
    "def more_amb_search(text): \n",
    "    '''Busca la cantidad de ambientes con dígitos.\n",
    "    '''\n",
    "   \n",
    "    accepted_lst = ['ambientes','ambientes','amb.','amvientes','anvientes','hambientes',\n",
    "                'hamvientes','hanvientes','ambintes','ambtes','ambiemtes','ambietes',\n",
    "               'ambieintes','ambeintes','ambentes','ambs','ambietnes','ambienes',\n",
    "                   'ambientessan','ambc']\n",
    "    \n",
    "    accepted = ';'.join(accepted_lst)\n",
    "    \n",
    "    pattern_amb = r'(\\d+)\\s*(h?(?:amb|anv|amv)\\.?\\w*)'\n",
    "    regex_amb = re.compile(pattern_amb, flags = re.IGNORECASE)\n",
    "    ambientes = regex_amb.findall(text)\n",
    "    \n",
    "    if not ambientes:\n",
    "        return np.nan\n",
    "    if len(ambientes)>1:\n",
    "        #si es cero, no encontré nada. si es mayor a uno, es un proyecto o un complejo.\n",
    "        #lo dejo para después.\n",
    "        #return np.nan\n",
    "        amb_lst = [float(item[0]) for item in ambientes if item[1].lower() in accepted]\n",
    "        \n",
    "        if amb_lst:\n",
    "            amb=max(amb_lst)\n",
    "            if amb==0:\n",
    "                return np.nan\n",
    "            else:\n",
    "                return(max(amb_lst))\n",
    "        else:\n",
    "            return np.nan\n",
    "        \n",
    "    if len(ambientes)==1:\n",
    "        if ambientes[0][1].lower() in accepted:\n",
    "            amb = float(ambientes[0][0])\n",
    "            if amb==0:\n",
    "                return np.nan\n",
    "#             if amb<20:\n",
    "#                 return amb\n",
    "#             else:\n",
    "#                 return np.nan  \n",
    "            return amb"
   ]
  },
  {
   "cell_type": "code",
   "execution_count": 74,
   "metadata": {},
   "outputs": [],
   "source": [
    "def text_amb_search(text):\n",
    "    \n",
    "    '''Buscar por un número con palabras y convertirlo a float.\n",
    "    '''\n",
    "    \n",
    "    convert_dict = {\n",
    "        'un': 1.0,'uno': 1.0,'dos': 2.0,'tres': 3.0,'cuatro': 4.0,'cinco': 5.0,\n",
    "        'seis': 6.0,'siete': 7.0,'ocho': 8.0,'nueve': 9.0,'diez': 10.0,'once': 11.0,\n",
    "        'doce': 12.0,'trece': 13.0,'catorce': 14.0,'quince': 15.0\n",
    "    }\n",
    "    \n",
    "    accepted_lst = ['ambientes','ambientes','amb.','amvientes','anvientes','hambientes',\n",
    "                'hamvientes','hanvientes','ambintes','ambtes','ambiemtes','ambietes',\n",
    "               'ambieintes','ambeintes','ambentes','ambs','ambietnes','ambienes',\n",
    "                   'ambientessan','ambc']\n",
    "    \n",
    "    accepted = ';'.join(accepted_lst)\n",
    "    pattern_amb = r'([a-z]{2,7})\\s*(h?(?:amb|anv|amv)\\.?\\w*)'\n",
    "    regex_amb = re.compile(pattern_amb, flags = re.IGNORECASE)\n",
    "    ambientes = regex_amb.findall(text)\n",
    "    if not ambientes:\n",
    "        return np.nan\n",
    "    if len(ambientes)!=1:\n",
    "        amb_lst = [convert_dict[item[0].lower()] for item in ambientes if item[1].lower() in accepted\\\n",
    "                   and item[0].lower() in convert_dict.keys()]\n",
    "        if amb_lst:\n",
    "            amb = max(amb_lst)\n",
    "            if amb==0:\n",
    "                return np.nan\n",
    "            return amb\n",
    "        else:\n",
    "            return np.nan\n",
    "    else:\n",
    "        if ambientes[0][1].lower() not in accepted:\n",
    "            return np.nan\n",
    "        else:\n",
    "            if ambientes[0][0].lower() not in convert_dict.keys():\n",
    "                return np.nan\n",
    "            else:\n",
    "                amb = convert_dict[ambientes[0][0].lower()]\n",
    "                if amb==0:\n",
    "                    return np.nan\n",
    "                return amb\n",
    "            "
   ]
  },
  {
   "cell_type": "code",
   "execution_count": 75,
   "metadata": {},
   "outputs": [],
   "source": [
    "def dorm_search(text):\n",
    "    pattern_dorm = r'([0-9]+)\\s*(?:dorm|habit|habiat|amplios dorm|buenos dorm)\\.?(?:itorio|cion|acion|ación)?(?:s|es)?'\n",
    "    regex_dorm = re.compile(pattern_dorm, flags = re.IGNORECASE)\n",
    "    dorms = regex_dorm.findall(text)\n",
    "    if not dorms:\n",
    "        return np.nan\n",
    "    if len(dorms)>1:\n",
    "        dorm_lst = [float(item) for item in dorms]\n",
    "        return max(dorm_lst)\n",
    "    if len(dorms)==1:\n",
    "        amb = float(dorms[0])+1\n",
    "        if amb<=20:\n",
    "            return amb\n",
    "        else:\n",
    "            return np.nan"
   ]
  },
  {
   "cell_type": "code",
   "execution_count": 76,
   "metadata": {},
   "outputs": [],
   "source": [
    "def dorm_search2(text):\n",
    "    pattern_dorm = r'(?:dorm|habit|habiat)\\.?(?:itorio|cion|acion|ación)?(?:s|es)?:?\\s*([0-9]+)'\n",
    "    regex_dorm = re.compile(pattern_dorm, flags = re.IGNORECASE)\n",
    "    dorms = regex_dorm.findall(text)\n",
    "    if not dorms:\n",
    "        return np.nan\n",
    "    if len(dorms)>1:\n",
    "        dorm_lst = [float(item) for item in dorms]\n",
    "        return max(dorm_lst)+1\n",
    "    if len(dorms)==1:\n",
    "        amb = float(dorms[0])+1\n",
    "        if amb<=20:\n",
    "            return amb\n",
    "        else:\n",
    "            return np.nan"
   ]
  },
  {
   "cell_type": "code",
   "execution_count": 77,
   "metadata": {},
   "outputs": [],
   "source": [
    "def text_dorm_search(text):\n",
    "    convert_dict = {\n",
    "        'un': 1.0,'uno': 1.0,'dos': 2.0,'tres': 3.0,'cuatro': 4.0,\n",
    "        'cinco': 5.0,'seis': 6.0,'siete': 7.0,'ocho': 8.0,'nueve': 9.0,\n",
    "        'diez': 10.0,'once': 11.0,'doce': 12.0,'trece': 13.0,\n",
    "        'catorce': 14.0,'quince': 15.0\n",
    "    }\n",
    "    \n",
    "    pattern_dorm = r'([a-z]{2,7})\\s*(?:dorm|habit|amplios dorm)\\.?(?:itorio|acion|ación)?(?:s|es)?'\n",
    "    regex_dorm = re.compile(pattern_dorm, flags = re.IGNORECASE)\n",
    "    dorms = regex_dorm.findall(text)\n",
    "    \n",
    "    if not dorms:\n",
    "        return np.nan    \n",
    "    if len(dorms)>1:\n",
    "        dorms_lst = [convert_dict[item.lower()] for item in dorms if item.lower() in convert_dict.keys()]\n",
    "        if dorms_lst:\n",
    "            return max(dorms_lst)\n",
    "        else:\n",
    "            return np.nan\n",
    "    if len(dorms)==1:\n",
    "        if dorms[0].lower() not in convert_dict.keys():\n",
    "            return np.nan\n",
    "        else:\n",
    "            amb = convert_dict[dorms[0].lower()] + 1.0\n",
    "            if amb<=20:\n",
    "                return amb\n",
    "            else:\n",
    "                return np.nan"
   ]
  },
  {
   "cell_type": "code",
   "execution_count": 78,
   "metadata": {},
   "outputs": [],
   "source": [
    "def clean_temp_col(df,tempCol):\n",
    "    \"\"\"Cleans a tempCol column from a df dataframe. Writes nan on every row.\n",
    "    \n",
    "    Parameters\n",
    "    ----------\n",
    "    df : pandas.DataFrame\n",
    "        The dataframe you want to clean a temporary column.\n",
    "    tempCol: str\n",
    "        The name passed as a string of the column to clean.\n",
    "    \"\"\"\n",
    "    df.loc[:,tempCol]=np.nan"
   ]
  },
  {
   "cell_type": "code",
   "execution_count": 79,
   "metadata": {},
   "outputs": [],
   "source": [
    "def new_found(df,tempCol,cleanCol):\n",
    "    \"\"\"Shows a message about the new data found.\n",
    "    \n",
    "    Parameters\n",
    "    ----------\n",
    "    df : pandas.DataFrame\n",
    "        The dataframe to take data from.\n",
    "    tempCol: str\n",
    "        The name passed as a string of the temporary column.\n",
    "    cleanCol: str\n",
    "        the name passed as a string of the clean column.\n",
    "    \"\"\"\n",
    "    print(\"Nuevos: {}.\".format(df[tempCol].notnull().sum()))\n",
    "    print(\"Total: {}.\".format(df[cleanCol].notnull().sum()))"
   ]
  },
  {
   "cell_type": "code",
   "execution_count": 80,
   "metadata": {},
   "outputs": [],
   "source": [
    "import scipy.stats as stats\n",
    "\n",
    "#valor_mas_chico=0\n",
    "\n",
    "def calculate_iqr_values(array):\n",
    "    \"\"\"Calculates inferior and superior limits of the iqr plus a margin.\n",
    "    Returns\n",
    "    ---------\n",
    "    lim_inf: float\n",
    "        q1-1.5*iqr\n",
    "    lim_sup: float\n",
    "        q3+1.5*iqr\n",
    "    \"\"\"\n",
    "    q1,q3=np.percentile(array,[25 ,75])\n",
    "    arr_iqr = stats.iqr(array)\n",
    "    lim_inf = q1-1.5*arr_iqr\n",
    "#     if lim_inf<valor_mas_chico:\n",
    "#         lim_inf=valor_mas_chico\n",
    "    lim_sup = q3+1.5*arr_iqr\n",
    "    return lim_inf,lim_sup\n",
    "\n",
    "def check_outliers(x,min_lim,max_lim):\n",
    "    if x<min_lim:\n",
    "        return np.nan\n",
    "    elif x>max_lim:\n",
    "        return np.nan\n",
    "    else:\n",
    "        return x"
   ]
  },
  {
   "cell_type": "code",
   "execution_count": 81,
   "metadata": {
    "scrolled": true
   },
   "outputs": [
    {
     "data": {
      "text/plain": [
       "apartment    70712\n",
       "house        39602\n",
       "PH            5709\n",
       "store         4089\n",
       "Name: property_type, dtype: int64"
      ]
     },
     "execution_count": 81,
     "metadata": {},
     "output_type": "execute_result"
    }
   ],
   "source": [
    "data['property_type'].value_counts(dropna=False)"
   ]
  },
  {
   "cell_type": "code",
   "execution_count": 82,
   "metadata": {},
   "outputs": [
    {
     "data": {
      "text/plain": [
       "Text(0, 0.5, 'N° de Ambientes')"
      ]
     },
     "execution_count": 82,
     "metadata": {},
     "output_type": "execute_result"
    },
    {
     "data": {
      "image/png": "[encoded data removed]",
      "text/plain": [
       "<Figure size 576x576 with 1 Axes>"
      ]
     },
     "metadata": {
      "needs_background": "light"
     },
     "output_type": "display_data"
    }
   ],
   "source": [
    "plt.figure(figsize=(8,8))\n",
    "plt.grid(True)  \n",
    "ax = sns.boxplot(x=\"property_type\", y=\"rooms\", data=data, palette=\"Set1\")\n",
    "plt.title('Distribución de ambientes por tipo de propiedad')\n",
    "plt.xlabel('Tipo de Propiedad')\n",
    "plt.ylabel('N° de Ambientes')"
   ]
  },
  {
   "cell_type": "markdown",
   "metadata": {},
   "source": [
    "## Verificar outliers para house"
   ]
  },
  {
   "cell_type": "code",
   "execution_count": 83,
   "metadata": {
    "scrolled": true
   },
   "outputs": [
    {
     "data": {
      "text/plain": [
       "NaN      27129\n",
       " 4.0      3271\n",
       " 3.0      3216\n",
       " 5.0      2291\n",
       " 2.0       991\n",
       " 6.0       986\n",
       " 7.0       562\n",
       " 8.0       309\n",
       " 1.0       260\n",
       " 10.0      189\n",
       " 9.0       143\n",
       " 11.0       62\n",
       " 12.0       52\n",
       " 13.0       29\n",
       " 15.0       24\n",
       " 14.0       22\n",
       " 17.0       13\n",
       " 16.0       11\n",
       " 20.0        8\n",
       " 22.0        6\n",
       " 18.0        5\n",
       " 30.0        4\n",
       " 19.0        4\n",
       " 21.0        4\n",
       " 25.0        3\n",
       " 23.0        2\n",
       " 32.0        1\n",
       " 27.0        1\n",
       " 31.0        1\n",
       " 24.0        1\n",
       " 28.0        1\n",
       " 29.0        1\n",
       "Name: rooms, dtype: int64"
      ]
     },
     "execution_count": 83,
     "metadata": {},
     "output_type": "execute_result"
    }
   ],
   "source": [
    "data.loc[data['property_type']=='house','rooms'].value_counts(dropna=False)"
   ]
  },
  {
   "cell_type": "code",
   "execution_count": 84,
   "metadata": {},
   "outputs": [
    {
     "name": "stdout",
     "output_type": "stream",
     "text": [
      "[ 5.  6.  2.  3.  4.  7. nan  8.  1.]\n",
      "(0.0, 8.0)\n"
     ]
    }
   ],
   "source": [
    "iqr_values_house=calculate_iqr_values(data.loc[(data['rooms'].notnull())&(data['property_type']=='house'),'rooms'])\n",
    "print(data.loc[(data['property_type']=='house')&(data['rooms'].notnull()),'rooms'].apply(check_outliers,args=iqr_values_house).unique())\n",
    "print(iqr_values_house)"
   ]
  },
  {
   "cell_type": "code",
   "execution_count": 85,
   "metadata": {},
   "outputs": [
    {
     "data": {
      "text/plain": [
       "NaN     27716\n",
       " 4.0     3271\n",
       " 3.0     3216\n",
       " 5.0     2291\n",
       " 2.0      991\n",
       " 6.0      986\n",
       " 7.0      562\n",
       " 8.0      309\n",
       " 1.0      260\n",
       "Name: rooms, dtype: int64"
      ]
     },
     "execution_count": 85,
     "metadata": {},
     "output_type": "execute_result"
    }
   ],
   "source": [
    "#data.loc[(data['property_type']=='house')&(data['rooms']>iqr_values_house[1]),['rooms','description']].sample(10).values\n",
    "data.loc[(data['property_type']=='house')&(data['rooms']>iqr_values_house[1]),'rooms']=np.nan\n",
    "data.loc[data['property_type']=='house','rooms'].value_counts(dropna=False)"
   ]
  },
  {
   "cell_type": "markdown",
   "metadata": {},
   "source": [
    "## Búsqueda de ambientes para house"
   ]
  },
  {
   "cell_type": "code",
   "execution_count": 86,
   "metadata": {
    "scrolled": true
   },
   "outputs": [
    {
     "data": {
      "text/plain": [
       " 3.0    12043\n",
       " 4.0    10889\n",
       " 5.0     4834\n",
       "NaN      4446\n",
       " 2.0     3953\n",
       " 6.0     1562\n",
       " 1.0      823\n",
       " 7.0      716\n",
       " 8.0      336\n",
       "Name: rooms, dtype: int64"
      ]
     },
     "execution_count": 86,
     "metadata": {},
     "output_type": "execute_result"
    }
   ],
   "source": [
    "data['clean_amb']=data['rooms']\n",
    "data['temp_amb']=np.nan\n",
    "\n",
    "func_lst = [mono_amb_search,more_amb_search,text_amb_search,dorm_search,text_dorm_search,dorm_search2]\n",
    "for func in func_lst:\n",
    "#     print(func.__name__)\n",
    "#     print(data.loc[(data['property_type']=='store')&(data['floor'].isna())]['description'].apply(func).value_counts()\n",
    "# )\n",
    "    clean_temp_col(data,'temp_amb')\n",
    "    data.loc[(data['property_type']=='house')&(data['rooms'].isna()),'temp_amb']=data.loc[(data['property_type']=='house')&(data['rooms'].isna())]['description'].apply(func)\n",
    "    data.loc[data['property_type']=='house','temp_amb'] = data.loc[data['property_type']=='house','temp_amb'].apply(check_outliers,args=(1,iqr_values_house[1]))\n",
    "    data.loc[(data['property_type']=='house')&(data['clean_amb'].isna()),'clean_amb']=data.loc[(data['property_type']=='house')&(data['clean_amb'].isna()),'clean_amb'].add(data.loc[data['property_type']=='house','temp_amb'],fill_value=0)\n",
    "\n",
    "data.loc[(data['property_type']=='house')&(data['rooms'].isna()),'rooms'] = data[(data['property_type']=='house')&(data['rooms'].isna())]['rooms'].add(data[data['property_type']=='house']['clean_amb'],fill_value=0)\n",
    "#data.loc[(data['property_type']=='store')&(data['clean_fl']).notnull()]    \n",
    "data.loc[(data['property_type']=='house')]['rooms'].value_counts(dropna=False,sort=True)"
   ]
  },
  {
   "cell_type": "markdown",
   "metadata": {},
   "source": [
    "## Verificar outliers para PH"
   ]
  },
  {
   "cell_type": "code",
   "execution_count": 87,
   "metadata": {
    "scrolled": true
   },
   "outputs": [
    {
     "data": {
      "text/plain": [
       "NaN      2496\n",
       " 3.0     1286\n",
       " 2.0      742\n",
       " 4.0      690\n",
       " 5.0      263\n",
       " 1.0      118\n",
       " 6.0       68\n",
       " 7.0       24\n",
       " 8.0        9\n",
       " 9.0        5\n",
       " 10.0       4\n",
       " 13.0       1\n",
       " 20.0       1\n",
       " 11.0       1\n",
       " 12.0       1\n",
       "Name: rooms, dtype: int64"
      ]
     },
     "execution_count": 87,
     "metadata": {},
     "output_type": "execute_result"
    }
   ],
   "source": [
    "data.loc[data['property_type']=='PH','rooms'].value_counts(dropna=False)"
   ]
  },
  {
   "cell_type": "code",
   "execution_count": 88,
   "metadata": {
    "scrolled": true
   },
   "outputs": [
    {
     "name": "stdout",
     "output_type": "stream",
     "text": [
      "[ 4.  6.  2.  3.  1. nan  5.  7.]\n",
      "(-1.0, 7.0)\n"
     ]
    }
   ],
   "source": [
    "iqr_values_PH=calculate_iqr_values(data.loc[(data['rooms'].notnull())&(data['property_type']=='PH'),'rooms'])\n",
    "print(data.loc[(data['property_type']=='PH')&(data['rooms'].notnull()),'rooms'].apply(check_outliers,args=iqr_values_PH).unique())\n",
    "print(iqr_values_PH)"
   ]
  },
  {
   "cell_type": "markdown",
   "metadata": {},
   "source": [
    "Luego de revisar los outliers de los ambientes de los PH y sus descripciones, se notó que todos salvo el de 20 son correctos."
   ]
  },
  {
   "cell_type": "code",
   "execution_count": 89,
   "metadata": {},
   "outputs": [
    {
     "data": {
      "text/plain": [
       "NaN     2518\n",
       " 3.0    1286\n",
       " 2.0     742\n",
       " 4.0     690\n",
       " 5.0     263\n",
       " 1.0     118\n",
       " 6.0      68\n",
       " 7.0      24\n",
       "Name: rooms, dtype: int64"
      ]
     },
     "execution_count": 89,
     "metadata": {},
     "output_type": "execute_result"
    }
   ],
   "source": [
    "#data.loc[(data['property_type']=='house')&(data['rooms']>iqr_values_house[1]),['rooms','description']].sample(10).values\n",
    "data.loc[(data['property_type']=='PH')&(data['rooms']>iqr_values_PH[1]),'rooms']=np.nan\n",
    "data.loc[data['property_type']=='PH','rooms'].value_counts(dropna=False)"
   ]
  },
  {
   "cell_type": "markdown",
   "metadata": {},
   "source": [
    "## Búsqueda de ambientes para PH"
   ]
  },
  {
   "cell_type": "code",
   "execution_count": 90,
   "metadata": {},
   "outputs": [
    {
     "data": {
      "text/plain": [
       " 3.0    2331\n",
       " 4.0    1141\n",
       " 2.0    1136\n",
       "NaN      450\n",
       " 5.0     343\n",
       " 1.0     187\n",
       " 6.0      91\n",
       " 7.0      30\n",
       "Name: rooms, dtype: int64"
      ]
     },
     "execution_count": 90,
     "metadata": {},
     "output_type": "execute_result"
    }
   ],
   "source": [
    "data['clean_amb']=data['rooms']\n",
    "data['temp_amb']=np.nan\n",
    "\n",
    "func_lst = [mono_amb_search,more_amb_search,text_amb_search,dorm_search,text_dorm_search,dorm_search2]\n",
    "for func in func_lst:\n",
    "#     print(func.__name__)\n",
    "#     print(data.loc[(data['property_type']=='store')&(data['floor'].isna())]['description'].apply(func).value_counts()\n",
    "# )\n",
    "    clean_temp_col(data,'temp_amb')\n",
    "    data.loc[(data['property_type']=='PH')&(data['rooms'].isna()),'temp_amb']=data.loc[(data['property_type']=='PH')&(data['rooms'].isna())]['description'].apply(func)\n",
    "    data.loc[data['property_type']=='PH','temp_amb'] = data.loc[data['property_type']=='PH','temp_amb'].apply(check_outliers,args=iqr_values_PH)\n",
    "    data.loc[(data['property_type']=='PH')&(data['clean_amb'].isna()),'clean_amb']=data.loc[(data['property_type']=='PH')&(data['clean_amb'].isna()),'clean_amb'].add(data.loc[data['property_type']=='PH','temp_amb'],fill_value=0)\n",
    "\n",
    "data.loc[(data['property_type']=='PH')&(data['rooms'].isna()),'rooms'] = data[(data['property_type']=='PH')&(data['rooms'].isna())]['rooms'].add(data[data['property_type']=='PH']['clean_amb'],fill_value=0)\n",
    "#data.loc[(data['property_type']=='store')&(data['clean_fl']).notnull()]    \n",
    "data.loc[(data['property_type']=='PH')]['rooms'].value_counts(dropna=False,sort=True)"
   ]
  },
  {
   "cell_type": "code",
   "execution_count": 91,
   "metadata": {},
   "outputs": [],
   "source": [
    "#data.loc[(data['property_type']=='PH')&(data['rooms'].isna()),'description'].sample(10).values"
   ]
  },
  {
   "cell_type": "markdown",
   "metadata": {},
   "source": [
    "## Verificar outliers para store"
   ]
  },
  {
   "cell_type": "code",
   "execution_count": 92,
   "metadata": {
    "scrolled": true
   },
   "outputs": [
    {
     "data": {
      "text/plain": [
       "NaN      3984\n",
       " 1.0       55\n",
       " 2.0       17\n",
       " 3.0       13\n",
       " 7.0        6\n",
       " 5.0        4\n",
       " 4.0        4\n",
       " 10.0       3\n",
       " 6.0        2\n",
       " 8.0        1\n",
       "Name: rooms, dtype: int64"
      ]
     },
     "execution_count": 92,
     "metadata": {},
     "output_type": "execute_result"
    }
   ],
   "source": [
    "data.loc[data['property_type']=='store','rooms'].value_counts(dropna=False)"
   ]
  },
  {
   "cell_type": "code",
   "execution_count": 93,
   "metadata": {
    "scrolled": false
   },
   "outputs": [
    {
     "name": "stdout",
     "output_type": "stream",
     "text": [
      "[ 1. nan  2.  3.  6.  4.  5.]\n",
      "(-2.0, 6.0)\n"
     ]
    }
   ],
   "source": [
    "iqr_values_store=calculate_iqr_values(data.loc[(data['rooms'].notnull())&(data['property_type']=='store'),'rooms'])\n",
    "print(data.loc[(data['property_type']=='store')&(data['rooms'].notnull()),'rooms'].apply(check_outliers,args=iqr_values_store).unique())\n",
    "print(iqr_values_store)"
   ]
  },
  {
   "cell_type": "code",
   "execution_count": 94,
   "metadata": {
    "scrolled": false
   },
   "outputs": [],
   "source": [
    "#data.loc[(data['property_type']=='store')&(data['rooms']>iqr_values_store[1]),['rooms','description']].values"
   ]
  },
  {
   "cell_type": "code",
   "execution_count": 95,
   "metadata": {},
   "outputs": [
    {
     "data": {
      "text/plain": [
       "NaN     3994\n",
       " 1.0      55\n",
       " 2.0      17\n",
       " 3.0      13\n",
       " 5.0       4\n",
       " 4.0       4\n",
       " 6.0       2\n",
       "Name: rooms, dtype: int64"
      ]
     },
     "execution_count": 95,
     "metadata": {},
     "output_type": "execute_result"
    }
   ],
   "source": [
    "data.loc[(data['property_type']=='store')&(data['rooms']>iqr_values_store[1]),'rooms']=np.nan\n",
    "data.loc[data['property_type']=='store','rooms'].value_counts(dropna=False)"
   ]
  },
  {
   "cell_type": "markdown",
   "metadata": {},
   "source": [
    "## Búsqueda de ambientes para store"
   ]
  },
  {
   "cell_type": "code",
   "execution_count": 96,
   "metadata": {},
   "outputs": [
    {
     "data": {
      "text/plain": [
       "NaN     3459\n",
       " 1.0     590\n",
       " 2.0      17\n",
       " 3.0      13\n",
       " 5.0       4\n",
       " 4.0       4\n",
       " 6.0       2\n",
       "Name: rooms, dtype: int64"
      ]
     },
     "execution_count": 96,
     "metadata": {},
     "output_type": "execute_result"
    }
   ],
   "source": [
    "data['clean_amb']=data['rooms']\n",
    "data['temp_amb']=np.nan\n",
    "\n",
    "func_lst = [mono_amb_search,more_amb_search,text_amb_search,dorm_search,text_dorm_search,dorm_search2]\n",
    "for func in func_lst:\n",
    "#     print(func.__name__)\n",
    "#     print(data.loc[(data['property_type']=='store')&(data['floor'].isna())]['description'].apply(func).value_counts()\n",
    "# )\n",
    "    clean_temp_col(data,'temp_amb')\n",
    "    data.loc[(data['property_type']=='store')&(data['rooms'].isna()),'temp_amb']=data.loc[(data['property_type']=='store')&(data['rooms'].isna())]['description'].apply(func)\n",
    "    data.loc[data['property_type']=='store','temp_amb'] = data.loc[data['property_type']=='store','temp_amb'].apply(check_outliers,args=iqr_values_store)\n",
    "    data.loc[(data['property_type']=='store')&(data['clean_amb'].isna()),'clean_amb']=data.loc[(data['property_type']=='store')&(data['clean_amb'].isna()),'clean_amb'].add(data.loc[data['property_type']=='store','temp_amb'],fill_value=0)\n",
    "\n",
    "data.loc[(data['property_type']=='store')&(data['rooms'].isna()),'rooms'] = data[(data['property_type']=='store')&(data['rooms'].isna())]['rooms'].add(data[data['property_type']=='PH']['clean_amb'],fill_value=0)\n",
    "#data.loc[(data['property_type']=='store')&(data['clean_fl']).notnull()]    \n",
    "data.loc[(data['property_type']=='store')&(data['rooms'].isna())&(data['surface_total_in_m2']<50),'rooms']=1\n",
    "data.loc[(data['property_type']=='store')]['rooms'].value_counts(dropna=False,sort=True)"
   ]
  },
  {
   "cell_type": "markdown",
   "metadata": {},
   "source": [
    "## Verificar outliers para apartment"
   ]
  },
  {
   "cell_type": "code",
   "execution_count": 97,
   "metadata": {
    "scrolled": true
   },
   "outputs": [
    {
     "data": {
      "text/plain": [
       "NaN      39564\n",
       " 2.0     10624\n",
       " 3.0      7909\n",
       " 1.0      6920\n",
       " 4.0      3849\n",
       " 5.0      1160\n",
       " 6.0       329\n",
       " 7.0       174\n",
       " 8.0        86\n",
       " 9.0        33\n",
       " 10.0       21\n",
       " 12.0       12\n",
       " 11.0        9\n",
       " 14.0        5\n",
       " 17.0        3\n",
       " 13.0        3\n",
       " 20.0        2\n",
       " 32.0        2\n",
       " 22.0        2\n",
       " 15.0        2\n",
       " 18.0        1\n",
       " 25.0        1\n",
       " 21.0        1\n",
       "Name: rooms, dtype: int64"
      ]
     },
     "execution_count": 97,
     "metadata": {},
     "output_type": "execute_result"
    }
   ],
   "source": [
    "data.loc[data['property_type']=='apartment','rooms'].value_counts(dropna=False)"
   ]
  },
  {
   "cell_type": "code",
   "execution_count": 98,
   "metadata": {
    "scrolled": true
   },
   "outputs": [
    {
     "name": "stdout",
     "output_type": "stream",
     "text": [
      "[ 1.  3.  4.  2. nan]\n",
      "(0.5, 4.5)\n"
     ]
    }
   ],
   "source": [
    "iqr_values_apartment=calculate_iqr_values(data.loc[(data['rooms'].notnull())&(data['property_type']=='apartment'),'rooms'])\n",
    "print(data.loc[(data['property_type']=='apartment')&(data['rooms'].notnull()),'rooms'].apply(check_outliers,args=iqr_values_apartment).unique())\n",
    "print(iqr_values_apartment)"
   ]
  },
  {
   "cell_type": "code",
   "execution_count": 99,
   "metadata": {},
   "outputs": [],
   "source": [
    "#data.loc[(data['property_type']=='apartment')&(data['rooms']==iqr_values_apartment[1]+3),['rooms','description']].sample(10).values"
   ]
  },
  {
   "cell_type": "markdown",
   "metadata": {},
   "source": [
    "Luego de revisar los outliers de los ambientes de los apartment y sus descripciones, se decidió tomar como válidos a todos los que aparecen hasta 7 ambientes. Esto es debido a que existe una buena cantidad de publicaciones donde se venden varias propiedades juntas o departamentos de varios pisos."
   ]
  },
  {
   "cell_type": "code",
   "execution_count": 100,
   "metadata": {
    "scrolled": true
   },
   "outputs": [
    {
     "data": {
      "text/plain": [
       "NaN     39747\n",
       " 2.0    10624\n",
       " 3.0     7909\n",
       " 1.0     6920\n",
       " 4.0     3849\n",
       " 5.0     1160\n",
       " 6.0      329\n",
       " 7.0      174\n",
       "Name: rooms, dtype: int64"
      ]
     },
     "execution_count": 100,
     "metadata": {},
     "output_type": "execute_result"
    }
   ],
   "source": [
    "#data.loc[(data['property_type']=='apartment')&(data['rooms']>iqr_values_apartment[1]),['rooms','description']].sample(10).values\n",
    "data.loc[(data['property_type']=='apartment')&(data['rooms']>7),'rooms']=np.nan\n",
    "data.loc[data['property_type']=='apartment','rooms'].value_counts(dropna=False)"
   ]
  },
  {
   "cell_type": "markdown",
   "metadata": {},
   "source": [
    "## Búsqueda de ambientes para apartment"
   ]
  },
  {
   "cell_type": "code",
   "execution_count": 101,
   "metadata": {},
   "outputs": [
    {
     "name": "stdout",
     "output_type": "stream",
     "text": [
      "(0.5, 4.5)\n"
     ]
    }
   ],
   "source": [
    "print(iqr_values_apartment)"
   ]
  },
  {
   "cell_type": "code",
   "execution_count": 102,
   "metadata": {
    "scrolled": true
   },
   "outputs": [
    {
     "data": {
      "text/plain": [
       " 2.0    21096\n",
       " 3.0    17401\n",
       " 1.0    12933\n",
       "NaN      9021\n",
       " 4.0     7931\n",
       " 5.0     1735\n",
       " 6.0      398\n",
       " 7.0      197\n",
       "Name: rooms, dtype: int64"
      ]
     },
     "execution_count": 102,
     "metadata": {},
     "output_type": "execute_result"
    }
   ],
   "source": [
    "data['clean_amb']=data['rooms']\n",
    "data['temp_amb']=np.nan\n",
    "\n",
    "func_lst = [mono_amb_search,more_amb_search,text_amb_search,dorm_search,text_dorm_search,dorm_search2]\n",
    "for func in func_lst:\n",
    "#     print(func.__name__)\n",
    "#     print(data.loc[(data['property_type']=='store')&(data['floor'].isna())]['description'].apply(func).value_counts()\n",
    "# )\n",
    "    clean_temp_col(data,'temp_amb')\n",
    "    data.loc[(data['property_type']=='apartment')&(data['rooms'].isna()),'temp_amb']=data.loc[(data['property_type']=='apartment')&(data['rooms'].isna())]['description'].apply(func)\n",
    "    data.loc[data['property_type']=='apartment','temp_amb'] = data.loc[data['property_type']=='apartment','temp_amb'].apply(check_outliers,args=(iqr_values_apartment[0],iqr_values_apartment[1]+2.5))\n",
    "    data.loc[(data['property_type']=='apartment')&(data['clean_amb'].isna()),'clean_amb']=data.loc[(data['property_type']=='apartment')&(data['clean_amb'].isna()),'clean_amb'].add(data.loc[data['property_type']=='apartment','temp_amb'],fill_value=0)\n",
    "\n",
    "data.loc[(data['property_type']=='apartment')&(data['rooms'].isna()),'rooms'] = data[(data['property_type']=='apartment')&(data['rooms'].isna())]['rooms'].add(data[data['property_type']=='apartment']['clean_amb'],fill_value=0)\n",
    "#data.loc[(data['property_type']=='store')&(data['clean_fl']).notnull()]    \n",
    "data.loc[(data['property_type']=='apartment')]['rooms'].value_counts(dropna=False,sort=True)"
   ]
  },
  {
   "cell_type": "code",
   "execution_count": 103,
   "metadata": {},
   "outputs": [],
   "source": [
    "#data.loc[(data['property_type']=='PH')&(data['rooms'].isna()),'description'].sample(10).values"
   ]
  },
  {
   "cell_type": "code",
   "execution_count": 104,
   "metadata": {
    "scrolled": true
   },
   "outputs": [
    {
     "data": {
      "text/plain": [
       "operation                          0\n",
       "property_type                      0\n",
       "place_name                         0\n",
       "place_with_parent_names            0\n",
       "country_name                       0\n",
       "state_name                         0\n",
       "geonames_id                    18545\n",
       "lat-lon                        50954\n",
       "lat                            50954\n",
       "lon                            50954\n",
       "price                          20281\n",
       "currency                       20282\n",
       "price_aprox_local_currency     20281\n",
       "price_aprox_usd                20282\n",
       "surface_total_in_m2            39709\n",
       "surface_covered_in_m2          19908\n",
       "price_usd_per_m2               52472\n",
       "price_per_m2                   33432\n",
       "floor                            804\n",
       "rooms                          17376\n",
       "expenses                      105910\n",
       "properati_url                      0\n",
       "description                        0\n",
       "title                              0\n",
       "image_thumbnail                 3087\n",
       "dtype: int64"
      ]
     },
     "execution_count": 104,
     "metadata": {},
     "output_type": "execute_result"
    }
   ],
   "source": [
    "data.drop(['clean_amb','temp_amb'],axis=1,inplace=True)\n",
    "data.isna().sum()"
   ]
  },
  {
   "cell_type": "code",
   "execution_count": 105,
   "metadata": {},
   "outputs": [
    {
     "data": {
      "text/plain": [
       "Text(0, 0.5, 'N° de Ambientes')"
      ]
     },
     "execution_count": 105,
     "metadata": {},
     "output_type": "execute_result"
    },
    {
     "data": {
      "image/png": "[encoded data removed]",
      "text/plain": [
       "<Figure size 576x576 with 1 Axes>"
      ]
     },
     "metadata": {
      "needs_background": "light"
     },
     "output_type": "display_data"
    }
   ],
   "source": [
    "plt.figure(figsize=(8,8))\n",
    "plt.grid(True)  \n",
    "ax = sns.boxplot(x=\"property_type\", y=\"rooms\", data=data, palette=\"Set1\")\n",
    "plt.title('Distribución de ambientes por tipo de propiedad')\n",
    "plt.xlabel('Tipo de Propiedad')\n",
    "plt.ylabel('N° de Ambientes')"
   ]
  },
  {
   "cell_type": "markdown",
   "metadata": {},
   "source": [
    "# Variables Dummy: Amenities\n",
    "\n",
    "Se busca crear variables dummy de características que sumen para la regresión del desafío 2."
   ]
  },
  {
   "cell_type": "code",
   "execution_count": 106,
   "metadata": {
    "scrolled": true
   },
   "outputs": [
    {
     "data": {
      "text/plain": [
       "Index(['operation', 'property_type', 'place_name', 'place_with_parent_names',\n",
       "       'country_name', 'state_name', 'geonames_id', 'lat-lon', 'lat', 'lon',\n",
       "       'price', 'currency', 'price_aprox_local_currency', 'price_aprox_usd',\n",
       "       'surface_total_in_m2', 'surface_covered_in_m2', 'price_usd_per_m2',\n",
       "       'price_per_m2', 'floor', 'rooms', 'expenses', 'properati_url',\n",
       "       'description', 'title', 'image_thumbnail', 'cochera', 'gimnasio',\n",
       "       'piscina', 'SUM', 'laundry', 'balcon', 'patio'],\n",
       "      dtype='object')"
      ]
     },
     "execution_count": 106,
     "metadata": {},
     "output_type": "execute_result"
    }
   ],
   "source": [
    "sin_cochera = data.loc[:,'description'].str.contains(r\"(?:sin cochera|sin estacionamiento|sin garage)\",flags=re.IGNORECASE,regex=True)\n",
    "sin_cochera = sin_cochera.apply(lambda x: 0 if x else np.nan)\n",
    "\n",
    "cochera = data.loc[sin_cochera.isna(),'description'].str.contains(r\"(?:cochera|estacionamiento|garage)\",flags=re.IGNORECASE,regex=True).astype(float)\n",
    "cochera = cochera.add(sin_cochera,fill_value=0)\n",
    "\n",
    "sin_gimnasio = data.loc[:,'description'].str.contains(r\"(?:sin gym|sin gimnasio|sin gimnasia)\",flags=re.IGNORECASE,regex=True)\n",
    "sin_gimnasio = sin_gimnasio.apply(lambda x: 0 if x else np.nan)\n",
    "\n",
    "gimnasio = data.loc[:,'description'].str.contains(r\"(?:gym|gimnasio|gimnasia)\",flags=re.IGNORECASE,regex=True).astype(float)\n",
    "gimnasio = gimnasio.add(sin_gimnasio,fill_value=0)\n",
    "\n",
    "sin_piscina = data.loc[:,'description'].str.contains(r\"(?:sin piscina|sin pisicina|sin pileta)\",flags=re.IGNORECASE,regex=True)\n",
    "sin_piscina = sin_piscina.apply(lambda x: 0 if x else np.nan)\n",
    "\n",
    "piscina = data.loc[:,'description'].str.contains(r\"(?:piscina|pisicina|pileta)\",flags=re.IGNORECASE,regex=True).astype(float)\n",
    "piscina = piscina.add(sin_piscina,fill_value=0)\n",
    "\n",
    "sin_sum = data.loc[:,'description'].str.contains(r\"(?:sin SUM|sin salón|sin salon|sin playroom)\",flags=re.IGNORECASE,regex=True)\n",
    "sin_sum = sin_sum.apply(lambda x: 0 if x else np.nan)\n",
    "\n",
    "SUM = data.loc[:,'description'].str.contains(r\"(?:SUM|salón|salon|playroom)\",flags=re.IGNORECASE,regex=True).astype(float)\n",
    "SUM = SUM.add(sin_gimnasio,fill_value=0)\n",
    "\n",
    "sin_laundry = data.loc[:,'description'].str.contains(r\"(?:sin laundy|sin laundry|sin lavadero)\",flags=re.IGNORECASE,regex=True)\n",
    "sin_laundry = sin_laundry.apply(lambda x: 0 if x else np.nan)\n",
    "\n",
    "laundry = data.loc[:,'description'].str.contains(r\"(?:laundy|laundry|lavadero)\",flags=re.IGNORECASE,regex=True).astype(float)\n",
    "laundry = laundry.add(sin_gimnasio,fill_value=0)\n",
    "\n",
    "sin_balcon = data.loc[:,'description'].str.contains(r\"(?:sin balcon|sin balcón)\",flags=re.IGNORECASE,regex=True)\n",
    "sin_balcon = sin_balcon.apply(lambda x: 0 if x else np.nan)\n",
    "\n",
    "balcon = data.loc[:,'description'].str.contains(r\"(?:balcon|balcón)\",flags=re.IGNORECASE,regex=True).astype(float)\n",
    "balcon = balcon.add(sin_gimnasio,fill_value=0)\n",
    "\n",
    "sin_patio = data.loc[:,'description'].str.contains(r\"(?:sin patio|sin jardín|sin jardin)\",flags=re.IGNORECASE,regex=True)\n",
    "sin_patio = sin_patio.apply(lambda x: 0 if x else np.nan)\n",
    "\n",
    "patio = data.loc[:,'description'].str.contains(r\"(?:patio|jardín|jardin)\",flags=re.IGNORECASE,regex=True).astype(float)\n",
    "patio = patio.add(sin_gimnasio,fill_value=0)\n",
    "\n",
    "amenities = {\n",
    "    'cochera':cochera,\n",
    "    'gimnasio':gimnasio,\n",
    "    'piscina':piscina,\n",
    "    'SUM':SUM,\n",
    "    'laundry':laundry,\n",
    "    'balcon':balcon,\n",
    "    'patio':patio,\n",
    "}\n",
    "\n",
    "for key,item in amenities.items():\n",
    "    data[key]=item\n",
    "data.columns"
   ]
  },
  {
   "cell_type": "code",
   "execution_count": 107,
   "metadata": {
    "scrolled": true
   },
   "outputs": [
    {
     "data": {
      "text/plain": [
       "operation                          0\n",
       "property_type                      0\n",
       "place_name                         0\n",
       "place_with_parent_names            0\n",
       "country_name                       0\n",
       "state_name                         0\n",
       "geonames_id                    18545\n",
       "lat-lon                        50954\n",
       "lat                            50954\n",
       "lon                            50954\n",
       "price                          20281\n",
       "currency                       20282\n",
       "price_aprox_local_currency     20281\n",
       "price_aprox_usd                20282\n",
       "surface_total_in_m2            39709\n",
       "surface_covered_in_m2          19908\n",
       "price_usd_per_m2               52472\n",
       "price_per_m2                   33432\n",
       "floor                            804\n",
       "rooms                          17376\n",
       "expenses                      105910\n",
       "properati_url                      0\n",
       "description                        0\n",
       "title                              0\n",
       "image_thumbnail                 3087\n",
       "cochera                            0\n",
       "gimnasio                           0\n",
       "piscina                            0\n",
       "SUM                                0\n",
       "laundry                            0\n",
       "balcon                             0\n",
       "patio                              0\n",
       "dtype: int64"
      ]
     },
     "execution_count": 107,
     "metadata": {},
     "output_type": "execute_result"
    }
   ],
   "source": [
    "data.isna().sum()"
   ]
  },
  {
   "cell_type": "markdown",
   "metadata": {},
   "source": [
    "# Limpieza de Superficie (Total y Cubierta)\n",
    "\n",
    "De las inspecciónes de la columnas \"surface_total_in_m2\" y \"surface_covered_in_m2\", vemos que los valores comienzan desde el 0.0, por ende consideraremos superficies validas aquellas que sean igual o superen los diez metros cuadrados."
   ]
  },
  {
   "cell_type": "code",
   "execution_count": 108,
   "metadata": {},
   "outputs": [],
   "source": [
    "min_sup_valida = 10\n",
    "data.loc[data['surface_total_in_m2']<min_sup_valida,'surface_total_in_m2']=np.nan\n",
    "data.loc[data['surface_covered_in_m2']<min_sup_valida,'surface_total_in_m2']=np.nan"
   ]
  },
  {
   "cell_type": "markdown",
   "metadata": {},
   "source": [
    "La mediana de las superficies por la cantidad de ambientes. En los casos de 1 y 2 ambientes parece lógico. "
   ]
  },
  {
   "cell_type": "code",
   "execution_count": 109,
   "metadata": {
    "scrolled": true
   },
   "outputs": [
    {
     "data": {
      "text/plain": [
       "20295"
      ]
     },
     "execution_count": 109,
     "metadata": {},
     "output_type": "execute_result"
    }
   ],
   "source": [
    "apartment_df = data.groupby('property_type').get_group('apartment')\n",
    "\n",
    "apartment_df[['rooms','surface_total_in_m2','surface_covered_in_m2']].groupby('rooms').median()\n",
    "data.loc[(data['property_type']=='apartment'),'surface_total_in_m2'].isna().sum()"
   ]
  },
  {
   "cell_type": "code",
   "execution_count": 110,
   "metadata": {},
   "outputs": [
    {
     "data": {
      "image/png": "[encoded data removed]",
      "text/plain": [
       "<Figure size 1008x720 with 4 Axes>"
      ]
     },
     "metadata": {
      "needs_background": "light"
     },
     "output_type": "display_data"
    }
   ],
   "source": [
    "apartment_df = data.loc[data['property_type']=='apartment'].copy()\n",
    "house_df = data.loc[data['property_type']=='house'].copy()\n",
    "ph_df = data.loc[data['property_type']=='PH'].copy()\n",
    "store_df = data.loc[data['property_type']=='store'].copy()\n",
    "\n",
    "plt.figure(figsize=(14,10))\n",
    "plt.subplot(221)\n",
    "plt.grid(True)  \n",
    "#ax = sns.boxplot(x=\"rooms\", y=\"surface_total_in_m2\", data=apartment_df, palette=\"Set1\")\n",
    "ax = sns.boxplot(x=\"rooms\", y=\"surface_covered_in_m2\", data=apartment_df, palette=\"Set1\")\n",
    "plt.title('Superficie por número de ambientes (departamentos)')\n",
    "plt.xlabel('Número de Ambientes')\n",
    "plt.ylabel('Superficie [m2]')\n",
    "\n",
    "plt.subplot(222)\n",
    "plt.grid(True)  \n",
    "#ax = sns.boxplot(x=\"rooms\", y=\"surface_total_in_m2\", data=house_df, palette=\"Set1\")\n",
    "ax = sns.boxplot(x=\"rooms\", y=\"surface_covered_in_m2\", data=house_df, palette=\"Set1\")\n",
    "plt.title('Superficie por número de ambientes (Casa)')\n",
    "plt.xlabel('Número de Ambientes')\n",
    "plt.ylabel('Superficie [m2]')\n",
    "\n",
    "plt.subplot(223)\n",
    "plt.grid(True)  \n",
    "#ax = sns.boxplot(x=\"rooms\", y=\"surface_total_in_m2\", data=ph_df, palette=\"Set1\")\n",
    "ax = sns.boxplot(x=\"rooms\", y=\"surface_covered_in_m2\", data=ph_df, palette=\"Set1\")\n",
    "plt.title('Superficie por número de ambientes (PH)')\n",
    "plt.xlabel('Número de Ambientes')\n",
    "plt.ylabel('Superficie [m2]')\n",
    "\n",
    "plt.subplot(224)\n",
    "plt.grid(True)  \n",
    "#ax = sns.boxplot(x=\"rooms\", y=\"surface_total_in_m2\", data=store_df, palette=\"Set1\")\n",
    "ax = sns.boxplot(x=\"rooms\", y=\"surface_covered_in_m2\", data=store_df, palette=\"Set1\")\n",
    "plt.title('Superficie por número de ambientes (Store)')\n",
    "plt.xlabel('Número de Ambientes')\n",
    "plt.ylabel('Superficie [m2]')\n",
    "plt.savefig(\"../Images/Rooms-Before.png\")"
   ]
  },
  {
   "cell_type": "markdown",
   "metadata": {},
   "source": [
    "## Limpiando Superficies "
   ]
  },
  {
   "cell_type": "markdown",
   "metadata": {},
   "source": [
    "### apartment"
   ]
  },
  {
   "cell_type": "code",
   "execution_count": 111,
   "metadata": {
    "scrolled": true
   },
   "outputs": [
    {
     "name": "stdout",
     "output_type": "stream",
     "text": [
      "[(10, 64.5), (10, 89.0), (10, 154.0), (10, 252.0), (10, 410.0), (10, 531.75), (10, 537.5)]\n",
      "[(10, 55.0), (10, 75.0), (10, 124.0), (10, 210.0), (10, 361.25), (10, 502.625), (10, 477.5)]\n"
     ]
    },
    {
     "data": {
      "text/html": [
       "<div>\n",
       "<style scoped>\n",
       "    .dataframe tbody tr th:only-of-type {\n",
       "        vertical-align: middle;\n",
       "    }\n",
       "\n",
       "    .dataframe tbody tr th {\n",
       "        vertical-align: top;\n",
       "    }\n",
       "\n",
       "    .dataframe thead th {\n",
       "        text-align: right;\n",
       "    }\n",
       "</style>\n",
       "<table border=\"1\" class=\"dataframe\">\n",
       "  <thead>\n",
       "    <tr style=\"text-align: right;\">\n",
       "      <th></th>\n",
       "      <th>surface_total_in_m2</th>\n",
       "      <th>surface_covered_in_m2</th>\n",
       "    </tr>\n",
       "    <tr>\n",
       "      <th>rooms</th>\n",
       "      <th></th>\n",
       "      <th></th>\n",
       "    </tr>\n",
       "  </thead>\n",
       "  <tbody>\n",
       "    <tr>\n",
       "      <th>1.0</th>\n",
       "      <td>37.0</td>\n",
       "      <td>34.0</td>\n",
       "    </tr>\n",
       "    <tr>\n",
       "      <th>2.0</th>\n",
       "      <td>51.0</td>\n",
       "      <td>46.0</td>\n",
       "    </tr>\n",
       "    <tr>\n",
       "      <th>3.0</th>\n",
       "      <td>78.0</td>\n",
       "      <td>70.0</td>\n",
       "    </tr>\n",
       "    <tr>\n",
       "      <th>4.0</th>\n",
       "      <td>110.0</td>\n",
       "      <td>100.0</td>\n",
       "    </tr>\n",
       "    <tr>\n",
       "      <th>5.0</th>\n",
       "      <td>175.0</td>\n",
       "      <td>148.0</td>\n",
       "    </tr>\n",
       "    <tr>\n",
       "      <th>6.0</th>\n",
       "      <td>214.0</td>\n",
       "      <td>192.0</td>\n",
       "    </tr>\n",
       "    <tr>\n",
       "      <th>7.0</th>\n",
       "      <td>233.0</td>\n",
       "      <td>215.0</td>\n",
       "    </tr>\n",
       "  </tbody>\n",
       "</table>\n",
       "</div>"
      ],
      "text/plain": [
       "       surface_total_in_m2  surface_covered_in_m2\n",
       "rooms                                            \n",
       "1.0                   37.0                   34.0\n",
       "2.0                   51.0                   46.0\n",
       "3.0                   78.0                   70.0\n",
       "4.0                  110.0                  100.0\n",
       "5.0                  175.0                  148.0\n",
       "6.0                  214.0                  192.0\n",
       "7.0                  233.0                  215.0"
      ]
     },
     "execution_count": 111,
     "metadata": {},
     "output_type": "execute_result"
    }
   ],
   "source": [
    "sup_tot_limits_apt = []\n",
    "sup_cub_limits_apt = []\n",
    "for i in range(1,8,1):\n",
    "    a=calculate_iqr_values(data.loc[(data['rooms']==i)&(data['property_type']=='apartment')&(data['surface_total_in_m2'].notnull()),'surface_total_in_m2'])[1]\n",
    "    sup_tot_limits_apt.append((10,a))\n",
    "    b=calculate_iqr_values(data.loc[(data['rooms']==i)&(data['property_type']=='apartment')&(data['surface_covered_in_m2'].notnull()),'surface_covered_in_m2'])[1]\n",
    "    sup_cub_limits_apt.append((10,b))\n",
    "print(sup_tot_limits_apt)\n",
    "print(sup_cub_limits_apt)\n",
    "\n",
    "for i in range(7):\n",
    "    data.loc[(data['property_type']=='apartment')&(data['surface_total_in_m2']>sup_tot_limits_apt[i][1]),'surface_total_in_m2']=np.nan\n",
    "    data.loc[(data['property_type']=='apartment')&(data['surface_covered_in_m2']>sup_cub_limits_apt[i][1]),'surface_covered_in_m2']=np.nan\n",
    "    data.loc[(data['property_type']=='apartment')&(data['surface_total_in_m2']<sup_tot_limits_apt[i][0]),'surface_total_in_m2']=np.nan\n",
    "    data.loc[(data['property_type']=='apartment')&(data['surface_covered_in_m2']<sup_cub_limits_apt[i][0]),'surface_covered_in_m2']=np.nan\n",
    "apartment_df[['rooms','surface_total_in_m2','surface_covered_in_m2']].groupby('rooms').median()"
   ]
  },
  {
   "cell_type": "markdown",
   "metadata": {
    "scrolled": true
   },
   "source": [
    "### house"
   ]
  },
  {
   "cell_type": "code",
   "execution_count": 112,
   "metadata": {
    "scrolled": true
   },
   "outputs": [
    {
     "name": "stdout",
     "output_type": "stream",
     "text": [
      "[(10, 945.0), (10, 900.0), (10, 827.5), (10, 880.0), (10, 1126.5), (10, 1365.0), (10, 1561.0)]\n",
      "[(10, 462.5), (10, 465.0), (10, 400.0), (10, 428.5), (10, 521.875), (10, 612.875), (10, 683.75)]\n"
     ]
    }
   ],
   "source": [
    "sup_tot_limits_hs = []\n",
    "sup_cub_limits_hs = []\n",
    "for i in range(1,8,1):\n",
    "    a=calculate_iqr_values(data.loc[(data['rooms']==i)&(data['property_type']=='house')&(data['surface_total_in_m2'].notnull()),'surface_total_in_m2'])[1]\n",
    "    sup_tot_limits_hs.append((10,a))\n",
    "    b=calculate_iqr_values(data.loc[(data['rooms']==i)&(data['property_type']=='house')&(data['surface_covered_in_m2'].notnull()),'surface_covered_in_m2'])[1]\n",
    "    sup_cub_limits_hs.append((10,b))\n",
    "print(sup_tot_limits_hs)\n",
    "print(sup_cub_limits_hs)\n",
    "\n",
    "for i in range(7):\n",
    "    data.loc[(data['property_type']=='house')&(data['surface_total_in_m2']>sup_tot_limits_hs[i][1]),'surface_total_in_m2']=np.nan\n",
    "    data.loc[(data['property_type']=='house')&(data['surface_covered_in_m2']>sup_cub_limits_hs[i][1]),'surface_covered_in_m2']=np.nan\n",
    "    data.loc[(data['property_type']=='house')&(data['surface_total_in_m2']<sup_tot_limits_hs[i][0]),'surface_total_in_m2']=np.nan\n",
    "    data.loc[(data['property_type']=='house')&(data['surface_covered_in_m2']<sup_cub_limits_hs[i][0]),'surface_covered_in_m2']=np.nan\n",
    "#apartment_df[['rooms','surface_total_in_m2','surface_covered_in_m2']].groupby('rooms').median()"
   ]
  },
  {
   "cell_type": "markdown",
   "metadata": {},
   "source": [
    "### PH"
   ]
  },
  {
   "cell_type": "code",
   "execution_count": 113,
   "metadata": {},
   "outputs": [
    {
     "name": "stdout",
     "output_type": "stream",
     "text": [
      "[(10, 224.0), (10, 109.5), (10, 198.0), (10, 294.375), (10, 372.75)]\n",
      "[(10, 147.125), (10, 90.0), (10, 138.0), (10, 197.5), (10, 257.5)]\n"
     ]
    }
   ],
   "source": [
    "sup_tot_limits_ph = []\n",
    "sup_cub_limits_ph = []\n",
    "for i in range(1,6,1):\n",
    "    a=calculate_iqr_values(data.loc[(data['rooms']==i)&(data['property_type']=='PH')&(data['surface_total_in_m2'].notnull()),'surface_total_in_m2'])[1]\n",
    "    sup_tot_limits_ph.append((10,a))\n",
    "    b=calculate_iqr_values(data.loc[(data['rooms']==i)&(data['property_type']=='PH')&(data['surface_covered_in_m2'].notnull()),'surface_covered_in_m2'])[1]\n",
    "    sup_cub_limits_ph.append((10,b))\n",
    "print(sup_tot_limits_ph)\n",
    "print(sup_cub_limits_ph)\n",
    "\n",
    "for i in range(5):\n",
    "    data.loc[(data['property_type']=='PH')&(data['surface_total_in_m2']>sup_tot_limits_ph[i][1]),'surface_total_in_m2']=np.nan\n",
    "    data.loc[(data['property_type']=='PH')&(data['surface_covered_in_m2']>sup_cub_limits_ph[i][1]),'surface_covered_in_m2']=np.nan\n",
    "    data.loc[(data['property_type']=='PH')&(data['surface_total_in_m2']<sup_tot_limits_ph[i][0]),'surface_total_in_m2']=np.nan\n",
    "    data.loc[(data['property_type']=='PH')&(data['surface_covered_in_m2']<sup_cub_limits_ph[i][0]),'surface_covered_in_m2']=np.nan\n",
    "#apartment_df[['rooms','surface_total_in_m2','surface_covered_in_m2']].groupby('rooms').median()"
   ]
  },
  {
   "cell_type": "markdown",
   "metadata": {},
   "source": [
    "### store"
   ]
  },
  {
   "cell_type": "code",
   "execution_count": 114,
   "metadata": {},
   "outputs": [
    {
     "name": "stdout",
     "output_type": "stream",
     "text": [
      "[(10, 67.5), (10, 295.0), (10, 3128.375), (10, 356.0)]\n",
      "[(10, 65.0), (10, 177.25), (10, 424.25), (10, 198.125)]\n"
     ]
    }
   ],
   "source": [
    "sup_tot_limits_str = []\n",
    "sup_cub_limits_str = []\n",
    "for i in range(1,5,1):\n",
    "    a=calculate_iqr_values(data.loc[(data['rooms']==i)&(data['property_type']=='store')&(data['surface_total_in_m2'].notnull()),'surface_total_in_m2'])[1]\n",
    "    sup_tot_limits_str.append((10,a))\n",
    "    b=calculate_iqr_values(data.loc[(data['rooms']==i)&(data['property_type']=='store')&(data['surface_covered_in_m2'].notnull()),'surface_covered_in_m2'])[1]\n",
    "    sup_cub_limits_str.append((10,b))\n",
    "print(sup_tot_limits_str)\n",
    "print(sup_cub_limits_str)\n",
    "\n",
    "for i in range(4):\n",
    "    data.loc[(data['property_type']=='store')&(data['surface_total_in_m2']>sup_tot_limits_str[i][1]),'surface_total_in_m2']=np.nan\n",
    "    data.loc[(data['property_type']=='store')&(data['surface_covered_in_m2']>sup_cub_limits_str[i][1]),'surface_covered_in_m2']=np.nan\n",
    "    data.loc[(data['property_type']=='store')&(data['surface_total_in_m2']<sup_tot_limits_str[i][0]),'surface_total_in_m2']=np.nan\n",
    "    data.loc[(data['property_type']=='store')&(data['surface_covered_in_m2']<sup_cub_limits_str[i][0]),'surface_covered_in_m2']=np.nan\n",
    "#apartment_df[['rooms','surface_total_in_m2','surface_covered_in_m2']].groupby('rooms').median()"
   ]
  },
  {
   "cell_type": "markdown",
   "metadata": {},
   "source": [
    "Me armo un dataframe con los datos de apartment y en cada fila la superficie segun número de ambientes."
   ]
  },
  {
   "cell_type": "code",
   "execution_count": 115,
   "metadata": {
    "scrolled": false
   },
   "outputs": [
    {
     "data": {
      "image/png": "[encoded data removed]",
      "text/plain": [
       "<Figure size 1008x720 with 4 Axes>"
      ]
     },
     "metadata": {
      "needs_background": "light"
     },
     "output_type": "display_data"
    }
   ],
   "source": [
    "apartment_df = data.loc[data['property_type']=='apartment'].copy()\n",
    "house_df = data.loc[data['property_type']=='house'].copy()\n",
    "ph_df = data.loc[data['property_type']=='PH'].copy()\n",
    "store_df = data.loc[data['property_type']=='store'].copy()\n",
    "\n",
    "plt.figure(figsize=(14,10))\n",
    "plt.subplot(221)\n",
    "plt.grid(True)  \n",
    "#ax = sns.boxplot(x=\"rooms\", y=\"surface_total_in_m2\", data=apartment_df, palette=\"Set1\")\n",
    "ax = sns.boxplot(x=\"rooms\", y=\"surface_covered_in_m2\", data=apartment_df, palette=\"Set1\")\n",
    "plt.title('Superficie por número de ambientes (departamentos)')\n",
    "plt.xlabel('Número de Ambientes')\n",
    "plt.ylabel('Superficie [m2]')\n",
    "\n",
    "plt.subplot(222)\n",
    "plt.grid(True)  \n",
    "#ax = sns.boxplot(x=\"rooms\", y=\"surface_total_in_m2\", data=house_df, palette=\"Set1\")\n",
    "ax = sns.boxplot(x=\"rooms\", y=\"surface_covered_in_m2\", data=house_df, palette=\"Set1\")\n",
    "plt.title('Superficie por número de ambientes (Casa)')\n",
    "plt.xlabel('Número de Ambientes')\n",
    "plt.ylabel('Superficie [m2]')\n",
    "\n",
    "plt.subplot(223)\n",
    "plt.grid(True)  \n",
    "#ax = sns.boxplot(x=\"rooms\", y=\"surface_total_in_m2\", data=ph_df, palette=\"Set1\")\n",
    "ax = sns.boxplot(x=\"rooms\", y=\"surface_covered_in_m2\", data=ph_df, palette=\"Set1\")\n",
    "plt.title('Superficie por número de ambientes (PH)')\n",
    "plt.xlabel('Número de Ambientes')\n",
    "plt.ylabel('Superficie [m2]')\n",
    "\n",
    "plt.subplot(224)\n",
    "plt.grid(True)  \n",
    "#ax = sns.boxplot(x=\"rooms\", y=\"surface_total_in_m2\", data=store_df, palette=\"Set1\")\n",
    "ax = sns.boxplot(x=\"rooms\", y=\"surface_covered_in_m2\", data=store_df, palette=\"Set1\")\n",
    "plt.title('Superficie por número de ambientes (Store)')\n",
    "plt.xlabel('Número de Ambientes')\n",
    "plt.ylabel('Superficie [m2]')\n",
    "plt.savefig(\"../Images/Rooms-After.png\")"
   ]
  },
  {
   "cell_type": "markdown",
   "metadata": {},
   "source": [
    "## Funciones para búsqueda de superficie"
   ]
  },
  {
   "cell_type": "code",
   "execution_count": 116,
   "metadata": {},
   "outputs": [],
   "source": [
    "def sup_total_search(text):\n",
    "    pattern = r'(?:lote de|sup\\.\\s?total|superficie total|sup\\.\\s?tot\\.)\\s?:?\\s*(\\d+[,|\\.]?\\d*)\\s?(?:m2|mts2|mtrs2|metros\\s?cuadrados|m²)'\n",
    "    regex = re.compile(pattern, flags = re.IGNORECASE)\n",
    "    sup_tot_lst = regex.findall(text)\n",
    "    \n",
    "    if not sup_tot_lst:\n",
    "        return np.nan\n",
    "    if len(sup_tot_lst)!=1:\n",
    "        return np.nan\n",
    "    sup=pd.to_numeric(sup_tot_lst[0].replace(',','.'))\n",
    "    if sup<10:\n",
    "        return np.nan\n",
    "    return sup\n",
    "def sup_total_search2(text):\n",
    "    pattern = r'(\\d+[,|\\.]?\\d*)\\s?(?:m2|mts2|mtrs2|metros\\s?cuadrados|m²)'\n",
    "    regex = re.compile(pattern, flags = re.IGNORECASE)\n",
    "    sup_tot_lst = regex.findall(text)\n",
    "    \n",
    "    if not sup_tot_lst:\n",
    "        return np.nan\n",
    "    if len(sup_tot_lst)>1:\n",
    "        sup_lst = [pd.to_numeric(item.replace(',','.')) for item in sup_tot_lst]\n",
    "        if not sup_lst:\n",
    "            return np.nan\n",
    "        elif len(sup_lst)>1:\n",
    "            return np.nan\n",
    "        elif sup_lst<10:\n",
    "            return np.nan\n",
    "        else:\n",
    "            return sup_lst[0]\n",
    "        \n",
    "    if len(sup_tot_lst)==1:\n",
    "        return pd.to_numeric(sup_tot_lst[0].replace(',','.'))\n",
    "\n",
    "def sup_cub_search(text):\n",
    "    pattern = r'(?:superficie\\s?cubierta:?|sup\\.?\\s?cub.?:?|sub\\.?\\s?cubierta:?|metros.\\s?cubiertos:?|cub\\.?)\\s?:?\\s?(\\d+,?\\.?\\d*)\\s?(?:m2|mt2|mtrs2|mtrs\\.?|mts\\.?||m²)'\n",
    "    regex = re.compile(pattern, flags = re.IGNORECASE)\n",
    "    sup_cub_lst = regex.findall(text)\n",
    "    if not sup_cub_lst:\n",
    "        return np.nan\n",
    "    sup_cub_lst = [item.replace(',','.') for item in sup_cub_lst]\n",
    "    if len(sup_cub_lst)==1:\n",
    "        sup=pd.to_numeric(sup_cub_lst[0])\n",
    "        if sup<10:\n",
    "            return np.nan\n",
    "        else:\n",
    "            return sup\n",
    "    else:\n",
    "        return np.nan\n",
    "        #return(max(pd.to_numeric(sup_cub_lst)))\n",
    "\n",
    "def sup_cub_search2(text):\n",
    "    pattern = r'(\\d+,?\\.?\\d*)\\s?(?:m2|mtrs2|mtrs\\.?|mts\\.?|m²|metros|metros\\s?cuadrados|metros\\s?cuadrados\\s?de|),?\\s?(?:construidos|cubiertos|cub\\.?)'\n",
    "    regex = re.compile(pattern, flags = re.IGNORECASE)\n",
    "    sup_cub_lst = regex.findall(text)\n",
    "    if not sup_cub_lst:\n",
    "        return np.nan\n",
    "    sup_cub_lst = [item.replace(',','.') for item in sup_cub_lst]\n",
    "    if len(sup_cub_lst)==1:\n",
    "        sup=pd.to_numeric(sup_cub_lst[0])\n",
    "        if sup<10:\n",
    "            return np.nan\n",
    "        else:\n",
    "            return sup\n",
    "    else:\n",
    "        return np.nan\n",
    "        #return(max(pd.to_numeric(sup_cub_lst)))\n",
    "    "
   ]
  },
  {
   "cell_type": "markdown",
   "metadata": {},
   "source": [
    "## Columnas temporales\n",
    "\n",
    "Columnas temporales:\n",
    "\n",
    "temp_amb: columna para obtener el resultado del apply de alguna función con RegEx. Puede usarse sobre 'title' o 'description'. empieza en np.nan\n",
    "\n",
    "clean_amb: columna para ir acumulando los resultados de cada función con RegEx. Puede usarse sobre 'title' o 'description'. empieza inicializada con los valores originales de 'rooms'."
   ]
  },
  {
   "cell_type": "code",
   "execution_count": 117,
   "metadata": {},
   "outputs": [],
   "source": [
    "#Columnas temporales para superficie cubierta\n",
    "data['clean_sup_cub']=data['surface_covered_in_m2']\n",
    "data['temp_sup_cub']=np.nan\n",
    "\n",
    "#Columnas temporales para superficie total\n",
    "data['clean_sup_tot']=data['surface_total_in_m2']\n",
    "data['temp_sup_tot']=np.nan"
   ]
  },
  {
   "cell_type": "markdown",
   "metadata": {},
   "source": [
    "## Búsqueda de superficie cubierta"
   ]
  },
  {
   "cell_type": "code",
   "execution_count": 118,
   "metadata": {},
   "outputs": [
    {
     "name": "stdout",
     "output_type": "stream",
     "text": [
      "------------------------\n",
      "Columna: title\n",
      "------------------------\n",
      "sup_cub_search\n",
      "Nuevos: 0.\n",
      "Total: 67098.\n",
      "sup_cub_search2\n",
      "Nuevos: 78.\n",
      "Total: 67176.\n",
      "------------------------\n",
      "Columna: description\n",
      "------------------------\n",
      "sup_cub_search\n",
      "Nuevos: 994.\n",
      "Total: 68170.\n",
      "sup_cub_search2\n",
      "Nuevos: 2303.\n",
      "Total: 70473.\n"
     ]
    }
   ],
   "source": [
    "#data['description'] = data['description'].fillna(\"-\")\n",
    "sup_cub_func_lst = [sup_cub_search,sup_cub_search2]\n",
    "col_lst = ['title','description']\n",
    "for col in col_lst:\n",
    "    print(\"------------------------\")\n",
    "    print(\"Columna: {}\".format(col))\n",
    "    print(\"------------------------\")\n",
    "    for func in sup_cub_func_lst:\n",
    "        clean_temp_col(data,'temp_sup_cub')\n",
    "        data.loc[data['clean_sup_cub'].isna(),'temp_sup_cub'] = data[data['clean_sup_cub'].isna()][col].apply(func)\n",
    "        data.loc[data['clean_sup_cub'].isna(),'clean_sup_cub'] = data['clean_sup_cub'].add(data['temp_sup_cub'],fill_value=0)\n",
    "        print(func.__name__)\n",
    "        new_found(data,'temp_sup_cub','clean_sup_cub')"
   ]
  },
  {
   "cell_type": "markdown",
   "metadata": {},
   "source": [
    "## Búsqueda de superficie total"
   ]
  },
  {
   "cell_type": "code",
   "execution_count": 119,
   "metadata": {
    "scrolled": true
   },
   "outputs": [
    {
     "name": "stdout",
     "output_type": "stream",
     "text": [
      "------------------------\n",
      "Columna: title\n",
      "------------------------\n",
      "sup_total_search\n",
      "Nuevos: 47.\n",
      "Total: 52208.\n",
      "sup_total_search2\n",
      "Nuevos: 3054.\n",
      "Total: 55262.\n",
      "------------------------\n",
      "Columna: description\n",
      "------------------------\n",
      "sup_total_search\n",
      "Nuevos: 1605.\n",
      "Total: 56867.\n",
      "sup_total_search2\n",
      "Nuevos: 8889.\n",
      "Total: 65756.\n"
     ]
    }
   ],
   "source": [
    "sup_tot_func_lst = [sup_total_search,sup_total_search2]\n",
    "col_lst = ['title','description']\n",
    "for col in col_lst:\n",
    "    print(\"------------------------\")\n",
    "    print(\"Columna: {}\".format(col))\n",
    "    print(\"------------------------\")\n",
    "    for func in sup_tot_func_lst:\n",
    "        clean_temp_col(data,'temp_sup_tot')\n",
    "        data.loc[data['clean_sup_tot'].isna(),'temp_sup_tot'] = data[data['clean_sup_tot'].isna()][col].apply(func)\n",
    "        data.loc[data['clean_sup_tot'].isna(),'clean_sup_tot'] = data['clean_sup_tot'].add(data['temp_sup_tot'],fill_value=0)\n",
    "        print(func.__name__)\n",
    "        new_found(data,'temp_sup_tot','clean_sup_tot')"
   ]
  },
  {
   "cell_type": "markdown",
   "metadata": {},
   "source": [
    "Filtrar los nuevos valores con los outliers de antes."
   ]
  },
  {
   "cell_type": "code",
   "execution_count": 120,
   "metadata": {
    "scrolled": true
   },
   "outputs": [],
   "source": [
    "sup_tot_limits = [sup_tot_limits_apt,sup_tot_limits_hs,sup_tot_limits_ph,sup_tot_limits_str]\n",
    "sup_cub_limits = [sup_cub_limits_apt,sup_cub_limits_hs,sup_cub_limits_ph,sup_cub_limits_str]\n",
    "property_type = ('apartment','house','PH','store')"
   ]
  },
  {
   "cell_type": "code",
   "execution_count": 121,
   "metadata": {},
   "outputs": [
    {
     "name": "stdout",
     "output_type": "stream",
     "text": [
      "apartment [(10, 64.5), (10, 89.0), (10, 154.0), (10, 252.0), (10, 410.0), (10, 531.75), (10, 537.5)] [(10, 55.0), (10, 75.0), (10, 124.0), (10, 210.0), (10, 361.25), (10, 502.625), (10, 477.5)]\n",
      "house [(10, 945.0), (10, 900.0), (10, 827.5), (10, 880.0), (10, 1126.5), (10, 1365.0), (10, 1561.0)] [(10, 462.5), (10, 465.0), (10, 400.0), (10, 428.5), (10, 521.875), (10, 612.875), (10, 683.75)]\n",
      "PH [(10, 224.0), (10, 109.5), (10, 198.0), (10, 294.375), (10, 372.75)] [(10, 147.125), (10, 90.0), (10, 138.0), (10, 197.5), (10, 257.5)]\n",
      "store [(10, 67.5), (10, 295.0), (10, 3128.375), (10, 356.0)] [(10, 65.0), (10, 177.25), (10, 424.25), (10, 198.125)]\n"
     ]
    }
   ],
   "source": [
    "for tipo,limites_tot,limites_cub in zip(property_type,sup_tot_limits,sup_cub_limits):\n",
    "    print(tipo,limites_tot,limites_cub)"
   ]
  },
  {
   "cell_type": "code",
   "execution_count": 122,
   "metadata": {},
   "outputs": [],
   "source": [
    "data['surface_total_in_m2'] = data['clean_sup_tot']\n",
    "data['surface_covered_in_m2'] = data['clean_sup_cub']\n",
    "\n",
    "data.drop(['clean_sup_tot','temp_sup_tot','clean_sup_cub','temp_sup_cub'],axis=1,inplace=True)"
   ]
  },
  {
   "cell_type": "code",
   "execution_count": 123,
   "metadata": {},
   "outputs": [],
   "source": [
    "for tipo,limites_tot,limites_cub in zip(property_type,sup_tot_limits,sup_cub_limits):\n",
    "    for i in range(len(limites_tot)):       \n",
    "        data.loc[(data['property_type']==str(tipo))&(data['surface_total_in_m2']>limites_tot[i][1]),'surface_total_in_m2']=np.nan\n",
    "        data.loc[(data['property_type']==str(tipo))&(data['surface_covered_in_m2']>limites_cub[i][1]),'surface_covered_in_m2']=np.nan\n",
    "        data.loc[(data['property_type']==str(tipo))&(data['surface_total_in_m2']<limites_tot[i][0]),'surface_total_in_m2']=np.nan\n",
    "        data.loc[(data['property_type']==str(tipo))&(data['surface_covered_in_m2']<limites_cub[i][0]),'surface_covered_in_m2']=np.nan"
   ]
  },
  {
   "cell_type": "code",
   "execution_count": 124,
   "metadata": {},
   "outputs": [],
   "source": [
    "#data.to_csv('../Data/falta_sup_price.csv')"
   ]
  },
  {
   "cell_type": "markdown",
   "metadata": {},
   "source": [
    "## Imputación de superficies\n",
    "\n",
    "Se calcula el índice de construcción por zona y por tipo de propiedad.\n",
    "\n",
    "El índice se define como:\n",
    "\n",
    "<center>$Indice\\ de\\ Construcción = \\frac{Superficie Cubierta}{Superficie Total}$</center>\n",
    "\n",
    "Luego, se calcula los valores faltantes de Superficie Cubierta multiplicando al índice por la Superficie Total.\n",
    "Y, la Superficie Total como la Superficie Cubierta dividido el Indice"
   ]
  },
  {
   "cell_type": "code",
   "execution_count": 125,
   "metadata": {},
   "outputs": [],
   "source": [
    "data['construction_index']=data['surface_covered_in_m2']/data['surface_total_in_m2']\n",
    "place_const_index = data[['property_type','place_name','construction_index']].groupby(['place_name','property_type']).mean()\n",
    "data.drop('construction_index',axis=1,inplace=True)\n",
    "\n",
    "data = pd.merge(data,place_const_index,on=['place_name','property_type'],how='inner')\n",
    "\n",
    "falta_sup_cub_index = data.loc[data['construction_index'].notnull()&(data['surface_covered_in_m2'].isna())&(data['surface_total_in_m2'].notnull()),['surface_covered_in_m2','surface_total_in_m2','construction_index']].index\n",
    "data.loc[falta_sup_cub_index,'surface_covered_in_m2'] = data.loc[falta_sup_cub_index,'construction_index']*data.loc[falta_sup_cub_index,'surface_total_in_m2']\n",
    "\n",
    "falta_sup_tot_index = data.loc[data['construction_index'].notnull()&(data['surface_covered_in_m2'].notnull())&(data['surface_total_in_m2'].isna()),['surface_covered_in_m2','surface_total_in_m2','construction_index']].index\n",
    "data.loc[falta_sup_tot_index,'surface_total_in_m2'] = data.loc[falta_sup_tot_index,'surface_covered_in_m2']/data.loc[falta_sup_tot_index,'construction_index']"
   ]
  },
  {
   "cell_type": "code",
   "execution_count": 126,
   "metadata": {
    "scrolled": true
   },
   "outputs": [
    {
     "data": {
      "text/plain": [
       "operation                          0\n",
       "property_type                      0\n",
       "place_name                         0\n",
       "place_with_parent_names            0\n",
       "country_name                       0\n",
       "state_name                         0\n",
       "geonames_id                    18545\n",
       "lat-lon                        50954\n",
       "lat                            50954\n",
       "lon                            50954\n",
       "price                          20281\n",
       "currency                       20282\n",
       "price_aprox_local_currency     20281\n",
       "price_aprox_usd                20282\n",
       "surface_total_in_m2            43054\n",
       "surface_covered_in_m2          42826\n",
       "price_usd_per_m2               52472\n",
       "price_per_m2                   33432\n",
       "floor                            804\n",
       "rooms                          17376\n",
       "expenses                      105910\n",
       "properati_url                      0\n",
       "description                        0\n",
       "title                              0\n",
       "image_thumbnail                 3087\n",
       "cochera                            0\n",
       "gimnasio                           0\n",
       "piscina                            0\n",
       "SUM                                0\n",
       "laundry                            0\n",
       "balcon                             0\n",
       "patio                              0\n",
       "construction_index              2160\n",
       "dtype: int64"
      ]
     },
     "execution_count": 126,
     "metadata": {},
     "output_type": "execute_result"
    }
   ],
   "source": [
    "data.isna().sum()"
   ]
  },
  {
   "cell_type": "markdown",
   "metadata": {},
   "source": [
    "# ANÁLISIS  DE LAS DIFERENTES COTIZACIONES"
   ]
  },
  {
   "cell_type": "markdown",
   "metadata": {},
   "source": [
    "En primer lugar evaluamos las diferentes monedas que existen en el dataset. "
   ]
  },
  {
   "cell_type": "code",
   "execution_count": 127,
   "metadata": {},
   "outputs": [
    {
     "data": {
      "text/plain": [
       "USD    86697\n",
       "ARS    13130\n",
       "PEN        2\n",
       "UYU        1\n",
       "Name: currency, dtype: int64"
      ]
     },
     "execution_count": 127,
     "metadata": {},
     "output_type": "execute_result"
    }
   ],
   "source": [
    "data['currency'].value_counts()"
   ]
  },
  {
   "cell_type": "markdown",
   "metadata": {},
   "source": [
    "de la inspección de la columna \"currency\", podemos ver que salvo 3 registros, toda la información está cotizada en \n",
    "Pesos Argentinos o Dólares. La decisión será chequear si esos 3 registros se tratan de errores de imputación y corregir o \n",
    "convertir los mismos a dólares para manejar una sola divisa de cambio.\n",
    "La elección se basa además en la descripción del dataset recibido ya que en \"currency\" sólo contempla la moneda ARS y DOL."
   ]
  },
  {
   "cell_type": "markdown",
   "metadata": {},
   "source": [
    "#### Chequeamos Tipos de Cambio presentes en el Dataset"
   ]
  },
  {
   "cell_type": "markdown",
   "metadata": {},
   "source": [
    "#### Valores con currency ARS"
   ]
  },
  {
   "cell_type": "code",
   "execution_count": 128,
   "metadata": {},
   "outputs": [
    {
     "data": {
      "text/plain": [
       "17.6445    13130\n",
       "dtype: int64"
      ]
     },
     "execution_count": 128,
     "metadata": {},
     "output_type": "execute_result"
    }
   ],
   "source": [
    "((data.loc[data['currency']=='ARS','price_aprox_local_currency'])/(data.loc[data['currency']=='ARS','price_aprox_usd'])).round(decimals=4).value_counts()"
   ]
  },
  {
   "cell_type": "code",
   "execution_count": 129,
   "metadata": {},
   "outputs": [
    {
     "data": {
      "text/plain": [
       "17.8305    12775\n",
       "17.1430      283\n",
       "17.6340       54\n",
       "17.7980        6\n",
       "17.2040        4\n",
       "17.5025        3\n",
       "17.4040        2\n",
       "17.4265        1\n",
       "17.4670        1\n",
       "17.4050        1\n",
       "dtype: int64"
      ]
     },
     "execution_count": 129,
     "metadata": {},
     "output_type": "execute_result"
    }
   ],
   "source": [
    "((data.loc[data['currency']=='ARS','price'])/(data.loc[data['currency']=='ARS','price_aprox_usd'])).round(decimals=4).value_counts()"
   ]
  },
  {
   "cell_type": "markdown",
   "metadata": {},
   "source": [
    "vemos que cuando el aviso es ingresado con currency==ARS están presentes en el dataset dos tipos de cambio :\n",
    "\n",
    "uno para convertir ARS a USD = TC Comprador\n",
    "Otro para convertir USD a ARS = TC Vendedor\n",
    "\n",
    "Definimos las variables"
   ]
  },
  {
   "cell_type": "code",
   "execution_count": 130,
   "metadata": {},
   "outputs": [
    {
     "data": {
      "text/plain": [
       "17.6445    13130\n",
       "dtype: int64"
      ]
     },
     "execution_count": 130,
     "metadata": {},
     "output_type": "execute_result"
    }
   ],
   "source": [
    "TC_comprador=((data.loc[data['currency']=='ARS','price_aprox_local_currency'])/(data.loc[data['currency']=='ARS','price_aprox_usd'])).round(decimals=4).value_counts()\n",
    "TC_comprador"
   ]
  },
  {
   "cell_type": "code",
   "execution_count": 131,
   "metadata": {},
   "outputs": [
    {
     "data": {
      "text/plain": [
       "17.8144372048776"
      ]
     },
     "execution_count": 131,
     "metadata": {},
     "output_type": "execute_result"
    }
   ],
   "source": [
    "TC_vendedor=((data.loc[data['currency']=='ARS','price'])/(data.loc[data['currency']=='ARS','price_aprox_usd'])).round(decimals=4).mean()\n",
    "TC_vendedor"
   ]
  },
  {
   "cell_type": "markdown",
   "metadata": {},
   "source": [
    "#### Valores con currency USD"
   ]
  },
  {
   "cell_type": "code",
   "execution_count": 132,
   "metadata": {},
   "outputs": [
    {
     "data": {
      "text/plain": [
       "True    86697\n",
       "dtype: int64"
      ]
     },
     "execution_count": 132,
     "metadata": {},
     "output_type": "execute_result"
    }
   ],
   "source": [
    "((data.loc[data['currency']=='USD','price'])==(data.loc[data['currency']=='USD','price_aprox_usd'])).value_counts()\n"
   ]
  },
  {
   "cell_type": "code",
   "execution_count": 133,
   "metadata": {},
   "outputs": [
    {
     "data": {
      "text/plain": [
       "17.6445    86697\n",
       "dtype: int64"
      ]
     },
     "execution_count": 133,
     "metadata": {},
     "output_type": "execute_result"
    }
   ],
   "source": [
    "((data.loc[data['currency']=='USD','price_aprox_local_currency'])/(data.loc[data['currency']=='USD','price_aprox_usd'])).round(decimals=4).value_counts()"
   ]
  },
  {
   "cell_type": "markdown",
   "metadata": {},
   "source": [
    "Para los valores ingresados en dólares 'price' coincide con 'price_aprox_usd'\n",
    "El tipo de cambio entre 'price_aprox_local_currency' (moneda local, ARS) y el dolar es el ya visto como \"TC_comprador\""
   ]
  },
  {
   "cell_type": "markdown",
   "metadata": {},
   "source": [
    "Hacemos ahora un filtro del registro ingresado con moneda uruguaya (UYU), calculando el tipo de cambio original (columna \"price\") y revisamos además el correspondiente a la moneda americana"
   ]
  },
  {
   "cell_type": "code",
   "execution_count": 134,
   "metadata": {},
   "outputs": [
    {
     "name": "stdout",
     "output_type": "stream",
     "text": [
      "              price  price_aprox_local_currency  price_aprox_usd  \\\n",
      "116625  650000000.0                4.054773e+08      22980378.29   \n",
      "\n",
      "              place_with_parent_names  \n",
      "116625  |Argentina|Mendoza|San Roque|  \n",
      "116625    28.285\n",
      "dtype: float64\n",
      "116625    17.6445\n",
      "dtype: float64\n"
     ]
    }
   ],
   "source": [
    "data['currency']==\"UYU\"\n",
    "data_UYU= data.loc[data['currency']==\"UYU\", [\"price\", \"price_aprox_local_currency\",\"price_aprox_usd\",\"place_with_parent_names\"]]\n",
    "data_UYU\n",
    "\n",
    "data_UYU_TC=data_UYU[\"price\"]/data_UYU['price_aprox_usd']\n",
    "data_USD_TC=data_UYU[\"price_aprox_local_currency\"]/data_UYU['price_aprox_usd']\n",
    "print(data_UYU)\n",
    "print(data_UYU_TC)\n",
    "print(data_USD_TC)"
   ]
  },
  {
   "cell_type": "markdown",
   "metadata": {},
   "source": [
    "En este caso vemos que se trata de una propiedad vendida en territorio argentino (provincia de Mendoza), que se ingresó con 3 cotizaciones diferentes. Vamos a depurar la fila, dejando los precios establecidos en ARS ya que Price no coincide con Price_aprox_usd y utiliza TC_comprador"
   ]
  },
  {
   "cell_type": "code",
   "execution_count": 135,
   "metadata": {},
   "outputs": [],
   "source": [
    "data.loc[data['currency']==\"UYU\",\"price\"]=data.loc[data['currency']==\"UYU\",\"price_aprox_usd\"]*TC_vendedor"
   ]
  },
  {
   "cell_type": "code",
   "execution_count": 136,
   "metadata": {},
   "outputs": [
    {
     "name": "stdout",
     "output_type": "stream",
     "text": [
      "               price  price_aprox_local_currency  price_aprox_usd  \\\n",
      "116625  4.093825e+08                4.054773e+08      22980378.29   \n",
      "\n",
      "              place_with_parent_names  \n",
      "116625  |Argentina|Mendoza|San Roque|  \n",
      "116625    17.814437\n",
      "dtype: float64\n",
      "116625    17.6445\n",
      "dtype: float64\n",
      "Int64Index([116625], dtype='int64')\n"
     ]
    }
   ],
   "source": [
    "data['currency']==\"UYU\"\n",
    "data_UYU= data.loc[data['currency']==\"UYU\", [\"price\", \"price_aprox_local_currency\",\"price_aprox_usd\",\"place_with_parent_names\"]]\n",
    "data_UYU\n",
    "\n",
    "data_UYU_TC=data_UYU[\"price\"]/data_UYU['price_aprox_usd']\n",
    "data_USD_TC=data_UYU[\"price_aprox_local_currency\"]/data_UYU['price_aprox_usd']\n",
    "print(data_UYU)\n",
    "print(data_UYU_TC)\n",
    "print(data_USD_TC)\n",
    "print(data_UYU.index)"
   ]
  },
  {
   "cell_type": "markdown",
   "metadata": {},
   "source": [
    "resta sólo cambiar la moneda"
   ]
  },
  {
   "cell_type": "code",
   "execution_count": 137,
   "metadata": {},
   "outputs": [],
   "source": [
    "data.loc[data['currency']=='UYU', 'currency']=\"ARS\""
   ]
  },
  {
   "cell_type": "markdown",
   "metadata": {},
   "source": [
    "chequeamos que el cambio se haya efectuado correctamente"
   ]
  },
  {
   "cell_type": "code",
   "execution_count": 138,
   "metadata": {},
   "outputs": [
    {
     "data": {
      "text/html": [
       "<div>\n",
       "<style scoped>\n",
       "    .dataframe tbody tr th:only-of-type {\n",
       "        vertical-align: middle;\n",
       "    }\n",
       "\n",
       "    .dataframe tbody tr th {\n",
       "        vertical-align: top;\n",
       "    }\n",
       "\n",
       "    .dataframe thead th {\n",
       "        text-align: right;\n",
       "    }\n",
       "</style>\n",
       "<table border=\"1\" class=\"dataframe\">\n",
       "  <thead>\n",
       "    <tr style=\"text-align: right;\">\n",
       "      <th></th>\n",
       "      <th>operation</th>\n",
       "      <th>property_type</th>\n",
       "      <th>place_name</th>\n",
       "      <th>place_with_parent_names</th>\n",
       "      <th>country_name</th>\n",
       "      <th>state_name</th>\n",
       "      <th>geonames_id</th>\n",
       "      <th>lat-lon</th>\n",
       "      <th>lat</th>\n",
       "      <th>lon</th>\n",
       "      <th>...</th>\n",
       "      <th>title</th>\n",
       "      <th>image_thumbnail</th>\n",
       "      <th>cochera</th>\n",
       "      <th>gimnasio</th>\n",
       "      <th>piscina</th>\n",
       "      <th>SUM</th>\n",
       "      <th>laundry</th>\n",
       "      <th>balcon</th>\n",
       "      <th>patio</th>\n",
       "      <th>construction_index</th>\n",
       "    </tr>\n",
       "  </thead>\n",
       "  <tbody>\n",
       "    <tr>\n",
       "      <th>116625</th>\n",
       "      <td>sell</td>\n",
       "      <td>house</td>\n",
       "      <td>San Roque</td>\n",
       "      <td>|Argentina|Mendoza|San Roque|</td>\n",
       "      <td>Argentina</td>\n",
       "      <td>Mendoza</td>\n",
       "      <td>3836586.0</td>\n",
       "      <td>NaN</td>\n",
       "      <td>NaN</td>\n",
       "      <td>NaN</td>\n",
       "      <td>...</td>\n",
       "      <td>Casa - San Vicente</td>\n",
       "      <td>https://thumbs4.properati.com/2/pA0RbuDKRK6GgV...</td>\n",
       "      <td>0.0</td>\n",
       "      <td>0.0</td>\n",
       "      <td>0.0</td>\n",
       "      <td>0.0</td>\n",
       "      <td>0.0</td>\n",
       "      <td>0.0</td>\n",
       "      <td>0.0</td>\n",
       "      <td>0.857333</td>\n",
       "    </tr>\n",
       "  </tbody>\n",
       "</table>\n",
       "<p>1 rows × 33 columns</p>\n",
       "</div>"
      ],
      "text/plain": [
       "       operation property_type place_name        place_with_parent_names  \\\n",
       "116625      sell         house  San Roque  |Argentina|Mendoza|San Roque|   \n",
       "\n",
       "       country_name state_name  geonames_id lat-lon  lat  lon  \\\n",
       "116625    Argentina    Mendoza    3836586.0     NaN  NaN  NaN   \n",
       "\n",
       "               ...                       title  \\\n",
       "116625         ...          Casa - San Vicente   \n",
       "\n",
       "                                          image_thumbnail  cochera  gimnasio  \\\n",
       "116625  https://thumbs4.properati.com/2/pA0RbuDKRK6GgV...      0.0       0.0   \n",
       "\n",
       "        piscina  SUM  laundry  balcon  patio  construction_index  \n",
       "116625      0.0  0.0      0.0     0.0    0.0            0.857333  \n",
       "\n",
       "[1 rows x 33 columns]"
      ]
     },
     "execution_count": 138,
     "metadata": {},
     "output_type": "execute_result"
    }
   ],
   "source": [
    "data.iloc[data_UYU.index,:]"
   ]
  },
  {
   "cell_type": "markdown",
   "metadata": {},
   "source": [
    "Hacemos el mismo procedimiento con las propiedades cotizadas con moneda peruana (\"PEN\")"
   ]
  },
  {
   "cell_type": "code",
   "execution_count": 139,
   "metadata": {},
   "outputs": [
    {
     "name": "stdout",
     "output_type": "stream",
     "text": [
      "          price  price_aprox_local_currency  price_aprox_usd country_name  \\\n",
      "86677  380000.0                  2066864.90        117139.33    Argentina   \n",
      "86678  950000.0                  5167162.35        292848.33    Argentina   \n",
      "\n",
      "           place_with_parent_names  \n",
      "86677  |Argentina|Capital Federal|  \n",
      "86678  |Argentina|Capital Federal|  \n",
      "86677    3.244\n",
      "86678    3.244\n",
      "dtype: float64\n",
      "86677    17.6445\n",
      "86678    17.6445\n",
      "dtype: float64\n"
     ]
    }
   ],
   "source": [
    "#data['currency']==\"PEN\"\n",
    "data_PEN=data.loc[data['currency']==\"PEN\", [\"price\", \"price_aprox_local_currency\",\"price_aprox_usd\",\"country_name\",\"place_with_parent_names\"]]\n",
    "\n",
    "data_PEN_TC=data_PEN[\"price\"]/data_PEN['price_aprox_usd']\n",
    "data_USD_TC=data_PEN[\"price_aprox_local_currency\"]/data_PEN['price_aprox_usd']\n",
    "\n",
    "print(data_PEN)\n",
    "print(data_PEN_TC)\n",
    "print(data_USD_TC)"
   ]
  },
  {
   "cell_type": "markdown",
   "metadata": {},
   "source": [
    "Al igual que en caso anterior, se tratn de propiedades vendidas en CABA, que cuentan con dos tipos de cambio diferentes. \n",
    "Se decide unificar a ARS"
   ]
  },
  {
   "cell_type": "code",
   "execution_count": 140,
   "metadata": {},
   "outputs": [],
   "source": [
    "data.loc[data['currency']==\"PEN\",\"price\"]=data.loc[data['currency']==\"PEN\",\"price_aprox_usd\"]*TC_vendedor"
   ]
  },
  {
   "cell_type": "code",
   "execution_count": 141,
   "metadata": {},
   "outputs": [
    {
     "data": {
      "text/html": [
       "<div>\n",
       "<style scoped>\n",
       "    .dataframe tbody tr th:only-of-type {\n",
       "        vertical-align: middle;\n",
       "    }\n",
       "\n",
       "    .dataframe tbody tr th {\n",
       "        vertical-align: top;\n",
       "    }\n",
       "\n",
       "    .dataframe thead th {\n",
       "        text-align: right;\n",
       "    }\n",
       "</style>\n",
       "<table border=\"1\" class=\"dataframe\">\n",
       "  <thead>\n",
       "    <tr style=\"text-align: right;\">\n",
       "      <th></th>\n",
       "      <th>operation</th>\n",
       "      <th>property_type</th>\n",
       "      <th>place_name</th>\n",
       "      <th>place_with_parent_names</th>\n",
       "      <th>country_name</th>\n",
       "      <th>state_name</th>\n",
       "      <th>geonames_id</th>\n",
       "      <th>lat-lon</th>\n",
       "      <th>lat</th>\n",
       "      <th>lon</th>\n",
       "      <th>...</th>\n",
       "      <th>title</th>\n",
       "      <th>image_thumbnail</th>\n",
       "      <th>cochera</th>\n",
       "      <th>gimnasio</th>\n",
       "      <th>piscina</th>\n",
       "      <th>SUM</th>\n",
       "      <th>laundry</th>\n",
       "      <th>balcon</th>\n",
       "      <th>patio</th>\n",
       "      <th>construction_index</th>\n",
       "    </tr>\n",
       "  </thead>\n",
       "  <tbody>\n",
       "    <tr>\n",
       "      <th>86677</th>\n",
       "      <td>sell</td>\n",
       "      <td>apartment</td>\n",
       "      <td>Capital Federal</td>\n",
       "      <td>|Argentina|Capital Federal|</td>\n",
       "      <td>Argentina</td>\n",
       "      <td>Capital Federal</td>\n",
       "      <td>3433955.0</td>\n",
       "      <td>NaN</td>\n",
       "      <td>NaN</td>\n",
       "      <td>NaN</td>\n",
       "      <td>...</td>\n",
       "      <td>DUPLEX A LA VENTA | Liniers 1200 | Tandil</td>\n",
       "      <td>https://thumbs4.properati.com/9/N_Qr_5X_vOq--b...</td>\n",
       "      <td>0.0</td>\n",
       "      <td>0.0</td>\n",
       "      <td>0.0</td>\n",
       "      <td>0.0</td>\n",
       "      <td>0.0</td>\n",
       "      <td>0.0</td>\n",
       "      <td>1.0</td>\n",
       "      <td>0.905939</td>\n",
       "    </tr>\n",
       "    <tr>\n",
       "      <th>86678</th>\n",
       "      <td>sell</td>\n",
       "      <td>apartment</td>\n",
       "      <td>Capital Federal</td>\n",
       "      <td>|Argentina|Capital Federal|</td>\n",
       "      <td>Argentina</td>\n",
       "      <td>Capital Federal</td>\n",
       "      <td>3433955.0</td>\n",
       "      <td>NaN</td>\n",
       "      <td>NaN</td>\n",
       "      <td>NaN</td>\n",
       "      <td>...</td>\n",
       "      <td>DUPLEX A LA VENTA | Liniers 1200 | Tandil</td>\n",
       "      <td>https://thumbs4.properati.com/8/_cBXAyr_9pDySg...</td>\n",
       "      <td>0.0</td>\n",
       "      <td>0.0</td>\n",
       "      <td>0.0</td>\n",
       "      <td>0.0</td>\n",
       "      <td>0.0</td>\n",
       "      <td>0.0</td>\n",
       "      <td>0.0</td>\n",
       "      <td>0.905939</td>\n",
       "    </tr>\n",
       "  </tbody>\n",
       "</table>\n",
       "<p>2 rows × 33 columns</p>\n",
       "</div>"
      ],
      "text/plain": [
       "      operation property_type       place_name      place_with_parent_names  \\\n",
       "86677      sell     apartment  Capital Federal  |Argentina|Capital Federal|   \n",
       "86678      sell     apartment  Capital Federal  |Argentina|Capital Federal|   \n",
       "\n",
       "      country_name       state_name  geonames_id lat-lon  lat  lon  \\\n",
       "86677    Argentina  Capital Federal    3433955.0     NaN  NaN  NaN   \n",
       "86678    Argentina  Capital Federal    3433955.0     NaN  NaN  NaN   \n",
       "\n",
       "              ...                                              title  \\\n",
       "86677         ...          DUPLEX A LA VENTA | Liniers 1200 | Tandil   \n",
       "86678         ...          DUPLEX A LA VENTA | Liniers 1200 | Tandil   \n",
       "\n",
       "                                         image_thumbnail  cochera  gimnasio  \\\n",
       "86677  https://thumbs4.properati.com/9/N_Qr_5X_vOq--b...      0.0       0.0   \n",
       "86678  https://thumbs4.properati.com/8/_cBXAyr_9pDySg...      0.0       0.0   \n",
       "\n",
       "       piscina  SUM  laundry  balcon  patio  construction_index  \n",
       "86677      0.0  0.0      0.0     0.0    1.0            0.905939  \n",
       "86678      0.0  0.0      0.0     0.0    0.0            0.905939  \n",
       "\n",
       "[2 rows x 33 columns]"
      ]
     },
     "execution_count": 141,
     "metadata": {},
     "output_type": "execute_result"
    }
   ],
   "source": [
    "data.iloc[data_PEN.index,:]"
   ]
  },
  {
   "cell_type": "code",
   "execution_count": 142,
   "metadata": {},
   "outputs": [],
   "source": [
    "data.loc[data['currency']=='PEN', 'currency']=\"ARS\""
   ]
  },
  {
   "cell_type": "markdown",
   "metadata": {},
   "source": [
    "Verificamos que se hayan aplicado corréctamente los cambios"
   ]
  },
  {
   "cell_type": "code",
   "execution_count": 143,
   "metadata": {},
   "outputs": [
    {
     "data": {
      "text/html": [
       "<div>\n",
       "<style scoped>\n",
       "    .dataframe tbody tr th:only-of-type {\n",
       "        vertical-align: middle;\n",
       "    }\n",
       "\n",
       "    .dataframe tbody tr th {\n",
       "        vertical-align: top;\n",
       "    }\n",
       "\n",
       "    .dataframe thead th {\n",
       "        text-align: right;\n",
       "    }\n",
       "</style>\n",
       "<table border=\"1\" class=\"dataframe\">\n",
       "  <thead>\n",
       "    <tr style=\"text-align: right;\">\n",
       "      <th></th>\n",
       "      <th>price</th>\n",
       "      <th>currency</th>\n",
       "      <th>price_aprox_local_currency</th>\n",
       "      <th>price_aprox_usd</th>\n",
       "      <th>country_name</th>\n",
       "      <th>place_with_parent_names</th>\n",
       "    </tr>\n",
       "  </thead>\n",
       "  <tbody>\n",
       "    <tr>\n",
       "      <th>86677</th>\n",
       "      <td>2.086771e+06</td>\n",
       "      <td>ARS</td>\n",
       "      <td>2066864.90</td>\n",
       "      <td>117139.33</td>\n",
       "      <td>Argentina</td>\n",
       "      <td>|Argentina|Capital Federal|</td>\n",
       "    </tr>\n",
       "    <tr>\n",
       "      <th>86678</th>\n",
       "      <td>5.216928e+06</td>\n",
       "      <td>ARS</td>\n",
       "      <td>5167162.35</td>\n",
       "      <td>292848.33</td>\n",
       "      <td>Argentina</td>\n",
       "      <td>|Argentina|Capital Federal|</td>\n",
       "    </tr>\n",
       "  </tbody>\n",
       "</table>\n",
       "</div>"
      ],
      "text/plain": [
       "              price currency  price_aprox_local_currency  price_aprox_usd  \\\n",
       "86677  2.086771e+06      ARS                  2066864.90        117139.33   \n",
       "86678  5.216928e+06      ARS                  5167162.35        292848.33   \n",
       "\n",
       "      country_name      place_with_parent_names  \n",
       "86677    Argentina  |Argentina|Capital Federal|  \n",
       "86678    Argentina  |Argentina|Capital Federal|  "
      ]
     },
     "execution_count": 143,
     "metadata": {},
     "output_type": "execute_result"
    }
   ],
   "source": [
    "data.iloc[data_PEN.index,:][['price', \"currency\", \"price_aprox_local_currency\",\"price_aprox_usd\",\"country_name\",\"place_with_parent_names\"]]"
   ]
  },
  {
   "cell_type": "markdown",
   "metadata": {},
   "source": [
    "## Filtrado y limpieza de OUTLIERS en las Columnas de Precios"
   ]
  },
  {
   "cell_type": "markdown",
   "metadata": {},
   "source": [
    "## Columna \"price_per_m2\""
   ]
  },
  {
   "cell_type": "code",
   "execution_count": 144,
   "metadata": {},
   "outputs": [
    {
     "data": {
      "text/plain": [
       "count    1.034000e+04\n",
       "mean     3.350736e+04\n",
       "std      5.582537e+04\n",
       "min      5.714286e+01\n",
       "25%      2.124053e+04\n",
       "50%      3.027623e+04\n",
       "75%      3.924729e+04\n",
       "max      4.000000e+06\n",
       "Name: price_per_m2, dtype: float64"
      ]
     },
     "execution_count": 144,
     "metadata": {},
     "output_type": "execute_result"
    }
   ],
   "source": [
    "data.loc[(data['currency']=='ARS')&(data['price_per_m2'].notnull()),'price_per_m2'].describe()"
   ]
  },
  {
   "cell_type": "code",
   "execution_count": 145,
   "metadata": {},
   "outputs": [
    {
     "name": "stdout",
     "output_type": "stream",
     "text": [
      "La mediana de precios por m2 en pesos es: 30276.23 (registros con currency ARS)\n",
      "La media de de precios por m2 en pesos es: 33507.36 (registros con currency ARS)\n",
      "El desvio de precios por m2 en pesos es : 55825.37 (registros con currency ARS)\n"
     ]
    }
   ],
   "source": [
    "price_m2_ARS=data.loc[(data['currency']=='ARS')&(data['price_per_m2'].notnull()),'price_per_m2']\n",
    "\n",
    "print ('La mediana de precios por m2 en pesos es: {0:.2f}'.format(price_m2_ARS.median()),'(registros con currency ARS)')\n",
    "print ('La media de de precios por m2 en pesos es: {0:.2f}'.format(price_m2_ARS.mean()),'(registros con currency ARS)')\n",
    "print ('El desvio de precios por m2 en pesos es : {0:.2f}'.format(price_m2_ARS.std()),'(registros con currency ARS)')\n"
   ]
  },
  {
   "cell_type": "code",
   "execution_count": 146,
   "metadata": {},
   "outputs": [
    {
     "data": {
      "text/plain": [
       "count    7.634000e+04\n",
       "mean     3.353757e+03\n",
       "std      1.983121e+04\n",
       "min      3.208556e+00\n",
       "25%      1.477935e+03\n",
       "50%      2.052632e+03\n",
       "75%      2.842577e+03\n",
       "max      2.600000e+06\n",
       "Name: price_per_m2, dtype: float64"
      ]
     },
     "execution_count": 146,
     "metadata": {},
     "output_type": "execute_result"
    }
   ],
   "source": [
    "data.loc[(data['currency']=='USD')&(data['price_per_m2'].notnull()),'price_per_m2'].describe()"
   ]
  },
  {
   "cell_type": "code",
   "execution_count": 147,
   "metadata": {},
   "outputs": [
    {
     "name": "stdout",
     "output_type": "stream",
     "text": [
      "La mediana de precios por m2 en dólares es: 30276.23 (registros con currency USD)\n",
      "La media de de precios por m2 en dólares es: 33507.36 (registros con currency USD)\n",
      "El desvio de precios por m2 en dólares es: 55825.37 (registros con currency USD)\n"
     ]
    }
   ],
   "source": [
    "price_per_m2_USD=data.loc[(data['currency']=='USD')&(data['price_per_m2'].notnull()),'price_per_m2']\n",
    "\n",
    "print ('La mediana de precios por m2 en dólares es: {0:.2f}'.format(price_m2_ARS.median()),'(registros con currency USD)')\n",
    "print ('La media de de precios por m2 en dólares es: {0:.2f}'.format(price_m2_ARS.mean()),'(registros con currency USD)')\n",
    "print ('El desvio de precios por m2 en dólares es: {0:.2f}'.format(price_m2_ARS.std()),'(registros con currency USD)')"
   ]
  },
  {
   "cell_type": "markdown",
   "metadata": {},
   "source": [
    "## Estado Inicial de Outliers"
   ]
  },
  {
   "cell_type": "code",
   "execution_count": 148,
   "metadata": {},
   "outputs": [
    {
     "data": {
      "image/png": "[encoded data removed]",
      "text/plain": [
       "<Figure size 576x576 with 1 Axes>"
      ]
     },
     "metadata": {
      "needs_background": "light"
     },
     "output_type": "display_data"
    }
   ],
   "source": [
    "plt.figure(figsize=(8,8))\n",
    "plt.grid(True)  \n",
    "\n",
    "\n",
    "ax = sns.boxplot(x=\"currency\", y=\"price_per_m2\", data=data, palette=\"Set1\")\n",
    "plt.title('price_per_m2 / Outliers Estado Inicial')\n",
    "plt.xlabel('Currency')\n",
    "plt.ylabel('Precio por M2');\n",
    "plt.savefig('../Images/Price_m2_before.png')"
   ]
  },
  {
   "cell_type": "markdown",
   "metadata": {},
   "source": [
    "## Cálculo de outliers  con currency=ARS"
   ]
  },
  {
   "cell_type": "code",
   "execution_count": 149,
   "metadata": {},
   "outputs": [
    {
     "name": "stdout",
     "output_type": "stream",
     "text": [
      "[31016.94915254 32666.66666667 32711.86440678 ...  4666.66666667\n",
      "  2444.44444444  8965.51724138]\n",
      "(-5769.608865110535, 66257.42891659836)\n"
     ]
    }
   ],
   "source": [
    "min_price_ARS_per_m2 = 1800\n",
    "iqr_values_ARS=calculate_iqr_values(data.loc[(data['price_per_m2'].notnull())&(data['currency']=='ARS'),'price_per_m2'])\n",
    "print(data.loc[(data['currency']=='ARS')&(data['price_per_m2'].notnull()),'price_per_m2'].apply(check_outliers,args=iqr_values_ARS).unique())\n",
    "print(iqr_values_ARS)\n",
    "data.loc[(data['currency']=='ARS')&((data['price_per_m2']>iqr_values_ARS[1])|(data['price_per_m2']<min_price_ARS_per_m2)),'price_per_m2']=np.nan"
   ]
  },
  {
   "cell_type": "markdown",
   "metadata": {},
   "source": [
    "## Cálculo de outliers  con currency=USD"
   ]
  },
  {
   "cell_type": "code",
   "execution_count": 150,
   "metadata": {},
   "outputs": [
    {
     "name": "stdout",
     "output_type": "stream",
     "text": [
      "[1550.         2438.7755102  1892.85714286 ...  528.45528455 2016.28571429\n",
      " 2018.19047619]\n",
      "(-569.0284855002349, 4889.540837119539)\n"
     ]
    }
   ],
   "source": [
    "min_price_USD_per_m2 = 100\n",
    "iqr_values_USD=calculate_iqr_values(data.loc[(data['price_per_m2'].notnull())&(data['currency']=='USD'),'price_per_m2'])\n",
    "print(data.loc[(data['currency']=='USD')&(data['price_per_m2'].notnull()),'price_per_m2'].apply(check_outliers,args=iqr_values_USD).unique())\n",
    "print(iqr_values_USD)\n",
    "data.loc[(data['currency']=='USD')&((data['price_per_m2']>iqr_values_ARS[1])|(data['price_per_m2']<min_price_USD_per_m2)),'price_per_m2']=np.nan"
   ]
  },
  {
   "cell_type": "markdown",
   "metadata": {},
   "source": [
    "## Revisamos La Distribución Corregida de Valores"
   ]
  },
  {
   "cell_type": "code",
   "execution_count": 151,
   "metadata": {},
   "outputs": [
    {
     "data": {
      "image/png": "[encoded data removed]",
      "text/plain": [
       "<Figure size 576x576 with 1 Axes>"
      ]
     },
     "metadata": {
      "needs_background": "light"
     },
     "output_type": "display_data"
    }
   ],
   "source": [
    "plt.figure(figsize=(8,8))\n",
    "plt.grid(True)  \n",
    "ax = sns.boxplot(x=\"currency\", y=\"price_per_m2\", data=data, palette=\"Set1\")\n",
    "plt.title('price_per_m2 Distribución ')\n",
    "plt.xlabel('Currency USD')\n",
    "plt.ylabel('Precio por M2');\n",
    "plt.savefig('../Images/Price_m2_after.png')"
   ]
  },
  {
   "cell_type": "markdown",
   "metadata": {},
   "source": [
    "### Verificar Outliers para Columna \"price_usd_per_m2\""
   ]
  },
  {
   "cell_type": "code",
   "execution_count": 152,
   "metadata": {},
   "outputs": [
    {
     "data": {
      "image/png": "[encoded data removed]",
      "text/plain": [
       "<Figure size 1080x432 with 1 Axes>"
      ]
     },
     "metadata": {
      "needs_background": "light"
     },
     "output_type": "display_data"
    },
    {
     "data": {
      "text/plain": [
       "<Figure size 432x288 with 0 Axes>"
      ]
     },
     "metadata": {},
     "output_type": "display_data"
    }
   ],
   "source": [
    "plt.figure(figsize=(15,6))\n",
    "\n",
    "plt.grid(True)  \n",
    "ax=sns.boxplot(x='price_usd_per_m2', data=data, orient='h', palette=\"Set1\") \n",
    "plt.title('Distribución de Precios por m2 en USD')\n",
    "plt.xlabel('Valores')\n",
    "plt.ylabel('Precio por Metro2')\n",
    "plt.show()\n",
    "plt.savefig(\"../Images/Price_USD_m2-before.png\")\n"
   ]
  },
  {
   "cell_type": "code",
   "execution_count": 153,
   "metadata": {},
   "outputs": [
    {
     "data": {
      "text/plain": [
       "(-683.5679090566625, 4378.311930593971)"
      ]
     },
     "execution_count": 153,
     "metadata": {},
     "output_type": "execute_result"
    }
   ],
   "source": [
    "calculate_iqr_values(data.loc[data['price_usd_per_m2'].notnull(), \"price_usd_per_m2\"])"
   ]
  },
  {
   "cell_type": "code",
   "execution_count": 154,
   "metadata": {},
   "outputs": [],
   "source": [
    "min_price2_USD_per_m2 = 150\n",
    "iqr_values_price_USD=calculate_iqr_values(data.loc[data['price_usd_per_m2'].notnull(), \"price_usd_per_m2\"])\n",
    "data.loc[(data['price_usd_per_m2']>iqr_values_price_USD[1])|(data['price_usd_per_m2']<min_price2_USD_per_m2),'price_usd_per_m2']=np.nan"
   ]
  },
  {
   "cell_type": "code",
   "execution_count": 155,
   "metadata": {},
   "outputs": [
    {
     "data": {
      "image/png": "[encoded data removed]",
      "text/plain": [
       "<Figure size 1080x432 with 1 Axes>"
      ]
     },
     "metadata": {
      "needs_background": "light"
     },
     "output_type": "display_data"
    },
    {
     "data": {
      "text/plain": [
       "<Figure size 432x288 with 0 Axes>"
      ]
     },
     "metadata": {},
     "output_type": "display_data"
    }
   ],
   "source": [
    "plt.figure(figsize=(15,6))\n",
    "\n",
    "plt.grid(True)  \n",
    "ax=sns.boxplot(x='price_usd_per_m2', data=data, orient='h', palette=\"Set1\") \n",
    "plt.title('Distribución de Precios por m2 en USD')\n",
    "plt.xlabel('Valores')\n",
    "plt.ylabel('Precio por Metro2')\n",
    "plt.show()\n",
    "\n",
    "plt.savefig(\"../Images/Price_USD_m2-after.png\")"
   ]
  },
  {
   "cell_type": "markdown",
   "metadata": {},
   "source": [
    "##  Usamos regex para buscar los precios faltantes en las columnas \"description\" y \"title\""
   ]
  },
  {
   "cell_type": "code",
   "execution_count": 156,
   "metadata": {},
   "outputs": [],
   "source": [
    "def price_search(text):\n",
    "    pattern = r'(?:USD|U\\$D|DOLL|DOL.|U\\$S|dolares|dólares|precio|precio total)\\s?(\\d+,?\\.?\\d*,?\\.?\\d*)'\n",
    "    regex = re.compile(pattern, flags = re.IGNORECASE)\n",
    "    price_lst = regex.findall(text)\n",
    "    price_lst = [float(item.replace(',','').replace('.','')) for item in price_lst]\n",
    "    if not price_lst:\n",
    "        return np.nan\n",
    "    if len(price_lst)>1:\n",
    "        if max(price_lst)>35000:\n",
    "            return max(price_lst)\n",
    "        else:\n",
    "            return np.nan\n",
    "    if price_lst[0]>35000:\n",
    "        return price_lst[0]\n",
    "    else:\n",
    "        return np.nan"
   ]
  },
  {
   "cell_type": "code",
   "execution_count": 157,
   "metadata": {},
   "outputs": [
    {
     "data": {
      "text/plain": [
       "410"
      ]
     },
     "execution_count": 157,
     "metadata": {},
     "output_type": "execute_result"
    }
   ],
   "source": [
    "data.loc[data['price_aprox_usd'].isna(),'description'].apply(price_search).notnull().sum()"
   ]
  },
  {
   "cell_type": "code",
   "execution_count": 158,
   "metadata": {},
   "outputs": [
    {
     "data": {
      "text/plain": [
       "2369"
      ]
     },
     "execution_count": 158,
     "metadata": {},
     "output_type": "execute_result"
    }
   ],
   "source": [
    "data.loc[data['price_aprox_usd'].isna(),'title'].apply(price_search).notnull().sum()"
   ]
  },
  {
   "cell_type": "code",
   "execution_count": 159,
   "metadata": {},
   "outputs": [],
   "source": [
    "def price_search2(text):\n",
    "    pattern = r'(\\d+,?\\.?\\d*,?\\.?\\d*)\\s?(?:USD|U\\$D|DOLL|DOL.|U\\$S|dolares|dólares)+'\n",
    "    regex = re.compile(pattern, flags = re.IGNORECASE)\n",
    "    price_lst = regex.findall(text)\n",
    "    price_lst = [float(item.replace(',','').replace('.','')) for item in price_lst]\n",
    "    \n",
    "    if not price_lst:\n",
    "        return np.nan\n",
    "    if len(price_lst)>1:\n",
    "        if max(price_lst)>35000:\n",
    "            return max(price_lst)\n",
    "        else:\n",
    "            return np.nan\n",
    "    if price_lst[0]>35000:\n",
    "        return price_lst[0]\n",
    "    else:\n",
    "        return np.nan"
   ]
  },
  {
   "cell_type": "markdown",
   "metadata": {},
   "source": [
    "Aplicamos las dos funciones a las dos columnas "
   ]
  },
  {
   "cell_type": "code",
   "execution_count": 160,
   "metadata": {},
   "outputs": [
    {
     "data": {
      "text/plain": [
       "price                         20281\n",
       "currency                      20282\n",
       "price_aprox_local_currency    20281\n",
       "price_aprox_usd               20282\n",
       "surface_total_in_m2           43054\n",
       "surface_covered_in_m2         42826\n",
       "price_usd_per_m2              56075\n",
       "price_per_m2                  34221\n",
       "dtype: int64"
      ]
     },
     "execution_count": 160,
     "metadata": {},
     "output_type": "execute_result"
    }
   ],
   "source": [
    "data.iloc[:,10:18].isnull().sum()"
   ]
  },
  {
   "cell_type": "code",
   "execution_count": 161,
   "metadata": {},
   "outputs": [],
   "source": [
    "data[\"price_aprox_usd\"].fillna(value=data.loc[data['price_aprox_usd'].isna(),'title'].apply(price_search), inplace=True)\n",
    "data[\"price_aprox_usd\"].fillna(value=data.loc[data['price_aprox_usd'].isna(),'title'].apply(price_search2), inplace=True)\n",
    "data[\"price_aprox_usd\"].fillna(value=data.loc[data['price_aprox_usd'].isna(),'description'].apply(price_search), inplace=True)\n",
    "data[\"price_aprox_usd\"].fillna(value=data.loc[data['price_aprox_usd'].isna(),'description'].apply(price_search2), inplace=True)"
   ]
  },
  {
   "cell_type": "code",
   "execution_count": 162,
   "metadata": {},
   "outputs": [
    {
     "data": {
      "text/plain": [
       "price                         20281\n",
       "currency                      20282\n",
       "price_aprox_local_currency    20281\n",
       "price_aprox_usd               17722\n",
       "surface_total_in_m2           43054\n",
       "surface_covered_in_m2         42826\n",
       "price_usd_per_m2              56075\n",
       "price_per_m2                  34221\n",
       "dtype: int64"
      ]
     },
     "execution_count": 162,
     "metadata": {},
     "output_type": "execute_result"
    }
   ],
   "source": [
    "data.iloc[:,10:18].isnull().sum()"
   ]
  },
  {
   "cell_type": "code",
   "execution_count": 163,
   "metadata": {
    "scrolled": true
   },
   "outputs": [
    {
     "data": {
      "text/html": [
       "<div>\n",
       "<style scoped>\n",
       "    .dataframe tbody tr th:only-of-type {\n",
       "        vertical-align: middle;\n",
       "    }\n",
       "\n",
       "    .dataframe tbody tr th {\n",
       "        vertical-align: top;\n",
       "    }\n",
       "\n",
       "    .dataframe thead th {\n",
       "        text-align: right;\n",
       "    }\n",
       "</style>\n",
       "<table border=\"1\" class=\"dataframe\">\n",
       "  <thead>\n",
       "    <tr style=\"text-align: right;\">\n",
       "      <th></th>\n",
       "      <th>price</th>\n",
       "      <th>price_aprox_usd</th>\n",
       "      <th>price_aprox_local_currency</th>\n",
       "      <th>currency</th>\n",
       "    </tr>\n",
       "  </thead>\n",
       "  <tbody>\n",
       "    <tr>\n",
       "      <th>5841</th>\n",
       "      <td>0.0</td>\n",
       "      <td>NaN</td>\n",
       "      <td>0.0</td>\n",
       "      <td>NaN</td>\n",
       "    </tr>\n",
       "  </tbody>\n",
       "</table>\n",
       "</div>"
      ],
      "text/plain": [
       "      price  price_aprox_usd  price_aprox_local_currency currency\n",
       "5841    0.0              NaN                         0.0      NaN"
      ]
     },
     "execution_count": 163,
     "metadata": {},
     "output_type": "execute_result"
    }
   ],
   "source": [
    "#REVISAR SI ESTA FILA DESAPARECE ANTES\n",
    "\n",
    "(data.loc[(data['price_aprox_local_currency'].notnull())&(data['currency'].isna())&(data['price'].notnull()),['price','price_aprox_usd','price_aprox_local_currency','currency']])"
   ]
  },
  {
   "cell_type": "markdown",
   "metadata": {},
   "source": [
    "## Completando los valores expresados en pesos"
   ]
  },
  {
   "cell_type": "code",
   "execution_count": 164,
   "metadata": {},
   "outputs": [],
   "source": [
    "def price_search_pesos(text):\n",
    "    pattern =  r'(?:\\$)\\s?(\\d+,?\\.?\\d*,?\\.?\\d*)'\n",
    "    regex = re.compile(pattern, flags = re.IGNORECASE)\n",
    "    price_lst = regex.findall(text)\n",
    "    price_lst = [float(item.replace(',','').replace('.','')) for item in price_lst]\n",
    "    if not price_lst:\n",
    "        return np.nan\n",
    "    if len(price_lst)>1:\n",
    "        if max(price_lst)>20000:\n",
    "            return max(price_lst)\n",
    "        else:\n",
    "            return np.nan\n",
    "  \n",
    "    if len(price_lst)==1:\n",
    "        if price_lst[0]>35000:\n",
    "            return price_lst[0]\n",
    "    \n",
    "        else:\n",
    "            return np.nan\n"
   ]
  },
  {
   "cell_type": "code",
   "execution_count": 165,
   "metadata": {},
   "outputs": [
    {
     "data": {
      "text/plain": [
       "price                         20281\n",
       "currency                      20282\n",
       "price_aprox_local_currency    20281\n",
       "price_aprox_usd               17722\n",
       "surface_total_in_m2           43054\n",
       "surface_covered_in_m2         42826\n",
       "price_usd_per_m2              56075\n",
       "price_per_m2                  34221\n",
       "dtype: int64"
      ]
     },
     "execution_count": 165,
     "metadata": {},
     "output_type": "execute_result"
    }
   ],
   "source": [
    "data.iloc[:,10:18].isnull().sum()"
   ]
  },
  {
   "cell_type": "code",
   "execution_count": 166,
   "metadata": {},
   "outputs": [],
   "source": [
    "data[\"price_aprox_local_currency\"].fillna(value=data.loc[data['price_aprox_local_currency'].isna(),'title'].apply(price_search_pesos), inplace=True)\n",
    "data[\"price_aprox_local_currency\"].fillna(value=data.loc[data['price_aprox_local_currency'].isna(),'description'].apply(price_search_pesos), inplace=True)\n"
   ]
  },
  {
   "cell_type": "code",
   "execution_count": 167,
   "metadata": {
    "scrolled": true
   },
   "outputs": [
    {
     "data": {
      "text/plain": [
       "price                         20281\n",
       "currency                      20282\n",
       "price_aprox_local_currency    19867\n",
       "price_aprox_usd               17722\n",
       "surface_total_in_m2           43054\n",
       "surface_covered_in_m2         42826\n",
       "price_usd_per_m2              56075\n",
       "price_per_m2                  34221\n",
       "dtype: int64"
      ]
     },
     "execution_count": 167,
     "metadata": {},
     "output_type": "execute_result"
    }
   ],
   "source": [
    "data.iloc[:,10:18].isnull().sum()"
   ]
  },
  {
   "cell_type": "markdown",
   "metadata": {},
   "source": [
    "# CÁLCULO DE VALORES FALTANTES CORRESPONDIENTES A VARIABLES ALEATORIAS LINEALMENTE DEPENDIENTES"
   ]
  },
  {
   "cell_type": "markdown",
   "metadata": {},
   "source": [
    "En el paso anterior se vio, y se hizo una reducción de los tipos de cambio presentes en el dataset. En esa instancia se decidió\n",
    "trabajar sólo con moneda local (pesos argentinos) y dólar como única divisa.\n",
    "A continuación, vamos a analizar las variables aleatorias presentes en el dataset, en primer lugar, el peso que se le dá a los metros cubiertos y descubiertos en el precio de la propiedad\n"
   ]
  },
  {
   "cell_type": "code",
   "execution_count": 168,
   "metadata": {},
   "outputs": [
    {
     "data": {
      "text/plain": [
       "price                         20281\n",
       "currency                      20282\n",
       "price_aprox_local_currency    19867\n",
       "price_aprox_usd               17722\n",
       "surface_total_in_m2           43054\n",
       "surface_covered_in_m2         42826\n",
       "price_usd_per_m2              56075\n",
       "price_per_m2                  34221\n",
       "dtype: int64"
      ]
     },
     "execution_count": 168,
     "metadata": {},
     "output_type": "execute_result"
    }
   ],
   "source": [
    "data.iloc[:,10:18].isnull().sum()"
   ]
  },
  {
   "cell_type": "markdown",
   "metadata": {},
   "source": [
    "#### Variables Aleatorias Linealmente Dependientes"
   ]
  },
  {
   "cell_type": "markdown",
   "metadata": {},
   "source": [
    "Las siguientes columnas, están formadas por variables que son LD unas de otras. Por lo cuál, vamos a recuperar valores\n",
    "realizando operaciones algebraicas entre ellas\n",
    "\n",
    "Los datos recuperados en 'price' se calcularán directamente en dólares"
   ]
  },
  {
   "cell_type": "code",
   "execution_count": 169,
   "metadata": {},
   "outputs": [
    {
     "data": {
      "text/html": [
       "<div>\n",
       "<style scoped>\n",
       "    .dataframe tbody tr th:only-of-type {\n",
       "        vertical-align: middle;\n",
       "    }\n",
       "\n",
       "    .dataframe tbody tr th {\n",
       "        vertical-align: top;\n",
       "    }\n",
       "\n",
       "    .dataframe thead th {\n",
       "        text-align: right;\n",
       "    }\n",
       "</style>\n",
       "<table border=\"1\" class=\"dataframe\">\n",
       "  <thead>\n",
       "    <tr style=\"text-align: right;\">\n",
       "      <th></th>\n",
       "      <th>price</th>\n",
       "      <th>currency</th>\n",
       "      <th>price_aprox_local_currency</th>\n",
       "      <th>price_aprox_usd</th>\n",
       "      <th>surface_total_in_m2</th>\n",
       "      <th>price_usd_per_m2</th>\n",
       "      <th>price_per_m2</th>\n",
       "    </tr>\n",
       "  </thead>\n",
       "  <tbody>\n",
       "    <tr>\n",
       "      <th>1</th>\n",
       "      <td>239000.0</td>\n",
       "      <td>USD</td>\n",
       "      <td>4217035.5</td>\n",
       "      <td>239000.0</td>\n",
       "      <td>NaN</td>\n",
       "      <td>1707.142857</td>\n",
       "      <td>2438.775510</td>\n",
       "    </tr>\n",
       "    <tr>\n",
       "      <th>2</th>\n",
       "      <td>53000.0</td>\n",
       "      <td>USD</td>\n",
       "      <td>935158.5</td>\n",
       "      <td>53000.0</td>\n",
       "      <td>28.0</td>\n",
       "      <td>1892.857143</td>\n",
       "      <td>1892.857143</td>\n",
       "    </tr>\n",
       "    <tr>\n",
       "      <th>3</th>\n",
       "      <td>245000.0</td>\n",
       "      <td>USD</td>\n",
       "      <td>4322902.5</td>\n",
       "      <td>245000.0</td>\n",
       "      <td>NaN</td>\n",
       "      <td>751.533742</td>\n",
       "      <td>1531.250000</td>\n",
       "    </tr>\n",
       "    <tr>\n",
       "      <th>4</th>\n",
       "      <td>165000.0</td>\n",
       "      <td>USD</td>\n",
       "      <td>2911342.5</td>\n",
       "      <td>165000.0</td>\n",
       "      <td>NaN</td>\n",
       "      <td>1100.000000</td>\n",
       "      <td>1100.000000</td>\n",
       "    </tr>\n",
       "  </tbody>\n",
       "</table>\n",
       "</div>"
      ],
      "text/plain": [
       "      price currency  price_aprox_local_currency  price_aprox_usd  \\\n",
       "1  239000.0      USD                   4217035.5         239000.0   \n",
       "2   53000.0      USD                    935158.5          53000.0   \n",
       "3  245000.0      USD                   4322902.5         245000.0   \n",
       "4  165000.0      USD                   2911342.5         165000.0   \n",
       "\n",
       "   surface_total_in_m2  price_usd_per_m2  price_per_m2  \n",
       "1                  NaN       1707.142857   2438.775510  \n",
       "2                 28.0       1892.857143   1892.857143  \n",
       "3                  NaN        751.533742   1531.250000  \n",
       "4                  NaN       1100.000000   1100.000000  "
      ]
     },
     "execution_count": 169,
     "metadata": {},
     "output_type": "execute_result"
    }
   ],
   "source": [
    "data.iloc[1:5,:][['price', 'currency', 'price_aprox_local_currency','price_aprox_usd','surface_total_in_m2', 'price_usd_per_m2', \"price_per_m2\"]]"
   ]
  },
  {
   "cell_type": "markdown",
   "metadata": {},
   "source": [
    "Partimos con estos datos faltantes"
   ]
  },
  {
   "cell_type": "code",
   "execution_count": 170,
   "metadata": {
    "scrolled": true
   },
   "outputs": [
    {
     "data": {
      "text/plain": [
       "price                         20281\n",
       "currency                      20282\n",
       "price_aprox_local_currency    19867\n",
       "price_aprox_usd               17722\n",
       "surface_total_in_m2           43054\n",
       "surface_covered_in_m2         42826\n",
       "price_usd_per_m2              56075\n",
       "price_per_m2                  34221\n",
       "dtype: int64"
      ]
     },
     "execution_count": 170,
     "metadata": {},
     "output_type": "execute_result"
    }
   ],
   "source": [
    "data.iloc[:,10:18].isnull().sum()"
   ]
  },
  {
   "cell_type": "markdown",
   "metadata": {},
   "source": [
    "#### Operaciones con Tipo de Cambio"
   ]
  },
  {
   "cell_type": "markdown",
   "metadata": {},
   "source": [
    "Sabemos que price=price_aprox_usd  cuando \"currency\"==DOL\n",
    "y que con ese ingreso la relación entre \"price\" y \"price_aprox_local_currency\" es el \"TC_comprador\" ya calculado"
   ]
  },
  {
   "cell_type": "code",
   "execution_count": 171,
   "metadata": {},
   "outputs": [],
   "source": [
    "price_new=data.loc[data[\"price_aprox_usd\"].notnull(), \"price_aprox_usd\"]\n",
    "\n",
    "data[\"price\"].fillna(value=price_new, inplace=True) "
   ]
  },
  {
   "cell_type": "code",
   "execution_count": 172,
   "metadata": {},
   "outputs": [],
   "source": [
    "data[\"price_aprox_usd\"].fillna(value=data.loc[data[\"price\"].notnull(), \"price\"], inplace=True) \n"
   ]
  },
  {
   "cell_type": "code",
   "execution_count": 173,
   "metadata": {},
   "outputs": [
    {
     "data": {
      "text/plain": [
       "17.6445    13133\n",
       "dtype: int64"
      ]
     },
     "execution_count": 173,
     "metadata": {},
     "output_type": "execute_result"
    }
   ],
   "source": [
    "TC_comprador=((data.loc[data['currency']=='ARS','price_aprox_local_currency'])/(data.loc[data['currency']=='ARS','price_aprox_usd'])).round(decimals=4)\n",
    "TC_comprador.value_counts()"
   ]
  },
  {
   "cell_type": "code",
   "execution_count": 174,
   "metadata": {},
   "outputs": [],
   "source": [
    "price_aprox_local_currency_new =data[\"price\"]*17.6445\n",
    "data[\"price_aprox_local_currency\"].fillna(value=price_aprox_local_currency_new, inplace=True) \n"
   ]
  },
  {
   "cell_type": "markdown",
   "metadata": {},
   "source": [
    "#### Precios por M2"
   ]
  },
  {
   "cell_type": "code",
   "execution_count": 175,
   "metadata": {},
   "outputs": [],
   "source": [
    "price_usd_per_m2_new=data['price_aprox_usd']/data['surface_total_in_m2']\n",
    "price_per_m2_new=data['price']/data['surface_covered_in_m2']\n",
    "\n",
    "data[\"price_usd_per_m2\"].fillna(value=price_usd_per_m2_new, inplace=True) \n",
    "data[\"price_per_m2\"].fillna(value=price_per_m2_new, inplace=True) \n",
    "\n"
   ]
  },
  {
   "cell_type": "markdown",
   "metadata": {},
   "source": [
    "#### Cálculo de superficies"
   ]
  },
  {
   "cell_type": "markdown",
   "metadata": {},
   "source": [
    "Calculamos la superficie a partir de los precios en ambas monedas y el correspondiente por m2"
   ]
  },
  {
   "cell_type": "code",
   "execution_count": 176,
   "metadata": {},
   "outputs": [],
   "source": [
    "surface_total_in_m2_new= data[\"price_aprox_usd\"]/data['price_usd_per_m2']\n",
    "surface_covered_in_m2_new= data[\"price\"]/data['price_per_m2']\n",
    "                                          \n",
    "data[\"surface_total_in_m2\"].fillna(value=surface_total_in_m2_new, inplace=True)\n",
    "data[\"surface_covered_in_m2\"].fillna(value=surface_covered_in_m2_new, inplace=True)\n",
    "\n",
    "# for tipo,limites_tot,limites_cub in zip(property_type,sup_tot_limits,sup_cub_limits):\n",
    "#     for i in range(len(limites_tot)):       \n",
    "#         data.loc[(data['property_type']==str(tipo))&(data['surface_total_in_m2']>limites_tot[i][1]),'surface_total_in_m2']=np.nan\n",
    "#         data.loc[(data['property_type']==str(tipo))&(data['surface_covered_in_m2']>limites_cub[i][1]),'surface_covered_in_m2']=np.nan\n",
    "#         data.loc[(data['property_type']==str(tipo))&(data['surface_total_in_m2']<limites_tot[i][0]),'surface_total_in_m2']=np.nan\n",
    "#         data.loc[(data['property_type']==str(tipo))&(data['surface_covered_in_m2']<limites_cub[i][0]),'surface_covered_in_m2']=np.nan"
   ]
  },
  {
   "cell_type": "markdown",
   "metadata": {},
   "source": [
    "#### Cálculo de los precios (Columnas \"price\" y \"price_aprox_usd\"  a partir de los correspondientes precios por m2 "
   ]
  },
  {
   "cell_type": "code",
   "execution_count": 177,
   "metadata": {},
   "outputs": [],
   "source": [
    "price_aprox_usd_new=data['price_usd_per_m2']*data[\"surface_total_in_m2\"]\n",
    "data[\"price_aprox_usd\"].fillna(value=price_aprox_usd_new, inplace=True)"
   ]
  },
  {
   "cell_type": "code",
   "execution_count": 178,
   "metadata": {},
   "outputs": [],
   "source": [
    "price_new=data['price_per_m2']*data[\"surface_covered_in_m2\"]\n",
    "values_price = {'price': price_new, 'currency': 'USD'}\n",
    "data[\"price\"].fillna(value=values_price, inplace=True)"
   ]
  },
  {
   "cell_type": "markdown",
   "metadata": {},
   "source": [
    "#### Cálculo del precio por m2 en pesos a partir del precio y superficie (operación inversa)"
   ]
  },
  {
   "cell_type": "code",
   "execution_count": 179,
   "metadata": {},
   "outputs": [],
   "source": [
    "price_usd_per_m2_new= data[\"price_aprox_usd\"]/data['surface_total_in_m2']\n",
    "price_per_m2_new= data[\"price\"]/data['surface_covered_in_m2']\n",
    "\n",
    "data[\"price_usd_per_m2\"].fillna(value=price_usd_per_m2_new, inplace=True)\n",
    "data[\"price_per_m2\"].fillna(value=price_per_m2_new, inplace=True) \n"
   ]
  },
  {
   "cell_type": "markdown",
   "metadata": {},
   "source": [
    "# Columna 'expenses'\n",
    "\n",
    "La columna de expensas tenía más de 100.000 datos faltantes. Se intentó hacer una búsqueda de esos datos, pero sin mucho éxito (no se pudieron recuperar los suficientes). Además, tomando en cuenta que para el modelo de regresión no tiene valor, se decidió dropear toda esta columna."
   ]
  },
  {
   "cell_type": "markdown",
   "metadata": {},
   "source": [
    "## Limpieza Final\n",
    "\n",
    "Eliminar columnas que no servirán para el siguiente desafío (regresión).\n",
    "Eliminar datos nulos.\n",
    "Guardar en un csv los datos limpios."
   ]
  },
  {
   "cell_type": "code",
   "execution_count": 180,
   "metadata": {},
   "outputs": [
    {
     "data": {
      "text/plain": [
       "Index(['operation', 'property_type', 'place_name', 'place_with_parent_names',\n",
       "       'country_name', 'state_name', 'geonames_id', 'lat-lon', 'lat', 'lon',\n",
       "       'price', 'currency', 'price_aprox_local_currency', 'price_aprox_usd',\n",
       "       'surface_total_in_m2', 'surface_covered_in_m2', 'price_usd_per_m2',\n",
       "       'price_per_m2', 'floor', 'rooms', 'expenses', 'properati_url',\n",
       "       'description', 'title', 'image_thumbnail', 'cochera', 'gimnasio',\n",
       "       'piscina', 'SUM', 'laundry', 'balcon', 'patio', 'construction_index'],\n",
       "      dtype='object')"
      ]
     },
     "execution_count": 180,
     "metadata": {},
     "output_type": "execute_result"
    }
   ],
   "source": [
    "data.columns"
   ]
  },
  {
   "cell_type": "code",
   "execution_count": 181,
   "metadata": {
    "scrolled": false
   },
   "outputs": [
    {
     "data": {
      "text/html": [
       "<div>\n",
       "<style scoped>\n",
       "    .dataframe tbody tr th:only-of-type {\n",
       "        vertical-align: middle;\n",
       "    }\n",
       "\n",
       "    .dataframe tbody tr th {\n",
       "        vertical-align: top;\n",
       "    }\n",
       "\n",
       "    .dataframe thead th {\n",
       "        text-align: right;\n",
       "    }\n",
       "</style>\n",
       "<table border=\"1\" class=\"dataframe\">\n",
       "  <thead>\n",
       "    <tr style=\"text-align: right;\">\n",
       "      <th></th>\n",
       "      <th>index</th>\n",
       "      <th>operation</th>\n",
       "      <th>property_type</th>\n",
       "      <th>place_name</th>\n",
       "      <th>place_with_parent_names</th>\n",
       "      <th>country_name</th>\n",
       "      <th>state_name</th>\n",
       "      <th>price</th>\n",
       "      <th>currency</th>\n",
       "      <th>price_aprox_local_currency</th>\n",
       "      <th>...</th>\n",
       "      <th>price_per_m2</th>\n",
       "      <th>floor</th>\n",
       "      <th>rooms</th>\n",
       "      <th>cochera</th>\n",
       "      <th>gimnasio</th>\n",
       "      <th>piscina</th>\n",
       "      <th>SUM</th>\n",
       "      <th>laundry</th>\n",
       "      <th>balcon</th>\n",
       "      <th>patio</th>\n",
       "    </tr>\n",
       "  </thead>\n",
       "  <tbody>\n",
       "    <tr>\n",
       "      <th>0</th>\n",
       "      <td>0</td>\n",
       "      <td>sell</td>\n",
       "      <td>PH</td>\n",
       "      <td>Mataderos</td>\n",
       "      <td>|Argentina|Capital Federal|Mataderos|</td>\n",
       "      <td>Argentina</td>\n",
       "      <td>Capital Federal</td>\n",
       "      <td>62000</td>\n",
       "      <td>USD</td>\n",
       "      <td>1093959.0</td>\n",
       "      <td>...</td>\n",
       "      <td>1550.000000</td>\n",
       "      <td>0.0</td>\n",
       "      <td>2.0</td>\n",
       "      <td>0.0</td>\n",
       "      <td>0.0</td>\n",
       "      <td>0.0</td>\n",
       "      <td>0.0</td>\n",
       "      <td>1.0</td>\n",
       "      <td>0.0</td>\n",
       "      <td>1.0</td>\n",
       "    </tr>\n",
       "    <tr>\n",
       "      <th>1</th>\n",
       "      <td>1</td>\n",
       "      <td>sell</td>\n",
       "      <td>PH</td>\n",
       "      <td>Mataderos</td>\n",
       "      <td>|Argentina|Capital Federal|Mataderos|</td>\n",
       "      <td>Argentina</td>\n",
       "      <td>Capital Federal</td>\n",
       "      <td>239000</td>\n",
       "      <td>USD</td>\n",
       "      <td>4217035.5</td>\n",
       "      <td>...</td>\n",
       "      <td>2438.775510</td>\n",
       "      <td>0.0</td>\n",
       "      <td>4.0</td>\n",
       "      <td>0.0</td>\n",
       "      <td>0.0</td>\n",
       "      <td>0.0</td>\n",
       "      <td>0.0</td>\n",
       "      <td>0.0</td>\n",
       "      <td>0.0</td>\n",
       "      <td>0.0</td>\n",
       "    </tr>\n",
       "    <tr>\n",
       "      <th>2</th>\n",
       "      <td>2</td>\n",
       "      <td>sell</td>\n",
       "      <td>PH</td>\n",
       "      <td>Mataderos</td>\n",
       "      <td>|Argentina|Capital Federal|Mataderos|</td>\n",
       "      <td>Argentina</td>\n",
       "      <td>Capital Federal</td>\n",
       "      <td>53000</td>\n",
       "      <td>USD</td>\n",
       "      <td>935158.5</td>\n",
       "      <td>...</td>\n",
       "      <td>1892.857143</td>\n",
       "      <td>0.0</td>\n",
       "      <td>1.0</td>\n",
       "      <td>0.0</td>\n",
       "      <td>0.0</td>\n",
       "      <td>0.0</td>\n",
       "      <td>0.0</td>\n",
       "      <td>0.0</td>\n",
       "      <td>0.0</td>\n",
       "      <td>0.0</td>\n",
       "    </tr>\n",
       "    <tr>\n",
       "      <th>3</th>\n",
       "      <td>3</td>\n",
       "      <td>sell</td>\n",
       "      <td>PH</td>\n",
       "      <td>Mataderos</td>\n",
       "      <td>|Argentina|Capital Federal|Mataderos|</td>\n",
       "      <td>Argentina</td>\n",
       "      <td>Capital Federal</td>\n",
       "      <td>245000</td>\n",
       "      <td>USD</td>\n",
       "      <td>4322902.5</td>\n",
       "      <td>...</td>\n",
       "      <td>1531.250000</td>\n",
       "      <td>0.0</td>\n",
       "      <td>4.0</td>\n",
       "      <td>0.0</td>\n",
       "      <td>0.0</td>\n",
       "      <td>1.0</td>\n",
       "      <td>0.0</td>\n",
       "      <td>1.0</td>\n",
       "      <td>0.0</td>\n",
       "      <td>1.0</td>\n",
       "    </tr>\n",
       "    <tr>\n",
       "      <th>4</th>\n",
       "      <td>4</td>\n",
       "      <td>sell</td>\n",
       "      <td>PH</td>\n",
       "      <td>Mataderos</td>\n",
       "      <td>|Argentina|Capital Federal|Mataderos|</td>\n",
       "      <td>Argentina</td>\n",
       "      <td>Capital Federal</td>\n",
       "      <td>165000</td>\n",
       "      <td>USD</td>\n",
       "      <td>2911342.5</td>\n",
       "      <td>...</td>\n",
       "      <td>1100.000000</td>\n",
       "      <td>0.0</td>\n",
       "      <td>3.0</td>\n",
       "      <td>0.0</td>\n",
       "      <td>0.0</td>\n",
       "      <td>0.0</td>\n",
       "      <td>0.0</td>\n",
       "      <td>0.0</td>\n",
       "      <td>0.0</td>\n",
       "      <td>0.0</td>\n",
       "    </tr>\n",
       "  </tbody>\n",
       "</table>\n",
       "<p>5 rows × 24 columns</p>\n",
       "</div>"
      ],
      "text/plain": [
       "   index operation property_type place_name  \\\n",
       "0      0      sell            PH  Mataderos   \n",
       "1      1      sell            PH  Mataderos   \n",
       "2      2      sell            PH  Mataderos   \n",
       "3      3      sell            PH  Mataderos   \n",
       "4      4      sell            PH  Mataderos   \n",
       "\n",
       "                 place_with_parent_names country_name       state_name  \\\n",
       "0  |Argentina|Capital Federal|Mataderos|    Argentina  Capital Federal   \n",
       "1  |Argentina|Capital Federal|Mataderos|    Argentina  Capital Federal   \n",
       "2  |Argentina|Capital Federal|Mataderos|    Argentina  Capital Federal   \n",
       "3  |Argentina|Capital Federal|Mataderos|    Argentina  Capital Federal   \n",
       "4  |Argentina|Capital Federal|Mataderos|    Argentina  Capital Federal   \n",
       "\n",
       "    price currency  price_aprox_local_currency  ...    price_per_m2  floor  \\\n",
       "0   62000      USD                   1093959.0  ...     1550.000000    0.0   \n",
       "1  239000      USD                   4217035.5  ...     2438.775510    0.0   \n",
       "2   53000      USD                    935158.5  ...     1892.857143    0.0   \n",
       "3  245000      USD                   4322902.5  ...     1531.250000    0.0   \n",
       "4  165000      USD                   2911342.5  ...     1100.000000    0.0   \n",
       "\n",
       "   rooms  cochera  gimnasio  piscina  SUM  laundry  balcon  patio  \n",
       "0    2.0      0.0       0.0      0.0  0.0      1.0     0.0    1.0  \n",
       "1    4.0      0.0       0.0      0.0  0.0      0.0     0.0    0.0  \n",
       "2    1.0      0.0       0.0      0.0  0.0      0.0     0.0    0.0  \n",
       "3    4.0      0.0       0.0      1.0  0.0      1.0     0.0    1.0  \n",
       "4    3.0      0.0       0.0      0.0  0.0      0.0     0.0    0.0  \n",
       "\n",
       "[5 rows x 24 columns]"
      ]
     },
     "execution_count": 181,
     "metadata": {},
     "output_type": "execute_result"
    }
   ],
   "source": [
    "data2 = data.copy()\n",
    "\n",
    "data3 = data2.drop(['geonames_id','lat-lon','lat','lon','expenses','image_thumbnail','construction_index','title','description','properati_url'],axis=1).dropna().copy()\n",
    "\n",
    "data3.reset_index(inplace=True)\n",
    "\n",
    "data3.to_csv('../Data/properati_clean.csv')\n",
    "\n",
    "data3.head()"
   ]
  },
  {
   "cell_type": "code",
   "execution_count": 182,
   "metadata": {},
   "outputs": [
    {
     "data": {
      "text/plain": [
       "(71603, 24)"
      ]
     },
     "execution_count": 182,
     "metadata": {},
     "output_type": "execute_result"
    }
   ],
   "source": [
    "data3.shape"
   ]
  },
  {
   "cell_type": "code",
   "execution_count": 183,
   "metadata": {},
   "outputs": [
    {
     "data": {
      "text/plain": [
       "sell    71603\n",
       "Name: operation, dtype: int64"
      ]
     },
     "execution_count": 183,
     "metadata": {},
     "output_type": "execute_result"
    }
   ],
   "source": [
    "data3.operation.value_counts()"
   ]
  },
  {
   "cell_type": "code",
   "execution_count": 184,
   "metadata": {},
   "outputs": [
    {
     "data": {
      "text/plain": [
       "USD    63484\n",
       "ARS     8119\n",
       "Name: currency, dtype: int64"
      ]
     },
     "execution_count": 184,
     "metadata": {},
     "output_type": "execute_result"
    }
   ],
   "source": [
    "data3.currency.value_counts()"
   ]
  },
  {
   "cell_type": "code",
   "execution_count": 185,
   "metadata": {},
   "outputs": [
    {
     "data": {
      "text/plain": [
       "Argentina    71603\n",
       "Name: country_name, dtype: int64"
      ]
     },
     "execution_count": 185,
     "metadata": {},
     "output_type": "execute_result"
    }
   ],
   "source": [
    "data3.country_name.value_counts()"
   ]
  },
  {
   "cell_type": "code",
   "execution_count": null,
   "metadata": {},
   "outputs": [],
   "source": []
  }
 ],
 "metadata": {
  "kernelspec": {
   "display_name": "Python 3",
   "language": "python",
   "name": "python3"
  },
  "language_info": {
   "codemirror_mode": {
    "name": "ipython",
    "version": 3
   },
   "file_extension": ".py",
   "mimetype": "text/x-python",
   "name": "python",
   "nbconvert_exporter": "python",
   "pygments_lexer": "ipython3",
   "version": "3.7.3"
  }
 },
 "nbformat": 4,
 "nbformat_minor": 2
}
